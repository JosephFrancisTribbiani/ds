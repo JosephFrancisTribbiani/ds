{
 "cells": [
  {
   "cell_type": "markdown",
   "id": "f2d203e1",
   "metadata": {},
   "source": [
    "# Quadratic Function Optimization (simple example)"
   ]
  },
  {
   "cell_type": "markdown",
   "id": "14ab5f68",
   "metadata": {},
   "source": [
    "## Imports"
   ]
  },
  {
   "cell_type": "code",
   "execution_count": 31,
   "id": "56fc8b82",
   "metadata": {
    "ExecuteTime": {
     "end_time": "2022-05-24T11:56:08.627777Z",
     "start_time": "2022-05-24T11:56:08.624586Z"
    }
   },
   "outputs": [],
   "source": [
    "import optuna"
   ]
  },
  {
   "cell_type": "markdown",
   "id": "0da00f42",
   "metadata": {},
   "source": [
    "## Optimization"
   ]
  },
  {
   "cell_type": "code",
   "execution_count": 11,
   "id": "3b0c5035",
   "metadata": {
    "ExecuteTime": {
     "end_time": "2022-05-24T11:32:50.307037Z",
     "start_time": "2022-05-24T11:32:49.549718Z"
    }
   },
   "outputs": [
    {
     "name": "stderr",
     "output_type": "stream",
     "text": [
      "[I 2022-05-24 11:32:49,552] A new study created in memory with name: no-name-ab7eeb4d-6913-4abf-ab08-a28aba9bc63b\n"
     ]
    },
    {
     "data": {
      "application/vnd.jupyter.widget-view+json": {
       "model_id": "9279c13dd9fb4faf89943a6992cfca26",
       "version_major": 2,
       "version_minor": 0
      },
      "text/plain": [
       "HBox(children=(IntProgress(value=0), HTML(value='')))"
      ]
     },
     "metadata": {},
     "output_type": "display_data"
    },
    {
     "name": "stdout",
     "output_type": "stream",
     "text": [
      "[I 2022-05-24 11:32:49,578] Trial 0 finished with value: 55.19601315820601 and parameters: {'x': -5.429401938124361}. Best is trial 0 with value: 55.19601315820601.\n",
      "[I 2022-05-24 11:32:49,582] Trial 1 finished with value: 11.159622260268167 and parameters: {'x': -1.3406020805040768}. Best is trial 1 with value: 11.159622260268167.\n",
      "[I 2022-05-24 11:32:49,587] Trial 2 finished with value: 45.01120065852913 and parameters: {'x': -4.709038728352157}. Best is trial 1 with value: 11.159622260268167.\n",
      "[I 2022-05-24 11:32:49,592] Trial 3 finished with value: 64.33598106911099 and parameters: {'x': -6.0209713295280505}. Best is trial 1 with value: 11.159622260268167.\n",
      "[I 2022-05-24 11:32:49,597] Trial 4 finished with value: 140.05501471293223 and parameters: {'x': -9.83448413379021}. Best is trial 1 with value: 11.159622260268167.\n",
      "[I 2022-05-24 11:32:49,602] Trial 5 finished with value: 26.643709851217654 and parameters: {'x': 7.161754532251379}. Best is trial 1 with value: 11.159622260268167.\n",
      "[I 2022-05-24 11:32:49,607] Trial 6 finished with value: 43.05070753730131 and parameters: {'x': 8.561303798583122}. Best is trial 1 with value: 11.159622260268167.\n",
      "[I 2022-05-24 11:32:49,611] Trial 7 finished with value: 35.67112265050065 and parameters: {'x': 7.972530673885288}. Best is trial 1 with value: 11.159622260268167.\n",
      "[I 2022-05-24 11:32:49,616] Trial 8 finished with value: 36.011469359515644 and parameters: {'x': -4.0009557038454835}. Best is trial 1 with value: 11.159622260268167.\n",
      "[I 2022-05-24 11:32:49,621] Trial 9 finished with value: 43.90017197525719 and parameters: {'x': -4.625720487257004}. Best is trial 1 with value: 11.159622260268167.\n",
      "[I 2022-05-24 11:32:49,628] Trial 10 finished with value: 0.11598587617277965 and parameters: {'x': 2.3405669921950447}. Best is trial 10 with value: 0.11598587617277965.\n",
      "[I 2022-05-24 11:32:49,635] Trial 11 finished with value: 0.12261474158854617 and parameters: {'x': 1.6498361218107354}. Best is trial 10 with value: 0.11598587617277965.\n",
      "[I 2022-05-24 11:32:49,641] Trial 12 finished with value: 3.0652580669326017 and parameters: {'x': 3.750787841782265}. Best is trial 10 with value: 0.11598587617277965.\n",
      "[I 2022-05-24 11:32:49,648] Trial 13 finished with value: 0.11178371121974807 and parameters: {'x': 2.3343407112807952}. Best is trial 13 with value: 0.11178371121974807.\n",
      "[I 2022-05-24 11:32:49,656] Trial 14 finished with value: 6.202746879511854 and parameters: {'x': 4.490531445196357}. Best is trial 13 with value: 0.11178371121974807.\n",
      "[I 2022-05-24 11:32:49,664] Trial 15 finished with value: 1.6172783522068919 and parameters: {'x': 0.7282774075267469}. Best is trial 13 with value: 0.11178371121974807.\n",
      "[I 2022-05-24 11:32:49,670] Trial 16 finished with value: 5.671278446571343 and parameters: {'x': 4.381444613374693}. Best is trial 13 with value: 0.11178371121974807.\n",
      "[I 2022-05-24 11:32:49,677] Trial 17 finished with value: 6.284887902913267 and parameters: {'x': -0.5069678703392406}. Best is trial 13 with value: 0.11178371121974807.\n",
      "[I 2022-05-24 11:32:49,686] Trial 18 finished with value: 0.30498838001838396 and parameters: {'x': 2.5522575305221142}. Best is trial 13 with value: 0.11178371121974807.\n",
      "[I 2022-05-24 11:32:49,692] Trial 19 finished with value: 18.929483865489637 and parameters: {'x': -2.3508026691048207}. Best is trial 13 with value: 0.11178371121974807.\n",
      "[I 2022-05-24 11:32:49,699] Trial 20 finished with value: 12.57999654063938 and parameters: {'x': 5.546829082524189}. Best is trial 13 with value: 0.11178371121974807.\n",
      "[I 2022-05-24 11:32:49,706] Trial 21 finished with value: 1.9292008117627326 and parameters: {'x': 0.611043264978087}. Best is trial 13 with value: 0.11178371121974807.\n",
      "[I 2022-05-24 11:32:49,713] Trial 22 finished with value: 0.0024390151959499747 and parameters: {'x': 1.9506136132527396}. Best is trial 22 with value: 0.0024390151959499747.\n",
      "[I 2022-05-24 11:32:49,719] Trial 23 finished with value: 0.0709621579266108 and parameters: {'x': 2.266387233039819}. Best is trial 22 with value: 0.0024390151959499747.\n",
      "[I 2022-05-24 11:32:49,727] Trial 24 finished with value: 16.710892251079226 and parameters: {'x': 6.0878958219454695}. Best is trial 22 with value: 0.0024390151959499747.\n",
      "[I 2022-05-24 11:32:49,734] Trial 25 finished with value: 15.553637763422827 and parameters: {'x': -1.9438100567120151}. Best is trial 22 with value: 0.0024390151959499747.\n",
      "[I 2022-05-24 11:32:49,742] Trial 26 finished with value: 1.4242890436930082 and parameters: {'x': 3.19343581465155}. Best is trial 22 with value: 0.0024390151959499747.\n",
      "[I 2022-05-24 11:32:49,752] Trial 27 finished with value: 0.7300109085083573 and parameters: {'x': 1.1455932417704333}. Best is trial 22 with value: 0.0024390151959499747.\n",
      "[I 2022-05-24 11:32:49,760] Trial 28 finished with value: 55.8009364946749 and parameters: {'x': 9.470002442748925}. Best is trial 22 with value: 0.0024390151959499747.\n",
      "[I 2022-05-24 11:32:49,769] Trial 29 finished with value: 5.033236593705565 and parameters: {'x': -0.2434875960667946}. Best is trial 22 with value: 0.0024390151959499747.\n",
      "[I 2022-05-24 11:32:49,776] Trial 30 finished with value: 15.449642123729342 and parameters: {'x': 5.930603277326439}. Best is trial 22 with value: 0.0024390151959499747.\n",
      "[I 2022-05-24 11:32:49,784] Trial 31 finished with value: 0.27777387626963995 and parameters: {'x': 2.5270425753861256}. Best is trial 22 with value: 0.0024390151959499747.\n",
      "[I 2022-05-24 11:32:49,792] Trial 32 finished with value: 0.6772091183787703 and parameters: {'x': 2.8229271646863836}. Best is trial 22 with value: 0.0024390151959499747.\n",
      "[I 2022-05-24 11:32:49,802] Trial 33 finished with value: 0.004378317047624278 and parameters: {'x': 1.9338311474512042}. Best is trial 22 with value: 0.0024390151959499747.\n",
      "[I 2022-05-24 11:32:49,811] Trial 34 finished with value: 7.9150319709439785 and parameters: {'x': -0.8133666613052728}. Best is trial 22 with value: 0.0024390151959499747.\n",
      "[I 2022-05-24 11:32:49,820] Trial 35 finished with value: 26.20124781843248 and parameters: {'x': -3.118715446128304}. Best is trial 22 with value: 0.0024390151959499747.\n",
      "[I 2022-05-24 11:32:49,828] Trial 36 finished with value: 78.27294659059609 and parameters: {'x': -6.847199929389868}. Best is trial 22 with value: 0.0024390151959499747.\n",
      "[I 2022-05-24 11:32:49,835] Trial 37 finished with value: 7.418663596281 and parameters: {'x': 4.7237223787091445}. Best is trial 22 with value: 0.0024390151959499747.\n",
      "[I 2022-05-24 11:32:49,843] Trial 38 finished with value: 0.10303940070705028 and parameters: {'x': 1.6790024911201797}. Best is trial 22 with value: 0.0024390151959499747.\n",
      "[I 2022-05-24 11:32:49,849] Trial 39 finished with value: 0.2162879501225281 and parameters: {'x': 1.5349323166220554}. Best is trial 22 with value: 0.0024390151959499747.\n",
      "[I 2022-05-24 11:32:49,857] Trial 40 finished with value: 10.476033723610266 and parameters: {'x': -1.2366701598417882}. Best is trial 22 with value: 0.0024390151959499747.\n",
      "[I 2022-05-24 11:32:49,865] Trial 41 finished with value: 3.314086386701508 and parameters: {'x': 3.820463234097714}. Best is trial 22 with value: 0.0024390151959499747.\n",
      "[I 2022-05-24 11:32:49,873] Trial 42 finished with value: 2.4301614507749094 and parameters: {'x': 0.441102488687948}. Best is trial 22 with value: 0.0024390151959499747.\n",
      "[I 2022-05-24 11:32:49,880] Trial 43 finished with value: 0.011520145593480092 and parameters: {'x': 1.8926680588385727}. Best is trial 22 with value: 0.0024390151959499747.\n",
      "[I 2022-05-24 11:32:49,887] Trial 44 finished with value: 0.2661263232716479 and parameters: {'x': 1.4841256710480275}. Best is trial 22 with value: 0.0024390151959499747.\n",
      "[I 2022-05-24 11:32:49,896] Trial 45 finished with value: 3.2075261663313066 and parameters: {'x': 0.20904322600144631}. Best is trial 22 with value: 0.0024390151959499747.\n",
      "[I 2022-05-24 11:32:49,903] Trial 46 finished with value: 2.8710428506052215 and parameters: {'x': 3.694415194279496}. Best is trial 22 with value: 0.0024390151959499747.\n",
      "[I 2022-05-24 11:32:49,911] Trial 47 finished with value: 0.04593940801433932 and parameters: {'x': 1.785665196446449}. Best is trial 22 with value: 0.0024390151959499747.\n",
      "[I 2022-05-24 11:32:49,919] Trial 48 finished with value: 12.148054002073243 and parameters: {'x': 5.485405859017461}. Best is trial 22 with value: 0.0024390151959499747.\n",
      "[I 2022-05-24 11:32:49,926] Trial 49 finished with value: 22.28212328396898 and parameters: {'x': 6.720394399196849}. Best is trial 22 with value: 0.0024390151959499747.\n",
      "[I 2022-05-24 11:32:49,934] Trial 50 finished with value: 0.0002552779062949687 and parameters: {'x': 1.9840225813632186}. Best is trial 50 with value: 0.0002552779062949687.\n",
      "[I 2022-05-24 11:32:49,942] Trial 51 finished with value: 0.0004414482231880112 and parameters: {'x': 1.9789893307296504}. Best is trial 50 with value: 0.0002552779062949687.\n",
      "[I 2022-05-24 11:32:49,950] Trial 52 finished with value: 2.1832667838927673 and parameters: {'x': 3.477588164507542}. Best is trial 50 with value: 0.0002552779062949687.\n",
      "[I 2022-05-24 11:32:49,958] Trial 53 finished with value: 0.00611248602401139 and parameters: {'x': 1.9218176105250588}. Best is trial 50 with value: 0.0002552779062949687.\n",
      "[I 2022-05-24 11:32:49,965] Trial 54 finished with value: 8.401685130442154 and parameters: {'x': 4.898566047279612}. Best is trial 50 with value: 0.0002552779062949687.\n",
      "[I 2022-05-24 11:32:49,974] Trial 55 finished with value: 1.3110630747357253 and parameters: {'x': 0.8549833735985641}. Best is trial 50 with value: 0.0002552779062949687.\n",
      "[I 2022-05-24 11:32:49,981] Trial 56 finished with value: 3.8631826360670325 and parameters: {'x': 0.034501936895629415}. Best is trial 50 with value: 0.0002552779062949687.\n",
      "[I 2022-05-24 11:32:49,988] Trial 57 finished with value: 1.3432079547119402 and parameters: {'x': 3.158968487367944}. Best is trial 50 with value: 0.0002552779062949687.\n",
      "[I 2022-05-24 11:32:49,996] Trial 58 finished with value: 0.07905112108173674 and parameters: {'x': 2.2811603120672204}. Best is trial 50 with value: 0.0002552779062949687.\n",
      "[I 2022-05-24 11:32:50,003] Trial 59 finished with value: 13.890296404542292 and parameters: {'x': -1.7269687957564515}. Best is trial 50 with value: 0.0002552779062949687.\n",
      "[I 2022-05-24 11:32:50,010] Trial 60 finished with value: 5.250748408157763 and parameters: {'x': 4.291451157707221}. Best is trial 50 with value: 0.0002552779062949687.\n",
      "[I 2022-05-24 11:32:50,018] Trial 61 finished with value: 0.010897060921409336 and parameters: {'x': 1.895611011493504}. Best is trial 50 with value: 0.0002552779062949687.\n",
      "[I 2022-05-24 11:32:50,025] Trial 62 finished with value: 0.9963732784705823 and parameters: {'x': 1.001815007891532}. Best is trial 50 with value: 0.0002552779062949687.\n",
      "[I 2022-05-24 11:32:50,031] Trial 63 finished with value: 0.006803599087802954 and parameters: {'x': 2.0824839323008}. Best is trial 50 with value: 0.0002552779062949687.\n",
      "[I 2022-05-24 11:32:50,038] Trial 64 finished with value: 8.101503963030869 and parameters: {'x': -0.8463141012598852}. Best is trial 50 with value: 0.0002552779062949687.\n",
      "[I 2022-05-24 11:32:50,045] Trial 65 finished with value: 0.27869705141614004 and parameters: {'x': 2.527917655904915}. Best is trial 50 with value: 0.0002552779062949687.\n",
      "[I 2022-05-24 11:32:50,052] Trial 66 finished with value: 1.0008117149555409 and parameters: {'x': 3.000405775151034}. Best is trial 50 with value: 0.0002552779062949687.\n",
      "[I 2022-05-24 11:32:50,059] Trial 67 finished with value: 1.0090848337986023 and parameters: {'x': 0.9954678532776553}. Best is trial 50 with value: 0.0002552779062949687.\n",
      "[I 2022-05-24 11:32:50,066] Trial 68 finished with value: 5.654447802366346 and parameters: {'x': -0.3779082830013327}. Best is trial 50 with value: 0.0002552779062949687.\n",
      "[I 2022-05-24 11:32:50,075] Trial 69 finished with value: 4.918874821033779 and parameters: {'x': 4.217853651852119}. Best is trial 50 with value: 0.0002552779062949687.\n",
      "[I 2022-05-24 11:32:50,080] Trial 70 finished with value: 0.015944552962538713 and parameters: {'x': 2.126271742533865}. Best is trial 50 with value: 0.0002552779062949687.\n",
      "[I 2022-05-24 11:32:50,088] Trial 71 finished with value: 0.012231677150116561 and parameters: {'x': 1.8894030870678726}. Best is trial 50 with value: 0.0002552779062949687.\n",
      "[I 2022-05-24 11:32:50,094] Trial 72 finished with value: 0.47017949856277763 and parameters: {'x': 1.3143036396751273}. Best is trial 50 with value: 0.0002552779062949687.\n",
      "[I 2022-05-24 11:32:50,101] Trial 73 finished with value: 0.9641740067892838 and parameters: {'x': 2.9819236257414747}. Best is trial 50 with value: 0.0002552779062949687.\n",
      "[I 2022-05-24 11:32:50,108] Trial 74 finished with value: 3.00496655503379 and parameters: {'x': 0.26651606438542674}. Best is trial 50 with value: 0.0002552779062949687.\n",
      "[I 2022-05-24 11:32:50,114] Trial 75 finished with value: 3.4827281153073835 and parameters: {'x': 3.866206879021558}. Best is trial 50 with value: 0.0002552779062949687.\n",
      "[I 2022-05-24 11:32:50,121] Trial 76 finished with value: 0.0011272132325517398 and parameters: {'x': 2.0335739963744524}. Best is trial 50 with value: 0.0002552779062949687.\n",
      "[I 2022-05-24 11:32:50,128] Trial 77 finished with value: 0.5629515002864562 and parameters: {'x': 2.7503009398144562}. Best is trial 50 with value: 0.0002552779062949687.\n",
      "[I 2022-05-24 11:32:50,134] Trial 78 finished with value: 1.9395010525823595 and parameters: {'x': 0.6073402954840836}. Best is trial 50 with value: 0.0002552779062949687.\n",
      "[I 2022-05-24 11:32:50,141] Trial 79 finished with value: 10.59381876562032 and parameters: {'x': 5.2548147052666945}. Best is trial 50 with value: 0.0002552779062949687.\n",
      "[I 2022-05-24 11:32:50,148] Trial 80 finished with value: 1.7095273788833933 and parameters: {'x': 3.307488959373422}. Best is trial 50 with value: 0.0002552779062949687.\n",
      "[I 2022-05-24 11:32:50,156] Trial 81 finished with value: 4.505990333475163e-09 and parameters: {'x': 2.0000671266737853}. Best is trial 81 with value: 4.505990333475163e-09.\n",
      "[I 2022-05-24 11:32:50,165] Trial 82 finished with value: 0.434545895924822 and parameters: {'x': 1.3407990473878075}. Best is trial 81 with value: 4.505990333475163e-09.\n",
      "[I 2022-05-24 11:32:50,174] Trial 83 finished with value: 0.0314814999573126 and parameters: {'x': 2.1774302678725155}. Best is trial 81 with value: 4.505990333475163e-09.\n",
      "[I 2022-05-24 11:32:50,185] Trial 84 finished with value: 0.4023753636940784 and parameters: {'x': 2.6343306422474626}. Best is trial 81 with value: 4.505990333475163e-09.\n",
      "[I 2022-05-24 11:32:50,191] Trial 85 finished with value: 0.12768805939761588 and parameters: {'x': 1.6426653397757}. Best is trial 81 with value: 4.505990333475163e-09.\n",
      "[I 2022-05-24 11:32:50,198] Trial 86 finished with value: 1.7879802106401086 and parameters: {'x': 0.6628462277508587}. Best is trial 81 with value: 4.505990333475163e-09.\n",
      "[I 2022-05-24 11:32:50,206] Trial 87 finished with value: 4.00523357114713 and parameters: {'x': -0.0013079650936111964}. Best is trial 81 with value: 4.505990333475163e-09.\n",
      "[I 2022-05-24 11:32:50,214] Trial 88 finished with value: 139.99668813721 and parameters: {'x': -9.832019613625139}. Best is trial 81 with value: 4.505990333475163e-09.\n",
      "[I 2022-05-24 11:32:50,221] Trial 89 finished with value: 7.431366490534453 and parameters: {'x': -0.7260532809419653}. Best is trial 81 with value: 4.505990333475163e-09.\n",
      "[I 2022-05-24 11:32:50,229] Trial 90 finished with value: 4.341919468665649 and parameters: {'x': 4.083727301895728}. Best is trial 81 with value: 4.505990333475163e-09.\n",
      "[I 2022-05-24 11:32:50,236] Trial 91 finished with value: 0.09908004939718618 and parameters: {'x': 1.6852301644102692}. Best is trial 81 with value: 4.505990333475163e-09.\n",
      "[I 2022-05-24 11:32:50,244] Trial 92 finished with value: 2.1427629064881875 and parameters: {'x': 3.4638179212211426}. Best is trial 81 with value: 4.505990333475163e-09.\n",
      "[I 2022-05-24 11:32:50,252] Trial 93 finished with value: 0.00024154680763736539 and parameters: {'x': 2.0155417762059993}. Best is trial 81 with value: 4.505990333475163e-09.\n",
      "[I 2022-05-24 11:32:50,259] Trial 94 finished with value: 0.07386681348505587 and parameters: {'x': 2.271784498242736}. Best is trial 81 with value: 4.505990333475163e-09.\n"
     ]
    },
    {
     "name": "stdout",
     "output_type": "stream",
     "text": [
      "[I 2022-05-24 11:32:50,267] Trial 95 finished with value: 0.7327617492973211 and parameters: {'x': 2.856015040345274}. Best is trial 81 with value: 4.505990333475163e-09.\n",
      "[I 2022-05-24 11:32:50,275] Trial 96 finished with value: 0.6584683515806934 and parameters: {'x': 1.188539371515356}. Best is trial 81 with value: 4.505990333475163e-09.\n",
      "[I 2022-05-24 11:32:50,284] Trial 97 finished with value: 0.01757096901038029 and parameters: {'x': 2.1325555317984892}. Best is trial 81 with value: 4.505990333475163e-09.\n",
      "[I 2022-05-24 11:32:50,290] Trial 98 finished with value: 0.9587592199303436 and parameters: {'x': 1.0208374905408482}. Best is trial 81 with value: 4.505990333475163e-09.\n",
      "[I 2022-05-24 11:32:50,298] Trial 99 finished with value: 7.767863260587714 and parameters: {'x': 4.787088671102467}. Best is trial 81 with value: 4.505990333475163e-09.\n",
      "\n"
     ]
    }
   ],
   "source": [
    "def objective(trial):\n",
    "    \"\"\"\n",
    "    Функция, минимум которой необходимо найти с помощью Optuna.\n",
    "    Очевидно, что минимальное значение функция примет при х == 2.\n",
    "    Посмотрим, как с этим справится Optuna.\n",
    "    \"\"\"\n",
    "    x = trial.suggest_float(\"x\", -10, 10)\n",
    "    return (x - 2) ** 2\n",
    "\n",
    "\n",
    "study = optuna.create_study(direction=\"minimize\")\n",
    "study.optimize(func=objective, n_trials=100, show_progress_bar=True)"
   ]
  },
  {
   "cell_type": "markdown",
   "id": "9d4888f6",
   "metadata": {},
   "source": [
    "Отобразим лучшие значения гиперпараметров (в данном случае у нас только параметр х):"
   ]
  },
  {
   "cell_type": "code",
   "execution_count": 16,
   "id": "c52dc823",
   "metadata": {
    "ExecuteTime": {
     "end_time": "2022-05-24T11:36:04.496097Z",
     "start_time": "2022-05-24T11:36:04.490871Z"
    }
   },
   "outputs": [
    {
     "data": {
      "text/plain": [
       "{'x': 2.0000671266737853}"
      ]
     },
     "execution_count": 16,
     "metadata": {},
     "output_type": "execute_result"
    }
   ],
   "source": [
    "study.best_params"
   ]
  },
  {
   "cell_type": "markdown",
   "id": "e84697e8",
   "metadata": {},
   "source": [
    "Отобразим значение функции при оптимальных гиперпараметрах:"
   ]
  },
  {
   "cell_type": "code",
   "execution_count": 17,
   "id": "0cb16513",
   "metadata": {
    "ExecuteTime": {
     "end_time": "2022-05-24T11:36:12.416049Z",
     "start_time": "2022-05-24T11:36:12.411167Z"
    }
   },
   "outputs": [
    {
     "data": {
      "text/plain": [
       "4.505990333475163e-09"
      ]
     },
     "execution_count": 17,
     "metadata": {},
     "output_type": "execute_result"
    }
   ],
   "source": [
    "study.best_value"
   ]
  },
  {
   "cell_type": "markdown",
   "id": "ee46d003",
   "metadata": {},
   "source": [
    "Лучший trial"
   ]
  },
  {
   "cell_type": "code",
   "execution_count": 18,
   "id": "057ec6e7",
   "metadata": {
    "ExecuteTime": {
     "end_time": "2022-05-24T11:36:38.179531Z",
     "start_time": "2022-05-24T11:36:38.174463Z"
    }
   },
   "outputs": [
    {
     "data": {
      "text/plain": [
       "FrozenTrial(number=81, value=4.505990333475163e-09, datetime_start=datetime.datetime(2022, 5, 24, 11, 32, 50, 153322), datetime_complete=datetime.datetime(2022, 5, 24, 11, 32, 50, 156344), params={'x': 2.0000671266737853}, distributions={'x': UniformDistribution(high=10, low=-10)}, user_attrs={}, system_attrs={}, intermediate_values={}, trial_id=81, state=TrialState.COMPLETE)"
      ]
     },
     "execution_count": 18,
     "metadata": {},
     "output_type": "execute_result"
    }
   ],
   "source": [
    "study.best_trial"
   ]
  },
  {
   "cell_type": "markdown",
   "id": "3bba84fb",
   "metadata": {},
   "source": [
    "Всего было trials при оптимизации"
   ]
  },
  {
   "cell_type": "code",
   "execution_count": 19,
   "id": "6d9caf88",
   "metadata": {
    "ExecuteTime": {
     "end_time": "2022-05-24T11:37:19.615268Z",
     "start_time": "2022-05-24T11:37:19.604004Z"
    }
   },
   "outputs": [
    {
     "data": {
      "text/plain": [
       "100"
      ]
     },
     "execution_count": 19,
     "metadata": {},
     "output_type": "execute_result"
    }
   ],
   "source": [
    "len(study.trials)"
   ]
  },
  {
   "cell_type": "markdown",
   "id": "7fb454ed",
   "metadata": {},
   "source": [
    "Можно продолжить оптимизацию с момента окончания предыдущей оптимизации"
   ]
  },
  {
   "cell_type": "code",
   "execution_count": 21,
   "id": "2983e7c4",
   "metadata": {
    "ExecuteTime": {
     "end_time": "2022-05-24T11:39:28.895095Z",
     "start_time": "2022-05-24T11:39:28.879051Z"
    }
   },
   "outputs": [
    {
     "name": "stdout",
     "output_type": "stream",
     "text": [
      "Best x: 2.0000671266737853\n",
      "N trials: 120\n"
     ]
    }
   ],
   "source": [
    "study.optimize(func=objective, n_trials=20, show_progress_bar=True)\n",
    "print(\"Best x: {}\".format(study.best_params['x']))\n",
    "print(\"N trials: {}\".format(len(study.trials)))"
   ]
  },
  {
   "cell_type": "markdown",
   "id": "d5577d20",
   "metadata": {},
   "source": [
    "**Аналогичным образом можно передать в качестве оптимизируемой функции - класс, прописав для него метод __call__**\n",
    "\n",
    "Пример ниже"
   ]
  },
  {
   "cell_type": "code",
   "execution_count": 27,
   "id": "d27eed35",
   "metadata": {
    "ExecuteTime": {
     "end_time": "2022-05-24T11:52:29.775397Z",
     "start_time": "2022-05-24T11:52:29.769375Z"
    }
   },
   "outputs": [],
   "source": [
    "class Objective():\n",
    "    def __init__(self, min_x: int = -10, max_x: int = 10):\n",
    "        self.min_x = min_x\n",
    "        self.max_x = max_x\n",
    "        return\n",
    "    \n",
    "    def __call__(self, trial):\n",
    "        x = trial.suggest_float(\"x\", self.min_x, self.max_x)\n",
    "        return self.quadratic_function(x=x)\n",
    "    \n",
    "    @staticmethod\n",
    "    def quadratic_function(x):\n",
    "        return (x - 5) ** 2"
   ]
  },
  {
   "cell_type": "code",
   "execution_count": 28,
   "id": "9019bb8f",
   "metadata": {
    "ExecuteTime": {
     "end_time": "2022-05-24T11:52:38.742594Z",
     "start_time": "2022-05-24T11:52:30.154551Z"
    }
   },
   "outputs": [
    {
     "name": "stderr",
     "output_type": "stream",
     "text": [
      "[I 2022-05-24 11:52:30,156] A new study created in memory with name: no-name-eaa136d5-2b56-4043-aec3-6108303c1d41\n",
      "/root/base_envs/python-3-7/lib/python3.7/site-packages/optuna/progress_bar.py:46: ExperimentalWarning:\n",
      "\n",
      "Progress bar is experimental (supported from v1.2.0). The interface can change in the future.\n",
      "\n"
     ]
    },
    {
     "data": {
      "application/vnd.jupyter.widget-view+json": {
       "model_id": "47dfae41f62543e79cd14d869c510c9c",
       "version_major": 2,
       "version_minor": 0
      },
      "text/plain": [
       "HBox(children=(IntProgress(value=0, max=1000), HTML(value='')))"
      ]
     },
     "metadata": {},
     "output_type": "display_data"
    },
    {
     "name": "stdout",
     "output_type": "stream",
     "text": [
      "[I 2022-05-24 11:52:30,183] Trial 0 finished with value: 220.91023480125415 and parameters: {'x': -9.863049310328421}. Best is trial 0 with value: 220.91023480125415.\n",
      "[I 2022-05-24 11:52:30,188] Trial 1 finished with value: 97.22315834652527 and parameters: {'x': -4.860180441884685}. Best is trial 1 with value: 97.22315834652527.\n",
      "[I 2022-05-24 11:52:30,193] Trial 2 finished with value: 9.3680575598244 and parameters: {'x': 1.9392717272151714}. Best is trial 2 with value: 9.3680575598244.\n",
      "[I 2022-05-24 11:52:30,198] Trial 3 finished with value: 5.267815134186829 and parameters: {'x': 7.295172136068846}. Best is trial 3 with value: 5.267815134186829.\n",
      "[I 2022-05-24 11:52:30,203] Trial 4 finished with value: 348.3741427042451 and parameters: {'x': -13.6647834893482}. Best is trial 3 with value: 5.267815134186829.\n",
      "[I 2022-05-24 11:52:30,208] Trial 5 finished with value: 85.28403239289547 and parameters: {'x': 14.234935429817334}. Best is trial 3 with value: 5.267815134186829.\n",
      "[I 2022-05-24 11:52:30,212] Trial 6 finished with value: 272.17042052605586 and parameters: {'x': -11.497588324541738}. Best is trial 3 with value: 5.267815134186829.\n",
      "[I 2022-05-24 11:52:30,218] Trial 7 finished with value: 333.22322186903995 and parameters: {'x': -13.254402807789685}. Best is trial 3 with value: 5.267815134186829.\n",
      "[I 2022-05-24 11:52:30,224] Trial 8 finished with value: 43.48604795947168 and parameters: {'x': 11.594395192849127}. Best is trial 3 with value: 5.267815134186829.\n",
      "[I 2022-05-24 11:52:30,230] Trial 9 finished with value: 28.77695254303912 and parameters: {'x': -0.36441539620480157}. Best is trial 3 with value: 5.267815134186829.\n",
      "[I 2022-05-24 11:52:30,236] Trial 10 finished with value: 201.42202255409794 and parameters: {'x': 19.192322662414984}. Best is trial 3 with value: 5.267815134186829.\n",
      "[I 2022-05-24 11:52:30,244] Trial 11 finished with value: 5.832307416183009 and parameters: {'x': 7.415017063331646}. Best is trial 3 with value: 5.267815134186829.\n",
      "[I 2022-05-24 11:52:30,251] Trial 12 finished with value: 7.344410607533704 and parameters: {'x': 7.710057307057123}. Best is trial 3 with value: 5.267815134186829.\n",
      "[I 2022-05-24 11:52:30,260] Trial 13 finished with value: 1.5207575159343116 and parameters: {'x': 6.2331899756056695}. Best is trial 13 with value: 1.5207575159343116.\n",
      "[I 2022-05-24 11:52:30,270] Trial 14 finished with value: 12.755548414737396 and parameters: {'x': 1.4285089367692105}. Best is trial 13 with value: 1.5207575159343116.\n",
      "[I 2022-05-24 11:52:30,280] Trial 15 finished with value: 190.49414160362483 and parameters: {'x': 18.801961512901883}. Best is trial 13 with value: 1.5207575159343116.\n",
      "[I 2022-05-24 11:52:30,289] Trial 16 finished with value: 2.7957439240931548 and parameters: {'x': 6.672047823506599}. Best is trial 13 with value: 1.5207575159343116.\n",
      "[I 2022-05-24 11:52:30,298] Trial 17 finished with value: 617.2812772640052 and parameters: {'x': -19.84514594974248}. Best is trial 13 with value: 1.5207575159343116.\n",
      "[I 2022-05-24 11:52:30,307] Trial 18 finished with value: 104.67654139315641 and parameters: {'x': 15.231155428061701}. Best is trial 13 with value: 1.5207575159343116.\n",
      "[I 2022-05-24 11:52:30,315] Trial 19 finished with value: 0.7740029549219929 and parameters: {'x': 4.120225622717965}. Best is trial 19 with value: 0.7740029549219929.\n",
      "[I 2022-05-24 11:52:30,323] Trial 20 finished with value: 116.94218842898492 and parameters: {'x': -5.81398115538329}. Best is trial 19 with value: 0.7740029549219929.\n",
      "[I 2022-05-24 11:52:30,331] Trial 21 finished with value: 1.1749533370075724 and parameters: {'x': 3.9160473548131485}. Best is trial 19 with value: 0.7740029549219929.\n",
      "[I 2022-05-24 11:52:30,338] Trial 22 finished with value: 2.1539024247437735 and parameters: {'x': 3.5323820576376925}. Best is trial 19 with value: 0.7740029549219929.\n",
      "[I 2022-05-24 11:52:30,348] Trial 23 finished with value: 48.43521635771839 and parameters: {'x': -1.9595413898990781}. Best is trial 19 with value: 0.7740029549219929.\n",
      "[I 2022-05-24 11:52:30,356] Trial 24 finished with value: 45.98246470140878 and parameters: {'x': 11.781037140541908}. Best is trial 19 with value: 0.7740029549219929.\n",
      "[I 2022-05-24 11:52:30,363] Trial 25 finished with value: 0.31763947570221523 and parameters: {'x': 4.436404865437773}. Best is trial 25 with value: 0.31763947570221523.\n",
      "[I 2022-05-24 11:52:30,373] Trial 26 finished with value: 73.77711792866796 and parameters: {'x': -3.589360740396689}. Best is trial 25 with value: 0.31763947570221523.\n",
      "[I 2022-05-24 11:52:30,380] Trial 27 finished with value: 0.3385929767277037 and parameters: {'x': 4.418112573836052}. Best is trial 25 with value: 0.31763947570221523.\n",
      "[I 2022-05-24 11:52:30,387] Trial 28 finished with value: 33.86571724569909 and parameters: {'x': 10.819425851894591}. Best is trial 25 with value: 0.31763947570221523.\n",
      "[I 2022-05-24 11:52:30,395] Trial 29 finished with value: 163.38537630256087 and parameters: {'x': -7.782228925448052}. Best is trial 25 with value: 0.31763947570221523.\n",
      "[I 2022-05-24 11:52:30,402] Trial 30 finished with value: 37.450583503376436 and parameters: {'x': -1.119688186776875}. Best is trial 25 with value: 0.31763947570221523.\n",
      "[I 2022-05-24 11:52:30,410] Trial 31 finished with value: 1.332717124342947 and parameters: {'x': 3.8455663187766276}. Best is trial 25 with value: 0.31763947570221523.\n",
      "[I 2022-05-24 11:52:30,418] Trial 32 finished with value: 0.5648579702129676 and parameters: {'x': 4.248429663828483}. Best is trial 25 with value: 0.31763947570221523.\n",
      "[I 2022-05-24 11:52:30,426] Trial 33 finished with value: 0.07387327783042016 and parameters: {'x': 4.728203609607449}. Best is trial 33 with value: 0.07387327783042016.\n",
      "[I 2022-05-24 11:52:30,434] Trial 34 finished with value: 22.68351721822121 and parameters: {'x': 9.762721618803813}. Best is trial 33 with value: 0.07387327783042016.\n",
      "[I 2022-05-24 11:52:30,443] Trial 35 finished with value: 26.292663972261774 and parameters: {'x': -0.12763726995794586}. Best is trial 33 with value: 0.07387327783042016.\n",
      "[I 2022-05-24 11:52:30,450] Trial 36 finished with value: 11.541513065205207 and parameters: {'x': 1.6027197546853444}. Best is trial 33 with value: 0.07387327783042016.\n",
      "[I 2022-05-24 11:52:30,458] Trial 37 finished with value: 18.620903739709476 and parameters: {'x': 9.315194519336234}. Best is trial 33 with value: 0.07387327783042016.\n",
      "[I 2022-05-24 11:52:30,465] Trial 38 finished with value: 72.03942575400443 and parameters: {'x': 13.487604241127436}. Best is trial 33 with value: 0.07387327783042016.\n",
      "[I 2022-05-24 11:52:30,473] Trial 39 finished with value: 80.02686818499245 and parameters: {'x': -3.945773761111581}. Best is trial 33 with value: 0.07387327783042016.\n",
      "[I 2022-05-24 11:52:30,478] Trial 40 finished with value: 0.055653520223867416 and parameters: {'x': 4.764090016693088}. Best is trial 40 with value: 0.055653520223867416.\n",
      "[I 2022-05-24 11:52:30,485] Trial 41 finished with value: 0.2513542630534972 and parameters: {'x': 5.501352433975838}. Best is trial 40 with value: 0.055653520223867416.\n",
      "[I 2022-05-24 11:52:30,492] Trial 42 finished with value: 14.952028507350192 and parameters: {'x': 1.1332147063290168}. Best is trial 40 with value: 0.055653520223867416.\n",
      "[I 2022-05-24 11:52:30,500] Trial 43 finished with value: 1.0351070281983927 and parameters: {'x': 6.017402097598778}. Best is trial 40 with value: 0.055653520223867416.\n",
      "[I 2022-05-24 11:52:30,506] Trial 44 finished with value: 9.488563794165538 and parameters: {'x': 8.080351245258491}. Best is trial 40 with value: 0.055653520223867416.\n",
      "[I 2022-05-24 11:52:30,513] Trial 45 finished with value: 0.27215937820378017 and parameters: {'x': 5.521688966917818}. Best is trial 40 with value: 0.055653520223867416.\n",
      "[I 2022-05-24 11:52:30,520] Trial 46 finished with value: 0.36173239637744264 and parameters: {'x': 5.601441931010337}. Best is trial 40 with value: 0.055653520223867416.\n",
      "[I 2022-05-24 11:52:30,528] Trial 47 finished with value: 7.163040565229238 and parameters: {'x': 2.3236142719650372}. Best is trial 40 with value: 0.055653520223867416.\n",
      "[I 2022-05-24 11:52:30,534] Trial 48 finished with value: 17.26565739246869 and parameters: {'x': 9.155196432476892}. Best is trial 40 with value: 0.055653520223867416.\n",
      "[I 2022-05-24 11:52:30,541] Trial 49 finished with value: 61.6413445055903 and parameters: {'x': 12.851200195230682}. Best is trial 40 with value: 0.055653520223867416.\n",
      "[I 2022-05-24 11:52:30,547] Trial 50 finished with value: 151.44217436753232 and parameters: {'x': 17.30618439515402}. Best is trial 40 with value: 0.055653520223867416.\n",
      "[I 2022-05-24 11:52:30,554] Trial 51 finished with value: 0.5512153887831551 and parameters: {'x': 5.7424388114741545}. Best is trial 40 with value: 0.055653520223867416.\n",
      "[I 2022-05-24 11:52:30,561] Trial 52 finished with value: 7.092299098684294 and parameters: {'x': 2.336862921537028}. Best is trial 40 with value: 0.055653520223867416.\n",
      "[I 2022-05-24 11:52:30,567] Trial 53 finished with value: 9.716313187837027 and parameters: {'x': 8.117100124769339}. Best is trial 40 with value: 0.055653520223867416.\n",
      "[I 2022-05-24 11:52:30,575] Trial 54 finished with value: 0.025276295810702707 and parameters: {'x': 5.158985206263673}. Best is trial 54 with value: 0.025276295810702707.\n",
      "[I 2022-05-24 11:52:30,581] Trial 55 finished with value: 4.93157123523556 and parameters: {'x': 7.220714127310303}. Best is trial 54 with value: 0.025276295810702707.\n",
      "[I 2022-05-24 11:52:30,587] Trial 56 finished with value: 50.48438297035604 and parameters: {'x': -2.1052363064402044}. Best is trial 54 with value: 0.025276295810702707.\n",
      "[I 2022-05-24 11:52:30,594] Trial 57 finished with value: 17.711664815008977 and parameters: {'x': 0.7914771219572803}. Best is trial 54 with value: 0.025276295810702707.\n",
      "[I 2022-05-24 11:52:30,601] Trial 58 finished with value: 0.3818623220086277 and parameters: {'x': 5.617950096697644}. Best is trial 54 with value: 0.025276295810702707.\n",
      "[I 2022-05-24 11:52:30,608] Trial 59 finished with value: 31.336981897562385 and parameters: {'x': 10.597944435019196}. Best is trial 54 with value: 0.025276295810702707.\n",
      "[I 2022-05-24 11:52:30,615] Trial 60 finished with value: 5.270745579790734 and parameters: {'x': 2.7041895592643685}. Best is trial 54 with value: 0.025276295810702707.\n",
      "[I 2022-05-24 11:52:30,622] Trial 61 finished with value: 0.014682390187184435 and parameters: {'x': 4.878829086876493}. Best is trial 61 with value: 0.014682390187184435.\n",
      "[I 2022-05-24 11:52:30,629] Trial 62 finished with value: 0.01081719385812396 and parameters: {'x': 4.895994260455858}. Best is trial 62 with value: 0.01081719385812396.\n",
      "[I 2022-05-24 11:52:30,636] Trial 63 finished with value: 7.506020864877644 and parameters: {'x': 7.73971182150197}. Best is trial 62 with value: 0.01081719385812396.\n",
      "[I 2022-05-24 11:52:30,644] Trial 64 finished with value: 4.348238710538955 and parameters: {'x': 2.9147569181174693}. Best is trial 62 with value: 0.01081719385812396.\n",
      "[I 2022-05-24 11:52:30,651] Trial 65 finished with value: 0.01202754331932927 and parameters: {'x': 5.109670156922151}. Best is trial 62 with value: 0.01081719385812396.\n",
      "[I 2022-05-24 11:52:30,657] Trial 66 finished with value: 3.2843659132674987 and parameters: {'x': 6.812281962959268}. Best is trial 62 with value: 0.01081719385812396.\n",
      "[I 2022-05-24 11:52:30,664] Trial 67 finished with value: 20.30533216124242 and parameters: {'x': 0.49385617614767874}. Best is trial 62 with value: 0.01081719385812396.\n",
      "[I 2022-05-24 11:52:30,670] Trial 68 finished with value: 6.84708733521452e-05 and parameters: {'x': 5.008274712886387}. Best is trial 68 with value: 6.84708733521452e-05.\n",
      "[I 2022-05-24 11:52:30,679] Trial 69 finished with value: 33.69134389451718 and parameters: {'x': -0.8044245101919607}. Best is trial 68 with value: 6.84708733521452e-05.\n",
      "[I 2022-05-24 11:52:30,684] Trial 70 finished with value: 2.9477786541109916 and parameters: {'x': 3.283090376836628}. Best is trial 68 with value: 6.84708733521452e-05.\n",
      "[I 2022-05-24 11:52:30,690] Trial 71 finished with value: 0.028551078445273017 and parameters: {'x': 4.831029356261885}. Best is trial 68 with value: 6.84708733521452e-05.\n",
      "[I 2022-05-24 11:52:30,697] Trial 72 finished with value: 14.570759940003024 and parameters: {'x': 8.817166480519683}. Best is trial 68 with value: 6.84708733521452e-05.\n",
      "[I 2022-05-24 11:52:30,703] Trial 73 finished with value: 0.005774422280419927 and parameters: {'x': 4.924010380442985}. Best is trial 68 with value: 6.84708733521452e-05.\n",
      "[I 2022-05-24 11:52:30,710] Trial 74 finished with value: 3.4478655932562567 and parameters: {'x': 6.856842910225918}. Best is trial 68 with value: 6.84708733521452e-05.\n",
      "[I 2022-05-24 11:52:30,717] Trial 75 finished with value: 0.10412900312487343 and parameters: {'x': 4.677309741199283}. Best is trial 68 with value: 6.84708733521452e-05.\n",
      "[I 2022-05-24 11:52:30,723] Trial 76 finished with value: 9.058903798318433 and parameters: {'x': 1.990198711157424}. Best is trial 68 with value: 6.84708733521452e-05.\n",
      "[I 2022-05-24 11:52:30,730] Trial 77 finished with value: 25.832655427702782 and parameters: {'x': 10.08258353868412}. Best is trial 68 with value: 6.84708733521452e-05.\n",
      "[I 2022-05-24 11:52:30,737] Trial 78 finished with value: 51.5507012775528 and parameters: {'x': 12.179881703590443}. Best is trial 68 with value: 6.84708733521452e-05.\n",
      "[I 2022-05-24 11:52:30,743] Trial 79 finished with value: 2.040093142131291 and parameters: {'x': 3.5716817083957473}. Best is trial 68 with value: 6.84708733521452e-05.\n",
      "[I 2022-05-24 11:52:30,750] Trial 80 finished with value: 12.568311759943285 and parameters: {'x': 8.545181484768204}. Best is trial 68 with value: 6.84708733521452e-05.\n",
      "[I 2022-05-24 11:52:30,756] Trial 81 finished with value: 0.0961005690045752 and parameters: {'x': 4.689999082252044}. Best is trial 68 with value: 6.84708733521452e-05.\n",
      "[I 2022-05-24 11:52:30,763] Trial 82 finished with value: 0.02735879861724463 and parameters: {'x': 4.834595046575852}. Best is trial 68 with value: 6.84708733521452e-05.\n",
      "[I 2022-05-24 11:52:30,769] Trial 83 finished with value: 2.800437220873899 and parameters: {'x': 6.673450692692766}. Best is trial 68 with value: 6.84708733521452e-05.\n",
      "[I 2022-05-24 11:52:30,776] Trial 84 finished with value: 3.1628817355837406 and parameters: {'x': 3.221550749786843}. Best is trial 68 with value: 6.84708733521452e-05.\n",
      "[I 2022-05-24 11:52:30,784] Trial 85 finished with value: 0.006830053114154946 and parameters: {'x': 5.0826441353887555}. Best is trial 68 with value: 6.84708733521452e-05.\n",
      "[I 2022-05-24 11:52:30,789] Trial 86 finished with value: 12.869549090331775 and parameters: {'x': 1.4125846225545926}. Best is trial 68 with value: 6.84708733521452e-05.\n",
      "[I 2022-05-24 11:52:30,795] Trial 87 finished with value: 6.098985600862261 and parameters: {'x': 7.469612439404665}. Best is trial 68 with value: 6.84708733521452e-05.\n",
      "[I 2022-05-24 11:52:30,802] Trial 88 finished with value: 1.922887775573755 and parameters: {'x': 6.386682290783925}. Best is trial 68 with value: 6.84708733521452e-05.\n",
      "[I 2022-05-24 11:52:30,808] Trial 89 finished with value: 592.2374138048558 and parameters: {'x': -19.33592845578027}. Best is trial 68 with value: 6.84708733521452e-05.\n",
      "[I 2022-05-24 11:52:30,815] Trial 90 finished with value: 43.5924025309732 and parameters: {'x': -1.6024542808695923}. Best is trial 68 with value: 6.84708733521452e-05.\n",
      "[I 2022-05-24 11:52:30,821] Trial 91 finished with value: 0.0535435178566227 and parameters: {'x': 4.768605276947328}. Best is trial 68 with value: 6.84708733521452e-05.\n",
      "[I 2022-05-24 11:52:30,828] Trial 92 finished with value: 0.061478641599338066 and parameters: {'x': 5.247948868921272}. Best is trial 68 with value: 6.84708733521452e-05.\n",
      "[I 2022-05-24 11:52:30,834] Trial 93 finished with value: 1.1776547102514363 and parameters: {'x': 3.9148019949099444}. Best is trial 68 with value: 6.84708733521452e-05.\n",
      "[I 2022-05-24 11:52:30,841] Trial 94 finished with value: 23.15104017855914 and parameters: {'x': 0.18844721752331398}. Best is trial 68 with value: 6.84708733521452e-05.\n",
      "[I 2022-05-24 11:52:30,847] Trial 95 finished with value: 7.6088773893023705 and parameters: {'x': 2.2415806357077663}. Best is trial 68 with value: 6.84708733521452e-05.\n"
     ]
    },
    {
     "name": "stdout",
     "output_type": "stream",
     "text": [
      "[I 2022-05-24 11:52:30,854] Trial 96 finished with value: 0.004368365956024778 and parameters: {'x': 5.066093615092721}. Best is trial 68 with value: 6.84708733521452e-05.\n",
      "[I 2022-05-24 11:52:30,860] Trial 97 finished with value: 2.357464485026517 and parameters: {'x': 6.535403687968254}. Best is trial 68 with value: 6.84708733521452e-05.\n",
      "[I 2022-05-24 11:52:30,867] Trial 98 finished with value: 10.072386531599834 and parameters: {'x': 8.173702338216335}. Best is trial 68 with value: 6.84708733521452e-05.\n",
      "[I 2022-05-24 11:52:30,873] Trial 99 finished with value: 1.5242565183894605 and parameters: {'x': 3.7653921600809994}. Best is trial 68 with value: 6.84708733521452e-05.\n",
      "[I 2022-05-24 11:52:30,880] Trial 100 finished with value: 1.0177382887547823 and parameters: {'x': 6.00883015852758}. Best is trial 68 with value: 6.84708733521452e-05.\n",
      "[I 2022-05-24 11:52:30,888] Trial 101 finished with value: 0.019874684733510603 and parameters: {'x': 4.859022396340729}. Best is trial 68 with value: 6.84708733521452e-05.\n",
      "[I 2022-05-24 11:52:30,893] Trial 102 finished with value: 0.0008613087245223619 and parameters: {'x': 5.029348061682543}. Best is trial 68 with value: 6.84708733521452e-05.\n",
      "[I 2022-05-24 11:52:30,900] Trial 103 finished with value: 5.9291299682016865 and parameters: {'x': 7.434980486205523}. Best is trial 68 with value: 6.84708733521452e-05.\n",
      "[I 2022-05-24 11:52:30,906] Trial 104 finished with value: 3.9409949933190296 and parameters: {'x': 3.0148060564974943}. Best is trial 68 with value: 6.84708733521452e-05.\n",
      "[I 2022-05-24 11:52:30,913] Trial 105 finished with value: 11.742170825692476 and parameters: {'x': 1.573314892539369}. Best is trial 68 with value: 6.84708733521452e-05.\n",
      "[I 2022-05-24 11:52:30,919] Trial 106 finished with value: 0.3916437804537761 and parameters: {'x': 5.625814493643105}. Best is trial 68 with value: 6.84708733521452e-05.\n",
      "[I 2022-05-24 11:52:30,926] Trial 107 finished with value: 1.2276765339261815 and parameters: {'x': 3.891994343910564}. Best is trial 68 with value: 6.84708733521452e-05.\n",
      "[I 2022-05-24 11:52:30,933] Trial 108 finished with value: 25.253070608049594 and parameters: {'x': 10.025243338192649}. Best is trial 68 with value: 6.84708733521452e-05.\n",
      "[I 2022-05-24 11:52:30,939] Trial 109 finished with value: 5.41081621668506 and parameters: {'x': 2.6738838772139815}. Best is trial 68 with value: 6.84708733521452e-05.\n",
      "[I 2022-05-24 11:52:30,946] Trial 110 finished with value: 17.130775247996997 and parameters: {'x': 9.13893407147263}. Best is trial 68 with value: 6.84708733521452e-05.\n",
      "[I 2022-05-24 11:52:30,952] Trial 111 finished with value: 0.042523935999704686 and parameters: {'x': 5.206213326435768}. Best is trial 68 with value: 6.84708733521452e-05.\n",
      "[I 2022-05-24 11:52:30,959] Trial 112 finished with value: 0.17172343136676274 and parameters: {'x': 4.585604740173391}. Best is trial 68 with value: 6.84708733521452e-05.\n",
      "[I 2022-05-24 11:52:30,966] Trial 113 finished with value: 1.5962320620270407 and parameters: {'x': 6.26342077789905}. Best is trial 68 with value: 6.84708733521452e-05.\n",
      "[I 2022-05-24 11:52:30,972] Trial 114 finished with value: 4.431262338730265 and parameters: {'x': 7.10505637424043}. Best is trial 68 with value: 6.84708733521452e-05.\n",
      "[I 2022-05-24 11:52:30,979] Trial 115 finished with value: 0.482151976215059 and parameters: {'x': 4.305628358719152}. Best is trial 68 with value: 6.84708733521452e-05.\n",
      "[I 2022-05-24 11:52:30,985] Trial 116 finished with value: 0.05551803577894849 and parameters: {'x': 5.235622655487431}. Best is trial 68 with value: 6.84708733521452e-05.\n",
      "[I 2022-05-24 11:52:30,994] Trial 117 finished with value: 1.482153454342201 and parameters: {'x': 6.217437248626064}. Best is trial 68 with value: 6.84708733521452e-05.\n",
      "[I 2022-05-24 11:52:30,999] Trial 118 finished with value: 3.0841228269939416 and parameters: {'x': 3.2438329159803896}. Best is trial 68 with value: 6.84708733521452e-05.\n",
      "[I 2022-05-24 11:52:31,006] Trial 119 finished with value: 16.79327297695668 and parameters: {'x': 0.9020403885644894}. Best is trial 68 with value: 6.84708733521452e-05.\n",
      "[I 2022-05-24 11:52:31,013] Trial 120 finished with value: 11.347002107200824 and parameters: {'x': 8.368531149804143}. Best is trial 68 with value: 6.84708733521452e-05.\n",
      "[I 2022-05-24 11:52:31,019] Trial 121 finished with value: 0.00040709133345736247 and parameters: {'x': 5.020176504490554}. Best is trial 68 with value: 6.84708733521452e-05.\n",
      "[I 2022-05-24 11:52:31,026] Trial 122 finished with value: 0.009849410779681758 and parameters: {'x': 5.099244197712923}. Best is trial 68 with value: 6.84708733521452e-05.\n",
      "[I 2022-05-24 11:52:31,033] Trial 123 finished with value: 1.1377944802215236 and parameters: {'x': 3.9333255040915605}. Best is trial 68 with value: 6.84708733521452e-05.\n",
      "[I 2022-05-24 11:52:31,040] Trial 124 finished with value: 4.925747563946633 and parameters: {'x': 7.219402524092156}. Best is trial 68 with value: 6.84708733521452e-05.\n",
      "[I 2022-05-24 11:52:31,046] Trial 125 finished with value: 8.242307879661498 and parameters: {'x': 2.1290580152741683}. Best is trial 68 with value: 6.84708733521452e-05.\n",
      "[I 2022-05-24 11:52:31,053] Trial 126 finished with value: 0.27384433037887884 and parameters: {'x': 5.523301376244014}. Best is trial 68 with value: 6.84708733521452e-05.\n",
      "[I 2022-05-24 11:52:31,059] Trial 127 finished with value: 3.8416156275600413 and parameters: {'x': 3.039996013381595}. Best is trial 68 with value: 6.84708733521452e-05.\n",
      "[I 2022-05-24 11:52:31,066] Trial 128 finished with value: 7.70497859909161 and parameters: {'x': 7.7757843214291}. Best is trial 68 with value: 6.84708733521452e-05.\n",
      "[I 2022-05-24 11:52:31,073] Trial 129 finished with value: 0.14810292740843312 and parameters: {'x': 4.615158568487704}. Best is trial 68 with value: 6.84708733521452e-05.\n",
      "[I 2022-05-24 11:52:31,079] Trial 130 finished with value: 1.6214310057952972 and parameters: {'x': 6.273354234215796}. Best is trial 68 with value: 6.84708733521452e-05.\n",
      "[I 2022-05-24 11:52:31,086] Trial 131 finished with value: 0.007253168095092982 and parameters: {'x': 4.914834466507319}. Best is trial 68 with value: 6.84708733521452e-05.\n",
      "[I 2022-05-24 11:52:31,094] Trial 132 finished with value: 0.7545092920563999 and parameters: {'x': 4.131375056738295}. Best is trial 68 with value: 6.84708733521452e-05.\n",
      "[I 2022-05-24 11:52:31,100] Trial 133 finished with value: 0.10366359848085319 and parameters: {'x': 5.321968319063931}. Best is trial 68 with value: 6.84708733521452e-05.\n",
      "[I 2022-05-24 11:52:31,106] Trial 134 finished with value: 2.7358123367510854 and parameters: {'x': 6.654029122098848}. Best is trial 68 with value: 6.84708733521452e-05.\n",
      "[I 2022-05-24 11:52:31,114] Trial 135 finished with value: 1.790886225349048 and parameters: {'x': 3.6617600269947665}. Best is trial 68 with value: 6.84708733521452e-05.\n",
      "[I 2022-05-24 11:52:31,121] Trial 136 finished with value: 0.584216610417042 and parameters: {'x': 5.7643406376852155}. Best is trial 68 with value: 6.84708733521452e-05.\n",
      "[I 2022-05-24 11:52:31,128] Trial 137 finished with value: 5.995027418020304 and parameters: {'x': 2.551525491653976}. Best is trial 68 with value: 6.84708733521452e-05.\n",
      "[I 2022-05-24 11:52:31,134] Trial 138 finished with value: 0.15033780926961085 and parameters: {'x': 4.612265800747973}. Best is trial 68 with value: 6.84708733521452e-05.\n",
      "[I 2022-05-24 11:52:31,141] Trial 139 finished with value: 4.319163257224864 and parameters: {'x': 7.078259670307073}. Best is trial 68 with value: 6.84708733521452e-05.\n",
      "[I 2022-05-24 11:52:31,148] Trial 140 finished with value: 13.38488813442208 and parameters: {'x': 1.3414636622793972}. Best is trial 68 with value: 6.84708733521452e-05.\n",
      "[I 2022-05-24 11:52:31,154] Trial 141 finished with value: 0.06917891548616661 and parameters: {'x': 5.263018850058635}. Best is trial 68 with value: 6.84708733521452e-05.\n",
      "[I 2022-05-24 11:52:31,161] Trial 142 finished with value: 0.06263897031660705 and parameters: {'x': 4.749722213697246}. Best is trial 68 with value: 6.84708733521452e-05.\n",
      "[I 2022-05-24 11:52:31,168] Trial 143 finished with value: 1.5981979617346402 and parameters: {'x': 3.735801454780682}. Best is trial 68 with value: 6.84708733521452e-05.\n",
      "[I 2022-05-24 11:52:31,175] Trial 144 finished with value: 1.776977646372027 and parameters: {'x': 6.333033250287489}. Best is trial 68 with value: 6.84708733521452e-05.\n",
      "[I 2022-05-24 11:52:31,182] Trial 145 finished with value: 3.4877986346991485 and parameters: {'x': 3.132435105625738}. Best is trial 68 with value: 6.84708733521452e-05.\n",
      "[I 2022-05-24 11:52:31,189] Trial 146 finished with value: 0.019366086562675508 and parameters: {'x': 5.139162087375389}. Best is trial 68 with value: 6.84708733521452e-05.\n",
      "[I 2022-05-24 11:52:31,198] Trial 147 finished with value: 0.9412134003991948 and parameters: {'x': 5.970161533147545}. Best is trial 68 with value: 6.84708733521452e-05.\n",
      "[I 2022-05-24 11:52:31,203] Trial 148 finished with value: 9.063253927459844 and parameters: {'x': 8.010523862629201}. Best is trial 68 with value: 6.84708733521452e-05.\n",
      "[I 2022-05-24 11:52:31,210] Trial 149 finished with value: 0.4092661947980548 and parameters: {'x': 4.360260838467696}. Best is trial 68 with value: 6.84708733521452e-05.\n",
      "[I 2022-05-24 11:52:31,217] Trial 150 finished with value: 9.722188573136561 and parameters: {'x': 1.8819575735509049}. Best is trial 68 with value: 6.84708733521452e-05.\n",
      "[I 2022-05-24 11:52:31,224] Trial 151 finished with value: 0.003589983217951209 and parameters: {'x': 5.059916468670568}. Best is trial 68 with value: 6.84708733521452e-05.\n",
      "[I 2022-05-24 11:52:31,231] Trial 152 finished with value: 0.030777512156478656 and parameters: {'x': 5.175435207858852}. Best is trial 68 with value: 6.84708733521452e-05.\n",
      "[I 2022-05-24 11:52:31,237] Trial 153 finished with value: 0.7674638958073443 and parameters: {'x': 5.876050167403297}. Best is trial 68 with value: 6.84708733521452e-05.\n",
      "[I 2022-05-24 11:52:31,244] Trial 154 finished with value: 0.9573987699111076 and parameters: {'x': 4.021532437987284}. Best is trial 68 with value: 6.84708733521452e-05.\n",
      "[I 2022-05-24 11:52:31,251] Trial 155 finished with value: 3.694207419118133 and parameters: {'x': 6.922032106682439}. Best is trial 68 with value: 6.84708733521452e-05.\n",
      "[I 2022-05-24 11:52:31,258] Trial 156 finished with value: 4.964556446452524 and parameters: {'x': 2.7718715372643965}. Best is trial 68 with value: 6.84708733521452e-05.\n",
      "[I 2022-05-24 11:52:31,264] Trial 157 finished with value: 0.01896888206509432 and parameters: {'x': 5.137727564652448}. Best is trial 68 with value: 6.84708733521452e-05.\n",
      "[I 2022-05-24 11:52:31,271] Trial 158 finished with value: 0.4158021016652181 and parameters: {'x': 5.644827187442665}. Best is trial 68 with value: 6.84708733521452e-05.\n",
      "[I 2022-05-24 11:52:31,278] Trial 159 finished with value: 2.559124287114209 and parameters: {'x': 3.400273683683922}. Best is trial 68 with value: 6.84708733521452e-05.\n",
      "[I 2022-05-24 11:52:31,285] Trial 160 finished with value: 5.524307110465357 and parameters: {'x': 7.350384460139523}. Best is trial 68 with value: 6.84708733521452e-05.\n",
      "[I 2022-05-24 11:52:31,291] Trial 161 finished with value: 0.005745284208259854 and parameters: {'x': 4.924202346947548}. Best is trial 68 with value: 6.84708733521452e-05.\n",
      "[I 2022-05-24 11:52:31,300] Trial 162 finished with value: 0.3493840735358258 and parameters: {'x': 4.408912803779488}. Best is trial 68 with value: 6.84708733521452e-05.\n",
      "[I 2022-05-24 11:52:31,305] Trial 163 finished with value: 2.105456973576549 and parameters: {'x': 6.451019287803077}. Best is trial 68 with value: 6.84708733521452e-05.\n",
      "[I 2022-05-24 11:52:31,312] Trial 164 finished with value: 0.021496145299020088 and parameters: {'x': 5.146615637975695}. Best is trial 68 with value: 6.84708733521452e-05.\n",
      "[I 2022-05-24 11:52:31,318] Trial 165 finished with value: 0.012057882381703777 and parameters: {'x': 4.890191610604181}. Best is trial 68 with value: 6.84708733521452e-05.\n",
      "[I 2022-05-24 11:52:31,325] Trial 166 finished with value: 1.8463522445636233 and parameters: {'x': 3.641194552349887}. Best is trial 68 with value: 6.84708733521452e-05.\n",
      "[I 2022-05-24 11:52:31,332] Trial 167 finished with value: 1.3143341080652464 and parameters: {'x': 6.146444114671643}. Best is trial 68 with value: 6.84708733521452e-05.\n",
      "[I 2022-05-24 11:52:31,339] Trial 168 finished with value: 0.4918345734789768 and parameters: {'x': 4.298690814633819}. Best is trial 68 with value: 6.84708733521452e-05.\n",
      "[I 2022-05-24 11:52:31,346] Trial 169 finished with value: 7.037587490735256 and parameters: {'x': 2.3471548309908368}. Best is trial 68 with value: 6.84708733521452e-05.\n",
      "[I 2022-05-24 11:52:31,352] Trial 170 finished with value: 0.02233563582826441 and parameters: {'x': 5.149451115179059}. Best is trial 68 with value: 6.84708733521452e-05.\n",
      "[I 2022-05-24 11:52:31,359] Trial 171 finished with value: 0.013546605876018459 and parameters: {'x': 5.116389887344298}. Best is trial 68 with value: 6.84708733521452e-05.\n",
      "[I 2022-05-24 11:52:31,366] Trial 172 finished with value: 0.4569541266352781 and parameters: {'x': 5.675983821282195}. Best is trial 68 with value: 6.84708733521452e-05.\n",
      "[I 2022-05-24 11:52:31,373] Trial 173 finished with value: 0.46094183498763375 and parameters: {'x': 4.321073026763825}. Best is trial 68 with value: 6.84708733521452e-05.\n",
      "[I 2022-05-24 11:52:31,380] Trial 174 finished with value: 2.7615443409589275 and parameters: {'x': 3.3382105004065865}. Best is trial 68 with value: 6.84708733521452e-05.\n",
      "[I 2022-05-24 11:52:31,387] Trial 175 finished with value: 3.143004884728706 and parameters: {'x': 6.772852189193647}. Best is trial 68 with value: 6.84708733521452e-05.\n",
      "[I 2022-05-24 11:52:31,394] Trial 176 finished with value: 0.008470145098307423 and parameters: {'x': 5.092033391213773}. Best is trial 68 with value: 6.84708733521452e-05.\n",
      "[I 2022-05-24 11:52:31,402] Trial 177 finished with value: 1.0329860206163075 and parameters: {'x': 6.016359198618435}. Best is trial 68 with value: 6.84708733521452e-05.\n",
      "[I 2022-05-24 11:52:31,408] Trial 178 finished with value: 6.138198233685304 and parameters: {'x': 7.477538745143112}. Best is trial 68 with value: 6.84708733521452e-05.\n",
      "[I 2022-05-24 11:52:31,415] Trial 179 finished with value: 0.00025347296735646905 and parameters: {'x': 4.984079165619966}. Best is trial 68 with value: 6.84708733521452e-05.\n",
      "[I 2022-05-24 11:52:31,422] Trial 180 finished with value: 0.9104385380189193 and parameters: {'x': 4.045830969891121}. Best is trial 68 with value: 6.84708733521452e-05.\n",
      "[I 2022-05-24 11:52:31,428] Trial 181 finished with value: 0.0012591617530231926 and parameters: {'x': 5.035484669267491}. Best is trial 68 with value: 6.84708733521452e-05.\n",
      "[I 2022-05-24 11:52:31,435] Trial 182 finished with value: 0.2509252445808638 and parameters: {'x': 5.500924390083837}. Best is trial 68 with value: 6.84708733521452e-05.\n",
      "[I 2022-05-24 11:52:31,442] Trial 183 finished with value: 0.2907548275081305 and parameters: {'x': 4.460783134992858}. Best is trial 68 with value: 6.84708733521452e-05.\n",
      "[I 2022-05-24 11:52:31,449] Trial 184 finished with value: 4.116127544313853 and parameters: {'x': 2.9711758222276003}. Best is trial 68 with value: 6.84708733521452e-05.\n",
      "[I 2022-05-24 11:52:31,456] Trial 185 finished with value: 2.269587225450453 and parameters: {'x': 6.506514927058625}. Best is trial 68 with value: 6.84708733521452e-05.\n",
      "[I 2022-05-24 11:52:31,463] Trial 186 finished with value: 0.01294888238940716 and parameters: {'x': 4.88620684383757}. Best is trial 68 with value: 6.84708733521452e-05.\n",
      "[I 2022-05-24 11:52:31,469] Trial 187 finished with value: 1.0252875788616285 and parameters: {'x': 3.98743514831808}. Best is trial 68 with value: 6.84708733521452e-05.\n",
      "[I 2022-05-24 11:52:31,476] Trial 188 finished with value: 1.1291201856047677 and parameters: {'x': 6.062600670809485}. Best is trial 68 with value: 6.84708733521452e-05.\n",
      "[I 2022-05-24 11:52:31,483] Trial 189 finished with value: 2.2213097747406105 and parameters: {'x': 3.5095940906113494}. Best is trial 68 with value: 6.84708733521452e-05.\n"
     ]
    },
    {
     "name": "stdout",
     "output_type": "stream",
     "text": [
      "[I 2022-05-24 11:52:31,490] Trial 190 finished with value: 0.01560280116450438 and parameters: {'x': 4.875088826902857}. Best is trial 68 with value: 6.84708733521452e-05.\n",
      "[I 2022-05-24 11:52:31,497] Trial 191 finished with value: 0.004870628257632636 and parameters: {'x': 5.06978988649964}. Best is trial 68 with value: 6.84708733521452e-05.\n",
      "[I 2022-05-24 11:52:31,505] Trial 192 finished with value: 0.420580225104801 and parameters: {'x': 5.648521568727518}. Best is trial 68 with value: 6.84708733521452e-05.\n",
      "[I 2022-05-24 11:52:31,511] Trial 193 finished with value: 0.1320153152078505 and parameters: {'x': 4.636660881258499}. Best is trial 68 with value: 6.84708733521452e-05.\n",
      "[I 2022-05-24 11:52:31,518] Trial 194 finished with value: 3.354681514558959 and parameters: {'x': 6.831578967601168}. Best is trial 68 with value: 6.84708733521452e-05.\n",
      "[I 2022-05-24 11:52:31,525] Trial 195 finished with value: 0.8316869794727019 and parameters: {'x': 4.088031261789801}. Best is trial 68 with value: 6.84708733521452e-05.\n",
      "[I 2022-05-24 11:52:31,532] Trial 196 finished with value: 0.6015018816451068 and parameters: {'x': 5.775565523759989}. Best is trial 68 with value: 6.84708733521452e-05.\n",
      "[I 2022-05-24 11:52:31,539] Trial 197 finished with value: 0.006455495857530466 and parameters: {'x': 4.919653899549944}. Best is trial 68 with value: 6.84708733521452e-05.\n",
      "[I 2022-05-24 11:52:31,546] Trial 198 finished with value: 6.070018964622105 and parameters: {'x': 2.536259152300692}. Best is trial 68 with value: 6.84708733521452e-05.\n",
      "[I 2022-05-24 11:52:31,553] Trial 199 finished with value: 2.246534298626565 and parameters: {'x': 3.5011556789891203}. Best is trial 68 with value: 6.84708733521452e-05.\n",
      "[I 2022-05-24 11:52:31,561] Trial 200 finished with value: 0.0011329512293893392 and parameters: {'x': 5.033659340893567}. Best is trial 68 with value: 6.84708733521452e-05.\n",
      "[I 2022-05-24 11:52:31,567] Trial 201 finished with value: 0.006950694280542386 and parameters: {'x': 5.083370823916658}. Best is trial 68 with value: 6.84708733521452e-05.\n",
      "[I 2022-05-24 11:52:31,575] Trial 202 finished with value: 0.09070475183882037 and parameters: {'x': 4.6988277040648985}. Best is trial 68 with value: 6.84708733521452e-05.\n",
      "[I 2022-05-24 11:52:31,582] Trial 203 finished with value: 1.088906714117198 and parameters: {'x': 6.043506930555422}. Best is trial 68 with value: 6.84708733521452e-05.\n",
      "[I 2022-05-24 11:52:31,589] Trial 204 finished with value: 0.110148093559066 and parameters: {'x': 5.331885663382837}. Best is trial 68 with value: 6.84708733521452e-05.\n",
      "[I 2022-05-24 11:52:31,596] Trial 205 finished with value: 3.196957894972009 and parameters: {'x': 6.788003885614349}. Best is trial 68 with value: 6.84708733521452e-05.\n",
      "[I 2022-05-24 11:52:31,603] Trial 206 finished with value: 0.9643646193040168 and parameters: {'x': 4.017979318291098}. Best is trial 68 with value: 6.84708733521452e-05.\n",
      "[I 2022-05-24 11:52:31,612] Trial 207 finished with value: 0.07850280019628311 and parameters: {'x': 4.719816488357571}. Best is trial 68 with value: 6.84708733521452e-05.\n",
      "[I 2022-05-24 11:52:31,617] Trial 208 finished with value: 8.290772778608016 and parameters: {'x': 7.879370205202522}. Best is trial 68 with value: 6.84708733521452e-05.\n",
      "[I 2022-05-24 11:52:31,624] Trial 209 finished with value: 1.0103938133561086 and parameters: {'x': 6.005183472484555}. Best is trial 68 with value: 6.84708733521452e-05.\n",
      "[I 2022-05-24 11:52:31,631] Trial 210 finished with value: 2.6174643771863084 and parameters: {'x': 3.382142040478736}. Best is trial 68 with value: 6.84708733521452e-05.\n",
      "[I 2022-05-24 11:52:31,639] Trial 211 finished with value: 0.017713708840979097 and parameters: {'x': 5.133092857963826}. Best is trial 68 with value: 6.84708733521452e-05.\n",
      "[I 2022-05-24 11:52:31,646] Trial 212 finished with value: 0.010321555093145527 and parameters: {'x': 5.101595054471886}. Best is trial 68 with value: 6.84708733521452e-05.\n",
      "[I 2022-05-24 11:52:31,653] Trial 213 finished with value: 0.41302031166781245 and parameters: {'x': 4.357333436634663}. Best is trial 68 with value: 6.84708733521452e-05.\n",
      "[I 2022-05-24 11:52:31,660] Trial 214 finished with value: 0.3214954846381004 and parameters: {'x': 5.567005718346914}. Best is trial 68 with value: 6.84708733521452e-05.\n",
      "[I 2022-05-24 11:52:31,667] Trial 215 finished with value: 2.0130517333528646 and parameters: {'x': 6.418820543040192}. Best is trial 68 with value: 6.84708733521452e-05.\n",
      "[I 2022-05-24 11:52:31,674] Trial 216 finished with value: 0.16613329529142176 and parameters: {'x': 4.592405476862824}. Best is trial 68 with value: 6.84708733521452e-05.\n",
      "[I 2022-05-24 11:52:31,682] Trial 217 finished with value: 0.9365278033669096 and parameters: {'x': 4.0322563338533755}. Best is trial 68 with value: 6.84708733521452e-05.\n",
      "[I 2022-05-24 11:52:31,689] Trial 218 finished with value: 0.3309744222750265 and parameters: {'x': 5.5753037652188855}. Best is trial 68 with value: 6.84708733521452e-05.\n",
      "[I 2022-05-24 11:52:31,695] Trial 219 finished with value: 3.3193813187234813 and parameters: {'x': 3.1780830648123715}. Best is trial 68 with value: 6.84708733521452e-05.\n",
      "[I 2022-05-24 11:52:31,703] Trial 220 finished with value: 2.4709095027626766 and parameters: {'x': 6.57191268929374}. Best is trial 68 with value: 6.84708733521452e-05.\n",
      "[I 2022-05-24 11:52:31,710] Trial 221 finished with value: 1.2026157105730838e-05 and parameters: {'x': 4.9965321249870085}. Best is trial 221 with value: 1.2026157105730838e-05.\n",
      "[I 2022-05-24 11:52:31,719] Trial 222 finished with value: 0.0019730548340536006 and parameters: {'x': 5.044419081868647}. Best is trial 221 with value: 1.2026157105730838e-05.\n",
      "[I 2022-05-24 11:52:31,725] Trial 223 finished with value: 0.16944060428942623 and parameters: {'x': 5.411631636647897}. Best is trial 221 with value: 1.2026157105730838e-05.\n",
      "[I 2022-05-24 11:52:31,733] Trial 224 finished with value: 1.3365815399890641 and parameters: {'x': 3.8438938024605767}. Best is trial 221 with value: 1.2026157105730838e-05.\n",
      "[I 2022-05-24 11:52:31,740] Trial 225 finished with value: 0.01311636696846509 and parameters: {'x': 4.885473291462362}. Best is trial 221 with value: 1.2026157105730838e-05.\n",
      "[I 2022-05-24 11:52:31,747] Trial 226 finished with value: 0.9029834323196343 and parameters: {'x': 5.9502544039990735}. Best is trial 221 with value: 1.2026157105730838e-05.\n",
      "[I 2022-05-24 11:52:31,755] Trial 227 finished with value: 5.299796925557958 and parameters: {'x': 7.30212878127136}. Best is trial 221 with value: 1.2026157105730838e-05.\n",
      "[I 2022-05-24 11:52:31,762] Trial 228 finished with value: 0.3047852958860795 and parameters: {'x': 4.447926367333053}. Best is trial 221 with value: 1.2026157105730838e-05.\n",
      "[I 2022-05-24 11:52:31,769] Trial 229 finished with value: 474.39721817475 and parameters: {'x': -16.780661564212185}. Best is trial 221 with value: 1.2026157105730838e-05.\n",
      "[I 2022-05-24 11:52:31,777] Trial 230 finished with value: 0.8705580898037054 and parameters: {'x': 5.933037024883635}. Best is trial 221 with value: 1.2026157105730838e-05.\n",
      "[I 2022-05-24 11:52:31,784] Trial 231 finished with value: 0.008682270657721994 and parameters: {'x': 4.906821297188027}. Best is trial 221 with value: 1.2026157105730838e-05.\n",
      "[I 2022-05-24 11:52:31,791] Trial 232 finished with value: 0.04577773915917453 and parameters: {'x': 5.213957330230059}. Best is trial 221 with value: 1.2026157105730838e-05.\n",
      "[I 2022-05-24 11:52:31,799] Trial 233 finished with value: 1.2597839367126296 and parameters: {'x': 3.877599030331571}. Best is trial 221 with value: 1.2026157105730838e-05.\n",
      "[I 2022-05-24 11:52:31,806] Trial 234 finished with value: 0.030598522686641483 and parameters: {'x': 4.825075665824787}. Best is trial 221 with value: 1.2026157105730838e-05.\n",
      "[I 2022-05-24 11:52:31,813] Trial 235 finished with value: 0.3346865631165193 and parameters: {'x': 5.578521013547926}. Best is trial 221 with value: 1.2026157105730838e-05.\n",
      "[I 2022-05-24 11:52:31,821] Trial 236 finished with value: 0.6286186205928334 and parameters: {'x': 4.207145271444489}. Best is trial 221 with value: 1.2026157105730838e-05.\n",
      "[I 2022-05-24 11:52:31,829] Trial 237 finished with value: 3.721745589726362 and parameters: {'x': 3.0708173778186882}. Best is trial 221 with value: 1.2026157105730838e-05.\n",
      "[I 2022-05-24 11:52:31,836] Trial 238 finished with value: 1.5417849234695518 and parameters: {'x': 6.2416863224943535}. Best is trial 221 with value: 1.2026157105730838e-05.\n",
      "[I 2022-05-24 11:52:31,843] Trial 239 finished with value: 0.007121610709883498 and parameters: {'x': 5.084389636270596}. Best is trial 221 with value: 1.2026157105730838e-05.\n",
      "[I 2022-05-24 11:52:31,850] Trial 240 finished with value: 3.4769312205655414 and parameters: {'x': 6.864653109981999}. Best is trial 221 with value: 1.2026157105730838e-05.\n",
      "[I 2022-05-24 11:52:31,858] Trial 241 finished with value: 0.0071651948687590445 and parameters: {'x': 5.0846474740837495}. Best is trial 221 with value: 1.2026157105730838e-05.\n",
      "[I 2022-05-24 11:52:31,866] Trial 242 finished with value: 0.041515728007620996 and parameters: {'x': 5.203754087094274}. Best is trial 221 with value: 1.2026157105730838e-05.\n",
      "[I 2022-05-24 11:52:31,873] Trial 243 finished with value: 0.2308305818538215 and parameters: {'x': 4.519551686594883}. Best is trial 221 with value: 1.2026157105730838e-05.\n",
      "[I 2022-05-24 11:52:31,881] Trial 244 finished with value: 0.40408185227251475 and parameters: {'x': 5.635674328782054}. Best is trial 221 with value: 1.2026157105730838e-05.\n",
      "[I 2022-05-24 11:52:31,888] Trial 245 finished with value: 1.2071049876399156 and parameters: {'x': 3.90131670275738}. Best is trial 221 with value: 1.2026157105730838e-05.\n",
      "[I 2022-05-24 11:52:31,895] Trial 246 finished with value: 1.6728492384536473 and parameters: {'x': 6.293386731976808}. Best is trial 221 with value: 1.2026157105730838e-05.\n",
      "[I 2022-05-24 11:52:31,902] Trial 247 finished with value: 0.005014431128994835 and parameters: {'x': 5.070812648086305}. Best is trial 221 with value: 1.2026157105730838e-05.\n",
      "[I 2022-05-24 11:52:31,909] Trial 248 finished with value: 0.1344534733244562 and parameters: {'x': 4.63332102143093}. Best is trial 221 with value: 1.2026157105730838e-05.\n",
      "[I 2022-05-24 11:52:31,917] Trial 249 finished with value: 0.18234599270338012 and parameters: {'x': 5.427019897315547}. Best is trial 221 with value: 1.2026157105730838e-05.\n",
      "[I 2022-05-24 11:52:31,924] Trial 250 finished with value: 1.8993398794487257 and parameters: {'x': 3.6218345964838887}. Best is trial 221 with value: 1.2026157105730838e-05.\n",
      "[I 2022-05-24 11:52:31,931] Trial 251 finished with value: 0.3586062480924697 and parameters: {'x': 4.401162586261956}. Best is trial 221 with value: 1.2026157105730838e-05.\n",
      "[I 2022-05-24 11:52:31,941] Trial 252 finished with value: 1.163261426303203 and parameters: {'x': 6.0785459778346045}. Best is trial 221 with value: 1.2026157105730838e-05.\n",
      "[I 2022-05-24 11:52:31,947] Trial 253 finished with value: 0.02214871679259439 and parameters: {'x': 5.148824449579343}. Best is trial 221 with value: 1.2026157105730838e-05.\n",
      "[I 2022-05-24 11:52:31,954] Trial 254 finished with value: 3.0682661396251727 and parameters: {'x': 6.751646693721417}. Best is trial 221 with value: 1.2026157105730838e-05.\n",
      "[I 2022-05-24 11:52:31,961] Trial 255 finished with value: 1.8992391765358658 and parameters: {'x': 3.621871132101259}. Best is trial 221 with value: 1.2026157105730838e-05.\n",
      "[I 2022-05-24 11:52:31,969] Trial 256 finished with value: 5.792168488347828 and parameters: {'x': 2.593307562577256}. Best is trial 221 with value: 1.2026157105730838e-05.\n",
      "[I 2022-05-24 11:52:31,976] Trial 257 finished with value: 0.45909565640159117 and parameters: {'x': 5.677565979371449}. Best is trial 221 with value: 1.2026157105730838e-05.\n",
      "[I 2022-05-24 11:52:31,983] Trial 258 finished with value: 0.2926353065707867 and parameters: {'x': 4.459042232174464}. Best is trial 221 with value: 1.2026157105730838e-05.\n",
      "[I 2022-05-24 11:52:31,991] Trial 259 finished with value: 0.07057121744123376 and parameters: {'x': 5.2656524372958655}. Best is trial 221 with value: 1.2026157105730838e-05.\n",
      "[I 2022-05-24 11:52:31,999] Trial 260 finished with value: 0.6563338903880849 and parameters: {'x': 4.18985563608201}. Best is trial 221 with value: 1.2026157105730838e-05.\n",
      "[I 2022-05-24 11:52:32,006] Trial 261 finished with value: 1.4980484741474256 and parameters: {'x': 6.22394790499736}. Best is trial 221 with value: 1.2026157105730838e-05.\n",
      "[I 2022-05-24 11:52:32,014] Trial 262 finished with value: 3.3811486782526887 and parameters: {'x': 3.16120999615163}. Best is trial 221 with value: 1.2026157105730838e-05.\n",
      "[I 2022-05-24 11:52:32,022] Trial 263 finished with value: 5.43671639721167 and parameters: {'x': 7.331676735143976}. Best is trial 221 with value: 1.2026157105730838e-05.\n",
      "[I 2022-05-24 11:52:32,030] Trial 264 finished with value: 0.002029518535081728 and parameters: {'x': 5.045050177969479}. Best is trial 221 with value: 1.2026157105730838e-05.\n",
      "[I 2022-05-24 11:52:32,037] Trial 265 finished with value: 0.0054775631686572 and parameters: {'x': 5.074010561196745}. Best is trial 221 with value: 1.2026157105730838e-05.\n",
      "[I 2022-05-24 11:52:32,046] Trial 266 finished with value: 101.7901830371325 and parameters: {'x': 15.089112103507052}. Best is trial 221 with value: 1.2026157105730838e-05.\n",
      "[I 2022-05-24 11:52:32,053] Trial 267 finished with value: 0.4577857714921952 and parameters: {'x': 5.676598678311002}. Best is trial 221 with value: 1.2026157105730838e-05.\n",
      "[I 2022-05-24 11:52:32,060] Trial 268 finished with value: 1.0629945616880443 and parameters: {'x': 3.968983723849112}. Best is trial 221 with value: 1.2026157105730838e-05.\n",
      "[I 2022-05-24 11:52:32,068] Trial 269 finished with value: 0.08426424637308676 and parameters: {'x': 4.709716954726793}. Best is trial 221 with value: 1.2026157105730838e-05.\n",
      "[I 2022-05-24 11:52:32,075] Trial 270 finished with value: 206.00326647510235 and parameters: {'x': -9.352813887008441}. Best is trial 221 with value: 1.2026157105730838e-05.\n",
      "[I 2022-05-24 11:52:32,083] Trial 271 finished with value: 1.8900048494217276 and parameters: {'x': 6.374774472203251}. Best is trial 221 with value: 1.2026157105730838e-05.\n",
      "[I 2022-05-24 11:52:32,090] Trial 272 finished with value: 7.843192438030962e-06 and parameters: {'x': 5.002800570020198}. Best is trial 272 with value: 7.843192438030962e-06.\n",
      "[I 2022-05-24 11:52:32,097] Trial 273 finished with value: 2.4216859126038868 and parameters: {'x': 3.4438233028978082}. Best is trial 272 with value: 7.843192438030962e-06.\n",
      "[I 2022-05-24 11:52:32,105] Trial 274 finished with value: 0.37590427163611034 and parameters: {'x': 5.613110325827343}. Best is trial 272 with value: 7.843192438030962e-06.\n",
      "[I 2022-05-24 11:52:32,112] Trial 275 finished with value: 3.3683907289910002 and parameters: {'x': 6.8353176098405966}. Best is trial 272 with value: 7.843192438030962e-06.\n",
      "[I 2022-05-24 11:52:32,122] Trial 276 finished with value: 0.2316010375680051 and parameters: {'x': 4.5187505453842}. Best is trial 272 with value: 7.843192438030962e-06.\n",
      "[I 2022-05-24 11:52:32,129] Trial 277 finished with value: 5.110802662152822 and parameters: {'x': 2.7392915574641603}. Best is trial 272 with value: 7.843192438030962e-06.\n",
      "[I 2022-05-24 11:52:32,136] Trial 278 finished with value: 0.005790870103975709 and parameters: {'x': 4.9239022332523765}. Best is trial 272 with value: 7.843192438030962e-06.\n",
      "[I 2022-05-24 11:52:32,144] Trial 279 finished with value: 1.122149548532632 and parameters: {'x': 6.05931560383704}. Best is trial 272 with value: 7.843192438030962e-06.\n",
      "[I 2022-05-24 11:52:32,153] Trial 280 finished with value: 1.1314171921265954 and parameters: {'x': 3.9363190364932747}. Best is trial 272 with value: 7.843192438030962e-06.\n",
      "[I 2022-05-24 11:52:32,159] Trial 281 finished with value: 0.06800657328229677 and parameters: {'x': 5.260780699596992}. Best is trial 272 with value: 7.843192438030962e-06.\n",
      "[I 2022-05-24 11:52:32,166] Trial 282 finished with value: 6.698729515162357 and parameters: {'x': 7.588190393916637}. Best is trial 272 with value: 7.843192438030962e-06.\n",
      "[I 2022-05-24 11:52:32,174] Trial 283 finished with value: 0.4038609852094327 and parameters: {'x': 4.36449942155067}. Best is trial 272 with value: 7.843192438030962e-06.\n"
     ]
    },
    {
     "name": "stdout",
     "output_type": "stream",
     "text": [
      "[I 2022-05-24 11:52:32,181] Trial 284 finished with value: 1.0661520370314501 and parameters: {'x': 6.032546384929728}. Best is trial 272 with value: 7.843192438030962e-06.\n",
      "[I 2022-05-24 11:52:32,188] Trial 285 finished with value: 109.97306828476009 and parameters: {'x': -5.486804483957927}. Best is trial 272 with value: 7.843192438030962e-06.\n",
      "[I 2022-05-24 11:52:32,196] Trial 286 finished with value: 0.016554166337957837 and parameters: {'x': 5.128662995216021}. Best is trial 272 with value: 7.843192438030962e-06.\n",
      "[I 2022-05-24 11:52:32,203] Trial 287 finished with value: 9.581229638955717 and parameters: {'x': 1.9046438591083388}. Best is trial 272 with value: 7.843192438030962e-06.\n",
      "[I 2022-05-24 11:52:32,211] Trial 288 finished with value: 1.6380806475818943 and parameters: {'x': 3.7201247531177524}. Best is trial 272 with value: 7.843192438030962e-06.\n",
      "[I 2022-05-24 11:52:32,218] Trial 289 finished with value: 1.8834331053075313 and parameters: {'x': 6.372382273751571}. Best is trial 272 with value: 7.843192438030962e-06.\n",
      "[I 2022-05-24 11:52:32,226] Trial 290 finished with value: 0.10115065162251002 and parameters: {'x': 4.681958097693857}. Best is trial 272 with value: 7.843192438030962e-06.\n",
      "[I 2022-05-24 11:52:32,234] Trial 291 finished with value: 61.89800541265699 and parameters: {'x': -2.8675285453982937}. Best is trial 272 with value: 7.843192438030962e-06.\n",
      "[I 2022-05-24 11:52:32,241] Trial 292 finished with value: 3.5351268258983874 and parameters: {'x': 3.119806705176729}. Best is trial 272 with value: 7.843192438030962e-06.\n",
      "[I 2022-05-24 11:52:32,249] Trial 293 finished with value: 12.35233714932285 and parameters: {'x': 8.514589186423194}. Best is trial 272 with value: 7.843192438030962e-06.\n",
      "[I 2022-05-24 11:52:32,258] Trial 294 finished with value: 3.7350788422261947 and parameters: {'x': 6.932635206712895}. Best is trial 272 with value: 7.843192438030962e-06.\n",
      "[I 2022-05-24 11:52:32,265] Trial 295 finished with value: 0.4904611139718961 and parameters: {'x': 5.700329289671577}. Best is trial 272 with value: 7.843192438030962e-06.\n",
      "[I 2022-05-24 11:52:32,272] Trial 296 finished with value: 0.571146410077209 and parameters: {'x': 4.244257709217481}. Best is trial 272 with value: 7.843192438030962e-06.\n",
      "[I 2022-05-24 11:52:32,280] Trial 297 finished with value: 0.0062814083890233765 and parameters: {'x': 5.07925533665958}. Best is trial 272 with value: 7.843192438030962e-06.\n",
      "[I 2022-05-24 11:52:32,287] Trial 298 finished with value: 0.5571278498646676 and parameters: {'x': 5.746409974387178}. Best is trial 272 with value: 7.843192438030962e-06.\n",
      "[I 2022-05-24 11:52:32,295] Trial 299 finished with value: 1.9878456782955223 and parameters: {'x': 3.5900901878859335}. Best is trial 272 with value: 7.843192438030962e-06.\n",
      "[I 2022-05-24 11:52:32,302] Trial 300 finished with value: 0.11205032684673377 and parameters: {'x': 4.66526080772229}. Best is trial 272 with value: 7.843192438030962e-06.\n",
      "[I 2022-05-24 11:52:32,310] Trial 301 finished with value: 0.08326771962848963 and parameters: {'x': 5.288561465945281}. Best is trial 272 with value: 7.843192438030962e-06.\n",
      "[I 2022-05-24 11:52:32,317] Trial 302 finished with value: 2.8113464844708527 and parameters: {'x': 6.676707035969866}. Best is trial 272 with value: 7.843192438030962e-06.\n",
      "[I 2022-05-24 11:52:32,325] Trial 303 finished with value: 0.9809637963424491 and parameters: {'x': 4.009563835301614}. Best is trial 272 with value: 7.843192438030962e-06.\n",
      "[I 2022-05-24 11:52:32,332] Trial 304 finished with value: 5.8577866761606225 and parameters: {'x': 2.5797135136185587}. Best is trial 272 with value: 7.843192438030962e-06.\n",
      "[I 2022-05-24 11:52:32,340] Trial 305 finished with value: 0.0031823115574704628 and parameters: {'x': 4.943588019380007}. Best is trial 272 with value: 7.843192438030962e-06.\n",
      "[I 2022-05-24 11:52:32,347] Trial 306 finished with value: 0.5742819144678428 and parameters: {'x': 5.757813904905316}. Best is trial 272 with value: 7.843192438030962e-06.\n",
      "[I 2022-05-24 11:52:32,355] Trial 307 finished with value: 0.1036267423880926 and parameters: {'x': 4.678088921613293}. Best is trial 272 with value: 7.843192438030962e-06.\n",
      "[I 2022-05-24 11:52:32,364] Trial 308 finished with value: 1.760293631645775 and parameters: {'x': 6.326760578117158}. Best is trial 272 with value: 7.843192438030962e-06.\n",
      "[I 2022-05-24 11:52:32,370] Trial 309 finished with value: 6.373622298334234 and parameters: {'x': 7.524603394264975}. Best is trial 272 with value: 7.843192438030962e-06.\n",
      "[I 2022-05-24 11:52:32,378] Trial 310 finished with value: 2.8423613823843183 and parameters: {'x': 3.3140695796135837}. Best is trial 272 with value: 7.843192438030962e-06.\n",
      "[I 2022-05-24 11:52:32,385] Trial 311 finished with value: 0.0850199286021115 and parameters: {'x': 5.291581770009909}. Best is trial 272 with value: 7.843192438030962e-06.\n",
      "[I 2022-05-24 11:52:32,393] Trial 312 finished with value: 0.726320504504482 and parameters: {'x': 4.147755607525352}. Best is trial 272 with value: 7.843192438030962e-06.\n",
      "[I 2022-05-24 11:52:32,400] Trial 313 finished with value: 0.017850262981429568 and parameters: {'x': 4.866395123661486}. Best is trial 272 with value: 7.843192438030962e-06.\n",
      "[I 2022-05-24 11:52:32,408] Trial 314 finished with value: 0.6987816663081706 and parameters: {'x': 5.835931615808477}. Best is trial 272 with value: 7.843192438030962e-06.\n",
      "[I 2022-05-24 11:52:32,415] Trial 315 finished with value: 1.274959687332435 and parameters: {'x': 3.8708588718267167}. Best is trial 272 with value: 7.843192438030962e-06.\n",
      "[I 2022-05-24 11:52:32,423] Trial 316 finished with value: 4.085695240482081 and parameters: {'x': 7.021310278132004}. Best is trial 272 with value: 7.843192438030962e-06.\n",
      "[I 2022-05-24 11:52:32,430] Trial 317 finished with value: 0.07561304562543386 and parameters: {'x': 5.274978263914503}. Best is trial 272 with value: 7.843192438030962e-06.\n",
      "[I 2022-05-24 11:52:32,438] Trial 318 finished with value: 2.0980510556519536 and parameters: {'x': 6.44846506884079}. Best is trial 272 with value: 7.843192438030962e-06.\n",
      "[I 2022-05-24 11:52:32,445] Trial 319 finished with value: 0.3280665134662112 and parameters: {'x': 4.427229091637668}. Best is trial 272 with value: 7.843192438030962e-06.\n",
      "[I 2022-05-24 11:52:32,453] Trial 320 finished with value: 4.547980730122679 and parameters: {'x': 2.8674004759161464}. Best is trial 272 with value: 7.843192438030962e-06.\n",
      "[I 2022-05-24 11:52:32,461] Trial 321 finished with value: 0.5057172702520062 and parameters: {'x': 5.711138010692725}. Best is trial 272 with value: 7.843192438030962e-06.\n",
      "[I 2022-05-24 11:52:32,470] Trial 322 finished with value: 158.5141041950581 and parameters: {'x': 17.59023844869739}. Best is trial 272 with value: 7.843192438030962e-06.\n",
      "[I 2022-05-24 11:52:32,476] Trial 323 finished with value: 0.011942466340028074 and parameters: {'x': 4.890718408045874}. Best is trial 272 with value: 7.843192438030962e-06.\n",
      "[I 2022-05-24 11:52:32,483] Trial 324 finished with value: 2.405571380364201 and parameters: {'x': 3.449009548590256}. Best is trial 272 with value: 7.843192438030962e-06.\n",
      "[I 2022-05-24 11:52:32,491] Trial 325 finished with value: 0.6133474340445733 and parameters: {'x': 4.216834989261795}. Best is trial 272 with value: 7.843192438030962e-06.\n",
      "[I 2022-05-24 11:52:32,499] Trial 326 finished with value: 1.4568983854364141 and parameters: {'x': 6.207020457753892}. Best is trial 272 with value: 7.843192438030962e-06.\n",
      "[I 2022-05-24 11:52:32,506] Trial 327 finished with value: 0.0033248085485133062 and parameters: {'x': 4.9423388471454714}. Best is trial 272 with value: 7.843192438030962e-06.\n",
      "[I 2022-05-24 11:52:32,514] Trial 328 finished with value: 7.50863032860696 and parameters: {'x': 7.740188009718851}. Best is trial 272 with value: 7.843192438030962e-06.\n",
      "[I 2022-05-24 11:52:32,521] Trial 329 finished with value: 8.45081571333254 and parameters: {'x': 2.092971325677619}. Best is trial 272 with value: 7.843192438030962e-06.\n",
      "[I 2022-05-24 11:52:32,529] Trial 330 finished with value: 0.2948351939553245 and parameters: {'x': 5.542987287102861}. Best is trial 272 with value: 7.843192438030962e-06.\n",
      "[I 2022-05-24 11:52:32,537] Trial 331 finished with value: 1.1996373819044728 and parameters: {'x': 3.9047204092541152}. Best is trial 272 with value: 7.843192438030962e-06.\n",
      "[I 2022-05-24 11:52:32,544] Trial 332 finished with value: 3.285140722587885 and parameters: {'x': 6.812495716570907}. Best is trial 272 with value: 7.843192438030962e-06.\n",
      "[I 2022-05-24 11:52:32,552] Trial 333 finished with value: 0.009743281766611284 and parameters: {'x': 4.9012919366687235}. Best is trial 272 with value: 7.843192438030962e-06.\n",
      "[I 2022-05-24 11:52:32,559] Trial 334 finished with value: 0.38620751906357487 and parameters: {'x': 4.378544032884409}. Best is trial 272 with value: 7.843192438030962e-06.\n",
      "[I 2022-05-24 11:52:32,567] Trial 335 finished with value: 0.8223852613798946 and parameters: {'x': 5.90685459770566}. Best is trial 272 with value: 7.843192438030962e-06.\n",
      "[I 2022-05-24 11:52:32,577] Trial 336 finished with value: 2.326093894115412 and parameters: {'x': 3.474846271972752}. Best is trial 272 with value: 7.843192438030962e-06.\n",
      "[I 2022-05-24 11:52:32,583] Trial 337 finished with value: 0.031938154538402735 and parameters: {'x': 5.178712491276919}. Best is trial 272 with value: 7.843192438030962e-06.\n",
      "[I 2022-05-24 11:52:32,591] Trial 338 finished with value: 1.7439551693584667 and parameters: {'x': 6.320588947916219}. Best is trial 272 with value: 7.843192438030962e-06.\n",
      "[I 2022-05-24 11:52:32,598] Trial 339 finished with value: 0.29358768117704426 and parameters: {'x': 4.4581626801547865}. Best is trial 272 with value: 7.843192438030962e-06.\n",
      "[I 2022-05-24 11:52:32,606] Trial 340 finished with value: 5.220268114394296 and parameters: {'x': 2.715209393753052}. Best is trial 272 with value: 7.843192438030962e-06.\n",
      "[I 2022-05-24 11:52:32,613] Trial 341 finished with value: 0.32126726999258204 and parameters: {'x': 5.566804437167337}. Best is trial 272 with value: 7.843192438030962e-06.\n",
      "[I 2022-05-24 11:52:32,621] Trial 342 finished with value: 1.7769427472076769 and parameters: {'x': 3.6669798399095095}. Best is trial 272 with value: 7.843192438030962e-06.\n",
      "[I 2022-05-24 11:52:32,628] Trial 343 finished with value: 3.7988433000203212 and parameters: {'x': 6.949062159096092}. Best is trial 272 with value: 7.843192438030962e-06.\n",
      "[I 2022-05-24 11:52:32,636] Trial 344 finished with value: 0.06503169639522435 and parameters: {'x': 4.744986870151311}. Best is trial 272 with value: 7.843192438030962e-06.\n",
      "[I 2022-05-24 11:52:32,644] Trial 345 finished with value: 0.5305522916494202 and parameters: {'x': 5.728390205624307}. Best is trial 272 with value: 7.843192438030962e-06.\n",
      "[I 2022-05-24 11:52:32,651] Trial 346 finished with value: 0.7566019012834931 and parameters: {'x': 4.130171337973108}. Best is trial 272 with value: 7.843192438030962e-06.\n",
      "[I 2022-05-24 11:52:32,659] Trial 347 finished with value: 0.00020860798289486956 and parameters: {'x': 4.985556732263962}. Best is trial 272 with value: 7.843192438030962e-06.\n",
      "[I 2022-05-24 11:52:32,666] Trial 348 finished with value: 3.249056589225898 and parameters: {'x': 3.1974860363298436}. Best is trial 272 with value: 7.843192438030962e-06.\n",
      "[I 2022-05-24 11:52:32,674] Trial 349 finished with value: 1.61872454339492 and parameters: {'x': 6.272291060801309}. Best is trial 272 with value: 7.843192438030962e-06.\n",
      "[I 2022-05-24 11:52:32,683] Trial 350 finished with value: 10.607931425599327 and parameters: {'x': 8.256981950456485}. Best is trial 272 with value: 7.843192438030962e-06.\n",
      "[I 2022-05-24 11:52:32,690] Trial 351 finished with value: 0.024234283424681966 and parameters: {'x': 4.844326356037119}. Best is trial 272 with value: 7.843192438030962e-06.\n",
      "[I 2022-05-24 11:52:32,697] Trial 352 finished with value: 0.6890007737731934 and parameters: {'x': 4.1699392951276435}. Best is trial 272 with value: 7.843192438030962e-06.\n",
      "[I 2022-05-24 11:52:32,705] Trial 353 finished with value: 0.2242344291597922 and parameters: {'x': 5.473533978886196}. Best is trial 272 with value: 7.843192438030962e-06.\n",
      "[I 2022-05-24 11:52:32,713] Trial 354 finished with value: 2.9916572997891846 and parameters: {'x': 6.729640800799167}. Best is trial 272 with value: 7.843192438030962e-06.\n",
      "[I 2022-05-24 11:52:32,720] Trial 355 finished with value: 0.001275990170941123 and parameters: {'x': 4.964278995381693}. Best is trial 272 with value: 7.843192438030962e-06.\n",
      "[I 2022-05-24 11:52:32,728] Trial 356 finished with value: 2.5902001891255937 and parameters: {'x': 3.3905901115236077}. Best is trial 272 with value: 7.843192438030962e-06.\n",
      "[I 2022-05-24 11:52:32,735] Trial 357 finished with value: 0.3707287759777409 and parameters: {'x': 4.391124991498468}. Best is trial 272 with value: 7.843192438030962e-06.\n",
      "[I 2022-05-24 11:52:32,743] Trial 358 finished with value: 39.63457051152317 and parameters: {'x': 11.295599297249085}. Best is trial 272 with value: 7.843192438030962e-06.\n",
      "[I 2022-05-24 11:52:32,751] Trial 359 finished with value: 11.0800599291888 and parameters: {'x': 1.6713276026035846}. Best is trial 272 with value: 7.843192438030962e-06.\n",
      "[I 2022-05-24 11:52:32,758] Trial 360 finished with value: 0.6514035939552513 and parameters: {'x': 5.8070957774361425}. Best is trial 272 with value: 7.843192438030962e-06.\n",
      "[I 2022-05-24 11:52:32,766] Trial 361 finished with value: 6.330074812254555 and parameters: {'x': 7.515963992638717}. Best is trial 272 with value: 7.843192438030962e-06.\n",
      "[I 2022-05-24 11:52:32,774] Trial 362 finished with value: 0.007099370207154617 and parameters: {'x': 5.084257760515899}. Best is trial 272 with value: 7.843192438030962e-06.\n",
      "[I 2022-05-24 11:52:32,782] Trial 363 finished with value: 5.468633764371014 and parameters: {'x': 2.6614889856211894}. Best is trial 272 with value: 7.843192438030962e-06.\n",
      "[I 2022-05-24 11:52:32,791] Trial 364 finished with value: 1.4715768968147915 and parameters: {'x': 6.213085692280142}. Best is trial 272 with value: 7.843192438030962e-06.\n",
      "[I 2022-05-24 11:52:32,798] Trial 365 finished with value: 0.5524175467063587 and parameters: {'x': 4.256752028790957}. Best is trial 272 with value: 7.843192438030962e-06.\n",
      "[I 2022-05-24 11:52:32,806] Trial 366 finished with value: 2.1943985743581442 and parameters: {'x': 3.5186497462253756}. Best is trial 272 with value: 7.843192438030962e-06.\n",
      "[I 2022-05-24 11:52:32,814] Trial 367 finished with value: 0.3021541448844464 and parameters: {'x': 5.549685496338085}. Best is trial 272 with value: 7.843192438030962e-06.\n",
      "[I 2022-05-24 11:52:32,823] Trial 368 finished with value: 0.06145351763236079 and parameters: {'x': 4.752101799860586}. Best is trial 272 with value: 7.843192438030962e-06.\n",
      "[I 2022-05-24 11:52:32,831] Trial 369 finished with value: 3.8089668166142507 and parameters: {'x': 6.951657453708066}. Best is trial 272 with value: 7.843192438030962e-06.\n",
      "[I 2022-05-24 11:52:32,839] Trial 370 finished with value: 1.0904746503921279 and parameters: {'x': 3.9557420575393607}. Best is trial 272 with value: 7.843192438030962e-06.\n",
      "[I 2022-05-24 11:52:32,847] Trial 371 finished with value: 0.607481659758781 and parameters: {'x': 5.779411098046968}. Best is trial 272 with value: 7.843192438030962e-06.\n",
      "[I 2022-05-24 11:52:32,855] Trial 372 finished with value: 0.0012947980345236103 and parameters: {'x': 4.964016697837419}. Best is trial 272 with value: 7.843192438030962e-06.\n",
      "[I 2022-05-24 11:52:32,864] Trial 373 finished with value: 0.03225476710282772 and parameters: {'x': 4.820403877817956}. Best is trial 272 with value: 7.843192438030962e-06.\n",
      "[I 2022-05-24 11:52:32,872] Trial 374 finished with value: 3.6438363409039725 and parameters: {'x': 3.091116467433392}. Best is trial 272 with value: 7.843192438030962e-06.\n",
      "[I 2022-05-24 11:52:32,880] Trial 375 finished with value: 18.73159060814944 and parameters: {'x': 9.328000763418306}. Best is trial 272 with value: 7.843192438030962e-06.\n",
      "[I 2022-05-24 11:52:32,888] Trial 376 finished with value: 29.592842707151714 and parameters: {'x': -0.43993039543262125}. Best is trial 272 with value: 7.843192438030962e-06.\n",
      "[I 2022-05-24 11:52:32,895] Trial 377 finished with value: 2.2367866324745878 and parameters: {'x': 6.495589058690451}. Best is trial 272 with value: 7.843192438030962e-06.\n"
     ]
    },
    {
     "name": "stdout",
     "output_type": "stream",
     "text": [
      "[I 2022-05-24 11:52:32,904] Trial 378 finished with value: 0.9266554441331266 and parameters: {'x': 4.037370557206395}. Best is trial 272 with value: 7.843192438030962e-06.\n",
      "[I 2022-05-24 11:52:32,911] Trial 379 finished with value: 0.0953306367923504 and parameters: {'x': 5.308756597973793}. Best is trial 272 with value: 7.843192438030962e-06.\n",
      "[I 2022-05-24 11:52:32,919] Trial 380 finished with value: 1.1955595053203836 and parameters: {'x': 6.093416437282879}. Best is trial 272 with value: 7.843192438030962e-06.\n",
      "[I 2022-05-24 11:52:32,926] Trial 381 finished with value: 0.1305332298721585 and parameters: {'x': 4.638706172385746}. Best is trial 272 with value: 7.843192438030962e-06.\n",
      "[I 2022-05-24 11:52:32,934] Trial 382 finished with value: 0.14582720234785673 and parameters: {'x': 5.381873280484321}. Best is trial 272 with value: 7.843192438030962e-06.\n",
      "[I 2022-05-24 11:52:32,942] Trial 383 finished with value: 1.7221126290573228 and parameters: {'x': 3.6877071100332355}. Best is trial 272 with value: 7.843192438030962e-06.\n",
      "[I 2022-05-24 11:52:32,950] Trial 384 finished with value: 0.18750322130464608 and parameters: {'x': 4.566983578481548}. Best is trial 272 with value: 7.843192438030962e-06.\n",
      "[I 2022-05-24 11:52:32,957] Trial 385 finished with value: 1.2726345484964035 and parameters: {'x': 6.128111053263996}. Best is trial 272 with value: 7.843192438030962e-06.\n",
      "[I 2022-05-24 11:52:32,965] Trial 386 finished with value: 5.83710080701107 and parameters: {'x': 7.41600927295635}. Best is trial 272 with value: 7.843192438030962e-06.\n",
      "[I 2022-05-24 11:52:32,973] Trial 387 finished with value: 5.201179998011745 and parameters: {'x': 2.7193904327983396}. Best is trial 272 with value: 7.843192438030962e-06.\n",
      "[I 2022-05-24 11:52:32,981] Trial 388 finished with value: 0.06776792313086485 and parameters: {'x': 5.260322728801895}. Best is trial 272 with value: 7.843192438030962e-06.\n",
      "[I 2022-05-24 11:52:32,988] Trial 389 finished with value: 1.2529098018236626 and parameters: {'x': 3.880665464740919}. Best is trial 272 with value: 7.843192438030962e-06.\n",
      "[I 2022-05-24 11:52:32,996] Trial 390 finished with value: 8.700393641976875 and parameters: {'x': 2.0503570314397583}. Best is trial 272 with value: 7.843192438030962e-06.\n",
      "[I 2022-05-24 11:52:33,005] Trial 391 finished with value: 0.10203574731986859 and parameters: {'x': 4.680569651849001}. Best is trial 272 with value: 7.843192438030962e-06.\n",
      "[I 2022-05-24 11:52:33,012] Trial 392 finished with value: 2.3213847308726594 and parameters: {'x': 6.523609113543451}. Best is trial 272 with value: 7.843192438030962e-06.\n",
      "[I 2022-05-24 11:52:33,020] Trial 393 finished with value: 0.4153142680334616 and parameters: {'x': 5.64444880947478}. Best is trial 272 with value: 7.843192438030962e-06.\n",
      "[I 2022-05-24 11:52:33,027] Trial 394 finished with value: 0.41729218817495634 and parameters: {'x': 4.354018430468054}. Best is trial 272 with value: 7.843192438030962e-06.\n",
      "[I 2022-05-24 11:52:33,035] Trial 395 finished with value: 2.7950312582211594 and parameters: {'x': 3.328165301765405}. Best is trial 272 with value: 7.843192438030962e-06.\n",
      "[I 2022-05-24 11:52:33,043] Trial 396 finished with value: 0.004978294767823741 and parameters: {'x': 5.0705570320224975}. Best is trial 272 with value: 7.843192438030962e-06.\n",
      "[I 2022-05-24 11:52:33,051] Trial 397 finished with value: 0.5328695688538885 and parameters: {'x': 5.729979156451668}. Best is trial 272 with value: 7.843192438030962e-06.\n",
      "[I 2022-05-24 11:52:33,059] Trial 398 finished with value: 2.937890902150304 and parameters: {'x': 6.714027684184332}. Best is trial 272 with value: 7.843192438030962e-06.\n",
      "[I 2022-05-24 11:52:33,067] Trial 399 finished with value: 0.001242703325343696 and parameters: {'x': 5.035251997466012}. Best is trial 272 with value: 7.843192438030962e-06.\n",
      "[I 2022-05-24 11:52:33,075] Trial 400 finished with value: 0.5549849305358645 and parameters: {'x': 4.255026892743191}. Best is trial 272 with value: 7.843192438030962e-06.\n",
      "[I 2022-05-24 11:52:33,083] Trial 401 finished with value: 5.894630874280744 and parameters: {'x': 7.427886091702151}. Best is trial 272 with value: 7.843192438030962e-06.\n",
      "[I 2022-05-24 11:52:33,091] Trial 402 finished with value: 0.9683390676061795 and parameters: {'x': 5.9840422082442295}. Best is trial 272 with value: 7.843192438030962e-06.\n",
      "[I 2022-05-24 11:52:33,099] Trial 403 finished with value: 2.1247776975815165 and parameters: {'x': 3.5423382773834264}. Best is trial 272 with value: 7.843192438030962e-06.\n",
      "[I 2022-05-24 11:52:33,108] Trial 404 finished with value: 3.5288178633998264e-05 and parameters: {'x': 4.9940596146056}. Best is trial 272 with value: 7.843192438030962e-06.\n",
      "[I 2022-05-24 11:52:33,115] Trial 405 finished with value: 0.07783223687941421 and parameters: {'x': 5.278984295040804}. Best is trial 272 with value: 7.843192438030962e-06.\n",
      "[I 2022-05-24 11:52:33,123] Trial 406 finished with value: 11.517650878574365 and parameters: {'x': 8.393766473783128}. Best is trial 272 with value: 7.843192438030962e-06.\n",
      "[I 2022-05-24 11:52:33,131] Trial 407 finished with value: 1.0027093036638632 and parameters: {'x': 3.9986462644680136}. Best is trial 272 with value: 7.843192438030962e-06.\n",
      "[I 2022-05-24 11:52:33,139] Trial 408 finished with value: 2.1186380409205428 and parameters: {'x': 6.455554204047566}. Best is trial 272 with value: 7.843192438030962e-06.\n",
      "[I 2022-05-24 11:52:33,147] Trial 409 finished with value: 6.0338546890600755 and parameters: {'x': 2.543609418463734}. Best is trial 272 with value: 7.843192438030962e-06.\n",
      "[I 2022-05-24 11:52:33,155] Trial 410 finished with value: 0.03410963207242276 and parameters: {'x': 4.815312068416957}. Best is trial 272 with value: 7.843192438030962e-06.\n",
      "[I 2022-05-24 11:52:33,163] Trial 411 finished with value: 0.44676298642408885 and parameters: {'x': 5.668403311200722}. Best is trial 272 with value: 7.843192438030962e-06.\n",
      "[I 2022-05-24 11:52:33,171] Trial 412 finished with value: 0.48207411227785124 and parameters: {'x': 4.305684428895728}. Best is trial 272 with value: 7.843192438030962e-06.\n",
      "[I 2022-05-24 11:52:33,179] Trial 413 finished with value: 3.9522201274550395 and parameters: {'x': 6.988019146652023}. Best is trial 272 with value: 7.843192438030962e-06.\n",
      "[I 2022-05-24 11:52:33,187] Trial 414 finished with value: 3.070669687227896 and parameters: {'x': 3.24766735828271}. Best is trial 272 with value: 7.843192438030962e-06.\n",
      "[I 2022-05-24 11:52:33,194] Trial 415 finished with value: 0.0978648237232368 and parameters: {'x': 5.312833539958932}. Best is trial 272 with value: 7.843192438030962e-06.\n",
      "[I 2022-05-24 11:52:33,202] Trial 416 finished with value: 1.2846026776036996 and parameters: {'x': 6.133403139930228}. Best is trial 272 with value: 7.843192438030962e-06.\n",
      "[I 2022-05-24 11:52:33,212] Trial 417 finished with value: 20.524264050055475 and parameters: {'x': 0.46962870726300476}. Best is trial 272 with value: 7.843192438030962e-06.\n",
      "[I 2022-05-24 11:52:33,218] Trial 418 finished with value: 0.06369277316441557 and parameters: {'x': 4.74762572800617}. Best is trial 272 with value: 7.843192438030962e-06.\n",
      "[I 2022-05-24 11:52:33,226] Trial 419 finished with value: 1.2456436512461673 and parameters: {'x': 3.8839159300275954}. Best is trial 272 with value: 7.843192438030962e-06.\n",
      "[I 2022-05-24 11:52:33,234] Trial 420 finished with value: 0.5468800438356785 and parameters: {'x': 5.739513383134936}. Best is trial 272 with value: 7.843192438030962e-06.\n",
      "[I 2022-05-24 11:52:33,242] Trial 421 finished with value: 0.004752559690699594 and parameters: {'x': 4.931061188792527}. Best is trial 272 with value: 7.843192438030962e-06.\n",
      "[I 2022-05-24 11:52:33,250] Trial 422 finished with value: 3.997927092653778e-06 and parameters: {'x': 4.998000518293994}. Best is trial 422 with value: 3.997927092653778e-06.\n",
      "[I 2022-05-24 11:52:33,258] Trial 423 finished with value: 224.32284396578174 and parameters: {'x': 19.977411123614846}. Best is trial 422 with value: 3.997927092653778e-06.\n",
      "[I 2022-05-24 11:52:33,266] Trial 424 finished with value: 4.785785597921988 and parameters: {'x': 7.1876438462240575}. Best is trial 422 with value: 3.997927092653778e-06.\n",
      "[I 2022-05-24 11:52:33,274] Trial 425 finished with value: 0.5059385479254903 and parameters: {'x': 4.28870642634318}. Best is trial 422 with value: 3.997927092653778e-06.\n",
      "[I 2022-05-24 11:52:33,282] Trial 426 finished with value: 1.244530922623525 and parameters: {'x': 6.115585461819723}. Best is trial 422 with value: 3.997927092653778e-06.\n",
      "[I 2022-05-24 11:52:33,290] Trial 427 finished with value: 0.029776019632660147 and parameters: {'x': 5.17255729376836}. Best is trial 422 with value: 3.997927092653778e-06.\n",
      "[I 2022-05-24 11:52:33,297] Trial 428 finished with value: 2.252713306015576 and parameters: {'x': 3.499095837164952}. Best is trial 422 with value: 3.997927092653778e-06.\n",
      "[I 2022-05-24 11:52:33,305] Trial 429 finished with value: 5.182076221083487 and parameters: {'x': 2.72358259076164}. Best is trial 422 with value: 3.997927092653778e-06.\n",
      "[I 2022-05-24 11:52:33,315] Trial 430 finished with value: 0.06739020452898996 and parameters: {'x': 5.259596233657174}. Best is trial 422 with value: 3.997927092653778e-06.\n",
      "[I 2022-05-24 11:52:33,321] Trial 431 finished with value: 1.9221391799123202 and parameters: {'x': 6.386412341229088}. Best is trial 422 with value: 3.997927092653778e-06.\n",
      "[I 2022-05-24 11:52:33,329] Trial 432 finished with value: 0.5543995325935683 and parameters: {'x': 4.255419895112978}. Best is trial 422 with value: 3.997927092653778e-06.\n",
      "[I 2022-05-24 11:52:33,337] Trial 433 finished with value: 12.601062994699888 and parameters: {'x': 1.4502024008825676}. Best is trial 422 with value: 3.997927092653778e-06.\n",
      "[I 2022-05-24 11:52:33,345] Trial 434 finished with value: 0.08071452576004179 and parameters: {'x': 4.715896980375002}. Best is trial 422 with value: 3.997927092653778e-06.\n",
      "[I 2022-05-24 11:52:33,353] Trial 435 finished with value: 0.42404378037233265 and parameters: {'x': 5.6511864405624035}. Best is trial 422 with value: 3.997927092653778e-06.\n",
      "[I 2022-05-24 11:52:33,361] Trial 436 finished with value: 2.1240498119811404 and parameters: {'x': 3.542587974531176}. Best is trial 422 with value: 3.997927092653778e-06.\n",
      "[I 2022-05-24 11:52:33,369] Trial 437 finished with value: 7.720789921490754 and parameters: {'x': 7.778630943736637}. Best is trial 422 with value: 3.997927092653778e-06.\n",
      "[I 2022-05-24 11:52:33,377] Trial 438 finished with value: 3.035504507291737 and parameters: {'x': 6.742269929514866}. Best is trial 422 with value: 3.997927092653778e-06.\n",
      "[I 2022-05-24 11:52:33,385] Trial 439 finished with value: 0.03186335828821534 and parameters: {'x': 4.821496895578213}. Best is trial 422 with value: 3.997927092653778e-06.\n",
      "[I 2022-05-24 11:52:33,392] Trial 440 finished with value: 0.5614980276690656 and parameters: {'x': 5.749331720714575}. Best is trial 422 with value: 3.997927092653778e-06.\n",
      "[I 2022-05-24 11:52:33,400] Trial 441 finished with value: 0.7789023873593139 and parameters: {'x': 4.1174455329220105}. Best is trial 422 with value: 3.997927092653778e-06.\n",
      "[I 2022-05-24 11:52:33,408] Trial 442 finished with value: 0.05489912111013311 and parameters: {'x': 5.234305614764421}. Best is trial 422 with value: 3.997927092653778e-06.\n",
      "[I 2022-05-24 11:52:33,417] Trial 443 finished with value: 4.966645014050545 and parameters: {'x': 2.771402904504597}. Best is trial 422 with value: 3.997927092653778e-06.\n",
      "[I 2022-05-24 11:52:33,424] Trial 444 finished with value: 1.3428498151480988 and parameters: {'x': 6.158813969171971}. Best is trial 422 with value: 3.997927092653778e-06.\n",
      "[I 2022-05-24 11:52:33,432] Trial 445 finished with value: 0.26189974363453317 and parameters: {'x': 4.488238587196599}. Best is trial 422 with value: 3.997927092653778e-06.\n",
      "[I 2022-05-24 11:52:33,440] Trial 446 finished with value: 1.7085916963299015 and parameters: {'x': 3.6928689062186986}. Best is trial 422 with value: 3.997927092653778e-06.\n",
      "[I 2022-05-24 11:52:33,448] Trial 447 finished with value: 3.9225549427126465 and parameters: {'x': 6.980544102693158}. Best is trial 422 with value: 3.997927092653778e-06.\n",
      "[I 2022-05-24 11:52:33,456] Trial 448 finished with value: 0.4753835589961787 and parameters: {'x': 5.689480644395605}. Best is trial 422 with value: 3.997927092653778e-06.\n",
      "[I 2022-05-24 11:52:33,464] Trial 449 finished with value: 0.0008283212917219192 and parameters: {'x': 5.028780571427995}. Best is trial 422 with value: 3.997927092653778e-06.\n",
      "[I 2022-05-24 11:52:33,472] Trial 450 finished with value: 0.3219118338256868 and parameters: {'x': 4.432627253187389}. Best is trial 422 with value: 3.997927092653778e-06.\n",
      "[I 2022-05-24 11:52:33,480] Trial 451 finished with value: 69.80024789556019 and parameters: {'x': 13.354654265471444}. Best is trial 422 with value: 3.997927092653778e-06.\n",
      "[I 2022-05-24 11:52:33,488] Trial 452 finished with value: 2.9786010536537066 and parameters: {'x': 3.2741375913318853}. Best is trial 422 with value: 3.997927092653778e-06.\n",
      "[I 2022-05-24 11:52:33,496] Trial 453 finished with value: 0.05904947578009503 and parameters: {'x': 5.243000978969417}. Best is trial 422 with value: 3.997927092653778e-06.\n",
      "[I 2022-05-24 11:52:33,504] Trial 454 finished with value: 1.7898929019321723 and parameters: {'x': 6.337868791000139}. Best is trial 422 with value: 3.997927092653778e-06.\n",
      "[I 2022-05-24 11:52:33,512] Trial 455 finished with value: 0.25427551364067086 and parameters: {'x': 4.495742611714344}. Best is trial 422 with value: 3.997927092653778e-06.\n",
      "[I 2022-05-24 11:52:33,522] Trial 456 finished with value: 1.6441997967876416 and parameters: {'x': 3.7177364557987147}. Best is trial 422 with value: 3.997927092653778e-06.\n",
      "[I 2022-05-24 11:52:33,528] Trial 457 finished with value: 386.9001365013508 and parameters: {'x': -14.669777235681924}. Best is trial 422 with value: 3.997927092653778e-06.\n",
      "[I 2022-05-24 11:52:33,536] Trial 458 finished with value: 0.41386091313363677 and parameters: {'x': 5.6433202259634285}. Best is trial 422 with value: 3.997927092653778e-06.\n",
      "[I 2022-05-24 11:52:33,544] Trial 459 finished with value: 8.710361908694521 and parameters: {'x': 2.048667773920645}. Best is trial 422 with value: 3.997927092653778e-06.\n",
      "[I 2022-05-24 11:52:33,552] Trial 460 finished with value: 0.008185909452327715 and parameters: {'x': 4.909523984104473}. Best is trial 422 with value: 3.997927092653778e-06.\n",
      "[I 2022-05-24 11:52:33,560] Trial 461 finished with value: 8.622901546563407 and parameters: {'x': 7.936477744946044}. Best is trial 422 with value: 3.997927092653778e-06.\n",
      "[I 2022-05-24 11:52:33,569] Trial 462 finished with value: 2.9400172361675154 and parameters: {'x': 6.714647846109374}. Best is trial 422 with value: 3.997927092653778e-06.\n",
      "[I 2022-05-24 11:52:33,577] Trial 463 finished with value: 1.0492199960727941 and parameters: {'x': 3.9756855970587965}. Best is trial 422 with value: 3.997927092653778e-06.\n",
      "[I 2022-05-24 11:52:33,585] Trial 464 finished with value: 1.1569233602223419 and parameters: {'x': 6.075603718951521}. Best is trial 422 with value: 3.997927092653778e-06.\n",
      "[I 2022-05-24 11:52:33,593] Trial 465 finished with value: 0.02145225149675751 and parameters: {'x': 5.146465871440269}. Best is trial 422 with value: 3.997927092653778e-06.\n",
      "[I 2022-05-24 11:52:33,601] Trial 466 finished with value: 3.897365940117751 and parameters: {'x': 3.025825250866137}. Best is trial 422 with value: 3.997927092653778e-06.\n",
      "[I 2022-05-24 11:52:33,609] Trial 467 finished with value: 0.14003460895619313 and parameters: {'x': 4.625788016017401}. Best is trial 422 with value: 3.997927092653778e-06.\n",
      "[I 2022-05-24 11:52:33,617] Trial 468 finished with value: 0.39650686054090034 and parameters: {'x': 5.629687907253189}. Best is trial 422 with value: 3.997927092653778e-06.\n",
      "[I 2022-05-24 11:52:33,626] Trial 469 finished with value: 5.498541048527217 and parameters: {'x': 7.344896809782302}. Best is trial 422 with value: 3.997927092653778e-06.\n",
      "[I 2022-05-24 11:52:33,633] Trial 470 finished with value: 0.38512198205976605 and parameters: {'x': 4.379418029540202}. Best is trial 422 with value: 3.997927092653778e-06.\n",
      "[I 2022-05-24 11:52:33,642] Trial 471 finished with value: 1.5434434669850579 and parameters: {'x': 3.757645997718421}. Best is trial 422 with value: 3.997927092653778e-06.\n"
     ]
    },
    {
     "name": "stdout",
     "output_type": "stream",
     "text": [
      "[I 2022-05-24 11:52:33,650] Trial 472 finished with value: 0.09597167811345515 and parameters: {'x': 5.309792960077299}. Best is trial 422 with value: 3.997927092653778e-06.\n",
      "[I 2022-05-24 11:52:33,658] Trial 473 finished with value: 1.3218167900753144 and parameters: {'x': 6.149702913832662}. Best is trial 422 with value: 3.997927092653778e-06.\n",
      "[I 2022-05-24 11:52:33,666] Trial 474 finished with value: 2.820721056903645 and parameters: {'x': 6.679500240221372}. Best is trial 422 with value: 3.997927092653778e-06.\n",
      "[I 2022-05-24 11:52:33,674] Trial 475 finished with value: 0.0011219238613075916 and parameters: {'x': 4.9665048680953845}. Best is trial 422 with value: 3.997927092653778e-06.\n",
      "[I 2022-05-24 11:52:33,683] Trial 476 finished with value: 4.60151855440549 and parameters: {'x': 2.8548849554381728}. Best is trial 422 with value: 3.997927092653778e-06.\n",
      "[I 2022-05-24 11:52:33,691] Trial 477 finished with value: 0.11016069347289431 and parameters: {'x': 4.668095354848875}. Best is trial 422 with value: 3.997927092653778e-06.\n",
      "[I 2022-05-24 11:52:33,699] Trial 478 finished with value: 1.1914539333231482 and parameters: {'x': 3.9084625827196082}. Best is trial 422 with value: 3.997927092653778e-06.\n",
      "[I 2022-05-24 11:52:33,707] Trial 479 finished with value: 0.6640544614175363 and parameters: {'x': 5.814895368386357}. Best is trial 422 with value: 3.997927092653778e-06.\n",
      "[I 2022-05-24 11:52:33,715] Trial 480 finished with value: 0.04586666396288519 and parameters: {'x': 5.214165039077075}. Best is trial 422 with value: 3.997927092653778e-06.\n",
      "[I 2022-05-24 11:52:33,723] Trial 481 finished with value: 0.8799357353417461 and parameters: {'x': 4.061951101838638}. Best is trial 422 with value: 3.997927092653778e-06.\n",
      "[I 2022-05-24 11:52:33,733] Trial 482 finished with value: 1.6214769526416426 and parameters: {'x': 6.2733722757472155}. Best is trial 422 with value: 3.997927092653778e-06.\n",
      "[I 2022-05-24 11:52:33,740] Trial 483 finished with value: 0.05651243185353226 and parameters: {'x': 4.762276564357798}. Best is trial 422 with value: 3.997927092653778e-06.\n",
      "[I 2022-05-24 11:52:33,748] Trial 484 finished with value: 5.134052748518014 and parameters: {'x': 7.265844820043512}. Best is trial 422 with value: 3.997927092653778e-06.\n",
      "[I 2022-05-24 11:52:33,757] Trial 485 finished with value: 2.470542083385429 and parameters: {'x': 3.4282041852118867}. Best is trial 422 with value: 3.997927092653778e-06.\n",
      "[I 2022-05-24 11:52:33,765] Trial 486 finished with value: 0.2745282995727584 and parameters: {'x': 5.523954482348189}. Best is trial 422 with value: 3.997927092653778e-06.\n",
      "[I 2022-05-24 11:52:33,773] Trial 487 finished with value: 5.942989465245958 and parameters: {'x': 2.5621752595303415}. Best is trial 422 with value: 3.997927092653778e-06.\n",
      "[I 2022-05-24 11:52:33,781] Trial 488 finished with value: 137.91901386048525 and parameters: {'x': -6.743892619591054}. Best is trial 422 with value: 3.997927092653778e-06.\n",
      "[I 2022-05-24 11:52:33,790] Trial 489 finished with value: 0.4285814573890001 and parameters: {'x': 4.34533866970089}. Best is trial 422 with value: 3.997927092653778e-06.\n",
      "[I 2022-05-24 11:52:33,798] Trial 490 finished with value: 2.347879727683178 and parameters: {'x': 6.532279259039676}. Best is trial 422 with value: 3.997927092653778e-06.\n",
      "[I 2022-05-24 11:52:33,806] Trial 491 finished with value: 0.007053725706513001 and parameters: {'x': 5.083986461447742}. Best is trial 422 with value: 3.997927092653778e-06.\n",
      "[I 2022-05-24 11:52:33,814] Trial 492 finished with value: 0.8346895198634972 and parameters: {'x': 5.913613441157417}. Best is trial 422 with value: 3.997927092653778e-06.\n",
      "[I 2022-05-24 11:52:33,823] Trial 493 finished with value: 2.872647998940873 and parameters: {'x': 3.3051112134004565}. Best is trial 422 with value: 3.997927092653778e-06.\n",
      "[I 2022-05-24 11:52:33,831] Trial 494 finished with value: 0.3972083570034395 and parameters: {'x': 4.3697553197341215}. Best is trial 422 with value: 3.997927092653778e-06.\n",
      "[I 2022-05-24 11:52:33,840] Trial 495 finished with value: 0.05879414235869432 and parameters: {'x': 5.242475034506017}. Best is trial 422 with value: 3.997927092653778e-06.\n",
      "[I 2022-05-24 11:52:33,847] Trial 496 finished with value: 11.558253556793993 and parameters: {'x': 8.399743160415797}. Best is trial 422 with value: 3.997927092653778e-06.\n",
      "[I 2022-05-24 11:52:33,856] Trial 497 finished with value: 0.9851513780797944 and parameters: {'x': 4.00745207769106}. Best is trial 422 with value: 3.997927092653778e-06.\n",
      "[I 2022-05-24 11:52:33,864] Trial 498 finished with value: 0.7637762558101107 and parameters: {'x': 5.873942936243615}. Best is trial 422 with value: 3.997927092653778e-06.\n",
      "[I 2022-05-24 11:52:33,872] Trial 499 finished with value: 0.02435600215588116 and parameters: {'x': 4.843935903693767}. Best is trial 422 with value: 3.997927092653778e-06.\n",
      "[I 2022-05-24 11:52:33,880] Trial 500 finished with value: 2.9065010680572594 and parameters: {'x': 3.29515365265451}. Best is trial 422 with value: 3.997927092653778e-06.\n",
      "[I 2022-05-24 11:52:33,888] Trial 501 finished with value: 2.307327629563078 and parameters: {'x': 6.5189890156163335}. Best is trial 422 with value: 3.997927092653778e-06.\n",
      "[I 2022-05-24 11:52:33,896] Trial 502 finished with value: 7.423607025529492 and parameters: {'x': 2.27537029570448}. Best is trial 422 with value: 3.997927092653778e-06.\n",
      "[I 2022-05-24 11:52:33,905] Trial 503 finished with value: 4.942770062689094 and parameters: {'x': 7.223234144819005}. Best is trial 422 with value: 3.997927092653778e-06.\n",
      "[I 2022-05-24 11:52:33,913] Trial 504 finished with value: 0.17721491685677243 and parameters: {'x': 5.420969021255451}. Best is trial 422 with value: 3.997927092653778e-06.\n",
      "[I 2022-05-24 11:52:33,921] Trial 505 finished with value: 0.19617919076073156 and parameters: {'x': 4.557078798474569}. Best is trial 422 with value: 3.997927092653778e-06.\n",
      "[I 2022-05-24 11:52:33,929] Trial 506 finished with value: 1.4156114289023363 and parameters: {'x': 3.810205299683035}. Best is trial 422 with value: 3.997927092653778e-06.\n",
      "[I 2022-05-24 11:52:33,938] Trial 507 finished with value: 0.551203845247847 and parameters: {'x': 5.742431037368352}. Best is trial 422 with value: 3.997927092653778e-06.\n",
      "[I 2022-05-24 11:52:33,947] Trial 508 finished with value: 14.794428732035492 and parameters: {'x': 1.1536473468966095}. Best is trial 422 with value: 3.997927092653778e-06.\n",
      "[I 2022-05-24 11:52:33,954] Trial 509 finished with value: 0.05576296862610473 and parameters: {'x': 4.763858159941732}. Best is trial 422 with value: 3.997927092653778e-06.\n",
      "[I 2022-05-24 11:52:33,963] Trial 510 finished with value: 2.5292068406890627 and parameters: {'x': 6.590348025021273}. Best is trial 422 with value: 3.997927092653778e-06.\n",
      "[I 2022-05-24 11:52:33,971] Trial 511 finished with value: 0.0571807977216855 and parameters: {'x': 5.239125067112767}. Best is trial 422 with value: 3.997927092653778e-06.\n",
      "[I 2022-05-24 11:52:33,980] Trial 512 finished with value: 0.6652996812995842 and parameters: {'x': 4.184340952787512}. Best is trial 422 with value: 3.997927092653778e-06.\n",
      "[I 2022-05-24 11:52:33,988] Trial 513 finished with value: 29.93118110945634 and parameters: {'x': 10.470939691630345}. Best is trial 422 with value: 3.997927092653778e-06.\n",
      "[I 2022-05-24 11:52:33,997] Trial 514 finished with value: 40.12534878105621 and parameters: {'x': -1.3344572601807183}. Best is trial 422 with value: 3.997927092653778e-06.\n",
      "[I 2022-05-24 11:52:34,005] Trial 515 finished with value: 3.2492396750376207 and parameters: {'x': 3.19743525080578}. Best is trial 422 with value: 3.997927092653778e-06.\n",
      "[I 2022-05-24 11:52:34,013] Trial 516 finished with value: 1.1538177346287706 and parameters: {'x': 6.0741590825519145}. Best is trial 422 with value: 3.997927092653778e-06.\n",
      "[I 2022-05-24 11:52:34,022] Trial 517 finished with value: 0.01671353389836858 and parameters: {'x': 4.870719166546744}. Best is trial 422 with value: 3.997927092653778e-06.\n",
      "[I 2022-05-24 11:52:34,030] Trial 518 finished with value: 7.822880461758468 and parameters: {'x': 7.796941268914753}. Best is trial 422 with value: 3.997927092653778e-06.\n",
      "[I 2022-05-24 11:52:34,039] Trial 519 finished with value: 1.0631414376683117 and parameters: {'x': 3.9689124975695265}. Best is trial 422 with value: 3.997927092653778e-06.\n",
      "[I 2022-05-24 11:52:34,047] Trial 520 finished with value: 0.4035759915231337 and parameters: {'x': 5.635276311161634}. Best is trial 422 with value: 3.997927092653778e-06.\n",
      "[I 2022-05-24 11:52:34,057] Trial 521 finished with value: 3.9336183016464714 and parameters: {'x': 6.983335146072512}. Best is trial 422 with value: 3.997927092653778e-06.\n",
      "[I 2022-05-24 11:52:34,064] Trial 522 finished with value: 0.06756412807793961 and parameters: {'x': 4.740068993619577}. Best is trial 422 with value: 3.997927092653778e-06.\n",
      "[I 2022-05-24 11:52:34,072] Trial 523 finished with value: 0.2988537963805797 and parameters: {'x': 5.546675220199873}. Best is trial 422 with value: 3.997927092653778e-06.\n",
      "[I 2022-05-24 11:52:34,080] Trial 524 finished with value: 1.5169846514729575 and parameters: {'x': 3.7683406918011144}. Best is trial 422 with value: 3.997927092653778e-06.\n",
      "[I 2022-05-24 11:52:34,089] Trial 525 finished with value: 4.6656954985613295 and parameters: {'x': 2.839977893964664}. Best is trial 422 with value: 3.997927092653778e-06.\n",
      "[I 2022-05-24 11:52:34,097] Trial 526 finished with value: 1.5318886891472014 and parameters: {'x': 6.237694909558572}. Best is trial 422 with value: 3.997927092653778e-06.\n",
      "[I 2022-05-24 11:52:34,105] Trial 527 finished with value: 0.23835874962394318 and parameters: {'x': 4.511780019229095}. Best is trial 422 with value: 3.997927092653778e-06.\n",
      "[I 2022-05-24 11:52:34,114] Trial 528 finished with value: 0.06768968108038247 and parameters: {'x': 5.260172406454609}. Best is trial 422 with value: 3.997927092653778e-06.\n",
      "[I 2022-05-24 11:52:34,122] Trial 529 finished with value: 17.291120574329003 and parameters: {'x': 9.158259320235933}. Best is trial 422 with value: 3.997927092653778e-06.\n",
      "[I 2022-05-24 11:52:34,131] Trial 530 finished with value: 1.963785266715676 and parameters: {'x': 6.401351228891485}. Best is trial 422 with value: 3.997927092653778e-06.\n",
      "[I 2022-05-24 11:52:34,139] Trial 531 finished with value: 1.0128355173127186 and parameters: {'x': 3.9936027040414315}. Best is trial 422 with value: 3.997927092653778e-06.\n",
      "[I 2022-05-24 11:52:34,147] Trial 532 finished with value: 81.51199824410557 and parameters: {'x': -4.028399539459116}. Best is trial 422 with value: 3.997927092653778e-06.\n",
      "[I 2022-05-24 11:52:34,156] Trial 533 finished with value: 0.0004378503589841446 and parameters: {'x': 5.020924874168896}. Best is trial 422 with value: 3.997927092653778e-06.\n",
      "[I 2022-05-24 11:52:34,166] Trial 534 finished with value: 7.302994453145806 and parameters: {'x': 2.297594691178652}. Best is trial 422 with value: 3.997927092653778e-06.\n",
      "[I 2022-05-24 11:52:34,174] Trial 535 finished with value: 2.4006361735496577 and parameters: {'x': 3.4506013509914055}. Best is trial 422 with value: 3.997927092653778e-06.\n",
      "[I 2022-05-24 11:52:34,182] Trial 536 finished with value: 0.5786013452059868 and parameters: {'x': 5.760658494467778}. Best is trial 422 with value: 3.997927092653778e-06.\n",
      "[I 2022-05-24 11:52:34,191] Trial 537 finished with value: 0.2102087293888577 and parameters: {'x': 4.541514744633093}. Best is trial 422 with value: 3.997927092653778e-06.\n",
      "[I 2022-05-24 11:52:34,199] Trial 538 finished with value: 5.587624258798127 and parameters: {'x': 7.363815614382418}. Best is trial 422 with value: 3.997927092653778e-06.\n",
      "[I 2022-05-24 11:52:34,208] Trial 539 finished with value: 0.0032609444618314455 and parameters: {'x': 5.057104679859285}. Best is trial 422 with value: 3.997927092653778e-06.\n",
      "[I 2022-05-24 11:52:34,216] Trial 540 finished with value: 1.1275532745675056 and parameters: {'x': 6.061863114797527}. Best is trial 422 with value: 3.997927092653778e-06.\n",
      "[I 2022-05-24 11:52:34,225] Trial 541 finished with value: 0.6383808163877492 and parameters: {'x': 4.201012630645672}. Best is trial 422 with value: 3.997927092653778e-06.\n",
      "[I 2022-05-24 11:52:34,233] Trial 542 finished with value: 0.03435958029743485 and parameters: {'x': 5.1853633736676015}. Best is trial 422 with value: 3.997927092653778e-06.\n",
      "[I 2022-05-24 11:52:34,242] Trial 543 finished with value: 3.385311642777622 and parameters: {'x': 6.839921640390596}. Best is trial 422 with value: 3.997927092653778e-06.\n",
      "[I 2022-05-24 11:52:34,251] Trial 544 finished with value: 3.253179409030791 and parameters: {'x': 3.1963427684200107}. Best is trial 422 with value: 3.997927092653778e-06.\n",
      "[I 2022-05-24 11:52:34,259] Trial 545 finished with value: 0.093103195964656 and parameters: {'x': 4.694871836821548}. Best is trial 422 with value: 3.997927092653778e-06.\n",
      "[I 2022-05-24 11:52:34,268] Trial 546 finished with value: 0.4168041357514127 and parameters: {'x': 5.645603698681639}. Best is trial 422 with value: 3.997927092653778e-06.\n",
      "[I 2022-05-24 11:52:34,278] Trial 547 finished with value: 0.9958491215344136 and parameters: {'x': 4.002077597438351}. Best is trial 422 with value: 3.997927092653778e-06.\n",
      "[I 2022-05-24 11:52:34,285] Trial 548 finished with value: 0.0022362477786496662 and parameters: {'x': 5.0472889815776325}. Best is trial 422 with value: 3.997927092653778e-06.\n",
      "[I 2022-05-24 11:52:34,293] Trial 549 finished with value: 2.1157152190338584 and parameters: {'x': 6.454549833809024}. Best is trial 422 with value: 3.997927092653778e-06.\n",
      "[I 2022-05-24 11:52:34,302] Trial 550 finished with value: 0.26179019677021453 and parameters: {'x': 5.511654372374765}. Best is trial 422 with value: 3.997927092653778e-06.\n",
      "[I 2022-05-24 11:52:34,311] Trial 551 finished with value: 0.382863388466102 and parameters: {'x': 4.381240443737552}. Best is trial 422 with value: 3.997927092653778e-06.\n",
      "[I 2022-05-24 11:52:34,319] Trial 552 finished with value: 9.42370200778034 and parameters: {'x': 1.930195118939912}. Best is trial 422 with value: 3.997927092653778e-06.\n",
      "[I 2022-05-24 11:52:34,328] Trial 553 finished with value: 3.2313402766992967 and parameters: {'x': 3.2024070881594753}. Best is trial 422 with value: 3.997927092653778e-06.\n",
      "[I 2022-05-24 11:52:34,336] Trial 554 finished with value: 1.0712840976048366 and parameters: {'x': 6.035028549173807}. Best is trial 422 with value: 3.997927092653778e-06.\n",
      "[I 2022-05-24 11:52:34,345] Trial 555 finished with value: 0.008483106263729962 and parameters: {'x': 5.092103779855823}. Best is trial 422 with value: 3.997927092653778e-06.\n",
      "[I 2022-05-24 11:52:34,354] Trial 556 finished with value: 4.512851492324961 and parameters: {'x': 7.124347309722438}. Best is trial 422 with value: 3.997927092653778e-06.\n",
      "[I 2022-05-24 11:52:34,362] Trial 557 finished with value: 0.9519062772122506 and parameters: {'x': 4.0243431560162914}. Best is trial 422 with value: 3.997927092653778e-06.\n",
      "[I 2022-05-24 11:52:34,371] Trial 558 finished with value: 0.005399503529144605 and parameters: {'x': 4.926518685850452}. Best is trial 422 with value: 3.997927092653778e-06.\n",
      "[I 2022-05-24 11:52:34,382] Trial 559 finished with value: 0.9688444417041069 and parameters: {'x': 5.984298959515912}. Best is trial 422 with value: 3.997927092653778e-06.\n",
      "[I 2022-05-24 11:52:34,389] Trial 560 finished with value: 2.0590222437933843 and parameters: {'x': 3.565070648500985}. Best is trial 422 with value: 3.997927092653778e-06.\n",
      "[I 2022-05-24 11:52:34,398] Trial 561 finished with value: 0.12055925896809765 and parameters: {'x': 5.347216443977093}. Best is trial 422 with value: 3.997927092653778e-06.\n",
      "[I 2022-05-24 11:52:34,407] Trial 562 finished with value: 0.3832503151807273 and parameters: {'x': 4.3809278594697325}. Best is trial 422 with value: 3.997927092653778e-06.\n",
      "[I 2022-05-24 11:52:34,416] Trial 563 finished with value: 1.9194384524635468 and parameters: {'x': 6.385438000223592}. Best is trial 422 with value: 3.997927092653778e-06.\n",
      "[I 2022-05-24 11:52:34,424] Trial 564 finished with value: 0.07805287048518354 and parameters: {'x': 4.7206205618067365}. Best is trial 422 with value: 3.997927092653778e-06.\n",
      "[I 2022-05-24 11:52:34,433] Trial 565 finished with value: 10.46277810227515 and parameters: {'x': 8.234621786588836}. Best is trial 422 with value: 3.997927092653778e-06.\n"
     ]
    },
    {
     "name": "stdout",
     "output_type": "stream",
     "text": [
      "[I 2022-05-24 11:52:34,441] Trial 566 finished with value: 0.3005166547740212 and parameters: {'x': 5.548193993741286}. Best is trial 422 with value: 3.997927092653778e-06.\n",
      "[I 2022-05-24 11:52:34,450] Trial 567 finished with value: 4.0119523216024895 and parameters: {'x': 2.997014148426782}. Best is trial 422 with value: 3.997927092653778e-06.\n",
      "[I 2022-05-24 11:52:34,458] Trial 568 finished with value: 3.2518883844567137 and parameters: {'x': 6.803299305289256}. Best is trial 422 with value: 3.997927092653778e-06.\n",
      "[I 2022-05-24 11:52:34,467] Trial 569 finished with value: 1.5049860005754816 and parameters: {'x': 3.773221291114212}. Best is trial 422 with value: 3.997927092653778e-06.\n",
      "[I 2022-05-24 11:52:34,476] Trial 570 finished with value: 0.11988911631242052 and parameters: {'x': 4.653749922292542}. Best is trial 422 with value: 3.997927092653778e-06.\n",
      "[I 2022-05-24 11:52:34,485] Trial 571 finished with value: 0.8143518183520364 and parameters: {'x': 5.902414438244445}. Best is trial 422 with value: 3.997927092653778e-06.\n",
      "[I 2022-05-24 11:52:34,493] Trial 572 finished with value: 6.44611946640346 and parameters: {'x': 7.538920925590921}. Best is trial 422 with value: 3.997927092653778e-06.\n",
      "[I 2022-05-24 11:52:34,501] Trial 573 finished with value: 6.204117270366083 and parameters: {'x': 2.5091934498307413}. Best is trial 422 with value: 3.997927092653778e-06.\n",
      "[I 2022-05-24 11:52:34,510] Trial 574 finished with value: 0.0026098625450399486 and parameters: {'x': 5.05108681380787}. Best is trial 422 with value: 3.997927092653778e-06.\n",
      "[I 2022-05-24 11:52:34,518] Trial 575 finished with value: 1.3220248221397484 and parameters: {'x': 3.8502066176309118}. Best is trial 422 with value: 3.997927092653778e-06.\n",
      "[I 2022-05-24 11:52:34,527] Trial 576 finished with value: 0.12591176188152173 and parameters: {'x': 5.354840473849196}. Best is trial 422 with value: 3.997927092653778e-06.\n",
      "[I 2022-05-24 11:52:34,536] Trial 577 finished with value: 0.24079274597267247 and parameters: {'x': 4.509293625502305}. Best is trial 422 with value: 3.997927092653778e-06.\n",
      "[I 2022-05-24 11:52:34,544] Trial 578 finished with value: 2.525004254018361 and parameters: {'x': 6.5890261967690655}. Best is trial 422 with value: 3.997927092653778e-06.\n",
      "[I 2022-05-24 11:52:34,553] Trial 579 finished with value: 0.3187989468267278 and parameters: {'x': 5.564622835906172}. Best is trial 422 with value: 3.997927092653778e-06.\n",
      "[I 2022-05-24 11:52:34,561] Trial 580 finished with value: 0.04414522362298619 and parameters: {'x': 4.789892352297718}. Best is trial 422 with value: 3.997927092653778e-06.\n",
      "[I 2022-05-24 11:52:34,570] Trial 581 finished with value: 1.6082130713733462 and parameters: {'x': 3.7318465899689635}. Best is trial 422 with value: 3.997927092653778e-06.\n",
      "[I 2022-05-24 11:52:34,578] Trial 582 finished with value: 0.9448280415631563 and parameters: {'x': 5.972022654861067}. Best is trial 422 with value: 3.997927092653778e-06.\n",
      "[I 2022-05-24 11:52:34,589] Trial 583 finished with value: 4.313984956756833 and parameters: {'x': 2.9229865294715025}. Best is trial 422 with value: 3.997927092653778e-06.\n",
      "[I 2022-05-24 11:52:34,596] Trial 584 finished with value: 0.013543283189357156 and parameters: {'x': 5.116375612519794}. Best is trial 422 with value: 3.997927092653778e-06.\n",
      "[I 2022-05-24 11:52:34,605] Trial 585 finished with value: 0.6356085537649898 and parameters: {'x': 4.202749378322607}. Best is trial 422 with value: 3.997927092653778e-06.\n",
      "[I 2022-05-24 11:52:34,613] Trial 586 finished with value: 3.1877591115748305 and parameters: {'x': 6.785429671416612}. Best is trial 422 with value: 3.997927092653778e-06.\n",
      "[I 2022-05-24 11:52:34,622] Trial 587 finished with value: 1.1830769218335964 and parameters: {'x': 6.087693395141111}. Best is trial 422 with value: 3.997927092653778e-06.\n",
      "[I 2022-05-24 11:52:34,631] Trial 588 finished with value: 0.00321582198822196 and parameters: {'x': 5.056708217995472}. Best is trial 422 with value: 3.997927092653778e-06.\n",
      "[I 2022-05-24 11:52:34,639] Trial 589 finished with value: 0.17930569348286174 and parameters: {'x': 4.57655496993959}. Best is trial 422 with value: 3.997927092653778e-06.\n",
      "[I 2022-05-24 11:52:34,648] Trial 590 finished with value: 2.172482623083125 and parameters: {'x': 3.5260655974287305}. Best is trial 422 with value: 3.997927092653778e-06.\n",
      "[I 2022-05-24 11:52:34,657] Trial 591 finished with value: 0.08146964786994923 and parameters: {'x': 5.285428884084896}. Best is trial 422 with value: 3.997927092653778e-06.\n",
      "[I 2022-05-24 11:52:34,665] Trial 592 finished with value: 0.4864142599427247 and parameters: {'x': 4.3025659458108425}. Best is trial 422 with value: 3.997927092653778e-06.\n",
      "[I 2022-05-24 11:52:34,674] Trial 593 finished with value: 49.15098073577065 and parameters: {'x': 12.010776043760822}. Best is trial 422 with value: 3.997927092653778e-06.\n",
      "[I 2022-05-24 11:52:34,683] Trial 594 finished with value: 6.549813159793169 and parameters: {'x': 7.5592602758987155}. Best is trial 422 with value: 3.997927092653778e-06.\n",
      "[I 2022-05-24 11:52:34,693] Trial 595 finished with value: 0.661225505384404 and parameters: {'x': 5.813157737086971}. Best is trial 422 with value: 3.997927092653778e-06.\n",
      "[I 2022-05-24 11:52:34,701] Trial 596 finished with value: 0.04179925111230677 and parameters: {'x': 5.2044486515296855}. Best is trial 422 with value: 3.997927092653778e-06.\n",
      "[I 2022-05-24 11:52:34,710] Trial 597 finished with value: 2.312079948311021 and parameters: {'x': 6.5205525141576075}. Best is trial 422 with value: 3.997927092653778e-06.\n",
      "[I 2022-05-24 11:52:34,718] Trial 598 finished with value: 1.9171989352120957 and parameters: {'x': 3.6153704700490836}. Best is trial 422 with value: 3.997927092653778e-06.\n",
      "[I 2022-05-24 11:52:34,727] Trial 599 finished with value: 0.23498376302852197 and parameters: {'x': 4.515248761705014}. Best is trial 422 with value: 3.997927092653778e-06.\n",
      "[I 2022-05-24 11:52:34,736] Trial 600 finished with value: 5.349639247324141 and parameters: {'x': 2.6870712835618686}. Best is trial 422 with value: 3.997927092653778e-06.\n",
      "[I 2022-05-24 11:52:34,745] Trial 601 finished with value: 0.6021729021544984 and parameters: {'x': 5.77599800396296}. Best is trial 422 with value: 3.997927092653778e-06.\n",
      "[I 2022-05-24 11:52:34,753] Trial 602 finished with value: 0.788408056603858 and parameters: {'x': 4.1120765480043575}. Best is trial 422 with value: 3.997927092653778e-06.\n",
      "[I 2022-05-24 11:52:34,762] Trial 603 finished with value: 0.018419812798792574 and parameters: {'x': 4.864280389041257}. Best is trial 422 with value: 3.997927092653778e-06.\n",
      "[I 2022-05-24 11:52:34,771] Trial 604 finished with value: 3.967901877453265 and parameters: {'x': 6.9919593061740155}. Best is trial 422 with value: 3.997927092653778e-06.\n",
      "[I 2022-05-24 11:52:34,779] Trial 605 finished with value: 572.3721962579252 and parameters: {'x': -18.924301374500473}. Best is trial 422 with value: 3.997927092653778e-06.\n",
      "[I 2022-05-24 11:52:34,788] Trial 606 finished with value: 0.26576672956802017 and parameters: {'x': 5.515525682743372}. Best is trial 422 with value: 3.997927092653778e-06.\n",
      "[I 2022-05-24 11:52:34,799] Trial 607 finished with value: 1.5216559808801837 and parameters: {'x': 6.233554206705236}. Best is trial 422 with value: 3.997927092653778e-06.\n",
      "[I 2022-05-24 11:52:34,806] Trial 608 finished with value: 11.578381560122814 and parameters: {'x': 1.5972979031183447}. Best is trial 422 with value: 3.997927092653778e-06.\n",
      "[I 2022-05-24 11:52:34,815] Trial 609 finished with value: 3.1058845724122786 and parameters: {'x': 3.2376479998557954}. Best is trial 422 with value: 3.997927092653778e-06.\n",
      "[I 2022-05-24 11:52:34,823] Trial 610 finished with value: 0.0020074223528742173 and parameters: {'x': 5.044804267127967}. Best is trial 422 with value: 3.997927092653778e-06.\n",
      "[I 2022-05-24 11:52:34,832] Trial 611 finished with value: 0.013446908728640726 and parameters: {'x': 5.115960806864392}. Best is trial 422 with value: 3.997927092653778e-06.\n",
      "[I 2022-05-24 11:52:34,841] Trial 612 finished with value: 1.067727639038226 and parameters: {'x': 3.9666909276318987}. Best is trial 422 with value: 3.997927092653778e-06.\n",
      "[I 2022-05-24 11:52:34,851] Trial 613 finished with value: 1.2152373373604815 and parameters: {'x': 6.102378037408439}. Best is trial 422 with value: 3.997927092653778e-06.\n",
      "[I 2022-05-24 11:52:34,860] Trial 614 finished with value: 8.804267239373612 and parameters: {'x': 7.967198550716418}. Best is trial 422 with value: 3.997927092653778e-06.\n",
      "[I 2022-05-24 11:52:34,868] Trial 615 finished with value: 0.16124869207858528 and parameters: {'x': 4.598442168450688}. Best is trial 422 with value: 3.997927092653778e-06.\n",
      "[I 2022-05-24 11:52:34,877] Trial 616 finished with value: 3.887142629996342 and parameters: {'x': 6.971583787211779}. Best is trial 422 with value: 3.997927092653778e-06.\n",
      "[I 2022-05-24 11:52:34,887] Trial 617 finished with value: 0.20801520882337102 and parameters: {'x': 5.4560868435105}. Best is trial 422 with value: 3.997927092653778e-06.\n",
      "[I 2022-05-24 11:52:34,896] Trial 618 finished with value: 1.6745073927576035 and parameters: {'x': 3.7059724142207773}. Best is trial 422 with value: 3.997927092653778e-06.\n",
      "[I 2022-05-24 11:52:34,907] Trial 619 finished with value: 7.3194140367407865 and parameters: {'x': 2.2945584395997782}. Best is trial 422 with value: 3.997927092653778e-06.\n",
      "[I 2022-05-24 11:52:34,915] Trial 620 finished with value: 1.4061375220819965 and parameters: {'x': 6.185806696760478}. Best is trial 422 with value: 3.997927092653778e-06.\n",
      "[I 2022-05-24 11:52:34,924] Trial 621 finished with value: 0.21085254190707237 and parameters: {'x': 4.540813173199544}. Best is trial 422 with value: 3.997927092653778e-06.\n",
      "[I 2022-05-24 11:52:34,934] Trial 622 finished with value: 0.08199685108602754 and parameters: {'x': 5.286350922970448}. Best is trial 422 with value: 3.997927092653778e-06.\n",
      "[I 2022-05-24 11:52:34,944] Trial 623 finished with value: 2.876593527620359 and parameters: {'x': 3.303947663655287}. Best is trial 422 with value: 3.997927092653778e-06.\n",
      "[I 2022-05-24 11:52:34,954] Trial 624 finished with value: 0.6306624213777193 and parameters: {'x': 4.205857430068304}. Best is trial 422 with value: 3.997927092653778e-06.\n",
      "[I 2022-05-24 11:52:34,964] Trial 625 finished with value: 0.16760890278123186 and parameters: {'x': 5.40940066289789}. Best is trial 422 with value: 3.997927092653778e-06.\n",
      "[I 2022-05-24 11:52:34,974] Trial 626 finished with value: 2.2688493979049547 and parameters: {'x': 6.506270028217037}. Best is trial 422 with value: 3.997927092653778e-06.\n",
      "[I 2022-05-24 11:52:34,984] Trial 627 finished with value: 0.07321354107596595 and parameters: {'x': 4.729419991359365}. Best is trial 422 with value: 3.997927092653778e-06.\n",
      "[I 2022-05-24 11:52:34,994] Trial 628 finished with value: 0.6485642299499624 and parameters: {'x': 5.80533485578979}. Best is trial 422 with value: 3.997927092653778e-06.\n",
      "[I 2022-05-24 11:52:35,004] Trial 629 finished with value: 4.919186062536833 and parameters: {'x': 7.217923818019193}. Best is trial 422 with value: 3.997927092653778e-06.\n",
      "[I 2022-05-24 11:52:35,014] Trial 630 finished with value: 1.5674634092728996 and parameters: {'x': 3.748016210459217}. Best is trial 422 with value: 3.997927092653778e-06.\n",
      "[I 2022-05-24 11:52:35,026] Trial 631 finished with value: 0.012199717664639273 and parameters: {'x': 4.889547667907648}. Best is trial 422 with value: 3.997927092653778e-06.\n",
      "[I 2022-05-24 11:52:35,034] Trial 632 finished with value: 15.805808105965362 and parameters: {'x': 8.975651909557143}. Best is trial 422 with value: 3.997927092653778e-06.\n",
      "[I 2022-05-24 11:52:35,044] Trial 633 finished with value: 0.7733320333265515 and parameters: {'x': 5.879392991401769}. Best is trial 422 with value: 3.997927092653778e-06.\n",
      "[I 2022-05-24 11:52:35,054] Trial 634 finished with value: 4.074800495851818 and parameters: {'x': 2.981386491709763}. Best is trial 422 with value: 3.997927092653778e-06.\n",
      "[I 2022-05-24 11:52:35,063] Trial 635 finished with value: 0.6303170399056239 and parameters: {'x': 4.2060749154324295}. Best is trial 422 with value: 3.997927092653778e-06.\n",
      "[I 2022-05-24 11:52:35,073] Trial 636 finished with value: 0.0898392331607355 and parameters: {'x': 5.299731935503602}. Best is trial 422 with value: 3.997927092653778e-06.\n",
      "[I 2022-05-24 11:52:35,082] Trial 637 finished with value: 2.4820104388533606 and parameters: {'x': 6.575439760464792}. Best is trial 422 with value: 3.997927092653778e-06.\n",
      "[I 2022-05-24 11:52:35,092] Trial 638 finished with value: 0.5212999526921711 and parameters: {'x': 4.277988952513764}. Best is trial 422 with value: 3.997927092653778e-06.\n",
      "[I 2022-05-24 11:52:35,102] Trial 639 finished with value: 252.61404220500398 and parameters: {'x': -10.893836610617463}. Best is trial 422 with value: 3.997927092653778e-06.\n",
      "[I 2022-05-24 11:52:35,111] Trial 640 finished with value: 17.635068392946554 and parameters: {'x': 0.8005871371170761}. Best is trial 422 with value: 3.997927092653778e-06.\n",
      "[I 2022-05-24 11:52:35,121] Trial 641 finished with value: 0.0065507265458693165 and parameters: {'x': 5.080936558772098}. Best is trial 422 with value: 3.997927092653778e-06.\n",
      "[I 2022-05-24 11:52:35,130] Trial 642 finished with value: 2.9409205781518337 and parameters: {'x': 3.2850887550220467}. Best is trial 422 with value: 3.997927092653778e-06.\n",
      "[I 2022-05-24 11:52:35,141] Trial 643 finished with value: 0.2508291149388622 and parameters: {'x': 5.500828428644843}. Best is trial 422 with value: 3.997927092653778e-06.\n",
      "[I 2022-05-24 11:52:35,150] Trial 644 finished with value: 1.8281043250683477 and parameters: {'x': 6.3520740826849496}. Best is trial 422 with value: 3.997927092653778e-06.\n",
      "[I 2022-05-24 11:52:35,159] Trial 645 finished with value: 0.4278128321375216 and parameters: {'x': 4.345925973503364}. Best is trial 422 with value: 3.997927092653778e-06.\n",
      "[I 2022-05-24 11:52:35,169] Trial 646 finished with value: 0.014144285083052054 and parameters: {'x': 4.881070251479909}. Best is trial 422 with value: 3.997927092653778e-06.\n",
      "[I 2022-05-24 11:52:35,179] Trial 647 finished with value: 4.4326507848168495 and parameters: {'x': 7.105386136749468}. Best is trial 422 with value: 3.997927092653778e-06.\n",
      "[I 2022-05-24 11:52:35,188] Trial 648 finished with value: 0.6070874774154192 and parameters: {'x': 5.779158185104552}. Best is trial 422 with value: 3.997927092653778e-06.\n",
      "[I 2022-05-24 11:52:35,197] Trial 649 finished with value: 6.830385857078703 and parameters: {'x': 2.3864993099142477}. Best is trial 422 with value: 3.997927092653778e-06.\n",
      "[I 2022-05-24 11:52:35,206] Trial 650 finished with value: 1.3568409616535462 and parameters: {'x': 3.8351648349858483}. Best is trial 422 with value: 3.997927092653778e-06.\n",
      "[I 2022-05-24 11:52:35,215] Trial 651 finished with value: 0.02420166840636984 and parameters: {'x': 4.844431145770209}. Best is trial 422 with value: 3.997927092653778e-06.\n",
      "[I 2022-05-24 11:52:35,225] Trial 652 finished with value: 1.0884010258735446 and parameters: {'x': 6.043264600124793}. Best is trial 422 with value: 3.997927092653778e-06.\n",
      "[I 2022-05-24 11:52:35,234] Trial 653 finished with value: 1.8650385369752702 and parameters: {'x': 3.634335862309012}. Best is trial 422 with value: 3.997927092653778e-06.\n",
      "[I 2022-05-24 11:52:35,244] Trial 654 finished with value: 8.340419715591066 and parameters: {'x': 7.887978482536022}. Best is trial 422 with value: 3.997927092653778e-06.\n",
      "[I 2022-05-24 11:52:35,252] Trial 655 finished with value: 0.31169877158793247 and parameters: {'x': 4.441700106046999}. Best is trial 422 with value: 3.997927092653778e-06.\n",
      "[I 2022-05-24 11:52:35,262] Trial 656 finished with value: 0.08553380587393467 and parameters: {'x': 5.29246163145605}. Best is trial 422 with value: 3.997927092653778e-06.\n",
      "[I 2022-05-24 11:52:35,272] Trial 657 finished with value: 2.813724948483333 and parameters: {'x': 6.677416152444984}. Best is trial 422 with value: 3.997927092653778e-06.\n",
      "[I 2022-05-24 11:52:35,281] Trial 658 finished with value: 0.4751232903317083 and parameters: {'x': 5.689291876008784}. Best is trial 422 with value: 3.997927092653778e-06.\n",
      "[I 2022-05-24 11:52:35,291] Trial 659 finished with value: 3.9392086880923376 and parameters: {'x': 3.0152560144713028}. Best is trial 422 with value: 3.997927092653778e-06.\n"
     ]
    },
    {
     "name": "stdout",
     "output_type": "stream",
     "text": [
      "[I 2022-05-24 11:52:35,300] Trial 660 finished with value: 0.5032541186417546 and parameters: {'x': 4.290595941200112}. Best is trial 422 with value: 3.997927092653778e-06.\n",
      "[I 2022-05-24 11:52:35,310] Trial 661 finished with value: 0.0026989067292961977 and parameters: {'x': 4.9480489968403285}. Best is trial 422 with value: 3.997927092653778e-06.\n",
      "[I 2022-05-24 11:52:35,319] Trial 662 finished with value: 1.2517721992867985 and parameters: {'x': 3.8811737403480384}. Best is trial 422 with value: 3.997927092653778e-06.\n",
      "[I 2022-05-24 11:52:35,328] Trial 663 finished with value: 1.568922546256035 and parameters: {'x': 6.252566383971738}. Best is trial 422 with value: 3.997927092653778e-06.\n",
      "[I 2022-05-24 11:52:35,337] Trial 664 finished with value: 0.0005051606243393546 and parameters: {'x': 4.977524221385248}. Best is trial 422 with value: 3.997927092653778e-06.\n",
      "[I 2022-05-24 11:52:35,348] Trial 665 finished with value: 8.734567381297843 and parameters: {'x': 2.04456984834731}. Best is trial 422 with value: 3.997927092653778e-06.\n",
      "[I 2022-05-24 11:52:35,356] Trial 666 finished with value: 3.63319547988613 and parameters: {'x': 3.093905700159058}. Best is trial 422 with value: 3.997927092653778e-06.\n",
      "[I 2022-05-24 11:52:35,366] Trial 667 finished with value: 0.31538054963375695 and parameters: {'x': 4.438412473755197}. Best is trial 422 with value: 3.997927092653778e-06.\n",
      "[I 2022-05-24 11:52:35,375] Trial 668 finished with value: 4.786294159125218 and parameters: {'x': 7.187760078053628}. Best is trial 422 with value: 3.997927092653778e-06.\n",
      "[I 2022-05-24 11:52:35,385] Trial 669 finished with value: 0.45222714988356183 and parameters: {'x': 5.672478363877651}. Best is trial 422 with value: 3.997927092653778e-06.\n",
      "[I 2022-05-24 11:52:35,394] Trial 670 finished with value: 1.8305897335822063 and parameters: {'x': 3.6470071199070535}. Best is trial 422 with value: 3.997927092653778e-06.\n",
      "[I 2022-05-24 11:52:35,404] Trial 671 finished with value: 0.03396381130164114 and parameters: {'x': 4.815707267366179}. Best is trial 422 with value: 3.997927092653778e-06.\n",
      "[I 2022-05-24 11:52:35,413] Trial 672 finished with value: 1.7536106108147866 and parameters: {'x': 6.324239634965963}. Best is trial 422 with value: 3.997927092653778e-06.\n",
      "[I 2022-05-24 11:52:35,422] Trial 673 finished with value: 0.23979021693968072 and parameters: {'x': 5.48968379280887}. Best is trial 422 with value: 3.997927092653778e-06.\n",
      "[I 2022-05-24 11:52:35,432] Trial 674 finished with value: 0.6996211051911563 and parameters: {'x': 4.1635664370727605}. Best is trial 422 with value: 3.997927092653778e-06.\n",
      "[I 2022-05-24 11:52:35,441] Trial 675 finished with value: 0.9765045720784504 and parameters: {'x': 5.988182458900405}. Best is trial 422 with value: 3.997927092653778e-06.\n",
      "[I 2022-05-24 11:52:35,452] Trial 676 finished with value: 0.017364924097431997 and parameters: {'x': 4.868223962354941}. Best is trial 422 with value: 3.997927092653778e-06.\n",
      "[I 2022-05-24 11:52:35,460] Trial 677 finished with value: 96.51744730137877 and parameters: {'x': 14.824329356316326}. Best is trial 422 with value: 3.997927092653778e-06.\n",
      "[I 2022-05-24 11:52:35,470] Trial 678 finished with value: 4.270969389660568 and parameters: {'x': 2.9333676210654764}. Best is trial 422 with value: 3.997927092653778e-06.\n",
      "[I 2022-05-24 11:52:35,479] Trial 679 finished with value: 1.4443759687368294 and parameters: {'x': 3.798178062799306}. Best is trial 422 with value: 3.997927092653778e-06.\n",
      "[I 2022-05-24 11:52:35,489] Trial 680 finished with value: 4.386239762045424 and parameters: {'x': 7.09433515991243}. Best is trial 422 with value: 3.997927092653778e-06.\n",
      "[I 2022-05-24 11:52:35,498] Trial 681 finished with value: 1.68346396933698e-05 and parameters: {'x': 4.995896996259645}. Best is trial 422 with value: 3.997927092653778e-06.\n",
      "[I 2022-05-24 11:52:35,508] Trial 682 finished with value: 0.23963160249869203 and parameters: {'x': 5.489521810033723}. Best is trial 422 with value: 3.997927092653778e-06.\n",
      "[I 2022-05-24 11:52:35,518] Trial 683 finished with value: 51.00182525562186 and parameters: {'x': -2.1415562208542376}. Best is trial 422 with value: 3.997927092653778e-06.\n",
      "[I 2022-05-24 11:52:35,528] Trial 684 finished with value: 0.2006979199559066 and parameters: {'x': 4.552006785814889}. Best is trial 422 with value: 3.997927092653778e-06.\n",
      "[I 2022-05-24 11:52:35,537] Trial 685 finished with value: 2.433085669678711 and parameters: {'x': 6.559835141827081}. Best is trial 422 with value: 3.997927092653778e-06.\n",
      "[I 2022-05-24 11:52:35,546] Trial 686 finished with value: 0.3200919281002201 and parameters: {'x': 5.5657666728433375}. Best is trial 422 with value: 3.997927092653778e-06.\n",
      "[I 2022-05-24 11:52:35,557] Trial 687 finished with value: 10.966112915856788 and parameters: {'x': 8.311512179632862}. Best is trial 422 with value: 3.997927092653778e-06.\n",
      "[I 2022-05-24 11:52:35,565] Trial 688 finished with value: 1.6033501627067555 and parameters: {'x': 3.7337653603274172}. Best is trial 422 with value: 3.997927092653778e-06.\n",
      "[I 2022-05-24 11:52:35,574] Trial 689 finished with value: 0.028236522662853262 and parameters: {'x': 4.831962734303211}. Best is trial 422 with value: 3.997927092653778e-06.\n",
      "[I 2022-05-24 11:52:35,584] Trial 690 finished with value: 1.4216514548227421 and parameters: {'x': 6.192330262478791}. Best is trial 422 with value: 3.997927092653778e-06.\n",
      "[I 2022-05-24 11:52:35,593] Trial 691 finished with value: 4.388717766279233 and parameters: {'x': 2.905073326753599}. Best is trial 422 with value: 3.997927092653778e-06.\n",
      "[I 2022-05-24 11:52:35,602] Trial 692 finished with value: 0.6691507845825267 and parameters: {'x': 4.181983628169627}. Best is trial 422 with value: 3.997927092653778e-06.\n",
      "[I 2022-05-24 11:52:35,611] Trial 693 finished with value: 0.022322115032781777 and parameters: {'x': 5.149405873488233}. Best is trial 422 with value: 3.997927092653778e-06.\n",
      "[I 2022-05-24 11:52:35,620] Trial 694 finished with value: 0.9685370047157775 and parameters: {'x': 5.9841427765907635}. Best is trial 422 with value: 3.997927092653778e-06.\n",
      "[I 2022-05-24 11:52:35,630] Trial 695 finished with value: 6.1018593246476 and parameters: {'x': 7.470194187639425}. Best is trial 422 with value: 3.997927092653778e-06.\n",
      "[I 2022-05-24 11:52:35,639] Trial 696 finished with value: 0.2380859443711948 and parameters: {'x': 4.512059486851937}. Best is trial 422 with value: 3.997927092653778e-06.\n",
      "[I 2022-05-24 11:52:35,648] Trial 697 finished with value: 0.2218431387954381 and parameters: {'x': 5.4710022704780075}. Best is trial 422 with value: 3.997927092653778e-06.\n",
      "[I 2022-05-24 11:52:35,659] Trial 698 finished with value: 2.174992067999033 and parameters: {'x': 3.5252145688273724}. Best is trial 422 with value: 3.997927092653778e-06.\n",
      "[I 2022-05-24 11:52:35,667] Trial 699 finished with value: 3.0923908665102835 and parameters: {'x': 6.75851950984636}. Best is trial 422 with value: 3.997927092653778e-06.\n",
      "[I 2022-05-24 11:52:35,676] Trial 700 finished with value: 7.556040765598518 and parameters: {'x': 2.251174657131065}. Best is trial 422 with value: 3.997927092653778e-06.\n",
      "[I 2022-05-24 11:52:35,685] Trial 701 finished with value: 0.030250508551266785 and parameters: {'x': 4.826073266714784}. Best is trial 422 with value: 3.997927092653778e-06.\n",
      "[I 2022-05-24 11:52:35,695] Trial 702 finished with value: 0.576040547062854 and parameters: {'x': 4.2410266493065425}. Best is trial 422 with value: 3.997927092653778e-06.\n",
      "[I 2022-05-24 11:52:35,704] Trial 703 finished with value: 0.9262882483545832 and parameters: {'x': 5.9624386984917965}. Best is trial 422 with value: 3.997927092653778e-06.\n",
      "[I 2022-05-24 11:52:35,713] Trial 704 finished with value: 0.051944766759951806 and parameters: {'x': 5.227913945953186}. Best is trial 422 with value: 3.997927092653778e-06.\n",
      "[I 2022-05-24 11:52:35,722] Trial 705 finished with value: 1.8447654795681998 and parameters: {'x': 3.6417785601868156}. Best is trial 422 with value: 3.997927092653778e-06.\n",
      "[I 2022-05-24 11:52:35,731] Trial 706 finished with value: 1.689881912796037 and parameters: {'x': 6.299954581051214}. Best is trial 422 with value: 3.997927092653778e-06.\n",
      "[I 2022-05-24 11:52:35,741] Trial 707 finished with value: 0.3906767657551566 and parameters: {'x': 4.374958588767787}. Best is trial 422 with value: 3.997927092653778e-06.\n",
      "[I 2022-05-24 11:52:35,750] Trial 708 finished with value: 0.011729244911310967 and parameters: {'x': 5.10830163854398}. Best is trial 422 with value: 3.997927092653778e-06.\n",
      "[I 2022-05-24 11:52:35,760] Trial 709 finished with value: 13.977649709591098 and parameters: {'x': 1.2613304893864852}. Best is trial 422 with value: 3.997927092653778e-06.\n",
      "[I 2022-05-24 11:52:35,768] Trial 710 finished with value: 4.570131086644237 and parameters: {'x': 2.862213507703766}. Best is trial 422 with value: 3.997927092653778e-06.\n",
      "[I 2022-05-24 11:52:35,778] Trial 711 finished with value: 0.42543957380601244 and parameters: {'x': 5.6522572911098905}. Best is trial 422 with value: 3.997927092653778e-06.\n",
      "[I 2022-05-24 11:52:35,787] Trial 712 finished with value: 5.756474979005499 and parameters: {'x': 7.399265508234864}. Best is trial 422 with value: 3.997927092653778e-06.\n",
      "[I 2022-05-24 11:52:35,797] Trial 713 finished with value: 1.0150759855878526 and parameters: {'x': 3.9924902057112037}. Best is trial 422 with value: 3.997927092653778e-06.\n",
      "[I 2022-05-24 11:52:35,808] Trial 714 finished with value: 0.16003611525169506 and parameters: {'x': 4.599954858482577}. Best is trial 422 with value: 3.997927092653778e-06.\n",
      "[I 2022-05-24 11:52:35,817] Trial 715 finished with value: 3.3497389995868714 and parameters: {'x': 6.8302292205040525}. Best is trial 422 with value: 3.997927092653778e-06.\n",
      "[I 2022-05-24 11:52:35,827] Trial 716 finished with value: 23.166235826654734 and parameters: {'x': 9.813131602881302}. Best is trial 422 with value: 3.997927092653778e-06.\n",
      "[I 2022-05-24 11:52:35,836] Trial 717 finished with value: 0.1615128376580474 and parameters: {'x': 5.401886598007507}. Best is trial 422 with value: 3.997927092653778e-06.\n",
      "[I 2022-05-24 11:52:35,846] Trial 718 finished with value: 2.667637864166737 and parameters: {'x': 3.3667094979255108}. Best is trial 422 with value: 3.997927092653778e-06.\n",
      "[I 2022-05-24 11:52:35,855] Trial 719 finished with value: 1.4370266025629501 and parameters: {'x': 6.19876044419348}. Best is trial 422 with value: 3.997927092653778e-06.\n",
      "[I 2022-05-24 11:52:35,867] Trial 720 finished with value: 0.01295914871079265 and parameters: {'x': 4.886161743202065}. Best is trial 422 with value: 3.997927092653778e-06.\n",
      "[I 2022-05-24 11:52:35,875] Trial 721 finished with value: 0.5194039991381295 and parameters: {'x': 5.720696884368269}. Best is trial 422 with value: 3.997927092653778e-06.\n",
      "[I 2022-05-24 11:52:35,884] Trial 722 finished with value: 0.9886541053671286 and parameters: {'x': 4.005689130418897}. Best is trial 422 with value: 3.997927092653778e-06.\n",
      "[I 2022-05-24 11:52:35,894] Trial 723 finished with value: 0.13283073612301624 and parameters: {'x': 4.635540487676592}. Best is trial 422 with value: 3.997927092653778e-06.\n",
      "[I 2022-05-24 11:52:35,904] Trial 724 finished with value: 2.5275633079414184 and parameters: {'x': 6.589831219954313}. Best is trial 422 with value: 3.997927092653778e-06.\n",
      "[I 2022-05-24 11:52:35,914] Trial 725 finished with value: 3.183457352843312 and parameters: {'x': 3.215775419728976}. Best is trial 422 with value: 3.997927092653778e-06.\n",
      "[I 2022-05-24 11:52:35,923] Trial 726 finished with value: 122.67541135551357 and parameters: {'x': 16.075893253165344}. Best is trial 422 with value: 3.997927092653778e-06.\n",
      "[I 2022-05-24 11:52:35,933] Trial 727 finished with value: 0.17318898243963127 and parameters: {'x': 5.416159803969138}. Best is trial 422 with value: 3.997927092653778e-06.\n",
      "[I 2022-05-24 11:52:35,943] Trial 728 finished with value: 0.9583215742692267 and parameters: {'x': 4.021060995633933}. Best is trial 422 with value: 3.997927092653778e-06.\n",
      "[I 2022-05-24 11:52:35,953] Trial 729 finished with value: 8.852737462655002 and parameters: {'x': 7.975355014557927}. Best is trial 422 with value: 3.997927092653778e-06.\n",
      "[I 2022-05-24 11:52:35,962] Trial 730 finished with value: 0.01909432470542668 and parameters: {'x': 4.861817784409763}. Best is trial 422 with value: 3.997927092653778e-06.\n",
      "[I 2022-05-24 11:52:35,973] Trial 731 finished with value: 0.7367985181911539 and parameters: {'x': 5.858369686202369}. Best is trial 422 with value: 3.997927092653778e-06.\n",
      "[I 2022-05-24 11:52:35,982] Trial 732 finished with value: 8.714135265028036 and parameters: {'x': 2.048028579910023}. Best is trial 422 with value: 3.997927092653778e-06.\n",
      "[I 2022-05-24 11:52:35,992] Trial 733 finished with value: 3.024773994311463 and parameters: {'x': 6.739187739811738}. Best is trial 422 with value: 3.997927092653778e-06.\n",
      "[I 2022-05-24 11:52:36,001] Trial 734 finished with value: 24.59902034624854 and parameters: {'x': 0.04026005255834608}. Best is trial 422 with value: 3.997927092653778e-06.\n",
      "[I 2022-05-24 11:52:36,011] Trial 735 finished with value: 0.010036476440771642 and parameters: {'x': 5.100182216190158}. Best is trial 422 with value: 3.997927092653778e-06.\n",
      "[I 2022-05-24 11:52:36,021] Trial 736 finished with value: 1.0353085957507222 and parameters: {'x': 3.9824988472975953}. Best is trial 422 with value: 3.997927092653778e-06.\n",
      "[I 2022-05-24 11:52:36,031] Trial 737 finished with value: 5.052927167085584 and parameters: {'x': 2.7521283027971584}. Best is trial 422 with value: 3.997927092653778e-06.\n",
      "[I 2022-05-24 11:52:36,040] Trial 738 finished with value: 0.589831810388343 and parameters: {'x': 5.768005084871411}. Best is trial 422 with value: 3.997927092653778e-06.\n",
      "[I 2022-05-24 11:52:36,050] Trial 739 finished with value: 0.2033984830041989 and parameters: {'x': 4.5490027904696095}. Best is trial 422 with value: 3.997927092653778e-06.\n",
      "[I 2022-05-24 11:52:36,059] Trial 740 finished with value: 2.275738292286621 and parameters: {'x': 3.4914449654432156}. Best is trial 422 with value: 3.997927092653778e-06.\n",
      "[I 2022-05-24 11:52:36,069] Trial 741 finished with value: 1.3004883977475332 and parameters: {'x': 6.140389581567428}. Best is trial 422 with value: 3.997927092653778e-06.\n",
      "[I 2022-05-24 11:52:36,080] Trial 742 finished with value: 0.0007752082139182131 and parameters: {'x': 5.027842561195375}. Best is trial 422 with value: 3.997927092653778e-06.\n",
      "[I 2022-05-24 11:52:36,088] Trial 743 finished with value: 0.09231856729813995 and parameters: {'x': 5.303839706585792}. Best is trial 422 with value: 3.997927092653778e-06.\n",
      "[I 2022-05-24 11:52:36,098] Trial 744 finished with value: 5.433990024785351 and parameters: {'x': 7.331092024092003}. Best is trial 422 with value: 3.997927092653778e-06.\n",
      "[I 2022-05-24 11:52:36,107] Trial 745 finished with value: 0.3504975978550653 and parameters: {'x': 4.407971624113282}. Best is trial 422 with value: 3.997927092653778e-06.\n",
      "[I 2022-05-24 11:52:36,117] Trial 746 finished with value: 0.9115386514725607 and parameters: {'x': 5.954745333307558}. Best is trial 422 with value: 3.997927092653778e-06.\n",
      "[I 2022-05-24 11:52:36,126] Trial 747 finished with value: 2.9199294521278376 and parameters: {'x': 6.7087801064290975}. Best is trial 422 with value: 3.997927092653778e-06.\n",
      "[I 2022-05-24 11:52:36,136] Trial 748 finished with value: 1.9337685578404822 and parameters: {'x': 3.6093999288650664}. Best is trial 422 with value: 3.997927092653778e-06.\n",
      "[I 2022-05-24 11:52:36,145] Trial 749 finished with value: 0.08465395582554579 and parameters: {'x': 5.290953528635667}. Best is trial 422 with value: 3.997927092653778e-06.\n",
      "[I 2022-05-24 11:52:36,155] Trial 750 finished with value: 0.44170347140729754 and parameters: {'x': 4.3353922424412294}. Best is trial 422 with value: 3.997927092653778e-06.\n",
      "[I 2022-05-24 11:52:36,165] Trial 751 finished with value: 1.6230758841301485 and parameters: {'x': 6.273999954525175}. Best is trial 422 with value: 3.997927092653778e-06.\n",
      "[I 2022-05-24 11:52:36,174] Trial 752 finished with value: 0.00039296815382734685 and parameters: {'x': 4.9801765756281275}. Best is trial 422 with value: 3.997927092653778e-06.\n",
      "[I 2022-05-24 11:52:36,185] Trial 753 finished with value: 5.776488187029151 and parameters: {'x': 2.5965674157511405}. Best is trial 422 with value: 3.997927092653778e-06.\n"
     ]
    },
    {
     "name": "stdout",
     "output_type": "stream",
     "text": [
      "[I 2022-05-24 11:52:36,194] Trial 754 finished with value: 1.129802918247199 and parameters: {'x': 3.937078122227603}. Best is trial 422 with value: 3.997927092653778e-06.\n",
      "[I 2022-05-24 11:52:36,204] Trial 755 finished with value: 14.10012037114353 and parameters: {'x': 8.755012699198703}. Best is trial 422 with value: 3.997927092653778e-06.\n",
      "[I 2022-05-24 11:52:36,214] Trial 756 finished with value: 0.059676624695148194 and parameters: {'x': 4.75571200460287}. Best is trial 422 with value: 3.997927092653778e-06.\n",
      "[I 2022-05-24 11:52:36,223] Trial 757 finished with value: 0.35832948183651553 and parameters: {'x': 5.598606282824124}. Best is trial 422 with value: 3.997927092653778e-06.\n",
      "[I 2022-05-24 11:52:36,234] Trial 758 finished with value: 1.8735722624821256 and parameters: {'x': 3.6312150415488467}. Best is trial 422 with value: 3.997927092653778e-06.\n",
      "[I 2022-05-24 11:52:36,243] Trial 759 finished with value: 5.179358112726891 and parameters: {'x': 7.275820316441281}. Best is trial 422 with value: 3.997927092653778e-06.\n",
      "[I 2022-05-24 11:52:36,253] Trial 760 finished with value: 0.2335952561685989 and parameters: {'x': 4.516683068609635}. Best is trial 422 with value: 3.997927092653778e-06.\n",
      "[I 2022-05-24 11:52:36,262] Trial 761 finished with value: 1.7912917946761227 and parameters: {'x': 6.338391495294304}. Best is trial 422 with value: 3.997927092653778e-06.\n",
      "[I 2022-05-24 11:52:36,272] Trial 762 finished with value: 0.13017518799134464 and parameters: {'x': 5.360797987787272}. Best is trial 422 with value: 3.997927092653778e-06.\n",
      "[I 2022-05-24 11:52:36,281] Trial 763 finished with value: 3.0055689036014837 and parameters: {'x': 3.2663423337920823}. Best is trial 422 with value: 3.997927092653778e-06.\n",
      "[I 2022-05-24 11:52:36,292] Trial 764 finished with value: 0.4423306649879771 and parameters: {'x': 4.3349205573858285}. Best is trial 422 with value: 3.997927092653778e-06.\n",
      "[I 2022-05-24 11:52:36,301] Trial 765 finished with value: 0.540629732543397 and parameters: {'x': 5.735275276711652}. Best is trial 422 with value: 3.997927092653778e-06.\n",
      "[I 2022-05-24 11:52:36,311] Trial 766 finished with value: 0.0202472798848818 and parameters: {'x': 4.857707063123703}. Best is trial 422 with value: 3.997927092653778e-06.\n",
      "[I 2022-05-24 11:52:36,321] Trial 767 finished with value: 1.833430031257845 and parameters: {'x': 6.354042108376931}. Best is trial 422 with value: 3.997927092653778e-06.\n",
      "[I 2022-05-24 11:52:36,330] Trial 768 finished with value: 8.016323545992282 and parameters: {'x': 7.831311276774824}. Best is trial 422 with value: 3.997927092653778e-06.\n",
      "[I 2022-05-24 11:52:36,340] Trial 769 finished with value: 1.0591220761479314 and parameters: {'x': 3.9708634317312734}. Best is trial 422 with value: 3.997927092653778e-06.\n",
      "[I 2022-05-24 11:52:36,350] Trial 770 finished with value: 0.05103619186100486 and parameters: {'x': 5.225911911728897}. Best is trial 422 with value: 3.997927092653778e-06.\n",
      "[I 2022-05-24 11:52:36,360] Trial 771 finished with value: 5.574236234304176 and parameters: {'x': 2.639017951295653}. Best is trial 422 with value: 3.997927092653778e-06.\n",
      "[I 2022-05-24 11:52:36,370] Trial 772 finished with value: 3.4922556701760694 and parameters: {'x': 6.868757787990747}. Best is trial 422 with value: 3.997927092653778e-06.\n",
      "[I 2022-05-24 11:52:36,379] Trial 773 finished with value: 0.4773335872528039 and parameters: {'x': 5.690893325523415}. Best is trial 422 with value: 3.997927092653778e-06.\n",
      "[I 2022-05-24 11:52:36,389] Trial 774 finished with value: 0.3021590085986107 and parameters: {'x': 4.450310079591584}. Best is trial 422 with value: 3.997927092653778e-06.\n",
      "[I 2022-05-24 11:52:36,400] Trial 775 finished with value: 11.826166048386941 and parameters: {'x': 1.561080685973144}. Best is trial 422 with value: 3.997927092653778e-06.\n",
      "[I 2022-05-24 11:52:36,409] Trial 776 finished with value: 3.275918288813304 and parameters: {'x': 3.190050197156478}. Best is trial 422 with value: 3.997927092653778e-06.\n",
      "[I 2022-05-24 11:52:36,419] Trial 777 finished with value: 6.230451359665273e-09 and parameters: {'x': 5.0000789332082185}. Best is trial 777 with value: 6.230451359665273e-09.\n",
      "[I 2022-05-24 11:52:36,429] Trial 778 finished with value: 1.1653394834210375 and parameters: {'x': 3.9204910915508675}. Best is trial 777 with value: 6.230451359665273e-09.\n",
      "[I 2022-05-24 11:52:36,439] Trial 779 finished with value: 1.2128732102641127 and parameters: {'x': 6.101305230290001}. Best is trial 777 with value: 6.230451359665273e-09.\n",
      "[I 2022-05-24 11:52:36,448] Trial 780 finished with value: 0.004241269956815696 and parameters: {'x': 4.934874966742306}. Best is trial 777 with value: 6.230451359665273e-09.\n",
      "[I 2022-05-24 11:52:36,458] Trial 781 finished with value: 0.3261784025915084 and parameters: {'x': 5.571120304832098}. Best is trial 777 with value: 6.230451359665273e-09.\n",
      "[I 2022-05-24 11:52:36,468] Trial 782 finished with value: 0.40267442275983917 and parameters: {'x': 4.36543367347468}. Best is trial 777 with value: 6.230451359665273e-09.\n",
      "[I 2022-05-24 11:52:36,478] Trial 783 finished with value: 3.562986174732799 and parameters: {'x': 6.887587395256919}. Best is trial 777 with value: 6.230451359665273e-09.\n",
      "[I 2022-05-24 11:52:36,488] Trial 784 finished with value: 2.59461961999864 and parameters: {'x': 3.389217699377523}. Best is trial 777 with value: 6.230451359665273e-09.\n",
      "[I 2022-05-24 11:52:36,498] Trial 785 finished with value: 1.2742714238629148e-06 and parameters: {'x': 5.001128836314026}. Best is trial 777 with value: 6.230451359665273e-09.\n",
      "[I 2022-05-24 11:52:36,510] Trial 786 finished with value: 0.8618695331664112 and parameters: {'x': 5.92836928706545}. Best is trial 777 with value: 6.230451359665273e-09.\n",
      "[I 2022-05-24 11:52:36,518] Trial 787 finished with value: 0.5031700221409056 and parameters: {'x': 4.290655216315151}. Best is trial 777 with value: 6.230451359665273e-09.\n",
      "[I 2022-05-24 11:52:36,528] Trial 788 finished with value: 0.019903337847089028 and parameters: {'x': 5.14107918998594}. Best is trial 777 with value: 6.230451359665273e-09.\n",
      "[I 2022-05-24 11:52:36,538] Trial 789 finished with value: 2.0717302949724528 and parameters: {'x': 3.5606493495424916}. Best is trial 777 with value: 6.230451359665273e-09.\n",
      "[I 2022-05-24 11:52:36,548] Trial 790 finished with value: 2.23901409493874 and parameters: {'x': 6.496333550696081}. Best is trial 777 with value: 6.230451359665273e-09.\n",
      "[I 2022-05-24 11:52:36,558] Trial 791 finished with value: 5.94719430684152 and parameters: {'x': 2.5613129953104847}. Best is trial 777 with value: 6.230451359665273e-09.\n",
      "[I 2022-05-24 11:52:36,568] Trial 792 finished with value: 0.05719346279070848 and parameters: {'x': 4.760848452251071}. Best is trial 777 with value: 6.230451359665273e-09.\n",
      "[I 2022-05-24 11:52:36,577] Trial 793 finished with value: 0.21121942988565867 and parameters: {'x': 5.459586150667814}. Best is trial 777 with value: 6.230451359665273e-09.\n",
      "[I 2022-05-24 11:52:36,587] Trial 794 finished with value: 6.818338614526719 and parameters: {'x': 7.611194863377055}. Best is trial 777 with value: 6.230451359665273e-09.\n",
      "[I 2022-05-24 11:52:36,597] Trial 795 finished with value: 0.8759748046815907 and parameters: {'x': 4.064064743328049}. Best is trial 777 with value: 6.230451359665273e-09.\n",
      "[I 2022-05-24 11:52:36,607] Trial 796 finished with value: 1.146452355136293 and parameters: {'x': 6.070725153872969}. Best is trial 777 with value: 6.230451359665273e-09.\n",
      "[I 2022-05-24 11:52:36,618] Trial 797 finished with value: 0.02045044335629811 and parameters: {'x': 4.856994953388707}. Best is trial 777 with value: 6.230451359665273e-09.\n",
      "[I 2022-05-24 11:52:36,627] Trial 798 finished with value: 1.9411062039831044 and parameters: {'x': 3.6067641247860776}. Best is trial 777 with value: 6.230451359665273e-09.\n",
      "[I 2022-05-24 11:52:36,637] Trial 799 finished with value: 0.2778310132323808 and parameters: {'x': 5.5270967778618845}. Best is trial 777 with value: 6.230451359665273e-09.\n",
      "[I 2022-05-24 11:52:36,647] Trial 800 finished with value: 2.619870033162529 and parameters: {'x': 6.618601258235804}. Best is trial 777 with value: 6.230451359665273e-09.\n",
      "[I 2022-05-24 11:52:36,657] Trial 801 finished with value: 0.2746558925302254 and parameters: {'x': 4.47592377221417}. Best is trial 777 with value: 6.230451359665273e-09.\n",
      "[I 2022-05-24 11:52:36,667] Trial 802 finished with value: 0.18265665428835925 and parameters: {'x': 5.427383497913009}. Best is trial 777 with value: 6.230451359665273e-09.\n",
      "[I 2022-05-24 11:52:36,677] Trial 803 finished with value: 2.5820690292127066 and parameters: {'x': 3.3931182279916463}. Best is trial 777 with value: 6.230451359665273e-09.\n",
      "[I 2022-05-24 11:52:36,687] Trial 804 finished with value: 0.39024758828187733 and parameters: {'x': 4.375302002338828}. Best is trial 777 with value: 6.230451359665273e-09.\n",
      "[I 2022-05-24 11:52:36,697] Trial 805 finished with value: 1.2838165263547496 and parameters: {'x': 6.133056276781851}. Best is trial 777 with value: 6.230451359665273e-09.\n",
      "[I 2022-05-24 11:52:36,707] Trial 806 finished with value: 7.4155703365233645 and parameters: {'x': 2.2768455173230873}. Best is trial 777 with value: 6.230451359665273e-09.\n",
      "[I 2022-05-24 11:52:36,717] Trial 807 finished with value: 4.142412959169147 and parameters: {'x': 7.035291860930306}. Best is trial 777 with value: 6.230451359665273e-09.\n",
      "[I 2022-05-24 11:52:36,728] Trial 808 finished with value: 0.02427876201749269 and parameters: {'x': 5.155816436929782}. Best is trial 777 with value: 6.230451359665273e-09.\n",
      "[I 2022-05-24 11:52:36,737] Trial 809 finished with value: 0.6721496598619039 and parameters: {'x': 4.180152660636199}. Best is trial 777 with value: 6.230451359665273e-09.\n",
      "[I 2022-05-24 11:52:36,747] Trial 810 finished with value: 3.990108637301763 and parameters: {'x': 3.0024743713028954}. Best is trial 777 with value: 6.230451359665273e-09.\n",
      "[I 2022-05-24 11:52:36,757] Trial 811 finished with value: 0.0022588387320048356 and parameters: {'x': 4.952472758001281}. Best is trial 777 with value: 6.230451359665273e-09.\n",
      "[I 2022-05-24 11:52:36,767] Trial 812 finished with value: 0.5425097315518148 and parameters: {'x': 5.7365525993110165}. Best is trial 777 with value: 6.230451359665273e-09.\n",
      "[I 2022-05-24 11:52:36,776] Trial 813 finished with value: 0.9687956176304748 and parameters: {'x': 4.015725842241871}. Best is trial 777 with value: 6.230451359665273e-09.\n",
      "[I 2022-05-24 11:52:36,787] Trial 814 finished with value: 1.5462064242120257 and parameters: {'x': 6.243465489755154}. Best is trial 777 with value: 6.230451359665273e-09.\n",
      "[I 2022-05-24 11:52:36,796] Trial 815 finished with value: 0.057664833854065435 and parameters: {'x': 4.759864967457754}. Best is trial 777 with value: 6.230451359665273e-09.\n",
      "[I 2022-05-24 11:52:36,806] Trial 816 finished with value: 0.2388329569181842 and parameters: {'x': 5.48870538867316}. Best is trial 777 with value: 6.230451359665273e-09.\n",
      "[I 2022-05-24 11:52:36,816] Trial 817 finished with value: 7.586417270113685 and parameters: {'x': 7.754345161760538}. Best is trial 777 with value: 6.230451359665273e-09.\n",
      "[I 2022-05-24 11:52:36,826] Trial 818 finished with value: 3.280625991608666 and parameters: {'x': 6.811249842404042}. Best is trial 777 with value: 6.230451359665273e-09.\n",
      "[I 2022-05-24 11:52:36,838] Trial 819 finished with value: 3.2466758438501047 and parameters: {'x': 3.1981465531708455}. Best is trial 777 with value: 6.230451359665273e-09.\n",
      "[I 2022-05-24 11:52:36,847] Trial 820 finished with value: 0.04130083548539626 and parameters: {'x': 4.796773930103945}. Best is trial 777 with value: 6.230451359665273e-09.\n",
      "[I 2022-05-24 11:52:36,857] Trial 821 finished with value: 1.0595940385214377 and parameters: {'x': 3.9706341571037838}. Best is trial 777 with value: 6.230451359665273e-09.\n",
      "[I 2022-05-24 11:52:36,867] Trial 822 finished with value: 0.8098258321827285 and parameters: {'x': 5.89990323489958}. Best is trial 777 with value: 6.230451359665273e-09.\n",
      "[I 2022-05-24 11:52:36,877] Trial 823 finished with value: 0.005213993958095662 and parameters: {'x': 5.0722079909573425}. Best is trial 777 with value: 6.230451359665273e-09.\n",
      "[I 2022-05-24 11:52:36,887] Trial 824 finished with value: 173.90520562819327 and parameters: {'x': -8.18731229736345}. Best is trial 777 with value: 6.230451359665273e-09.\n",
      "[I 2022-05-24 11:52:36,897] Trial 825 finished with value: 1.0624438988392455 and parameters: {'x': 3.969250807014992}. Best is trial 777 with value: 6.230451359665273e-09.\n",
      "[I 2022-05-24 11:52:36,907] Trial 826 finished with value: 350.6216161517664 and parameters: {'x': -13.724892954347332}. Best is trial 777 with value: 6.230451359665273e-09.\n",
      "[I 2022-05-24 11:52:36,917] Trial 827 finished with value: 9.853736034825644 and parameters: {'x': 1.8609338912941569}. Best is trial 777 with value: 6.230451359665273e-09.\n",
      "[I 2022-05-24 11:52:36,927] Trial 828 finished with value: 1.1377585931441252 and parameters: {'x': 6.066657673831734}. Best is trial 777 with value: 6.230451359665273e-09.\n",
      "[I 2022-05-24 11:52:36,937] Trial 829 finished with value: 0.08929691937080268 and parameters: {'x': 4.701174098561047}. Best is trial 777 with value: 6.230451359665273e-09.\n",
      "[I 2022-05-24 11:52:36,949] Trial 830 finished with value: 4.277955708337309 and parameters: {'x': 7.068321954710463}. Best is trial 777 with value: 6.230451359665273e-09.\n",
      "[I 2022-05-24 11:52:36,958] Trial 831 finished with value: 3.4967703331307636 and parameters: {'x': 3.130034670607296}. Best is trial 777 with value: 6.230451359665273e-09.\n",
      "[I 2022-05-24 11:52:36,969] Trial 832 finished with value: 34.711371800495435 and parameters: {'x': 10.89163574913584}. Best is trial 777 with value: 6.230451359665273e-09.\n",
      "[I 2022-05-24 11:52:36,979] Trial 833 finished with value: 0.21604460851871699 and parameters: {'x': 5.464805990192378}. Best is trial 777 with value: 6.230451359665273e-09.\n",
      "[I 2022-05-24 11:52:36,989] Trial 834 finished with value: 0.6007813642974588 and parameters: {'x': 4.2248991263729225}. Best is trial 777 with value: 6.230451359665273e-09.\n",
      "[I 2022-05-24 11:52:37,000] Trial 835 finished with value: 2.2110696693234964 and parameters: {'x': 6.486966599935418}. Best is trial 777 with value: 6.230451359665273e-09.\n",
      "[I 2022-05-24 11:52:37,010] Trial 836 finished with value: 0.07037556086169708 and parameters: {'x': 5.26528392499678}. Best is trial 777 with value: 6.230451359665273e-09.\n",
      "[I 2022-05-24 11:52:37,020] Trial 837 finished with value: 1.907218335740614 and parameters: {'x': 3.618979241379546}. Best is trial 777 with value: 6.230451359665273e-09.\n",
      "[I 2022-05-24 11:52:37,030] Trial 838 finished with value: 0.06014107211844427 and parameters: {'x': 4.754763232531408}. Best is trial 777 with value: 6.230451359665273e-09.\n",
      "[I 2022-05-24 11:52:37,041] Trial 839 finished with value: 0.9917090211066922 and parameters: {'x': 5.995845882206023}. Best is trial 777 with value: 6.230451359665273e-09.\n",
      "[I 2022-05-24 11:52:37,051] Trial 840 finished with value: 11.150320130314956 and parameters: {'x': 8.339209506801716}. Best is trial 777 with value: 6.230451359665273e-09.\n",
      "[I 2022-05-24 11:52:37,063] Trial 841 finished with value: 4.708182663931188 and parameters: {'x': 2.8301652911036776}. Best is trial 777 with value: 6.230451359665273e-09.\n",
      "[I 2022-05-24 11:52:37,072] Trial 842 finished with value: 0.30587687696426197 and parameters: {'x': 4.44693863182802}. Best is trial 777 with value: 6.230451359665273e-09.\n",
      "[I 2022-05-24 11:52:37,083] Trial 843 finished with value: 0.2772181709077633 and parameters: {'x': 5.526515119353436}. Best is trial 777 with value: 6.230451359665273e-09.\n",
      "[I 2022-05-24 11:52:37,093] Trial 844 finished with value: 3.4131868867886888 and parameters: {'x': 6.847481227722947}. Best is trial 777 with value: 6.230451359665273e-09.\n",
      "[I 2022-05-24 11:52:37,103] Trial 845 finished with value: 1.29117325830726 and parameters: {'x': 3.863701950055682}. Best is trial 777 with value: 6.230451359665273e-09.\n",
      "[I 2022-05-24 11:52:37,113] Trial 846 finished with value: 0.030144335289890852 and parameters: {'x': 5.173621240894917}. Best is trial 777 with value: 6.230451359665273e-09.\n",
      "[I 2022-05-24 11:52:37,123] Trial 847 finished with value: 0.9398899460740373 and parameters: {'x': 5.969479213843204}. Best is trial 777 with value: 6.230451359665273e-09.\n"
     ]
    },
    {
     "name": "stdout",
     "output_type": "stream",
     "text": [
      "[I 2022-05-24 11:52:37,133] Trial 848 finished with value: 0.22535002671941606 and parameters: {'x': 4.525289533800427}. Best is trial 777 with value: 6.230451359665273e-09.\n",
      "[I 2022-05-24 11:52:37,143] Trial 849 finished with value: 1.7351557766370225 and parameters: {'x': 3.682746882092503}. Best is trial 777 with value: 6.230451359665273e-09.\n",
      "[I 2022-05-24 11:52:37,154] Trial 850 finished with value: 5.732358053741992 and parameters: {'x': 7.394234335594992}. Best is trial 777 with value: 6.230451359665273e-09.\n",
      "[I 2022-05-24 11:52:37,165] Trial 851 finished with value: 0.021775710505536075 and parameters: {'x': 5.147565953070266}. Best is trial 777 with value: 6.230451359665273e-09.\n",
      "[I 2022-05-24 11:52:37,175] Trial 852 finished with value: 1.4923971384149963 and parameters: {'x': 6.221637073117461}. Best is trial 777 with value: 6.230451359665273e-09.\n",
      "[I 2022-05-24 11:52:37,186] Trial 853 finished with value: 0.40633789480380983 and parameters: {'x': 4.362553614173074}. Best is trial 777 with value: 6.230451359665273e-09.\n",
      "[I 2022-05-24 11:52:37,196] Trial 854 finished with value: 0.3124253848878956 and parameters: {'x': 5.558950252605628}. Best is trial 777 with value: 6.230451359665273e-09.\n",
      "[I 2022-05-24 11:52:37,206] Trial 855 finished with value: 5.9675318053060815 and parameters: {'x': 2.557146790061654}. Best is trial 777 with value: 6.230451359665273e-09.\n",
      "[I 2022-05-24 11:52:37,216] Trial 856 finished with value: 0.05274522389195501 and parameters: {'x': 4.7703367162736825}. Best is trial 777 with value: 6.230451359665273e-09.\n",
      "[I 2022-05-24 11:52:37,227] Trial 857 finished with value: 2.9023920689836276 and parameters: {'x': 3.2963591725414574}. Best is trial 777 with value: 6.230451359665273e-09.\n",
      "[I 2022-05-24 11:52:37,237] Trial 858 finished with value: 2.926856339506993 and parameters: {'x': 6.710805757386558}. Best is trial 777 with value: 6.230451359665273e-09.\n",
      "[I 2022-05-24 11:52:37,248] Trial 859 finished with value: 0.3659145000446527 and parameters: {'x': 5.604908670829451}. Best is trial 777 with value: 6.230451359665273e-09.\n",
      "[I 2022-05-24 11:52:37,258] Trial 860 finished with value: 0.9888134759463673 and parameters: {'x': 4.005608992424827}. Best is trial 777 with value: 6.230451359665273e-09.\n",
      "[I 2022-05-24 11:52:37,269] Trial 861 finished with value: 0.02363914049074998 and parameters: {'x': 4.846249746371754}. Best is trial 777 with value: 6.230451359665273e-09.\n",
      "[I 2022-05-24 11:52:37,278] Trial 862 finished with value: 1.2442807493594383 and parameters: {'x': 6.115473329739191}. Best is trial 777 with value: 6.230451359665273e-09.\n",
      "[I 2022-05-24 11:52:37,289] Trial 863 finished with value: 0.8029795571502885 and parameters: {'x': 4.1039087339169695}. Best is trial 777 with value: 6.230451359665273e-09.\n",
      "[I 2022-05-24 11:52:37,299] Trial 864 finished with value: 0.07548223488019186 and parameters: {'x': 5.274740304433463}. Best is trial 777 with value: 6.230451359665273e-09.\n",
      "[I 2022-05-24 11:52:37,310] Trial 865 finished with value: 3.099924612706792 and parameters: {'x': 6.760660277483079}. Best is trial 777 with value: 6.230451359665273e-09.\n",
      "[I 2022-05-24 11:52:37,320] Trial 866 finished with value: 2.6556993667607087 and parameters: {'x': 3.37036833402124}. Best is trial 777 with value: 6.230451359665273e-09.\n",
      "[I 2022-05-24 11:52:37,331] Trial 867 finished with value: 0.07551422244001803 and parameters: {'x': 4.725201487558579}. Best is trial 777 with value: 6.230451359665273e-09.\n",
      "[I 2022-05-24 11:52:37,341] Trial 868 finished with value: 0.4726061247673654 and parameters: {'x': 5.687463544318799}. Best is trial 777 with value: 6.230451359665273e-09.\n",
      "[I 2022-05-24 11:52:37,352] Trial 869 finished with value: 7.498464684675158 and parameters: {'x': 7.738332464233508}. Best is trial 777 with value: 6.230451359665273e-09.\n",
      "[I 2022-05-24 11:52:37,362] Trial 870 finished with value: 5.577344610991436 and parameters: {'x': 2.638359762582066}. Best is trial 777 with value: 6.230451359665273e-09.\n",
      "[I 2022-05-24 11:52:37,374] Trial 871 finished with value: 0.4639363347466435 and parameters: {'x': 4.318871278871135}. Best is trial 777 with value: 6.230451359665273e-09.\n",
      "[I 2022-05-24 11:52:37,383] Trial 872 finished with value: 1.4866284883155987 and parameters: {'x': 6.219273754460252}. Best is trial 777 with value: 6.230451359665273e-09.\n",
      "[I 2022-05-24 11:52:37,394] Trial 873 finished with value: 0.07080627326182576 and parameters: {'x': 5.266094481832724}. Best is trial 777 with value: 6.230451359665273e-09.\n",
      "[I 2022-05-24 11:52:37,404] Trial 874 finished with value: 1.6555858279366968 and parameters: {'x': 3.71330429862508}. Best is trial 777 with value: 6.230451359665273e-09.\n",
      "[I 2022-05-24 11:52:37,414] Trial 875 finished with value: 13.631795732349827 and parameters: {'x': 1.3078738195519608}. Best is trial 777 with value: 6.230451359665273e-09.\n",
      "[I 2022-05-24 11:52:37,424] Trial 876 finished with value: 0.0829874730177155 and parameters: {'x': 4.7119245358977695}. Best is trial 777 with value: 6.230451359665273e-09.\n",
      "[I 2022-05-24 11:52:37,434] Trial 877 finished with value: 0.7071699908549395 and parameters: {'x': 5.840933999107504}. Best is trial 777 with value: 6.230451359665273e-09.\n",
      "[I 2022-05-24 11:52:37,445] Trial 878 finished with value: 3.6516221068096404 and parameters: {'x': 6.9109217950532775}. Best is trial 777 with value: 6.230451359665273e-09.\n",
      "[I 2022-05-24 11:52:37,455] Trial 879 finished with value: 0.003776436178195849 and parameters: {'x': 5.061452714978232}. Best is trial 777 with value: 6.230451359665273e-09.\n",
      "[I 2022-05-24 11:52:37,465] Trial 880 finished with value: 2.4567893032278363 and parameters: {'x': 3.432585152798457}. Best is trial 777 with value: 6.230451359665273e-09.\n",
      "[I 2022-05-24 11:52:37,477] Trial 881 finished with value: 1.0574290096424632 and parameters: {'x': 3.9716863272121374}. Best is trial 777 with value: 6.230451359665273e-09.\n",
      "[I 2022-05-24 11:52:37,486] Trial 882 finished with value: 1.5395754428436166 and parameters: {'x': 6.240796293854723}. Best is trial 777 with value: 6.230451359665273e-09.\n",
      "[I 2022-05-24 11:52:37,496] Trial 883 finished with value: 0.134887141129335 and parameters: {'x': 5.3672698478358045}. Best is trial 777 with value: 6.230451359665273e-09.\n",
      "[I 2022-05-24 11:52:37,506] Trial 884 finished with value: 0.23290052594618837 and parameters: {'x': 4.51740231460751}. Best is trial 777 with value: 6.230451359665273e-09.\n",
      "[I 2022-05-24 11:52:37,517] Trial 885 finished with value: 4.476584333985764 and parameters: {'x': 2.884205980255695}. Best is trial 777 with value: 6.230451359665273e-09.\n",
      "[I 2022-05-24 11:52:37,527] Trial 886 finished with value: 5.641459616763009 and parameters: {'x': 7.375175702292992}. Best is trial 777 with value: 6.230451359665273e-09.\n",
      "[I 2022-05-24 11:52:37,537] Trial 887 finished with value: 8.664037796761002 and parameters: {'x': 2.056526236440861}. Best is trial 777 with value: 6.230451359665273e-09.\n",
      "[I 2022-05-24 11:52:37,547] Trial 888 finished with value: 0.8805784280849377 and parameters: {'x': 5.93839140452422}. Best is trial 777 with value: 6.230451359665273e-09.\n",
      "[I 2022-05-24 11:52:37,558] Trial 889 finished with value: 0.06111408470919032 and parameters: {'x': 4.7527873694383915}. Best is trial 777 with value: 6.230451359665273e-09.\n",
      "[I 2022-05-24 11:52:37,568] Trial 890 finished with value: 0.976118803814571 and parameters: {'x': 4.01201275118827}. Best is trial 777 with value: 6.230451359665273e-09.\n",
      "[I 2022-05-24 11:52:37,580] Trial 891 finished with value: 0.2431942835482414 and parameters: {'x': 5.493147324385159}. Best is trial 777 with value: 6.230451359665273e-09.\n",
      "[I 2022-05-24 11:52:37,589] Trial 892 finished with value: 2.4717695069263605 and parameters: {'x': 6.572186218908676}. Best is trial 777 with value: 6.230451359665273e-09.\n",
      "[I 2022-05-24 11:52:37,599] Trial 893 finished with value: 0.015386401107557708 and parameters: {'x': 4.875958067140351}. Best is trial 777 with value: 6.230451359665273e-09.\n",
      "[I 2022-05-24 11:52:37,609] Trial 894 finished with value: 2.5463875551926742 and parameters: {'x': 3.4042595589530626}. Best is trial 777 with value: 6.230451359665273e-09.\n",
      "[I 2022-05-24 11:52:37,620] Trial 895 finished with value: 11.803247316866289 and parameters: {'x': 8.435585440193023}. Best is trial 777 with value: 6.230451359665273e-09.\n",
      "[I 2022-05-24 11:52:37,630] Trial 896 finished with value: 92.09020820624158 and parameters: {'x': -4.596364322296314}. Best is trial 777 with value: 6.230451359665273e-09.\n",
      "[I 2022-05-24 11:52:37,640] Trial 897 finished with value: 0.5426252817020186 and parameters: {'x': 4.263368965015715}. Best is trial 777 with value: 6.230451359665273e-09.\n",
      "[I 2022-05-24 11:52:37,650] Trial 898 finished with value: 0.3639376484717997 and parameters: {'x': 5.603272449621064}. Best is trial 777 with value: 6.230451359665273e-09.\n",
      "[I 2022-05-24 11:52:37,661] Trial 899 finished with value: 1.8719828511152121 and parameters: {'x': 6.368204243201728}. Best is trial 777 with value: 6.230451359665273e-09.\n",
      "[I 2022-05-24 11:52:37,671] Trial 900 finished with value: 0.004776784657686402 and parameters: {'x': 5.069114286928872}. Best is trial 777 with value: 6.230451359665273e-09.\n",
      "[I 2022-05-24 11:52:37,684] Trial 901 finished with value: 0.9326526955239806 and parameters: {'x': 4.034260544699565}. Best is trial 777 with value: 6.230451359665273e-09.\n",
      "[I 2022-05-24 11:52:37,693] Trial 902 finished with value: 0.11519851327827536 and parameters: {'x': 5.339409064814532}. Best is trial 777 with value: 6.230451359665273e-09.\n",
      "[I 2022-05-24 11:52:37,704] Trial 903 finished with value: 5.110640677445281 and parameters: {'x': 7.260672616157696}. Best is trial 777 with value: 6.230451359665273e-09.\n",
      "[I 2022-05-24 11:52:37,715] Trial 904 finished with value: 3.5315102362695265 and parameters: {'x': 3.120768711342447}. Best is trial 777 with value: 6.230451359665273e-09.\n",
      "[I 2022-05-24 11:52:37,725] Trial 905 finished with value: 0.2654461092584358 and parameters: {'x': 4.484785375539052}. Best is trial 777 with value: 6.230451359665273e-09.\n",
      "[I 2022-05-24 11:52:37,736] Trial 906 finished with value: 1.4600636991340155 and parameters: {'x': 6.208330955961162}. Best is trial 777 with value: 6.230451359665273e-09.\n",
      "[I 2022-05-24 11:52:37,746] Trial 907 finished with value: 0.4428017290894412 and parameters: {'x': 5.665433489606167}. Best is trial 777 with value: 6.230451359665273e-09.\n",
      "[I 2022-05-24 11:52:37,757] Trial 908 finished with value: 0.5695103116585992 and parameters: {'x': 4.24534093018198}. Best is trial 777 with value: 6.230451359665273e-09.\n",
      "[I 2022-05-24 11:52:37,767] Trial 909 finished with value: 0.009522310486861139 and parameters: {'x': 4.9024176732862905}. Best is trial 777 with value: 6.230451359665273e-09.\n",
      "[I 2022-05-24 11:52:37,777] Trial 910 finished with value: 2.2036388732984995 and parameters: {'x': 3.5155341454588793}. Best is trial 777 with value: 6.230451359665273e-09.\n",
      "[I 2022-05-24 11:52:37,789] Trial 911 finished with value: 3.4502862940274013 and parameters: {'x': 6.857494628263404}. Best is trial 777 with value: 6.230451359665273e-09.\n",
      "[I 2022-05-24 11:52:37,799] Trial 912 finished with value: 0.18426962338513012 and parameters: {'x': 5.42926637812101}. Best is trial 777 with value: 6.230451359665273e-09.\n",
      "[I 2022-05-24 11:52:37,809] Trial 913 finished with value: 35.14541190821725 and parameters: {'x': -0.9283565942187764}. Best is trial 777 with value: 6.230451359665273e-09.\n",
      "[I 2022-05-24 11:52:37,819] Trial 914 finished with value: 6.347280922009569 and parameters: {'x': 2.480618940690081}. Best is trial 777 with value: 6.230451359665273e-09.\n",
      "[I 2022-05-24 11:52:37,830] Trial 915 finished with value: 0.07405249142173628 and parameters: {'x': 4.727874125776808}. Best is trial 777 with value: 6.230451359665273e-09.\n",
      "[I 2022-05-24 11:52:37,840] Trial 916 finished with value: 0.8790844222922052 and parameters: {'x': 5.937595020407108}. Best is trial 777 with value: 6.230451359665273e-09.\n",
      "[I 2022-05-24 11:52:37,850] Trial 917 finished with value: 1.8371065132669215 and parameters: {'x': 3.644600976366398}. Best is trial 777 with value: 6.230451359665273e-09.\n",
      "[I 2022-05-24 11:52:37,861] Trial 918 finished with value: 1.9780399751574782 and parameters: {'x': 6.4064280910012705}. Best is trial 777 with value: 6.230451359665273e-09.\n",
      "[I 2022-05-24 11:52:37,871] Trial 919 finished with value: 0.14645235035478402 and parameters: {'x': 4.617309066798305}. Best is trial 777 with value: 6.230451359665273e-09.\n",
      "[I 2022-05-24 11:52:37,881] Trial 920 finished with value: 0.12599990411546969 and parameters: {'x': 5.35496465192392}. Best is trial 777 with value: 6.230451359665273e-09.\n",
      "[I 2022-05-24 11:52:37,893] Trial 921 finished with value: 17.32516612282354 and parameters: {'x': 9.162351033108997}. Best is trial 777 with value: 6.230451359665273e-09.\n",
      "[I 2022-05-24 11:52:37,902] Trial 922 finished with value: 8.406645706603872 and parameters: {'x': 7.8994216158751165}. Best is trial 777 with value: 6.230451359665273e-09.\n",
      "[I 2022-05-24 11:52:37,912] Trial 923 finished with value: 1.1409253135621678 and parameters: {'x': 3.9318589449130945}. Best is trial 777 with value: 6.230451359665273e-09.\n",
      "[I 2022-05-24 11:52:37,923] Trial 924 finished with value: 62.20012477944855 and parameters: {'x': -2.8867055720020733}. Best is trial 777 with value: 6.230451359665273e-09.\n",
      "[I 2022-05-24 11:52:37,933] Trial 925 finished with value: 0.90130987212561 and parameters: {'x': 5.949373410268905}. Best is trial 777 with value: 6.230451359665273e-09.\n",
      "[I 2022-05-24 11:52:37,944] Trial 926 finished with value: 4.027796508839974 and parameters: {'x': 2.993062903616565}. Best is trial 777 with value: 6.230451359665273e-09.\n",
      "[I 2022-05-24 11:52:37,954] Trial 927 finished with value: 0.0008657550722282436 and parameters: {'x': 5.029423716152591}. Best is trial 777 with value: 6.230451359665273e-09.\n",
      "[I 2022-05-24 11:52:37,965] Trial 928 finished with value: 0.4036342565695352 and parameters: {'x': 4.364677832458574}. Best is trial 777 with value: 6.230451359665273e-09.\n",
      "[I 2022-05-24 11:52:37,975] Trial 929 finished with value: 0.02599647035060377 and parameters: {'x': 5.1612342096163335}. Best is trial 777 with value: 6.230451359665273e-09.\n",
      "[I 2022-05-24 11:52:37,986] Trial 930 finished with value: 2.812355164792322 and parameters: {'x': 6.677007801052912}. Best is trial 777 with value: 6.230451359665273e-09.\n",
      "[I 2022-05-24 11:52:37,998] Trial 931 finished with value: 1.1907068357555 and parameters: {'x': 3.9088048589938187}. Best is trial 777 with value: 6.230451359665273e-09.\n",
      "[I 2022-05-24 11:52:38,007] Trial 932 finished with value: 0.4775768819938016 and parameters: {'x': 5.691069375673529}. Best is trial 777 with value: 6.230451359665273e-09.\n",
      "[I 2022-05-24 11:52:38,017] Trial 933 finished with value: 0.14834840858368373 and parameters: {'x': 4.6148397624576445}. Best is trial 777 with value: 6.230451359665273e-09.\n",
      "[I 2022-05-24 11:52:38,028] Trial 934 finished with value: 63.10980418060821 and parameters: {'x': 12.944167935070872}. Best is trial 777 with value: 6.230451359665273e-09.\n",
      "[I 2022-05-24 11:52:38,038] Trial 935 finished with value: 4.0877243457597885 and parameters: {'x': 7.021812144033117}. Best is trial 777 with value: 6.230451359665273e-09.\n",
      "[I 2022-05-24 11:52:38,049] Trial 936 finished with value: 9.822008412309161 and parameters: {'x': 1.8659916381239245}. Best is trial 777 with value: 6.230451359665273e-09.\n",
      "[I 2022-05-24 11:52:38,060] Trial 937 finished with value: 0.9444757111554597 and parameters: {'x': 5.971841402264515}. Best is trial 777 with value: 6.230451359665273e-09.\n",
      "[I 2022-05-24 11:52:38,070] Trial 938 finished with value: 2.9855810505137512 and parameters: {'x': 3.272116598113822}. Best is trial 777 with value: 6.230451359665273e-09.\n",
      "[I 2022-05-24 11:52:38,081] Trial 939 finished with value: 0.0005915183290598975 and parameters: {'x': 5.0243211498301354}. Best is trial 777 with value: 6.230451359665273e-09.\n",
      "[I 2022-05-24 11:52:38,091] Trial 940 finished with value: 0.0009672663161014724 and parameters: {'x': 4.968899094609618}. Best is trial 777 with value: 6.230451359665273e-09.\n",
      "[I 2022-05-24 11:52:38,103] Trial 941 finished with value: 0.6266225672065122 and parameters: {'x': 4.208405048521334}. Best is trial 777 with value: 6.230451359665273e-09.\n"
     ]
    },
    {
     "name": "stdout",
     "output_type": "stream",
     "text": [
      "[I 2022-05-24 11:52:38,113] Trial 942 finished with value: 0.04634863718831581 and parameters: {'x': 5.215287336339869}. Best is trial 777 with value: 6.230451359665273e-09.\n",
      "[I 2022-05-24 11:52:38,124] Trial 943 finished with value: 1.0522014153196644 and parameters: {'x': 6.0257686948428795}. Best is trial 777 with value: 6.230451359665273e-09.\n",
      "[I 2022-05-24 11:52:38,134] Trial 944 finished with value: 1.5557656929847568 and parameters: {'x': 3.752696631534751}. Best is trial 777 with value: 6.230451359665273e-09.\n",
      "[I 2022-05-24 11:52:38,145] Trial 945 finished with value: 0.0783201325877282 and parameters: {'x': 4.720142656720021}. Best is trial 777 with value: 6.230451359665273e-09.\n",
      "[I 2022-05-24 11:52:38,156] Trial 946 finished with value: 5.0293210816386384 and parameters: {'x': 7.242614786725228}. Best is trial 777 with value: 6.230451359665273e-09.\n",
      "[I 2022-05-24 11:52:38,166] Trial 947 finished with value: 0.20477240153226606 and parameters: {'x': 5.452517846645042}. Best is trial 777 with value: 6.230451359665273e-09.\n",
      "[I 2022-05-24 11:52:38,177] Trial 948 finished with value: 21.528223480410443 and parameters: {'x': 0.36014833422334025}. Best is trial 777 with value: 6.230451359665273e-09.\n",
      "[I 2022-05-24 11:52:38,187] Trial 949 finished with value: 5.435676530472627 and parameters: {'x': 2.66854626242067}. Best is trial 777 with value: 6.230451359665273e-09.\n",
      "[I 2022-05-24 11:52:38,198] Trial 950 finished with value: 2.363072111123117 and parameters: {'x': 6.5372287113904415}. Best is trial 777 with value: 6.230451359665273e-09.\n",
      "[I 2022-05-24 11:52:38,210] Trial 951 finished with value: 0.10864553766040287 and parameters: {'x': 4.6703857744872}. Best is trial 777 with value: 6.230451359665273e-09.\n",
      "[I 2022-05-24 11:52:38,219] Trial 952 finished with value: 1.670257127486322 and parameters: {'x': 3.707615719885791}. Best is trial 777 with value: 6.230451359665273e-09.\n",
      "[I 2022-05-24 11:52:38,229] Trial 953 finished with value: 0.3337881194695087 and parameters: {'x': 5.577743991288104}. Best is trial 777 with value: 6.230451359665273e-09.\n",
      "[I 2022-05-24 11:52:38,240] Trial 954 finished with value: 0.41656955856370004 and parameters: {'x': 4.354577999628383}. Best is trial 777 with value: 6.230451359665273e-09.\n",
      "[I 2022-05-24 11:52:38,251] Trial 955 finished with value: 1.1790819029372759 and parameters: {'x': 6.0858553784631155}. Best is trial 777 with value: 6.230451359665273e-09.\n",
      "[I 2022-05-24 11:52:38,262] Trial 956 finished with value: 0.047766051513666405 and parameters: {'x': 5.218554458919662}. Best is trial 777 with value: 6.230451359665273e-09.\n",
      "[I 2022-05-24 11:52:38,273] Trial 957 finished with value: 3.049098860049253 and parameters: {'x': 3.2538330950194787}. Best is trial 777 with value: 6.230451359665273e-09.\n",
      "[I 2022-05-24 11:52:38,283] Trial 958 finished with value: 0.5274663943151414 and parameters: {'x': 4.273731183159334}. Best is trial 777 with value: 6.230451359665273e-09.\n",
      "[I 2022-05-24 11:52:38,294] Trial 959 finished with value: 8.153583413945698 and parameters: {'x': 7.855448023331137}. Best is trial 777 with value: 6.230451359665273e-09.\n",
      "[I 2022-05-24 11:52:38,305] Trial 960 finished with value: 2.4221116204954667 and parameters: {'x': 6.556313471154017}. Best is trial 777 with value: 6.230451359665273e-09.\n",
      "[I 2022-05-24 11:52:38,317] Trial 961 finished with value: 0.0014273065610353752 and parameters: {'x': 5.037779710970776}. Best is trial 777 with value: 6.230451359665273e-09.\n",
      "[I 2022-05-24 11:52:38,326] Trial 962 finished with value: 1.0180319418475878 and parameters: {'x': 3.9910243105765195}. Best is trial 777 with value: 6.230451359665273e-09.\n",
      "[I 2022-05-24 11:52:38,337] Trial 963 finished with value: 6.086254558266989 and parameters: {'x': 2.532966445654419}. Best is trial 777 with value: 6.230451359665273e-09.\n",
      "[I 2022-05-24 11:52:38,348] Trial 964 finished with value: 0.5963142443042064 and parameters: {'x': 5.772213859176463}. Best is trial 777 with value: 6.230451359665273e-09.\n",
      "[I 2022-05-24 11:52:38,359] Trial 965 finished with value: 0.03768173371491706 and parameters: {'x': 4.805882165386802}. Best is trial 777 with value: 6.230451359665273e-09.\n",
      "[I 2022-05-24 11:52:38,369] Trial 966 finished with value: 2.258196050222641 and parameters: {'x': 6.5027295332902195}. Best is trial 777 with value: 6.230451359665273e-09.\n",
      "[I 2022-05-24 11:52:38,380] Trial 967 finished with value: 0.158549790979241 and parameters: {'x': 5.398183112373241}. Best is trial 777 with value: 6.230451359665273e-09.\n",
      "[I 2022-05-24 11:52:38,390] Trial 968 finished with value: 185.95258496936802 and parameters: {'x': 18.63644326682614}. Best is trial 777 with value: 6.230451359665273e-09.\n",
      "[I 2022-05-24 11:52:38,401] Trial 969 finished with value: 2.063042857961496 and parameters: {'x': 3.5636703519172572}. Best is trial 777 with value: 6.230451359665273e-09.\n",
      "[I 2022-05-24 11:52:38,412] Trial 970 finished with value: 0.16368701293649252 and parameters: {'x': 4.595417483155176}. Best is trial 777 with value: 6.230451359665273e-09.\n",
      "[I 2022-05-24 11:52:38,424] Trial 971 finished with value: 5.203485448282173 and parameters: {'x': 7.281114957270276}. Best is trial 777 with value: 6.230451359665273e-09.\n",
      "[I 2022-05-24 11:52:38,434] Trial 972 finished with value: 0.5252867063059736 and parameters: {'x': 5.72476665645294}. Best is trial 777 with value: 6.230451359665273e-09.\n",
      "[I 2022-05-24 11:52:38,444] Trial 973 finished with value: 80.97939659641145 and parameters: {'x': 13.998855293669937}. Best is trial 777 with value: 6.230451359665273e-09.\n",
      "[I 2022-05-24 11:52:38,455] Trial 974 finished with value: 0.4374204495892439 and parameters: {'x': 4.338622309425814}. Best is trial 777 with value: 6.230451359665273e-09.\n",
      "[I 2022-05-24 11:52:38,466] Trial 975 finished with value: 3.9425563706995823 and parameters: {'x': 3.014412839812973}. Best is trial 777 with value: 6.230451359665273e-09.\n",
      "[I 2022-05-24 11:52:38,477] Trial 976 finished with value: 1.7016809704490277 and parameters: {'x': 6.304484944508379}. Best is trial 777 with value: 6.230451359665273e-09.\n",
      "[I 2022-05-24 11:52:38,488] Trial 977 finished with value: 0.013871971633028597 and parameters: {'x': 5.117779334490515}. Best is trial 777 with value: 6.230451359665273e-09.\n",
      "[I 2022-05-24 11:52:38,498] Trial 978 finished with value: 1.3135040634126345 and parameters: {'x': 3.853917950837448}. Best is trial 777 with value: 6.230451359665273e-09.\n",
      "[I 2022-05-24 11:52:38,509] Trial 979 finished with value: 0.030091916873202545 and parameters: {'x': 4.826529781019327}. Best is trial 777 with value: 6.230451359665273e-09.\n",
      "[I 2022-05-24 11:52:38,520] Trial 980 finished with value: 1.0164564137054628 and parameters: {'x': 6.008194630865223}. Best is trial 777 with value: 6.230451359665273e-09.\n",
      "[I 2022-05-24 11:52:38,533] Trial 981 finished with value: 8.09810110345156 and parameters: {'x': 2.1542837275210376}. Best is trial 777 with value: 6.230451359665273e-09.\n",
      "[I 2022-05-24 11:52:38,542] Trial 982 finished with value: 0.039930255722547624 and parameters: {'x': 5.199825563235907}. Best is trial 777 with value: 6.230451359665273e-09.\n",
      "[I 2022-05-24 11:52:38,553] Trial 983 finished with value: 3.6980109037060322 and parameters: {'x': 6.923021295697485}. Best is trial 777 with value: 6.230451359665273e-09.\n",
      "[I 2022-05-24 11:52:38,564] Trial 984 finished with value: 1.546513084503019 and parameters: {'x': 3.7564112076321132}. Best is trial 777 with value: 6.230451359665273e-09.\n",
      "[I 2022-05-24 11:52:38,575] Trial 985 finished with value: 0.32372376232303784 and parameters: {'x': 4.431032722976938}. Best is trial 777 with value: 6.230451359665273e-09.\n",
      "[I 2022-05-24 11:52:38,587] Trial 986 finished with value: 0.28053281454244194 and parameters: {'x': 5.529653485349093}. Best is trial 777 with value: 6.230451359665273e-09.\n",
      "[I 2022-05-24 11:52:38,598] Trial 987 finished with value: 3.750793042426751 and parameters: {'x': 3.063303575046737}. Best is trial 777 with value: 6.230451359665273e-09.\n",
      "[I 2022-05-24 11:52:38,609] Trial 988 finished with value: 1.3435423887353213 and parameters: {'x': 6.159112759284152}. Best is trial 777 with value: 6.230451359665273e-09.\n",
      "[I 2022-05-24 11:52:38,620] Trial 989 finished with value: 0.4190647629378134 and parameters: {'x': 4.352647883344919}. Best is trial 777 with value: 6.230451359665273e-09.\n",
      "[I 2022-05-24 11:52:38,631] Trial 990 finished with value: 0.03125555688563157 and parameters: {'x': 5.176792411844037}. Best is trial 777 with value: 6.230451359665273e-09.\n",
      "[I 2022-05-24 11:52:38,643] Trial 991 finished with value: 7.775103120940733 and parameters: {'x': 7.788387189925519}. Best is trial 777 with value: 6.230451359665273e-09.\n",
      "[I 2022-05-24 11:52:38,653] Trial 992 finished with value: 2.995763861559529 and parameters: {'x': 6.730827507742909}. Best is trial 777 with value: 6.230451359665273e-09.\n",
      "[I 2022-05-24 11:52:38,664] Trial 993 finished with value: 1.3202371757465434 and parameters: {'x': 3.850984257833452}. Best is trial 777 with value: 6.230451359665273e-09.\n",
      "[I 2022-05-24 11:52:38,675] Trial 994 finished with value: 0.34832820914482315 and parameters: {'x': 5.590193365893605}. Best is trial 777 with value: 6.230451359665273e-09.\n",
      "[I 2022-05-24 11:52:38,688] Trial 995 finished with value: 0.06469330285410012 and parameters: {'x': 4.74565121809983}. Best is trial 777 with value: 6.230451359665273e-09.\n",
      "[I 2022-05-24 11:52:38,699] Trial 996 finished with value: 3.1658787269565893 and parameters: {'x': 3.220708363714203}. Best is trial 777 with value: 6.230451359665273e-09.\n",
      "[I 2022-05-24 11:52:38,711] Trial 997 finished with value: 1.0932827788228383 and parameters: {'x': 6.045601634860446}. Best is trial 777 with value: 6.230451359665273e-09.\n",
      "[I 2022-05-24 11:52:38,722] Trial 998 finished with value: 0.24782822106251468 and parameters: {'x': 4.50217651616008}. Best is trial 777 with value: 6.230451359665273e-09.\n",
      "[I 2022-05-24 11:52:38,733] Trial 999 finished with value: 0.09148474720747243 and parameters: {'x': 5.302464456105957}. Best is trial 777 with value: 6.230451359665273e-09.\n",
      "\n"
     ]
    }
   ],
   "source": [
    "study = optuna.create_study(direction=\"minimize\")\n",
    "study.optimize(func=Objective(min_x=-20, max_x=20), n_trials=1000, show_progress_bar=True)"
   ]
  },
  {
   "cell_type": "code",
   "execution_count": 29,
   "id": "5ff622a9",
   "metadata": {
    "ExecuteTime": {
     "end_time": "2022-05-24T11:52:39.542150Z",
     "start_time": "2022-05-24T11:52:39.537169Z"
    }
   },
   "outputs": [
    {
     "data": {
      "text/plain": [
       "{'x': 5.0000789332082185}"
      ]
     },
     "execution_count": 29,
     "metadata": {},
     "output_type": "execute_result"
    }
   ],
   "source": [
    "study.best_params"
   ]
  },
  {
   "cell_type": "markdown",
   "id": "3a01b212",
   "metadata": {},
   "source": [
    "# FB Prophet optimization"
   ]
  },
  {
   "cell_type": "markdown",
   "id": "56f448fc",
   "metadata": {},
   "source": [
    "Попробуем оптимизировать гиперпараметры FB Prophet на минимизацию MAPE."
   ]
  },
  {
   "cell_type": "markdown",
   "id": "eed48010",
   "metadata": {},
   "source": [
    "## Imports"
   ]
  },
  {
   "cell_type": "code",
   "execution_count": 123,
   "id": "69bdbb29",
   "metadata": {
    "ExecuteTime": {
     "end_time": "2022-05-24T13:17:54.131284Z",
     "start_time": "2022-05-24T13:17:54.125764Z"
    }
   },
   "outputs": [],
   "source": [
    "import numpy as np\n",
    "import pandas as pd\n",
    "import optuna\n",
    "import matplotlib.pyplot as plt\n",
    "\n",
    "from fbprophet import Prophet\n",
    "from fbprophet.diagnostics import cross_validation, performance_metrics\n",
    "from fbprophet.plot import add_changepoints_to_plot, plot_cross_validation_metric\n",
    "\n",
    "from sklearn.metrics import mean_absolute_percentage_error"
   ]
  },
  {
   "cell_type": "markdown",
   "id": "26b08b14",
   "metadata": {},
   "source": [
    "## Configuration"
   ]
  },
  {
   "cell_type": "code",
   "execution_count": 37,
   "id": "e7ffa72c",
   "metadata": {
    "ExecuteTime": {
     "end_time": "2022-05-24T11:58:46.231719Z",
     "start_time": "2022-05-24T11:58:46.225763Z"
    }
   },
   "outputs": [],
   "source": [
    "class CFG:\n",
    "    def __init__(\n",
    "        self, \n",
    "        data_location: str = 'data/example_wp_log_peyton_manning.csv',\n",
    "        prediction_period: int = 365,\n",
    "                ):\n",
    "        self.data_location = data_location\n",
    "        self.prediction_period = prediction_period\n",
    "        return"
   ]
  },
  {
   "cell_type": "code",
   "execution_count": 38,
   "id": "75087ae0",
   "metadata": {
    "ExecuteTime": {
     "end_time": "2022-05-24T11:58:46.501004Z",
     "start_time": "2022-05-24T11:58:46.497708Z"
    }
   },
   "outputs": [],
   "source": [
    "cfg = CFG()"
   ]
  },
  {
   "cell_type": "code",
   "execution_count": 39,
   "id": "9ef04d73",
   "metadata": {
    "ExecuteTime": {
     "end_time": "2022-05-24T11:58:46.646025Z",
     "start_time": "2022-05-24T11:58:46.641571Z"
    }
   },
   "outputs": [
    {
     "data": {
      "text/plain": [
       "{'data_location': 'data/example_wp_log_peyton_manning.csv',\n",
       " 'prediction_period': 365}"
      ]
     },
     "execution_count": 39,
     "metadata": {},
     "output_type": "execute_result"
    }
   ],
   "source": [
    "cfg.__dict__"
   ]
  },
  {
   "cell_type": "markdown",
   "id": "e9a55a90",
   "metadata": {},
   "source": [
    "## Load the data"
   ]
  },
  {
   "cell_type": "code",
   "execution_count": 40,
   "id": "ed2f9161",
   "metadata": {
    "ExecuteTime": {
     "end_time": "2022-05-24T11:58:49.685473Z",
     "start_time": "2022-05-24T11:58:49.661621Z"
    }
   },
   "outputs": [
    {
     "data": {
      "text/html": [
       "<div>\n",
       "<style scoped>\n",
       "    .dataframe tbody tr th:only-of-type {\n",
       "        vertical-align: middle;\n",
       "    }\n",
       "\n",
       "    .dataframe tbody tr th {\n",
       "        vertical-align: top;\n",
       "    }\n",
       "\n",
       "    .dataframe thead th {\n",
       "        text-align: right;\n",
       "    }\n",
       "</style>\n",
       "<table border=\"1\" class=\"dataframe\">\n",
       "  <thead>\n",
       "    <tr style=\"text-align: right;\">\n",
       "      <th></th>\n",
       "      <th>ds</th>\n",
       "      <th>y</th>\n",
       "    </tr>\n",
       "  </thead>\n",
       "  <tbody>\n",
       "    <tr>\n",
       "      <th>0</th>\n",
       "      <td>2007-12-10</td>\n",
       "      <td>9.590761</td>\n",
       "    </tr>\n",
       "    <tr>\n",
       "      <th>1</th>\n",
       "      <td>2007-12-11</td>\n",
       "      <td>8.519590</td>\n",
       "    </tr>\n",
       "    <tr>\n",
       "      <th>2</th>\n",
       "      <td>2007-12-12</td>\n",
       "      <td>8.183677</td>\n",
       "    </tr>\n",
       "    <tr>\n",
       "      <th>3</th>\n",
       "      <td>2007-12-13</td>\n",
       "      <td>8.072467</td>\n",
       "    </tr>\n",
       "    <tr>\n",
       "      <th>4</th>\n",
       "      <td>2007-12-14</td>\n",
       "      <td>7.893572</td>\n",
       "    </tr>\n",
       "  </tbody>\n",
       "</table>\n",
       "</div>"
      ],
      "text/plain": [
       "          ds         y\n",
       "0 2007-12-10  9.590761\n",
       "1 2007-12-11  8.519590\n",
       "2 2007-12-12  8.183677\n",
       "3 2007-12-13  8.072467\n",
       "4 2007-12-14  7.893572"
      ]
     },
     "execution_count": 40,
     "metadata": {},
     "output_type": "execute_result"
    }
   ],
   "source": [
    "df = pd.read_csv(cfg.data_location, parse_dates=[0])\n",
    "df.head()"
   ]
  },
  {
   "cell_type": "markdown",
   "id": "18cc202d",
   "metadata": {},
   "source": [
    "В данных присутствуют пропущенные дни."
   ]
  },
  {
   "cell_type": "code",
   "execution_count": 102,
   "id": "68c265d0",
   "metadata": {
    "ExecuteTime": {
     "end_time": "2022-05-24T12:31:15.286855Z",
     "start_time": "2022-05-24T12:31:15.272290Z"
    }
   },
   "outputs": [
    {
     "data": {
      "text/plain": [
       "ds     0\n",
       "y     59\n",
       "dtype: int64"
      ]
     },
     "execution_count": 102,
     "metadata": {},
     "output_type": "execute_result"
    }
   ],
   "source": [
    "df_full = pd.DataFrame({'ds': pd.date_range(df['ds'].min(), df['ds'].max(), freq='D')})\n",
    "df_full = df_full.merge(df, on=['ds'], how='left')\n",
    "df_full.isna().sum()"
   ]
  },
  {
   "cell_type": "markdown",
   "id": "e94ef36b",
   "metadata": {},
   "source": [
    "Как мы видим, в данных всего пропущено 59 дней. Заполним их с помощью линейной интерполяции."
   ]
  },
  {
   "cell_type": "code",
   "execution_count": 104,
   "id": "50e7679b",
   "metadata": {
    "ExecuteTime": {
     "end_time": "2022-05-24T12:33:01.211501Z",
     "start_time": "2022-05-24T12:33:01.202371Z"
    }
   },
   "outputs": [
    {
     "data": {
      "text/plain": [
       "ds    0\n",
       "y     0\n",
       "dtype: int64"
      ]
     },
     "execution_count": 104,
     "metadata": {},
     "output_type": "execute_result"
    }
   ],
   "source": [
    "df_full['y'] = df_full['y'].interpolate(method='linear')\n",
    "df_full.isna().sum()"
   ]
  },
  {
   "cell_type": "code",
   "execution_count": 105,
   "id": "de507e95",
   "metadata": {
    "ExecuteTime": {
     "end_time": "2022-05-24T12:33:11.574199Z",
     "start_time": "2022-05-24T12:33:11.257385Z"
    }
   },
   "outputs": [
    {
     "data": {
      "image/png": "[encoded data removed]",
      "text/plain": [
       "<Figure size 1152x288 with 1 Axes>"
      ]
     },
     "metadata": {
      "needs_background": "light"
     },
     "output_type": "display_data"
    }
   ],
   "source": [
    "with plt.style.context('bmh'):\n",
    "    fig, ax = plt.subplots(figsize=(16, 4))\n",
    "    ax.plot(df_full['ds'], df_full['y'], lw=0.3)\n",
    "    fig.show()"
   ]
  },
  {
   "cell_type": "markdown",
   "id": "1ee3c373",
   "metadata": {},
   "source": [
    "## Train / Val split"
   ]
  },
  {
   "cell_type": "markdown",
   "id": "c6415dd4",
   "metadata": {},
   "source": [
    "Разобьем на валидационную и тренировочную выборки. Размер валидационной выборки равен длительности предсказания моделью (см. параметр cfg.prediction_period)."
   ]
  },
  {
   "cell_type": "code",
   "execution_count": 106,
   "id": "71d12184",
   "metadata": {
    "ExecuteTime": {
     "end_time": "2022-05-24T12:33:22.096888Z",
     "start_time": "2022-05-24T12:33:22.089656Z"
    }
   },
   "outputs": [
    {
     "data": {
      "text/plain": [
       "((2599, 2), (365, 2))"
      ]
     },
     "execution_count": 106,
     "metadata": {},
     "output_type": "execute_result"
    }
   ],
   "source": [
    "df_train = df_full.iloc[:-cfg.prediction_period]\n",
    "df_val = df_full.iloc[-cfg.prediction_period:]\n",
    "df_train.shape, df_val.shape"
   ]
  },
  {
   "cell_type": "code",
   "execution_count": 108,
   "id": "6b047d23",
   "metadata": {
    "ExecuteTime": {
     "end_time": "2022-05-24T12:33:27.725200Z",
     "start_time": "2022-05-24T12:33:27.721450Z"
    }
   },
   "outputs": [],
   "source": [
    "assert df_train.shape[0] + df_val.shape[0] == df_full.shape[0]"
   ]
  },
  {
   "cell_type": "code",
   "execution_count": 109,
   "id": "93879fc2",
   "metadata": {
    "ExecuteTime": {
     "end_time": "2022-05-24T12:33:32.549546Z",
     "start_time": "2022-05-24T12:33:32.205583Z"
    }
   },
   "outputs": [
    {
     "data": {
      "image/png": "[encoded data removed]",
      "text/plain": [
       "<Figure size 1152x288 with 1 Axes>"
      ]
     },
     "metadata": {
      "needs_background": "light"
     },
     "output_type": "display_data"
    }
   ],
   "source": [
    "with plt.style.context('bmh'):\n",
    "    fig, ax = plt.subplots(figsize=(16, 4))\n",
    "    ax.plot(df_train['ds'], df_train['y'], label=\"train set\", lw=0.3)\n",
    "    ax.plot(df_val['ds'], df_val['y'], label=\"val set\", c='green', lw=0.3)\n",
    "    ax.legend()\n",
    "    fig.show()"
   ]
  },
  {
   "cell_type": "markdown",
   "id": "7413dadf",
   "metadata": {},
   "source": [
    "## Baseline"
   ]
  },
  {
   "cell_type": "markdown",
   "id": "f3230d6e",
   "metadata": {},
   "source": [
    "### Train the model and predict"
   ]
  },
  {
   "cell_type": "code",
   "execution_count": 110,
   "id": "7e3c2da3",
   "metadata": {
    "ExecuteTime": {
     "end_time": "2022-05-24T12:33:56.206182Z",
     "start_time": "2022-05-24T12:33:36.101522Z"
    }
   },
   "outputs": [
    {
     "name": "stderr",
     "output_type": "stream",
     "text": [
      "INFO:fbprophet:Disabling daily seasonality. Run prophet with daily_seasonality=True to override this.\n"
     ]
    }
   ],
   "source": [
    "model = Prophet()\n",
    "model.fit(df_train)\n",
    "\n",
    "future = model.make_future_dataframe(periods=cfg.prediction_period)\n",
    "forecast = model.predict(future)"
   ]
  },
  {
   "cell_type": "code",
   "execution_count": 111,
   "id": "14c4b0a8",
   "metadata": {
    "ExecuteTime": {
     "end_time": "2022-05-24T12:33:56.225860Z",
     "start_time": "2022-05-24T12:33:56.208659Z"
    }
   },
   "outputs": [
    {
     "data": {
      "text/html": [
       "<div>\n",
       "<style scoped>\n",
       "    .dataframe tbody tr th:only-of-type {\n",
       "        vertical-align: middle;\n",
       "    }\n",
       "\n",
       "    .dataframe tbody tr th {\n",
       "        vertical-align: top;\n",
       "    }\n",
       "\n",
       "    .dataframe thead th {\n",
       "        text-align: right;\n",
       "    }\n",
       "</style>\n",
       "<table border=\"1\" class=\"dataframe\">\n",
       "  <thead>\n",
       "    <tr style=\"text-align: right;\">\n",
       "      <th></th>\n",
       "      <th>ds</th>\n",
       "      <th>y</th>\n",
       "      <th>yhat</th>\n",
       "      <th>yhat_lower</th>\n",
       "      <th>yhat_upper</th>\n",
       "    </tr>\n",
       "  </thead>\n",
       "  <tbody>\n",
       "    <tr>\n",
       "      <th>360</th>\n",
       "      <td>2016-01-16</td>\n",
       "      <td>7.817223</td>\n",
       "      <td>8.643909</td>\n",
       "      <td>7.856744</td>\n",
       "      <td>9.361421</td>\n",
       "    </tr>\n",
       "    <tr>\n",
       "      <th>361</th>\n",
       "      <td>2016-01-17</td>\n",
       "      <td>9.273878</td>\n",
       "      <td>9.043578</td>\n",
       "      <td>8.324337</td>\n",
       "      <td>9.762706</td>\n",
       "    </tr>\n",
       "    <tr>\n",
       "      <th>362</th>\n",
       "      <td>2016-01-18</td>\n",
       "      <td>10.333775</td>\n",
       "      <td>9.342255</td>\n",
       "      <td>8.668012</td>\n",
       "      <td>10.074162</td>\n",
       "    </tr>\n",
       "    <tr>\n",
       "      <th>363</th>\n",
       "      <td>2016-01-19</td>\n",
       "      <td>9.125871</td>\n",
       "      <td>9.131862</td>\n",
       "      <td>8.438064</td>\n",
       "      <td>9.846475</td>\n",
       "    </tr>\n",
       "    <tr>\n",
       "      <th>364</th>\n",
       "      <td>2016-01-20</td>\n",
       "      <td>8.891374</td>\n",
       "      <td>8.975136</td>\n",
       "      <td>8.263105</td>\n",
       "      <td>9.686938</td>\n",
       "    </tr>\n",
       "  </tbody>\n",
       "</table>\n",
       "</div>"
      ],
      "text/plain": [
       "            ds          y      yhat  yhat_lower  yhat_upper\n",
       "360 2016-01-16   7.817223  8.643909    7.856744    9.361421\n",
       "361 2016-01-17   9.273878  9.043578    8.324337    9.762706\n",
       "362 2016-01-18  10.333775  9.342255    8.668012   10.074162\n",
       "363 2016-01-19   9.125871  9.131862    8.438064    9.846475\n",
       "364 2016-01-20   8.891374  8.975136    8.263105    9.686938"
      ]
     },
     "execution_count": 111,
     "metadata": {},
     "output_type": "execute_result"
    }
   ],
   "source": [
    "baseline_prediciton = df_val.merge(forecast[['ds', 'yhat', 'yhat_lower', 'yhat_upper']], how='left', on='ds')\n",
    "baseline_prediciton.tail()"
   ]
  },
  {
   "cell_type": "markdown",
   "id": "d6d12da7",
   "metadata": {},
   "source": [
    "### Plot the results"
   ]
  },
  {
   "cell_type": "code",
   "execution_count": 112,
   "id": "631d7e72",
   "metadata": {
    "ExecuteTime": {
     "end_time": "2022-05-24T12:33:56.589340Z",
     "start_time": "2022-05-24T12:33:56.228266Z"
    }
   },
   "outputs": [
    {
     "data": {
      "image/png": "[encoded data removed]",
      "text/plain": [
       "<Figure size 1152x288 with 1 Axes>"
      ]
     },
     "metadata": {
      "needs_background": "light"
     },
     "output_type": "display_data"
    }
   ],
   "source": [
    "with plt.style.context('bmh'):\n",
    "    fig, ax = plt.subplots(figsize=(16, 4))\n",
    "    ax.plot(df_val['ds'], df_val['y'], label=\"real values\", c='green', lw=1)\n",
    "    ax.plot(baseline_prediciton['ds'], baseline_prediciton['yhat'], label=\"predicted values\", c='red', lw=1)\n",
    "    ax.plot(baseline_prediciton['ds'], baseline_prediciton['yhat_lower'], label=\"lower border\", c='grey', lw=0.5, ls=':')\n",
    "    ax.plot(baseline_prediciton['ds'], baseline_prediciton['yhat_upper'], label=\"upper border\", c='grey', lw=0.5, ls=':')\n",
    "    ax.legend()\n",
    "    fig.show()"
   ]
  },
  {
   "cell_type": "markdown",
   "id": "c643ea5a",
   "metadata": {},
   "source": [
    "### MAPE calculation"
   ]
  },
  {
   "cell_type": "code",
   "execution_count": 115,
   "id": "87b55a28",
   "metadata": {
    "ExecuteTime": {
     "end_time": "2022-05-24T12:34:37.061509Z",
     "start_time": "2022-05-24T12:34:37.054296Z"
    }
   },
   "outputs": [
    {
     "name": "stdout",
     "output_type": "stream",
     "text": [
      "MAPE value is: 0.06\n"
     ]
    }
   ],
   "source": [
    "mape_baseline = mean_absolute_percentage_error(baseline_prediciton['y'], baseline_prediciton['yhat'])\n",
    "print('MAPE value is: {:.2f}'.format(mape_baseline))"
   ]
  },
  {
   "cell_type": "markdown",
   "id": "ca4f9b43",
   "metadata": {},
   "source": [
    "## Optimization with optuna"
   ]
  },
  {
   "cell_type": "markdown",
   "id": "c4fe0a0e",
   "metadata": {},
   "source": [
    "### Find best params"
   ]
  },
  {
   "cell_type": "code",
   "execution_count": 148,
   "id": "fd12748e",
   "metadata": {
    "ExecuteTime": {
     "end_time": "2022-05-24T15:21:56.139649Z",
     "start_time": "2022-05-24T15:21:56.127884Z"
    }
   },
   "outputs": [],
   "source": [
    "class Objective():\n",
    "    def __init__(\n",
    "        self,\n",
    "        df: pd.DataFrame, \n",
    "        prediction_period: int = 365,\n",
    "        horizon: str = '365 days', \n",
    "        period: str = '180 days',\n",
    "        initial: str = '730 days'\n",
    "    ):\n",
    "        self.df = df\n",
    "        self.prediction_period = prediction_period\n",
    "        self.horizon = horizon\n",
    "        self.period = period\n",
    "        self.initial = initial\n",
    "        return\n",
    "    \n",
    "    def __call__(self, trial):\n",
    "        # sample the hyperparameters\n",
    "        changepoint_prior_scale = trial.suggest_loguniform('changepoint_prior_scale', 0.01, 100)\n",
    "        seasonality_prior_scale = trial.suggest_loguniform('seasonality_prior_scale', 0.01, 100)\n",
    "        holidays_prior_scale = trial.suggest_loguniform('holidays_prior_scale', 0.01, 100)\n",
    "        n_changepoints = trial.suggest_int('n_changepoints', low=10, high=1500, step=1, log=True)\n",
    "        holidays_country_name = trial.suggest_categorical('country_name', ['US', 'RU'])\n",
    "        growth = trial.suggest_categorical('growth', ['linear', ])\n",
    "        seasonality_mode = trial.suggest_categorical('seasonality_mode', ['additive', 'multiplicative'])\n",
    "        \n",
    "        # build the model\n",
    "        model = Prophet(changepoint_prior_scale=changepoint_prior_scale,\n",
    "                        seasonality_prior_scale=seasonality_prior_scale,\n",
    "                        n_changepoints=n_changepoints, \n",
    "                        holidays_prior_scale=holidays_prior_scale, \n",
    "                        growth=growth, \n",
    "                        seasonality_mode=seasonality_mode)\n",
    "        model.add_country_holidays(country_name=holidays_country_name)\n",
    "        \n",
    "        # fit the model\n",
    "        model.fit(self.df)\n",
    "        \n",
    "        # execute cross validation\n",
    "        # horizon - размер окна, на котором будет выполняться предсказание на шаге кросс валидации\n",
    "        # period - шаг кросс валидации\n",
    "        # initial - точка, характеризующая размер тренировочной выборки на первом шаге кросс валидации\n",
    "        df_cv = cross_validation(model=model, \n",
    "                                 horizon=self.horizon,\n",
    "                                 period=self.period, \n",
    "                                 initial=self.initial)\n",
    "        pm = performance_metrics(df_cv, metrics=['mape'], rolling_window=1)\n",
    "        return pm['mape'].values[0]"
   ]
  },
  {
   "cell_type": "code",
   "execution_count": 149,
   "id": "606ad8bb",
   "metadata": {
    "ExecuteTime": {
     "end_time": "2022-05-24T22:47:30.838114Z",
     "start_time": "2022-05-24T15:22:01.333317Z"
    }
   },
   "outputs": [
    {
     "name": "stderr",
     "output_type": "stream",
     "text": [
      "[I 2022-05-24 15:22:01,335] A new study created in memory with name: no-name-dfe0d84d-c819-4428-bf19-281f1a6746b2\n",
      "/root/base_envs/python-3-7/lib/python3.7/site-packages/optuna/progress_bar.py:46: ExperimentalWarning:\n",
      "\n",
      "Progress bar is experimental (supported from v1.2.0). The interface can change in the future.\n",
      "\n"
     ]
    },
    {
     "data": {
      "application/vnd.jupyter.widget-view+json": {
       "model_id": "be1fb27ddedc4197bb3b74a7e8da18c5",
       "version_major": 2,
       "version_minor": 0
      },
      "text/plain": [
       "HBox(children=(IntProgress(value=0), HTML(value='')))"
      ]
     },
     "metadata": {},
     "output_type": "display_data"
    },
    {
     "name": "stderr",
     "output_type": "stream",
     "text": [
      "INFO:fbprophet:Disabling daily seasonality. Run prophet with daily_seasonality=True to override this.\n",
      "INFO:fbprophet:Making 9 forecasts with cutoffs between 2010-02-10 00:00:00 and 2014-01-20 00:00:00\n"
     ]
    },
    {
     "name": "stdout",
     "output_type": "stream",
     "text": [
      "[I 2022-05-24 15:45:03,603] Trial 0 finished with value: 0.4018779771755205 and parameters: {'changepoint_prior_scale': 1.8354782786059498, 'seasonality_prior_scale': 7.4623391071290675, 'holidays_prior_scale': 12.441096196078606, 'n_changepoints': 420, 'country_name': 'RU', 'growth': 'linear', 'seasonality_mode': 'multiplicative'}. Best is trial 0 with value: 0.4018779771755205.\n"
     ]
    },
    {
     "name": "stderr",
     "output_type": "stream",
     "text": [
      "INFO:fbprophet:Disabling daily seasonality. Run prophet with daily_seasonality=True to override this.\n",
      "INFO:fbprophet:Making 9 forecasts with cutoffs between 2010-02-10 00:00:00 and 2014-01-20 00:00:00\n"
     ]
    },
    {
     "name": "stdout",
     "output_type": "stream",
     "text": [
      "[I 2022-05-24 15:51:17,691] Trial 1 finished with value: 0.23680105597963716 and parameters: {'changepoint_prior_scale': 18.21916149498047, 'seasonality_prior_scale': 0.2391388088305551, 'holidays_prior_scale': 0.527506207146022, 'n_changepoints': 76, 'country_name': 'US', 'growth': 'linear', 'seasonality_mode': 'additive'}. Best is trial 1 with value: 0.23680105597963716.\n"
     ]
    },
    {
     "name": "stderr",
     "output_type": "stream",
     "text": [
      "INFO:fbprophet:Disabling daily seasonality. Run prophet with daily_seasonality=True to override this.\n",
      "INFO:fbprophet:Making 9 forecasts with cutoffs between 2010-02-10 00:00:00 and 2014-01-20 00:00:00\n"
     ]
    },
    {
     "name": "stdout",
     "output_type": "stream",
     "text": [
      "[I 2022-05-24 15:59:52,898] Trial 2 finished with value: 0.18720921943491356 and parameters: {'changepoint_prior_scale': 41.139808992168504, 'seasonality_prior_scale': 0.0228764910336042, 'holidays_prior_scale': 1.1905975526214438, 'n_changepoints': 142, 'country_name': 'RU', 'growth': 'linear', 'seasonality_mode': 'additive'}. Best is trial 2 with value: 0.18720921943491356.\n"
     ]
    },
    {
     "name": "stderr",
     "output_type": "stream",
     "text": [
      "INFO:fbprophet:Disabling daily seasonality. Run prophet with daily_seasonality=True to override this.\n",
      "INFO:fbprophet:Making 9 forecasts with cutoffs between 2010-02-10 00:00:00 and 2014-01-20 00:00:00\n"
     ]
    },
    {
     "name": "stdout",
     "output_type": "stream",
     "text": [
      "[I 2022-05-24 16:02:04,300] Trial 3 finished with value: 0.07327584341550385 and parameters: {'changepoint_prior_scale': 0.01516597086968291, 'seasonality_prior_scale': 0.051092098708977886, 'holidays_prior_scale': 0.03409549586209552, 'n_changepoints': 28, 'country_name': 'RU', 'growth': 'linear', 'seasonality_mode': 'multiplicative'}. Best is trial 3 with value: 0.07327584341550385.\n"
     ]
    },
    {
     "name": "stderr",
     "output_type": "stream",
     "text": [
      "INFO:fbprophet:Disabling daily seasonality. Run prophet with daily_seasonality=True to override this.\n",
      "INFO:fbprophet:Making 9 forecasts with cutoffs between 2010-02-10 00:00:00 and 2014-01-20 00:00:00\n"
     ]
    },
    {
     "name": "stdout",
     "output_type": "stream",
     "text": [
      "[I 2022-05-24 16:04:40,297] Trial 4 finished with value: 0.17285880913133556 and parameters: {'changepoint_prior_scale': 0.8232410744223495, 'seasonality_prior_scale': 68.60254463552948, 'holidays_prior_scale': 3.3546074728677344, 'n_changepoints': 25, 'country_name': 'RU', 'growth': 'linear', 'seasonality_mode': 'multiplicative'}. Best is trial 3 with value: 0.07327584341550385.\n"
     ]
    },
    {
     "name": "stderr",
     "output_type": "stream",
     "text": [
      "INFO:fbprophet:Disabling daily seasonality. Run prophet with daily_seasonality=True to override this.\n",
      "INFO:fbprophet:Making 9 forecasts with cutoffs between 2010-02-10 00:00:00 and 2014-01-20 00:00:00\n"
     ]
    },
    {
     "name": "stdout",
     "output_type": "stream",
     "text": [
      "[I 2022-05-24 16:13:21,986] Trial 5 finished with value: 0.6768277625280318 and parameters: {'changepoint_prior_scale': 63.98192769647817, 'seasonality_prior_scale': 7.75424356888035, 'holidays_prior_scale': 12.343491138809123, 'n_changepoints': 143, 'country_name': 'US', 'growth': 'linear', 'seasonality_mode': 'multiplicative'}. Best is trial 3 with value: 0.07327584341550385.\n"
     ]
    },
    {
     "name": "stderr",
     "output_type": "stream",
     "text": [
      "INFO:fbprophet:Disabling daily seasonality. Run prophet with daily_seasonality=True to override this.\n",
      "INFO:fbprophet:Making 9 forecasts with cutoffs between 2010-02-10 00:00:00 and 2014-01-20 00:00:00\n"
     ]
    },
    {
     "name": "stdout",
     "output_type": "stream",
     "text": [
      "[I 2022-05-24 16:16:23,299] Trial 6 finished with value: 0.07813447217401245 and parameters: {'changepoint_prior_scale': 0.023738379114420952, 'seasonality_prior_scale': 98.93735697836429, 'holidays_prior_scale': 5.9991149091809435, 'n_changepoints': 84, 'country_name': 'RU', 'growth': 'linear', 'seasonality_mode': 'additive'}. Best is trial 3 with value: 0.07327584341550385.\n"
     ]
    },
    {
     "name": "stderr",
     "output_type": "stream",
     "text": [
      "INFO:fbprophet:Disabling daily seasonality. Run prophet with daily_seasonality=True to override this.\n",
      "INFO:fbprophet:Making 9 forecasts with cutoffs between 2010-02-10 00:00:00 and 2014-01-20 00:00:00\n",
      "INFO:fbprophet:n_changepoints greater than number of observations.Using 634.\n",
      "INFO:fbprophet:n_changepoints greater than number of observations.Using 778.\n"
     ]
    },
    {
     "name": "stdout",
     "output_type": "stream",
     "text": [
      "[I 2022-05-24 16:34:10,382] Trial 7 finished with value: 0.07701413556561167 and parameters: {'changepoint_prior_scale': 0.016730649909582465, 'seasonality_prior_scale': 18.837585379663402, 'holidays_prior_scale': 0.013449091243402099, 'n_changepoints': 833, 'country_name': 'US', 'growth': 'linear', 'seasonality_mode': 'additive'}. Best is trial 3 with value: 0.07327584341550385.\n"
     ]
    },
    {
     "name": "stderr",
     "output_type": "stream",
     "text": [
      "INFO:fbprophet:Disabling daily seasonality. Run prophet with daily_seasonality=True to override this.\n",
      "INFO:fbprophet:Making 9 forecasts with cutoffs between 2010-02-10 00:00:00 and 2014-01-20 00:00:00\n",
      "INFO:fbprophet:n_changepoints greater than number of observations.Using 634.\n",
      "INFO:fbprophet:n_changepoints greater than number of observations.Using 778.\n"
     ]
    },
    {
     "name": "stdout",
     "output_type": "stream",
     "text": [
      "[I 2022-05-24 17:27:02,311] Trial 8 finished with value: 0.15891876769014524 and parameters: {'changepoint_prior_scale': 0.605811122797076, 'seasonality_prior_scale': 4.801932727247924, 'holidays_prior_scale': 0.21802833298737131, 'n_changepoints': 857, 'country_name': 'RU', 'growth': 'linear', 'seasonality_mode': 'multiplicative'}. Best is trial 3 with value: 0.07327584341550385.\n"
     ]
    },
    {
     "name": "stderr",
     "output_type": "stream",
     "text": [
      "INFO:fbprophet:Disabling daily seasonality. Run prophet with daily_seasonality=True to override this.\n",
      "INFO:fbprophet:Making 9 forecasts with cutoffs between 2010-02-10 00:00:00 and 2014-01-20 00:00:00\n"
     ]
    },
    {
     "name": "stdout",
     "output_type": "stream",
     "text": [
      "[I 2022-05-24 17:37:49,497] Trial 9 finished with value: 0.2848218395361493 and parameters: {'changepoint_prior_scale': 1.2028197114049544, 'seasonality_prior_scale': 3.490347567201477, 'holidays_prior_scale': 1.5352788120801903, 'n_changepoints': 183, 'country_name': 'US', 'growth': 'linear', 'seasonality_mode': 'multiplicative'}. Best is trial 3 with value: 0.07327584341550385.\n"
     ]
    },
    {
     "name": "stderr",
     "output_type": "stream",
     "text": [
      "INFO:fbprophet:Disabling daily seasonality. Run prophet with daily_seasonality=True to override this.\n",
      "WARNING:fbprophet:Optimization terminated abnormally. Falling back to Newton.\n",
      "INFO:fbprophet:Making 9 forecasts with cutoffs between 2010-02-10 00:00:00 and 2014-01-20 00:00:00\n"
     ]
    },
    {
     "name": "stdout",
     "output_type": "stream",
     "text": [
      "[I 2022-05-24 17:39:59,404] Trial 10 finished with value: 0.09461816470726148 and parameters: {'changepoint_prior_scale': 0.08873294930999549, 'seasonality_prior_scale': 0.015065852954186514, 'holidays_prior_scale': 0.013797825251114055, 'n_changepoints': 10, 'country_name': 'RU', 'growth': 'linear', 'seasonality_mode': 'multiplicative'}. Best is trial 3 with value: 0.07327584341550385.\n"
     ]
    },
    {
     "name": "stderr",
     "output_type": "stream",
     "text": [
      "INFO:fbprophet:Disabling daily seasonality. Run prophet with daily_seasonality=True to override this.\n",
      "INFO:fbprophet:Making 9 forecasts with cutoffs between 2010-02-10 00:00:00 and 2014-01-20 00:00:00\n"
     ]
    },
    {
     "name": "stdout",
     "output_type": "stream",
     "text": [
      "[I 2022-05-24 17:42:16,485] Trial 11 finished with value: 0.07194634283875787 and parameters: {'changepoint_prior_scale': 0.010793853319874093, 'seasonality_prior_scale': 0.13043864023919066, 'holidays_prior_scale': 0.010976135688787903, 'n_changepoints': 26, 'country_name': 'US', 'growth': 'linear', 'seasonality_mode': 'additive'}. Best is trial 11 with value: 0.07194634283875787.\n"
     ]
    },
    {
     "name": "stderr",
     "output_type": "stream",
     "text": [
      "INFO:fbprophet:Disabling daily seasonality. Run prophet with daily_seasonality=True to override this.\n",
      "INFO:fbprophet:Making 9 forecasts with cutoffs between 2010-02-10 00:00:00 and 2014-01-20 00:00:00\n"
     ]
    },
    {
     "name": "stdout",
     "output_type": "stream",
     "text": [
      "[I 2022-05-24 17:44:38,295] Trial 12 finished with value: 0.08113770334594142 and parameters: {'changepoint_prior_scale': 0.10983726004969298, 'seasonality_prior_scale': 0.1285841100464419, 'holidays_prior_scale': 0.08542906352514822, 'n_changepoints': 20, 'country_name': 'US', 'growth': 'linear', 'seasonality_mode': 'additive'}. Best is trial 11 with value: 0.07194634283875787.\n"
     ]
    },
    {
     "name": "stderr",
     "output_type": "stream",
     "text": [
      "INFO:fbprophet:Disabling daily seasonality. Run prophet with daily_seasonality=True to override this.\n",
      "INFO:fbprophet:Making 9 forecasts with cutoffs between 2010-02-10 00:00:00 and 2014-01-20 00:00:00\n"
     ]
    },
    {
     "name": "stdout",
     "output_type": "stream",
     "text": [
      "[I 2022-05-24 17:47:01,900] Trial 13 finished with value: 0.07099182527867051 and parameters: {'changepoint_prior_scale': 0.010555950944482076, 'seasonality_prior_scale': 0.08294023188298293, 'holidays_prior_scale': 0.04741008652951254, 'n_changepoints': 34, 'country_name': 'US', 'growth': 'linear', 'seasonality_mode': 'additive'}. Best is trial 13 with value: 0.07099182527867051.\n"
     ]
    },
    {
     "name": "stderr",
     "output_type": "stream",
     "text": [
      "INFO:fbprophet:Disabling daily seasonality. Run prophet with daily_seasonality=True to override this.\n",
      "INFO:fbprophet:Making 9 forecasts with cutoffs between 2010-02-10 00:00:00 and 2014-01-20 00:00:00\n",
      "WARNING:fbprophet:Optimization terminated abnormally. Falling back to Newton.\n"
     ]
    },
    {
     "name": "stdout",
     "output_type": "stream",
     "text": [
      "[I 2022-05-24 17:49:17,424] Trial 14 finished with value: 0.08835935668028667 and parameters: {'changepoint_prior_scale': 0.07243813646076931, 'seasonality_prior_scale': 0.6049207073820502, 'holidays_prior_scale': 68.18597847279919, 'n_changepoints': 10, 'country_name': 'US', 'growth': 'linear', 'seasonality_mode': 'additive'}. Best is trial 13 with value: 0.07099182527867051.\n"
     ]
    },
    {
     "name": "stderr",
     "output_type": "stream",
     "text": [
      "INFO:fbprophet:Disabling daily seasonality. Run prophet with daily_seasonality=True to override this.\n",
      "INFO:fbprophet:Making 9 forecasts with cutoffs between 2010-02-10 00:00:00 and 2014-01-20 00:00:00\n"
     ]
    },
    {
     "name": "stdout",
     "output_type": "stream",
     "text": [
      "[I 2022-05-24 17:51:51,498] Trial 15 finished with value: 0.07165239890395256 and parameters: {'changepoint_prior_scale': 0.010643600461087626, 'seasonality_prior_scale': 0.10893668112160723, 'holidays_prior_scale': 0.05322342132885173, 'n_changepoints': 47, 'country_name': 'US', 'growth': 'linear', 'seasonality_mode': 'additive'}. Best is trial 13 with value: 0.07099182527867051.\n"
     ]
    },
    {
     "name": "stderr",
     "output_type": "stream",
     "text": [
      "INFO:fbprophet:Disabling daily seasonality. Run prophet with daily_seasonality=True to override this.\n",
      "INFO:fbprophet:Making 9 forecasts with cutoffs between 2010-02-10 00:00:00 and 2014-01-20 00:00:00\n"
     ]
    },
    {
     "name": "stdout",
     "output_type": "stream",
     "text": [
      "[I 2022-05-24 17:55:03,102] Trial 16 finished with value: 0.09177655242752916 and parameters: {'changepoint_prior_scale': 0.2526468219433532, 'seasonality_prior_scale': 0.7577091013442709, 'holidays_prior_scale': 0.0695149624122833, 'n_changepoints': 46, 'country_name': 'US', 'growth': 'linear', 'seasonality_mode': 'additive'}. Best is trial 13 with value: 0.07099182527867051.\n"
     ]
    },
    {
     "name": "stderr",
     "output_type": "stream",
     "text": [
      "INFO:fbprophet:Disabling daily seasonality. Run prophet with daily_seasonality=True to override this.\n",
      "INFO:fbprophet:Making 9 forecasts with cutoffs between 2010-02-10 00:00:00 and 2014-01-20 00:00:00\n"
     ]
    },
    {
     "name": "stdout",
     "output_type": "stream",
     "text": [
      "[I 2022-05-24 17:58:37,797] Trial 17 finished with value: 0.18310065874745568 and parameters: {'changepoint_prior_scale': 6.621151427669201, 'seasonality_prior_scale': 0.06199937824183858, 'holidays_prior_scale': 0.23059223600171946, 'n_changepoints': 40, 'country_name': 'US', 'growth': 'linear', 'seasonality_mode': 'additive'}. Best is trial 13 with value: 0.07099182527867051.\n"
     ]
    },
    {
     "name": "stderr",
     "output_type": "stream",
     "text": [
      "INFO:fbprophet:Disabling daily seasonality. Run prophet with daily_seasonality=True to override this.\n",
      "INFO:fbprophet:Making 9 forecasts with cutoffs between 2010-02-10 00:00:00 and 2014-01-20 00:00:00\n"
     ]
    },
    {
     "name": "stdout",
     "output_type": "stream",
     "text": [
      "[I 2022-05-24 18:00:49,775] Trial 18 finished with value: 0.08217777036485889 and parameters: {'changepoint_prior_scale': 0.035598028388776355, 'seasonality_prior_scale': 0.03264424981485012, 'holidays_prior_scale': 0.038727207117978966, 'n_changepoints': 15, 'country_name': 'US', 'growth': 'linear', 'seasonality_mode': 'additive'}. Best is trial 13 with value: 0.07099182527867051.\n"
     ]
    },
    {
     "name": "stderr",
     "output_type": "stream",
     "text": [
      "INFO:fbprophet:Disabling daily seasonality. Run prophet with daily_seasonality=True to override this.\n",
      "INFO:fbprophet:Making 9 forecasts with cutoffs between 2010-02-10 00:00:00 and 2014-01-20 00:00:00\n"
     ]
    },
    {
     "name": "stdout",
     "output_type": "stream",
     "text": [
      "[I 2022-05-24 18:07:02,585] Trial 19 finished with value: 0.08299446659058901 and parameters: {'changepoint_prior_scale': 0.04385309671106702, 'seasonality_prior_scale': 0.27445747851917734, 'holidays_prior_scale': 0.2508248648019117, 'n_changepoints': 264, 'country_name': 'US', 'growth': 'linear', 'seasonality_mode': 'additive'}. Best is trial 13 with value: 0.07099182527867051.\n"
     ]
    },
    {
     "name": "stderr",
     "output_type": "stream",
     "text": [
      "INFO:fbprophet:Disabling daily seasonality. Run prophet with daily_seasonality=True to override this.\n",
      "INFO:fbprophet:Making 9 forecasts with cutoffs between 2010-02-10 00:00:00 and 2014-01-20 00:00:00\n"
     ]
    },
    {
     "name": "stdout",
     "output_type": "stream",
     "text": [
      "[I 2022-05-24 18:10:42,897] Trial 20 finished with value: 0.11606705864907056 and parameters: {'changepoint_prior_scale': 0.27334897715341544, 'seasonality_prior_scale': 0.010386516738158711, 'holidays_prior_scale': 0.07792831852342103, 'n_changepoints': 55, 'country_name': 'US', 'growth': 'linear', 'seasonality_mode': 'additive'}. Best is trial 13 with value: 0.07099182527867051.\n"
     ]
    },
    {
     "name": "stderr",
     "output_type": "stream",
     "text": [
      "INFO:fbprophet:Disabling daily seasonality. Run prophet with daily_seasonality=True to override this.\n",
      "INFO:fbprophet:Making 9 forecasts with cutoffs between 2010-02-10 00:00:00 and 2014-01-20 00:00:00\n"
     ]
    },
    {
     "name": "stdout",
     "output_type": "stream",
     "text": [
      "[I 2022-05-24 18:13:06,795] Trial 21 finished with value: 0.0713450080729062 and parameters: {'changepoint_prior_scale': 0.010672815374340026, 'seasonality_prior_scale': 0.12504459199038565, 'holidays_prior_scale': 0.010144265140034608, 'n_changepoints': 34, 'country_name': 'US', 'growth': 'linear', 'seasonality_mode': 'additive'}. Best is trial 13 with value: 0.07099182527867051.\n"
     ]
    },
    {
     "name": "stderr",
     "output_type": "stream",
     "text": [
      "INFO:fbprophet:Disabling daily seasonality. Run prophet with daily_seasonality=True to override this.\n",
      "INFO:fbprophet:Making 9 forecasts with cutoffs between 2010-02-10 00:00:00 and 2014-01-20 00:00:00\n"
     ]
    },
    {
     "name": "stdout",
     "output_type": "stream",
     "text": [
      "[I 2022-05-24 18:15:58,385] Trial 22 finished with value: 0.07261217081954013 and parameters: {'changepoint_prior_scale': 0.011930975571275617, 'seasonality_prior_scale': 0.0911156258054683, 'holidays_prior_scale': 0.02665886114677034, 'n_changepoints': 70, 'country_name': 'US', 'growth': 'linear', 'seasonality_mode': 'additive'}. Best is trial 13 with value: 0.07099182527867051.\n"
     ]
    },
    {
     "name": "stderr",
     "output_type": "stream",
     "text": [
      "INFO:fbprophet:Disabling daily seasonality. Run prophet with daily_seasonality=True to override this.\n",
      "INFO:fbprophet:Making 9 forecasts with cutoffs between 2010-02-10 00:00:00 and 2014-01-20 00:00:00\n"
     ]
    },
    {
     "name": "stdout",
     "output_type": "stream",
     "text": [
      "[I 2022-05-24 18:18:23,693] Trial 23 finished with value: 0.0719181296905894 and parameters: {'changepoint_prior_scale': 0.010675825835524363, 'seasonality_prior_scale': 0.305808157271643, 'holidays_prior_scale': 0.011470360293678305, 'n_changepoints': 36, 'country_name': 'US', 'growth': 'linear', 'seasonality_mode': 'additive'}. Best is trial 13 with value: 0.07099182527867051.\n"
     ]
    },
    {
     "name": "stderr",
     "output_type": "stream",
     "text": [
      "INFO:fbprophet:Disabling daily seasonality. Run prophet with daily_seasonality=True to override this.\n",
      "INFO:fbprophet:Making 9 forecasts with cutoffs between 2010-02-10 00:00:00 and 2014-01-20 00:00:00\n"
     ]
    },
    {
     "name": "stdout",
     "output_type": "stream",
     "text": [
      "[I 2022-05-24 18:20:33,577] Trial 24 finished with value: 0.08305399010735873 and parameters: {'changepoint_prior_scale': 0.03877421750421758, 'seasonality_prior_scale': 1.6092001671938492, 'holidays_prior_scale': 0.11211816364457511, 'n_changepoints': 15, 'country_name': 'US', 'growth': 'linear', 'seasonality_mode': 'additive'}. Best is trial 13 with value: 0.07099182527867051.\n"
     ]
    },
    {
     "name": "stderr",
     "output_type": "stream",
     "text": [
      "INFO:fbprophet:Disabling daily seasonality. Run prophet with daily_seasonality=True to override this.\n",
      "INFO:fbprophet:Making 9 forecasts with cutoffs between 2010-02-10 00:00:00 and 2014-01-20 00:00:00\n"
     ]
    },
    {
     "name": "stdout",
     "output_type": "stream",
     "text": [
      "[I 2022-05-24 18:24:45,594] Trial 25 finished with value: 0.08342945346492596 and parameters: {'changepoint_prior_scale': 0.17820492718345352, 'seasonality_prior_scale': 0.035696193203891995, 'holidays_prior_scale': 0.021702555791778846, 'n_changepoints': 97, 'country_name': 'US', 'growth': 'linear', 'seasonality_mode': 'additive'}. Best is trial 13 with value: 0.07099182527867051.\n"
     ]
    },
    {
     "name": "stderr",
     "output_type": "stream",
     "text": [
      "INFO:fbprophet:Disabling daily seasonality. Run prophet with daily_seasonality=True to override this.\n",
      "INFO:fbprophet:Making 9 forecasts with cutoffs between 2010-02-10 00:00:00 and 2014-01-20 00:00:00\n"
     ]
    },
    {
     "name": "stdout",
     "output_type": "stream",
     "text": [
      "[I 2022-05-24 18:27:24,786] Trial 26 finished with value: 0.07168494419510148 and parameters: {'changepoint_prior_scale': 0.010483485297966097, 'seasonality_prior_scale': 0.20435724915450973, 'holidays_prior_scale': 0.047530870982140386, 'n_changepoints': 55, 'country_name': 'US', 'growth': 'linear', 'seasonality_mode': 'additive'}. Best is trial 13 with value: 0.07099182527867051.\n"
     ]
    },
    {
     "name": "stderr",
     "output_type": "stream",
     "text": [
      "INFO:fbprophet:Disabling daily seasonality. Run prophet with daily_seasonality=True to override this.\n",
      "INFO:fbprophet:Making 9 forecasts with cutoffs between 2010-02-10 00:00:00 and 2014-01-20 00:00:00\n"
     ]
    },
    {
     "name": "stdout",
     "output_type": "stream",
     "text": [
      "[I 2022-05-24 18:29:32,430] Trial 27 finished with value: 0.07740414867837074 and parameters: {'changepoint_prior_scale': 0.025186510869780975, 'seasonality_prior_scale': 0.5205196462482393, 'holidays_prior_scale': 0.41863767805867347, 'n_changepoints': 14, 'country_name': 'US', 'growth': 'linear', 'seasonality_mode': 'additive'}. Best is trial 13 with value: 0.07099182527867051.\n"
     ]
    },
    {
     "name": "stderr",
     "output_type": "stream",
     "text": [
      "INFO:fbprophet:Disabling daily seasonality. Run prophet with daily_seasonality=True to override this.\n",
      "INFO:fbprophet:Making 9 forecasts with cutoffs between 2010-02-10 00:00:00 and 2014-01-20 00:00:00\n"
     ]
    },
    {
     "name": "stdout",
     "output_type": "stream",
     "text": [
      "[I 2022-05-24 18:31:59,888] Trial 28 finished with value: 0.08449158079062188 and parameters: {'changepoint_prior_scale': 0.05221352144048541, 'seasonality_prior_scale': 1.8186960608293994, 'holidays_prior_scale': 0.13442539392421718, 'n_changepoints': 30, 'country_name': 'US', 'growth': 'linear', 'seasonality_mode': 'additive'}. Best is trial 13 with value: 0.07099182527867051.\n"
     ]
    },
    {
     "name": "stderr",
     "output_type": "stream",
     "text": [
      "INFO:fbprophet:Disabling daily seasonality. Run prophet with daily_seasonality=True to override this.\n",
      "INFO:fbprophet:Making 9 forecasts with cutoffs between 2010-02-10 00:00:00 and 2014-01-20 00:00:00\n"
     ]
    },
    {
     "name": "stdout",
     "output_type": "stream",
     "text": [
      "[I 2022-05-24 18:34:34,890] Trial 29 finished with value: 0.19790925233592463 and parameters: {'changepoint_prior_scale': 4.383399254678106, 'seasonality_prior_scale': 0.07311385395686763, 'holidays_prior_scale': 0.021699091342448552, 'n_changepoints': 20, 'country_name': 'US', 'growth': 'linear', 'seasonality_mode': 'additive'}. Best is trial 13 with value: 0.07099182527867051.\n"
     ]
    },
    {
     "name": "stderr",
     "output_type": "stream",
     "text": [
      "INFO:fbprophet:Disabling daily seasonality. Run prophet with daily_seasonality=True to override this.\n",
      "INFO:fbprophet:Making 9 forecasts with cutoffs between 2010-02-10 00:00:00 and 2014-01-20 00:00:00\n"
     ]
    },
    {
     "name": "stdout",
     "output_type": "stream",
     "text": [
      "[I 2022-05-24 18:37:18,094] Trial 30 finished with value: 0.07793351873715507 and parameters: {'changepoint_prior_scale': 0.023760523875322334, 'seasonality_prior_scale': 0.02333921929785194, 'holidays_prior_scale': 62.934216147626266, 'n_changepoints': 57, 'country_name': 'US', 'growth': 'linear', 'seasonality_mode': 'additive'}. Best is trial 13 with value: 0.07099182527867051.\n"
     ]
    },
    {
     "name": "stderr",
     "output_type": "stream",
     "text": [
      "INFO:fbprophet:Disabling daily seasonality. Run prophet with daily_seasonality=True to override this.\n",
      "INFO:fbprophet:Making 9 forecasts with cutoffs between 2010-02-10 00:00:00 and 2014-01-20 00:00:00\n"
     ]
    },
    {
     "name": "stdout",
     "output_type": "stream",
     "text": [
      "[I 2022-05-24 18:39:53,296] Trial 31 finished with value: 0.0718540670181646 and parameters: {'changepoint_prior_scale': 0.011329485475558577, 'seasonality_prior_scale': 0.1630217281804013, 'holidays_prior_scale': 0.0576768140804995, 'n_changepoints': 47, 'country_name': 'US', 'growth': 'linear', 'seasonality_mode': 'additive'}. Best is trial 13 with value: 0.07099182527867051.\n"
     ]
    },
    {
     "name": "stderr",
     "output_type": "stream",
     "text": [
      "INFO:fbprophet:Disabling daily seasonality. Run prophet with daily_seasonality=True to override this.\n",
      "INFO:fbprophet:Making 9 forecasts with cutoffs between 2010-02-10 00:00:00 and 2014-01-20 00:00:00\n"
     ]
    },
    {
     "name": "stdout",
     "output_type": "stream",
     "text": [
      "[I 2022-05-24 18:42:41,978] Trial 32 finished with value: 0.07111140062409879 and parameters: {'changepoint_prior_scale': 0.01055619764366347, 'seasonality_prior_scale': 0.33809490227742783, 'holidays_prior_scale': 0.0433048867492736, 'n_changepoints': 64, 'country_name': 'US', 'growth': 'linear', 'seasonality_mode': 'additive'}. Best is trial 13 with value: 0.07099182527867051.\n"
     ]
    },
    {
     "name": "stderr",
     "output_type": "stream",
     "text": [
      "INFO:fbprophet:Disabling daily seasonality. Run prophet with daily_seasonality=True to override this.\n",
      "INFO:fbprophet:Making 9 forecasts with cutoffs between 2010-02-10 00:00:00 and 2014-01-20 00:00:00\n"
     ]
    },
    {
     "name": "stdout",
     "output_type": "stream",
     "text": [
      "[I 2022-05-24 18:46:12,087] Trial 33 finished with value: 0.07672968402133917 and parameters: {'changepoint_prior_scale': 0.020068042102443975, 'seasonality_prior_scale': 0.31248651164958924, 'holidays_prior_scale': 0.6485950084501191, 'n_changepoints': 115, 'country_name': 'US', 'growth': 'linear', 'seasonality_mode': 'additive'}. Best is trial 13 with value: 0.07099182527867051.\n"
     ]
    },
    {
     "name": "stderr",
     "output_type": "stream",
     "text": [
      "INFO:fbprophet:Disabling daily seasonality. Run prophet with daily_seasonality=True to override this.\n",
      "INFO:fbprophet:Making 9 forecasts with cutoffs between 2010-02-10 00:00:00 and 2014-01-20 00:00:00\n"
     ]
    },
    {
     "name": "stdout",
     "output_type": "stream",
     "text": [
      "[I 2022-05-24 18:49:05,395] Trial 34 finished with value: 0.07103389902806846 and parameters: {'changepoint_prior_scale': 0.010430366855005643, 'seasonality_prior_scale': 0.4654298941568365, 'holidays_prior_scale': 0.027254453069040206, 'n_changepoints': 71, 'country_name': 'US', 'growth': 'linear', 'seasonality_mode': 'additive'}. Best is trial 13 with value: 0.07099182527867051.\n"
     ]
    },
    {
     "name": "stderr",
     "output_type": "stream",
     "text": [
      "INFO:fbprophet:Disabling daily seasonality. Run prophet with daily_seasonality=True to override this.\n",
      "INFO:fbprophet:Making 9 forecasts with cutoffs between 2010-02-10 00:00:00 and 2014-01-20 00:00:00\n"
     ]
    },
    {
     "name": "stdout",
     "output_type": "stream",
     "text": [
      "[I 2022-05-24 18:52:05,783] Trial 35 finished with value: 0.07930549479420047 and parameters: {'changepoint_prior_scale': 0.028950397966073554, 'seasonality_prior_scale': 0.4195480370274898, 'holidays_prior_scale': 0.021121166471929766, 'n_changepoints': 75, 'country_name': 'US', 'growth': 'linear', 'seasonality_mode': 'additive'}. Best is trial 13 with value: 0.07099182527867051.\n"
     ]
    },
    {
     "name": "stderr",
     "output_type": "stream",
     "text": [
      "INFO:fbprophet:Disabling daily seasonality. Run prophet with daily_seasonality=True to override this.\n",
      "INFO:fbprophet:Making 9 forecasts with cutoffs between 2010-02-10 00:00:00 and 2014-01-20 00:00:00\n"
     ]
    },
    {
     "name": "stdout",
     "output_type": "stream",
     "text": [
      "[I 2022-05-24 18:56:52,399] Trial 36 finished with value: 0.08389470173999601 and parameters: {'changepoint_prior_scale': 0.053564774764798914, 'seasonality_prior_scale': 1.2895185772601347, 'holidays_prior_scale': 0.010903925937867506, 'n_changepoints': 171, 'country_name': 'US', 'growth': 'linear', 'seasonality_mode': 'additive'}. Best is trial 13 with value: 0.07099182527867051.\n"
     ]
    },
    {
     "name": "stderr",
     "output_type": "stream",
     "text": [
      "INFO:fbprophet:Disabling daily seasonality. Run prophet with daily_seasonality=True to override this.\n",
      "INFO:fbprophet:Making 9 forecasts with cutoffs between 2010-02-10 00:00:00 and 2014-01-20 00:00:00\n"
     ]
    },
    {
     "name": "stdout",
     "output_type": "stream",
     "text": [
      "[I 2022-05-24 19:02:45,034] Trial 37 finished with value: 0.0766219311850168 and parameters: {'changepoint_prior_scale': 0.019001912763244064, 'seasonality_prior_scale': 0.04424301286071706, 'holidays_prior_scale': 0.03284079349799662, 'n_changepoints': 269, 'country_name': 'US', 'growth': 'linear', 'seasonality_mode': 'additive'}. Best is trial 13 with value: 0.07099182527867051.\n"
     ]
    },
    {
     "name": "stderr",
     "output_type": "stream",
     "text": [
      "INFO:fbprophet:Disabling daily seasonality. Run prophet with daily_seasonality=True to override this.\n",
      "INFO:fbprophet:Making 9 forecasts with cutoffs between 2010-02-10 00:00:00 and 2014-01-20 00:00:00\n"
     ]
    },
    {
     "name": "stdout",
     "output_type": "stream",
     "text": [
      "[I 2022-05-24 19:05:59,431] Trial 38 finished with value: 0.1798646190180063 and parameters: {'changepoint_prior_scale': 21.678006317042616, 'seasonality_prior_scale': 1.0819136338968862, 'holidays_prior_scale': 0.15664832887338567, 'n_changepoints': 35, 'country_name': 'RU', 'growth': 'linear', 'seasonality_mode': 'additive'}. Best is trial 13 with value: 0.07099182527867051.\n"
     ]
    },
    {
     "name": "stderr",
     "output_type": "stream",
     "text": [
      "INFO:fbprophet:Disabling daily seasonality. Run prophet with daily_seasonality=True to override this.\n",
      "INFO:fbprophet:Making 9 forecasts with cutoffs between 2010-02-10 00:00:00 and 2014-01-20 00:00:00\n"
     ]
    },
    {
     "name": "stdout",
     "output_type": "stream",
     "text": [
      "[I 2022-05-24 19:09:47,278] Trial 39 finished with value: 0.08146006594844464 and parameters: {'changepoint_prior_scale': 0.10719375984228192, 'seasonality_prior_scale': 2.567165622121597, 'holidays_prior_scale': 0.019898285713259727, 'n_changepoints': 98, 'country_name': 'US', 'growth': 'linear', 'seasonality_mode': 'multiplicative'}. Best is trial 13 with value: 0.07099182527867051.\n"
     ]
    },
    {
     "name": "stderr",
     "output_type": "stream",
     "text": [
      "INFO:fbprophet:Disabling daily seasonality. Run prophet with daily_seasonality=True to override this.\n",
      "INFO:fbprophet:Making 9 forecasts with cutoffs between 2010-02-10 00:00:00 and 2014-01-20 00:00:00\n"
     ]
    },
    {
     "name": "stdout",
     "output_type": "stream",
     "text": [
      "[I 2022-05-24 19:12:29,000] Trial 40 finished with value: 0.07524169525567752 and parameters: {'changepoint_prior_scale': 0.016451306737416856, 'seasonality_prior_scale': 0.8026054382848875, 'holidays_prior_scale': 0.03335507231256269, 'n_changepoints': 68, 'country_name': 'RU', 'growth': 'linear', 'seasonality_mode': 'additive'}. Best is trial 13 with value: 0.07099182527867051.\n"
     ]
    },
    {
     "name": "stderr",
     "output_type": "stream",
     "text": [
      "INFO:fbprophet:Disabling daily seasonality. Run prophet with daily_seasonality=True to override this.\n",
      "INFO:fbprophet:Making 9 forecasts with cutoffs between 2010-02-10 00:00:00 and 2014-01-20 00:00:00\n"
     ]
    },
    {
     "name": "stdout",
     "output_type": "stream",
     "text": [
      "[I 2022-05-24 19:14:42,094] Trial 41 finished with value: 0.07187930948174098 and parameters: {'changepoint_prior_scale': 0.010740392396180132, 'seasonality_prior_scale': 0.09781526736695101, 'holidays_prior_scale': 0.049379711326599365, 'n_changepoints': 21, 'country_name': 'US', 'growth': 'linear', 'seasonality_mode': 'additive'}. Best is trial 13 with value: 0.07099182527867051.\n"
     ]
    },
    {
     "name": "stderr",
     "output_type": "stream",
     "text": [
      "INFO:fbprophet:Disabling daily seasonality. Run prophet with daily_seasonality=True to override this.\n",
      "INFO:fbprophet:Making 9 forecasts with cutoffs between 2010-02-10 00:00:00 and 2014-01-20 00:00:00\n"
     ]
    },
    {
     "name": "stdout",
     "output_type": "stream",
     "text": [
      "[I 2022-05-24 19:17:05,698] Trial 42 finished with value: 0.0749336726743011 and parameters: {'changepoint_prior_scale': 0.014577958986617272, 'seasonality_prior_scale': 0.19322657949986663, 'holidays_prior_scale': 0.016104773520594893, 'n_changepoints': 31, 'country_name': 'US', 'growth': 'linear', 'seasonality_mode': 'additive'}. Best is trial 13 with value: 0.07099182527867051.\n"
     ]
    },
    {
     "name": "stderr",
     "output_type": "stream",
     "text": [
      "INFO:fbprophet:Disabling daily seasonality. Run prophet with daily_seasonality=True to override this.\n",
      "INFO:fbprophet:Making 9 forecasts with cutoffs between 2010-02-10 00:00:00 and 2014-01-20 00:00:00\n"
     ]
    },
    {
     "name": "stdout",
     "output_type": "stream",
     "text": [
      "[I 2022-05-24 19:19:33,675] Trial 43 finished with value: 0.07083619987497461 and parameters: {'changepoint_prior_scale': 0.010151036982623709, 'seasonality_prior_scale': 0.42661825393586067, 'holidays_prior_scale': 0.010181244353269827, 'n_changepoints': 42, 'country_name': 'US', 'growth': 'linear', 'seasonality_mode': 'additive'}. Best is trial 43 with value: 0.07083619987497461.\n"
     ]
    },
    {
     "name": "stderr",
     "output_type": "stream",
     "text": [
      "INFO:fbprophet:Disabling daily seasonality. Run prophet with daily_seasonality=True to override this.\n",
      "INFO:fbprophet:Making 9 forecasts with cutoffs between 2010-02-10 00:00:00 and 2014-01-20 00:00:00\n"
     ]
    },
    {
     "name": "stdout",
     "output_type": "stream",
     "text": [
      "[I 2022-05-24 19:27:18,918] Trial 44 finished with value: 0.2936397986330269 and parameters: {'changepoint_prior_scale': 96.85189306927157, 'seasonality_prior_scale': 0.32331687376410395, 'holidays_prior_scale': 0.011793646690982746, 'n_changepoints': 125, 'country_name': 'US', 'growth': 'linear', 'seasonality_mode': 'additive'}. Best is trial 43 with value: 0.07083619987497461.\n"
     ]
    },
    {
     "name": "stderr",
     "output_type": "stream",
     "text": [
      "INFO:fbprophet:Disabling daily seasonality. Run prophet with daily_seasonality=True to override this.\n",
      "INFO:fbprophet:Making 9 forecasts with cutoffs between 2010-02-10 00:00:00 and 2014-01-20 00:00:00\n"
     ]
    },
    {
     "name": "stdout",
     "output_type": "stream",
     "text": [
      "[I 2022-05-24 19:29:36,855] Trial 45 finished with value: 0.07903073744240584 and parameters: {'changepoint_prior_scale': 0.030690208093105933, 'seasonality_prior_scale': 0.4565833488313813, 'holidays_prior_scale': 0.030440045829298407, 'n_changepoints': 24, 'country_name': 'US', 'growth': 'linear', 'seasonality_mode': 'multiplicative'}. Best is trial 43 with value: 0.07083619987497461.\n"
     ]
    },
    {
     "name": "stderr",
     "output_type": "stream",
     "text": [
      "INFO:fbprophet:Disabling daily seasonality. Run prophet with daily_seasonality=True to override this.\n",
      "INFO:fbprophet:Making 9 forecasts with cutoffs between 2010-02-10 00:00:00 and 2014-01-20 00:00:00\n"
     ]
    },
    {
     "name": "stdout",
     "output_type": "stream",
     "text": [
      "[I 2022-05-24 19:32:05,696] Trial 46 finished with value: 0.07541045155559914 and parameters: {'changepoint_prior_scale': 0.01751672366789173, 'seasonality_prior_scale': 0.1855344535033802, 'holidays_prior_scale': 0.010354393187266312, 'n_changepoints': 41, 'country_name': 'US', 'growth': 'linear', 'seasonality_mode': 'additive'}. Best is trial 43 with value: 0.07083619987497461.\n"
     ]
    },
    {
     "name": "stderr",
     "output_type": "stream",
     "text": [
      "INFO:fbprophet:Disabling daily seasonality. Run prophet with daily_seasonality=True to override this.\n",
      "INFO:fbprophet:Making 9 forecasts with cutoffs between 2010-02-10 00:00:00 and 2014-01-20 00:00:00\n"
     ]
    },
    {
     "name": "stdout",
     "output_type": "stream",
     "text": [
      "[I 2022-05-24 19:35:26,598] Trial 47 finished with value: 0.0848397648042148 and parameters: {'changepoint_prior_scale': 0.07312904938462952, 'seasonality_prior_scale': 0.7442393371021725, 'holidays_prior_scale': 0.1046920905729648, 'n_changepoints': 84, 'country_name': 'US', 'growth': 'linear', 'seasonality_mode': 'additive'}. Best is trial 43 with value: 0.07083619987497461.\n"
     ]
    },
    {
     "name": "stderr",
     "output_type": "stream",
     "text": [
      "INFO:fbprophet:Disabling daily seasonality. Run prophet with daily_seasonality=True to override this.\n",
      "INFO:fbprophet:Making 9 forecasts with cutoffs between 2010-02-10 00:00:00 and 2014-01-20 00:00:00\n",
      "INFO:fbprophet:n_changepoints greater than number of observations.Using 634.\n",
      "INFO:fbprophet:n_changepoints greater than number of observations.Using 778.\n",
      "INFO:fbprophet:n_changepoints greater than number of observations.Using 922.\n",
      "INFO:fbprophet:n_changepoints greater than number of observations.Using 1066.\n"
     ]
    },
    {
     "name": "stdout",
     "output_type": "stream",
     "text": [
      "[I 2022-05-24 19:56:17,710] Trial 48 finished with value: 0.07559662204438013 and parameters: {'changepoint_prior_scale': 0.015476287000834399, 'seasonality_prior_scale': 0.05412856824481615, 'holidays_prior_scale': 1.5209360873402855, 'n_changepoints': 1171, 'country_name': 'RU', 'growth': 'linear', 'seasonality_mode': 'additive'}. Best is trial 43 with value: 0.07083619987497461.\n"
     ]
    },
    {
     "name": "stderr",
     "output_type": "stream",
     "text": [
      "INFO:fbprophet:Disabling daily seasonality. Run prophet with daily_seasonality=True to override this.\n",
      "INFO:fbprophet:Making 9 forecasts with cutoffs between 2010-02-10 00:00:00 and 2014-01-20 00:00:00\n"
     ]
    },
    {
     "name": "stdout",
     "output_type": "stream",
     "text": [
      "[I 2022-05-24 19:59:02,474] Trial 49 finished with value: 0.07112225728764106 and parameters: {'changepoint_prior_scale': 0.010214076382785636, 'seasonality_prior_scale': 0.14100321012684178, 'holidays_prior_scale': 0.01812489190674627, 'n_changepoints': 63, 'country_name': 'US', 'growth': 'linear', 'seasonality_mode': 'additive'}. Best is trial 43 with value: 0.07083619987497461.\n"
     ]
    },
    {
     "name": "stderr",
     "output_type": "stream",
     "text": [
      "INFO:fbprophet:Disabling daily seasonality. Run prophet with daily_seasonality=True to override this.\n",
      "INFO:fbprophet:Making 9 forecasts with cutoffs between 2010-02-10 00:00:00 and 2014-01-20 00:00:00\n"
     ]
    },
    {
     "name": "stdout",
     "output_type": "stream",
     "text": [
      "[I 2022-05-24 20:08:21,591] Trial 50 finished with value: 0.478548621080809 and parameters: {'changepoint_prior_scale': 2.9574763427200272, 'seasonality_prior_scale': 0.4318323540920256, 'holidays_prior_scale': 26.72372975201845, 'n_changepoints': 166, 'country_name': 'US', 'growth': 'linear', 'seasonality_mode': 'multiplicative'}. Best is trial 43 with value: 0.07083619987497461.\n"
     ]
    },
    {
     "name": "stderr",
     "output_type": "stream",
     "text": [
      "INFO:fbprophet:Disabling daily seasonality. Run prophet with daily_seasonality=True to override this.\n",
      "INFO:fbprophet:Making 9 forecasts with cutoffs between 2010-02-10 00:00:00 and 2014-01-20 00:00:00\n"
     ]
    },
    {
     "name": "stdout",
     "output_type": "stream",
     "text": [
      "[I 2022-05-24 20:11:07,279] Trial 51 finished with value: 0.07095563532238892 and parameters: {'changepoint_prior_scale': 0.01015142677146035, 'seasonality_prior_scale': 0.12204682816205774, 'holidays_prior_scale': 0.01741163997522585, 'n_changepoints': 63, 'country_name': 'US', 'growth': 'linear', 'seasonality_mode': 'additive'}. Best is trial 43 with value: 0.07083619987497461.\n"
     ]
    },
    {
     "name": "stderr",
     "output_type": "stream",
     "text": [
      "INFO:fbprophet:Disabling daily seasonality. Run prophet with daily_seasonality=True to override this.\n",
      "INFO:fbprophet:Making 9 forecasts with cutoffs between 2010-02-10 00:00:00 and 2014-01-20 00:00:00\n"
     ]
    },
    {
     "name": "stdout",
     "output_type": "stream",
     "text": [
      "[I 2022-05-24 20:13:55,489] Trial 52 finished with value: 0.0793478418786785 and parameters: {'changepoint_prior_scale': 0.0269754127330196, 'seasonality_prior_scale': 0.24714025762015637, 'holidays_prior_scale': 0.015041720607365205, 'n_changepoints': 60, 'country_name': 'US', 'growth': 'linear', 'seasonality_mode': 'additive'}. Best is trial 43 with value: 0.07083619987497461.\n"
     ]
    },
    {
     "name": "stderr",
     "output_type": "stream",
     "text": [
      "INFO:fbprophet:Disabling daily seasonality. Run prophet with daily_seasonality=True to override this.\n",
      "INFO:fbprophet:Making 9 forecasts with cutoffs between 2010-02-10 00:00:00 and 2014-01-20 00:00:00\n"
     ]
    },
    {
     "name": "stdout",
     "output_type": "stream",
     "text": [
      "[I 2022-05-24 20:16:55,194] Trial 53 finished with value: 0.07459663059199664 and parameters: {'changepoint_prior_scale': 0.015067673000372542, 'seasonality_prior_scale': 0.1364823596376297, 'holidays_prior_scale': 0.015967885164286804, 'n_changepoints': 86, 'country_name': 'US', 'growth': 'linear', 'seasonality_mode': 'additive'}. Best is trial 43 with value: 0.07083619987497461.\n"
     ]
    },
    {
     "name": "stderr",
     "output_type": "stream",
     "text": [
      "INFO:fbprophet:Disabling daily seasonality. Run prophet with daily_seasonality=True to override this.\n",
      "INFO:fbprophet:Making 9 forecasts with cutoffs between 2010-02-10 00:00:00 and 2014-01-20 00:00:00\n"
     ]
    },
    {
     "name": "stdout",
     "output_type": "stream",
     "text": [
      "[I 2022-05-24 20:19:26,998] Trial 54 finished with value: 0.07693193270601344 and parameters: {'changepoint_prior_scale': 0.02145159481037427, 'seasonality_prior_scale': 0.08995286394658061, 'holidays_prior_scale': 3.1179206479371633, 'n_changepoints': 45, 'country_name': 'US', 'growth': 'linear', 'seasonality_mode': 'additive'}. Best is trial 43 with value: 0.07083619987497461.\n"
     ]
    },
    {
     "name": "stderr",
     "output_type": "stream",
     "text": [
      "INFO:fbprophet:Disabling daily seasonality. Run prophet with daily_seasonality=True to override this.\n",
      "INFO:fbprophet:Making 9 forecasts with cutoffs between 2010-02-10 00:00:00 and 2014-01-20 00:00:00\n"
     ]
    },
    {
     "name": "stdout",
     "output_type": "stream",
     "text": [
      "[I 2022-05-24 20:22:26,680] Trial 55 finished with value: 0.08614354779987846 and parameters: {'changepoint_prior_scale': 0.05621662014864546, 'seasonality_prior_scale': 0.016560714486316984, 'holidays_prior_scale': 0.04097614245586164, 'n_changepoints': 65, 'country_name': 'US', 'growth': 'linear', 'seasonality_mode': 'additive'}. Best is trial 43 with value: 0.07083619987497461.\n"
     ]
    },
    {
     "name": "stderr",
     "output_type": "stream",
     "text": [
      "INFO:fbprophet:Disabling daily seasonality. Run prophet with daily_seasonality=True to override this.\n",
      "INFO:fbprophet:Making 9 forecasts with cutoffs between 2010-02-10 00:00:00 and 2014-01-20 00:00:00\n"
     ]
    },
    {
     "name": "stdout",
     "output_type": "stream",
     "text": [
      "[I 2022-05-24 20:25:50,590] Trial 56 finished with value: 0.07123596236253872 and parameters: {'changepoint_prior_scale': 0.010024161947053628, 'seasonality_prior_scale': 0.0761571188238204, 'holidays_prior_scale': 0.07227010653940305, 'n_changepoints': 114, 'country_name': 'US', 'growth': 'linear', 'seasonality_mode': 'additive'}. Best is trial 43 with value: 0.07083619987497461.\n"
     ]
    },
    {
     "name": "stderr",
     "output_type": "stream",
     "text": [
      "INFO:fbprophet:Disabling daily seasonality. Run prophet with daily_seasonality=True to override this.\n",
      "INFO:fbprophet:Making 9 forecasts with cutoffs between 2010-02-10 00:00:00 and 2014-01-20 00:00:00\n"
     ]
    },
    {
     "name": "stdout",
     "output_type": "stream",
     "text": [
      "[I 2022-05-24 20:28:33,575] Trial 57 finished with value: 0.08113358644212713 and parameters: {'changepoint_prior_scale': 0.037167768790268334, 'seasonality_prior_scale': 0.7249916423999347, 'holidays_prior_scale': 0.024327077137100632, 'n_changepoints': 53, 'country_name': 'US', 'growth': 'linear', 'seasonality_mode': 'additive'}. Best is trial 43 with value: 0.07083619987497461.\n"
     ]
    },
    {
     "name": "stderr",
     "output_type": "stream",
     "text": [
      "INFO:fbprophet:Disabling daily seasonality. Run prophet with daily_seasonality=True to override this.\n",
      "INFO:fbprophet:Making 9 forecasts with cutoffs between 2010-02-10 00:00:00 and 2014-01-20 00:00:00\n"
     ]
    },
    {
     "name": "stdout",
     "output_type": "stream",
     "text": [
      "[I 2022-05-24 20:31:41,612] Trial 58 finished with value: 0.07097141536444282 and parameters: {'changepoint_prior_scale': 0.010012632760364456, 'seasonality_prior_scale': 27.873434355913666, 'holidays_prior_scale': 0.05688482080240257, 'n_changepoints': 94, 'country_name': 'US', 'growth': 'linear', 'seasonality_mode': 'additive'}. Best is trial 43 with value: 0.07083619987497461.\n"
     ]
    },
    {
     "name": "stderr",
     "output_type": "stream",
     "text": [
      "INFO:fbprophet:Disabling daily seasonality. Run prophet with daily_seasonality=True to override this.\n",
      "INFO:fbprophet:Making 9 forecasts with cutoffs between 2010-02-10 00:00:00 and 2014-01-20 00:00:00\n"
     ]
    },
    {
     "name": "stdout",
     "output_type": "stream",
     "text": [
      "[I 2022-05-24 20:37:47,883] Trial 59 finished with value: 0.12673680624875575 and parameters: {'changepoint_prior_scale': 0.4785622463388662, 'seasonality_prior_scale': 52.06690211168917, 'holidays_prior_scale': 0.0670957801578403, 'n_changepoints': 98, 'country_name': 'US', 'growth': 'linear', 'seasonality_mode': 'additive'}. Best is trial 43 with value: 0.07083619987497461.\n"
     ]
    },
    {
     "name": "stderr",
     "output_type": "stream",
     "text": [
      "INFO:fbprophet:Disabling daily seasonality. Run prophet with daily_seasonality=True to override this.\n",
      "INFO:fbprophet:Making 9 forecasts with cutoffs between 2010-02-10 00:00:00 and 2014-01-20 00:00:00\n"
     ]
    },
    {
     "name": "stdout",
     "output_type": "stream",
     "text": [
      "[I 2022-05-24 20:42:58,293] Trial 60 finished with value: 0.07545784815778661 and parameters: {'changepoint_prior_scale': 0.015411921589766961, 'seasonality_prior_scale': 2.5053915396710544, 'holidays_prior_scale': 0.3183148950436238, 'n_changepoints': 233, 'country_name': 'US', 'growth': 'linear', 'seasonality_mode': 'additive'}. Best is trial 43 with value: 0.07083619987497461.\n"
     ]
    },
    {
     "name": "stderr",
     "output_type": "stream",
     "text": [
      "INFO:fbprophet:Disabling daily seasonality. Run prophet with daily_seasonality=True to override this.\n",
      "INFO:fbprophet:Making 9 forecasts with cutoffs between 2010-02-10 00:00:00 and 2014-01-20 00:00:00\n"
     ]
    },
    {
     "name": "stdout",
     "output_type": "stream",
     "text": [
      "[I 2022-05-24 20:45:52,281] Trial 61 finished with value: 0.07410077036084163 and parameters: {'changepoint_prior_scale': 0.01307822319270432, 'seasonality_prior_scale': 11.896574613334934, 'holidays_prior_scale': 0.04312463343628187, 'n_changepoints': 74, 'country_name': 'US', 'growth': 'linear', 'seasonality_mode': 'additive'}. Best is trial 43 with value: 0.07083619987497461.\n"
     ]
    },
    {
     "name": "stderr",
     "output_type": "stream",
     "text": [
      "INFO:fbprophet:Disabling daily seasonality. Run prophet with daily_seasonality=True to override this.\n",
      "INFO:fbprophet:Making 9 forecasts with cutoffs between 2010-02-10 00:00:00 and 2014-01-20 00:00:00\n"
     ]
    },
    {
     "name": "stdout",
     "output_type": "stream",
     "text": [
      "[I 2022-05-24 20:48:17,547] Trial 62 finished with value: 0.07130162604200868 and parameters: {'changepoint_prior_scale': 0.010007743349727373, 'seasonality_prior_scale': 0.3720039084140419, 'holidays_prior_scale': 0.15646864191901544, 'n_changepoints': 41, 'country_name': 'US', 'growth': 'linear', 'seasonality_mode': 'additive'}. Best is trial 43 with value: 0.07083619987497461.\n"
     ]
    },
    {
     "name": "stderr",
     "output_type": "stream",
     "text": [
      "INFO:fbprophet:Disabling daily seasonality. Run prophet with daily_seasonality=True to override this.\n",
      "INFO:fbprophet:Making 9 forecasts with cutoffs between 2010-02-10 00:00:00 and 2014-01-20 00:00:00\n"
     ]
    },
    {
     "name": "stdout",
     "output_type": "stream",
     "text": [
      "[I 2022-05-24 20:51:59,795] Trial 63 finished with value: 0.07741225513173373 and parameters: {'changepoint_prior_scale': 0.021769627329757513, 'seasonality_prior_scale': 26.218327274381235, 'holidays_prior_scale': 0.029730048465664922, 'n_changepoints': 129, 'country_name': 'US', 'growth': 'linear', 'seasonality_mode': 'additive'}. Best is trial 43 with value: 0.07083619987497461.\n"
     ]
    },
    {
     "name": "stderr",
     "output_type": "stream",
     "text": [
      "INFO:fbprophet:Disabling daily seasonality. Run prophet with daily_seasonality=True to override this.\n",
      "INFO:fbprophet:Making 9 forecasts with cutoffs between 2010-02-10 00:00:00 and 2014-01-20 00:00:00\n"
     ]
    },
    {
     "name": "stdout",
     "output_type": "stream",
     "text": [
      "[I 2022-05-24 20:54:21,189] Trial 64 finished with value: 0.0806534524673615 and parameters: {'changepoint_prior_scale': 0.03387474122032676, 'seasonality_prior_scale': 0.2514653122546245, 'holidays_prior_scale': 0.017380067098878973, 'n_changepoints': 27, 'country_name': 'US', 'growth': 'linear', 'seasonality_mode': 'additive'}. Best is trial 43 with value: 0.07083619987497461.\n"
     ]
    },
    {
     "name": "stderr",
     "output_type": "stream",
     "text": [
      "INFO:fbprophet:Disabling daily seasonality. Run prophet with daily_seasonality=True to override this.\n",
      "INFO:fbprophet:Making 9 forecasts with cutoffs between 2010-02-10 00:00:00 and 2014-01-20 00:00:00\n"
     ]
    },
    {
     "name": "stdout",
     "output_type": "stream",
     "text": [
      "[I 2022-05-24 20:56:59,786] Trial 65 finished with value: 0.07467793419045562 and parameters: {'changepoint_prior_scale': 0.013390300598350332, 'seasonality_prior_scale': 0.14759993233509755, 'holidays_prior_scale': 0.05683571863698053, 'n_changepoints': 51, 'country_name': 'US', 'growth': 'linear', 'seasonality_mode': 'additive'}. Best is trial 43 with value: 0.07083619987497461.\n"
     ]
    },
    {
     "name": "stderr",
     "output_type": "stream",
     "text": [
      "INFO:fbprophet:Disabling daily seasonality. Run prophet with daily_seasonality=True to override this.\n",
      "INFO:fbprophet:Making 9 forecasts with cutoffs between 2010-02-10 00:00:00 and 2014-01-20 00:00:00\n"
     ]
    },
    {
     "name": "stdout",
     "output_type": "stream",
     "text": [
      "[I 2022-05-24 21:00:01,593] Trial 66 finished with value: 0.07191051968691607 and parameters: {'changepoint_prior_scale': 0.010684641571105694, 'seasonality_prior_scale': 5.301238992902916, 'holidays_prior_scale': 0.02763450844682281, 'n_changepoints': 85, 'country_name': 'US', 'growth': 'linear', 'seasonality_mode': 'additive'}. Best is trial 43 with value: 0.07083619987497461.\n"
     ]
    },
    {
     "name": "stderr",
     "output_type": "stream",
     "text": [
      "INFO:fbprophet:Disabling daily seasonality. Run prophet with daily_seasonality=True to override this.\n",
      "INFO:fbprophet:Making 9 forecasts with cutoffs between 2010-02-10 00:00:00 and 2014-01-20 00:00:00\n"
     ]
    },
    {
     "name": "stdout",
     "output_type": "stream",
     "text": [
      "[I 2022-05-24 21:08:07,284] Trial 67 finished with value: 0.16981417960960096 and parameters: {'changepoint_prior_scale': 1.481334121460864, 'seasonality_prior_scale': 0.6355044618057014, 'holidays_prior_scale': 0.09922607937706412, 'n_changepoints': 144, 'country_name': 'US', 'growth': 'linear', 'seasonality_mode': 'additive'}. Best is trial 43 with value: 0.07083619987497461.\n"
     ]
    },
    {
     "name": "stderr",
     "output_type": "stream",
     "text": [
      "INFO:fbprophet:Disabling daily seasonality. Run prophet with daily_seasonality=True to override this.\n",
      "INFO:fbprophet:Making 9 forecasts with cutoffs between 2010-02-10 00:00:00 and 2014-01-20 00:00:00\n"
     ]
    },
    {
     "name": "stdout",
     "output_type": "stream",
     "text": [
      "[I 2022-05-24 21:10:55,730] Trial 68 finished with value: 0.07691229552377847 and parameters: {'changepoint_prior_scale': 0.0216361845498612, 'seasonality_prior_scale': 0.04186951062729881, 'holidays_prior_scale': 0.03827585729613838, 'n_changepoints': 64, 'country_name': 'US', 'growth': 'linear', 'seasonality_mode': 'additive'}. Best is trial 43 with value: 0.07083619987497461.\n"
     ]
    },
    {
     "name": "stderr",
     "output_type": "stream",
     "text": [
      "INFO:fbprophet:Disabling daily seasonality. Run prophet with daily_seasonality=True to override this.\n",
      "INFO:fbprophet:Making 9 forecasts with cutoffs between 2010-02-10 00:00:00 and 2014-01-20 00:00:00\n"
     ]
    },
    {
     "name": "stdout",
     "output_type": "stream",
     "text": [
      "[I 2022-05-24 21:13:22,189] Trial 69 finished with value: 0.08281937397753401 and parameters: {'changepoint_prior_scale': 0.045714357511062786, 'seasonality_prior_scale': 1.046835670425662, 'holidays_prior_scale': 0.013414343984208852, 'n_changepoints': 37, 'country_name': 'RU', 'growth': 'linear', 'seasonality_mode': 'additive'}. Best is trial 43 with value: 0.07083619987497461.\n"
     ]
    },
    {
     "name": "stderr",
     "output_type": "stream",
     "text": [
      "INFO:fbprophet:Disabling daily seasonality. Run prophet with daily_seasonality=True to override this.\n",
      "INFO:fbprophet:Making 9 forecasts with cutoffs between 2010-02-10 00:00:00 and 2014-01-20 00:00:00\n"
     ]
    },
    {
     "name": "stdout",
     "output_type": "stream",
     "text": [
      "[I 2022-05-24 21:17:31,389] Trial 70 finished with value: 0.08849779793433639 and parameters: {'changepoint_prior_scale': 0.16944170063876043, 'seasonality_prior_scale': 0.06499120908040128, 'holidays_prior_scale': 0.02353438842407673, 'n_changepoints': 103, 'country_name': 'US', 'growth': 'linear', 'seasonality_mode': 'multiplicative'}. Best is trial 43 with value: 0.07083619987497461.\n"
     ]
    },
    {
     "name": "stderr",
     "output_type": "stream",
     "text": [
      "INFO:fbprophet:Disabling daily seasonality. Run prophet with daily_seasonality=True to override this.\n",
      "INFO:fbprophet:Making 9 forecasts with cutoffs between 2010-02-10 00:00:00 and 2014-01-20 00:00:00\n"
     ]
    },
    {
     "name": "stdout",
     "output_type": "stream",
     "text": [
      "[I 2022-05-24 21:20:26,795] Trial 71 finished with value: 0.07104347382572032 and parameters: {'changepoint_prior_scale': 0.010170364806218567, 'seasonality_prior_scale': 0.08120082363227185, 'holidays_prior_scale': 0.07903228945796924, 'n_changepoints': 77, 'country_name': 'US', 'growth': 'linear', 'seasonality_mode': 'additive'}. Best is trial 43 with value: 0.07083619987497461.\n"
     ]
    },
    {
     "name": "stderr",
     "output_type": "stream",
     "text": [
      "INFO:fbprophet:Disabling daily seasonality. Run prophet with daily_seasonality=True to override this.\n",
      "INFO:fbprophet:Making 9 forecasts with cutoffs between 2010-02-10 00:00:00 and 2014-01-20 00:00:00\n"
     ]
    },
    {
     "name": "stdout",
     "output_type": "stream",
     "text": [
      "[I 2022-05-24 21:23:22,691] Trial 72 finished with value: 0.0715175970314946 and parameters: {'changepoint_prior_scale': 0.010052258548853837, 'seasonality_prior_scale': 0.031228065854577432, 'holidays_prior_scale': 0.08480768322243362, 'n_changepoints': 80, 'country_name': 'US', 'growth': 'linear', 'seasonality_mode': 'additive'}. Best is trial 43 with value: 0.07083619987497461.\n"
     ]
    },
    {
     "name": "stderr",
     "output_type": "stream",
     "text": [
      "INFO:fbprophet:Disabling daily seasonality. Run prophet with daily_seasonality=True to override this.\n",
      "INFO:fbprophet:Making 9 forecasts with cutoffs between 2010-02-10 00:00:00 and 2014-01-20 00:00:00\n"
     ]
    },
    {
     "name": "stdout",
     "output_type": "stream",
     "text": [
      "[I 2022-05-24 21:26:04,876] Trial 73 finished with value: 0.07417161000793612 and parameters: {'changepoint_prior_scale': 0.013290417315904222, 'seasonality_prior_scale': 0.10420562721233326, 'holidays_prior_scale': 0.057273316794237965, 'n_changepoints': 59, 'country_name': 'US', 'growth': 'linear', 'seasonality_mode': 'additive'}. Best is trial 43 with value: 0.07083619987497461.\n"
     ]
    },
    {
     "name": "stderr",
     "output_type": "stream",
     "text": [
      "INFO:fbprophet:Disabling daily seasonality. Run prophet with daily_seasonality=True to override this.\n",
      "INFO:fbprophet:Making 9 forecasts with cutoffs between 2010-02-10 00:00:00 and 2014-01-20 00:00:00\n"
     ]
    },
    {
     "name": "stdout",
     "output_type": "stream",
     "text": [
      "[I 2022-05-24 21:28:41,889] Trial 74 finished with value: 0.07811703494195378 and parameters: {'changepoint_prior_scale': 0.0258419934855711, 'seasonality_prior_scale': 0.2007629160603344, 'holidays_prior_scale': 0.018296124507246467, 'n_changepoints': 50, 'country_name': 'US', 'growth': 'linear', 'seasonality_mode': 'additive'}. Best is trial 43 with value: 0.07083619987497461.\n"
     ]
    },
    {
     "name": "stderr",
     "output_type": "stream",
     "text": [
      "INFO:fbprophet:Disabling daily seasonality. Run prophet with daily_seasonality=True to override this.\n",
      "INFO:fbprophet:Making 9 forecasts with cutoffs between 2010-02-10 00:00:00 and 2014-01-20 00:00:00\n"
     ]
    },
    {
     "name": "stdout",
     "output_type": "stream",
     "text": [
      "[I 2022-05-24 21:31:35,105] Trial 75 finished with value: 0.07565640281514222 and parameters: {'changepoint_prior_scale': 0.018375239982907455, 'seasonality_prior_scale': 0.12134518777854324, 'holidays_prior_scale': 0.19683310994033235, 'n_changepoints': 72, 'country_name': 'US', 'growth': 'linear', 'seasonality_mode': 'additive'}. Best is trial 43 with value: 0.07083619987497461.\n"
     ]
    },
    {
     "name": "stderr",
     "output_type": "stream",
     "text": [
      "INFO:fbprophet:Disabling daily seasonality. Run prophet with daily_seasonality=True to override this.\n",
      "INFO:fbprophet:Making 9 forecasts with cutoffs between 2010-02-10 00:00:00 and 2014-01-20 00:00:00\n"
     ]
    },
    {
     "name": "stdout",
     "output_type": "stream",
     "text": [
      "[I 2022-05-24 21:33:53,091] Trial 76 finished with value: 0.07203220506562112 and parameters: {'changepoint_prior_scale': 0.010006191099401176, 'seasonality_prior_scale': 0.15680113508836918, 'holidays_prior_scale': 0.03805313965315496, 'n_changepoints': 32, 'country_name': 'US', 'growth': 'linear', 'seasonality_mode': 'additive'}. Best is trial 43 with value: 0.07083619987497461.\n"
     ]
    },
    {
     "name": "stderr",
     "output_type": "stream",
     "text": [
      "INFO:fbprophet:Disabling daily seasonality. Run prophet with daily_seasonality=True to override this.\n",
      "INFO:fbprophet:Making 9 forecasts with cutoffs between 2010-02-10 00:00:00 and 2014-01-20 00:00:00\n"
     ]
    },
    {
     "name": "stdout",
     "output_type": "stream",
     "text": [
      "[I 2022-05-24 21:36:23,886] Trial 77 finished with value: 0.07313619726248227 and parameters: {'changepoint_prior_scale': 0.013466820892412261, 'seasonality_prior_scale': 0.5545701877665875, 'holidays_prior_scale': 0.04914450601324813, 'n_changepoints': 46, 'country_name': 'US', 'growth': 'linear', 'seasonality_mode': 'additive'}. Best is trial 43 with value: 0.07083619987497461.\n"
     ]
    },
    {
     "name": "stderr",
     "output_type": "stream",
     "text": [
      "INFO:fbprophet:Disabling daily seasonality. Run prophet with daily_seasonality=True to override this.\n",
      "INFO:fbprophet:Making 9 forecasts with cutoffs between 2010-02-10 00:00:00 and 2014-01-20 00:00:00\n"
     ]
    },
    {
     "name": "stdout",
     "output_type": "stream",
     "text": [
      "[I 2022-05-24 21:39:47,231] Trial 78 finished with value: 0.07633727518573176 and parameters: {'changepoint_prior_scale': 0.01912354914749741, 'seasonality_prior_scale': 0.3374185397257199, 'holidays_prior_scale': 0.010063803870202566, 'n_changepoints': 107, 'country_name': 'US', 'growth': 'linear', 'seasonality_mode': 'additive'}. Best is trial 43 with value: 0.07083619987497461.\n"
     ]
    },
    {
     "name": "stderr",
     "output_type": "stream",
     "text": [
      "INFO:fbprophet:Disabling daily seasonality. Run prophet with daily_seasonality=True to override this.\n",
      "INFO:fbprophet:Making 9 forecasts with cutoffs between 2010-02-10 00:00:00 and 2014-01-20 00:00:00\n"
     ]
    },
    {
     "name": "stdout",
     "output_type": "stream",
     "text": [
      "[I 2022-05-24 21:42:01,790] Trial 79 finished with value: 0.07145021277194953 and parameters: {'changepoint_prior_scale': 0.010028272052960455, 'seasonality_prior_scale': 0.22580547630308864, 'holidays_prior_scale': 0.026318481927092907, 'n_changepoints': 23, 'country_name': 'US', 'growth': 'linear', 'seasonality_mode': 'additive'}. Best is trial 43 with value: 0.07083619987497461.\n"
     ]
    },
    {
     "name": "stderr",
     "output_type": "stream",
     "text": [
      "INFO:fbprophet:Disabling daily seasonality. Run prophet with daily_seasonality=True to override this.\n",
      "INFO:fbprophet:Making 9 forecasts with cutoffs between 2010-02-10 00:00:00 and 2014-01-20 00:00:00\n"
     ]
    },
    {
     "name": "stdout",
     "output_type": "stream",
     "text": [
      "[I 2022-05-24 21:48:05,596] Trial 80 finished with value: 0.1614105699139069 and parameters: {'changepoint_prior_scale': 9.142244535766459, 'seasonality_prior_scale': 0.05042434779183238, 'holidays_prior_scale': 0.12796820401731, 'n_changepoints': 87, 'country_name': 'US', 'growth': 'linear', 'seasonality_mode': 'additive'}. Best is trial 43 with value: 0.07083619987497461.\n"
     ]
    },
    {
     "name": "stderr",
     "output_type": "stream",
     "text": [
      "INFO:fbprophet:Disabling daily seasonality. Run prophet with daily_seasonality=True to override this.\n",
      "INFO:fbprophet:Making 9 forecasts with cutoffs between 2010-02-10 00:00:00 and 2014-01-20 00:00:00\n"
     ]
    },
    {
     "name": "stdout",
     "output_type": "stream",
     "text": [
      "[I 2022-05-24 21:51:34,695] Trial 81 finished with value: 0.07184173102094635 and parameters: {'changepoint_prior_scale': 0.010026146135512082, 'seasonality_prior_scale': 0.07187421312651594, 'holidays_prior_scale': 0.06647390700584124, 'n_changepoints': 117, 'country_name': 'US', 'growth': 'linear', 'seasonality_mode': 'additive'}. Best is trial 43 with value: 0.07083619987497461.\n"
     ]
    },
    {
     "name": "stderr",
     "output_type": "stream",
     "text": [
      "INFO:fbprophet:Disabling daily seasonality. Run prophet with daily_seasonality=True to override this.\n",
      "INFO:fbprophet:Making 9 forecasts with cutoffs between 2010-02-10 00:00:00 and 2014-01-20 00:00:00\n"
     ]
    },
    {
     "name": "stdout",
     "output_type": "stream",
     "text": [
      "[I 2022-05-24 21:55:26,005] Trial 82 finished with value: 0.07408485438262628 and parameters: {'changepoint_prior_scale': 0.013039419177286049, 'seasonality_prior_scale': 0.07490565455205123, 'holidays_prior_scale': 0.07882524087698609, 'n_changepoints': 144, 'country_name': 'US', 'growth': 'linear', 'seasonality_mode': 'additive'}. Best is trial 43 with value: 0.07083619987497461.\n"
     ]
    },
    {
     "name": "stderr",
     "output_type": "stream",
     "text": [
      "INFO:fbprophet:Disabling daily seasonality. Run prophet with daily_seasonality=True to override this.\n",
      "INFO:fbprophet:Making 9 forecasts with cutoffs between 2010-02-10 00:00:00 and 2014-01-20 00:00:00\n"
     ]
    },
    {
     "name": "stdout",
     "output_type": "stream",
     "text": [
      "[I 2022-05-24 22:00:31,180] Trial 83 finished with value: 0.07994649628172829 and parameters: {'changepoint_prior_scale': 0.029147157358296386, 'seasonality_prior_scale': 0.024841317316958426, 'holidays_prior_scale': 0.09279937281650032, 'n_changepoints': 211, 'country_name': 'US', 'growth': 'linear', 'seasonality_mode': 'additive'}. Best is trial 43 with value: 0.07083619987497461.\n"
     ]
    },
    {
     "name": "stderr",
     "output_type": "stream",
     "text": [
      "INFO:fbprophet:Disabling daily seasonality. Run prophet with daily_seasonality=True to override this.\n",
      "INFO:fbprophet:Making 9 forecasts with cutoffs between 2010-02-10 00:00:00 and 2014-01-20 00:00:00\n"
     ]
    },
    {
     "name": "stdout",
     "output_type": "stream",
     "text": [
      "[I 2022-05-24 22:03:17,981] Trial 84 finished with value: 0.07523047882530202 and parameters: {'changepoint_prior_scale': 0.018416104891731563, 'seasonality_prior_scale': 0.08452492045377433, 'holidays_prior_scale': 0.013096746473984573, 'n_changepoints': 65, 'country_name': 'US', 'growth': 'linear', 'seasonality_mode': 'additive'}. Best is trial 43 with value: 0.07083619987497461.\n"
     ]
    },
    {
     "name": "stderr",
     "output_type": "stream",
     "text": [
      "INFO:fbprophet:Disabling daily seasonality. Run prophet with daily_seasonality=True to override this.\n",
      "INFO:fbprophet:Making 9 forecasts with cutoffs between 2010-02-10 00:00:00 and 2014-01-20 00:00:00\n"
     ]
    },
    {
     "name": "stdout",
     "output_type": "stream",
     "text": [
      "[I 2022-05-24 22:05:55,407] Trial 85 finished with value: 0.07340150845674775 and parameters: {'changepoint_prior_scale': 0.012712068544761283, 'seasonality_prior_scale': 0.17751533223659724, 'holidays_prior_scale': 0.7739004779163856, 'n_changepoints': 56, 'country_name': 'US', 'growth': 'linear', 'seasonality_mode': 'additive'}. Best is trial 43 with value: 0.07083619987497461.\n"
     ]
    },
    {
     "name": "stderr",
     "output_type": "stream",
     "text": [
      "INFO:fbprophet:Disabling daily seasonality. Run prophet with daily_seasonality=True to override this.\n",
      "INFO:fbprophet:Making 9 forecasts with cutoffs between 2010-02-10 00:00:00 and 2014-01-20 00:00:00\n"
     ]
    },
    {
     "name": "stdout",
     "output_type": "stream",
     "text": [
      "[I 2022-05-24 22:08:21,598] Trial 86 finished with value: 0.07537529720341461 and parameters: {'changepoint_prior_scale': 0.01635031070394873, 'seasonality_prior_scale': 0.11273826851247595, 'holidays_prior_scale': 0.03174154242710519, 'n_changepoints': 38, 'country_name': 'US', 'growth': 'linear', 'seasonality_mode': 'additive'}. Best is trial 43 with value: 0.07083619987497461.\n"
     ]
    },
    {
     "name": "stderr",
     "output_type": "stream",
     "text": [
      "INFO:fbprophet:Disabling daily seasonality. Run prophet with daily_seasonality=True to override this.\n",
      "INFO:fbprophet:Making 9 forecasts with cutoffs between 2010-02-10 00:00:00 and 2014-01-20 00:00:00\n"
     ]
    },
    {
     "name": "stdout",
     "output_type": "stream",
     "text": [
      "[I 2022-05-24 22:11:33,378] Trial 87 finished with value: 0.07768133037698781 and parameters: {'changepoint_prior_scale': 0.023562155606437242, 'seasonality_prior_scale': 0.29914756302032103, 'holidays_prior_scale': 0.021177412866082747, 'n_changepoints': 93, 'country_name': 'US', 'growth': 'linear', 'seasonality_mode': 'additive'}. Best is trial 43 with value: 0.07083619987497461.\n"
     ]
    },
    {
     "name": "stderr",
     "output_type": "stream",
     "text": [
      "INFO:fbprophet:Disabling daily seasonality. Run prophet with daily_seasonality=True to override this.\n",
      "INFO:fbprophet:Making 9 forecasts with cutoffs between 2010-02-10 00:00:00 and 2014-01-20 00:00:00\n"
     ]
    },
    {
     "name": "stdout",
     "output_type": "stream",
     "text": [
      "[I 2022-05-24 22:14:16,881] Trial 88 finished with value: 0.07102262448395277 and parameters: {'changepoint_prior_scale': 0.010200934972124964, 'seasonality_prior_scale': 0.05589749725443773, 'holidays_prior_scale': 0.06351141121754086, 'n_changepoints': 76, 'country_name': 'RU', 'growth': 'linear', 'seasonality_mode': 'additive'}. Best is trial 43 with value: 0.07083619987497461.\n"
     ]
    },
    {
     "name": "stderr",
     "output_type": "stream",
     "text": [
      "INFO:fbprophet:Disabling daily seasonality. Run prophet with daily_seasonality=True to override this.\n",
      "INFO:fbprophet:Making 9 forecasts with cutoffs between 2010-02-10 00:00:00 and 2014-01-20 00:00:00\n"
     ]
    },
    {
     "name": "stdout",
     "output_type": "stream",
     "text": [
      "[I 2022-05-24 22:16:57,979] Trial 89 finished with value: 0.07264349871593048 and parameters: {'changepoint_prior_scale': 0.01182645800441212, 'seasonality_prior_scale': 0.053741121161168276, 'holidays_prior_scale': 0.045795187907558356, 'n_changepoints': 71, 'country_name': 'RU', 'growth': 'linear', 'seasonality_mode': 'additive'}. Best is trial 43 with value: 0.07083619987497461.\n"
     ]
    },
    {
     "name": "stderr",
     "output_type": "stream",
     "text": [
      "INFO:fbprophet:Disabling daily seasonality. Run prophet with daily_seasonality=True to override this.\n",
      "INFO:fbprophet:Making 9 forecasts with cutoffs between 2010-02-10 00:00:00 and 2014-01-20 00:00:00\n"
     ]
    },
    {
     "name": "stdout",
     "output_type": "stream",
     "text": [
      "[I 2022-05-24 22:19:47,681] Trial 90 finished with value: 0.07499964068228743 and parameters: {'changepoint_prior_scale': 0.01572749221999218, 'seasonality_prior_scale': 0.4588147415525954, 'holidays_prior_scale': 0.019238773057156575, 'n_changepoints': 76, 'country_name': 'RU', 'growth': 'linear', 'seasonality_mode': 'additive'}. Best is trial 43 with value: 0.07083619987497461.\n"
     ]
    },
    {
     "name": "stderr",
     "output_type": "stream",
     "text": [
      "INFO:fbprophet:Disabling daily seasonality. Run prophet with daily_seasonality=True to override this.\n",
      "INFO:fbprophet:Making 9 forecasts with cutoffs between 2010-02-10 00:00:00 and 2014-01-20 00:00:00\n"
     ]
    },
    {
     "name": "stdout",
     "output_type": "stream",
     "text": [
      "[I 2022-05-24 22:22:57,798] Trial 91 finished with value: 0.07157771862308461 and parameters: {'changepoint_prior_scale': 0.010465369165026328, 'seasonality_prior_scale': 0.03728073762449631, 'holidays_prior_scale': 0.0745432901858696, 'n_changepoints': 106, 'country_name': 'RU', 'growth': 'linear', 'seasonality_mode': 'additive'}. Best is trial 43 with value: 0.07083619987497461.\n"
     ]
    },
    {
     "name": "stderr",
     "output_type": "stream",
     "text": [
      "INFO:fbprophet:Disabling daily seasonality. Run prophet with daily_seasonality=True to override this.\n",
      "INFO:fbprophet:Making 9 forecasts with cutoffs between 2010-02-10 00:00:00 and 2014-01-20 00:00:00\n"
     ]
    },
    {
     "name": "stdout",
     "output_type": "stream",
     "text": [
      "[I 2022-05-24 22:25:16,495] Trial 92 finished with value: 0.07298804724111364 and parameters: {'changepoint_prior_scale': 0.012488190966695446, 'seasonality_prior_scale': 0.08278753720550891, 'holidays_prior_scale': 0.059459710488984324, 'n_changepoints': 41, 'country_name': 'RU', 'growth': 'linear', 'seasonality_mode': 'additive'}. Best is trial 43 with value: 0.07083619987497461.\n"
     ]
    },
    {
     "name": "stderr",
     "output_type": "stream",
     "text": [
      "INFO:fbprophet:Disabling daily seasonality. Run prophet with daily_seasonality=True to override this.\n",
      "INFO:fbprophet:Making 9 forecasts with cutoffs between 2010-02-10 00:00:00 and 2014-01-20 00:00:00\n"
     ]
    },
    {
     "name": "stdout",
     "output_type": "stream",
     "text": [
      "[I 2022-05-24 22:27:53,586] Trial 93 finished with value: 0.07138464449918999 and parameters: {'changepoint_prior_scale': 0.010170800629294322, 'seasonality_prior_scale': 0.0585756361057963, 'holidays_prior_scale': 0.15463214569282616, 'n_changepoints': 63, 'country_name': 'RU', 'growth': 'linear', 'seasonality_mode': 'additive'}. Best is trial 43 with value: 0.07083619987497461.\n"
     ]
    },
    {
     "name": "stderr",
     "output_type": "stream",
     "text": [
      "INFO:fbprophet:Disabling daily seasonality. Run prophet with daily_seasonality=True to override this.\n",
      "INFO:fbprophet:Making 9 forecasts with cutoffs between 2010-02-10 00:00:00 and 2014-01-20 00:00:00\n"
     ]
    },
    {
     "name": "stdout",
     "output_type": "stream",
     "text": [
      "[I 2022-05-24 22:31:37,783] Trial 94 finished with value: 0.07569905953468221 and parameters: {'changepoint_prior_scale': 0.018777471452432623, 'seasonality_prior_scale': 0.13167035700677288, 'holidays_prior_scale': 0.03604934225407637, 'n_changepoints': 135, 'country_name': 'US', 'growth': 'linear', 'seasonality_mode': 'additive'}. Best is trial 43 with value: 0.07083619987497461.\n"
     ]
    },
    {
     "name": "stderr",
     "output_type": "stream",
     "text": [
      "INFO:fbprophet:Disabling daily seasonality. Run prophet with daily_seasonality=True to override this.\n",
      "INFO:fbprophet:Making 9 forecasts with cutoffs between 2010-02-10 00:00:00 and 2014-01-20 00:00:00\n"
     ]
    },
    {
     "name": "stdout",
     "output_type": "stream",
     "text": [
      "[I 2022-05-24 22:34:12,146] Trial 95 finished with value: 0.08056350958179997 and parameters: {'changepoint_prior_scale': 0.03138051717576522, 'seasonality_prior_scale': 0.02984559835952146, 'holidays_prior_scale': 0.12334757208112218, 'n_changepoints': 45, 'country_name': 'US', 'growth': 'linear', 'seasonality_mode': 'additive'}. Best is trial 43 with value: 0.07083619987497461.\n"
     ]
    },
    {
     "name": "stderr",
     "output_type": "stream",
     "text": [
      "INFO:fbprophet:Disabling daily seasonality. Run prophet with daily_seasonality=True to override this.\n",
      "INFO:fbprophet:Making 9 forecasts with cutoffs between 2010-02-10 00:00:00 and 2014-01-20 00:00:00\n"
     ]
    },
    {
     "name": "stdout",
     "output_type": "stream",
     "text": [
      "[I 2022-05-24 22:36:40,095] Trial 96 finished with value: 0.07333875725494031 and parameters: {'changepoint_prior_scale': 0.014619274437790736, 'seasonality_prior_scale': 0.8955956870988953, 'holidays_prior_scale': 0.19308916341295235, 'n_changepoints': 52, 'country_name': 'RU', 'growth': 'linear', 'seasonality_mode': 'multiplicative'}. Best is trial 43 with value: 0.07083619987497461.\n"
     ]
    },
    {
     "name": "stderr",
     "output_type": "stream",
     "text": [
      "INFO:fbprophet:Disabling daily seasonality. Run prophet with daily_seasonality=True to override this.\n",
      "INFO:fbprophet:Making 9 forecasts with cutoffs between 2010-02-10 00:00:00 and 2014-01-20 00:00:00\n"
     ]
    },
    {
     "name": "stdout",
     "output_type": "stream",
     "text": [
      "[I 2022-05-24 22:39:49,199] Trial 97 finished with value: 0.07750761245405657 and parameters: {'changepoint_prior_scale': 0.022508074024646815, 'seasonality_prior_scale': 0.0182667293831889, 'holidays_prior_scale': 0.04814730644575163, 'n_changepoints': 89, 'country_name': 'US', 'growth': 'linear', 'seasonality_mode': 'additive'}. Best is trial 43 with value: 0.07083619987497461.\n"
     ]
    },
    {
     "name": "stderr",
     "output_type": "stream",
     "text": [
      "INFO:fbprophet:Disabling daily seasonality. Run prophet with daily_seasonality=True to override this.\n",
      "INFO:fbprophet:Making 9 forecasts with cutoffs between 2010-02-10 00:00:00 and 2014-01-20 00:00:00\n"
     ]
    },
    {
     "name": "stdout",
     "output_type": "stream",
     "text": [
      "[I 2022-05-24 22:43:25,798] Trial 98 finished with value: 0.08151925788386137 and parameters: {'changepoint_prior_scale': 0.03923025034332925, 'seasonality_prior_scale': 0.10326355935652326, 'holidays_prior_scale': 0.01514914689021499, 'n_changepoints': 119, 'country_name': 'US', 'growth': 'linear', 'seasonality_mode': 'additive'}. Best is trial 43 with value: 0.07083619987497461.\n"
     ]
    },
    {
     "name": "stderr",
     "output_type": "stream",
     "text": [
      "INFO:fbprophet:Disabling daily seasonality. Run prophet with daily_seasonality=True to override this.\n",
      "INFO:fbprophet:Making 9 forecasts with cutoffs between 2010-02-10 00:00:00 and 2014-01-20 00:00:00\n"
     ]
    },
    {
     "name": "stdout",
     "output_type": "stream",
     "text": [
      "[I 2022-05-24 22:47:30,828] Trial 99 finished with value: 0.07553286052696179 and parameters: {'changepoint_prior_scale': 0.01646046301892561, 'seasonality_prior_scale': 0.04287237373222724, 'holidays_prior_scale': 0.02511265063958549, 'n_changepoints': 157, 'country_name': 'US', 'growth': 'linear', 'seasonality_mode': 'additive'}. Best is trial 43 with value: 0.07083619987497461.\n",
      "\n"
     ]
    }
   ],
   "source": [
    "study = optuna.create_study(direction=\"minimize\")\n",
    "study.optimize(func=Objective(df=df_train), n_trials=100, show_progress_bar=True, catch=(ValueError, ))"
   ]
  },
  {
   "cell_type": "code",
   "execution_count": 150,
   "id": "1020a2b2",
   "metadata": {
    "ExecuteTime": {
     "end_time": "2022-05-24T22:47:30.845331Z",
     "start_time": "2022-05-24T22:47:30.840818Z"
    }
   },
   "outputs": [
    {
     "data": {
      "text/plain": [
       "{'changepoint_prior_scale': 0.010151036982623709,\n",
       " 'seasonality_prior_scale': 0.42661825393586067,\n",
       " 'holidays_prior_scale': 0.010181244353269827,\n",
       " 'n_changepoints': 42,\n",
       " 'country_name': 'US',\n",
       " 'growth': 'linear',\n",
       " 'seasonality_mode': 'additive'}"
      ]
     },
     "execution_count": 150,
     "metadata": {},
     "output_type": "execute_result"
    }
   ],
   "source": [
    "study.best_params"
   ]
  },
  {
   "cell_type": "markdown",
   "id": "9c72990f",
   "metadata": {},
   "source": [
    "### Train the model and predict"
   ]
  },
  {
   "cell_type": "code",
   "execution_count": 154,
   "id": "62b575a7",
   "metadata": {
    "ExecuteTime": {
     "end_time": "2022-05-25T07:07:41.521074Z",
     "start_time": "2022-05-25T07:07:06.550660Z"
    }
   },
   "outputs": [
    {
     "name": "stderr",
     "output_type": "stream",
     "text": [
      "INFO:fbprophet:Disabling daily seasonality. Run prophet with daily_seasonality=True to override this.\n"
     ]
    }
   ],
   "source": [
    "model = Prophet(changepoint_prior_scale=study.best_params['changepoint_prior_scale'],\n",
    "                seasonality_prior_scale=study.best_params['seasonality_prior_scale'],\n",
    "                n_changepoints=study.best_params['n_changepoints'], \n",
    "                holidays_prior_scale=study.best_params['holidays_prior_scale'], \n",
    "                growth=study.best_params['growth'], \n",
    "                seasonality_mode=study.best_params['seasonality_mode'])\n",
    "model.add_country_holidays(country_name=study.best_params['country_name'])\n",
    "model.fit(df_train)\n",
    "\n",
    "future = model.make_future_dataframe(periods=cfg.prediction_period)\n",
    "forecast = model.predict(future)"
   ]
  },
  {
   "cell_type": "code",
   "execution_count": 155,
   "id": "52ff5923",
   "metadata": {
    "ExecuteTime": {
     "end_time": "2022-05-25T07:08:15.698043Z",
     "start_time": "2022-05-25T07:08:15.674541Z"
    }
   },
   "outputs": [
    {
     "data": {
      "text/html": [
       "<div>\n",
       "<style scoped>\n",
       "    .dataframe tbody tr th:only-of-type {\n",
       "        vertical-align: middle;\n",
       "    }\n",
       "\n",
       "    .dataframe tbody tr th {\n",
       "        vertical-align: top;\n",
       "    }\n",
       "\n",
       "    .dataframe thead th {\n",
       "        text-align: right;\n",
       "    }\n",
       "</style>\n",
       "<table border=\"1\" class=\"dataframe\">\n",
       "  <thead>\n",
       "    <tr style=\"text-align: right;\">\n",
       "      <th></th>\n",
       "      <th>ds</th>\n",
       "      <th>y</th>\n",
       "      <th>yhat</th>\n",
       "      <th>yhat_lower</th>\n",
       "      <th>yhat_upper</th>\n",
       "    </tr>\n",
       "  </thead>\n",
       "  <tbody>\n",
       "    <tr>\n",
       "      <th>360</th>\n",
       "      <td>2016-01-16</td>\n",
       "      <td>7.817223</td>\n",
       "      <td>8.533176</td>\n",
       "      <td>7.917278</td>\n",
       "      <td>9.242941</td>\n",
       "    </tr>\n",
       "    <tr>\n",
       "      <th>361</th>\n",
       "      <td>2016-01-17</td>\n",
       "      <td>9.273878</td>\n",
       "      <td>8.930926</td>\n",
       "      <td>8.284299</td>\n",
       "      <td>9.591518</td>\n",
       "    </tr>\n",
       "    <tr>\n",
       "      <th>362</th>\n",
       "      <td>2016-01-18</td>\n",
       "      <td>10.333775</td>\n",
       "      <td>9.423535</td>\n",
       "      <td>8.711302</td>\n",
       "      <td>10.100867</td>\n",
       "    </tr>\n",
       "    <tr>\n",
       "      <th>363</th>\n",
       "      <td>2016-01-19</td>\n",
       "      <td>9.125871</td>\n",
       "      <td>9.017478</td>\n",
       "      <td>8.406063</td>\n",
       "      <td>9.671888</td>\n",
       "    </tr>\n",
       "    <tr>\n",
       "      <th>364</th>\n",
       "      <td>2016-01-20</td>\n",
       "      <td>8.891374</td>\n",
       "      <td>8.858983</td>\n",
       "      <td>8.235565</td>\n",
       "      <td>9.472322</td>\n",
       "    </tr>\n",
       "  </tbody>\n",
       "</table>\n",
       "</div>"
      ],
      "text/plain": [
       "            ds          y      yhat  yhat_lower  yhat_upper\n",
       "360 2016-01-16   7.817223  8.533176    7.917278    9.242941\n",
       "361 2016-01-17   9.273878  8.930926    8.284299    9.591518\n",
       "362 2016-01-18  10.333775  9.423535    8.711302   10.100867\n",
       "363 2016-01-19   9.125871  9.017478    8.406063    9.671888\n",
       "364 2016-01-20   8.891374  8.858983    8.235565    9.472322"
      ]
     },
     "execution_count": 155,
     "metadata": {},
     "output_type": "execute_result"
    }
   ],
   "source": [
    "optimized_prediciton = df_val.merge(forecast[['ds', 'yhat', 'yhat_lower', 'yhat_upper']], how='left', on='ds')\n",
    "optimized_prediciton.tail()"
   ]
  },
  {
   "cell_type": "markdown",
   "id": "2f40d7f8",
   "metadata": {},
   "source": [
    "### Plot the results"
   ]
  },
  {
   "cell_type": "code",
   "execution_count": 156,
   "id": "3d9231ee",
   "metadata": {
    "ExecuteTime": {
     "end_time": "2022-05-25T07:08:18.248626Z",
     "start_time": "2022-05-25T07:08:17.874541Z"
    }
   },
   "outputs": [
    {
     "data": {
      "image/png": "[encoded data removed]",
      "text/plain": [
       "<Figure size 1152x288 with 1 Axes>"
      ]
     },
     "metadata": {
      "needs_background": "light"
     },
     "output_type": "display_data"
    }
   ],
   "source": [
    "with plt.style.context('bmh'):\n",
    "    fig, ax = plt.subplots(figsize=(16, 4))\n",
    "    ax.plot(df_val['ds'], df_val['y'], label=\"real values\", c='green', lw=1)\n",
    "    ax.plot(optimized_prediciton['ds'], optimized_prediciton['yhat'], label=\"predicted values\", c='red', lw=1)\n",
    "    ax.plot(optimized_prediciton['ds'], optimized_prediciton['yhat_lower'], label=\"lower border\", c='grey', lw=0.5, ls=':')\n",
    "    ax.plot(optimized_prediciton['ds'], optimized_prediciton['yhat_upper'], label=\"upper border\", c='grey', lw=0.5, ls=':')\n",
    "    ax.legend()\n",
    "    fig.show()"
   ]
  },
  {
   "cell_type": "markdown",
   "id": "8d781a07",
   "metadata": {},
   "source": [
    "### MAPE calculation"
   ]
  },
  {
   "cell_type": "code",
   "execution_count": 157,
   "id": "bfbcb3c3",
   "metadata": {
    "ExecuteTime": {
     "end_time": "2022-05-25T07:08:28.113556Z",
     "start_time": "2022-05-25T07:08:28.106619Z"
    }
   },
   "outputs": [
    {
     "name": "stdout",
     "output_type": "stream",
     "text": [
      "MAPE value is: 0.05\n"
     ]
    }
   ],
   "source": [
    "mape_optimized = mean_absolute_percentage_error(optimized_prediciton['y'], optimized_prediciton['yhat'])\n",
    "print('MAPE value is: {:.2f}'.format(mape_optimized))"
   ]
  },
  {
   "cell_type": "code",
   "execution_count": null,
   "id": "9acd24ee",
   "metadata": {},
   "outputs": [],
   "source": []
  }
 ],
 "metadata": {
  "kernelspec": {
   "display_name": "Base_python3.7_env",
   "language": "python",
   "name": "python3"
  },
  "language_info": {
   "codemirror_mode": {
    "name": "ipython",
    "version": 3
   },
   "file_extension": ".py",
   "mimetype": "text/x-python",
   "name": "python",
   "nbconvert_exporter": "python",
   "pygments_lexer": "ipython3",
   "version": "3.7.3"
  },
  "toc": {
   "base_numbering": 1,
   "nav_menu": {},
   "number_sections": true,
   "sideBar": true,
   "skip_h1_title": false,
   "title_cell": "Table of Contents",
   "title_sidebar": "Contents",
   "toc_cell": false,
   "toc_position": {},
   "toc_section_display": true,
   "toc_window_display": true
  }
 },
 "nbformat": 4,
 "nbformat_minor": 5
}
