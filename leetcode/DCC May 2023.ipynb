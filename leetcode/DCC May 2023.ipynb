{
 "cells": [
  {
   "attachments": {},
   "cell_type": "markdown",
   "metadata": {},
   "source": [
    "## Day 1 (Easy)\n",
    "\n",
    "### 1491. Average Salary Excluding the Minimum and Maximum Salary\n",
    "\n",
    "https://leetcode.com/problems/average-salary-excluding-the-minimum-and-maximum-salary/"
   ]
  },
  {
   "cell_type": "code",
   "execution_count": 14,
   "metadata": {},
   "outputs": [],
   "source": [
    "from typing import List\n",
    "\n",
    "\n",
    "class Solution:\n",
    "    def average_1(self, salary: List[int]) -> float:\n",
    "        \"\"\"\n",
    "        Runtime: 45 ms, faster than 5.49% of Python3 online submissions for Average Salary Excluding the Minimum and Maximum Salary.\n",
    "        Memory Usage: 16.3 MB, less than 8.21% of Python3 online submissions for Average Salary Excluding the Minimum and Maximum Salary.\n",
    "        \"\"\"\n",
    "        sum_ = 0\n",
    "        min_salary = float(\"inf\")\n",
    "        max_salary = float(\"-inf\")\n",
    "\n",
    "        for val in salary:\n",
    "            sum_ += val\n",
    "            min_salary = min(val, min_salary)\n",
    "            max_salary = max(val, max_salary)\n",
    "\n",
    "        return (sum_ - min_salary - max_salary) / (len(salary) - 2)\n",
    "\n",
    "    def average_2(self, salary: List[int]) -> float:\n",
    "        \"\"\"\n",
    "        Runtime: 39 ms, faster than 16.05% of Python3 online submissions for Average Salary Excluding the Minimum and Maximum Salary.\n",
    "        Memory Usage: 16.3 MB, less than 8.21% of Python3 online submissions for Average Salary Excluding the Minimum and Maximum Salary.   \n",
    "        \"\"\"\n",
    "        salary.sort()\n",
    "        return sum(salary[1:-1]) / (len(salary) - 2)"
   ]
  },
  {
   "cell_type": "code",
   "execution_count": 15,
   "metadata": {},
   "outputs": [],
   "source": [
    "s = Solution()\n",
    "\n",
    "assert s.average_1(salary=[4000, 3000, 1000, 2000]) == 2500\n",
    "assert s.average_1(salary=[1000, 2000, 3000]) == 2000\n",
    "\n",
    "assert s.average_2(salary=[4000, 3000, 1000, 2000]) == 2500\n",
    "assert s.average_2(salary=[1000, 2000, 3000]) == 2000"
   ]
  },
  {
   "attachments": {},
   "cell_type": "markdown",
   "metadata": {},
   "source": [
    "## Day 2 (Easy)\n",
    "\n",
    "### 1822. Sign of the Product of an Array\n",
    "\n",
    "https://leetcode.com/problems/sign-of-the-product-of-an-array/"
   ]
  },
  {
   "cell_type": "code",
   "execution_count": 11,
   "metadata": {},
   "outputs": [],
   "source": [
    "from typing import List\n",
    "\n",
    "\n",
    "class Solution:\n",
    "    def arraySign_v1(self, nums: List[int]) -> int:\n",
    "        \"\"\"\n",
    "        Runtime: 58 ms, faster than 81.11% of Python3 online submissions for Sign of the Product of an Array.\n",
    "        Memory Usage: 16.4 MB, less than 7.53% of Python3 online submissions for Sign of the Product of an Array.\n",
    "        \"\"\"\n",
    "        prod = 1\n",
    "        for num in nums:\n",
    "            if num == 0:\n",
    "                return 0\n",
    "\n",
    "            prod *= (num // abs(num))\n",
    "        return prod\n",
    "    \n",
    "    def arraySign_v2(self, nums: List[int]) -> int:\n",
    "        \"\"\"\n",
    "        Runtime: 68 ms, faster than 20.12% of Python3 online submissions for Sign of the Product of an Array.\n",
    "        Memory Usage: 16.4 MB, less than 7.53% of Python3 online submissions for Sign of the Product of an Array.       \n",
    "        \"\"\"\n",
    "        sign = 1\n",
    "        for num in nums:\n",
    "            if num == 0:\n",
    "                return 0\n",
    "            \n",
    "            elif num < 0:\n",
    "                sign = -sign\n",
    "        return sign"
   ]
  },
  {
   "cell_type": "code",
   "execution_count": 12,
   "metadata": {},
   "outputs": [],
   "source": [
    "s = Solution()\n",
    "\n",
    "assert s.arraySign_v1(nums=[-1, 1, -1, 1, -1]) == -1\n",
    "assert s.arraySign_v1(nums=[-1, -2, -3, -4, 3, 2, 1]) == 1\n",
    "assert s.arraySign_v1(nums=[1, 5, 0, 2, -3]) == 0\n",
    "\n",
    "assert s.arraySign_v2(nums=[-1, 1, -1, 1, -1]) == -1\n",
    "assert s.arraySign_v2(nums=[-1, -2, -3, -4, 3, 2, 1]) == 1\n",
    "assert s.arraySign_v2(nums=[1, 5, 0, 2, -3]) == 0"
   ]
  },
  {
   "cell_type": "code",
   "execution_count": null,
   "metadata": {},
   "outputs": [],
   "source": []
  }
 ],
 "metadata": {
  "kernelspec": {
   "display_name": ".venv",
   "language": "python",
   "name": "python3"
  },
  "language_info": {
   "codemirror_mode": {
    "name": "ipython",
    "version": 3
   },
   "file_extension": ".py",
   "mimetype": "text/x-python",
   "name": "python",
   "nbconvert_exporter": "python",
   "pygments_lexer": "ipython3",
   "version": "3.9.6"
  },
  "orig_nbformat": 4
 },
 "nbformat": 4,
 "nbformat_minor": 2
}
