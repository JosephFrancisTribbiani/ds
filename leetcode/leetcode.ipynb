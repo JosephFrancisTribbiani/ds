{
 "cells": [
  {
   "attachments": {},
   "cell_type": "markdown",
   "metadata": {},
   "source": [
    "### [1137. N-th Tribonacci Number](https://leetcode.com/problems/n-th-tribonacci-number/)"
   ]
  },
  {
   "cell_type": "code",
   "execution_count": 63,
   "metadata": {},
   "outputs": [],
   "source": [
    "class Solution:\n",
    "    def tribonacci_v1(self, n: int) -> int:\n",
    "        \"\"\"\n",
    "        Способ 1 (оптимальный)\n",
    "\n",
    "        Runtime: 23 ms, faster than 96.90% of Python3 online submissions for N-th Tribonacci Number.\n",
    "        Memory Usage: 13.8 MB, less than 46.08% of Python3 online submissions for N-th Tribonacci Number\n",
    "        \"\"\"\n",
    "        if n == 0:\n",
    "            return 0\n",
    "        \n",
    "        if n < 3:\n",
    "            return 1\n",
    "\n",
    "        a, b, c = 0, 1, 1\n",
    "        for i in range(n - 3):\n",
    "            a, b, c = b, c, a + b + c\n",
    "            \n",
    "        return a + b + c\n",
    "    \n",
    "    def tribonacci_v2(self, n: int) -> int:\n",
    "        \"\"\"\n",
    "        Способ 2. Пробуем использовать рекурсию.\n",
    "\n",
    "        Медленный способ, т.к. производит вычисление одних и тех же чисел Трибоначи множество раз.\n",
    "        \"\"\"\n",
    "        if n <= 0:\n",
    "            return 0\n",
    "        \n",
    "        if n < 3:\n",
    "            return 1\n",
    "        \n",
    "        a = self.tribonacci_v2(n=n - 1)\n",
    "        b = self.tribonacci_v2(n=n - 2)\n",
    "        c = self.tribonacci_v2(n=n - 3)\n",
    "        return a + b + c\n",
    "    "
   ]
  },
  {
   "attachments": {},
   "cell_type": "markdown",
   "metadata": {},
   "source": [
    "Тестируем"
   ]
  },
  {
   "cell_type": "code",
   "execution_count": 64,
   "metadata": {},
   "outputs": [
    {
     "name": "stdout",
     "output_type": "stream",
     "text": [
      "9.48 µs ± 553 ns per loop (mean ± std. dev. of 7 runs, 100,000 loops each)\n",
      "4.55 s ± 146 ms per loop (mean ± std. dev. of 7 runs, 1 loop each)\n"
     ]
    }
   ],
   "source": [
    "solution = Solution()\n",
    "\n",
    "assert solution.tribonacci_v1(n=0) == 0 \n",
    "assert solution.tribonacci_v1(n=1) == 1 \n",
    "assert solution.tribonacci_v1(n=2) == 1 \n",
    "assert solution.tribonacci_v1(n=3) == 2   # t0 + t1 + t2 = 0 + 1 + 1 = 2\n",
    "assert solution.tribonacci_v1(n=4) == 4   # t1 + t2 + t3 = 1 + 1 + 2 = 4\n",
    "assert solution.tribonacci_v1(n=5) == 7   # t2 + t3 + t4 = 1 + 2 + 4 = 7\n",
    "assert solution.tribonacci_v1(n=6) == 13  # t3 + t4 + t5 = 2 + 4 + 7 = 13\n",
    "%timeit assert solution.tribonacci_v1(n=25) == 1389537\n",
    "\n",
    "assert solution.tribonacci_v2(n=0) == 0 \n",
    "assert solution.tribonacci_v2(n=1) == 1 \n",
    "assert solution.tribonacci_v2(n=2) == 1 \n",
    "assert solution.tribonacci_v2(n=3) == 2   # t0 + t1 + t2 = 0 + 1 + 1 = 2\n",
    "assert solution.tribonacci_v2(n=4) == 4   # t1 + t2 + t3 = 1 + 1 + 2 = 4\n",
    "assert solution.tribonacci_v2(n=5) == 7   # t2 + t3 + t4 = 1 + 2 + 4 = 7\n",
    "assert solution.tribonacci_v2(n=6) == 13  # t3 + t4 + t5 = 2 + 4 + 7 = 13\n",
    "%timeit assert solution.tribonacci_v2(n=25) == 1389537"
   ]
  },
  {
   "attachments": {},
   "cell_type": "markdown",
   "metadata": {},
   "source": [
    "### [1646. Get Maximum in Generated Array](https://leetcode.com/problems/get-maximum-in-generated-array/)"
   ]
  },
  {
   "cell_type": "code",
   "execution_count": 82,
   "metadata": {},
   "outputs": [],
   "source": [
    "class Solution:\n",
    "    def getMaximumGenerated_v1(self, n: int) -> int:\n",
    "        \"\"\"\n",
    "        Способ 1\n",
    "\n",
    "        Runtime: 28 ms, faster than 86.97% of Python3 online submissions for Get Maximum in Generated Array.\n",
    "        Memory Usage: 13.7 MB, less than 94.33% of Python3 online submissions for Get Maximum in Generated Array.\n",
    "        \"\"\"\n",
    "        if n == 0:\n",
    "            return 0\n",
    "        \n",
    "        if n == 1:\n",
    "            return 1\n",
    "        \n",
    "        # генерируем массив\n",
    "        nums = [0] * (n + 1)\n",
    "        nums[1] = 1\n",
    "        max_val = 1\n",
    "    \n",
    "        for i in range(1, n // 2 + 1):\n",
    "            nums[2 * i] = nums[i]\n",
    "\n",
    "            if (2*i + 1) < len(nums):\n",
    "                nums[2 * i + 1] = nums[i] + nums[i + 1]\n",
    "                max_val = max(max_val, nums[2 * i + 1])\n",
    "\n",
    "        return max_val\n",
    "\n",
    "    def getMaximumGenerated_v2(self, n: int) -> int:\n",
    "        \"\"\"\n",
    "        Способ 2 (оптимальный)\n",
    "        \"\"\"\n",
    "        if n < 2:\n",
    "            return n\n",
    "        \n",
    "        # генерируем массив\n",
    "        nums = [0] * (n + 1)\n",
    "        nums[1] = 1\n",
    "        max_val = 1\n",
    "    \n",
    "        for i in range(2, n + 1):\n",
    "            if i%2 == 0:\n",
    "                nums[i] = nums[i//2]\n",
    "            else:\n",
    "                nums[i] = nums[i//2] + nums[i//2 + 1]\n",
    "                max_val = max(nums[i], max_val)\n",
    "        return max_val\n"
   ]
  },
  {
   "cell_type": "code",
   "execution_count": 83,
   "metadata": {},
   "outputs": [
    {
     "name": "stdout",
     "output_type": "stream",
     "text": [
      "81.5 µs ± 4.15 µs per loop (mean ± std. dev. of 7 runs, 10,000 loops each)\n",
      "71.9 µs ± 3.48 µs per loop (mean ± std. dev. of 7 runs, 10,000 loops each)\n"
     ]
    }
   ],
   "source": [
    "solution = Solution()\n",
    "\n",
    "assert solution.getMaximumGenerated_v1(n=0) == 0\n",
    "assert solution.getMaximumGenerated_v1(n=1) == 1\n",
    "assert solution.getMaximumGenerated_v1(n=2) == 1\n",
    "assert solution.getMaximumGenerated_v1(n=3) == 2\n",
    "%timeit assert solution.getMaximumGenerated_v1(n=99) == 21\n",
    "\n",
    "assert solution.getMaximumGenerated_v2(n=0) == 0\n",
    "assert solution.getMaximumGenerated_v2(n=1) == 1\n",
    "assert solution.getMaximumGenerated_v2(n=2) == 1\n",
    "assert solution.getMaximumGenerated_v2(n=3) == 2\n",
    "%timeit assert solution.getMaximumGenerated_v2(n=99) == 21"
   ]
  },
  {
   "attachments": {},
   "cell_type": "markdown",
   "metadata": {},
   "source": [
    "### [1857. Largest Color Value in a Directed Graph](https://leetcode.com/problems/largest-color-value-in-a-directed-graph/solution/)"
   ]
  },
  {
   "attachments": {},
   "cell_type": "markdown",
   "metadata": {},
   "source": [
    "Сначала напишем код топологической сортировки графа"
   ]
  },
  {
   "attachments": {},
   "cell_type": "markdown",
   "metadata": {},
   "source": [
    "### Алгоритм топологической сортировки Кана"
   ]
  },
  {
   "attachments": {},
   "cell_type": "markdown",
   "metadata": {},
   "source": [
    "<img src=\"./images/topological_sort_Kahn.jpg\">"
   ]
  },
  {
   "cell_type": "code",
   "execution_count": 90,
   "metadata": {},
   "outputs": [
    {
     "data": {
      "text/plain": [
       "[2, 0, 4, 3, 5, 1]"
      ]
     },
     "execution_count": 90,
     "metadata": {},
     "output_type": "execute_result"
    }
   ],
   "source": [
    "from collections import defaultdict, deque\n",
    "\n",
    "\n",
    "# class to represent the Graph\n",
    "class Graph:\n",
    "    def __init__(self, n_vert):\n",
    "        self.graph = defaultdict(list)  # словарик, содержащий список смежности\n",
    "        self.n_vert = n_vert  # количество вершин в графе\n",
    "\n",
    "    def add_edge(self, u, v):\n",
    "        \"\"\"\n",
    "        Добавление ребра в граф\n",
    "        :param u: вершина, из которой выходит ребро\n",
    "        :param v: вершина, в которую ребро входит\n",
    "        \"\"\"\n",
    "        self.graph[u].append(v)\n",
    "        return\n",
    "    \n",
    "    def topological_sort(self):\n",
    "        \"\"\"\n",
    "        Функция топологической сортировки\n",
    "        \"\"\"\n",
    "        # создадим вектор, который хранит количество входящих ребер\n",
    "        # инициализируем вектор 0\n",
    "        in_degree = [0]*(self.n_vert)\n",
    "\n",
    "        # итерируемся по списку смежности и \n",
    "        # считаем количество входящих вершин\n",
    "        # (заполняем вектор, созданный выше)\n",
    "        # сложность по времени данного шага O(V + E)\n",
    "        for v_from in self.graph:\n",
    "            for v_to in self.graph[v_from]:\n",
    "                in_degree[v_to] += 1\n",
    "\n",
    "        # создаем очередь и добавляем в очередь вершины\n",
    "        # которые содержат 0 входящих ребер\n",
    "        q = deque()\n",
    "        for i in range(self.n_vert):\n",
    "            if in_degree[i] == 0:\n",
    "                q.append(i)\n",
    "\n",
    "        # инициализируем счетчик количества посещенных вершин\n",
    "        cnt = 0\n",
    "\n",
    "        # создаем упорядоченный список, являющий целью топологической сортировки\n",
    "        top_order = []\n",
    "\n",
    "        while q:\n",
    "            \n",
    "            # извлекаем вершину из очереди\n",
    "            # добавляем в упорядоченный список\n",
    "            u = q.popleft()\n",
    "            top_order.append(u)\n",
    "\n",
    "            # перебрать все соседние узлы исключенного из \n",
    "            # очереди узла u уменьшить их степень на 1\n",
    "            for i in self.graph[u]:\n",
    "                in_degree[i] -= 1\n",
    "                # если степень входа становится равной нулю, добавьте ее в очередь\n",
    "                if in_degree[i] == 0:\n",
    "                    q.append(i)\n",
    "\n",
    "            cnt += 1\n",
    "\n",
    "        # проверить, был ли цикл\n",
    "        # если был, то возвращаем -1\n",
    "        if cnt != self.n_vert:\n",
    "            print(\"There exists a cycle in the graph\")\n",
    "            return -1\n",
    "       \n",
    "        return top_order\n",
    "    \n",
    "\n",
    "g = Graph(n_vert=6)\n",
    "g.add_edge(0, 1)\n",
    "g.add_edge(0, 3)\n",
    "g.add_edge(2, 0)\n",
    "g.add_edge(2, 4)\n",
    "g.add_edge(3, 1)\n",
    "g.add_edge(4, 3)\n",
    "g.add_edge(4, 5)\n",
    "g.add_edge(5, 1)\n",
    "\n",
    "g.topological_sort()"
   ]
  },
  {
   "attachments": {},
   "cell_type": "markdown",
   "metadata": {},
   "source": [
    "Попробуем теперь решить задачку"
   ]
  },
  {
   "cell_type": "code",
   "execution_count": 177,
   "metadata": {},
   "outputs": [],
   "source": [
    "from collections import defaultdict, deque\n",
    "\n",
    "\n",
    "class Solution:\n",
    "    def largestPathValue(self, colors: str, edges: list) -> int:\n",
    "        g = Graph(colors=colors, edges=edges)\n",
    "        return g.topological_sort()\n",
    "\n",
    "\n",
    "class Graph:\n",
    "    def __init__(self, colors: str, edges: list) -> None:\n",
    "        self.n = len(colors)\n",
    "        self.graph = defaultdict(list)\n",
    "        self.colors = list(colors)\n",
    "        self.color_map = [[0]*26 for _ in range(self.n)]\n",
    "        for v_from, v_to in edges:\n",
    "            self.add_edge(v_from, v_to)\n",
    "\n",
    "    def add_edge(self, u, v) -> None:\n",
    "        self.graph[u].append(v)\n",
    "        return\n",
    "    \n",
    "    def topological_sort(self):\n",
    "        in_degree = [0]*self.n\n",
    "\n",
    "        for v_from in self.graph:\n",
    "            for v_to in self.graph[v_from]:\n",
    "                in_degree[v_to] += 1\n",
    "\n",
    "        q = deque()\n",
    "        for i in range(self.n):\n",
    "            if in_degree[i] == 0:\n",
    "                q.append(i)\n",
    "\n",
    "        top_order = []\n",
    "\n",
    "        cnt = 0\n",
    "\n",
    "        while q:\n",
    "            u = q.popleft()\n",
    "            top_order.append(u)\n",
    "\n",
    "            # получаем порядковый номер буквы для текущей вершины\n",
    "            # инкрементируем цвет для текущей вершины\n",
    "            char_id = ord(self.colors[u]) - 97\n",
    "            self.color_map[u][char_id] += 1\n",
    "\n",
    "            for i in self.graph[u]:\n",
    "\n",
    "                # для следующей вершины корректируем вектор цветов\n",
    "                for c in range(26):\n",
    "                    self.color_map[i][c] = max(self.color_map[i][c], self.color_map[u][c])\n",
    "\n",
    "                in_degree[i] -= 1\n",
    "                if in_degree[i] == 0:\n",
    "                    q.append(i)\n",
    "\n",
    "            cnt += 1\n",
    "\n",
    "        if cnt != self.n:\n",
    "            return -1\n",
    "        \n",
    "        return max(map(max, self.color_map))\n"
   ]
  },
  {
   "cell_type": "code",
   "execution_count": 178,
   "metadata": {},
   "outputs": [],
   "source": [
    "s = Solution()\n",
    "\n",
    "assert s.largestPathValue(colors=\"abaca\", edges=[(0, 1), (0, 2), (2, 3), (3, 4)]), 3\n",
    "assert s.largestPathValue(colors=\"a\", edges=[[0,0]]), -1\n",
    "assert s.largestPathValue(colors=\"abca\", edges=[]), 1"
   ]
  },
  {
   "attachments": {},
   "cell_type": "markdown",
   "metadata": {},
   "source": [
    "Можно еще попробовать решить задачу другим способом - с помощью DFS алгоритма (на будущее)."
   ]
  },
  {
   "attachments": {},
   "cell_type": "markdown",
   "metadata": {},
   "source": [
    "### [20. Valid Parentheses](https://leetcode.com/problems/valid-parentheses/)"
   ]
  },
  {
   "cell_type": "code",
   "execution_count": 104,
   "metadata": {},
   "outputs": [],
   "source": [
    "class Solution:\n",
    "    def isValid_v1(self, s: str) -> bool:\n",
    "        stack = []\n",
    "        for p in s:\n",
    "            if p in [\"(\", \"[\", \"{\"]:\n",
    "                stack.append(p)\n",
    "            else:\n",
    "                if len(stack) == 0:\n",
    "                    return False\n",
    "\n",
    "                open_p = stack.pop()\n",
    "                if (p == \")\" and open_p == \"(\") or (p == \"]\" and open_p == \"[\") or (p == \"}\" and open_p == \"{\"):\n",
    "                    continue\n",
    "                else:\n",
    "                    return False\n",
    "        if len(stack) > 0:\n",
    "            return False\n",
    "        return True\n",
    "\n",
    "    def isValid_v2(self, s: str) -> bool:\n",
    "        dic = {'(':')' , '[':']' , '{':'}'}\n",
    "        res = []\n",
    "        for c in s:\n",
    "            if c in dic:\n",
    "                res.append(c)\n",
    "            else:\n",
    "                if (len(res) and dic[res[-1]] == c):\n",
    "                    res.pop()\n",
    "                else:\n",
    "                    return False\n",
    "        return res == []       \n",
    "            \n",
    "\n",
    "s = Solution()\n",
    "\n",
    "assert s.isValid_v1(\"()\") == True\n",
    "assert s.isValid_v1(\"()[]{}\") == True\n",
    "assert s.isValid_v1(\"(]\") == False\n",
    "assert s.isValid_v1(\"([]{[]})\") == True\n",
    "assert s.isValid_v1(\"([]{[]}})\") == False\n",
    "assert s.isValid_v1(\"([]\") == False\n",
    "assert s.isValid_v1(\"(\") == False\n",
    "assert s.isValid_v1(\"]\") == False\n",
    "\n",
    "assert s.isValid_v2(\"()\") == True\n",
    "assert s.isValid_v2(\"()[]{}\") == True\n",
    "assert s.isValid_v2(\"(]\") == False\n",
    "assert s.isValid_v2(\"([]{[]})\") == True\n",
    "assert s.isValid_v2(\"([]{[]}})\") == False\n",
    "assert s.isValid_v2(\"([]\") == False\n",
    "assert s.isValid_v2(\"(\") == False\n",
    "assert s.isValid_v2(\"]\") == False"
   ]
  },
  {
   "attachments": {},
   "cell_type": "markdown",
   "metadata": {},
   "source": [
    "### [22. Generate Parentheses](https://leetcode.com/problems/generate-parentheses/)"
   ]
  },
  {
   "cell_type": "code",
   "execution_count": 229,
   "metadata": {},
   "outputs": [],
   "source": [
    "from collections import deque\n",
    "\n",
    "\n",
    "class Solution:\n",
    "    def __init(self, ):\n",
    "        pass\n",
    "\n",
    "    def generateParenthesis(self, n: int):\n",
    "        \"\"\"\n",
    "        Генерируем все возможные варианты и проверяем, удовлетворяет ли условию \"правильности\" расположения скобок\n",
    "        :param n: количество пар скобок\n",
    "        \"\"\"\n",
    "        return self.generate_(n=n)\n",
    "\n",
    "\n",
    "    def generate_(self, n: int):\n",
    "        \"\"\"\n",
    "        Функцкия, генерирующая все возможные валидные комбинации скобок длины n*2\n",
    "        :param n: количество пар скобок\n",
    "        \"\"\"\n",
    "        if n == 0:\n",
    "            return []\n",
    "\n",
    "        q = deque()\n",
    "        q.append(\"(\")\n",
    "        q.append(\")\")\n",
    "        ans = []\n",
    "\n",
    "        while q:\n",
    "            seq = q.popleft()\n",
    "\n",
    "            if len(seq) < n*2:\n",
    "                q.append(\"(\" + seq)\n",
    "                q.append(\")\" + seq)\n",
    "\n",
    "            elif self.valid_(seq):\n",
    "                ans.append(seq)\n",
    "        return ans\n",
    "\n",
    "    @staticmethod\n",
    "    def valid_(s: str) -> bool:\n",
    "        \"\"\"\n",
    "        Функция проверки верности расположения скобок\n",
    "        Т.е. если скобка открыта, то она должна быть потом закрыта\n",
    "        \"\"\"\n",
    "        res = 0\n",
    "        for c in s:\n",
    "            if c == \"(\":\n",
    "                res += 1\n",
    "            else:\n",
    "                res -= 1\n",
    "            if res < 0:\n",
    "                return False\n",
    "        return res == 0\n"
   ]
  },
  {
   "cell_type": "code",
   "execution_count": 230,
   "metadata": {},
   "outputs": [],
   "source": [
    "s = Solution()\n",
    "\n",
    "assert s.valid_(s=\"(\") == False\n",
    "assert s.valid_(s=\")\") == False\n",
    "assert s.valid_(s=\"())\") == False\n",
    "assert s.valid_(s=\"()()\") == True\n",
    "\n",
    "assert s.generateParenthesis(n=1) == [\"()\"]\n",
    "assert set(s.generateParenthesis(n=2)) == set([\"()()\", \"(())\"])\n",
    "assert set(s.generateParenthesis(n=3)) == set([\"((()))\",\"(()())\",\"(())()\",\"()(())\",\"()()()\"])"
   ]
  },
  {
   "attachments": {},
   "cell_type": "markdown",
   "metadata": {},
   "source": [
    "### [2390. Removing Stars From a String](https://leetcode.com/problems/removing-stars-from-a-string/)"
   ]
  },
  {
   "cell_type": "code",
   "execution_count": 34,
   "metadata": {},
   "outputs": [],
   "source": [
    "class Solution:\n",
    "    def removeStars(self, s: str) -> str:\n",
    "        ans = []\n",
    "        for ch in s:\n",
    "            if ch == \"*\":\n",
    "                ans.pop()\n",
    "            else:\n",
    "                ans.append(ch)\n",
    "    \n",
    "        return \"\".join(ans)\n",
    "\n",
    "\n",
    "s = Solution()\n",
    "\n",
    "assert s.removeStars(s=\"leet**cod*e\") == \"lecoe\"\n",
    "assert s.removeStars(s=\"erase*****\") == \"\"\n",
    "assert s.removeStars(s=\"leet**cod*\") == \"leco\"\n",
    "assert s.removeStars(s=\"abb*cdfg*****x*\") == \"a\""
   ]
  },
  {
   "attachments": {},
   "cell_type": "markdown",
   "metadata": {},
   "source": [
    "Также можно реализовать подход с двумя указателями"
   ]
  },
  {
   "attachments": {},
   "cell_type": "markdown",
   "metadata": {},
   "source": [
    "### [71. Simplify Path](https://leetcode.com/problems/simplify-path/)"
   ]
  },
  {
   "cell_type": "code",
   "execution_count": 10,
   "metadata": {},
   "outputs": [],
   "source": [
    "class Solution:\n",
    "    def simplifyPath(self, path: str) -> str:\n",
    "        can_path = []\n",
    "\n",
    "        for elem in path.split(\"/\"):\n",
    "            if elem == \"..\":\n",
    "                if len(can_path) > 0:\n",
    "                    can_path.pop()\n",
    "            elif elem and not elem == \".\":\n",
    "                can_path.append(elem)\n",
    "\n",
    "        return \"/\" + \"/\".join(can_path)\n"
   ]
  },
  {
   "cell_type": "code",
   "execution_count": 15,
   "metadata": {},
   "outputs": [],
   "source": [
    "s = Solution()\n",
    "\n",
    "assert s.simplifyPath(path=\"/home/\") == \"/home\"\n",
    "assert s.simplifyPath(path=\"/../\") == \"/\"\n",
    "assert s.simplifyPath(path=\"/home//foo/\") == \"/home/foo\"\n",
    "assert s.simplifyPath(path=\"/\") == \"/\"\n",
    "assert s.simplifyPath(path=\"//\") == \"/\"\n",
    "assert s.simplifyPath(path=\"//../\") == \"/\"\n",
    "assert s.simplifyPath(path=\"//..\") == \"/\"\n",
    "assert s.simplifyPath(path=\"//home/data/../\") == \"/home\"\n",
    "assert s.simplifyPath(path=\"//home/data/.././\") == \"/home\""
   ]
  },
  {
   "attachments": {},
   "cell_type": "markdown",
   "metadata": {},
   "source": [
    "### [516. Longest Palindromic Subsequence](https://leetcode.com/problems/longest-palindromic-subsequence/)"
   ]
  },
  {
   "attachments": {},
   "cell_type": "markdown",
   "metadata": {},
   "source": [
    "#### Approach 1: Recursive Dynamic Programming"
   ]
  },
  {
   "attachments": {},
   "cell_type": "markdown",
   "metadata": {},
   "source": [
    "Итерируемся рекурсивно\n",
    "\n",
    "\n",
    "\n",
    "1. Инициализируем два указателя - `l = 0` и `r = len(s) - 1`\n",
    "2. Запускаем функцию `LPS(l, r)`\n",
    "3. Если `s[l] == s[r]`, то длина строки уже как минимум 2. Возвращаем `2 + LPS(l + 1, r - 1)`.  \n",
    "   Если `s[l] != s[r]`, то запускаем `LPS` для подстрок и возвращаем их максимум - `max(LPS(l + 1, r), LPS(l, r - 1))`  \n",
    "   Если `l == r`, то два указателя сошлись в одном символе, который также будет частью полиндрома (например в случае **a**b**a**)  \n",
    "   Если `l > r` (т.е. указатели пролетели друг друга), то возвращаем 0\n",
    "\n",
    "Тут еще важно сделать следующее замечание, что мы можем проверять одни и те же подстроки по некольку раз, если не сделаем \"меморизацию\". Например, строка `abcdef` в случае рекурсии разобьется на подстроки `abcde` и `bcdef`, которые содержат одинаковые подстроки и если мы не сделаем \"меморизацию\", то будем проверять эти подстроки по несколку раз."
   ]
  },
  {
   "attachments": {},
   "cell_type": "markdown",
   "metadata": {},
   "source": [
    "<img src=\"./images/lps_app_1.jpg\">"
   ]
  },
  {
   "cell_type": "code",
   "execution_count": 10,
   "metadata": {},
   "outputs": [],
   "source": [
    "class Solution:\n",
    "    def longestPalindromeSubseq(self, s: str):\n",
    "        self.memo = {}\n",
    "        return self.longestPalindromeSubseq_(s=s, l=0, r=len(s) - 1)\n",
    "\n",
    "    def longestPalindromeSubseq_(self, s: str, l: int, r: int) -> int:\n",
    "        if self.memo.get((l, r)):\n",
    "            return self.memo[(l, r)]\n",
    "\n",
    "        if l > r:\n",
    "            return 0\n",
    "        \n",
    "        if l == r:\n",
    "            return 1\n",
    "\n",
    "        if s[l] == s[r]:\n",
    "            self.memo[(l, r)] = 2 + self.longestPalindromeSubseq_(s=s, l=l + 1, r=r - 1)\n",
    "        else:\n",
    "            self.memo[(l, r)] = max(\n",
    "                self.longestPalindromeSubseq_(s=s, l=l + 1, r=r), \n",
    "                self.longestPalindromeSubseq_(s=s, l=l, r=r - 1)\n",
    "                )\n",
    "        return self.memo[(l, r)]\n"
   ]
  },
  {
   "cell_type": "code",
   "execution_count": 12,
   "metadata": {},
   "outputs": [],
   "source": [
    "s = Solution()\n",
    "\n",
    "assert s.longestPalindromeSubseq(s=\"bbbab\") == 4    # bbbb\n",
    "assert s.longestPalindromeSubseq(s=\"cbbd\") == 2     # bb\n",
    "assert s.longestPalindromeSubseq(s=\"bab\") == 3      # bb"
   ]
  },
  {
   "attachments": {},
   "cell_type": "markdown",
   "metadata": {},
   "source": [
    "#### Approach 2: Iterative Dynamic Programming"
   ]
  },
  {
   "attachments": {},
   "cell_type": "markdown",
   "metadata": {},
   "source": [
    "Абсолютно аналогично предыдущему методу, но вместо рекурсии - будем итерироваться по подстрокам и хранить максимальное значение длины полиндрома для них в матрице `N x N`."
   ]
  },
  {
   "attachments": {},
   "cell_type": "markdown",
   "metadata": {},
   "source": [
    "```python\n",
    "s = \"bbbab\"\n",
    "\n",
    "dp:\n",
    "    0  1  2  3  4\n",
    "0 | 1, 2, 3, 3, 4\n",
    "1 | 0, 1, 2, 2, 3\n",
    "2 | 0, 0, 1, 1, 3\n",
    "3 | 0, 0, 0, 1, 1\n",
    "4 | 0, 0, 0, 0, 1\n",
    "```"
   ]
  },
  {
   "cell_type": "code",
   "execution_count": 24,
   "metadata": {},
   "outputs": [],
   "source": [
    "class Solution:\n",
    "    def longestPalindromeSubseq(self, s: str) -> int:\n",
    "        n = len(s)\n",
    "        dp = [[0]*n for _ in range(n)]\n",
    "        for i in range(n - 1, -1, -1):\n",
    "            dp[i][i] = 1\n",
    "            for j in range(i + 1, n):\n",
    "                if s[i] == s[j]:\n",
    "                    dp[i][j] = 2 + dp[i + 1][j - 1]\n",
    "                else:\n",
    "                    dp[i][j] = max(dp[i + 1][j], dp[i][j - 1])\n",
    "        return dp[0][n - 1]"
   ]
  },
  {
   "cell_type": "code",
   "execution_count": 25,
   "metadata": {},
   "outputs": [],
   "source": [
    "s = Solution()\n",
    "\n",
    "assert s.longestPalindromeSubseq(s=\"bbbab\") == 4    # bbbb\n",
    "assert s.longestPalindromeSubseq(s=\"cbbd\") == 2     # bb\n",
    "assert s.longestPalindromeSubseq(s=\"bab\") == 3      # bb"
   ]
  },
  {
   "attachments": {},
   "cell_type": "markdown",
   "metadata": {},
   "source": [
    "#### Approach 3: Dynamic Programming with Space Optimization\n",
    "\n",
    "Этот подход можно улучшить, если хранить не всю матрицу `N x N`, а только два вектора длины `N`. Поэтому просто немного перепишем код выше."
   ]
  },
  {
   "cell_type": "code",
   "execution_count": 34,
   "metadata": {},
   "outputs": [],
   "source": [
    "class Solution:\n",
    "    def longestPalindromeSubseq(self, s: str) -> int:\n",
    "        n = len(s)\n",
    "        curr, prev = [0]*n, [0]*n\n",
    "        for i in range(n - 1, -1, -1):\n",
    "            curr[i] = 1\n",
    "            for j in range(i + 1, n):\n",
    "                if s[i] == s[j]:\n",
    "                    curr[j] = 2 + prev[j - 1]\n",
    "                else:\n",
    "                    curr[j] = max(prev[j], curr[j - 1])\n",
    "            prev = curr[:]\n",
    "        return curr[-1]"
   ]
  },
  {
   "cell_type": "code",
   "execution_count": 35,
   "metadata": {},
   "outputs": [],
   "source": [
    "s = Solution()\n",
    "\n",
    "assert s.longestPalindromeSubseq(s=\"bbbab\") == 4    # bbbb\n",
    "assert s.longestPalindromeSubseq(s=\"cbbd\") == 2     # bb\n",
    "assert s.longestPalindromeSubseq(s=\"bab\") == 3      # bb"
   ]
  },
  {
   "attachments": {},
   "cell_type": "markdown",
   "metadata": {},
   "source": [
    "### [946. Validate Stack Sequences](https://leetcode.com/problems/validate-stack-sequences/)"
   ]
  },
  {
   "cell_type": "code",
   "execution_count": 36,
   "metadata": {},
   "outputs": [],
   "source": [
    "from typing import List\n",
    "\n",
    "\n",
    "class Solution:\n",
    "    def validateStackSequences(self, pushed: List[int], popped: List[int]) -> bool:\n",
    "        j = 0\n",
    "        stack = []\n",
    "        for push in pushed:\n",
    "            stack.append(push)\n",
    "            while stack and len(popped) > j and stack[-1] == popped[j]:\n",
    "                stack.pop()\n",
    "                j += 1\n",
    "        return j == len(popped)"
   ]
  },
  {
   "cell_type": "code",
   "execution_count": 38,
   "metadata": {},
   "outputs": [],
   "source": [
    "s = Solution()\n",
    "\n",
    "assert s.validateStackSequences(pushed=[1, 2, 3, 4, 5], popped=[4, 5, 3, 2, 1]) == True\n",
    "assert s.validateStackSequences(pushed=[1, 2, 3, 4, 5], popped=[4, 3, 5, 1, 2]) == False"
   ]
  },
  {
   "attachments": {},
   "cell_type": "markdown",
   "metadata": {},
   "source": [
    "### [1431. Kids With the Greatest Number of Candies](https://leetcode.com/problems/kids-with-the-greatest-number-of-candies/)"
   ]
  },
  {
   "cell_type": "code",
   "execution_count": 3,
   "metadata": {},
   "outputs": [],
   "source": [
    "from typing import List\n",
    "\n",
    "\n",
    "class Solution:\n",
    "    def kidsWithCandies(self, candies: List[int], extraCandies: int) -> List[bool]:\n",
    "        max_cand = max(candies)\n",
    "        return [n_candies + extraCandies >= max_cand for n_candies in candies]"
   ]
  },
  {
   "cell_type": "code",
   "execution_count": 6,
   "metadata": {},
   "outputs": [],
   "source": [
    "s = Solution()\n",
    "\n",
    "assert s.kidsWithCandies(candies=[2, 3, 5, 1, 3], extraCandies=3) == [True, True, True, False, True]\n",
    "assert s.kidsWithCandies(candies=[4, 2, 1, 1, 2], extraCandies=1) == [True, False, False, False, False]\n",
    "assert s.kidsWithCandies(candies=[12, 1, 12], extraCandies=10) == [True, False, True]"
   ]
  },
  {
   "attachments": {},
   "cell_type": "markdown",
   "metadata": {},
   "source": [
    "### [1768. Merge Strings Alternately](https://leetcode.com/problems/merge-strings-alternately/)"
   ]
  },
  {
   "cell_type": "code",
   "execution_count": 18,
   "metadata": {},
   "outputs": [],
   "source": [
    "class Solution:\n",
    "    def mergeAlternately(self, word1: str, word2: str) -> str:\n",
    "        l1, l2 = len(word1), len(word2)\n",
    "        p1, p2 = 1, 0\n",
    "        result = [None]*(l1+l2)\n",
    "        result[0] = word1[0]\n",
    "        \n",
    "        while p1 < l1 or p2 < l2:\n",
    "\n",
    "            if p2 < l2:\n",
    "                result[p1 + p2] = word2[p2]\n",
    "                p2 += 1\n",
    "\n",
    "            if p1 < l1:\n",
    "                result[p1 + p2] = word1[p1]\n",
    "                p1 += 1\n",
    "\n",
    "        return \"\".join(result)"
   ]
  },
  {
   "cell_type": "code",
   "execution_count": 19,
   "metadata": {},
   "outputs": [],
   "source": [
    "s = Solution()\n",
    "\n",
    "assert s.mergeAlternately(word1=\"abc\", word2=\"pqr\") == \"apbqcr\"\n",
    "assert s.mergeAlternately(word1=\"ab\", word2=\"pqrs\") == \"apbqrs\"\n",
    "assert s.mergeAlternately(word1=\"abcd\", word2=\"pq\") == \"apbqcd\""
   ]
  },
  {
   "attachments": {},
   "cell_type": "markdown",
   "metadata": {},
   "source": [
    "### [2218. Maximum Value of K Coins From Piles](https://leetcode.com/problems/maximum-value-of-k-coins-from-piles/solution/)"
   ]
  },
  {
   "attachments": {},
   "cell_type": "markdown",
   "metadata": {},
   "source": [
    "#### Approach 1: Bottom-up Dynamic Programming"
   ]
  },
  {
   "cell_type": "code",
   "execution_count": 46,
   "metadata": {},
   "outputs": [],
   "source": [
    "from typing import List\n",
    "\n",
    "\n",
    "class Solution:\n",
    "    def maxValueOfCoins(self, piles: List[List[int]], k: int) -> int:\n",
    "        # строим матрицу - столбцы - количество монет, которые мы можем взять (от 0 - ни одной монеты, до k - максимальное количество монет, которое позволено нам взять)\n",
    "        #                  строки - количество столбиков с монетами (от 0 - ни одной стопки, до len(piles) - количество стопок, имеющихся в распоряжении)\n",
    "        total_piles = len(piles)\n",
    "        dp = [[0]*(k + 1) for _ in range(total_piles + 1)]\n",
    "        # прибавили к k и n_piles по 1-ке, т.к. добавили, когда нет ни одной стопки или нельзя взять ни одной монеты\n",
    "        # понятное дело, что строка 0 в матрице заполнена нулями, т.к. если 0 стопок, то неважно, сколько монет мы можем взять - итоговая сумма будет равна 0\n",
    "        #                    столбец 0 в матрице также заполнен нулями, т.к. если мы не можем взять ни одной монеты, то итоговая сумма будет 0\n",
    "        # идея динамического программирования в данном случае находить оптимальное решение на каждом шаге:\n",
    "        #   шаг 1   - 0 монет мы можем взять из 1-ой стопки\n",
    "        #   шаг 2   - 1 монету мы можем взять из 1-ой стопки\n",
    "        #       ............\n",
    "        #   шаг ... - max(k, len(1-ой стопки)) монет мы можем взять из 1-ой стопки (берем максимальное значение между количеством монет, которые мы можем взять и размером стопки, т.к.\n",
    "        #                                                                           может получиться так, что монет в стопке меньше, чем мы можем взять)\n",
    "        #   шаг ... - добавляем вторую стопку. Решаем задачу - 0 монет из второй стопки, остальные из 1-ой\n",
    "        #   шаг ... - 1 монету из второй стопки, остальные из 1-ой\n",
    "        #       ............\n",
    "        #   шаг ... - 0 монет из i-ой стопки, остальные из предыдущих (i - 1) стопок (а оптимальное решение для (i - 1) стопок и оставшегося количества монет (k - 0) мы уже \n",
    "        #                                                                             нашли на предыдущих шагах и сохранили в матрицу)\n",
    "        #   шаг ... - 1 монету из i-ой стопки, остальные из предыдущих (i - 1) стопок (а оптимальное решение для (i - 1) стопок и оставшегося количества монет (k - 1) мы уже \n",
    "        #                                                                              нашли на предыдущих шагах и сохранили в матрицу)\n",
    "\n",
    "        # итерируемся по стопкам (по сути, добавляя по одной к задаче DP)\n",
    "        # total_piles - сколко всего стопок\n",
    "        # n_piles - сколько стопок мы рассматриваем в данный момент (постепенно добавляя по одной)\n",
    "        # n_piles = 0 нас не интересует, т.к. там и так все нули\n",
    "        # n_piles - это индекс строки в матрице dp\n",
    "        for n_piles in range(1, total_piles + 1):\n",
    "\n",
    "            # итерируемся по количеству монет, которое мы можем взять (постепенно добавляя по одной) \n",
    "            # n_coins_max - это индекс столбца в матрице dp\n",
    "            for n_coins_max in range(0, k + 1):\n",
    "\n",
    "                # итерируем по количеству монет, которое мы можем взять из данной стопки (от 0 до min(n_coins_max, curr_pile_len))\n",
    "                # curr_pile_len - размер текущей стопки, которую мы только что добавили к остальным на шаге DP\n",
    "                curr_pile_len = len(piles[n_piles - 1])\n",
    "                # max_coins_from_pile - максимальное количество монет, которое мы можем взять из текущей стопки\n",
    "                max_coins_from_pile = min(curr_pile_len, n_coins_max)\n",
    "                # cum_sum - сумма, которая, которая получается, если мы возьмем n_coins_from_pile монет\n",
    "                #           естественно, cum_sum = 0, если мы берем 0 монет из текущей стопки\n",
    "                cum_sum = 0\n",
    "                for n_coins_from_pile in range(0, max_coins_from_pile + 1):\n",
    "\n",
    "                    if n_coins_from_pile > 0:\n",
    "                        cum_sum += piles[n_piles - 1][n_coins_from_pile - 1]\n",
    "                    \n",
    "                    # n_coin_from_prev - сколько монет мы можем взять из предыдущих стопок\n",
    "                    #                    т.е. если мы берем 0 монет из текущей, то берем оптимальный ответ для оставшихся монет для предыдущих стопок (хранится в dp)\n",
    "                    n_coin_from_prev = n_coins_max - n_coins_from_pile\n",
    "\n",
    "                    dp[n_piles][n_coins_max] = max(                   # ищем max чтобы не перезатереть оптимальный вариант для такого количества монет и такого набора стопок - мы же оптимальный вариант ищем на данном шаге :)\n",
    "                        dp[n_piles][n_coins_max],\n",
    "                        dp[n_piles - 1][n_coin_from_prev] + cum_sum,  # прибавляем кумулятивную сумму для n_coins_from_pile монет из текущей стопки\n",
    "                    )\n",
    "                    \n",
    "        return dp[-1][-1]\n",
    "    \n"
   ]
  },
  {
   "cell_type": "code",
   "execution_count": 49,
   "metadata": {},
   "outputs": [],
   "source": [
    "s = Solution()\n",
    "\n",
    "assert s.maxValueOfCoins(piles=[\n",
    "    [1, 100, 3],\n",
    "    [7, 8,   9]], k=3) == 108\n",
    "\n",
    "assert s.maxValueOfCoins(piles=[\n",
    "    [100],\n",
    "    [100],\n",
    "    [100],\n",
    "    [100],\n",
    "    [100],\n",
    "    [100],\n",
    "    [1, 1, 1, 1, 1, 1, 700]], k=7) == 706\n",
    "\n",
    "assert s.maxValueOfCoins(piles=[\n",
    "    [1, 100, 3],\n",
    "    [7, 8,   9]], k=2) == 101"
   ]
  },
  {
   "attachments": {},
   "cell_type": "markdown",
   "metadata": {},
   "source": [
    "### [322. Coin Change](https://leetcode.com/problems/coin-change/)"
   ]
  },
  {
   "attachments": {},
   "cell_type": "markdown",
   "metadata": {},
   "source": [
    "#### Approach 1 - BFS"
   ]
  },
  {
   "cell_type": "code",
   "execution_count": 88,
   "metadata": {},
   "outputs": [],
   "source": [
    "from collections import deque\n",
    "\n",
    "\n",
    "class Solution:\n",
    "    def coinChange(self, coins: List[int], amount: int) -> int:\n",
    "        if amount == 0:\n",
    "            return 0\n",
    "\n",
    "        visited = [False] * (amount + 1)\n",
    "        visited[0] = True\n",
    "        start_state = (0, 0)\n",
    "\n",
    "        q = deque()\n",
    "        q.append(start_state)\n",
    "\n",
    "        while q:\n",
    "            sum_, qty = q.popleft()\n",
    "            \n",
    "            for coin in coins:\n",
    "                next_sum_ = sum_ + coin\n",
    "\n",
    "                if next_sum_ == amount:\n",
    "                    return qty + 1\n",
    "                \n",
    "                if next_sum_ < amount and not visited[next_sum_]:\n",
    "                    q.append((next_sum_, qty + 1))\n",
    "                    visited[next_sum_] = True\n",
    "\n",
    "        return -1"
   ]
  },
  {
   "cell_type": "code",
   "execution_count": 89,
   "metadata": {},
   "outputs": [],
   "source": [
    "s = Solution()\n",
    "\n",
    "assert s.coinChange(coins=[1, 2, 5], amount=11) == 3\n",
    "assert s.coinChange(coins=[2], amount=3) == -1\n",
    "assert s.coinChange(coins=[1], amount=0) == 0"
   ]
  },
  {
   "attachments": {},
   "cell_type": "markdown",
   "metadata": {},
   "source": [
    "#### Approach 2 - DP"
   ]
  },
  {
   "cell_type": "code",
   "execution_count": 75,
   "metadata": {},
   "outputs": [],
   "source": [
    "from collections import deque\n",
    "\n",
    "\n",
    "class Solution:\n",
    "    def coinChange(self, coins: List[int], amount: int) -> int:\n",
    "        # Runtime: 1403 ms, faster than 70.66% of Python3 online submissions for Coin Change.\n",
    "        # Memory Usage: 14.2 MB, less than 81.79% of Python3 online submissions for Coin Change.\n",
    "        dp = [float(\"inf\")] * (amount + 1)\n",
    "        dp[0] = 0\n",
    "\n",
    "        for coin in coins:\n",
    "            for idx in range(1, amount + 1):\n",
    "\n",
    "                if idx >= coin:\n",
    "                    dp[idx] = min(dp[idx], dp[idx - coin] + 1)\n",
    "        \n",
    "        return -1 if dp[-1] == float(\"inf\") else dp[-1]"
   ]
  },
  {
   "cell_type": "code",
   "execution_count": 76,
   "metadata": {},
   "outputs": [],
   "source": [
    "s = Solution()\n",
    "\n",
    "assert s.coinChange(coins=[1, 2, 5], amount=11) == 3\n",
    "assert s.coinChange(coins=[2], amount=3) == -1\n",
    "assert s.coinChange(coins=[1], amount=0) == 0"
   ]
  },
  {
   "attachments": {},
   "cell_type": "markdown",
   "metadata": {},
   "source": [
    "### Ход конем\n",
    "\n",
    "Шахматная ассоциация решила оснастить всех своих сотрудников такими телефонными номера- ми, которые бы набирались на кнопочном телефоне ходом коня. Например, ходом коня набирается телефон 340-49-27. При этом телефонный номер не может начинаться ни с цифры 0, ни с цифры 8.\n",
    "\n",
    "```\n",
    "1 2 3\n",
    "4 5 6\n",
    "7 8 9\n",
    ". 0 .\n",
    "```\n",
    "\n",
    "Напишите программу, определяющую количество телефонных номеров длины N, набираемых ходом коня ($1 \\leq N \\leq 100$)."
   ]
  },
  {
   "cell_type": "code",
   "execution_count": 6,
   "metadata": {},
   "outputs": [],
   "source": [
    "def horse(n: int) -> int:\n",
    "    curr = [0, 1, 1, 1, 1, 1, 1, 1, 0, 1]\n",
    "    rules = {\n",
    "        0: [4, 6],\n",
    "        1: [6, 8],\n",
    "        2: [7, 9],\n",
    "        3: [4, 8],\n",
    "        4: [0, 3, 9],\n",
    "        5: [],\n",
    "        6: [0, 1, 7],\n",
    "        7: [2, 6],\n",
    "        8: [1, 3],\n",
    "        9: [2, 4],\n",
    "    }\n",
    "    for _ in range(0, n - 1):\n",
    "        prev = curr[:]\n",
    "        for num in range(0, 10):\n",
    "            curr[num] = sum([prev[prev_num] for prev_num in rules[num]])\n",
    "    return sum(curr)"
   ]
  },
  {
   "cell_type": "code",
   "execution_count": 8,
   "metadata": {},
   "outputs": [],
   "source": [
    "assert horse(1) == 8\n",
    "assert horse(2) == 16"
   ]
  },
  {
   "attachments": {},
   "cell_type": "markdown",
   "metadata": {},
   "source": [
    "### [1372. Longest ZigZag Path in a Binary Tree](https://leetcode.com/problems/longest-zigzag-path-in-a-binary-tree/)"
   ]
  },
  {
   "attachments": {},
   "cell_type": "markdown",
   "metadata": {},
   "source": [
    "#### Approach 1 - DFS"
   ]
  },
  {
   "cell_type": "code",
   "execution_count": 71,
   "metadata": {},
   "outputs": [],
   "source": [
    "from typing import Optional, List, Literal\n",
    "\n",
    "\n",
    "# Definition for a binary tree node.\n",
    "class TreeNode:\n",
    "    def __init__(self, val=0, left=None, right=None):\n",
    "        self.val = val\n",
    "        self.left = left\n",
    "        self.right = right\n",
    "\n",
    "\n",
    "class Tree:\n",
    "    def __init__(self, nodes: List[TreeNode]) -> None:\n",
    "        self.nodes = nodes\n",
    "        self.root = self.add_node()\n",
    "               \n",
    "\n",
    "    def add_node(self, k: int = 0) -> None:\n",
    "        if k >= len(self.nodes) or self.nodes[k] is None:\n",
    "            return None\n",
    "        \n",
    "        left, right = self.add_node(k=2*k + 1), self.add_node(k=2*k + 2)\n",
    "        return TreeNode(val=self.nodes[k], left=left, right=right)\n",
    "              \n",
    "\n",
    "class Solution:\n",
    "    def longestZigZag(self, root: Optional[TreeNode]) -> int:\n",
    "        self.max_val = 0\n",
    "        \n",
    "        def dfs(node: TreeNode, dir: Literal[\"left\", \"right\"] = None) -> int:\n",
    "            if node is None:\n",
    "                return 0\n",
    "        \n",
    "            left = dfs(node=node.left, dir=\"left\")\n",
    "            right = dfs(node=node.right, dir=\"right\")\n",
    "\n",
    "            self.max_val = max(left, right, self.max_val)\n",
    "\n",
    "            if dir == \"right\":\n",
    "                return left + 1\n",
    "            if dir == \"left\":\n",
    "                return right + 1\n",
    "        \n",
    "        dfs(root)\n",
    "        return self.max_val"
   ]
  },
  {
   "cell_type": "code",
   "execution_count": 72,
   "metadata": {},
   "outputs": [],
   "source": [
    "s =  Solution()\n",
    "\n",
    "tree = Tree(nodes=[\n",
    "    1, \n",
    "    None, 1,\n",
    "    None, None, 1, 1, \n",
    "    None, None, None, None, None, None, 1, 1, \n",
    "    None, None, None, None, None, None, None, None, None, None, None, None, None, 1, None, None, \n",
    "    None, None, None, None, None, None, None, None, None, None, None, None, None, None, None, None, None, None, None, None, None, None, None, None, None, None, None, 1\n",
    "    ])\n",
    "assert s.longestZigZag(tree.root) == 3\n",
    "\n",
    "tree = Tree(nodes=[\n",
    "    1, \n",
    "    1, 1,\n",
    "    None, 1, None, None, \n",
    "    None, None, 1, 1, None, None, None, None, \n",
    "    None, None, None, None, None, 1\n",
    "    ])\n",
    "assert s.longestZigZag(tree.root) == 4\n",
    "\n",
    "tree = Tree(nodes=[1])\n",
    "assert s.longestZigZag(tree.root) == 0"
   ]
  },
  {
   "attachments": {},
   "cell_type": "markdown",
   "metadata": {},
   "source": [
    "#### Approach 2 - BFS"
   ]
  },
  {
   "cell_type": "code",
   "execution_count": 73,
   "metadata": {},
   "outputs": [],
   "source": [
    "from collections import deque\n",
    "\n",
    "\n",
    "class Solution:\n",
    "    def longestZigZag(self, root: Optional[TreeNode]) -> int:\n",
    "        \"\"\"\n",
    "        Runtime: 349 ms, faster than 95.24% of Python3 online submissions for Longest ZigZag Path in a Binary Tree.\n",
    "        Memory Usage: 26.2 MB, less than 100.00% of Python3 online submissions for Longest ZigZag Path in a Binary Tree.\n",
    "        \"\"\"\n",
    "\n",
    "        max_zigzag = 0\n",
    "        q = deque()\n",
    "        q.append((root, 0, None))\n",
    "\n",
    "        while q:\n",
    "            node, curr_zigzag, came_from = q.popleft()\n",
    "            max_zigzag = max(max_zigzag, curr_zigzag)\n",
    "\n",
    "            if node.left:\n",
    "                if came_from != \"right\":\n",
    "                    q.append((node.left, curr_zigzag + 1, \"right\"))\n",
    "                else:\n",
    "                    q.append((node.left, 1, \"right\"))\n",
    "            \n",
    "            if node.right:\n",
    "                if came_from != \"left\":\n",
    "                    q.append((node.right, curr_zigzag + 1, \"left\"))\n",
    "                else:\n",
    "                    q.append((node.right, 1, \"left\"))\n",
    "\n",
    "        return max_zigzag"
   ]
  },
  {
   "cell_type": "code",
   "execution_count": 74,
   "metadata": {},
   "outputs": [],
   "source": [
    "s =  Solution()\n",
    "\n",
    "tree = Tree(nodes=[\n",
    "    1, \n",
    "    None, 1,\n",
    "    None, None, 1, 1, \n",
    "    None, None, None, None, None, None, 1, 1, \n",
    "    None, None, None, None, None, None, None, None, None, None, None, None, None, 1, None, None, \n",
    "    None, None, None, None, None, None, None, None, None, None, None, None, None, None, None, None, None, None, None, None, None, None, None, None, None, None, None, 1\n",
    "    ])\n",
    "assert s.longestZigZag(tree.root) == 3\n",
    "\n",
    "tree = Tree(nodes=[\n",
    "    1, \n",
    "    1, 1,\n",
    "    None, 1, None, None, \n",
    "    None, None, 1, 1, None, None, None, None, \n",
    "    None, None, None, None, None, 1\n",
    "    ])\n",
    "assert s.longestZigZag(tree.root) == 4\n",
    "\n",
    "tree = Tree(nodes=[1])\n",
    "assert s.longestZigZag(tree.root) == 0"
   ]
  },
  {
   "attachments": {},
   "cell_type": "markdown",
   "metadata": {},
   "source": [
    "### [169. Majority Element](https://leetcode.com/problems/majority-element/)"
   ]
  },
  {
   "attachments": {},
   "cell_type": "markdown",
   "metadata": {},
   "source": [
    "#### Approach 1 - hash"
   ]
  },
  {
   "cell_type": "code",
   "execution_count": 105,
   "metadata": {},
   "outputs": [],
   "source": [
    "from collections import Counter\n",
    "\n",
    "\n",
    "class Solution:\n",
    "    def majorityElement(self, nums: List[int]) -> int:\n",
    "        cnt = Counter(nums)\n",
    "        return cnt.most_common(1)[0][0]"
   ]
  },
  {
   "cell_type": "code",
   "execution_count": 106,
   "metadata": {},
   "outputs": [],
   "source": [
    "s = Solution()\n",
    "\n",
    "assert s.majorityElement(nums=[3, 2, 3]) == 3\n",
    "assert s.majorityElement(nums=[2, 2, 1, 1, 1, 2, 2]) == 2"
   ]
  },
  {
   "attachments": {},
   "cell_type": "markdown",
   "metadata": {},
   "source": [
    "#### Approach 2 - space O(1) (sort)"
   ]
  },
  {
   "cell_type": "code",
   "execution_count": 131,
   "metadata": {},
   "outputs": [],
   "source": [
    "class Solution:\n",
    "    def majorityElement(self, nums: List[int]) -> int:\n",
    "        nums.sort(reverse=False)\n",
    "        majority_cnt = len(nums) // 2\n",
    "        elem, cnt = nums[0], 1\n",
    "        max_elem, max_cnt = nums[0], 1\n",
    "        for i in range(1, len(nums)):\n",
    "            if cnt > majority_cnt:\n",
    "                return max_elem\n",
    "\n",
    "            if nums[i] == elem:\n",
    "                cnt += 1\n",
    "\n",
    "                if cnt > max_cnt:\n",
    "                    max_elem = elem\n",
    "                    max_cnt = cnt\n",
    "            else:\n",
    "                elem = nums[i]\n",
    "                cnt = 1\n",
    "            \n",
    "        return max_elem"
   ]
  },
  {
   "cell_type": "code",
   "execution_count": 132,
   "metadata": {},
   "outputs": [],
   "source": [
    "s = Solution()\n",
    "\n",
    "assert s.majorityElement(nums=[3]) == 3\n",
    "assert s.majorityElement(nums=[3, 2, 3]) == 3\n",
    "assert s.majorityElement(nums=[2, 2, 1, 1, 1, 2, 2]) == 2\n",
    "assert s.majorityElement(nums=[1, 1, 1, 1, 1, 2, 2, 2]) == 1"
   ]
  },
  {
   "attachments": {},
   "cell_type": "markdown",
   "metadata": {},
   "source": [
    "### [1046. Last Stone Weight](https://leetcode.com/problems/last-stone-weight/)"
   ]
  },
  {
   "attachments": {},
   "cell_type": "markdown",
   "metadata": {},
   "source": [
    "#### Approach 1 - Sort"
   ]
  },
  {
   "cell_type": "code",
   "execution_count": 7,
   "metadata": {},
   "outputs": [],
   "source": [
    "from typing import List\n",
    "\n",
    "\n",
    "class Solution:\n",
    "    def lastStoneWeight(self, stones: List[int]) -> int:\n",
    "        for _ in range(0, len(stones) - 1):\n",
    "            stones.sort(reverse=True)\n",
    "            \n",
    "            if stones[0] == stones[1]:\n",
    "                stones[0], stones[1] = 0, 0\n",
    "            else:\n",
    "                stones[0], stones[1] = stones[0] - stones[1], 0\n",
    "        return stones[0]"
   ]
  },
  {
   "cell_type": "code",
   "execution_count": 9,
   "metadata": {},
   "outputs": [],
   "source": [
    "s = Solution()\n",
    "\n",
    "assert s.lastStoneWeight(stones=[2, 7, 4, 1, 8, 1]) == 1\n",
    "assert s.lastStoneWeight(stones=[1]) == 1\n",
    "assert s.lastStoneWeight(stones=[1, 1]) == 0"
   ]
  },
  {
   "attachments": {},
   "cell_type": "markdown",
   "metadata": {},
   "source": [
    "#### Approach 2 - Heap"
   ]
  },
  {
   "cell_type": "code",
   "execution_count": 24,
   "metadata": {},
   "outputs": [],
   "source": [
    "import heapq\n",
    "from typing import List\n",
    "\n",
    "\n",
    "class Solution:\n",
    "    def lastStoneWeight(self, stones: List[int]) -> int:\n",
    "        stones = [-val for val in stones]\n",
    "        heapq.heapify(stones)\n",
    "\n",
    "        while len(stones) > 1:\n",
    "            frst = abs(heapq.heappop(stones))\n",
    "            scnd = abs(heapq.heappop(stones))\n",
    "\n",
    "            if frst != scnd:\n",
    "                heapq.heappush(stones, - (frst - scnd))\n",
    "\n",
    "        return abs(stones[0]) if len(stones) > 0 else 0\n"
   ]
  },
  {
   "cell_type": "code",
   "execution_count": 25,
   "metadata": {},
   "outputs": [],
   "source": [
    "s = Solution()\n",
    "\n",
    "assert s.lastStoneWeight(stones=[2, 7, 4, 1, 8, 1]) == 1\n",
    "assert s.lastStoneWeight(stones=[1]) == 1\n",
    "assert s.lastStoneWeight(stones=[1, 1]) == 0"
   ]
  },
  {
   "attachments": {},
   "cell_type": "markdown",
   "metadata": {},
   "source": [
    "### [258. Add Digits](https://leetcode.com/problems/add-digits/)"
   ]
  },
  {
   "cell_type": "code",
   "execution_count": 48,
   "metadata": {},
   "outputs": [],
   "source": [
    "class Solution:\n",
    "    def addDigits(self, num: int) -> int:\n",
    "        while num // 10 != 0:\n",
    "            i = 0\n",
    "            sum_ = 0\n",
    "            while num // 10**i != 0:\n",
    "                digit = num // 10**i % 10\n",
    "                sum_ += digit\n",
    "                i += 1\n",
    "            num = sum_\n",
    "        return num"
   ]
  },
  {
   "cell_type": "code",
   "execution_count": 49,
   "metadata": {},
   "outputs": [],
   "source": [
    "s = Solution()\n",
    "assert s.addDigits(num=38) == 2\n",
    "assert s.addDigits(num=0) == 0"
   ]
  },
  {
   "attachments": {},
   "cell_type": "markdown",
   "metadata": {},
   "source": [
    "### [839. Similar String Groups](https://leetcode.com/problems/similar-string-groups/)"
   ]
  },
  {
   "cell_type": "code",
   "execution_count": 16,
   "metadata": {},
   "outputs": [],
   "source": [
    "from typing import List, Dict\n",
    "from collections import deque, defaultdict\n",
    "\n",
    "\n",
    "class Solution:\n",
    "    def numSimilarGroups(self, strs: List[str]) -> int:\n",
    "        self.visited = [False]*len(strs)\n",
    "        self.adj = self.build_graph(strs)\n",
    "        count = 0\n",
    "        for i in range(0, len(strs)):\n",
    "            if not self.visited[i]:\n",
    "                self.dfs(node=i)\n",
    "                count += 1\n",
    "        return count\n",
    "    \n",
    "    def dfs(self, node: int) -> None:\n",
    "        self.visited[node] = True\n",
    "\n",
    "        if self.adj.get(node) is None:\n",
    "            return\n",
    "\n",
    "        for next_node in self.adj.get(node):\n",
    "            if not self.visited[next_node]:\n",
    "                self.dfs(node=next_node)\n",
    "        return\n",
    "    \n",
    "    def build_graph(self, strs: List[str]) -> Dict:\n",
    "        adj = defaultdict(list)\n",
    "        for i in range(0, len(strs)):\n",
    "            for j in range(i + 1, len(strs)):\n",
    "                if self.is_sim(strs[i], strs[j]):\n",
    "                    adj[i].append(j)\n",
    "                    adj[j].append(i)\n",
    "        return adj\n",
    "    \n",
    "    def is_sim(self, a: str, b: str) -> bool:\n",
    "        count = 0\n",
    "        for i in range(0, len(a)):\n",
    "            if a[i] != b[i]:\n",
    "                count += 1\n",
    "        return count == 2 or count == 0"
   ]
  },
  {
   "cell_type": "code",
   "execution_count": 17,
   "metadata": {},
   "outputs": [],
   "source": [
    "s = Solution()\n",
    "assert s.numSimilarGroups(strs=[\"tars\", \"rats\", \"arts\", \"star\"]), 2\n",
    "assert s.numSimilarGroups(strs=[\"omv\", \"ovm\"]), 1"
   ]
  },
  {
   "attachments": {},
   "cell_type": "markdown",
   "metadata": {},
   "source": [
    "Можно решить одновременно с построением графа (ускорить работу)"
   ]
  },
  {
   "attachments": {},
   "cell_type": "markdown",
   "metadata": {},
   "source": [
    "### [2300. Successful Pairs of Spells and Potions](https://leetcode.com/problems/successful-pairs-of-spells-and-potions/solution/)"
   ]
  },
  {
   "attachments": {},
   "cell_type": "markdown",
   "metadata": {},
   "source": [
    "#### Approach 1: Sorting + Two Pointers"
   ]
  },
  {
   "cell_type": "code",
   "execution_count": 19,
   "metadata": {},
   "outputs": [],
   "source": [
    "from typing import List\n",
    "\n",
    "\n",
    "class Solution:\n",
    "    def successfulPairs(self, spells: List[int], potions: List[int], success: int) -> List[int]:\n",
    "        # делаем список пар, где первое значение пары соответствует индексу в spells, а второе значение - величине\n",
    "        sorted_spells = [(idx, spell) for idx, spell in enumerate(spells)]\n",
    "\n",
    "        # сортируем sorted_spells по возрвстанию по величине spells\n",
    "        # также сортируем potions по возрастанию\n",
    "        sorted_spells.sort(key=lambda pair: pair[1])\n",
    "        potions.sort(reverse=True)\n",
    "\n",
    "        # инициализируем указатель для potions (второй указатель)\n",
    "        # итерируемся по sorted_spells (первый указатель)\n",
    "        j = 0\n",
    "        ans = [0]*len(spells)\n",
    "        for i in range(0, len(sorted_spells)):\n",
    "            while j < len(potions) and sorted_spells[i][1]*potions[j] >= success:\n",
    "                j += 1\n",
    "            ans[sorted_spells[i][0]] = j\n",
    "        return ans"
   ]
  },
  {
   "cell_type": "code",
   "execution_count": 20,
   "metadata": {},
   "outputs": [],
   "source": [
    "s = Solution()\n",
    "\n",
    "assert s.successfulPairs(spells=[5, 1, 3], potions=[1, 2, 3, 4, 5], success=7) == [4, 0, 3]\n",
    "assert s.successfulPairs(spells=[3, 1, 2], potions=[8, 5, 8], success=16) == [2, 0, 2]"
   ]
  },
  {
   "attachments": {},
   "cell_type": "markdown",
   "metadata": {},
   "source": [
    "### [881. Boats to Save People](https://leetcode.com/problems/boats-to-save-people/)"
   ]
  },
  {
   "attachments": {},
   "cell_type": "markdown",
   "metadata": {},
   "source": [
    "Идея. Сортируем список и идем двумя указателями - один начиная с самых легких, второй - начиная с самых тяжелых. Если сумма тяжелого и легкого превышает лимит, то добавляем в лодку только тяжелого. Если нет, то сажаем обоих."
   ]
  },
  {
   "cell_type": "code",
   "execution_count": 17,
   "metadata": {},
   "outputs": [],
   "source": [
    "from typing import List\n",
    "\n",
    "\n",
    "class Solution:\n",
    "    def numRescueBoats(self, people: List[int], limit: int) -> int:\n",
    "        \"\"\"\n",
    "        Runtime: 453 ms, faster than 78.18% of Python3 online submissions for Boats to Save People.\n",
    "        Memory Usage: 23.3 MB, less than 5.57% of Python3 online submissions for Boats to Save People.\n",
    "        \"\"\"\n",
    "        # сортирум список\n",
    "        people.sort()\n",
    "\n",
    "        # инициализируем указатели\n",
    "        p1, p2 = 0, len(people) - 1\n",
    "\n",
    "        # итерируемся до тех пор, пока всех люднй не посадим в лодку\n",
    "        boats = 0\n",
    "        while p1 <= p2:\n",
    "            if people[p1] + people[p2] <= limit:\n",
    "                p1 += 1\n",
    "            p2 -= 1\n",
    "            boats += 1\n",
    "        return boats"
   ]
  },
  {
   "cell_type": "code",
   "execution_count": 18,
   "metadata": {},
   "outputs": [],
   "source": [
    "s = Solution()\n",
    "\n",
    "assert s.numRescueBoats(people=[1, 2], limit=3) == 1\n",
    "assert s.numRescueBoats(people=[1], limit=3) == 1\n",
    "assert s.numRescueBoats(people=[1, 2], limit=2) == 2\n",
    "assert s.numRescueBoats(people=[3, 2, 2, 1], limit=3) == 3\n",
    "assert s.numRescueBoats(people=[3, 5, 3, 4], limit=5) == 4"
   ]
  },
  {
   "attachments": {},
   "cell_type": "markdown",
   "metadata": {},
   "source": [
    "### [2405. Optimal Partition of String](https://leetcode.com/problems/optimal-partition-of-string/)"
   ]
  },
  {
   "attachments": {},
   "cell_type": "markdown",
   "metadata": {},
   "source": [
    "Будем использовать \"жадный\" алгоритм, максимизируя длину подстроки слева направо."
   ]
  },
  {
   "cell_type": "code",
   "execution_count": 39,
   "metadata": {},
   "outputs": [],
   "source": [
    "class Solution:\n",
    "    def partitionString_v1(self, s: str) -> int:\n",
    "        \"\"\"\n",
    "        Runtime: 129 ms, faster than 49.14% of Python3 online submissions for Optimal Partition of String.\n",
    "        Memory Usage: 17.2 MB, less than 6.24% of Python3 online submissions for Optimal Partition of String.\n",
    "        \"\"\"\n",
    "        out = 0\n",
    "        hash = {}\n",
    "        for char in s:\n",
    "            if hash.get(char) is not None:\n",
    "                out += 1\n",
    "                hash = {char: 1}\n",
    "            else:\n",
    "                hash[char] = 1\n",
    "        return out + 1\n",
    "    \n",
    "    def partitionString_v2(self, s: str) -> int:\n",
    "        \"\"\"\n",
    "        Runtime: 136 ms, faster than 44.95% of Python3 online submissions for Optimal Partition of String.\n",
    "        Memory Usage: 17.3 MB, less than 6.24% of Python3 online submissions for Optimal Partition of String.\n",
    "        \"\"\"\n",
    "        out = 1\n",
    "        hash = []\n",
    "        for char in s:\n",
    "            if char in hash:\n",
    "                hash = [char]\n",
    "                out += 1\n",
    "            else:\n",
    "                hash.append(char)\n",
    "        return out\n",
    "    \n",
    "    def partitionString_v3(self, s: str) -> int:\n",
    "        \"\"\"\n",
    "        Runtime: 245 ms, faster than 12.45% of Python3 online submissions for Optimal Partition of String.\n",
    "        Memory Usage: 17.2 MB, less than 6.24% of Python3 online submissions for Optimal Partition of String.\n",
    "        \"\"\"\n",
    "        lastSeen = [-1]*26\n",
    "        count = 1\n",
    "        substringStarting = 0\n",
    "\n",
    "        for i in range(len(s)):\n",
    "            if lastSeen[ord(s[i]) - ord('a')] >= substringStarting:\n",
    "                count += 1\n",
    "                substringStarting = i\n",
    "            lastSeen[ord(s[i]) - ord('a')] = i\n",
    "        return count\n",
    "    "
   ]
  },
  {
   "cell_type": "code",
   "execution_count": 41,
   "metadata": {},
   "outputs": [],
   "source": [
    "s = Solution()\n",
    "\n",
    "assert s.partitionString_v1(s=\"abacaba\") == 4\n",
    "assert s.partitionString_v1(s=\"ssssss\") == 6\n",
    "\n",
    "assert s.partitionString_v2(s=\"abacaba\") == 4\n",
    "assert s.partitionString_v2(s=\"ssssss\") == 6\n",
    "\n",
    "assert s.partitionString_v3(s=\"abacaba\") == 4\n",
    "assert s.partitionString_v3(s=\"ssssss\") == 6"
   ]
  },
  {
   "attachments": {},
   "cell_type": "markdown",
   "metadata": {},
   "source": [
    "### [1254. Number of Closed Islands](https://leetcode.com/problems/number-of-closed-islands/)"
   ]
  },
  {
   "cell_type": "code",
   "execution_count": 53,
   "metadata": {},
   "outputs": [],
   "source": [
    "from collections import deque\n",
    "\n",
    "\n",
    "class Solution:\n",
    "    def closedIsland(self, grid: List[List[int]]) -> int:\n",
    "        ans = 0\n",
    "        n_rows = len(grid)\n",
    "        n_cols = len(grid[0])\n",
    "\n",
    "        # делаем массив с посещенными\n",
    "        visited = [[val == 1 for val in grid[r]] for r in range(0, n_rows)]\n",
    "\n",
    "        for row in range(1, n_rows - 1):\n",
    "            for col in range(1, n_cols - 1):\n",
    "                \n",
    "                if not visited[row][col]:\n",
    "                    q = deque()\n",
    "                    q.append((row, col))\n",
    "                    visited[row][col] = True\n",
    "                    is_closed = True\n",
    "\n",
    "                    while q:\n",
    "                        r, c = q.popleft()\n",
    "\n",
    "                        if r == 0 or c == 0 or r == (n_rows - 1) or c == (n_cols - 1):\n",
    "                            is_closed = False\n",
    "                        \n",
    "                        # добавляем соседей в очередь\n",
    "                        if r > 0 and not visited[r - 1][c]:\n",
    "                            visited[r - 1][c] = True\n",
    "                            q.append((r - 1, c))\n",
    "                        if r < (n_rows - 1) and not visited[r + 1][c]:\n",
    "                            visited[r + 1][c] = True\n",
    "                            q.append((r + 1, c))\n",
    "                        if c > 0 and not visited[r][c - 1]:\n",
    "                            visited[r][c - 1] = True\n",
    "                            q.append((r, c - 1))\n",
    "                        if c < (n_cols - 1) and not visited[r][c + 1]:\n",
    "                            visited[r][c + 1] = True\n",
    "                            q.append((r, c + 1))\n",
    "                \n",
    "                    if is_closed:\n",
    "                        ans += 1\n",
    "\n",
    "        return ans"
   ]
  },
  {
   "cell_type": "code",
   "execution_count": 56,
   "metadata": {},
   "outputs": [],
   "source": [
    "s = Solution()\n",
    "\n",
    "# 1 - water\n",
    "# 0 - land\n",
    "assert s.closedIsland(grid=[\n",
    "    [1,1,1,1,1,1,1,0],\n",
    "    [1,0,0,0,0,1,1,0],\n",
    "    [1,0,1,0,1,1,1,0],\n",
    "    [1,0,0,0,0,1,0,1],\n",
    "    [1,1,1,1,1,1,1,0]\n",
    "    ]) == 2\n",
    "\n",
    "assert s.closedIsland(grid=[\n",
    "    [0,0,1,0,0],\n",
    "    [0,1,0,1,0],\n",
    "    [0,1,1,1,0]\n",
    "    ]) == 1\n",
    "\n",
    "assert s.closedIsland(grid=[\n",
    "    [1,1,1,1,1,1,1],\n",
    "    [1,0,0,0,0,0,1],\n",
    "    [1,0,1,1,1,0,1],\n",
    "    [1,0,1,0,1,0,1],\n",
    "    [1,0,1,1,1,0,1],\n",
    "    [1,0,0,0,0,0,1],\n",
    "    [1,1,1,1,1,1,1]\n",
    "    ]) == 2\n",
    "\n",
    "assert s.closedIsland(grid=[\n",
    "    [0,0,1,0,0]\n",
    "    ]) == 0\n",
    "\n",
    "assert s.closedIsland(grid=[\n",
    "    [1],\n",
    "    [1],\n",
    "    [1],\n",
    "    [1],\n",
    "    [1],\n",
    "    [1],\n",
    "    [1]\n",
    "    ]) == 0"
   ]
  },
  {
   "attachments": {},
   "cell_type": "markdown",
   "metadata": {},
   "source": [
    "### [1020. Number of Enclaves](https://leetcode.com/problems/number-of-enclaves/)"
   ]
  },
  {
   "cell_type": "code",
   "execution_count": 63,
   "metadata": {},
   "outputs": [],
   "source": [
    "from collections import deque\n",
    "\n",
    "\n",
    "class Solution:\n",
    "    def numEnclaves(self, grid: List[List[int]]) -> int:\n",
    "        ans = 0\n",
    "        n_rows = len(grid)\n",
    "        n_cols = len(grid[0])\n",
    "\n",
    "        # делаем массив с посещенными\n",
    "        visited = [[val == 0 for val in grid[r]] for r in range(0, n_rows)]\n",
    "\n",
    "        for row in range(1, n_rows - 1):\n",
    "            for col in range(1, n_cols - 1):\n",
    "                \n",
    "                if not visited[row][col]:\n",
    "                    q = deque()\n",
    "                    q.append((row, col))\n",
    "                    visited[row][col] = True\n",
    "                    is_closed = True\n",
    "                    size = 0\n",
    "\n",
    "                    while q:\n",
    "                        r, c = q.popleft()\n",
    "                        size += 1\n",
    "\n",
    "                        if r == 0 or c == 0 or r == (n_rows - 1) or c == (n_cols - 1):\n",
    "                            is_closed = False\n",
    "                        \n",
    "                        # добавляем соседей в очередь\n",
    "                        if r > 0 and not visited[r - 1][c]:\n",
    "                            visited[r - 1][c] = True\n",
    "                            q.append((r - 1, c))\n",
    "                        if r < (n_rows - 1) and not visited[r + 1][c]:\n",
    "                            visited[r + 1][c] = True\n",
    "                            q.append((r + 1, c))\n",
    "                        if c > 0 and not visited[r][c - 1]:\n",
    "                            visited[r][c - 1] = True\n",
    "                            q.append((r, c - 1))\n",
    "                        if c < (n_cols - 1) and not visited[r][c + 1]:\n",
    "                            visited[r][c + 1] = True\n",
    "                            q.append((r, c + 1))\n",
    "                \n",
    "                    if is_closed:\n",
    "                        ans += size\n",
    "\n",
    "        return ans"
   ]
  },
  {
   "cell_type": "code",
   "execution_count": 67,
   "metadata": {},
   "outputs": [],
   "source": [
    "s = Solution()\n",
    "\n",
    "assert s.numEnclaves(grid=[\n",
    "    [0,0,0,0],\n",
    "    [1,0,1,0],\n",
    "    [0,1,1,0],\n",
    "    [0,0,0,0]\n",
    "    ]) == 3\n",
    "\n",
    "assert s.numEnclaves(grid=[\n",
    "    [0,1,1,0],\n",
    "    [0,0,1,0],\n",
    "    [0,0,1,0],\n",
    "    [0,0,0,0]\n",
    "        ]) == 0\n",
    "\n",
    "assert s.numEnclaves(grid=[\n",
    "    [1],\n",
    "    [1],\n",
    "    [1],\n",
    "    [1]\n",
    "        ]) == 0"
   ]
  },
  {
   "attachments": {},
   "cell_type": "markdown",
   "metadata": {},
   "source": [
    "### [300. Longest Increasing Subsequence](https://leetcode.com/problems/longest-increasing-subsequence/)"
   ]
  },
  {
   "cell_type": "code",
   "execution_count": 10,
   "metadata": {},
   "outputs": [],
   "source": [
    "from typing import List\n",
    "from bisect import bisect_left\n",
    "\n",
    "\n",
    "class Solution:\n",
    "    def lengthOfLIS(self, nums: List[int]) -> int:\n",
    "        \"\"\"\n",
    "        Runtime: 78 ms, faster than 85.95% of Python3 online submissions for Longest Increasing Subsequence.\n",
    "        Memory Usage: 16.7 MB, less than 7.90% of Python3 online submissions for Longest Increasing Subsequence.\n",
    "        \"\"\"\n",
    "        lis = []\n",
    "\n",
    "        for heigth in nums:\n",
    "            idx = bisect_left(lis, heigth)\n",
    "            if idx == len(lis):\n",
    "                lis.append(heigth)\n",
    "            else:\n",
    "                lis[idx] = heigth\n",
    "        return len(lis)"
   ]
  },
  {
   "cell_type": "code",
   "execution_count": 11,
   "metadata": {},
   "outputs": [],
   "source": [
    "s = Solution()\n",
    "\n",
    "assert s.lengthOfLIS(nums=[10, 9, 2, 5, 3, 7, 101, 18]) == 4\n",
    "assert s.lengthOfLIS(nums=[0, 1, 0, 3, 2, 3]) == 4\n",
    "assert s.lengthOfLIS(nums=[7, 7, 7, 7, 7, 7, 7]) == 1"
   ]
  },
  {
   "attachments": {},
   "cell_type": "markdown",
   "metadata": {},
   "source": [
    "### [1365. How Many Numbers Are Smaller Than the Current Number](https://leetcode.com/problems/how-many-numbers-are-smaller-than-the-current-number/)"
   ]
  },
  {
   "cell_type": "code",
   "execution_count": 27,
   "metadata": {},
   "outputs": [],
   "source": [
    "from typing import List\n",
    "\n",
    "\n",
    "class Solution:\n",
    "    def smallerNumbersThanCurrent(self, nums: List[int]) -> List[int]:\n",
    "        n = len(nums)\n",
    "        nums = list(zip(list(range(n)), nums))\n",
    "        nums.sort(key=lambda x: x[1])\n",
    "\n",
    "        l = nums[0][1]\n",
    "        count = 0\n",
    "        for i, (idx, r) in enumerate(nums):\n",
    "            if r > l:\n",
    "                count = i\n",
    "                l = r\n",
    "            nums[i] = (idx, count)\n",
    "\n",
    "        nums.sort(key=lambda x: x[0])\n",
    "        return [i[1] for i in nums]\n",
    "\n",
    "\n",
    "s = Solution()\n",
    "assert s.smallerNumbersThanCurrent([7, 7, 7, 7])    == [0, 0, 0, 0]\n",
    "assert s.smallerNumbersThanCurrent([6, 5, 4, 8])    == [2, 1, 0, 3]\n",
    "assert s.smallerNumbersThanCurrent([8, 1, 2, 2, 3]) == [4, 0, 1, 1, 3]"
   ]
  },
  {
   "cell_type": "code",
   "execution_count": null,
   "metadata": {},
   "outputs": [],
   "source": []
  }
 ],
 "metadata": {
  "kernelspec": {
   "display_name": "Python 3",
   "language": "python",
   "name": "python3"
  },
  "language_info": {
   "codemirror_mode": {
    "name": "ipython",
    "version": 3
   },
   "file_extension": ".py",
   "mimetype": "text/x-python",
   "name": "python",
   "nbconvert_exporter": "python",
   "pygments_lexer": "ipython3",
   "version": "3.9.6"
  },
  "orig_nbformat": 4
 },
 "nbformat": 4,
 "nbformat_minor": 2
}
