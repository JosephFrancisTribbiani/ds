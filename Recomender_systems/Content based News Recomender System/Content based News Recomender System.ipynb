{
 "cells": [
  {
   "attachments": {},
   "cell_type": "markdown",
   "metadata": {},
   "source": [
    "Выполнено на базе [ноутбука](https://www.kaggle.com/code/achintyatripathi/content-based-news-recomender-system)"
   ]
  },
  {
   "attachments": {},
   "cell_type": "markdown",
   "metadata": {},
   "source": [
    "# Imports & Configuration"
   ]
  },
  {
   "cell_type": "code",
   "execution_count": 37,
   "metadata": {},
   "outputs": [],
   "source": [
    "import pandas as pd\n",
    "from nltk.corpus import stopwords\n",
    "\n",
    "from sklearn.manifold import TSNE\n",
    "from sklearn.decomposition import PCA\n",
    "from sklearn.metrics.pairwise import linear_kernel\n",
    "from sklearn.feature_extraction.text import CountVectorizer\n",
    "from sklearn.feature_extraction.text import TfidfVectorizer\n",
    "\n",
    "import matplotlib.pyplot as plt\n",
    "import seaborn as sns\n",
    "\n",
    "%matplotlib inline"
   ]
  },
  {
   "attachments": {},
   "cell_type": "markdown",
   "metadata": {},
   "source": [
    "# Data preprocessing"
   ]
  },
  {
   "attachments": {},
   "cell_type": "markdown",
   "metadata": {},
   "source": [
    "## Load the data"
   ]
  },
  {
   "cell_type": "code",
   "execution_count": 2,
   "metadata": {},
   "outputs": [
    {
     "name": "stdout",
     "output_type": "stream",
     "text": [
      "(1496, 5)\n"
     ]
    },
    {
     "data": {
      "text/html": [
       "<div>\n",
       "<style scoped>\n",
       "    .dataframe tbody tr th:only-of-type {\n",
       "        vertical-align: middle;\n",
       "    }\n",
       "\n",
       "    .dataframe tbody tr th {\n",
       "        vertical-align: top;\n",
       "    }\n",
       "\n",
       "    .dataframe thead th {\n",
       "        text-align: right;\n",
       "    }\n",
       "</style>\n",
       "<table border=\"1\" class=\"dataframe\">\n",
       "  <thead>\n",
       "    <tr style=\"text-align: right;\">\n",
       "      <th></th>\n",
       "      <th>id</th>\n",
       "      <th>link</th>\n",
       "      <th>text</th>\n",
       "      <th>title</th>\n",
       "      <th>date</th>\n",
       "    </tr>\n",
       "  </thead>\n",
       "  <tbody>\n",
       "    <tr>\n",
       "      <th>0</th>\n",
       "      <td>0</td>\n",
       "      <td>http://techcrunch.com/2020/09/07/vodafone-idea...</td>\n",
       "      <td>Vodafone Idea, one of the largest telecom oper...</td>\n",
       "      <td>Indian telecom giant Vodafone Idea rebrands as...</td>\n",
       "      <td>2020-09-07 00:00:00</td>\n",
       "    </tr>\n",
       "    <tr>\n",
       "      <th>1</th>\n",
       "      <td>1</td>\n",
       "      <td>http://techcrunch.com/2020/09/16/facebook-addr...</td>\n",
       "      <td>At the beginning of the previous decade, Faceb...</td>\n",
       "      <td>Facebook addresses political controversy in In...</td>\n",
       "      <td>2020-09-16 00:00:00</td>\n",
       "    </tr>\n",
       "  </tbody>\n",
       "</table>\n",
       "</div>"
      ],
      "text/plain": [
       "   id                                               link  \\\n",
       "0   0  http://techcrunch.com/2020/09/07/vodafone-idea...   \n",
       "1   1  http://techcrunch.com/2020/09/16/facebook-addr...   \n",
       "\n",
       "                                                text  \\\n",
       "0  Vodafone Idea, one of the largest telecom oper...   \n",
       "1  At the beginning of the previous decade, Faceb...   \n",
       "\n",
       "                                               title                 date  \n",
       "0  Indian telecom giant Vodafone Idea rebrands as...  2020-09-07 00:00:00  \n",
       "1  Facebook addresses political controversy in In...  2020-09-16 00:00:00  "
      ]
     },
     "metadata": {},
     "output_type": "display_data"
    }
   ],
   "source": [
    "data = pd.read_csv(\"./data/result_final.csv\", usecols=[\"date\", \"title\", \"text\", \"link\"]) \\\n",
    "         .drop_duplicates(inplace=False, keep=\"first\", ignore_index=True) \\\n",
    "         .dropna()\n",
    "data.insert(0, \"id\", range(0, len(data)))\n",
    "\n",
    "print(data.shape)\n",
    "display(data.head(2))"
   ]
  },
  {
   "attachments": {},
   "cell_type": "markdown",
   "metadata": {},
   "source": [
    "## Encoding your data"
   ]
  },
  {
   "attachments": {},
   "cell_type": "markdown",
   "metadata": {},
   "source": [
    "Используем TF-IDF"
   ]
  },
  {
   "attachments": {},
   "cell_type": "markdown",
   "metadata": {},
   "source": [
    "Чистим текст"
   ]
  },
  {
   "cell_type": "code",
   "execution_count": 3,
   "metadata": {},
   "outputs": [],
   "source": [
    "# функции предобработки текста\n",
    "class TextCleaner:\n",
    "    def __init__(self, ):\n",
    "        return\n",
    "    \n",
    "    def __call__(self, text: str) -> str:\n",
    "        # приводим к нижнему регистру\n",
    "        text = self.lower_case(s=text)\n",
    "\n",
    "        # делим на токены\n",
    "        text = self.split_into_tokens(text=text)\n",
    "\n",
    "        # удаляем стоп слова\n",
    "        text = self.remove_stop_words(text=text)\n",
    "\n",
    "        # удаляем токены, которые кроме букв содержат что-то еще\n",
    "        text = self.remove_not_alpha(text=text)\n",
    "        return \" \".join(text)\n",
    "    \n",
    "    def lower_case(self, s: str) -> str:\n",
    "        return s.lower()\n",
    "    \n",
    "    def split_into_tokens(self, text: str) -> list:\n",
    "        return text.split()\n",
    "    \n",
    "    def remove_stop_words(self, text: list) -> list:\n",
    "        return [t for t in text if not t in set(stopwords.words(\"english\"))]\n",
    "    \n",
    "    def remove_not_alpha(self, text: list) -> list:\n",
    "        return [t for t in text if t.isalpha()]\n",
    "    "
   ]
  },
  {
   "cell_type": "code",
   "execution_count": 4,
   "metadata": {},
   "outputs": [],
   "source": [
    "data[\"cleaned_text\"] = data[\"text\"].apply(TextCleaner())"
   ]
  },
  {
   "attachments": {},
   "cell_type": "markdown",
   "metadata": {},
   "source": [
    "Выолняем кодирование текста с помощью TF-IDF"
   ]
  },
  {
   "cell_type": "code",
   "execution_count": 132,
   "metadata": {},
   "outputs": [],
   "source": [
    "tfidf = TfidfVectorizer(\n",
    "    analyzer=\"word\",\n",
    "    stop_words=\"english\",\n",
    "    max_df=0.8, \n",
    "    min_df=0.1,\n",
    "    use_idf=True,\n",
    "    ngram_range=(1, 3)\n",
    ")\n",
    "\n",
    "tfidf_matrix = tfidf.fit_transform(data[\"cleaned_text\"])"
   ]
  },
  {
   "cell_type": "code",
   "execution_count": 133,
   "metadata": {},
   "outputs": [
    {
     "name": "stdout",
     "output_type": "stream",
     "text": [
      "(1496, 188)\n"
     ]
    },
    {
     "data": {
      "text/html": [
       "<div>\n",
       "<style scoped>\n",
       "    .dataframe tbody tr th:only-of-type {\n",
       "        vertical-align: middle;\n",
       "    }\n",
       "\n",
       "    .dataframe tbody tr th {\n",
       "        vertical-align: top;\n",
       "    }\n",
       "\n",
       "    .dataframe thead th {\n",
       "        text-align: right;\n",
       "    }\n",
       "</style>\n",
       "<table border=\"1\" class=\"dataframe\">\n",
       "  <thead>\n",
       "    <tr style=\"text-align: right;\">\n",
       "      <th></th>\n",
       "      <th>able</th>\n",
       "      <th>access</th>\n",
       "      <th>according</th>\n",
       "      <th>added</th>\n",
       "      <th>adding</th>\n",
       "      <th>ahead</th>\n",
       "      <th>american</th>\n",
       "      <th>amid</th>\n",
       "      <th>announced</th>\n",
       "      <th>august</th>\n",
       "      <th>...</th>\n",
       "      <th>video</th>\n",
       "      <th>want</th>\n",
       "      <th>way</th>\n",
       "      <th>week</th>\n",
       "      <th>work</th>\n",
       "      <th>working</th>\n",
       "      <th>world</th>\n",
       "      <th>year</th>\n",
       "      <th>years</th>\n",
       "      <th>york</th>\n",
       "    </tr>\n",
       "  </thead>\n",
       "  <tbody>\n",
       "    <tr>\n",
       "      <th>0</th>\n",
       "      <td>0.000000</td>\n",
       "      <td>0.000000</td>\n",
       "      <td>0.000000</td>\n",
       "      <td>0.000000</td>\n",
       "      <td>0.0</td>\n",
       "      <td>0.0</td>\n",
       "      <td>0.0</td>\n",
       "      <td>0.0</td>\n",
       "      <td>0.000000</td>\n",
       "      <td>0.0</td>\n",
       "      <td>...</td>\n",
       "      <td>0.000000</td>\n",
       "      <td>0.000000</td>\n",
       "      <td>0.0</td>\n",
       "      <td>0.0</td>\n",
       "      <td>0.000000</td>\n",
       "      <td>0.000000</td>\n",
       "      <td>0.000000</td>\n",
       "      <td>0.0</td>\n",
       "      <td>0.230238</td>\n",
       "      <td>0.0</td>\n",
       "    </tr>\n",
       "    <tr>\n",
       "      <th>1</th>\n",
       "      <td>0.056576</td>\n",
       "      <td>0.186817</td>\n",
       "      <td>0.044742</td>\n",
       "      <td>0.000000</td>\n",
       "      <td>0.0</td>\n",
       "      <td>0.0</td>\n",
       "      <td>0.0</td>\n",
       "      <td>0.0</td>\n",
       "      <td>0.000000</td>\n",
       "      <td>0.0</td>\n",
       "      <td>...</td>\n",
       "      <td>0.060684</td>\n",
       "      <td>0.053188</td>\n",
       "      <td>0.0</td>\n",
       "      <td>0.0</td>\n",
       "      <td>0.049988</td>\n",
       "      <td>0.000000</td>\n",
       "      <td>0.050178</td>\n",
       "      <td>0.0</td>\n",
       "      <td>0.000000</td>\n",
       "      <td>0.0</td>\n",
       "    </tr>\n",
       "    <tr>\n",
       "      <th>2</th>\n",
       "      <td>0.000000</td>\n",
       "      <td>0.345303</td>\n",
       "      <td>0.000000</td>\n",
       "      <td>0.086822</td>\n",
       "      <td>0.0</td>\n",
       "      <td>0.0</td>\n",
       "      <td>0.0</td>\n",
       "      <td>0.0</td>\n",
       "      <td>0.221197</td>\n",
       "      <td>0.0</td>\n",
       "      <td>...</td>\n",
       "      <td>0.504743</td>\n",
       "      <td>0.000000</td>\n",
       "      <td>0.0</td>\n",
       "      <td>0.0</td>\n",
       "      <td>0.000000</td>\n",
       "      <td>0.077469</td>\n",
       "      <td>0.000000</td>\n",
       "      <td>0.0</td>\n",
       "      <td>0.000000</td>\n",
       "      <td>0.0</td>\n",
       "    </tr>\n",
       "  </tbody>\n",
       "</table>\n",
       "<p>3 rows × 188 columns</p>\n",
       "</div>"
      ],
      "text/plain": [
       "       able    access  according     added  adding  ahead  american  amid  \\\n",
       "0  0.000000  0.000000   0.000000  0.000000     0.0    0.0       0.0   0.0   \n",
       "1  0.056576  0.186817   0.044742  0.000000     0.0    0.0       0.0   0.0   \n",
       "2  0.000000  0.345303   0.000000  0.086822     0.0    0.0       0.0   0.0   \n",
       "\n",
       "   announced  august  ...     video      want  way  week      work   working  \\\n",
       "0   0.000000     0.0  ...  0.000000  0.000000  0.0   0.0  0.000000  0.000000   \n",
       "1   0.000000     0.0  ...  0.060684  0.053188  0.0   0.0  0.049988  0.000000   \n",
       "2   0.221197     0.0  ...  0.504743  0.000000  0.0   0.0  0.000000  0.077469   \n",
       "\n",
       "      world  year     years  york  \n",
       "0  0.000000   0.0  0.230238   0.0  \n",
       "1  0.050178   0.0  0.000000   0.0  \n",
       "2  0.000000   0.0  0.000000   0.0  \n",
       "\n",
       "[3 rows x 188 columns]"
      ]
     },
     "metadata": {},
     "output_type": "display_data"
    }
   ],
   "source": [
    "encoded_texts = pd.DataFrame(tfidf_matrix.toarray(), columns=tfidf.get_feature_names())\n",
    "\n",
    "print(encoded_texts.shape)\n",
    "display(encoded_texts.head(3))"
   ]
  },
  {
   "attachments": {},
   "cell_type": "markdown",
   "metadata": {},
   "source": [
    "# Data Visualization"
   ]
  },
  {
   "attachments": {},
   "cell_type": "markdown",
   "metadata": {},
   "source": [
    "## Метод главных компонент (PCA)"
   ]
  },
  {
   "cell_type": "code",
   "execution_count": 149,
   "metadata": {},
   "outputs": [
    {
     "name": "stdout",
     "output_type": "stream",
     "text": [
      "(1496, 2)\n"
     ]
    }
   ],
   "source": [
    "pca = PCA(n_components=2)\n",
    "squeezed_data = pca.fit_transform(encoded_texts.values)\n",
    "\n",
    "print(squeezed_data.shape)"
   ]
  },
  {
   "cell_type": "code",
   "execution_count": 150,
   "metadata": {},
   "outputs": [
    {
     "name": "stderr",
     "output_type": "stream",
     "text": [
      "<ipython-input-150-18128ee23d71>:4: UserWarning: Matplotlib is currently using module://matplotlib_inline.backend_inline, which is a non-GUI backend, so cannot show the figure.\n",
      "  fig.show()\n"
     ]
    },
    {
     "data": {
      "image/png": "[encoded data removed]",
      "text/plain": [
       "<Figure size 400x400 with 1 Axes>"
      ]
     },
     "metadata": {},
     "output_type": "display_data"
    }
   ],
   "source": [
    "fig, ax = plt.subplots(ncols=1, figsize=(4, 4))\n",
    "ax.scatter(squeezed_data[:, 0], squeezed_data[:, 1])\n",
    "fig.tight_layout()\n",
    "fig.show()"
   ]
  },
  {
   "attachments": {},
   "cell_type": "markdown",
   "metadata": {},
   "source": [
    "## t-SNE"
   ]
  },
  {
   "cell_type": "code",
   "execution_count": 136,
   "metadata": {},
   "outputs": [
    {
     "name": "stdout",
     "output_type": "stream",
     "text": [
      "(1496, 2)\n"
     ]
    }
   ],
   "source": [
    "# Настройка функции t-SNE.\n",
    "tsne = TSNE(\n",
    "    n_components=2,                 # значение по умолчанию=2. Размерность вложенного пространства.\n",
    "\n",
    "    perplexity=5,                   # значение по умолчанию=30.0. Перплексия связана с количеством \n",
    "                                    # ближайших соседей, которое используется в других алгоритмах обучения на множествах.\n",
    "                                    \n",
    "    early_exaggeration=12,          # значение по умолчанию=12.0. Определяет, насколько плотными будут естественные \n",
    "                                    # кластеры исходного пространстве во вложенном пространстве и сколько места будет между ними. \n",
    "\n",
    "    learning_rate=500,              # значение по умолчанию=200.0. Скорость обучения для t-SNE обычно находится \n",
    "                                    # в диапазоне [10.0, 1000.0]. Если скорость обучения слишком высока, данные \n",
    "                                    # могут выглядеть как \"шар\", в котором любая точка приблизительно равноудалена \n",
    "                                    # от ближайших соседей. Если скорость обучения слишком низкая, большинство точек \n",
    "                                    # могут быть похожими на сжатое плотное облако с незначительным количеством разбросов. \n",
    "                                    \n",
    "    n_iter=10000,                   # значение по умолчанию=1000. Максимальное количество итераций для оптимизации. Должно быть не менее 250.\n",
    "\n",
    "    n_iter_without_progress=300,    # значение по умолчанию=300. Максимальное количество итераций без прогресса перед \n",
    "                                    # прекращением оптимизации, используется после 250 начальных итераций с ранним преувеличением.\n",
    "\n",
    "    min_grad_norm=0.0000001,        # значение по умолчанию=1e-7. Если норма градиента ниже этого порога, оптимизация будет остановлена.\n",
    "\n",
    "    metric='euclidean',             # значение по умолчанию='euclidean', Метрика, используемая при расчете расстояния \n",
    "                                    # между экземплярами в массиве признаков.\n",
    "\n",
    "    init='random',                  # {'random', 'pca'} или ndarray формы (n_samples, n_components), значение по \n",
    "                                    # умолчанию='random'. Инициализация вложения.\n",
    "\n",
    "    verbose=0,                      # значение по умолчанию=0. Уровень детализации.\n",
    "\n",
    "    random_state=42,                # экземпляр RandomState или None, по умолчанию=None. Определяет генератор случайных чисел. \n",
    "                                    # Передача int для воспроизводимых результатов при многократном вызове функции.\n",
    "\n",
    "    method='barnes_hut',            # значение по умолчанию='barnes_hut'. По умолчанию алгоритм вычисления градиента \n",
    "                                    # использует аппроксимацию Барнса-Хата, работающую в течение времени O(NlogN). \n",
    "                                    # метод='exact' будет работать по более медленному, но точному алгоритму за время O(N^2). \n",
    "                                    # Следует использовать точный алгоритм, когда количество ошибок ближайших соседей должно быть ниже 3%.\n",
    "\n",
    "    angle=0.5,                      # значение по умолчанию=0.5. Используется только если метод='barnes_hut' Это \n",
    "                                    # компромисс между скоростью и точностью в случае T-SNE с применением алгоритма Барнса-Хата.\n",
    "\n",
    "    n_jobs=-1,                      # значение по умолчанию=None. Количество параллельных заданий для поиска соседей. \n",
    "                                    # -1 означает использование всех процессоров.\n",
    ")\n",
    "\n",
    "# Преобразование X\n",
    "squeezed_data = tsne.fit_transform(encoded_texts.values)\n",
    "\n",
    "print(squeezed_data.shape)"
   ]
  },
  {
   "cell_type": "code",
   "execution_count": 137,
   "metadata": {},
   "outputs": [
    {
     "name": "stderr",
     "output_type": "stream",
     "text": [
      "<ipython-input-137-f42569ec8464>:4: UserWarning: Matplotlib is currently using module://matplotlib_inline.backend_inline, which is a non-GUI backend, so cannot show the figure.\n",
      "  fig.show();\n"
     ]
    },
    {
     "data": {
      "image/png": "[encoded data removed]",
      "text/plain": [
       "<Figure size 400x400 with 1 Axes>"
      ]
     },
     "metadata": {},
     "output_type": "display_data"
    }
   ],
   "source": [
    "fig, ax = plt.subplots(ncols=1, figsize=(4, 4))\n",
    "ax.scatter(squeezed_data[:, 0], squeezed_data[:, 1])\n",
    "fig.tight_layout()\n",
    "fig.show();"
   ]
  },
  {
   "attachments": {},
   "cell_type": "markdown",
   "metadata": {},
   "source": [
    "# Переходим к рекомендациям"
   ]
  },
  {
   "attachments": {},
   "cell_type": "markdown",
   "metadata": {},
   "source": [
    "## Рассчитываем близость"
   ]
  },
  {
   "attachments": {},
   "cell_type": "markdown",
   "metadata": {},
   "source": [
    "Т.е. из всего корпуса мы посчитали близость документов (каждый с каждым)"
   ]
  },
  {
   "cell_type": "code",
   "execution_count": 138,
   "metadata": {},
   "outputs": [
    {
     "name": "stdout",
     "output_type": "stream",
     "text": [
      "(1496, 1496)\n"
     ]
    }
   ],
   "source": [
    "cosine_similarities = linear_kernel(tfidf_matrix, tfidf_matrix)\n",
    "\n",
    "print(cosine_similarities.shape)"
   ]
  },
  {
   "attachments": {},
   "cell_type": "markdown",
   "metadata": {},
   "source": [
    "## Выдаем рекомендации по индексу прочтеной статьи"
   ]
  },
  {
   "cell_type": "code",
   "execution_count": 143,
   "metadata": {},
   "outputs": [],
   "source": [
    "class Recomendation:\n",
    "    def __init__(self, texts: list, similarity: list) -> None:\n",
    "        self.texts = texts\n",
    "        self.similarity = similarity\n",
    "    \n",
    "    def __call__(self, idx: int, n_articles: int = 5, n_sym: int = 100) -> None:\n",
    "        \"\"\"\n",
    "        :param idx: индекс прочтеной статьи из всего корпуса текстов\n",
    "        :param n_articles: количество статей, которые необходимо вывести\n",
    "        \"\"\"\n",
    "        print(self.texts[idx][:n_sym], \"...\\n\")\n",
    "\n",
    "        similar_articles = \\\n",
    "            sorted(list(enumerate(self.similarity[idx])), key=lambda val: val[1], reverse=True)\n",
    "                \n",
    "        i = 0\n",
    "        for idx_sim, sim in similar_articles:\n",
    "\n",
    "            if i == n_articles:\n",
    "                break\n",
    "            \n",
    "            if idx == idx_sim:\n",
    "                continue\n",
    "            \n",
    "            print(\"ID: [{}], similarity: {:.4f}\".format(idx_sim, sim))\n",
    "            print(self.texts[idx_sim][:n_sym], \"...\\n\")\n",
    "            i += 1\n",
    "        \n",
    "        return\n",
    "    "
   ]
  },
  {
   "cell_type": "code",
   "execution_count": 145,
   "metadata": {},
   "outputs": [
    {
     "name": "stdout",
     "output_type": "stream",
     "text": [
      "As TikTok’s fate in the U.S. remains murky, YouTube today announced the launch of a new short-form video experience it’s calling YouTube Shorts. The feature will allow users, initially in India, to up ...\n",
      "\n",
      "ID: [184], similarity: 0.5661\n",
      "As it awaits its US fate, TikTok rolls out new marketing tools and Stitch to let users sample other videos\n",
      "\n",
      "There’s a big question mark hanging over the future of TikTok right now, in the form of what ...\n",
      "\n",
      "ID: [1033], similarity: 0.4976\n",
      "If you were to ask me to read the \"room\" during Samsung's virtual briefing for its new Galaxy Z Fold 2, I'd say it felt weirdly tranquil. Throughout the hourlong session, the company casually breezed  ...\n",
      "\n",
      "ID: [512], similarity: 0.4649\n",
      "Facebook is getting back to its roots as a college-focused social network. The company announced today the launch of a new social networking platform, Facebook Campus, which offers college students a  ...\n",
      "\n",
      "ID: [705], similarity: 0.4517\n",
      "Beyoncé broke the internet by hopping on the remix of Megan Thee Stallion's female-anthem \"Savage\" and got social media buzzing about possibly starting an OnlyFans.\n",
      "\n",
      "\"Hips TikTok when I dance\n",
      "\n",
      "On that ...\n",
      "\n",
      "ID: [1095], similarity: 0.4432\n",
      "Now that smartphones are mostly slabs of glass on the front and uniform surfaces on the back, what do you do to stand out from the pack? If you're Vivo, you make a phone with a color-changing glass on ...\n",
      "\n"
     ]
    }
   ],
   "source": [
    "r = Recomendation(texts=data[\"text\"].values, similarity=cosine_similarities)\n",
    "r(idx=2, n_articles=5, n_sym=200)"
   ]
  },
  {
   "cell_type": "code",
   "execution_count": null,
   "metadata": {},
   "outputs": [],
   "source": []
  }
 ],
 "metadata": {
  "kernelspec": {
   "display_name": "base",
   "language": "python",
   "name": "python3"
  },
  "language_info": {
   "codemirror_mode": {
    "name": "ipython",
    "version": 3
   },
   "file_extension": ".py",
   "mimetype": "text/x-python",
   "name": "python",
   "nbconvert_exporter": "python",
   "pygments_lexer": "ipython3",
   "version": "3.8.3"
  },
  "orig_nbformat": 4
 },
 "nbformat": 4,
 "nbformat_minor": 2
}
