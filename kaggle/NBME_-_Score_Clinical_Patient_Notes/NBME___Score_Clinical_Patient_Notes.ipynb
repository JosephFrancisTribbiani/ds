{
  "cells": [
    {
      "cell_type": "markdown",
      "metadata": {
        "id": "gAObcnjvUkDj"
      },
      "source": [
        "- <a href=\"https://www.kaggle.com/c/nbme-score-clinical-patient-notes\">Ссылка</a> на соревнование KAGGLE\n",
        "- <a href=\"https://huggingface.co/\">huggingface</a>\n",
        "- <a href=\"https://www.kaggle.com/code/yasufuminakama/nbme-deberta-base-baseline-train#tokenizer\">Base notebook</a>\n",
        "\n",
        "</hr>\n",
        "\n",
        "Хорошая статья [How to use Autocast in PyTorch](https://wandb.ai/wandb_fc/tips/reports/How-to-use-Autocast-in-PyTorch--VmlldzoyMTk4NTky) по torch.cuda.amp.autocast(). Также ниже статьи по оптимизации работы CUDA:\n",
        "- [Preventing The CUDA Out Of Memory Error In PyTorch](https://wandb.ai/wandb_fc/tips/reports/Preventing-The-CUDA-Out-Of-Memory-Error-In-PyTorch--VmlldzoxNzU3NjA1?galleryTag=general)\n",
        "- [How to Use GradScaler in PyTorch](https://wandb.ai/wandb_fc/tips/reports/How-to-Use-GradScaler-in-PyTorch--VmlldzoyMTY5MDA5)"
      ]
    },
    {
      "cell_type": "markdown",
      "metadata": {
        "id": "NlH3bn4fa1tK"
      },
      "source": [
        "# Imports"
      ]
    },
    {
      "cell_type": "code",
      "execution_count": null,
      "metadata": {
        "colab": {
          "base_uri": "https://localhost:8080/"
        },
        "id": "UnEea0hWM7lx",
        "outputId": "4838f32e-82e1-4c45-f3e9-47d9103ef794"
      },
      "outputs": [
        {
          "output_type": "stream",
          "name": "stdout",
          "text": [
            "Looking in indexes: https://pypi.org/simple, https://us-python.pkg.dev/colab-wheels/public/simple/\n",
            "Requirement already satisfied: transformers in /usr/local/lib/python3.7/dist-packages (4.23.1)\n",
            "Requirement already satisfied: packaging>=20.0 in /usr/local/lib/python3.7/dist-packages (from transformers) (21.3)\n",
            "Requirement already satisfied: tokenizers!=0.11.3,<0.14,>=0.11.1 in /usr/local/lib/python3.7/dist-packages (from transformers) (0.13.1)\n",
            "Requirement already satisfied: tqdm>=4.27 in /usr/local/lib/python3.7/dist-packages (from transformers) (4.64.1)\n",
            "Requirement already satisfied: huggingface-hub<1.0,>=0.10.0 in /usr/local/lib/python3.7/dist-packages (from transformers) (0.10.1)\n",
            "Requirement already satisfied: numpy>=1.17 in /usr/local/lib/python3.7/dist-packages (from transformers) (1.21.6)\n",
            "Requirement already satisfied: filelock in /usr/local/lib/python3.7/dist-packages (from transformers) (3.8.0)\n",
            "Requirement already satisfied: regex!=2019.12.17 in /usr/local/lib/python3.7/dist-packages (from transformers) (2022.6.2)\n",
            "Requirement already satisfied: importlib-metadata in /usr/local/lib/python3.7/dist-packages (from transformers) (4.13.0)\n",
            "Requirement already satisfied: requests in /usr/local/lib/python3.7/dist-packages (from transformers) (2.23.0)\n",
            "Requirement already satisfied: pyyaml>=5.1 in /usr/local/lib/python3.7/dist-packages (from transformers) (6.0)\n",
            "Requirement already satisfied: typing-extensions>=3.7.4.3 in /usr/local/lib/python3.7/dist-packages (from huggingface-hub<1.0,>=0.10.0->transformers) (4.1.1)\n",
            "Requirement already satisfied: pyparsing!=3.0.5,>=2.0.2 in /usr/local/lib/python3.7/dist-packages (from packaging>=20.0->transformers) (3.0.9)\n",
            "Requirement already satisfied: zipp>=0.5 in /usr/local/lib/python3.7/dist-packages (from importlib-metadata->transformers) (3.9.0)\n",
            "Requirement already satisfied: chardet<4,>=3.0.2 in /usr/local/lib/python3.7/dist-packages (from requests->transformers) (3.0.4)\n",
            "Requirement already satisfied: urllib3!=1.25.0,!=1.25.1,<1.26,>=1.21.1 in /usr/local/lib/python3.7/dist-packages (from requests->transformers) (1.24.3)\n",
            "Requirement already satisfied: idna<3,>=2.5 in /usr/local/lib/python3.7/dist-packages (from requests->transformers) (2.10)\n",
            "Requirement already satisfied: certifi>=2017.4.17 in /usr/local/lib/python3.7/dist-packages (from requests->transformers) (2022.9.24)\n"
          ]
        }
      ],
      "source": [
        "%pip install transformers"
      ]
    },
    {
      "cell_type": "code",
      "execution_count": null,
      "metadata": {
        "id": "8ItKnz-Qa1PJ"
      },
      "outputs": [],
      "source": [
        "import pandas as pd\n",
        "import numpy as np\n",
        "\n",
        "import matplotlib.pyplot as plt\n",
        "import matplotlib.ticker as ticker\n",
        "import seaborn as sns\n",
        "\n",
        "import yaml\n",
        "import json\n",
        "import re\n",
        "import os\n",
        "import ast\n",
        "import pprint\n",
        "import logging\n",
        "from tqdm.auto import tqdm\n",
        "from typing import Tuple, List, Union\n",
        "from dataclasses import dataclass\n",
        "\n",
        "from transformers import BertTokenizer, AutoConfig, AutoTokenizer, AutoModel, AutoModelForTokenClassification\n",
        "from transformers import get_linear_schedule_with_warmup, get_cosine_schedule_with_warmup\n",
        "from sklearn.model_selection import GroupKFold\n",
        "\n",
        "import torch\n",
        "import torch.nn as nn\n",
        "from torch.utils.data import Dataset, DataLoader\n",
        "from torch.optim import AdamW"
      ]
    },
    {
      "cell_type": "markdown",
      "metadata": {
        "id": "wYbeOdW3UrAz"
      },
      "source": [
        "# Dowload the competition data"
      ]
    },
    {
      "cell_type": "code",
      "execution_count": null,
      "metadata": {
        "colab": {
          "base_uri": "https://localhost:8080/"
        },
        "id": "alb5k7_TZTwO",
        "outputId": "0448c7e2-dec2-41ae-c8ef-391f2b29f984"
      },
      "outputs": [
        {
          "output_type": "stream",
          "name": "stdout",
          "text": [
            "Drive already mounted at /content/drive; to attempt to forcibly remount, call drive.mount(\"/content/drive\", force_remount=True).\n"
          ]
        }
      ],
      "source": [
        "from google.colab import drive\n",
        "drive.mount('/content/drive')"
      ]
    },
    {
      "cell_type": "code",
      "execution_count": null,
      "metadata": {
        "colab": {
          "base_uri": "https://localhost:8080/"
        },
        "id": "Pq_PocTqUtU6",
        "outputId": "c6df3f26-00a4-443c-d3c2-607bdba144fd"
      },
      "outputs": [
        {
          "output_type": "stream",
          "name": "stdout",
          "text": [
            "Found existing installation: kaggle 1.5.12\n",
            "Uninstalling kaggle-1.5.12:\n",
            "  Successfully uninstalled kaggle-1.5.12\n",
            "Looking in indexes: https://pypi.org/simple, https://us-python.pkg.dev/colab-wheels/public/simple/\n",
            "Requirement already satisfied: pip in /usr/local/lib/python3.7/dist-packages (21.1.3)\n",
            "Collecting pip\n",
            "  Downloading pip-22.3-py3-none-any.whl (2.1 MB)\n",
            "\u001b[K     |████████████████████████████████| 2.1 MB 5.4 MB/s \n",
            "\u001b[?25hInstalling collected packages: pip\n",
            "  Attempting uninstall: pip\n",
            "    Found existing installation: pip 21.1.3\n",
            "    Uninstalling pip-21.1.3:\n",
            "      Successfully uninstalled pip-21.1.3\n",
            "Successfully installed pip-22.3\n",
            "Looking in indexes: https://pypi.org/simple, https://us-python.pkg.dev/colab-wheels/public/simple/\n",
            "Collecting kaggle>=1.5.6\n",
            "  Downloading kaggle-1.5.12.tar.gz (58 kB)\n",
            "\u001b[2K     \u001b[90m━━━━━━━━━━━━━━━━━━━━━━━━━━━━━━━━━━━━━━━━\u001b[0m \u001b[32m59.0/59.0 kB\u001b[0m \u001b[31m4.0 MB/s\u001b[0m eta \u001b[36m0:00:00\u001b[0m\n",
            "\u001b[?25h  Preparing metadata (setup.py) ... \u001b[?25l\u001b[?25hdone\n",
            "Requirement already satisfied: six>=1.10 in /usr/local/lib/python3.7/dist-packages (from kaggle>=1.5.6) (1.15.0)\n",
            "Requirement already satisfied: certifi in /usr/local/lib/python3.7/dist-packages (from kaggle>=1.5.6) (2022.9.24)\n",
            "Requirement already satisfied: python-dateutil in /usr/local/lib/python3.7/dist-packages (from kaggle>=1.5.6) (2.8.2)\n",
            "Requirement already satisfied: requests in /usr/local/lib/python3.7/dist-packages (from kaggle>=1.5.6) (2.23.0)\n",
            "Requirement already satisfied: tqdm in /usr/local/lib/python3.7/dist-packages (from kaggle>=1.5.6) (4.64.1)\n",
            "Requirement already satisfied: python-slugify in /usr/local/lib/python3.7/dist-packages (from kaggle>=1.5.6) (6.1.2)\n",
            "Requirement already satisfied: urllib3 in /usr/local/lib/python3.7/dist-packages (from kaggle>=1.5.6) (1.24.3)\n",
            "Requirement already satisfied: text-unidecode>=1.3 in /usr/local/lib/python3.7/dist-packages (from python-slugify->kaggle>=1.5.6) (1.3)\n",
            "Requirement already satisfied: chardet<4,>=3.0.2 in /usr/local/lib/python3.7/dist-packages (from requests->kaggle>=1.5.6) (3.0.4)\n",
            "Requirement already satisfied: idna<3,>=2.5 in /usr/local/lib/python3.7/dist-packages (from requests->kaggle>=1.5.6) (2.10)\n",
            "Building wheels for collected packages: kaggle\n",
            "  Building wheel for kaggle (setup.py) ... \u001b[?25l\u001b[?25hdone\n",
            "  Created wheel for kaggle: filename=kaggle-1.5.12-py3-none-any.whl size=73051 sha256=4bcf0ef99142f4795e01d0f8b8853dd04e58a0716b213a9c0200e46ab3d1a303\n",
            "  Stored in directory: /root/.cache/pip/wheels/11/ec/8f/80c32ff2501f7b1a76f4df651a0242314d229a5d3e5130bd01\n",
            "Successfully built kaggle\n",
            "Installing collected packages: kaggle\n",
            "Successfully installed kaggle-1.5.12\n",
            "\u001b[33mWARNING: Running pip as the 'root' user can result in broken permissions and conflicting behaviour with the system package manager. It is recommended to use a virtual environment instead: https://pip.pypa.io/warnings/venv\u001b[0m\u001b[33m\n",
            "\u001b[0m"
          ]
        }
      ],
      "source": [
        "# updating the Kagggle API module using pip\n",
        "!pip uninstall -y kaggle\n",
        "!pip install --upgrade pip\n",
        "!pip install \"kaggle>=1.5.6\""
      ]
    },
    {
      "cell_type": "code",
      "execution_count": null,
      "metadata": {
        "colab": {
          "base_uri": "https://localhost:8080/"
        },
        "id": "WvGXBErwZbHE",
        "outputId": "80c48652-be14-4c2e-b357-13782ae92971"
      },
      "outputs": [
        {
          "output_type": "stream",
          "name": "stdout",
          "text": [
            "mkdir: created directory 'NBME_-_Score_Clinical_Patient_Notes'\n",
            "mkdir: created directory 'NBME_-_Score_Clinical_Patient_Notes/inputs'\n",
            "/content/NBME_-_Score_Clinical_Patient_Notes\n"
          ]
        }
      ],
      "source": [
        "%rm -rf sample_data\n",
        "%mkdir -p -v NBME_-_Score_Clinical_Patient_Notes/inputs\n",
        "%cd NBME_-_Score_Clinical_Patient_Notes"
      ]
    },
    {
      "cell_type": "code",
      "execution_count": null,
      "metadata": {
        "id": "f1zK02ntZmcJ"
      },
      "outputs": [],
      "source": [
        "# добавляем в переменные окружения папку, в которой находится kaggle.json с токеном для kaggle API\n",
        "os.environ['KAGGLE_CONFIG_DIR'] = '//content/drive/MyDrive/kaggle'"
      ]
    },
    {
      "cell_type": "code",
      "execution_count": null,
      "metadata": {
        "id": "Czq0YsQVZ-NP"
      },
      "outputs": [],
      "source": [
        "# download the competition data\n",
        "!kaggle competitions download -c nbme-score-clinical-patient-notes --path . --force --quiet"
      ]
    },
    {
      "cell_type": "code",
      "execution_count": null,
      "metadata": {
        "id": "MXMNDyxjaNjY"
      },
      "outputs": [],
      "source": [
        "# unzip the competition data\n",
        "!unzip -qq nbme-score-clinical-patient-notes.zip -d inputs"
      ]
    },
    {
      "cell_type": "markdown",
      "metadata": {
        "id": "ZAgmKbyDaWso"
      },
      "source": [
        "# Let's have a look at our data"
      ]
    },
    {
      "cell_type": "code",
      "execution_count": null,
      "metadata": {
        "colab": {
          "base_uri": "https://localhost:8080/"
        },
        "id": "K2wMuluiaT_P",
        "outputId": "9b951d7c-8be5-4442-fa1e-47d032f7e01b"
      },
      "outputs": [
        {
          "name": "stdout",
          "output_type": "stream",
          "text": [
            "total 34908\n",
            "-rw-r--r-- 1 root root     4354 Jan 10  2022 features.csv\n",
            "-rw-r--r-- 1 root root 34966100 Jan 10  2022 patient_notes.csv\n",
            "-rw-r--r-- 1 root root       93 Jan 10  2022 sample_submission.csv\n",
            "-rw-r--r-- 1 root root      141 Jan 10  2022 test.csv\n",
            "-rw-r--r-- 1 root root   761246 Jan 10  2022 train.csv\n"
          ]
        }
      ],
      "source": [
        "%ls -l //content/NBME_-_Score_Clinical_Patient_Notes/inputs"
      ]
    },
    {
      "cell_type": "markdown",
      "metadata": {
        "id": "1-uI28W_bqwk"
      },
      "source": [
        "### features.csv"
      ]
    },
    {
      "cell_type": "code",
      "execution_count": null,
      "metadata": {
        "colab": {
          "base_uri": "https://localhost:8080/"
        },
        "id": "rlaQDHNWat_2",
        "outputId": "7fb2d234-6a4d-42bd-ef09-50b025b95983"
      },
      "outputs": [
        {
          "name": "stdout",
          "output_type": "stream",
          "text": [
            "<class 'pandas.core.frame.DataFrame'>\n",
            "RangeIndex: 143 entries, 0 to 142\n",
            "Data columns (total 3 columns):\n",
            " #   Column        Non-Null Count  Dtype \n",
            "---  ------        --------------  ----- \n",
            " 0   feature_num   143 non-null    int64 \n",
            " 1   case_num      143 non-null    int64 \n",
            " 2   feature_text  143 non-null    object\n",
            "dtypes: int64(2), object(1)\n",
            "memory usage: 3.5+ KB\n"
          ]
        },
        {
          "data": {
            "text/html": [
              "\n",
              "  <div id=\"df-f571b6c9-d31c-490c-8b29-6ad37767fb83\">\n",
              "    <div class=\"colab-df-container\">\n",
              "      <div>\n",
              "<style scoped>\n",
              "    .dataframe tbody tr th:only-of-type {\n",
              "        vertical-align: middle;\n",
              "    }\n",
              "\n",
              "    .dataframe tbody tr th {\n",
              "        vertical-align: top;\n",
              "    }\n",
              "\n",
              "    .dataframe thead th {\n",
              "        text-align: right;\n",
              "    }\n",
              "</style>\n",
              "<table border=\"1\" class=\"dataframe\">\n",
              "  <thead>\n",
              "    <tr style=\"text-align: right;\">\n",
              "      <th></th>\n",
              "      <th>feature_num</th>\n",
              "      <th>case_num</th>\n",
              "      <th>feature_text</th>\n",
              "    </tr>\n",
              "  </thead>\n",
              "  <tbody>\n",
              "    <tr>\n",
              "      <th>0</th>\n",
              "      <td>0</td>\n",
              "      <td>0</td>\n",
              "      <td>Family-history-of-MI-OR-Family-history-of-myoc...</td>\n",
              "    </tr>\n",
              "    <tr>\n",
              "      <th>1</th>\n",
              "      <td>1</td>\n",
              "      <td>0</td>\n",
              "      <td>Family-history-of-thyroid-disorder</td>\n",
              "    </tr>\n",
              "    <tr>\n",
              "      <th>2</th>\n",
              "      <td>2</td>\n",
              "      <td>0</td>\n",
              "      <td>Chest-pressure</td>\n",
              "    </tr>\n",
              "    <tr>\n",
              "      <th>3</th>\n",
              "      <td>3</td>\n",
              "      <td>0</td>\n",
              "      <td>Intermittent-symptoms</td>\n",
              "    </tr>\n",
              "    <tr>\n",
              "      <th>4</th>\n",
              "      <td>4</td>\n",
              "      <td>0</td>\n",
              "      <td>Lightheaded</td>\n",
              "    </tr>\n",
              "  </tbody>\n",
              "</table>\n",
              "</div>\n",
              "      <button class=\"colab-df-convert\" onclick=\"convertToInteractive('df-f571b6c9-d31c-490c-8b29-6ad37767fb83')\"\n",
              "              title=\"Convert this dataframe to an interactive table.\"\n",
              "              style=\"display:none;\">\n",
              "        \n",
              "  <svg xmlns=\"http://www.w3.org/2000/svg\" height=\"24px\"viewBox=\"0 0 24 24\"\n",
              "       width=\"24px\">\n",
              "    <path d=\"M0 0h24v24H0V0z\" fill=\"none\"/>\n",
              "    <path d=\"M18.56 5.44l.94 2.06.94-2.06 2.06-.94-2.06-.94-.94-2.06-.94 2.06-2.06.94zm-11 1L8.5 8.5l.94-2.06 2.06-.94-2.06-.94L8.5 2.5l-.94 2.06-2.06.94zm10 10l.94 2.06.94-2.06 2.06-.94-2.06-.94-.94-2.06-.94 2.06-2.06.94z\"/><path d=\"M17.41 7.96l-1.37-1.37c-.4-.4-.92-.59-1.43-.59-.52 0-1.04.2-1.43.59L10.3 9.45l-7.72 7.72c-.78.78-.78 2.05 0 2.83L4 21.41c.39.39.9.59 1.41.59.51 0 1.02-.2 1.41-.59l7.78-7.78 2.81-2.81c.8-.78.8-2.07 0-2.86zM5.41 20L4 18.59l7.72-7.72 1.47 1.35L5.41 20z\"/>\n",
              "  </svg>\n",
              "      </button>\n",
              "      \n",
              "  <style>\n",
              "    .colab-df-container {\n",
              "      display:flex;\n",
              "      flex-wrap:wrap;\n",
              "      gap: 12px;\n",
              "    }\n",
              "\n",
              "    .colab-df-convert {\n",
              "      background-color: #E8F0FE;\n",
              "      border: none;\n",
              "      border-radius: 50%;\n",
              "      cursor: pointer;\n",
              "      display: none;\n",
              "      fill: #1967D2;\n",
              "      height: 32px;\n",
              "      padding: 0 0 0 0;\n",
              "      width: 32px;\n",
              "    }\n",
              "\n",
              "    .colab-df-convert:hover {\n",
              "      background-color: #E2EBFA;\n",
              "      box-shadow: 0px 1px 2px rgba(60, 64, 67, 0.3), 0px 1px 3px 1px rgba(60, 64, 67, 0.15);\n",
              "      fill: #174EA6;\n",
              "    }\n",
              "\n",
              "    [theme=dark] .colab-df-convert {\n",
              "      background-color: #3B4455;\n",
              "      fill: #D2E3FC;\n",
              "    }\n",
              "\n",
              "    [theme=dark] .colab-df-convert:hover {\n",
              "      background-color: #434B5C;\n",
              "      box-shadow: 0px 1px 3px 1px rgba(0, 0, 0, 0.15);\n",
              "      filter: drop-shadow(0px 1px 2px rgba(0, 0, 0, 0.3));\n",
              "      fill: #FFFFFF;\n",
              "    }\n",
              "  </style>\n",
              "\n",
              "      <script>\n",
              "        const buttonEl =\n",
              "          document.querySelector('#df-f571b6c9-d31c-490c-8b29-6ad37767fb83 button.colab-df-convert');\n",
              "        buttonEl.style.display =\n",
              "          google.colab.kernel.accessAllowed ? 'block' : 'none';\n",
              "\n",
              "        async function convertToInteractive(key) {\n",
              "          const element = document.querySelector('#df-f571b6c9-d31c-490c-8b29-6ad37767fb83');\n",
              "          const dataTable =\n",
              "            await google.colab.kernel.invokeFunction('convertToInteractive',\n",
              "                                                     [key], {});\n",
              "          if (!dataTable) return;\n",
              "\n",
              "          const docLinkHtml = 'Like what you see? Visit the ' +\n",
              "            '<a target=\"_blank\" href=https://colab.research.google.com/notebooks/data_table.ipynb>data table notebook</a>'\n",
              "            + ' to learn more about interactive tables.';\n",
              "          element.innerHTML = '';\n",
              "          dataTable['output_type'] = 'display_data';\n",
              "          await google.colab.output.renderOutput(dataTable, element);\n",
              "          const docLink = document.createElement('div');\n",
              "          docLink.innerHTML = docLinkHtml;\n",
              "          element.appendChild(docLink);\n",
              "        }\n",
              "      </script>\n",
              "    </div>\n",
              "  </div>\n",
              "  "
            ],
            "text/plain": [
              "   feature_num  case_num                                       feature_text\n",
              "0            0         0  Family-history-of-MI-OR-Family-history-of-myoc...\n",
              "1            1         0                 Family-history-of-thyroid-disorder\n",
              "2            2         0                                     Chest-pressure\n",
              "3            3         0                              Intermittent-symptoms\n",
              "4            4         0                                        Lightheaded"
            ]
          },
          "execution_count": 10,
          "metadata": {},
          "output_type": "execute_result"
        }
      ],
      "source": [
        "features = pd.read_csv('//content/NBME_-_Score_Clinical_Patient_Notes/inputs/features.csv')\n",
        "features.info()\n",
        "features.head()"
      ]
    },
    {
      "cell_type": "code",
      "execution_count": null,
      "metadata": {
        "colab": {
          "base_uri": "https://localhost:8080/"
        },
        "id": "RLfu88Zbcucs",
        "outputId": "98f663db-27bc-4fd2-8c4c-e3953e9ca516"
      },
      "outputs": [
        {
          "data": {
            "text/plain": [
              "feature_num     143\n",
              "case_num         10\n",
              "feature_text    131\n",
              "dtype: int64"
            ]
          },
          "execution_count": 11,
          "metadata": {},
          "output_type": "execute_result"
        }
      ],
      "source": [
        "features.nunique()"
      ]
    },
    {
      "cell_type": "code",
      "execution_count": null,
      "metadata": {
        "colab": {
          "base_uri": "https://localhost:8080/"
        },
        "id": "AXVRVF6f_DRS",
        "outputId": "5928dccc-106b-4880-d048-ea48cacd144b"
      },
      "outputs": [
        {
          "data": {
            "text/plain": [
              "feature_num     0\n",
              "case_num        0\n",
              "feature_text    0\n",
              "dtype: int64"
            ]
          },
          "execution_count": 12,
          "metadata": {},
          "output_type": "execute_result"
        }
      ],
      "source": [
        "features.isna().sum()"
      ]
    },
    {
      "cell_type": "code",
      "execution_count": null,
      "metadata": {
        "colab": {
          "base_uri": "https://localhost:8080/"
        },
        "id": "10y5d8EIdFuy",
        "outputId": "3b05e676-16bb-46c2-8cd8-25a485261564"
      },
      "outputs": [
        {
          "data": {
            "image/png": "[encoded data removed]",
            "text/plain": [
              "<Figure size 864x216 with 1 Axes>"
            ]
          },
          "metadata": {},
          "output_type": "display_data"
        }
      ],
      "source": [
        "grouped = features.groupby('case_num').count()\n",
        "grouped = pd.melt(grouped, ignore_index=False).reset_index()\n",
        "\n",
        "fig = sns.catplot(x='case_num', y='value', data=grouped, hue='variable', kind='bar')\n",
        "fig.fig.set_figwidth(12)\n",
        "fig.fig.set_figheight(3)\n",
        "plt.title('feature_num / feature_text distribution')\n",
        "plt.show()"
      ]
    },
    {
      "cell_type": "markdown",
      "metadata": {
        "id": "28hQxM87-xLF"
      },
      "source": [
        "`feature_num` по сути является уникальным ID значением, соответствующим уникальной паре `feature_text` / `case_num`. В колонке `feature_text` есть повторения. "
      ]
    },
    {
      "cell_type": "code",
      "execution_count": null,
      "metadata": {
        "colab": {
          "base_uri": "https://localhost:8080/"
        },
        "id": "9lOVRlXv5jPV",
        "outputId": "9142fece-18a8-4490-a34b-0b3f035d1cc6"
      },
      "outputs": [
        {
          "name": "stdout",
          "output_type": "stream",
          "text": [
            "Количество повторений пары case_num / feature_text: 0\n"
          ]
        }
      ],
      "source": [
        "print('Количество повторений пары case_num / feature_text: {}'.format(len(features[features.duplicated(subset=['case_num', 'feature_text'])])))"
      ]
    },
    {
      "cell_type": "code",
      "execution_count": null,
      "metadata": {
        "colab": {
          "base_uri": "https://localhost:8080/"
        },
        "id": "6m5yvtnJ7FmE",
        "outputId": "766a15ed-e06c-42a3-876f-16e71bc2a8e4"
      },
      "outputs": [
        {
          "data": {
            "image/png": "[encoded data removed]",
            "text/plain": [
              "<Figure size 432x288 with 1 Axes>"
            ]
          },
          "metadata": {},
          "output_type": "display_data"
        }
      ],
      "source": [
        "features['feature_text_splited'] = features['feature_text'].apply(lambda seq: re.split('-or-', seq, flags=re.IGNORECASE))\n",
        "features = features.explode('feature_text_splited', ignore_index=True)\n",
        "features['seq_len'] = features['feature_text_splited'].apply(lambda seq: len(seq.split('-')))\n",
        "\n",
        "sns.histplot(data=features, x='seq_len', hue='case_num', kde=True, multiple=\"stack\")\n",
        "plt.xticks(ticks=np.arange(features['seq_len'].min(), features['seq_len'].max()))\n",
        "plt.title('feature_text sequence lenght distribution')\n",
        "plt.show()"
      ]
    },
    {
      "cell_type": "markdown",
      "metadata": {
        "id": "OqyIt0VFokcR"
      },
      "source": [
        "При этом интересно отметить, что $ \\text{feature_num} // 100 = \\text{case_num} $. Т.е. первая цифра в `feature_num` является `case_num` (кроме случая `case_num` == 0, в этом случае просто размерность понижается). Остальные числа идут по порядку."
      ]
    },
    {
      "cell_type": "code",
      "execution_count": null,
      "metadata": {
        "colab": {
          "base_uri": "https://localhost:8080/"
        },
        "id": "HlIQXnmAoj8P",
        "outputId": "547393ff-e52a-4d7d-8628-2441da248880"
      },
      "outputs": [
        {
          "name": "stdout",
          "output_type": "stream",
          "text": [
            "Первая цифра - case_num:\tTrue\n",
            "Остальные по порядку:\t\tTrue\n"
          ]
        }
      ],
      "source": [
        "print('Первая цифра - case_num:\\t{}'.format(np.all(features.groupby('case_num') \\\n",
        "                                    .apply(lambda group: group.feature_num // 100 == group.case_num).values)))\n",
        "print('Остальные по порядку:\\t\\t{}'.format(np.all(features.groupby('case_num') \\\n",
        "                                   .apply(lambda group: (group.feature_num % 100).max() == group.feature_num.nunique() - 1).values)))"
      ]
    },
    {
      "cell_type": "markdown",
      "metadata": {
        "id": "NlkhSSMpxIHk"
      },
      "source": [
        "### patient_notes.csv"
      ]
    },
    {
      "cell_type": "code",
      "execution_count": null,
      "metadata": {
        "colab": {
          "base_uri": "https://localhost:8080/"
        },
        "id": "uC8FpcXaTGe4",
        "outputId": "79df2e9d-1137-4f5d-8f63-516b0a030a94"
      },
      "outputs": [
        {
          "name": "stdout",
          "output_type": "stream",
          "text": [
            "<class 'pandas.core.frame.DataFrame'>\n",
            "RangeIndex: 42146 entries, 0 to 42145\n",
            "Data columns (total 3 columns):\n",
            " #   Column      Non-Null Count  Dtype \n",
            "---  ------      --------------  ----- \n",
            " 0   pn_num      42146 non-null  int64 \n",
            " 1   case_num    42146 non-null  int64 \n",
            " 2   pn_history  42146 non-null  object\n",
            "dtypes: int64(2), object(1)\n",
            "memory usage: 987.9+ KB\n"
          ]
        },
        {
          "data": {
            "text/html": [
              "\n",
              "  <div id=\"df-dbfe830b-1cfe-4db5-aabe-23f88f4feb63\">\n",
              "    <div class=\"colab-df-container\">\n",
              "      <div>\n",
              "<style scoped>\n",
              "    .dataframe tbody tr th:only-of-type {\n",
              "        vertical-align: middle;\n",
              "    }\n",
              "\n",
              "    .dataframe tbody tr th {\n",
              "        vertical-align: top;\n",
              "    }\n",
              "\n",
              "    .dataframe thead th {\n",
              "        text-align: right;\n",
              "    }\n",
              "</style>\n",
              "<table border=\"1\" class=\"dataframe\">\n",
              "  <thead>\n",
              "    <tr style=\"text-align: right;\">\n",
              "      <th></th>\n",
              "      <th>pn_num</th>\n",
              "      <th>case_num</th>\n",
              "      <th>pn_history</th>\n",
              "    </tr>\n",
              "  </thead>\n",
              "  <tbody>\n",
              "    <tr>\n",
              "      <th>0</th>\n",
              "      <td>0</td>\n",
              "      <td>0</td>\n",
              "      <td>17-year-old male, has come to the student heal...</td>\n",
              "    </tr>\n",
              "    <tr>\n",
              "      <th>1</th>\n",
              "      <td>1</td>\n",
              "      <td>0</td>\n",
              "      <td>17 yo male with recurrent palpitations for the...</td>\n",
              "    </tr>\n",
              "    <tr>\n",
              "      <th>2</th>\n",
              "      <td>2</td>\n",
              "      <td>0</td>\n",
              "      <td>Dillon Cleveland is a 17 y.o. male patient wit...</td>\n",
              "    </tr>\n",
              "    <tr>\n",
              "      <th>3</th>\n",
              "      <td>3</td>\n",
              "      <td>0</td>\n",
              "      <td>a 17 yo m c/o palpitation started 3 mos ago; \\...</td>\n",
              "    </tr>\n",
              "    <tr>\n",
              "      <th>4</th>\n",
              "      <td>4</td>\n",
              "      <td>0</td>\n",
              "      <td>17yo male with no pmh here for evaluation of p...</td>\n",
              "    </tr>\n",
              "  </tbody>\n",
              "</table>\n",
              "</div>\n",
              "      <button class=\"colab-df-convert\" onclick=\"convertToInteractive('df-dbfe830b-1cfe-4db5-aabe-23f88f4feb63')\"\n",
              "              title=\"Convert this dataframe to an interactive table.\"\n",
              "              style=\"display:none;\">\n",
              "        \n",
              "  <svg xmlns=\"http://www.w3.org/2000/svg\" height=\"24px\"viewBox=\"0 0 24 24\"\n",
              "       width=\"24px\">\n",
              "    <path d=\"M0 0h24v24H0V0z\" fill=\"none\"/>\n",
              "    <path d=\"M18.56 5.44l.94 2.06.94-2.06 2.06-.94-2.06-.94-.94-2.06-.94 2.06-2.06.94zm-11 1L8.5 8.5l.94-2.06 2.06-.94-2.06-.94L8.5 2.5l-.94 2.06-2.06.94zm10 10l.94 2.06.94-2.06 2.06-.94-2.06-.94-.94-2.06-.94 2.06-2.06.94z\"/><path d=\"M17.41 7.96l-1.37-1.37c-.4-.4-.92-.59-1.43-.59-.52 0-1.04.2-1.43.59L10.3 9.45l-7.72 7.72c-.78.78-.78 2.05 0 2.83L4 21.41c.39.39.9.59 1.41.59.51 0 1.02-.2 1.41-.59l7.78-7.78 2.81-2.81c.8-.78.8-2.07 0-2.86zM5.41 20L4 18.59l7.72-7.72 1.47 1.35L5.41 20z\"/>\n",
              "  </svg>\n",
              "      </button>\n",
              "      \n",
              "  <style>\n",
              "    .colab-df-container {\n",
              "      display:flex;\n",
              "      flex-wrap:wrap;\n",
              "      gap: 12px;\n",
              "    }\n",
              "\n",
              "    .colab-df-convert {\n",
              "      background-color: #E8F0FE;\n",
              "      border: none;\n",
              "      border-radius: 50%;\n",
              "      cursor: pointer;\n",
              "      display: none;\n",
              "      fill: #1967D2;\n",
              "      height: 32px;\n",
              "      padding: 0 0 0 0;\n",
              "      width: 32px;\n",
              "    }\n",
              "\n",
              "    .colab-df-convert:hover {\n",
              "      background-color: #E2EBFA;\n",
              "      box-shadow: 0px 1px 2px rgba(60, 64, 67, 0.3), 0px 1px 3px 1px rgba(60, 64, 67, 0.15);\n",
              "      fill: #174EA6;\n",
              "    }\n",
              "\n",
              "    [theme=dark] .colab-df-convert {\n",
              "      background-color: #3B4455;\n",
              "      fill: #D2E3FC;\n",
              "    }\n",
              "\n",
              "    [theme=dark] .colab-df-convert:hover {\n",
              "      background-color: #434B5C;\n",
              "      box-shadow: 0px 1px 3px 1px rgba(0, 0, 0, 0.15);\n",
              "      filter: drop-shadow(0px 1px 2px rgba(0, 0, 0, 0.3));\n",
              "      fill: #FFFFFF;\n",
              "    }\n",
              "  </style>\n",
              "\n",
              "      <script>\n",
              "        const buttonEl =\n",
              "          document.querySelector('#df-dbfe830b-1cfe-4db5-aabe-23f88f4feb63 button.colab-df-convert');\n",
              "        buttonEl.style.display =\n",
              "          google.colab.kernel.accessAllowed ? 'block' : 'none';\n",
              "\n",
              "        async function convertToInteractive(key) {\n",
              "          const element = document.querySelector('#df-dbfe830b-1cfe-4db5-aabe-23f88f4feb63');\n",
              "          const dataTable =\n",
              "            await google.colab.kernel.invokeFunction('convertToInteractive',\n",
              "                                                     [key], {});\n",
              "          if (!dataTable) return;\n",
              "\n",
              "          const docLinkHtml = 'Like what you see? Visit the ' +\n",
              "            '<a target=\"_blank\" href=https://colab.research.google.com/notebooks/data_table.ipynb>data table notebook</a>'\n",
              "            + ' to learn more about interactive tables.';\n",
              "          element.innerHTML = '';\n",
              "          dataTable['output_type'] = 'display_data';\n",
              "          await google.colab.output.renderOutput(dataTable, element);\n",
              "          const docLink = document.createElement('div');\n",
              "          docLink.innerHTML = docLinkHtml;\n",
              "          element.appendChild(docLink);\n",
              "        }\n",
              "      </script>\n",
              "    </div>\n",
              "  </div>\n",
              "  "
            ],
            "text/plain": [
              "   pn_num  case_num                                         pn_history\n",
              "0       0         0  17-year-old male, has come to the student heal...\n",
              "1       1         0  17 yo male with recurrent palpitations for the...\n",
              "2       2         0  Dillon Cleveland is a 17 y.o. male patient wit...\n",
              "3       3         0  a 17 yo m c/o palpitation started 3 mos ago; \\...\n",
              "4       4         0  17yo male with no pmh here for evaluation of p..."
            ]
          },
          "execution_count": 17,
          "metadata": {},
          "output_type": "execute_result"
        }
      ],
      "source": [
        "patient_notes = pd.read_csv('//content/NBME_-_Score_Clinical_Patient_Notes/inputs/patient_notes.csv')\n",
        "patient_notes.info()\n",
        "patient_notes.head()"
      ]
    },
    {
      "cell_type": "code",
      "execution_count": null,
      "metadata": {
        "colab": {
          "base_uri": "https://localhost:8080/"
        },
        "id": "zmQBf0HUZfF1",
        "outputId": "e2f811a0-3145-41e8-a0b8-3d31bb20c5fb"
      },
      "outputs": [
        {
          "data": {
            "text/plain": [
              "pn_num        42146\n",
              "case_num         10\n",
              "pn_history    42146\n",
              "dtype: int64"
            ]
          },
          "execution_count": 18,
          "metadata": {},
          "output_type": "execute_result"
        }
      ],
      "source": [
        "patient_notes.nunique()"
      ]
    },
    {
      "cell_type": "code",
      "execution_count": null,
      "metadata": {
        "colab": {
          "base_uri": "https://localhost:8080/"
        },
        "id": "dyQjaBymxpxt",
        "outputId": "facb0c0f-827f-48e2-b10d-fb56d88e5e1d"
      },
      "outputs": [
        {
          "data": {
            "text/plain": [
              "pn_num        0\n",
              "case_num      0\n",
              "pn_history    0\n",
              "dtype: int64"
            ]
          },
          "execution_count": 19,
          "metadata": {},
          "output_type": "execute_result"
        }
      ],
      "source": [
        "patient_notes.isna().sum()"
      ]
    },
    {
      "cell_type": "code",
      "execution_count": null,
      "metadata": {
        "colab": {
          "base_uri": "https://localhost:8080/"
        },
        "id": "ndRB12CLxr69",
        "outputId": "d26022b7-739c-494e-8fec-0c8791010f22"
      },
      "outputs": [
        {
          "data": {
            "image/png": "[encoded data removed]",
            "text/plain": [
              "<Figure size 864x216 with 1 Axes>"
            ]
          },
          "metadata": {},
          "output_type": "display_data"
        }
      ],
      "source": [
        "grouped = patient_notes.groupby('case_num').count()\n",
        "grouped = pd.melt(grouped, ignore_index=False).reset_index()\n",
        "\n",
        "fig = sns.catplot(x='case_num', y='value', data=grouped, hue='variable', kind='bar')\n",
        "fig.fig.set_figwidth(12)\n",
        "fig.fig.set_figheight(3)\n",
        "plt.title('pn_num / pn_history distribution')\n",
        "plt.show()"
      ]
    },
    {
      "cell_type": "markdown",
      "metadata": {
        "id": "N3GJ4Ki5ymDI"
      },
      "source": [
        "`pn_num` является уникальным ID для каждой конкретной `pn_history`"
      ]
    },
    {
      "cell_type": "code",
      "execution_count": null,
      "metadata": {
        "colab": {
          "base_uri": "https://localhost:8080/"
        },
        "id": "XfofTIibyvOp",
        "outputId": "15a739d0-f2b3-46bf-f358-1e2ef168ecdb"
      },
      "outputs": [
        {
          "name": "stdout",
          "output_type": "stream",
          "text": [
            "HPI: 17yo M presents with palpitations. Patient reports 3-4 months of intermittent episodes of \"heart beating/pounding out of my chest.\" 2 days ago during a soccer game had an episode, but this time had chest pressure and felt as if he were going to pass out (did not lose conciousness). Of note patient endorses abusing adderall, primarily to study (1-3 times per week). Before recent soccer game, took adderrall night before and morning of game. Denies shortness of breath, diaphoresis, fevers, chills, headache, fatigue, changes in sleep, changes in vision/hearing, abdominal paun, changes in bowel or urinary habits. \r\n",
            "PMHx: none\r\n",
            "Rx: uses friends adderrall\r\n",
            "FHx: mom with \"thyroid disease,\" dad with recent heart attcak\r\n",
            "All: none\r\n",
            "Immunizations: up to date\r\n",
            "SHx: Freshmen in college. Endorses 3-4 drinks 3 nights / week (on weekends), denies tabacco, endorses trying marijuana. Sexually active with girlfriend x 1 year, uses condoms\n"
          ]
        }
      ],
      "source": [
        "# Пример pn_history\n",
        "print(patient_notes[patient_notes.pn_num == 16].pn_history.iloc[0])"
      ]
    },
    {
      "cell_type": "markdown",
      "metadata": {
        "id": "eWZ73uVgo-kr"
      },
      "source": [
        "При этом интересно отметить, что $ \\text{pn_num} // 10000 = \\text{case_num} $. Т.е. первая цифра в `pn_num` является `case_num` (кроме случая `case_num` == 0, в этом случае просто размерность понижается). Остальные числа НЕ идут по порядку."
      ]
    },
    {
      "cell_type": "code",
      "execution_count": null,
      "metadata": {
        "colab": {
          "base_uri": "https://localhost:8080/"
        },
        "id": "KIcmppHto-ur",
        "outputId": "34f54d5e-efb2-4f6e-9be8-7469ea75ebcc"
      },
      "outputs": [
        {
          "name": "stdout",
          "output_type": "stream",
          "text": [
            "Первая цифра - case_num:\tTrue\n",
            "Остальные по порядку:\t\tFalse\n"
          ]
        }
      ],
      "source": [
        "print('Первая цифра - case_num:\\t{}'.format(np.all(patient_notes.groupby('case_num') \\\n",
        "                                    .apply(lambda group: group.pn_num // 10000 == group.case_num).values)))\n",
        "print('Остальные по порядку:\\t\\t{}'.format(np.all(patient_notes.groupby('case_num') \\\n",
        "                                   .apply(lambda group: (group.pn_num % 10000).max() == group.pn_num.nunique() - 1).values)))"
      ]
    },
    {
      "cell_type": "code",
      "execution_count": null,
      "metadata": {
        "colab": {
          "base_uri": "https://localhost:8080/"
        },
        "id": "4A2WtBMRzY4W",
        "outputId": "b9e4869a-0169-4e19-b2be-3133d8e9507d"
      },
      "outputs": [
        {
          "data": {
            "text/html": [
              "\n",
              "  <div id=\"df-67955117-de89-42bb-baa1-249a9b9f7daa\">\n",
              "    <div class=\"colab-df-container\">\n",
              "      <div>\n",
              "<style scoped>\n",
              "    .dataframe tbody tr th:only-of-type {\n",
              "        vertical-align: middle;\n",
              "    }\n",
              "\n",
              "    .dataframe tbody tr th {\n",
              "        vertical-align: top;\n",
              "    }\n",
              "\n",
              "    .dataframe thead th {\n",
              "        text-align: right;\n",
              "    }\n",
              "</style>\n",
              "<table border=\"1\" class=\"dataframe\">\n",
              "  <thead>\n",
              "    <tr style=\"text-align: right;\">\n",
              "      <th></th>\n",
              "      <th>pn_num</th>\n",
              "      <th>case_num</th>\n",
              "      <th>pn_history</th>\n",
              "      <th>id</th>\n",
              "      <th>row_num</th>\n",
              "    </tr>\n",
              "  </thead>\n",
              "  <tbody>\n",
              "    <tr>\n",
              "      <th>2268</th>\n",
              "      <td>10000</td>\n",
              "      <td>1</td>\n",
              "      <td>Ms. Suzanne Powelton is a 20 y/o F that presen...</td>\n",
              "      <td>0</td>\n",
              "      <td>0</td>\n",
              "    </tr>\n",
              "    <tr>\n",
              "      <th>2269</th>\n",
              "      <td>10001</td>\n",
              "      <td>1</td>\n",
              "      <td>Suzanne Powelton is a 20 year old woman who pr...</td>\n",
              "      <td>1</td>\n",
              "      <td>1</td>\n",
              "    </tr>\n",
              "    <tr>\n",
              "      <th>2270</th>\n",
              "      <td>10002</td>\n",
              "      <td>1</td>\n",
              "      <td>HPI: 20 yo f c/o constant worsening right lowe...</td>\n",
              "      <td>2</td>\n",
              "      <td>2</td>\n",
              "    </tr>\n",
              "    <tr>\n",
              "      <th>2271</th>\n",
              "      <td>10004</td>\n",
              "      <td>1</td>\n",
              "      <td>20 y/o F c/o abdominal pain  \\r\\n5/10. from la...</td>\n",
              "      <td>4</td>\n",
              "      <td>3</td>\n",
              "    </tr>\n",
              "    <tr>\n",
              "      <th>2272</th>\n",
              "      <td>10005</td>\n",
              "      <td>1</td>\n",
              "      <td>20 YO F came to the ED complaining of Right lo...</td>\n",
              "      <td>5</td>\n",
              "      <td>4</td>\n",
              "    </tr>\n",
              "  </tbody>\n",
              "</table>\n",
              "</div>\n",
              "      <button class=\"colab-df-convert\" onclick=\"convertToInteractive('df-67955117-de89-42bb-baa1-249a9b9f7daa')\"\n",
              "              title=\"Convert this dataframe to an interactive table.\"\n",
              "              style=\"display:none;\">\n",
              "        \n",
              "  <svg xmlns=\"http://www.w3.org/2000/svg\" height=\"24px\"viewBox=\"0 0 24 24\"\n",
              "       width=\"24px\">\n",
              "    <path d=\"M0 0h24v24H0V0z\" fill=\"none\"/>\n",
              "    <path d=\"M18.56 5.44l.94 2.06.94-2.06 2.06-.94-2.06-.94-.94-2.06-.94 2.06-2.06.94zm-11 1L8.5 8.5l.94-2.06 2.06-.94-2.06-.94L8.5 2.5l-.94 2.06-2.06.94zm10 10l.94 2.06.94-2.06 2.06-.94-2.06-.94-.94-2.06-.94 2.06-2.06.94z\"/><path d=\"M17.41 7.96l-1.37-1.37c-.4-.4-.92-.59-1.43-.59-.52 0-1.04.2-1.43.59L10.3 9.45l-7.72 7.72c-.78.78-.78 2.05 0 2.83L4 21.41c.39.39.9.59 1.41.59.51 0 1.02-.2 1.41-.59l7.78-7.78 2.81-2.81c.8-.78.8-2.07 0-2.86zM5.41 20L4 18.59l7.72-7.72 1.47 1.35L5.41 20z\"/>\n",
              "  </svg>\n",
              "      </button>\n",
              "      \n",
              "  <style>\n",
              "    .colab-df-container {\n",
              "      display:flex;\n",
              "      flex-wrap:wrap;\n",
              "      gap: 12px;\n",
              "    }\n",
              "\n",
              "    .colab-df-convert {\n",
              "      background-color: #E8F0FE;\n",
              "      border: none;\n",
              "      border-radius: 50%;\n",
              "      cursor: pointer;\n",
              "      display: none;\n",
              "      fill: #1967D2;\n",
              "      height: 32px;\n",
              "      padding: 0 0 0 0;\n",
              "      width: 32px;\n",
              "    }\n",
              "\n",
              "    .colab-df-convert:hover {\n",
              "      background-color: #E2EBFA;\n",
              "      box-shadow: 0px 1px 2px rgba(60, 64, 67, 0.3), 0px 1px 3px 1px rgba(60, 64, 67, 0.15);\n",
              "      fill: #174EA6;\n",
              "    }\n",
              "\n",
              "    [theme=dark] .colab-df-convert {\n",
              "      background-color: #3B4455;\n",
              "      fill: #D2E3FC;\n",
              "    }\n",
              "\n",
              "    [theme=dark] .colab-df-convert:hover {\n",
              "      background-color: #434B5C;\n",
              "      box-shadow: 0px 1px 3px 1px rgba(0, 0, 0, 0.15);\n",
              "      filter: drop-shadow(0px 1px 2px rgba(0, 0, 0, 0.3));\n",
              "      fill: #FFFFFF;\n",
              "    }\n",
              "  </style>\n",
              "\n",
              "      <script>\n",
              "        const buttonEl =\n",
              "          document.querySelector('#df-67955117-de89-42bb-baa1-249a9b9f7daa button.colab-df-convert');\n",
              "        buttonEl.style.display =\n",
              "          google.colab.kernel.accessAllowed ? 'block' : 'none';\n",
              "\n",
              "        async function convertToInteractive(key) {\n",
              "          const element = document.querySelector('#df-67955117-de89-42bb-baa1-249a9b9f7daa');\n",
              "          const dataTable =\n",
              "            await google.colab.kernel.invokeFunction('convertToInteractive',\n",
              "                                                     [key], {});\n",
              "          if (!dataTable) return;\n",
              "\n",
              "          const docLinkHtml = 'Like what you see? Visit the ' +\n",
              "            '<a target=\"_blank\" href=https://colab.research.google.com/notebooks/data_table.ipynb>data table notebook</a>'\n",
              "            + ' to learn more about interactive tables.';\n",
              "          element.innerHTML = '';\n",
              "          dataTable['output_type'] = 'display_data';\n",
              "          await google.colab.output.renderOutput(dataTable, element);\n",
              "          const docLink = document.createElement('div');\n",
              "          docLink.innerHTML = docLinkHtml;\n",
              "          element.appendChild(docLink);\n",
              "        }\n",
              "      </script>\n",
              "    </div>\n",
              "  </div>\n",
              "  "
            ],
            "text/plain": [
              "      pn_num  case_num                                         pn_history  id  \\\n",
              "2268   10000         1  Ms. Suzanne Powelton is a 20 y/o F that presen...   0   \n",
              "2269   10001         1  Suzanne Powelton is a 20 year old woman who pr...   1   \n",
              "2270   10002         1  HPI: 20 yo f c/o constant worsening right lowe...   2   \n",
              "2271   10004         1  20 y/o F c/o abdominal pain  \\r\\n5/10. from la...   4   \n",
              "2272   10005         1  20 YO F came to the ED complaining of Right lo...   5   \n",
              "\n",
              "      row_num  \n",
              "2268        0  \n",
              "2269        1  \n",
              "2270        2  \n",
              "2271        3  \n",
              "2272        4  "
            ]
          },
          "execution_count": 23,
          "metadata": {},
          "output_type": "execute_result"
        }
      ],
      "source": [
        "# пример\n",
        "test = patient_notes.copy()\n",
        "test['id'] = test['pn_num'] % 10000\n",
        "test['row_num'] = test.groupby('case_num').cumcount()\n",
        "test[test.case_num == 1].head()\n",
        "# число 10003 пропущено. С чем это связано - непонятно"
      ]
    },
    {
      "cell_type": "markdown",
      "metadata": {
        "id": "gDmEpNW20CeR"
      },
      "source": [
        "### sample_submission.csv"
      ]
    },
    {
      "cell_type": "code",
      "execution_count": null,
      "metadata": {
        "colab": {
          "base_uri": "https://localhost:8080/"
        },
        "id": "p5aY1EJW0GF3",
        "outputId": "c8cf6a4f-1b23-4a02-be65-6abb2dd73a2d"
      },
      "outputs": [
        {
          "name": "stdout",
          "output_type": "stream",
          "text": [
            "<class 'pandas.core.frame.DataFrame'>\n",
            "RangeIndex: 5 entries, 0 to 4\n",
            "Data columns (total 2 columns):\n",
            " #   Column    Non-Null Count  Dtype \n",
            "---  ------    --------------  ----- \n",
            " 0   id        5 non-null      object\n",
            " 1   location  3 non-null      object\n",
            "dtypes: object(2)\n",
            "memory usage: 208.0+ bytes\n"
          ]
        },
        {
          "data": {
            "text/html": [
              "\n",
              "  <div id=\"df-7abdbb3c-c2fd-4043-b1c5-edd0dcb7e232\">\n",
              "    <div class=\"colab-df-container\">\n",
              "      <div>\n",
              "<style scoped>\n",
              "    .dataframe tbody tr th:only-of-type {\n",
              "        vertical-align: middle;\n",
              "    }\n",
              "\n",
              "    .dataframe tbody tr th {\n",
              "        vertical-align: top;\n",
              "    }\n",
              "\n",
              "    .dataframe thead th {\n",
              "        text-align: right;\n",
              "    }\n",
              "</style>\n",
              "<table border=\"1\" class=\"dataframe\">\n",
              "  <thead>\n",
              "    <tr style=\"text-align: right;\">\n",
              "      <th></th>\n",
              "      <th>id</th>\n",
              "      <th>location</th>\n",
              "    </tr>\n",
              "  </thead>\n",
              "  <tbody>\n",
              "    <tr>\n",
              "      <th>0</th>\n",
              "      <td>00016_000</td>\n",
              "      <td>0 100</td>\n",
              "    </tr>\n",
              "    <tr>\n",
              "      <th>1</th>\n",
              "      <td>00016_001</td>\n",
              "      <td>NaN</td>\n",
              "    </tr>\n",
              "    <tr>\n",
              "      <th>2</th>\n",
              "      <td>00016_002</td>\n",
              "      <td>200 250;300 400</td>\n",
              "    </tr>\n",
              "    <tr>\n",
              "      <th>3</th>\n",
              "      <td>00016_003</td>\n",
              "      <td>NaN</td>\n",
              "    </tr>\n",
              "    <tr>\n",
              "      <th>4</th>\n",
              "      <td>00016_004</td>\n",
              "      <td>75 110</td>\n",
              "    </tr>\n",
              "  </tbody>\n",
              "</table>\n",
              "</div>\n",
              "      <button class=\"colab-df-convert\" onclick=\"convertToInteractive('df-7abdbb3c-c2fd-4043-b1c5-edd0dcb7e232')\"\n",
              "              title=\"Convert this dataframe to an interactive table.\"\n",
              "              style=\"display:none;\">\n",
              "        \n",
              "  <svg xmlns=\"http://www.w3.org/2000/svg\" height=\"24px\"viewBox=\"0 0 24 24\"\n",
              "       width=\"24px\">\n",
              "    <path d=\"M0 0h24v24H0V0z\" fill=\"none\"/>\n",
              "    <path d=\"M18.56 5.44l.94 2.06.94-2.06 2.06-.94-2.06-.94-.94-2.06-.94 2.06-2.06.94zm-11 1L8.5 8.5l.94-2.06 2.06-.94-2.06-.94L8.5 2.5l-.94 2.06-2.06.94zm10 10l.94 2.06.94-2.06 2.06-.94-2.06-.94-.94-2.06-.94 2.06-2.06.94z\"/><path d=\"M17.41 7.96l-1.37-1.37c-.4-.4-.92-.59-1.43-.59-.52 0-1.04.2-1.43.59L10.3 9.45l-7.72 7.72c-.78.78-.78 2.05 0 2.83L4 21.41c.39.39.9.59 1.41.59.51 0 1.02-.2 1.41-.59l7.78-7.78 2.81-2.81c.8-.78.8-2.07 0-2.86zM5.41 20L4 18.59l7.72-7.72 1.47 1.35L5.41 20z\"/>\n",
              "  </svg>\n",
              "      </button>\n",
              "      \n",
              "  <style>\n",
              "    .colab-df-container {\n",
              "      display:flex;\n",
              "      flex-wrap:wrap;\n",
              "      gap: 12px;\n",
              "    }\n",
              "\n",
              "    .colab-df-convert {\n",
              "      background-color: #E8F0FE;\n",
              "      border: none;\n",
              "      border-radius: 50%;\n",
              "      cursor: pointer;\n",
              "      display: none;\n",
              "      fill: #1967D2;\n",
              "      height: 32px;\n",
              "      padding: 0 0 0 0;\n",
              "      width: 32px;\n",
              "    }\n",
              "\n",
              "    .colab-df-convert:hover {\n",
              "      background-color: #E2EBFA;\n",
              "      box-shadow: 0px 1px 2px rgba(60, 64, 67, 0.3), 0px 1px 3px 1px rgba(60, 64, 67, 0.15);\n",
              "      fill: #174EA6;\n",
              "    }\n",
              "\n",
              "    [theme=dark] .colab-df-convert {\n",
              "      background-color: #3B4455;\n",
              "      fill: #D2E3FC;\n",
              "    }\n",
              "\n",
              "    [theme=dark] .colab-df-convert:hover {\n",
              "      background-color: #434B5C;\n",
              "      box-shadow: 0px 1px 3px 1px rgba(0, 0, 0, 0.15);\n",
              "      filter: drop-shadow(0px 1px 2px rgba(0, 0, 0, 0.3));\n",
              "      fill: #FFFFFF;\n",
              "    }\n",
              "  </style>\n",
              "\n",
              "      <script>\n",
              "        const buttonEl =\n",
              "          document.querySelector('#df-7abdbb3c-c2fd-4043-b1c5-edd0dcb7e232 button.colab-df-convert');\n",
              "        buttonEl.style.display =\n",
              "          google.colab.kernel.accessAllowed ? 'block' : 'none';\n",
              "\n",
              "        async function convertToInteractive(key) {\n",
              "          const element = document.querySelector('#df-7abdbb3c-c2fd-4043-b1c5-edd0dcb7e232');\n",
              "          const dataTable =\n",
              "            await google.colab.kernel.invokeFunction('convertToInteractive',\n",
              "                                                     [key], {});\n",
              "          if (!dataTable) return;\n",
              "\n",
              "          const docLinkHtml = 'Like what you see? Visit the ' +\n",
              "            '<a target=\"_blank\" href=https://colab.research.google.com/notebooks/data_table.ipynb>data table notebook</a>'\n",
              "            + ' to learn more about interactive tables.';\n",
              "          element.innerHTML = '';\n",
              "          dataTable['output_type'] = 'display_data';\n",
              "          await google.colab.output.renderOutput(dataTable, element);\n",
              "          const docLink = document.createElement('div');\n",
              "          docLink.innerHTML = docLinkHtml;\n",
              "          element.appendChild(docLink);\n",
              "        }\n",
              "      </script>\n",
              "    </div>\n",
              "  </div>\n",
              "  "
            ],
            "text/plain": [
              "          id         location\n",
              "0  00016_000            0 100\n",
              "1  00016_001              NaN\n",
              "2  00016_002  200 250;300 400\n",
              "3  00016_003              NaN\n",
              "4  00016_004           75 110"
            ]
          },
          "execution_count": 24,
          "metadata": {},
          "output_type": "execute_result"
        }
      ],
      "source": [
        "sample_submission = pd.read_csv('//content/NBME_-_Score_Clinical_Patient_Notes/inputs/sample_submission.csv')\n",
        "sample_submission.info()\n",
        "sample_submission.head()"
      ]
    },
    {
      "cell_type": "markdown",
      "metadata": {
        "id": "X_8Ede_5zrT6"
      },
      "source": [
        "### train.csv"
      ]
    },
    {
      "cell_type": "code",
      "execution_count": null,
      "metadata": {
        "colab": {
          "base_uri": "https://localhost:8080/"
        },
        "id": "xPFUwGYvzYqe",
        "outputId": "b1b63630-91c2-4875-ea1d-278254ce71a8"
      },
      "outputs": [
        {
          "name": "stdout",
          "output_type": "stream",
          "text": [
            "<class 'pandas.core.frame.DataFrame'>\n",
            "Int64Index: 16633 entries, 0 to 14299\n",
            "Data columns (total 6 columns):\n",
            " #   Column       Non-Null Count  Dtype \n",
            "---  ------       --------------  ----- \n",
            " 0   id           16633 non-null  object\n",
            " 1   case_num     16633 non-null  int64 \n",
            " 2   pn_num       16633 non-null  int64 \n",
            " 3   feature_num  16633 non-null  int64 \n",
            " 4   annotation   12234 non-null  object\n",
            " 5   location     12234 non-null  object\n",
            "dtypes: int64(3), object(3)\n",
            "memory usage: 909.6+ KB\n"
          ]
        },
        {
          "data": {
            "text/html": [
              "\n",
              "  <div id=\"df-e2e6e216-6739-45a5-8092-b7fbcfdafd8d\">\n",
              "    <div class=\"colab-df-container\">\n",
              "      <div>\n",
              "<style scoped>\n",
              "    .dataframe tbody tr th:only-of-type {\n",
              "        vertical-align: middle;\n",
              "    }\n",
              "\n",
              "    .dataframe tbody tr th {\n",
              "        vertical-align: top;\n",
              "    }\n",
              "\n",
              "    .dataframe thead th {\n",
              "        text-align: right;\n",
              "    }\n",
              "</style>\n",
              "<table border=\"1\" class=\"dataframe\">\n",
              "  <thead>\n",
              "    <tr style=\"text-align: right;\">\n",
              "      <th></th>\n",
              "      <th>id</th>\n",
              "      <th>case_num</th>\n",
              "      <th>pn_num</th>\n",
              "      <th>feature_num</th>\n",
              "      <th>annotation</th>\n",
              "      <th>location</th>\n",
              "    </tr>\n",
              "  </thead>\n",
              "  <tbody>\n",
              "    <tr>\n",
              "      <th>0</th>\n",
              "      <td>00016_000</td>\n",
              "      <td>0</td>\n",
              "      <td>16</td>\n",
              "      <td>0</td>\n",
              "      <td>dad with recent heart attcak</td>\n",
              "      <td>696 724</td>\n",
              "    </tr>\n",
              "    <tr>\n",
              "      <th>1</th>\n",
              "      <td>00016_001</td>\n",
              "      <td>0</td>\n",
              "      <td>16</td>\n",
              "      <td>1</td>\n",
              "      <td>mom with \"thyroid disease</td>\n",
              "      <td>668 693</td>\n",
              "    </tr>\n",
              "    <tr>\n",
              "      <th>2</th>\n",
              "      <td>00016_002</td>\n",
              "      <td>0</td>\n",
              "      <td>16</td>\n",
              "      <td>2</td>\n",
              "      <td>chest pressure</td>\n",
              "      <td>203 217</td>\n",
              "    </tr>\n",
              "    <tr>\n",
              "      <th>3</th>\n",
              "      <td>00016_003</td>\n",
              "      <td>0</td>\n",
              "      <td>16</td>\n",
              "      <td>3</td>\n",
              "      <td>intermittent episodes</td>\n",
              "      <td>70 91</td>\n",
              "    </tr>\n",
              "    <tr>\n",
              "      <th>3</th>\n",
              "      <td>00016_003</td>\n",
              "      <td>0</td>\n",
              "      <td>16</td>\n",
              "      <td>3</td>\n",
              "      <td>episode</td>\n",
              "      <td>176 183</td>\n",
              "    </tr>\n",
              "  </tbody>\n",
              "</table>\n",
              "</div>\n",
              "      <button class=\"colab-df-convert\" onclick=\"convertToInteractive('df-e2e6e216-6739-45a5-8092-b7fbcfdafd8d')\"\n",
              "              title=\"Convert this dataframe to an interactive table.\"\n",
              "              style=\"display:none;\">\n",
              "        \n",
              "  <svg xmlns=\"http://www.w3.org/2000/svg\" height=\"24px\"viewBox=\"0 0 24 24\"\n",
              "       width=\"24px\">\n",
              "    <path d=\"M0 0h24v24H0V0z\" fill=\"none\"/>\n",
              "    <path d=\"M18.56 5.44l.94 2.06.94-2.06 2.06-.94-2.06-.94-.94-2.06-.94 2.06-2.06.94zm-11 1L8.5 8.5l.94-2.06 2.06-.94-2.06-.94L8.5 2.5l-.94 2.06-2.06.94zm10 10l.94 2.06.94-2.06 2.06-.94-2.06-.94-.94-2.06-.94 2.06-2.06.94z\"/><path d=\"M17.41 7.96l-1.37-1.37c-.4-.4-.92-.59-1.43-.59-.52 0-1.04.2-1.43.59L10.3 9.45l-7.72 7.72c-.78.78-.78 2.05 0 2.83L4 21.41c.39.39.9.59 1.41.59.51 0 1.02-.2 1.41-.59l7.78-7.78 2.81-2.81c.8-.78.8-2.07 0-2.86zM5.41 20L4 18.59l7.72-7.72 1.47 1.35L5.41 20z\"/>\n",
              "  </svg>\n",
              "      </button>\n",
              "      \n",
              "  <style>\n",
              "    .colab-df-container {\n",
              "      display:flex;\n",
              "      flex-wrap:wrap;\n",
              "      gap: 12px;\n",
              "    }\n",
              "\n",
              "    .colab-df-convert {\n",
              "      background-color: #E8F0FE;\n",
              "      border: none;\n",
              "      border-radius: 50%;\n",
              "      cursor: pointer;\n",
              "      display: none;\n",
              "      fill: #1967D2;\n",
              "      height: 32px;\n",
              "      padding: 0 0 0 0;\n",
              "      width: 32px;\n",
              "    }\n",
              "\n",
              "    .colab-df-convert:hover {\n",
              "      background-color: #E2EBFA;\n",
              "      box-shadow: 0px 1px 2px rgba(60, 64, 67, 0.3), 0px 1px 3px 1px rgba(60, 64, 67, 0.15);\n",
              "      fill: #174EA6;\n",
              "    }\n",
              "\n",
              "    [theme=dark] .colab-df-convert {\n",
              "      background-color: #3B4455;\n",
              "      fill: #D2E3FC;\n",
              "    }\n",
              "\n",
              "    [theme=dark] .colab-df-convert:hover {\n",
              "      background-color: #434B5C;\n",
              "      box-shadow: 0px 1px 3px 1px rgba(0, 0, 0, 0.15);\n",
              "      filter: drop-shadow(0px 1px 2px rgba(0, 0, 0, 0.3));\n",
              "      fill: #FFFFFF;\n",
              "    }\n",
              "  </style>\n",
              "\n",
              "      <script>\n",
              "        const buttonEl =\n",
              "          document.querySelector('#df-e2e6e216-6739-45a5-8092-b7fbcfdafd8d button.colab-df-convert');\n",
              "        buttonEl.style.display =\n",
              "          google.colab.kernel.accessAllowed ? 'block' : 'none';\n",
              "\n",
              "        async function convertToInteractive(key) {\n",
              "          const element = document.querySelector('#df-e2e6e216-6739-45a5-8092-b7fbcfdafd8d');\n",
              "          const dataTable =\n",
              "            await google.colab.kernel.invokeFunction('convertToInteractive',\n",
              "                                                     [key], {});\n",
              "          if (!dataTable) return;\n",
              "\n",
              "          const docLinkHtml = 'Like what you see? Visit the ' +\n",
              "            '<a target=\"_blank\" href=https://colab.research.google.com/notebooks/data_table.ipynb>data table notebook</a>'\n",
              "            + ' to learn more about interactive tables.';\n",
              "          element.innerHTML = '';\n",
              "          dataTable['output_type'] = 'display_data';\n",
              "          await google.colab.output.renderOutput(dataTable, element);\n",
              "          const docLink = document.createElement('div');\n",
              "          docLink.innerHTML = docLinkHtml;\n",
              "          element.appendChild(docLink);\n",
              "        }\n",
              "      </script>\n",
              "    </div>\n",
              "  </div>\n",
              "  "
            ],
            "text/plain": [
              "          id  case_num  pn_num  feature_num                    annotation  \\\n",
              "0  00016_000         0      16            0  dad with recent heart attcak   \n",
              "1  00016_001         0      16            1     mom with \"thyroid disease   \n",
              "2  00016_002         0      16            2                chest pressure   \n",
              "3  00016_003         0      16            3         intermittent episodes   \n",
              "3  00016_003         0      16            3                       episode   \n",
              "\n",
              "  location  \n",
              "0  696 724  \n",
              "1  668 693  \n",
              "2  203 217  \n",
              "3    70 91  \n",
              "3  176 183  "
            ]
          },
          "execution_count": 25,
          "metadata": {},
          "output_type": "execute_result"
        }
      ],
      "source": [
        "train = pd.read_csv('//content/NBME_-_Score_Clinical_Patient_Notes/inputs/train.csv')\n",
        "train['annotation'] = train['annotation'].apply(ast.literal_eval)\n",
        "train['location'] = train['location'].apply(ast.literal_eval)\n",
        "train = train.explode(['annotation', 'location'])\n",
        "train.info()\n",
        "train.head()"
      ]
    },
    {
      "cell_type": "code",
      "execution_count": null,
      "metadata": {
        "colab": {
          "base_uri": "https://localhost:8080/"
        },
        "id": "PRwjO0JYWBsm",
        "outputId": "2c196cd5-1926-4b74-fef3-73e245ea6625"
      },
      "outputs": [
        {
          "data": {
            "text/plain": [
              "id             14300\n",
              "case_num          10\n",
              "pn_num          1000\n",
              "feature_num      143\n",
              "dtype: int64"
            ]
          },
          "execution_count": 26,
          "metadata": {},
          "output_type": "execute_result"
        }
      ],
      "source": [
        "train[['id', 'case_num', 'pn_num', 'feature_num']].nunique()"
      ]
    },
    {
      "cell_type": "code",
      "execution_count": null,
      "metadata": {
        "colab": {
          "base_uri": "https://localhost:8080/"
        },
        "id": "5GDmELS8WBv6",
        "outputId": "becb4930-45d2-444b-8100-83f1499373c5"
      },
      "outputs": [
        {
          "data": {
            "text/plain": [
              "id                0\n",
              "case_num          0\n",
              "pn_num            0\n",
              "feature_num       0\n",
              "annotation     4399\n",
              "location       4399\n",
              "dtype: int64"
            ]
          },
          "execution_count": 27,
          "metadata": {},
          "output_type": "execute_result"
        }
      ],
      "source": [
        "# nan values появились в колонках annotation и location после операции explde, \n",
        "# т.к. в некоторых случаях вв них были пустые листы - экзаминуемый не обозначил features в patient note\n",
        "train.isna().sum()"
      ]
    },
    {
      "cell_type": "code",
      "execution_count": null,
      "metadata": {
        "colab": {
          "base_uri": "https://localhost:8080/"
        },
        "id": "WzziFYYuSxdq",
        "outputId": "117564b1-8dff-485b-d996-e2d166108c82"
      },
      "outputs": [
        {
          "data": {
            "text/plain": [
              "case_num\n",
              "0    100\n",
              "1    100\n",
              "2    100\n",
              "3    100\n",
              "4    100\n",
              "5    100\n",
              "6    100\n",
              "7    100\n",
              "8    100\n",
              "9    100\n",
              "Name: pn_num, dtype: int64"
            ]
          },
          "execution_count": 28,
          "metadata": {},
          "output_type": "execute_result"
        }
      ],
      "source": [
        "# для каждого из 10-ти case_num представлено в обучающей выборке по 100 pn_num\n",
        "train.groupby('case_num')['pn_num'].nunique()"
      ]
    },
    {
      "cell_type": "code",
      "execution_count": null,
      "metadata": {
        "colab": {
          "base_uri": "https://localhost:8080/"
        },
        "id": "RB4Q-vKrSxgr",
        "outputId": "f645b5c9-0361-49a6-d85f-36d69a03c08f"
      },
      "outputs": [
        {
          "data": {
            "image/png": "[encoded data removed]",
            "text/plain": [
              "<Figure size 1296x288 with 1 Axes>"
            ]
          },
          "metadata": {},
          "output_type": "display_data"
        }
      ],
      "source": [
        "grouped = train.groupby(['feature_num'])[['pn_num', 'annotation']].count()\n",
        "grouped.rename({'annotation': 'annotation_count', 'pn_num': 'pn_num_count'}, axis=1, inplace=True)\n",
        "grouped['share'] = grouped.annotation_count / grouped.pn_num_count\n",
        "grouped.reset_index(inplace=True)\n",
        "grouped = grouped.sort_values(by='feature_num', ascending=True, ignore_index=True)\n",
        "grouped['feature_id'] = np.arange(len(grouped))\n",
        "\n",
        "plt.figure(figsize=(18, 4))\n",
        "plt.bar(x=grouped.feature_id, height=grouped.share)\n",
        "plt.show()"
      ]
    },
    {
      "cell_type": "markdown",
      "metadata": {
        "id": "5tWN7hxWeThN"
      },
      "source": [
        "Видим, что есть такие признаки, которые практически не были отражены в patient notes экзаминуемыми (во всяком случае в тестовой выборке). К примеру `feature_num` 807 и 209 были отмечены по одному разу только двумя экзаминуемыми"
      ]
    },
    {
      "cell_type": "code",
      "execution_count": null,
      "metadata": {
        "colab": {
          "base_uri": "https://localhost:8080/"
        },
        "id": "9f9bIxOrenDe",
        "outputId": "f37b2a95-143f-4074-f9aa-134fa2570741"
      },
      "outputs": [
        {
          "data": {
            "text/html": [
              "\n",
              "  <div id=\"df-39c2a23a-0409-43a9-965d-2817a45dc2ea\">\n",
              "    <div class=\"colab-df-container\">\n",
              "      <div>\n",
              "<style scoped>\n",
              "    .dataframe tbody tr th:only-of-type {\n",
              "        vertical-align: middle;\n",
              "    }\n",
              "\n",
              "    .dataframe tbody tr th {\n",
              "        vertical-align: top;\n",
              "    }\n",
              "\n",
              "    .dataframe thead th {\n",
              "        text-align: right;\n",
              "    }\n",
              "</style>\n",
              "<table border=\"1\" class=\"dataframe\">\n",
              "  <thead>\n",
              "    <tr style=\"text-align: right;\">\n",
              "      <th></th>\n",
              "      <th>feature_num</th>\n",
              "      <th>pn_num_count</th>\n",
              "      <th>annotation_count</th>\n",
              "      <th>share</th>\n",
              "      <th>feature_id</th>\n",
              "      <th>feature_text</th>\n",
              "    </tr>\n",
              "  </thead>\n",
              "  <tbody>\n",
              "    <tr>\n",
              "      <th>0</th>\n",
              "      <td>807</td>\n",
              "      <td>100</td>\n",
              "      <td>1</td>\n",
              "      <td>0.01</td>\n",
              "      <td>115</td>\n",
              "      <td>Hallucinations-after-taking-Ambien</td>\n",
              "    </tr>\n",
              "    <tr>\n",
              "      <th>1</th>\n",
              "      <td>209</td>\n",
              "      <td>100</td>\n",
              "      <td>1</td>\n",
              "      <td>0.01</td>\n",
              "      <td>35</td>\n",
              "      <td>Stress</td>\n",
              "    </tr>\n",
              "    <tr>\n",
              "      <th>2</th>\n",
              "      <td>911</td>\n",
              "      <td>100</td>\n",
              "      <td>2</td>\n",
              "      <td>0.02</td>\n",
              "      <td>137</td>\n",
              "      <td>Meningococcal-vaccine-status-unknown</td>\n",
              "    </tr>\n",
              "    <tr>\n",
              "      <th>3</th>\n",
              "      <td>809</td>\n",
              "      <td>100</td>\n",
              "      <td>7</td>\n",
              "      <td>0.07</td>\n",
              "      <td>117</td>\n",
              "      <td>Unsuccessful-napping</td>\n",
              "    </tr>\n",
              "    <tr>\n",
              "      <th>4</th>\n",
              "      <td>907</td>\n",
              "      <td>100</td>\n",
              "      <td>11</td>\n",
              "      <td>0.11</td>\n",
              "      <td>133</td>\n",
              "      <td>No-rash</td>\n",
              "    </tr>\n",
              "  </tbody>\n",
              "</table>\n",
              "</div>\n",
              "      <button class=\"colab-df-convert\" onclick=\"convertToInteractive('df-39c2a23a-0409-43a9-965d-2817a45dc2ea')\"\n",
              "              title=\"Convert this dataframe to an interactive table.\"\n",
              "              style=\"display:none;\">\n",
              "        \n",
              "  <svg xmlns=\"http://www.w3.org/2000/svg\" height=\"24px\"viewBox=\"0 0 24 24\"\n",
              "       width=\"24px\">\n",
              "    <path d=\"M0 0h24v24H0V0z\" fill=\"none\"/>\n",
              "    <path d=\"M18.56 5.44l.94 2.06.94-2.06 2.06-.94-2.06-.94-.94-2.06-.94 2.06-2.06.94zm-11 1L8.5 8.5l.94-2.06 2.06-.94-2.06-.94L8.5 2.5l-.94 2.06-2.06.94zm10 10l.94 2.06.94-2.06 2.06-.94-2.06-.94-.94-2.06-.94 2.06-2.06.94z\"/><path d=\"M17.41 7.96l-1.37-1.37c-.4-.4-.92-.59-1.43-.59-.52 0-1.04.2-1.43.59L10.3 9.45l-7.72 7.72c-.78.78-.78 2.05 0 2.83L4 21.41c.39.39.9.59 1.41.59.51 0 1.02-.2 1.41-.59l7.78-7.78 2.81-2.81c.8-.78.8-2.07 0-2.86zM5.41 20L4 18.59l7.72-7.72 1.47 1.35L5.41 20z\"/>\n",
              "  </svg>\n",
              "      </button>\n",
              "      \n",
              "  <style>\n",
              "    .colab-df-container {\n",
              "      display:flex;\n",
              "      flex-wrap:wrap;\n",
              "      gap: 12px;\n",
              "    }\n",
              "\n",
              "    .colab-df-convert {\n",
              "      background-color: #E8F0FE;\n",
              "      border: none;\n",
              "      border-radius: 50%;\n",
              "      cursor: pointer;\n",
              "      display: none;\n",
              "      fill: #1967D2;\n",
              "      height: 32px;\n",
              "      padding: 0 0 0 0;\n",
              "      width: 32px;\n",
              "    }\n",
              "\n",
              "    .colab-df-convert:hover {\n",
              "      background-color: #E2EBFA;\n",
              "      box-shadow: 0px 1px 2px rgba(60, 64, 67, 0.3), 0px 1px 3px 1px rgba(60, 64, 67, 0.15);\n",
              "      fill: #174EA6;\n",
              "    }\n",
              "\n",
              "    [theme=dark] .colab-df-convert {\n",
              "      background-color: #3B4455;\n",
              "      fill: #D2E3FC;\n",
              "    }\n",
              "\n",
              "    [theme=dark] .colab-df-convert:hover {\n",
              "      background-color: #434B5C;\n",
              "      box-shadow: 0px 1px 3px 1px rgba(0, 0, 0, 0.15);\n",
              "      filter: drop-shadow(0px 1px 2px rgba(0, 0, 0, 0.3));\n",
              "      fill: #FFFFFF;\n",
              "    }\n",
              "  </style>\n",
              "\n",
              "      <script>\n",
              "        const buttonEl =\n",
              "          document.querySelector('#df-39c2a23a-0409-43a9-965d-2817a45dc2ea button.colab-df-convert');\n",
              "        buttonEl.style.display =\n",
              "          google.colab.kernel.accessAllowed ? 'block' : 'none';\n",
              "\n",
              "        async function convertToInteractive(key) {\n",
              "          const element = document.querySelector('#df-39c2a23a-0409-43a9-965d-2817a45dc2ea');\n",
              "          const dataTable =\n",
              "            await google.colab.kernel.invokeFunction('convertToInteractive',\n",
              "                                                     [key], {});\n",
              "          if (!dataTable) return;\n",
              "\n",
              "          const docLinkHtml = 'Like what you see? Visit the ' +\n",
              "            '<a target=\"_blank\" href=https://colab.research.google.com/notebooks/data_table.ipynb>data table notebook</a>'\n",
              "            + ' to learn more about interactive tables.';\n",
              "          element.innerHTML = '';\n",
              "          dataTable['output_type'] = 'display_data';\n",
              "          await google.colab.output.renderOutput(dataTable, element);\n",
              "          const docLink = document.createElement('div');\n",
              "          docLink.innerHTML = docLinkHtml;\n",
              "          element.appendChild(docLink);\n",
              "        }\n",
              "      </script>\n",
              "    </div>\n",
              "  </div>\n",
              "  "
            ],
            "text/plain": [
              "   feature_num  pn_num_count  annotation_count  share  feature_id  \\\n",
              "0          807           100                 1   0.01         115   \n",
              "1          209           100                 1   0.01          35   \n",
              "2          911           100                 2   0.02         137   \n",
              "3          809           100                 7   0.07         117   \n",
              "4          907           100                11   0.11         133   \n",
              "\n",
              "                           feature_text  \n",
              "0    Hallucinations-after-taking-Ambien  \n",
              "1                                Stress  \n",
              "2  Meningococcal-vaccine-status-unknown  \n",
              "3                  Unsuccessful-napping  \n",
              "4                               No-rash  "
            ]
          },
          "execution_count": 30,
          "metadata": {},
          "output_type": "execute_result"
        }
      ],
      "source": [
        "grouped.sort_values(by='share', ascending=True).merge(features[['feature_num', 'feature_text']], how='left', on='feature_num').head()"
      ]
    },
    {
      "cell_type": "code",
      "execution_count": null,
      "metadata": {
        "colab": {
          "base_uri": "https://localhost:8080/"
        },
        "id": "AFZtjxeGcE0q",
        "outputId": "2a16b240-3cc2-4ab5-8a7a-c8d6533f8cdb"
      },
      "outputs": [
        {
          "name": "stdout",
          "output_type": "stream",
          "text": [
            "[('hallucinations', '')]\n",
            "----------------------------------------------------------------------------------------------------\n",
            "[('Hallucinations', '')]\n",
            "----------------------------------------------------------------------------------------------------\n",
            "[]\n",
            "----------------------------------------------------------------------------------------------------\n",
            "[('hallucinations', '')]\n",
            "----------------------------------------------------------------------------------------------------\n",
            "[]\n",
            "----------------------------------------------------------------------------------------------------\n",
            "[]\n",
            "----------------------------------------------------------------------------------------------------\n",
            "[('', 'AVH')]\n"
          ]
        }
      ],
      "source": [
        "# интересно, что некоторые испытуемые отметили наличие галюцинаций, но связали их с приемом Ambien\n",
        "# в некоторых случаях галюцинации обозначали через сокращение - AVH\n",
        "# в некоторых случаях записывалось что пациент видел что-то, но галюцинациями это не называлось\n",
        "i = 0\n",
        "for pn_history in patient_notes[patient_notes.case_num.isin(features[features.feature_num == 807]['case_num'].values)]['pn_history'].values:\n",
        "  print(re.findall(pattern=re.compile('(hallu[\\w]*)|(avh)', flags=re.IGNORECASE), string=pn_history))\n",
        "  if i > 5:\n",
        "    break\n",
        "  print('-' * 100)\n",
        "  i += 1"
      ]
    },
    {
      "cell_type": "code",
      "execution_count": null,
      "metadata": {
        "id": "jvsWWyrriPoR"
      },
      "outputs": [],
      "source": [
        "# колонка id представляет из себя ничто иное, как {pn_num}_{feature_num}\n",
        "assert train['id'].apply(lambda id: int(id.split('_')[0])).equals(train['pn_num'])\n",
        "assert train['id'].apply(lambda id: int(id.split('_')[1])).equals(train['feature_num'])"
      ]
    },
    {
      "cell_type": "markdown",
      "metadata": {
        "id": "MEDDg_J_juNY"
      },
      "source": [
        "Объединим таблицу `train` с таблицами `features` и `patient_notes`"
      ]
    },
    {
      "cell_type": "code",
      "execution_count": null,
      "metadata": {
        "colab": {
          "base_uri": "https://localhost:8080/"
        },
        "id": "FzYnJku5kJVw",
        "outputId": "51dfb2bf-ee88-4a66-9658-e2bf2895e99c"
      },
      "outputs": [
        {
          "data": {
            "text/html": [
              "\n",
              "  <div id=\"df-a44a257d-52db-4a46-a9ee-1e15ca8218a6\">\n",
              "    <div class=\"colab-df-container\">\n",
              "      <div>\n",
              "<style scoped>\n",
              "    .dataframe tbody tr th:only-of-type {\n",
              "        vertical-align: middle;\n",
              "    }\n",
              "\n",
              "    .dataframe tbody tr th {\n",
              "        vertical-align: top;\n",
              "    }\n",
              "\n",
              "    .dataframe thead th {\n",
              "        text-align: right;\n",
              "    }\n",
              "</style>\n",
              "<table border=\"1\" class=\"dataframe\">\n",
              "  <thead>\n",
              "    <tr style=\"text-align: right;\">\n",
              "      <th></th>\n",
              "      <th>id</th>\n",
              "      <th>case_num</th>\n",
              "      <th>pn_num</th>\n",
              "      <th>feature_num</th>\n",
              "      <th>annotation</th>\n",
              "      <th>location</th>\n",
              "      <th>feature_text</th>\n",
              "      <th>feature_text_splited</th>\n",
              "      <th>seq_len</th>\n",
              "      <th>pn_history</th>\n",
              "    </tr>\n",
              "  </thead>\n",
              "  <tbody>\n",
              "    <tr>\n",
              "      <th>0</th>\n",
              "      <td>00016_000</td>\n",
              "      <td>0</td>\n",
              "      <td>16</td>\n",
              "      <td>0</td>\n",
              "      <td>dad with recent heart attcak</td>\n",
              "      <td>696 724</td>\n",
              "      <td>Family-history-of-MI-OR-Family-history-of-myoc...</td>\n",
              "      <td>Family-history-of-MI</td>\n",
              "      <td>4</td>\n",
              "      <td>HPI: 17yo M presents with palpitations. Patien...</td>\n",
              "    </tr>\n",
              "    <tr>\n",
              "      <th>1</th>\n",
              "      <td>00016_000</td>\n",
              "      <td>0</td>\n",
              "      <td>16</td>\n",
              "      <td>0</td>\n",
              "      <td>dad with recent heart attcak</td>\n",
              "      <td>696 724</td>\n",
              "      <td>Family-history-of-MI-OR-Family-history-of-myoc...</td>\n",
              "      <td>Family-history-of-myocardial-infarction</td>\n",
              "      <td>5</td>\n",
              "      <td>HPI: 17yo M presents with palpitations. Patien...</td>\n",
              "    </tr>\n",
              "    <tr>\n",
              "      <th>2</th>\n",
              "      <td>00016_001</td>\n",
              "      <td>0</td>\n",
              "      <td>16</td>\n",
              "      <td>1</td>\n",
              "      <td>mom with \"thyroid disease</td>\n",
              "      <td>668 693</td>\n",
              "      <td>Family-history-of-thyroid-disorder</td>\n",
              "      <td>Family-history-of-thyroid-disorder</td>\n",
              "      <td>5</td>\n",
              "      <td>HPI: 17yo M presents with palpitations. Patien...</td>\n",
              "    </tr>\n",
              "    <tr>\n",
              "      <th>3</th>\n",
              "      <td>00016_002</td>\n",
              "      <td>0</td>\n",
              "      <td>16</td>\n",
              "      <td>2</td>\n",
              "      <td>chest pressure</td>\n",
              "      <td>203 217</td>\n",
              "      <td>Chest-pressure</td>\n",
              "      <td>Chest-pressure</td>\n",
              "      <td>2</td>\n",
              "      <td>HPI: 17yo M presents with palpitations. Patien...</td>\n",
              "    </tr>\n",
              "    <tr>\n",
              "      <th>4</th>\n",
              "      <td>00016_003</td>\n",
              "      <td>0</td>\n",
              "      <td>16</td>\n",
              "      <td>3</td>\n",
              "      <td>intermittent episodes</td>\n",
              "      <td>70 91</td>\n",
              "      <td>Intermittent-symptoms</td>\n",
              "      <td>Intermittent-symptoms</td>\n",
              "      <td>2</td>\n",
              "      <td>HPI: 17yo M presents with palpitations. Patien...</td>\n",
              "    </tr>\n",
              "  </tbody>\n",
              "</table>\n",
              "</div>\n",
              "      <button class=\"colab-df-convert\" onclick=\"convertToInteractive('df-a44a257d-52db-4a46-a9ee-1e15ca8218a6')\"\n",
              "              title=\"Convert this dataframe to an interactive table.\"\n",
              "              style=\"display:none;\">\n",
              "        \n",
              "  <svg xmlns=\"http://www.w3.org/2000/svg\" height=\"24px\"viewBox=\"0 0 24 24\"\n",
              "       width=\"24px\">\n",
              "    <path d=\"M0 0h24v24H0V0z\" fill=\"none\"/>\n",
              "    <path d=\"M18.56 5.44l.94 2.06.94-2.06 2.06-.94-2.06-.94-.94-2.06-.94 2.06-2.06.94zm-11 1L8.5 8.5l.94-2.06 2.06-.94-2.06-.94L8.5 2.5l-.94 2.06-2.06.94zm10 10l.94 2.06.94-2.06 2.06-.94-2.06-.94-.94-2.06-.94 2.06-2.06.94z\"/><path d=\"M17.41 7.96l-1.37-1.37c-.4-.4-.92-.59-1.43-.59-.52 0-1.04.2-1.43.59L10.3 9.45l-7.72 7.72c-.78.78-.78 2.05 0 2.83L4 21.41c.39.39.9.59 1.41.59.51 0 1.02-.2 1.41-.59l7.78-7.78 2.81-2.81c.8-.78.8-2.07 0-2.86zM5.41 20L4 18.59l7.72-7.72 1.47 1.35L5.41 20z\"/>\n",
              "  </svg>\n",
              "      </button>\n",
              "      \n",
              "  <style>\n",
              "    .colab-df-container {\n",
              "      display:flex;\n",
              "      flex-wrap:wrap;\n",
              "      gap: 12px;\n",
              "    }\n",
              "\n",
              "    .colab-df-convert {\n",
              "      background-color: #E8F0FE;\n",
              "      border: none;\n",
              "      border-radius: 50%;\n",
              "      cursor: pointer;\n",
              "      display: none;\n",
              "      fill: #1967D2;\n",
              "      height: 32px;\n",
              "      padding: 0 0 0 0;\n",
              "      width: 32px;\n",
              "    }\n",
              "\n",
              "    .colab-df-convert:hover {\n",
              "      background-color: #E2EBFA;\n",
              "      box-shadow: 0px 1px 2px rgba(60, 64, 67, 0.3), 0px 1px 3px 1px rgba(60, 64, 67, 0.15);\n",
              "      fill: #174EA6;\n",
              "    }\n",
              "\n",
              "    [theme=dark] .colab-df-convert {\n",
              "      background-color: #3B4455;\n",
              "      fill: #D2E3FC;\n",
              "    }\n",
              "\n",
              "    [theme=dark] .colab-df-convert:hover {\n",
              "      background-color: #434B5C;\n",
              "      box-shadow: 0px 1px 3px 1px rgba(0, 0, 0, 0.15);\n",
              "      filter: drop-shadow(0px 1px 2px rgba(0, 0, 0, 0.3));\n",
              "      fill: #FFFFFF;\n",
              "    }\n",
              "  </style>\n",
              "\n",
              "      <script>\n",
              "        const buttonEl =\n",
              "          document.querySelector('#df-a44a257d-52db-4a46-a9ee-1e15ca8218a6 button.colab-df-convert');\n",
              "        buttonEl.style.display =\n",
              "          google.colab.kernel.accessAllowed ? 'block' : 'none';\n",
              "\n",
              "        async function convertToInteractive(key) {\n",
              "          const element = document.querySelector('#df-a44a257d-52db-4a46-a9ee-1e15ca8218a6');\n",
              "          const dataTable =\n",
              "            await google.colab.kernel.invokeFunction('convertToInteractive',\n",
              "                                                     [key], {});\n",
              "          if (!dataTable) return;\n",
              "\n",
              "          const docLinkHtml = 'Like what you see? Visit the ' +\n",
              "            '<a target=\"_blank\" href=https://colab.research.google.com/notebooks/data_table.ipynb>data table notebook</a>'\n",
              "            + ' to learn more about interactive tables.';\n",
              "          element.innerHTML = '';\n",
              "          dataTable['output_type'] = 'display_data';\n",
              "          await google.colab.output.renderOutput(dataTable, element);\n",
              "          const docLink = document.createElement('div');\n",
              "          docLink.innerHTML = docLinkHtml;\n",
              "          element.appendChild(docLink);\n",
              "        }\n",
              "      </script>\n",
              "    </div>\n",
              "  </div>\n",
              "  "
            ],
            "text/plain": [
              "          id  case_num  pn_num  feature_num                    annotation  \\\n",
              "0  00016_000         0      16            0  dad with recent heart attcak   \n",
              "1  00016_000         0      16            0  dad with recent heart attcak   \n",
              "2  00016_001         0      16            1     mom with \"thyroid disease   \n",
              "3  00016_002         0      16            2                chest pressure   \n",
              "4  00016_003         0      16            3         intermittent episodes   \n",
              "\n",
              "  location                                       feature_text  \\\n",
              "0  696 724  Family-history-of-MI-OR-Family-history-of-myoc...   \n",
              "1  696 724  Family-history-of-MI-OR-Family-history-of-myoc...   \n",
              "2  668 693                 Family-history-of-thyroid-disorder   \n",
              "3  203 217                                     Chest-pressure   \n",
              "4    70 91                              Intermittent-symptoms   \n",
              "\n",
              "                      feature_text_splited  seq_len  \\\n",
              "0                     Family-history-of-MI        4   \n",
              "1  Family-history-of-myocardial-infarction        5   \n",
              "2       Family-history-of-thyroid-disorder        5   \n",
              "3                           Chest-pressure        2   \n",
              "4                    Intermittent-symptoms        2   \n",
              "\n",
              "                                          pn_history  \n",
              "0  HPI: 17yo M presents with palpitations. Patien...  \n",
              "1  HPI: 17yo M presents with palpitations. Patien...  \n",
              "2  HPI: 17yo M presents with palpitations. Patien...  \n",
              "3  HPI: 17yo M presents with palpitations. Patien...  \n",
              "4  HPI: 17yo M presents with palpitations. Patien...  "
            ]
          },
          "execution_count": 33,
          "metadata": {},
          "output_type": "execute_result"
        }
      ],
      "source": [
        "train_joined = train.merge(features, how='left', on=['case_num', 'feature_num'])\n",
        "train_joined = train_joined.merge(patient_notes, how='left', on=['case_num', 'pn_num'])\n",
        "train_joined.head()"
      ]
    },
    {
      "cell_type": "markdown",
      "metadata": {
        "id": "y9-SSdbrhxqa"
      },
      "source": [
        "### test.csv"
      ]
    },
    {
      "cell_type": "code",
      "execution_count": null,
      "metadata": {
        "colab": {
          "base_uri": "https://localhost:8080/"
        },
        "id": "6rEiTmWFhrCr",
        "outputId": "e7717a69-3f0c-47f8-e207-aec1039f8f5f"
      },
      "outputs": [
        {
          "name": "stdout",
          "output_type": "stream",
          "text": [
            "<class 'pandas.core.frame.DataFrame'>\n",
            "RangeIndex: 5 entries, 0 to 4\n",
            "Data columns (total 4 columns):\n",
            " #   Column       Non-Null Count  Dtype \n",
            "---  ------       --------------  ----- \n",
            " 0   id           5 non-null      object\n",
            " 1   case_num     5 non-null      int64 \n",
            " 2   pn_num       5 non-null      int64 \n",
            " 3   feature_num  5 non-null      int64 \n",
            "dtypes: int64(3), object(1)\n",
            "memory usage: 288.0+ bytes\n"
          ]
        },
        {
          "data": {
            "text/html": [
              "\n",
              "  <div id=\"df-f7d9ff6f-ba36-431b-b38c-ee5f684f5628\">\n",
              "    <div class=\"colab-df-container\">\n",
              "      <div>\n",
              "<style scoped>\n",
              "    .dataframe tbody tr th:only-of-type {\n",
              "        vertical-align: middle;\n",
              "    }\n",
              "\n",
              "    .dataframe tbody tr th {\n",
              "        vertical-align: top;\n",
              "    }\n",
              "\n",
              "    .dataframe thead th {\n",
              "        text-align: right;\n",
              "    }\n",
              "</style>\n",
              "<table border=\"1\" class=\"dataframe\">\n",
              "  <thead>\n",
              "    <tr style=\"text-align: right;\">\n",
              "      <th></th>\n",
              "      <th>id</th>\n",
              "      <th>case_num</th>\n",
              "      <th>pn_num</th>\n",
              "      <th>feature_num</th>\n",
              "    </tr>\n",
              "  </thead>\n",
              "  <tbody>\n",
              "    <tr>\n",
              "      <th>0</th>\n",
              "      <td>00016_000</td>\n",
              "      <td>0</td>\n",
              "      <td>16</td>\n",
              "      <td>0</td>\n",
              "    </tr>\n",
              "    <tr>\n",
              "      <th>1</th>\n",
              "      <td>00016_001</td>\n",
              "      <td>0</td>\n",
              "      <td>16</td>\n",
              "      <td>1</td>\n",
              "    </tr>\n",
              "    <tr>\n",
              "      <th>2</th>\n",
              "      <td>00016_002</td>\n",
              "      <td>0</td>\n",
              "      <td>16</td>\n",
              "      <td>2</td>\n",
              "    </tr>\n",
              "    <tr>\n",
              "      <th>3</th>\n",
              "      <td>00016_003</td>\n",
              "      <td>0</td>\n",
              "      <td>16</td>\n",
              "      <td>3</td>\n",
              "    </tr>\n",
              "    <tr>\n",
              "      <th>4</th>\n",
              "      <td>00016_004</td>\n",
              "      <td>0</td>\n",
              "      <td>16</td>\n",
              "      <td>4</td>\n",
              "    </tr>\n",
              "  </tbody>\n",
              "</table>\n",
              "</div>\n",
              "      <button class=\"colab-df-convert\" onclick=\"convertToInteractive('df-f7d9ff6f-ba36-431b-b38c-ee5f684f5628')\"\n",
              "              title=\"Convert this dataframe to an interactive table.\"\n",
              "              style=\"display:none;\">\n",
              "        \n",
              "  <svg xmlns=\"http://www.w3.org/2000/svg\" height=\"24px\"viewBox=\"0 0 24 24\"\n",
              "       width=\"24px\">\n",
              "    <path d=\"M0 0h24v24H0V0z\" fill=\"none\"/>\n",
              "    <path d=\"M18.56 5.44l.94 2.06.94-2.06 2.06-.94-2.06-.94-.94-2.06-.94 2.06-2.06.94zm-11 1L8.5 8.5l.94-2.06 2.06-.94-2.06-.94L8.5 2.5l-.94 2.06-2.06.94zm10 10l.94 2.06.94-2.06 2.06-.94-2.06-.94-.94-2.06-.94 2.06-2.06.94z\"/><path d=\"M17.41 7.96l-1.37-1.37c-.4-.4-.92-.59-1.43-.59-.52 0-1.04.2-1.43.59L10.3 9.45l-7.72 7.72c-.78.78-.78 2.05 0 2.83L4 21.41c.39.39.9.59 1.41.59.51 0 1.02-.2 1.41-.59l7.78-7.78 2.81-2.81c.8-.78.8-2.07 0-2.86zM5.41 20L4 18.59l7.72-7.72 1.47 1.35L5.41 20z\"/>\n",
              "  </svg>\n",
              "      </button>\n",
              "      \n",
              "  <style>\n",
              "    .colab-df-container {\n",
              "      display:flex;\n",
              "      flex-wrap:wrap;\n",
              "      gap: 12px;\n",
              "    }\n",
              "\n",
              "    .colab-df-convert {\n",
              "      background-color: #E8F0FE;\n",
              "      border: none;\n",
              "      border-radius: 50%;\n",
              "      cursor: pointer;\n",
              "      display: none;\n",
              "      fill: #1967D2;\n",
              "      height: 32px;\n",
              "      padding: 0 0 0 0;\n",
              "      width: 32px;\n",
              "    }\n",
              "\n",
              "    .colab-df-convert:hover {\n",
              "      background-color: #E2EBFA;\n",
              "      box-shadow: 0px 1px 2px rgba(60, 64, 67, 0.3), 0px 1px 3px 1px rgba(60, 64, 67, 0.15);\n",
              "      fill: #174EA6;\n",
              "    }\n",
              "\n",
              "    [theme=dark] .colab-df-convert {\n",
              "      background-color: #3B4455;\n",
              "      fill: #D2E3FC;\n",
              "    }\n",
              "\n",
              "    [theme=dark] .colab-df-convert:hover {\n",
              "      background-color: #434B5C;\n",
              "      box-shadow: 0px 1px 3px 1px rgba(0, 0, 0, 0.15);\n",
              "      filter: drop-shadow(0px 1px 2px rgba(0, 0, 0, 0.3));\n",
              "      fill: #FFFFFF;\n",
              "    }\n",
              "  </style>\n",
              "\n",
              "      <script>\n",
              "        const buttonEl =\n",
              "          document.querySelector('#df-f7d9ff6f-ba36-431b-b38c-ee5f684f5628 button.colab-df-convert');\n",
              "        buttonEl.style.display =\n",
              "          google.colab.kernel.accessAllowed ? 'block' : 'none';\n",
              "\n",
              "        async function convertToInteractive(key) {\n",
              "          const element = document.querySelector('#df-f7d9ff6f-ba36-431b-b38c-ee5f684f5628');\n",
              "          const dataTable =\n",
              "            await google.colab.kernel.invokeFunction('convertToInteractive',\n",
              "                                                     [key], {});\n",
              "          if (!dataTable) return;\n",
              "\n",
              "          const docLinkHtml = 'Like what you see? Visit the ' +\n",
              "            '<a target=\"_blank\" href=https://colab.research.google.com/notebooks/data_table.ipynb>data table notebook</a>'\n",
              "            + ' to learn more about interactive tables.';\n",
              "          element.innerHTML = '';\n",
              "          dataTable['output_type'] = 'display_data';\n",
              "          await google.colab.output.renderOutput(dataTable, element);\n",
              "          const docLink = document.createElement('div');\n",
              "          docLink.innerHTML = docLinkHtml;\n",
              "          element.appendChild(docLink);\n",
              "        }\n",
              "      </script>\n",
              "    </div>\n",
              "  </div>\n",
              "  "
            ],
            "text/plain": [
              "          id  case_num  pn_num  feature_num\n",
              "0  00016_000         0      16            0\n",
              "1  00016_001         0      16            1\n",
              "2  00016_002         0      16            2\n",
              "3  00016_003         0      16            3\n",
              "4  00016_004         0      16            4"
            ]
          },
          "execution_count": 34,
          "metadata": {},
          "output_type": "execute_result"
        }
      ],
      "source": [
        "test = pd.read_csv('//content/NBME_-_Score_Clinical_Patient_Notes/inputs/test.csv')\n",
        "test.info()\n",
        "test.head()"
      ]
    },
    {
      "cell_type": "markdown",
      "metadata": {
        "id": "rMJ8Bhe3h8RG"
      },
      "source": [
        "### Выводы"
      ]
    },
    {
      "cell_type": "markdown",
      "metadata": {
        "id": "hEJucCxTiBwY"
      },
      "source": [
        "Имеется следующие таблицы:\n",
        "1. `features.csv` - для каждого клинического случая (всего в соревновании 10-ть клинических случая) имеется некое множество признаков, которые характеризуют соответствующий клинический случай. Эти множества могут пересекаться, т.е. один и тот же признак присутствует в наборе признаков для разных клинических случаев (при этом ID признака в этих наборах - `feature_num` - различный). К примеру, признак `Feemale` или `Male` встречается в наборах признаков для разных клинических случаев.\n",
        "  1. `feature_num` - ID уникальной пары `case_num` / `feature_text`. Всего 143 уникальных значений (не по порядку). На самом деле в номере `feature_num` содержится информация о `case_num`: $$ \\text{feature_num} // 100 = \\text{case_num} $$\n",
        "  2. `case_num` - ID клинического случая. В соревновании всего 10-ть клинических случаев (уникальных значений `case_num` - [0, 9])\n",
        "  3. `feature_text` - текстовое описание признака. Есть повторения, т.к. один и тот же признак может характеризовать разные клинические случаи. Один и тот же признак может быть по разному описан. Для разделения различных описаний одного и того же признака в исходных данных используется `-OR-` или `-or-`. Отдельные слова в описании признака разделены `-` без пробелов.\n",
        "\n",
        "2. `patient_notes.csv` - набор \"конспектов\", сделанных тестируемыми\n",
        "  1. `pn_num` - уникальный ID \"конспекта\". Всего 42146 уникальных значений (не по порядку). На самом деле в номере `pn_num` содержится информация о `case_num`: $$ \\text{pn_num} // 10000 = \\text{case_num} $$\n",
        "  2. `case_num` - ID клинического случая\n",
        "  3. `pn_history` - текст \"конспекта\"\n",
        "\n",
        "3. `train.csv` - таблица с тренировочными данными\n",
        "4. `test.csv` - пример с тестовыми данными, содержащий всего 5 строк"
      ]
    },
    {
      "cell_type": "markdown",
      "metadata": {
        "id": "-O7-BlMOneU6"
      },
      "source": [
        "# Baseline (DeBERTa)"
      ]
    },
    {
      "cell_type": "markdown",
      "metadata": {
        "id": "7SrvkMVaR1Uz"
      },
      "source": [
        "### Tutorial"
      ]
    },
    {
      "cell_type": "markdown",
      "metadata": {
        "id": "5QNzLjCTG34N"
      },
      "source": [
        "#### Tokenize"
      ]
    },
    {
      "cell_type": "markdown",
      "metadata": {
        "id": "ApT44rgVR7Ff"
      },
      "source": [
        "Проработано <a href=\"https://huggingface.co/docs/transformers/preprocessing\">отсюда</a>"
      ]
    },
    {
      "cell_type": "code",
      "execution_count": null,
      "metadata": {
        "colab": {
          "base_uri": "https://localhost:8080/",
          "height": 113,
          "referenced_widgets": [
            "065f1ef03aa14beb83af84c5c3e89f28",
            "3621765489fd4a5c9e1dff7838cb68ff",
            "1bf06fac509c4fe3aac7ba952338b25b",
            "f0a065bf1db74567b9899c130f1ba1b5",
            "fb0076dafb4e4fe8b727a96e4a865df7",
            "438c567f202d4a35b3b49940f26b716b",
            "61b385504d3845d282e85548cb2290e5",
            "ae74867559fc4ee7a5c9deb0a58424bc",
            "afa9152a21fc4bc4bc1fe344bc303942",
            "9cb9c6f411164895a09143e166fb40a9",
            "3d284f5a21f64dd8accd2af021fc2979",
            "032a0c8b2df9462a9661c93d6e60a3b6",
            "992ee3b3d8534735a39f1d73016f50df",
            "a4aa028537e54d7b9788cba60bc08351",
            "ad43c4ed1b6a4c2595289171347438ee",
            "2168a60f5e8f46ffa6abe7b1a302a79f",
            "e8a8ec5e8eb6460095a58e3192012025",
            "2bbfbcb7f3fc4994bdf050bbf0207a24",
            "69a9f7299be8497eb1afe379960bdbf6",
            "d0ba450cb28f4c7d870c25d707f0ef16",
            "3a4dfaff4ec04a3f8b6f474e6dc9575d",
            "323a26de5e3d43f997661c61001d6509",
            "38799e9179b14df5a724e3641a6673b4",
            "f2a4935c776d4e74bae2b4155d8b2402",
            "e0bb6d3b466644eda4fb5f14c45b1863",
            "6a9b260479504a7c8aa1064e6567a679",
            "aaffbc12504d403b80910a7d2100e23c",
            "9ce45f30645e476ab45572a48557a4f0",
            "2714441b8c4944deb4593cb79ef63779",
            "4889bb1f6abd4bfdbf7ff452d1fe309e",
            "1160389efb33474fa2ac10989a9e28e2",
            "ace7f85e83ab4fefb0ff069fbace2f2e",
            "cabe0b665e134c49ae27f7a47ad1314b"
          ]
        },
        "id": "gxdgBPoMKXZw",
        "outputId": "ea1f485c-0fc4-4202-951b-f95f28b98620"
      },
      "outputs": [
        {
          "data": {
            "application/vnd.jupyter.widget-view+json": {
              "model_id": "065f1ef03aa14beb83af84c5c3e89f28",
              "version_major": 2,
              "version_minor": 0
            },
            "text/plain": [
              "Downloading:   0%|          | 0.00/208k [00:00<?, ?B/s]"
            ]
          },
          "metadata": {},
          "output_type": "display_data"
        },
        {
          "data": {
            "application/vnd.jupyter.widget-view+json": {
              "model_id": "032a0c8b2df9462a9661c93d6e60a3b6",
              "version_major": 2,
              "version_minor": 0
            },
            "text/plain": [
              "Downloading:   0%|          | 0.00/29.0 [00:00<?, ?B/s]"
            ]
          },
          "metadata": {},
          "output_type": "display_data"
        },
        {
          "data": {
            "application/vnd.jupyter.widget-view+json": {
              "model_id": "38799e9179b14df5a724e3641a6673b4",
              "version_major": 2,
              "version_minor": 0
            },
            "text/plain": [
              "Downloading:   0%|          | 0.00/570 [00:00<?, ?B/s]"
            ]
          },
          "metadata": {},
          "output_type": "display_data"
        }
      ],
      "source": [
        "# загружаем предобученый tokenizer (Bert base)\n",
        "tokenizer = BertTokenizer.from_pretrained(\"bert-base-cased\")"
      ]
    },
    {
      "cell_type": "code",
      "execution_count": null,
      "metadata": {
        "colab": {
          "base_uri": "https://localhost:8080/"
        },
        "id": "avN2ECl6OxbN",
        "outputId": "7ebeb499-28c9-4cf4-ae1d-65f751b10472"
      },
      "outputs": [
        {
          "name": "stdout",
          "output_type": "stream",
          "text": [
            "{'attention_mask': [1, 1, 1, 1, 1, 1, 1, 1, 1, 1, 1, 1, 1, 1, 1, 1, 1, 1, 1],\n",
            " 'input_ids': [101, 20164, 10932, 2271, 7954, 1110, 1359, 1107, 17520, 102, 2777, 1110, 20164, 10932, 2271,\n",
            "               7954, 1359, 136, 102],\n",
            " 'token_type_ids': [0, 0, 0, 0, 0, 0, 0, 0, 0, 0, 1, 1, 1, 1, 1, 1, 1, 1, 1]}\n"
          ]
        }
      ],
      "source": [
        "# возьмем в качестве примера следующее предложение:\n",
        "sequence_a = \"HuggingFace is based in NYC\"\n",
        "sequence_b = \"Where is HuggingFace based?\"\n",
        "\n",
        "# преобразуем данное предложение\n",
        "encoded_input = tokenizer(sequence_a, sequence_b)\n",
        "pprint.pprint(encoded_input, width=110, compact=True)"
      ]
    },
    {
      "cell_type": "markdown",
      "metadata": {
        "id": "5KrybtIfTLor"
      },
      "source": [
        "Мы получили словарь с тремя важными элементами:\n",
        "- `input_ids` - индексы (номера) в словаре, соответствующие каждому токену.\n",
        "- `token_type_ids` - указывает, к какому предложению принадлежит токен, если более нескольких предложений. При этом следует обратить внимание на то, что в случае с DeBert tokenizer обе последовательности будут иметь значения [0, 0, 0, 0, 0, 0 ... 0, 0], т.к. данная модель не обучалась на сочетаниях двух предложений.\n",
        "- `attention_mask` - маска, характеризующая использования механизма внимания к данному токену."
      ]
    },
    {
      "cell_type": "code",
      "execution_count": null,
      "metadata": {
        "colab": {
          "base_uri": "https://localhost:8080/"
        },
        "id": "zrOjHvrxFHCJ",
        "outputId": "8023fe65-efd5-45a9-bffa-f0717cfa5f94"
      },
      "outputs": [
        {
          "name": "stdout",
          "output_type": "stream",
          "text": [
            "[CLS] HuggingFace is based in NYC [SEP] Where is HuggingFace based? [SEP]\n"
          ]
        }
      ],
      "source": [
        "# теперь сделаем обратное преобразование - из набора ID слов получим декодированные предложения.\n",
        "decoded = tokenizer.decode(encoded_input[\"input_ids\"])\n",
        "print(decoded)"
      ]
    },
    {
      "cell_type": "code",
      "execution_count": null,
      "metadata": {
        "colab": {
          "base_uri": "https://localhost:8080/"
        },
        "id": "xRBaEyCWGJsi",
        "outputId": "69b33336-d9a1-4d63-c985-282231672fdc"
      },
      "outputs": [
        {
          "name": "stdout",
          "output_type": "stream",
          "text": [
            "{'attention_mask': [[1, 1, 1, 1, 1, 1, 1, 1], [1, 1, 1, 1, 1, 1, 1, 1, 1, 1, 1, 1, 1, 1, 1],\n",
            "                    [1, 1, 1, 1, 1, 1, 1]],\n",
            " 'input_ids': [[101, 1252, 1184, 1164, 1248, 6462, 136, 102],\n",
            "               [101, 1790, 112, 189, 1341, 1119, 3520, 1164, 1248, 6462, 117, 21902, 1643, 119, 102],\n",
            "               [101, 1327, 1164, 5450, 23434, 136, 102]],\n",
            " 'token_type_ids': [[0, 0, 0, 0, 0, 0, 0, 0], [0, 0, 0, 0, 0, 0, 0, 0, 0, 0, 0, 0, 0, 0, 0],\n",
            "                    [0, 0, 0, 0, 0, 0, 0]]}\n"
          ]
        }
      ],
      "source": [
        "# А что, если передать токенайзеру батч последовательностей?\n",
        "batch_sentences = [\n",
        "    \"But what about second breakfast?\",\n",
        "    \"Don't think he knows about second breakfast, Pip.\",\n",
        "    \"What about elevensies?\",\n",
        "]\n",
        "encoded_input = tokenizer(batch_sentences)\n",
        "pprint.pprint(encoded_input, width=110, compact=True)"
      ]
    },
    {
      "cell_type": "code",
      "execution_count": null,
      "metadata": {
        "colab": {
          "base_uri": "https://localhost:8080/"
        },
        "id": "rbsHI0PgWmGb",
        "outputId": "49502015-3d21-443a-823b-5322fafae307"
      },
      "outputs": [
        {
          "name": "stdout",
          "output_type": "stream",
          "text": [
            "Размер словаря: 28996\n",
            "ID слова world: 1362\n"
          ]
        }
      ],
      "source": [
        "# вывести весь доступный словарь слов\n",
        "# это словарь, по ключу можно получить индекс слова в словаре\n",
        "vocab = tokenizer.get_vocab()\n",
        "print('Размер словаря: {}'.format(len(vocab)))\n",
        "print('ID слова {}: {}'.format('world', vocab['world']))"
      ]
    },
    {
      "cell_type": "code",
      "execution_count": null,
      "metadata": {
        "colab": {
          "base_uri": "https://localhost:8080/"
        },
        "id": "xUMGOPeqQeIe",
        "outputId": "8498980e-bfd6-44de-d45f-aa7c8f83a27e"
      },
      "outputs": [
        {
          "name": "stdout",
          "output_type": "stream",
          "text": [
            "[101, 8667, 117, 1362, 102]\n",
            "[CLS] Hello, world [SEP]\n"
          ]
        }
      ],
      "source": [
        "# если нужно получить только набор ID из словаря, то достаточно воспользоваться методом encode\n",
        "sequence = \"Hello, world\"\n",
        "encoded_sequence = tokenizer.encode(sequence)\n",
        "decoded_sequence = tokenizer.decode(encoded_sequence)\n",
        "print(encoded_sequence)\n",
        "print(decoded_sequence)"
      ]
    },
    {
      "cell_type": "code",
      "execution_count": null,
      "metadata": {
        "colab": {
          "base_uri": "https://localhost:8080/"
        },
        "id": "zFAP9Pj53OZo",
        "outputId": "9386a49c-28b8-4881-a267-4298c3fc4e26"
      },
      "outputs": [
        {
          "name": "stdout",
          "output_type": "stream",
          "text": [
            "[8667, 117, 1362]\n",
            "Hello, world\n"
          ]
        }
      ],
      "source": [
        "# можно отключить добавление special tokens\n",
        "sequence = \"Hello, world\"\n",
        "encoded_sequence = tokenizer.encode(sequence, add_special_tokens=False)\n",
        "decoded_sequence = tokenizer.decode(encoded_sequence)\n",
        "print(encoded_sequence)\n",
        "print(decoded_sequence)"
      ]
    },
    {
      "cell_type": "markdown",
      "metadata": {
        "id": "1q3WkBgLG89I"
      },
      "source": [
        "#### Pad"
      ]
    },
    {
      "cell_type": "code",
      "execution_count": null,
      "metadata": {
        "colab": {
          "base_uri": "https://localhost:8080/"
        },
        "id": "vO1lYLgyWKzD",
        "outputId": "31d205d1-68ec-4024-a25c-f10f4398beef"
      },
      "outputs": [
        {
          "name": "stdout",
          "output_type": "stream",
          "text": [
            "{'attention_mask': [[1, 1, 1, 1, 1, 1, 1, 1, 0, 0, 0, 0, 0, 0, 0],\n",
            "                    [1, 1, 1, 1, 1, 1, 1, 1, 1, 1, 1, 1, 1, 1, 1],\n",
            "                    [1, 1, 1, 1, 1, 1, 1, 0, 0, 0, 0, 0, 0, 0, 0]],\n",
            " 'input_ids': [[101, 1252, 1184, 1164, 1248, 6462, 136, 102, 0, 0, 0, 0, 0, 0, 0],\n",
            "               [101, 1790, 112, 189, 1341, 1119, 3520, 1164, 1248, 6462, 117, 21902, 1643, 119, 102],\n",
            "               [101, 1327, 1164, 5450, 23434, 136, 102, 0, 0, 0, 0, 0, 0, 0, 0]],\n",
            " 'token_type_ids': [[0, 0, 0, 0, 0, 0, 0, 0, 0, 0, 0, 0, 0, 0, 0],\n",
            "                    [0, 0, 0, 0, 0, 0, 0, 0, 0, 0, 0, 0, 0, 0, 0],\n",
            "                    [0, 0, 0, 0, 0, 0, 0, 0, 0, 0, 0, 0, 0, 0, 0]]}\n"
          ]
        }
      ],
      "source": [
        "# при передаче батча с предложениями, они в должны быть одинаковой длины. Это достигается путем добавления \n",
        "# 0 в конце предложений (padding=True). Обратите внимение, что и у attention mask появились 0.\n",
        "batch_sentences = [\n",
        "    \"But what about second breakfast?\",\n",
        "    \"Don't think he knows about second breakfast, Pip.\",\n",
        "    \"What about elevensies?\",\n",
        "]\n",
        "encoded_input = tokenizer(batch_sentences, padding=True)\n",
        "pprint.pprint(encoded_input, width=110, compact=True)"
      ]
    },
    {
      "cell_type": "code",
      "execution_count": null,
      "metadata": {
        "colab": {
          "base_uri": "https://localhost:8080/",
          "height": 35
        },
        "id": "wVmteb7zIZKy",
        "outputId": "410e91c3-77bc-4393-f6f7-6cd170911dfb"
      },
      "outputs": [
        {
          "data": {
            "application/vnd.google.colaboratory.intrinsic+json": {
              "type": "string"
            },
            "text/plain": [
              "'[CLS] But what about second breakfast? [SEP] [PAD] [PAD] [PAD] [PAD] [PAD] [PAD] [PAD]'"
            ]
          },
          "execution_count": 83,
          "metadata": {},
          "output_type": "execute_result"
        }
      ],
      "source": [
        "tokenizer.decode(encoded_input.get('input_ids')[0])"
      ]
    },
    {
      "cell_type": "markdown",
      "metadata": {
        "id": "RH5FSBiw42Qo"
      },
      "source": [
        "`padding` controls the padding. It can be a boolean or a string which should be:\n",
        "\n",
        "- `True` or `'longest'` to pad to the longest sequence in the batch (doing no padding if you only provide a single sequence).\n",
        "\n",
        "- `'max_length'` to pad to a length specified by the max_length argument or the maximum length accepted by the model if no max_length is provided (`max_length=None`). If you only provide a single sequence, padding will still be applied to it.\n",
        "\n",
        "- `False` or `'do_not_pad'` to not pad the sequences. As we have seen before, this is the default behavior."
      ]
    },
    {
      "cell_type": "code",
      "execution_count": null,
      "metadata": {
        "colab": {
          "base_uri": "https://localhost:8080/"
        },
        "id": "jsyyVc495JDL",
        "outputId": "586c9f32-f370-40b4-964b-9e1cb6362fdd"
      },
      "outputs": [
        {
          "name": "stdout",
          "output_type": "stream",
          "text": [
            "Узнать максимальную длину последовательности для модели: 512\n"
          ]
        }
      ],
      "source": [
        "print('Узнать максимальную длину последовательности для модели: {}'.format(AutoConfig.from_pretrained('bert-base-cased').max_position_embeddings))"
      ]
    },
    {
      "cell_type": "markdown",
      "metadata": {
        "id": "WX78wj6bKezW"
      },
      "source": [
        "#### Truncation"
      ]
    },
    {
      "cell_type": "code",
      "execution_count": null,
      "metadata": {
        "colab": {
          "base_uri": "https://localhost:8080/"
        },
        "id": "zBJNapxxKKe3",
        "outputId": "2218bf40-4cb5-4837-f8ed-8231dc09bada"
      },
      "outputs": [
        {
          "name": "stdout",
          "output_type": "stream",
          "text": [
            "Максимальное количество токенов в предложении: 510\n",
            "Максимальное количество токенов в последовательности из двух предложений (при подходе c обучением на двух предложениях): 509\n"
          ]
        }
      ],
      "source": [
        "# иногда предложение слишком длинное для успешного обучения модели. В таком случае\n",
        "# целесообразно \"обрезать\" такие предложения по количеству токенов (truncation=True).\n",
        "# Урезание последовательности в данном случае идет по  максимально возможной длины\n",
        "# последовательности для языковой модели.\n",
        "print(f'Максимальное количество токенов в предложении: {tokenizer.max_len_single_sentence}')\n",
        "print(f'Максимальное количество токенов в последовательности из двух предложений '\n",
        "      f'(при подходе c обучением на двух предложениях): {tokenizer.max_len_sentences_pair}')"
      ]
    },
    {
      "cell_type": "markdown",
      "metadata": {
        "id": "Ad69rz0gM_GO"
      },
      "source": [
        "Вообще, максимальная длина последовательности токенов для языковой модели BERT - 512. Но мы видим, что значение `max_len_single_sentence` равно 510. Это связано с тем, что в последовательность токенов добавляются еще 2 - в начало и конец. В итоге последовательность токенов будет выглядеть следующим образом:\n",
        "\n",
        "`[CLS] [последовательность токенов предложения] [SEP]`\n",
        "\n",
        "В случае с обучением с двумя предложениями, в середину между предложениями добавляется еще один токен (поэтому 509): \n",
        "\n",
        "`[CLS] [последовательность 1] [SEP] [последовательность 1] [SEP]`"
      ]
    },
    {
      "cell_type": "code",
      "execution_count": null,
      "metadata": {
        "colab": {
          "base_uri": "https://localhost:8080/"
        },
        "id": "3--PAeBbMT2W",
        "outputId": "644c1a33-dc6a-43a4-926d-bb2e12a56ea9"
      },
      "outputs": [
        {
          "name": "stdout",
          "output_type": "stream",
          "text": [
            "Длина предложения: 511\n",
            "Длина последовательности с truncation=False: 513\n",
            "Длина последовательности с truncation=True: 512\n"
          ]
        }
      ],
      "source": [
        "over_length_sequence = ['sequence'] * 511\n",
        "print(f'Длина предложения: {len(over_length_sequence)}')\n",
        "over_length_sequence = ' '.join(over_length_sequence)\n",
        "encoded_input = tokenizer(over_length_sequence, truncation=False)\n",
        "encoded_input_trunc = tokenizer(over_length_sequence, truncation=True)\n",
        "print(f\"Длина последовательности с truncation=False: {len(encoded_input.get('input_ids'))}\")\n",
        "print(f\"Длина последовательности с truncation=True: {len(encoded_input_trunc.get('input_ids'))}\")"
      ]
    },
    {
      "cell_type": "markdown",
      "metadata": {
        "id": "as_c5J6p6DYY"
      },
      "source": [
        "`truncation` controls the truncation. It can be a boolean or a string which should be:\n",
        "\n",
        "- `True` or `'only_first'` truncate to a maximum length specified by the `max_length` argument or the maximum length accepted by the model if no `max_length` is provided (`max_length=None`). This will only truncate the first sentence of a pair if a pair of sequence (or a batch of pairs of sequences) is provided.\n",
        "\n",
        "- `'only_second'` truncate to a maximum length specified by the `max_length` argument or the maximum length accepted by the model if no max_length is provided (`max_length=None`). This will only truncate the second sentence of a pair if a pair of sequence (or a batch of pairs of sequences) is provided.\n",
        "\n",
        "- `'longest_first'` truncate to a maximum length specified by the `max_length` argument or the maximum length accepted by the model if no max_length is provided (`max_length=None`). This will truncate token by token, removing a token from the longest sequence in the pair until the proper length is reached.\n",
        "\n",
        "- `False` or `'do_not_truncate'` to not truncate the sequences. As we have seen before, this is the default behavior."
      ]
    },
    {
      "cell_type": "markdown",
      "metadata": {
        "id": "6tdlRqwWRipT"
      },
      "source": [
        "#### Build tensors"
      ]
    },
    {
      "cell_type": "code",
      "execution_count": null,
      "metadata": {
        "colab": {
          "base_uri": "https://localhost:8080/"
        },
        "id": "x22GJylwPlX7",
        "outputId": "c9c9e6b8-6f83-45f0-c966-fd43f59aa11a"
      },
      "outputs": [
        {
          "name": "stdout",
          "output_type": "stream",
          "text": [
            "tensor([[  101,  1252,  1184,  1164,  1248,  6462,   136,   102,     0,     0,\n",
            "             0,     0,     0,     0,     0],\n",
            "        [  101,  1790,   112,   189,  1341,  1119,  3520,  1164,  1248,  6462,\n",
            "           117, 21902,  1643,   119,   102],\n",
            "        [  101,  1327,  1164,  5450, 23434,   136,   102,     0,     0,     0,\n",
            "             0,     0,     0,     0,     0]])\n"
          ]
        }
      ],
      "source": [
        "# в конце концов для преобразования набора токенов в тензор (для подачи на вход модели), \n",
        "# можно воспользоваться атрибутом return_tensors, принимающим значения 'pt' для Pytorh\n",
        "# и 'tf' для TensorFlow\n",
        "batch_sentences = [\n",
        "    \"But what about second breakfast?\",\n",
        "    \"Don't think he knows about second breakfast, Pip.\",\n",
        "    \"What about elevensies?\",\n",
        "]\n",
        "encoded_input = tokenizer(batch_sentences, padding=True, truncation=True, return_tensors=\"pt\")\n",
        "print(encoded_input.get('input_ids'))"
      ]
    },
    {
      "cell_type": "markdown",
      "metadata": {
        "id": "daMJzNIw1cXj"
      },
      "source": [
        "## Configuration"
      ]
    },
    {
      "cell_type": "code",
      "source": [
        "if not os.path.isdir('nmbe_model'):\n",
        "  os.mkdir('nmbe_model')\n",
        "\n",
        "# создаем файлик __init__.py для создания модуля nmbe_model\n",
        "with open('nmbe_model/__init__.py', 'w') as file:..."
      ],
      "metadata": {
        "id": "M50iIwqHlUS5"
      },
      "execution_count": null,
      "outputs": []
    },
    {
      "cell_type": "code",
      "source": [
        "%%writefile nmbe_model/config.yaml\n",
        "model:\n",
        "  checkpoint: \"microsoft/deberta-base\"\n",
        "  fc_dropout: 0.2\n",
        "  use_pretrained: True\n",
        "  config_path:\n",
        "data:\n",
        "  max_length: 466\n",
        "train:\n",
        "  device: \"cuda\"\n",
        "  batch_size: 12\n",
        "  n_folds: 5\n",
        "  n_workers: 4\n",
        "  backbone_lr: 2E-5\n",
        "  fc_lr: 2e-5\n",
        "  weight_decay: 0.01\n",
        "  betas: [0.9, 0.999]\n",
        "  eps: 1e-8\n",
        "  scheduler_type: \"linear\"\n",
        "  num_warmup_steps: 0\n",
        "  num_cycles: 0.5"
      ],
      "metadata": {
        "colab": {
          "base_uri": "https://localhost:8080/"
        },
        "id": "ABGPJE7ylV2q",
        "outputId": "284d7f4f-b7f4-450c-aca4-832ec5a0adc8"
      },
      "execution_count": null,
      "outputs": [
        {
          "output_type": "stream",
          "name": "stdout",
          "text": [
            "Writing nmbe_model/config.yaml\n"
          ]
        }
      ]
    },
    {
      "cell_type": "code",
      "source": [
        "def read_yaml(file_path: str) -> dict:\n",
        "  \"\"\"\n",
        "  Функция для считывания config файла.\n",
        "  :param file_path: путь к config файлу.\n",
        "  :return: параметры из config файла.\n",
        "  \"\"\"\n",
        "\n",
        "  with open(file_path, 'r') as f:\n",
        "    try:\n",
        "      loader = yaml.SafeLoader\n",
        "\n",
        "      # добавляем возможность считывать числа, записанные в YAML файл в формате 1e-4, к примеру\n",
        "      loader.add_implicit_resolver(\n",
        "          u'tag:yaml.org,2002:float',\n",
        "          re.compile(u'''^(?:\n",
        "                         [-+]?(?:[0-9][0-9_]*)\\\\.[0-9_]*(?:[eE][-+]?[0-9]+)?\n",
        "                         |[-+]?(?:[0-9][0-9_]*)(?:[eE][-+]?[0-9]+)\n",
        "                         |\\\\.[0-9_]+(?:[eE][-+][0-9]+)?\n",
        "                         |[-+]?[0-9][0-9_]*(?::[0-5]?[0-9])+\\\\.[0-9_]*\n",
        "                         |[-+]?\\\\.(?:inf|Inf|INF)\n",
        "                         |\\\\.(?:nan|NaN|NAN))$''', re.X),\n",
        "          list(u'-+0123456789.')\n",
        "      )\n",
        "\n",
        "      return yaml.load(f, Loader=loader)\n",
        "    except yaml.YAMLError as exc:\n",
        "      print(exc)\n",
        "\n",
        "\n",
        "@dataclass\n",
        "class ModelConfig:\n",
        "  checkpoint: str = \"microsoft/deberta-base\"\n",
        "  fc_dropout: Union[int, float] = 0.2\n",
        "  use_pretrained: bool = True\n",
        "  config_path: str = None\n",
        "\n",
        "\n",
        "@dataclass\n",
        "class DataConfig:\n",
        "  max_length: int = 512\n",
        "\n",
        "\n",
        "@dataclass\n",
        "class TrainConfig:\n",
        "  device: str = \"cuda\"\n",
        "  batch_size: int = 12\n",
        "  n_folds: int = 5\n",
        "  n_workers: int = 4\n",
        "  backbone_lr: Union[int, float] = 2e-5\n",
        "  fc_lr: Union[int, float] = 2e-5\n",
        "  weight_decay: Union[int, float] = 0.01\n",
        "  betas: Tuple[Union[int, float], Union[int, float]] = (0.9, 0.999)\n",
        "  eps: Union[int, float] = 1e-8\n",
        "  scheduler_type: str = \"linear\"\n",
        "  num_warmup_steps: int = 0\n",
        "  num_cycles: Union[int, float] = 0.5"
      ],
      "metadata": {
        "id": "oD1Ogsno4w5y"
      },
      "execution_count": null,
      "outputs": []
    },
    {
      "cell_type": "code",
      "execution_count": null,
      "metadata": {
        "id": "o3JWTQ-u2EhP",
        "colab": {
          "base_uri": "https://localhost:8080/"
        },
        "outputId": "b759ae64-df86-49c3-882e-178b78e710cf"
      },
      "outputs": [
        {
          "output_type": "stream",
          "name": "stdout",
          "text": [
            "ModelConfig(checkpoint='microsoft/deberta-base', fc_dropout=0.2, use_pretrained=True, config_path=None)\n",
            "DataConfig(max_length=466)\n",
            "TrainConfig(device='cuda', batch_size=12, n_folds=5, n_workers=4, backbone_lr=2e-05, fc_lr=2e-05, weight_decay=0.01, betas=[0.9, 0.999], eps=1e-08, scheduler_type='linear', num_warmup_steps=0, num_cycles=0.5)\n"
          ]
        }
      ],
      "source": [
        "model_cfg = ModelConfig(**read_yaml(file_path=\"nmbe_model/config.yaml\").get(\"model\"))\n",
        "data_cfg = DataConfig(**read_yaml(file_path=\"nmbe_model/config.yaml\").get(\"data\"))\n",
        "train_cfg = TrainConfig(**read_yaml(file_path=\"nmbe_model/config.yaml\").get(\"train\"))\n",
        "\n",
        "print(model_cfg)\n",
        "print(data_cfg)\n",
        "print(train_cfg)"
      ]
    },
    {
      "cell_type": "markdown",
      "metadata": {
        "id": "dK5hYd1OPO_k"
      },
      "source": [
        "## Data loading"
      ]
    },
    {
      "cell_type": "code",
      "execution_count": null,
      "metadata": {
        "colab": {
          "base_uri": "https://localhost:8080/"
        },
        "id": "kslw4LvYPL-R",
        "outputId": "5dfe613f-f0ba-4523-b15a-24f470d1938e"
      },
      "outputs": [
        {
          "output_type": "display_data",
          "data": {
            "text/plain": [
              "          id  case_num  pn_num  feature_num  \\\n",
              "0  00016_000         0      16            0   \n",
              "1  00016_001         0      16            1   \n",
              "2  00016_002         0      16            2   \n",
              "3  00016_003         0      16            3   \n",
              "4  00016_004         0      16            4   \n",
              "\n",
              "                               annotation          location  \n",
              "0          [dad with recent heart attcak]         [696 724]  \n",
              "1             [mom with \"thyroid disease]         [668 693]  \n",
              "2                        [chest pressure]         [203 217]  \n",
              "3        [intermittent episodes, episode]  [70 91, 176 183]  \n",
              "4  [felt as if he were going to pass out]         [222 258]  "
            ],
            "text/html": [
              "\n",
              "  <div id=\"df-28c00f52-1006-4854-aebd-6832ef35f89a\">\n",
              "    <div class=\"colab-df-container\">\n",
              "      <div>\n",
              "<style scoped>\n",
              "    .dataframe tbody tr th:only-of-type {\n",
              "        vertical-align: middle;\n",
              "    }\n",
              "\n",
              "    .dataframe tbody tr th {\n",
              "        vertical-align: top;\n",
              "    }\n",
              "\n",
              "    .dataframe thead th {\n",
              "        text-align: right;\n",
              "    }\n",
              "</style>\n",
              "<table border=\"1\" class=\"dataframe\">\n",
              "  <thead>\n",
              "    <tr style=\"text-align: right;\">\n",
              "      <th></th>\n",
              "      <th>id</th>\n",
              "      <th>case_num</th>\n",
              "      <th>pn_num</th>\n",
              "      <th>feature_num</th>\n",
              "      <th>annotation</th>\n",
              "      <th>location</th>\n",
              "    </tr>\n",
              "  </thead>\n",
              "  <tbody>\n",
              "    <tr>\n",
              "      <th>0</th>\n",
              "      <td>00016_000</td>\n",
              "      <td>0</td>\n",
              "      <td>16</td>\n",
              "      <td>0</td>\n",
              "      <td>[dad with recent heart attcak]</td>\n",
              "      <td>[696 724]</td>\n",
              "    </tr>\n",
              "    <tr>\n",
              "      <th>1</th>\n",
              "      <td>00016_001</td>\n",
              "      <td>0</td>\n",
              "      <td>16</td>\n",
              "      <td>1</td>\n",
              "      <td>[mom with \"thyroid disease]</td>\n",
              "      <td>[668 693]</td>\n",
              "    </tr>\n",
              "    <tr>\n",
              "      <th>2</th>\n",
              "      <td>00016_002</td>\n",
              "      <td>0</td>\n",
              "      <td>16</td>\n",
              "      <td>2</td>\n",
              "      <td>[chest pressure]</td>\n",
              "      <td>[203 217]</td>\n",
              "    </tr>\n",
              "    <tr>\n",
              "      <th>3</th>\n",
              "      <td>00016_003</td>\n",
              "      <td>0</td>\n",
              "      <td>16</td>\n",
              "      <td>3</td>\n",
              "      <td>[intermittent episodes, episode]</td>\n",
              "      <td>[70 91, 176 183]</td>\n",
              "    </tr>\n",
              "    <tr>\n",
              "      <th>4</th>\n",
              "      <td>00016_004</td>\n",
              "      <td>0</td>\n",
              "      <td>16</td>\n",
              "      <td>4</td>\n",
              "      <td>[felt as if he were going to pass out]</td>\n",
              "      <td>[222 258]</td>\n",
              "    </tr>\n",
              "  </tbody>\n",
              "</table>\n",
              "</div>\n",
              "      <button class=\"colab-df-convert\" onclick=\"convertToInteractive('df-28c00f52-1006-4854-aebd-6832ef35f89a')\"\n",
              "              title=\"Convert this dataframe to an interactive table.\"\n",
              "              style=\"display:none;\">\n",
              "        \n",
              "  <svg xmlns=\"http://www.w3.org/2000/svg\" height=\"24px\"viewBox=\"0 0 24 24\"\n",
              "       width=\"24px\">\n",
              "    <path d=\"M0 0h24v24H0V0z\" fill=\"none\"/>\n",
              "    <path d=\"M18.56 5.44l.94 2.06.94-2.06 2.06-.94-2.06-.94-.94-2.06-.94 2.06-2.06.94zm-11 1L8.5 8.5l.94-2.06 2.06-.94-2.06-.94L8.5 2.5l-.94 2.06-2.06.94zm10 10l.94 2.06.94-2.06 2.06-.94-2.06-.94-.94-2.06-.94 2.06-2.06.94z\"/><path d=\"M17.41 7.96l-1.37-1.37c-.4-.4-.92-.59-1.43-.59-.52 0-1.04.2-1.43.59L10.3 9.45l-7.72 7.72c-.78.78-.78 2.05 0 2.83L4 21.41c.39.39.9.59 1.41.59.51 0 1.02-.2 1.41-.59l7.78-7.78 2.81-2.81c.8-.78.8-2.07 0-2.86zM5.41 20L4 18.59l7.72-7.72 1.47 1.35L5.41 20z\"/>\n",
              "  </svg>\n",
              "      </button>\n",
              "      \n",
              "  <style>\n",
              "    .colab-df-container {\n",
              "      display:flex;\n",
              "      flex-wrap:wrap;\n",
              "      gap: 12px;\n",
              "    }\n",
              "\n",
              "    .colab-df-convert {\n",
              "      background-color: #E8F0FE;\n",
              "      border: none;\n",
              "      border-radius: 50%;\n",
              "      cursor: pointer;\n",
              "      display: none;\n",
              "      fill: #1967D2;\n",
              "      height: 32px;\n",
              "      padding: 0 0 0 0;\n",
              "      width: 32px;\n",
              "    }\n",
              "\n",
              "    .colab-df-convert:hover {\n",
              "      background-color: #E2EBFA;\n",
              "      box-shadow: 0px 1px 2px rgba(60, 64, 67, 0.3), 0px 1px 3px 1px rgba(60, 64, 67, 0.15);\n",
              "      fill: #174EA6;\n",
              "    }\n",
              "\n",
              "    [theme=dark] .colab-df-convert {\n",
              "      background-color: #3B4455;\n",
              "      fill: #D2E3FC;\n",
              "    }\n",
              "\n",
              "    [theme=dark] .colab-df-convert:hover {\n",
              "      background-color: #434B5C;\n",
              "      box-shadow: 0px 1px 3px 1px rgba(0, 0, 0, 0.15);\n",
              "      filter: drop-shadow(0px 1px 2px rgba(0, 0, 0, 0.3));\n",
              "      fill: #FFFFFF;\n",
              "    }\n",
              "  </style>\n",
              "\n",
              "      <script>\n",
              "        const buttonEl =\n",
              "          document.querySelector('#df-28c00f52-1006-4854-aebd-6832ef35f89a button.colab-df-convert');\n",
              "        buttonEl.style.display =\n",
              "          google.colab.kernel.accessAllowed ? 'block' : 'none';\n",
              "\n",
              "        async function convertToInteractive(key) {\n",
              "          const element = document.querySelector('#df-28c00f52-1006-4854-aebd-6832ef35f89a');\n",
              "          const dataTable =\n",
              "            await google.colab.kernel.invokeFunction('convertToInteractive',\n",
              "                                                     [key], {});\n",
              "          if (!dataTable) return;\n",
              "\n",
              "          const docLinkHtml = 'Like what you see? Visit the ' +\n",
              "            '<a target=\"_blank\" href=https://colab.research.google.com/notebooks/data_table.ipynb>data table notebook</a>'\n",
              "            + ' to learn more about interactive tables.';\n",
              "          element.innerHTML = '';\n",
              "          dataTable['output_type'] = 'display_data';\n",
              "          await google.colab.output.renderOutput(dataTable, element);\n",
              "          const docLink = document.createElement('div');\n",
              "          docLink.innerHTML = docLinkHtml;\n",
              "          element.appendChild(docLink);\n",
              "        }\n",
              "      </script>\n",
              "    </div>\n",
              "  </div>\n",
              "  "
            ]
          },
          "metadata": {}
        },
        {
          "output_type": "stream",
          "name": "stdout",
          "text": [
            "train.shape: (14300, 6) \n",
            "\n"
          ]
        },
        {
          "output_type": "display_data",
          "data": {
            "text/plain": [
              "   feature_num  case_num                                       feature_text\n",
              "0            0         0  Family-history-of-MI-OR-Family-history-of-myoc...\n",
              "1            1         0                 Family-history-of-thyroid-disorder\n",
              "2            2         0                                     Chest-pressure\n",
              "3            3         0                              Intermittent-symptoms\n",
              "4            4         0                                        Lightheaded"
            ],
            "text/html": [
              "\n",
              "  <div id=\"df-3688cc87-1a13-488e-9fe0-6eac290d9656\">\n",
              "    <div class=\"colab-df-container\">\n",
              "      <div>\n",
              "<style scoped>\n",
              "    .dataframe tbody tr th:only-of-type {\n",
              "        vertical-align: middle;\n",
              "    }\n",
              "\n",
              "    .dataframe tbody tr th {\n",
              "        vertical-align: top;\n",
              "    }\n",
              "\n",
              "    .dataframe thead th {\n",
              "        text-align: right;\n",
              "    }\n",
              "</style>\n",
              "<table border=\"1\" class=\"dataframe\">\n",
              "  <thead>\n",
              "    <tr style=\"text-align: right;\">\n",
              "      <th></th>\n",
              "      <th>feature_num</th>\n",
              "      <th>case_num</th>\n",
              "      <th>feature_text</th>\n",
              "    </tr>\n",
              "  </thead>\n",
              "  <tbody>\n",
              "    <tr>\n",
              "      <th>0</th>\n",
              "      <td>0</td>\n",
              "      <td>0</td>\n",
              "      <td>Family-history-of-MI-OR-Family-history-of-myoc...</td>\n",
              "    </tr>\n",
              "    <tr>\n",
              "      <th>1</th>\n",
              "      <td>1</td>\n",
              "      <td>0</td>\n",
              "      <td>Family-history-of-thyroid-disorder</td>\n",
              "    </tr>\n",
              "    <tr>\n",
              "      <th>2</th>\n",
              "      <td>2</td>\n",
              "      <td>0</td>\n",
              "      <td>Chest-pressure</td>\n",
              "    </tr>\n",
              "    <tr>\n",
              "      <th>3</th>\n",
              "      <td>3</td>\n",
              "      <td>0</td>\n",
              "      <td>Intermittent-symptoms</td>\n",
              "    </tr>\n",
              "    <tr>\n",
              "      <th>4</th>\n",
              "      <td>4</td>\n",
              "      <td>0</td>\n",
              "      <td>Lightheaded</td>\n",
              "    </tr>\n",
              "  </tbody>\n",
              "</table>\n",
              "</div>\n",
              "      <button class=\"colab-df-convert\" onclick=\"convertToInteractive('df-3688cc87-1a13-488e-9fe0-6eac290d9656')\"\n",
              "              title=\"Convert this dataframe to an interactive table.\"\n",
              "              style=\"display:none;\">\n",
              "        \n",
              "  <svg xmlns=\"http://www.w3.org/2000/svg\" height=\"24px\"viewBox=\"0 0 24 24\"\n",
              "       width=\"24px\">\n",
              "    <path d=\"M0 0h24v24H0V0z\" fill=\"none\"/>\n",
              "    <path d=\"M18.56 5.44l.94 2.06.94-2.06 2.06-.94-2.06-.94-.94-2.06-.94 2.06-2.06.94zm-11 1L8.5 8.5l.94-2.06 2.06-.94-2.06-.94L8.5 2.5l-.94 2.06-2.06.94zm10 10l.94 2.06.94-2.06 2.06-.94-2.06-.94-.94-2.06-.94 2.06-2.06.94z\"/><path d=\"M17.41 7.96l-1.37-1.37c-.4-.4-.92-.59-1.43-.59-.52 0-1.04.2-1.43.59L10.3 9.45l-7.72 7.72c-.78.78-.78 2.05 0 2.83L4 21.41c.39.39.9.59 1.41.59.51 0 1.02-.2 1.41-.59l7.78-7.78 2.81-2.81c.8-.78.8-2.07 0-2.86zM5.41 20L4 18.59l7.72-7.72 1.47 1.35L5.41 20z\"/>\n",
              "  </svg>\n",
              "      </button>\n",
              "      \n",
              "  <style>\n",
              "    .colab-df-container {\n",
              "      display:flex;\n",
              "      flex-wrap:wrap;\n",
              "      gap: 12px;\n",
              "    }\n",
              "\n",
              "    .colab-df-convert {\n",
              "      background-color: #E8F0FE;\n",
              "      border: none;\n",
              "      border-radius: 50%;\n",
              "      cursor: pointer;\n",
              "      display: none;\n",
              "      fill: #1967D2;\n",
              "      height: 32px;\n",
              "      padding: 0 0 0 0;\n",
              "      width: 32px;\n",
              "    }\n",
              "\n",
              "    .colab-df-convert:hover {\n",
              "      background-color: #E2EBFA;\n",
              "      box-shadow: 0px 1px 2px rgba(60, 64, 67, 0.3), 0px 1px 3px 1px rgba(60, 64, 67, 0.15);\n",
              "      fill: #174EA6;\n",
              "    }\n",
              "\n",
              "    [theme=dark] .colab-df-convert {\n",
              "      background-color: #3B4455;\n",
              "      fill: #D2E3FC;\n",
              "    }\n",
              "\n",
              "    [theme=dark] .colab-df-convert:hover {\n",
              "      background-color: #434B5C;\n",
              "      box-shadow: 0px 1px 3px 1px rgba(0, 0, 0, 0.15);\n",
              "      filter: drop-shadow(0px 1px 2px rgba(0, 0, 0, 0.3));\n",
              "      fill: #FFFFFF;\n",
              "    }\n",
              "  </style>\n",
              "\n",
              "      <script>\n",
              "        const buttonEl =\n",
              "          document.querySelector('#df-3688cc87-1a13-488e-9fe0-6eac290d9656 button.colab-df-convert');\n",
              "        buttonEl.style.display =\n",
              "          google.colab.kernel.accessAllowed ? 'block' : 'none';\n",
              "\n",
              "        async function convertToInteractive(key) {\n",
              "          const element = document.querySelector('#df-3688cc87-1a13-488e-9fe0-6eac290d9656');\n",
              "          const dataTable =\n",
              "            await google.colab.kernel.invokeFunction('convertToInteractive',\n",
              "                                                     [key], {});\n",
              "          if (!dataTable) return;\n",
              "\n",
              "          const docLinkHtml = 'Like what you see? Visit the ' +\n",
              "            '<a target=\"_blank\" href=https://colab.research.google.com/notebooks/data_table.ipynb>data table notebook</a>'\n",
              "            + ' to learn more about interactive tables.';\n",
              "          element.innerHTML = '';\n",
              "          dataTable['output_type'] = 'display_data';\n",
              "          await google.colab.output.renderOutput(dataTable, element);\n",
              "          const docLink = document.createElement('div');\n",
              "          docLink.innerHTML = docLinkHtml;\n",
              "          element.appendChild(docLink);\n",
              "        }\n",
              "      </script>\n",
              "    </div>\n",
              "  </div>\n",
              "  "
            ]
          },
          "metadata": {}
        },
        {
          "output_type": "stream",
          "name": "stdout",
          "text": [
            "features.shape: (143, 3) \n",
            "\n"
          ]
        },
        {
          "output_type": "display_data",
          "data": {
            "text/plain": [
              "   pn_num  case_num                                         pn_history\n",
              "0       0         0  17-year-old male, has come to the student heal...\n",
              "1       1         0  17 yo male with recurrent palpitations for the...\n",
              "2       2         0  Dillon Cleveland is a 17 y.o. male patient wit...\n",
              "3       3         0  a 17 yo m c/o palpitation started 3 mos ago; \\...\n",
              "4       4         0  17yo male with no pmh here for evaluation of p..."
            ],
            "text/html": [
              "\n",
              "  <div id=\"df-886a73bd-2894-45ef-8eae-a7ff38921190\">\n",
              "    <div class=\"colab-df-container\">\n",
              "      <div>\n",
              "<style scoped>\n",
              "    .dataframe tbody tr th:only-of-type {\n",
              "        vertical-align: middle;\n",
              "    }\n",
              "\n",
              "    .dataframe tbody tr th {\n",
              "        vertical-align: top;\n",
              "    }\n",
              "\n",
              "    .dataframe thead th {\n",
              "        text-align: right;\n",
              "    }\n",
              "</style>\n",
              "<table border=\"1\" class=\"dataframe\">\n",
              "  <thead>\n",
              "    <tr style=\"text-align: right;\">\n",
              "      <th></th>\n",
              "      <th>pn_num</th>\n",
              "      <th>case_num</th>\n",
              "      <th>pn_history</th>\n",
              "    </tr>\n",
              "  </thead>\n",
              "  <tbody>\n",
              "    <tr>\n",
              "      <th>0</th>\n",
              "      <td>0</td>\n",
              "      <td>0</td>\n",
              "      <td>17-year-old male, has come to the student heal...</td>\n",
              "    </tr>\n",
              "    <tr>\n",
              "      <th>1</th>\n",
              "      <td>1</td>\n",
              "      <td>0</td>\n",
              "      <td>17 yo male with recurrent palpitations for the...</td>\n",
              "    </tr>\n",
              "    <tr>\n",
              "      <th>2</th>\n",
              "      <td>2</td>\n",
              "      <td>0</td>\n",
              "      <td>Dillon Cleveland is a 17 y.o. male patient wit...</td>\n",
              "    </tr>\n",
              "    <tr>\n",
              "      <th>3</th>\n",
              "      <td>3</td>\n",
              "      <td>0</td>\n",
              "      <td>a 17 yo m c/o palpitation started 3 mos ago; \\...</td>\n",
              "    </tr>\n",
              "    <tr>\n",
              "      <th>4</th>\n",
              "      <td>4</td>\n",
              "      <td>0</td>\n",
              "      <td>17yo male with no pmh here for evaluation of p...</td>\n",
              "    </tr>\n",
              "  </tbody>\n",
              "</table>\n",
              "</div>\n",
              "      <button class=\"colab-df-convert\" onclick=\"convertToInteractive('df-886a73bd-2894-45ef-8eae-a7ff38921190')\"\n",
              "              title=\"Convert this dataframe to an interactive table.\"\n",
              "              style=\"display:none;\">\n",
              "        \n",
              "  <svg xmlns=\"http://www.w3.org/2000/svg\" height=\"24px\"viewBox=\"0 0 24 24\"\n",
              "       width=\"24px\">\n",
              "    <path d=\"M0 0h24v24H0V0z\" fill=\"none\"/>\n",
              "    <path d=\"M18.56 5.44l.94 2.06.94-2.06 2.06-.94-2.06-.94-.94-2.06-.94 2.06-2.06.94zm-11 1L8.5 8.5l.94-2.06 2.06-.94-2.06-.94L8.5 2.5l-.94 2.06-2.06.94zm10 10l.94 2.06.94-2.06 2.06-.94-2.06-.94-.94-2.06-.94 2.06-2.06.94z\"/><path d=\"M17.41 7.96l-1.37-1.37c-.4-.4-.92-.59-1.43-.59-.52 0-1.04.2-1.43.59L10.3 9.45l-7.72 7.72c-.78.78-.78 2.05 0 2.83L4 21.41c.39.39.9.59 1.41.59.51 0 1.02-.2 1.41-.59l7.78-7.78 2.81-2.81c.8-.78.8-2.07 0-2.86zM5.41 20L4 18.59l7.72-7.72 1.47 1.35L5.41 20z\"/>\n",
              "  </svg>\n",
              "      </button>\n",
              "      \n",
              "  <style>\n",
              "    .colab-df-container {\n",
              "      display:flex;\n",
              "      flex-wrap:wrap;\n",
              "      gap: 12px;\n",
              "    }\n",
              "\n",
              "    .colab-df-convert {\n",
              "      background-color: #E8F0FE;\n",
              "      border: none;\n",
              "      border-radius: 50%;\n",
              "      cursor: pointer;\n",
              "      display: none;\n",
              "      fill: #1967D2;\n",
              "      height: 32px;\n",
              "      padding: 0 0 0 0;\n",
              "      width: 32px;\n",
              "    }\n",
              "\n",
              "    .colab-df-convert:hover {\n",
              "      background-color: #E2EBFA;\n",
              "      box-shadow: 0px 1px 2px rgba(60, 64, 67, 0.3), 0px 1px 3px 1px rgba(60, 64, 67, 0.15);\n",
              "      fill: #174EA6;\n",
              "    }\n",
              "\n",
              "    [theme=dark] .colab-df-convert {\n",
              "      background-color: #3B4455;\n",
              "      fill: #D2E3FC;\n",
              "    }\n",
              "\n",
              "    [theme=dark] .colab-df-convert:hover {\n",
              "      background-color: #434B5C;\n",
              "      box-shadow: 0px 1px 3px 1px rgba(0, 0, 0, 0.15);\n",
              "      filter: drop-shadow(0px 1px 2px rgba(0, 0, 0, 0.3));\n",
              "      fill: #FFFFFF;\n",
              "    }\n",
              "  </style>\n",
              "\n",
              "      <script>\n",
              "        const buttonEl =\n",
              "          document.querySelector('#df-886a73bd-2894-45ef-8eae-a7ff38921190 button.colab-df-convert');\n",
              "        buttonEl.style.display =\n",
              "          google.colab.kernel.accessAllowed ? 'block' : 'none';\n",
              "\n",
              "        async function convertToInteractive(key) {\n",
              "          const element = document.querySelector('#df-886a73bd-2894-45ef-8eae-a7ff38921190');\n",
              "          const dataTable =\n",
              "            await google.colab.kernel.invokeFunction('convertToInteractive',\n",
              "                                                     [key], {});\n",
              "          if (!dataTable) return;\n",
              "\n",
              "          const docLinkHtml = 'Like what you see? Visit the ' +\n",
              "            '<a target=\"_blank\" href=https://colab.research.google.com/notebooks/data_table.ipynb>data table notebook</a>'\n",
              "            + ' to learn more about interactive tables.';\n",
              "          element.innerHTML = '';\n",
              "          dataTable['output_type'] = 'display_data';\n",
              "          await google.colab.output.renderOutput(dataTable, element);\n",
              "          const docLink = document.createElement('div');\n",
              "          docLink.innerHTML = docLinkHtml;\n",
              "          element.appendChild(docLink);\n",
              "        }\n",
              "      </script>\n",
              "    </div>\n",
              "  </div>\n",
              "  "
            ]
          },
          "metadata": {}
        },
        {
          "output_type": "stream",
          "name": "stdout",
          "text": [
            "patient_notes.shape: (42146, 3)\n"
          ]
        }
      ],
      "source": [
        "# train\n",
        "train = pd.read_csv('inputs/train.csv')\n",
        "train['annotation'] = train['annotation'].apply(ast.literal_eval)\n",
        "train['location'] = train['location'].apply(ast.literal_eval)\n",
        "\n",
        "# features\n",
        "features = pd.read_csv('inputs/features.csv')\n",
        "\n",
        "# patient_notes\n",
        "patient_notes = pd.read_csv('inputs/patient_notes.csv')\n",
        "\n",
        "display(train.head())\n",
        "print('train.shape:', train.shape, '\\n')\n",
        "display(features.head())\n",
        "print('features.shape:', features.shape, '\\n')\n",
        "display(patient_notes.head())\n",
        "print('patient_notes.shape:', patient_notes.shape)"
      ]
    },
    {
      "cell_type": "code",
      "execution_count": null,
      "metadata": {
        "colab": {
          "base_uri": "https://localhost:8080/"
        },
        "id": "vnjNJPTERR6D",
        "outputId": "415d8574-4737-4368-e655-d3ff98840625"
      },
      "outputs": [
        {
          "output_type": "execute_result",
          "data": {
            "text/plain": [
              "          id  case_num  pn_num  feature_num  \\\n",
              "0  00016_000         0      16            0   \n",
              "1  00016_001         0      16            1   \n",
              "2  00016_002         0      16            2   \n",
              "3  00016_003         0      16            3   \n",
              "4  00016_004         0      16            4   \n",
              "\n",
              "                               annotation          location  \\\n",
              "0          [dad with recent heart attcak]         [696 724]   \n",
              "1             [mom with \"thyroid disease]         [668 693]   \n",
              "2                        [chest pressure]         [203 217]   \n",
              "3        [intermittent episodes, episode]  [70 91, 176 183]   \n",
              "4  [felt as if he were going to pass out]         [222 258]   \n",
              "\n",
              "                                        feature_text  \\\n",
              "0  Family-history-of-MI-OR-Family-history-of-myoc...   \n",
              "1                 Family-history-of-thyroid-disorder   \n",
              "2                                     Chest-pressure   \n",
              "3                              Intermittent-symptoms   \n",
              "4                                        Lightheaded   \n",
              "\n",
              "                                          pn_history  \n",
              "0  HPI: 17yo M presents with palpitations. Patien...  \n",
              "1  HPI: 17yo M presents with palpitations. Patien...  \n",
              "2  HPI: 17yo M presents with palpitations. Patien...  \n",
              "3  HPI: 17yo M presents with palpitations. Patien...  \n",
              "4  HPI: 17yo M presents with palpitations. Patien...  "
            ],
            "text/html": [
              "\n",
              "  <div id=\"df-cee1182c-e599-43d2-9d52-46e3eb85a115\">\n",
              "    <div class=\"colab-df-container\">\n",
              "      <div>\n",
              "<style scoped>\n",
              "    .dataframe tbody tr th:only-of-type {\n",
              "        vertical-align: middle;\n",
              "    }\n",
              "\n",
              "    .dataframe tbody tr th {\n",
              "        vertical-align: top;\n",
              "    }\n",
              "\n",
              "    .dataframe thead th {\n",
              "        text-align: right;\n",
              "    }\n",
              "</style>\n",
              "<table border=\"1\" class=\"dataframe\">\n",
              "  <thead>\n",
              "    <tr style=\"text-align: right;\">\n",
              "      <th></th>\n",
              "      <th>id</th>\n",
              "      <th>case_num</th>\n",
              "      <th>pn_num</th>\n",
              "      <th>feature_num</th>\n",
              "      <th>annotation</th>\n",
              "      <th>location</th>\n",
              "      <th>feature_text</th>\n",
              "      <th>pn_history</th>\n",
              "    </tr>\n",
              "  </thead>\n",
              "  <tbody>\n",
              "    <tr>\n",
              "      <th>0</th>\n",
              "      <td>00016_000</td>\n",
              "      <td>0</td>\n",
              "      <td>16</td>\n",
              "      <td>0</td>\n",
              "      <td>[dad with recent heart attcak]</td>\n",
              "      <td>[696 724]</td>\n",
              "      <td>Family-history-of-MI-OR-Family-history-of-myoc...</td>\n",
              "      <td>HPI: 17yo M presents with palpitations. Patien...</td>\n",
              "    </tr>\n",
              "    <tr>\n",
              "      <th>1</th>\n",
              "      <td>00016_001</td>\n",
              "      <td>0</td>\n",
              "      <td>16</td>\n",
              "      <td>1</td>\n",
              "      <td>[mom with \"thyroid disease]</td>\n",
              "      <td>[668 693]</td>\n",
              "      <td>Family-history-of-thyroid-disorder</td>\n",
              "      <td>HPI: 17yo M presents with palpitations. Patien...</td>\n",
              "    </tr>\n",
              "    <tr>\n",
              "      <th>2</th>\n",
              "      <td>00016_002</td>\n",
              "      <td>0</td>\n",
              "      <td>16</td>\n",
              "      <td>2</td>\n",
              "      <td>[chest pressure]</td>\n",
              "      <td>[203 217]</td>\n",
              "      <td>Chest-pressure</td>\n",
              "      <td>HPI: 17yo M presents with palpitations. Patien...</td>\n",
              "    </tr>\n",
              "    <tr>\n",
              "      <th>3</th>\n",
              "      <td>00016_003</td>\n",
              "      <td>0</td>\n",
              "      <td>16</td>\n",
              "      <td>3</td>\n",
              "      <td>[intermittent episodes, episode]</td>\n",
              "      <td>[70 91, 176 183]</td>\n",
              "      <td>Intermittent-symptoms</td>\n",
              "      <td>HPI: 17yo M presents with palpitations. Patien...</td>\n",
              "    </tr>\n",
              "    <tr>\n",
              "      <th>4</th>\n",
              "      <td>00016_004</td>\n",
              "      <td>0</td>\n",
              "      <td>16</td>\n",
              "      <td>4</td>\n",
              "      <td>[felt as if he were going to pass out]</td>\n",
              "      <td>[222 258]</td>\n",
              "      <td>Lightheaded</td>\n",
              "      <td>HPI: 17yo M presents with palpitations. Patien...</td>\n",
              "    </tr>\n",
              "  </tbody>\n",
              "</table>\n",
              "</div>\n",
              "      <button class=\"colab-df-convert\" onclick=\"convertToInteractive('df-cee1182c-e599-43d2-9d52-46e3eb85a115')\"\n",
              "              title=\"Convert this dataframe to an interactive table.\"\n",
              "              style=\"display:none;\">\n",
              "        \n",
              "  <svg xmlns=\"http://www.w3.org/2000/svg\" height=\"24px\"viewBox=\"0 0 24 24\"\n",
              "       width=\"24px\">\n",
              "    <path d=\"M0 0h24v24H0V0z\" fill=\"none\"/>\n",
              "    <path d=\"M18.56 5.44l.94 2.06.94-2.06 2.06-.94-2.06-.94-.94-2.06-.94 2.06-2.06.94zm-11 1L8.5 8.5l.94-2.06 2.06-.94-2.06-.94L8.5 2.5l-.94 2.06-2.06.94zm10 10l.94 2.06.94-2.06 2.06-.94-2.06-.94-.94-2.06-.94 2.06-2.06.94z\"/><path d=\"M17.41 7.96l-1.37-1.37c-.4-.4-.92-.59-1.43-.59-.52 0-1.04.2-1.43.59L10.3 9.45l-7.72 7.72c-.78.78-.78 2.05 0 2.83L4 21.41c.39.39.9.59 1.41.59.51 0 1.02-.2 1.41-.59l7.78-7.78 2.81-2.81c.8-.78.8-2.07 0-2.86zM5.41 20L4 18.59l7.72-7.72 1.47 1.35L5.41 20z\"/>\n",
              "  </svg>\n",
              "      </button>\n",
              "      \n",
              "  <style>\n",
              "    .colab-df-container {\n",
              "      display:flex;\n",
              "      flex-wrap:wrap;\n",
              "      gap: 12px;\n",
              "    }\n",
              "\n",
              "    .colab-df-convert {\n",
              "      background-color: #E8F0FE;\n",
              "      border: none;\n",
              "      border-radius: 50%;\n",
              "      cursor: pointer;\n",
              "      display: none;\n",
              "      fill: #1967D2;\n",
              "      height: 32px;\n",
              "      padding: 0 0 0 0;\n",
              "      width: 32px;\n",
              "    }\n",
              "\n",
              "    .colab-df-convert:hover {\n",
              "      background-color: #E2EBFA;\n",
              "      box-shadow: 0px 1px 2px rgba(60, 64, 67, 0.3), 0px 1px 3px 1px rgba(60, 64, 67, 0.15);\n",
              "      fill: #174EA6;\n",
              "    }\n",
              "\n",
              "    [theme=dark] .colab-df-convert {\n",
              "      background-color: #3B4455;\n",
              "      fill: #D2E3FC;\n",
              "    }\n",
              "\n",
              "    [theme=dark] .colab-df-convert:hover {\n",
              "      background-color: #434B5C;\n",
              "      box-shadow: 0px 1px 3px 1px rgba(0, 0, 0, 0.15);\n",
              "      filter: drop-shadow(0px 1px 2px rgba(0, 0, 0, 0.3));\n",
              "      fill: #FFFFFF;\n",
              "    }\n",
              "  </style>\n",
              "\n",
              "      <script>\n",
              "        const buttonEl =\n",
              "          document.querySelector('#df-cee1182c-e599-43d2-9d52-46e3eb85a115 button.colab-df-convert');\n",
              "        buttonEl.style.display =\n",
              "          google.colab.kernel.accessAllowed ? 'block' : 'none';\n",
              "\n",
              "        async function convertToInteractive(key) {\n",
              "          const element = document.querySelector('#df-cee1182c-e599-43d2-9d52-46e3eb85a115');\n",
              "          const dataTable =\n",
              "            await google.colab.kernel.invokeFunction('convertToInteractive',\n",
              "                                                     [key], {});\n",
              "          if (!dataTable) return;\n",
              "\n",
              "          const docLinkHtml = 'Like what you see? Visit the ' +\n",
              "            '<a target=\"_blank\" href=https://colab.research.google.com/notebooks/data_table.ipynb>data table notebook</a>'\n",
              "            + ' to learn more about interactive tables.';\n",
              "          element.innerHTML = '';\n",
              "          dataTable['output_type'] = 'display_data';\n",
              "          await google.colab.output.renderOutput(dataTable, element);\n",
              "          const docLink = document.createElement('div');\n",
              "          docLink.innerHTML = docLinkHtml;\n",
              "          element.appendChild(docLink);\n",
              "        }\n",
              "      </script>\n",
              "    </div>\n",
              "  </div>\n",
              "  "
            ]
          },
          "metadata": {},
          "execution_count": 15
        }
      ],
      "source": [
        "# join the data\n",
        "train_joined = train.merge(features, how='left', on=['feature_num', 'case_num'])\n",
        "train_joined = train_joined.merge(patient_notes, how='left', on=['pn_num', 'case_num'])\n",
        "train_joined.head()"
      ]
    },
    {
      "cell_type": "markdown",
      "metadata": {
        "id": "tR7mKvh5u_e3"
      },
      "source": [
        "## Loading tokenizer"
      ]
    },
    {
      "cell_type": "code",
      "execution_count": null,
      "metadata": {
        "colab": {
          "base_uri": "https://localhost:8080/",
          "height": 145,
          "referenced_widgets": [
            "8ce6aedb67774cd588bbb978197de1bc",
            "16b71f59291d4b7592795ec0a516c0a5",
            "22a13851f9ed44f1b9c317f8aa10c8f8",
            "eeaf426883084311b9dfb77365f487a0",
            "4268f8a9485a48009b3bef9508b64034",
            "994e3a5d6a3140309266652f57b901e3",
            "6ee07c849f3b4d6aab7b5b05a7518d7d",
            "549fc06091cb4b43bc0bb0ba6d10d795",
            "3bead3a61eec483389fa12b67dc2f8e1",
            "cfe8e2fd81ef449680d690593e69b426",
            "39fa8370ab33440d8a1d9ff5d16848a7",
            "9fe9b3f0acc44d22b18c70478b1d51a5",
            "320feb3987e64eb2a8d09057dc08b227",
            "bbea05ceed51493582d8ad7ad560c9b1",
            "ca009b0d128b45fcb177ff9b2ff76746",
            "c03fcfec8efe488595c7494f6bbf2bdd",
            "5cef09e6e9864a3a94eebec18abaf32c",
            "7c18fdbe7bd14f97bfbbfc5bdca48550",
            "a9d085332cb84be7b83aebf10e9c4678",
            "f44c930ecc92475faf0d8b5fcfc0288c",
            "167191a05fb64f8abdceb7d56813c503",
            "44f5c49fa2824dd1a688d67d54a723d2",
            "0f41fc37dca341569f0d5430a2f24e7d",
            "7bc2bce39f8c4bbe8fe6ba53e399d7e6",
            "79cb9eaf05514103bab21130e26cc1c3",
            "9c66ba418b504a1d8f5c5d1040bf89f2",
            "f0ea4e0b671f497aad160e51c667ef9a",
            "3a24260bd5f9445787b1f2aa27f5dcf2",
            "ce275ba84a2a47c8ad7d0b77abe6e29a",
            "89663fffa6064bc1be19d1fc4d717ff1",
            "c520103c8e1f437a87347ff6fd744661",
            "daf1340fe174407bb7abb74169263e95",
            "1cb54c79897044e58d5c6e2e6d2d2457",
            "63f448382be742109271b63b7450f96d",
            "56728fa3124e48489f0d41b896b93eb0",
            "fd1cdd25ab8d42658807ca71c7c7b68b",
            "7e7a508af28f407b8cde7fa527532772",
            "4bb5454b21634616b0b0366ee35f748b",
            "ba8f5fc459a34b0886a45644cdaf3e3b",
            "eb36c7b57d9c4ba49a60e0191131e5c1",
            "325b76d38dac43379fec733ad2c24f1c",
            "a0e92f329113491cabcf318afecb48f0",
            "8451fb7f138d4f23831d848ae93f5d91",
            "a77c65171797451abf4999fa302691ed"
          ]
        },
        "id": "MSUMJskXvqYX",
        "outputId": "a29ebefb-e4e6-4980-a937-5072c7e93f0f"
      },
      "outputs": [
        {
          "output_type": "display_data",
          "data": {
            "text/plain": [
              "Downloading:   0%|          | 0.00/52.0 [00:00<?, ?B/s]"
            ],
            "application/vnd.jupyter.widget-view+json": {
              "version_major": 2,
              "version_minor": 0,
              "model_id": "8ce6aedb67774cd588bbb978197de1bc"
            }
          },
          "metadata": {}
        },
        {
          "output_type": "display_data",
          "data": {
            "text/plain": [
              "Downloading:   0%|          | 0.00/474 [00:00<?, ?B/s]"
            ],
            "application/vnd.jupyter.widget-view+json": {
              "version_major": 2,
              "version_minor": 0,
              "model_id": "9fe9b3f0acc44d22b18c70478b1d51a5"
            }
          },
          "metadata": {}
        },
        {
          "output_type": "display_data",
          "data": {
            "text/plain": [
              "Downloading:   0%|          | 0.00/899k [00:00<?, ?B/s]"
            ],
            "application/vnd.jupyter.widget-view+json": {
              "version_major": 2,
              "version_minor": 0,
              "model_id": "0f41fc37dca341569f0d5430a2f24e7d"
            }
          },
          "metadata": {}
        },
        {
          "output_type": "display_data",
          "data": {
            "text/plain": [
              "Downloading:   0%|          | 0.00/456k [00:00<?, ?B/s]"
            ],
            "application/vnd.jupyter.widget-view+json": {
              "version_major": 2,
              "version_minor": 0,
              "model_id": "63f448382be742109271b63b7450f96d"
            }
          },
          "metadata": {}
        }
      ],
      "source": [
        "tokenizer = AutoTokenizer.from_pretrained(model_cfg.checkpoint)"
      ]
    },
    {
      "cell_type": "markdown",
      "metadata": {
        "id": "UAlBkMxMVTqU"
      },
      "source": [
        "## Max length calculation"
      ]
    },
    {
      "cell_type": "markdown",
      "metadata": {
        "id": "-2O_hufry3Af"
      },
      "source": [
        "Определение максимальной длины последовательности."
      ]
    },
    {
      "cell_type": "code",
      "execution_count": null,
      "metadata": {
        "colab": {
          "base_uri": "https://localhost:8080/",
          "height": 135,
          "referenced_widgets": [
            "01613a96b1e243759646dd385c9f4c8a",
            "92576a3431144ce2826a2e18e63dd4b3",
            "69f5eef1e67e4cba8ed3a952844bd0a0",
            "3aee976b8476495d9be89bedfbf609f8",
            "df0a2aae1511470bbdaa9c104cd8efc1",
            "df72df8338d54db7afde371a526cfc6b",
            "1835e6abf6904bb19ae02fea2c162f1a",
            "68bfaa350e0549f1936bfa1eb3d3092c",
            "c25db0bad885411886b87e185b030b22",
            "aae08be4d4764aa6aea1f947915f625c",
            "ef6922af66bc45b2ab073f1d8fdae808",
            "04bccb4bb6b3422596f35c50c7489fe3",
            "ef28c6681a134c6c8852b7f23cc973ee",
            "77bfe67182c94b3c885d2d4a65c3f27c",
            "169943916f9b4abdbf3d2c58531abbfc",
            "498009b8819b49388ee267b9ddd730c2",
            "21b05ec7bf32455895dd78feb6e279cd",
            "75c3a13a466847f4993bc7ee9b90da0e",
            "0d19f3a8cdf2428ab7b4ab889cca0cbb",
            "7ff693eb4d1743cea3653699b4f990ea",
            "6896ac44adbb4fe9bccb9041bd05449f",
            "3e834724700b4346a0c9c3bca598f6e7"
          ]
        },
        "id": "9m8P1LOzzpvY",
        "outputId": "d88d2349-3808-4d9c-f7fd-a6175a2646b9"
      },
      "outputs": [
        {
          "output_type": "display_data",
          "data": {
            "text/plain": [
              "  0%|          | 0/143 [00:00<?, ?it/s]"
            ],
            "application/vnd.jupyter.widget-view+json": {
              "version_major": 2,
              "version_minor": 0,
              "model_id": "01613a96b1e243759646dd385c9f4c8a"
            }
          },
          "metadata": {}
        },
        {
          "output_type": "stream",
          "name": "stdout",
          "text": [
            "Максимальная длина последовательности feature_text: 30\n"
          ]
        },
        {
          "output_type": "display_data",
          "data": {
            "text/plain": [
              "  0%|          | 0/42146 [00:00<?, ?it/s]"
            ],
            "application/vnd.jupyter.widget-view+json": {
              "version_major": 2,
              "version_minor": 0,
              "model_id": "04bccb4bb6b3422596f35c50c7489fe3"
            }
          },
          "metadata": {}
        },
        {
          "output_type": "stream",
          "name": "stdout",
          "text": [
            "Максимальная длина последовательности pn_history: 433\n",
            "Суммарная максимальная длина последовательности: 466\n"
          ]
        }
      ],
      "source": [
        "def calculate_sequence_length(input_sequences: list, tokenizer, add_special_tokens: bool = False) -> int:\n",
        "  \"\"\"\n",
        "  Данная функция определяет длину максимальной последовательности из токенов.\n",
        "  :param input_sequences: list с последовательностями (например с предложениями)\n",
        "  :param tokenizer: используемый tokenizer для кодировки последовательности\n",
        "  :param add_special_tokens: True, если необходимо добавлять специальные токены [CLS], [SEP] или другие\n",
        "  :return: длина максимальной последовательности из токенов\n",
        "  \"\"\"\n",
        "  max_sequence_length = 0\n",
        "  for curr_sequence in tqdm(input_sequences):\n",
        "    curr_sequence_encoded = tokenizer(curr_sequence, add_special_tokens=add_special_tokens)\n",
        "    max_sequence_length = max(max_sequence_length, len(curr_sequence_encoded.get('input_ids')))\n",
        "  return max_sequence_length\n",
        "\n",
        "\n",
        "# максимальная длина последовательности feature_text\n",
        "feature_text_values = features['feature_text'].values\n",
        "feature_text_max_sequence_length = calculate_sequence_length(input_sequences=feature_text_values, tokenizer=tokenizer)\n",
        "print('Максимальная длина последовательности feature_text: {}'.format(feature_text_max_sequence_length))\n",
        "\n",
        "# максимальная длина последовательности pn_history\n",
        "pn_history_values = patient_notes['pn_history'].values\n",
        "pn_history_max_sequence_length = calculate_sequence_length(input_sequences=pn_history_values, tokenizer=tokenizer)\n",
        "print('Максимальная длина последовательности pn_history: {}'.format(pn_history_max_sequence_length))\n",
        "\n",
        "# суммарная максимальная длина последовательности [CLS] max{feature_text} [SEP] max{pn_history} [SEP]\n",
        "total_max_sequence_length = feature_text_max_sequence_length + pn_history_max_sequence_length + 3\n",
        "print('Суммарная максимальная длина последовательности: {}'.format(total_max_sequence_length))"
      ]
    },
    {
      "cell_type": "markdown",
      "metadata": {
        "id": "dXnDpudoZ4TD"
      },
      "source": [
        "## Custom dataset"
      ]
    },
    {
      "cell_type": "markdown",
      "metadata": {
        "id": "h61f6JNJaE9L"
      },
      "source": [
        "В данном разделе написан класс CustomDataset. Экземпляр инициализируется с параметрами:\n",
        "1. tokenizer - токенизатор, преобразующий последовательность в набор токенов (см. раздел Loading tokenizer).\n",
        "\n",
        "К примеру:\n",
        "\n",
        "```python\n",
        "sequence_1 = \"Dad with recent heart attack.\"\n",
        "sequence_2 = \"Family history of myocardial infarction\"\n",
        "\n",
        "encoded_sequence = tokenizer(\n",
        "  sequence_1, sequence_2, add_special_tokens=True, max_length=20, padding=\"max_length\", return_offsets_mapping=False)\n",
        "print(encoded_sequence)\n",
        "```\n",
        "Output:\n",
        "```python\n",
        "{\n",
        "    'input_ids': [1, 39253, 19, 485, 1144, 908, 4, 2, 27818, 750, 9, 127, 43682, 2617, 4047, 271, 14970, 2, 0, 0],\n",
        "    'token_type_ids': [0, 0, 0, 0, 0, 0, 0, 0, 1, 1, 1, 1, 1, 1, 1, 1, 1, 1, 0, 0],\n",
        "    'attention_mask': [1, 1, 1, 1, 1, 1, 1, 1, 1, 1, 1, 1, 1, 1, 1, 1, 1, 1, 0, 0]\n",
        "}\n",
        "```\n",
        "Где\n",
        "- `input_ids` - набор закодированных токенов. Причем 0, 1, 2 в данной последовательности - специальные токены - [CLS], [SEP], [PAD] соответственно (классификация, разделитель двух последовательностей sequence_1 и sequence_2, паддинг - увеличивает последовательность токенов до необходимой длины указанной в `max_length`).\n",
        "- `token_type_ids` - маска последовательностей (нули - токены первой последовательности + padding, 1 - токены второй последовательности).\n",
        "- `attention_mask` - маска токенов (1 - токен, 0 - padding).\n",
        "\n",
        "Декодируем полученные токены:\n",
        "\n",
        "```python\n",
        "tokenizer.decode(encoded_sequence.get(\"input_ids\"))\n",
        "```\n",
        "Output:\n",
        "```python\n",
        "[CLS]Dad with recent heart attack.[SEP]Family history of myocardial infarction[SEP][PAD][PAD]\n",
        "```\n",
        "\n",
        "2. feature_texts - фичи болезни, которые необходимо найти в заметках (patient_notes), np.ndarray.\n",
        "\n",
        "3. pn_histories - заметки, записанные со слов пациента, np.ndarray.\n",
        "\n",
        "4. locations - дипазоны символов в заметках, соответствующих указанной фиче болезни, np.ndarray.\n",
        "\n",
        "5. max_length - максимальная длина последовательности токенов.\n"
      ]
    },
    {
      "cell_type": "code",
      "execution_count": null,
      "metadata": {
        "id": "YIA7JWDwZ3ip"
      },
      "outputs": [],
      "source": [
        "class CustomDataset(Dataset):\n",
        "    def __init__(self, tokenizer, feature_texts: np.ndarray, pn_histories: np.ndarray, locations: np.ndarray, \n",
        "                 max_length: int = 512):\n",
        "        self.tokenizer = tokenizer\n",
        "        self.feature_texts = feature_texts\n",
        "        self.pn_histories = pn_histories\n",
        "        self.locations = locations\n",
        "        self.max_length = max_length\n",
        "\n",
        "    def __len__(self):\n",
        "        return len(self.feature_texts)\n",
        "\n",
        "    def __getitem__(self, idx: int):\n",
        "        def prepare_input(curr_pn_history: str, curr_feature_text: str):\n",
        "            \"\"\"\n",
        "            Функция предназначена для кодирования пары curr_pn_history, curr_feature_text\n",
        "            :param curr_pn_history: текущая pn_history\n",
        "            :param curr_feature_text: текущий feature_text\n",
        "            :return: encoded - словарь {'input_ids': torch.tensor, 'token_type_ids': torch.tensor,\n",
        "            'attention_mask': torch.tensor}\n",
        "            \"\"\"\n",
        "            encoded = self.tokenizer(curr_pn_history, curr_feature_text, add_special_tokens=True,\n",
        "                                     max_length=self.max_length, padding=\"max_length\", return_offsets_mapping=False)\n",
        "            return {k: torch.tensor(v, dtype=torch.long) for k, v in encoded.items()}\n",
        "\n",
        "        def prepare_label(curr_pn_history: str, curr_location: list):\n",
        "            \"\"\"\n",
        "            Функция предназначена для получения labels из pn_history и аннотаций.\n",
        "            :param curr_pn_history: текущая pn_history\n",
        "            :param curr_location: текущая разметка аннотаций\n",
        "            :return: labels - разметка токенов, где значения\n",
        "              -1 - не относящиеся к pn_history токены ([CLS], [SEP], [PAD])\n",
        "              0 - относящиеся к pn_history токены, но не относящиеся к аннотациям\n",
        "              1 - токены, относящиеся как и к pn_history, так и к аннотациям\n",
        "            \"\"\"\n",
        "            # кодируем текущий pn_history\n",
        "            encoded = self.tokenizer(curr_pn_history, add_special_tokens=True, max_length=self.max_length, \n",
        "                                     padding='max_length', return_offsets_mapping=True)\n",
        "            # порядковые номера кодированной последовательности, относящиеся к исходной последовательности\n",
        "            # т.е порядковые номера токенов [CLS], [SEP] и нулей, добавленных через padding не присутствуют в\n",
        "            # последовательности - [PAD]\n",
        "            seq_idxes = np.where(np.array(encoded.sequence_ids()) == 0)[0]\n",
        "\n",
        "            # из offset_mapping (список первого и последнего индексов строки, относящихся к каждому токену, полученному\n",
        "            # с помощью tokenizer)\n",
        "            # фильтруем только относящиеся к последовательности через seq_idxes\n",
        "            offset_mapping = encoded.get('offset_mapping')\n",
        "            offset_mapping = np.array(offset_mapping)\n",
        "            offset_mapping_filtered = offset_mapping[seq_idxes]\n",
        "\n",
        "            # формируем шаблон labels, где\n",
        "            # -1 - не относящиеся к последовательности токены\n",
        "            #  0 - относящиеся к последовательности токены\n",
        "            label = np.full(len(offset_mapping), -1)\n",
        "            label[seq_idxes] = 0\n",
        "\n",
        "            # предобрабатываем значения с аннотациями\n",
        "            locations = [tuple(map(int, loc.split())) for locs in curr_location for loc in locs.split(';')]\n",
        "            locations = sorted(locations, key=lambda loc: loc[0])\n",
        "\n",
        "            # итерируемся методом двух указателей и отмечаем токены, относящиеся к аннотацияем единицами\n",
        "            annotated_idxes = list()\n",
        "            pointer_mapping = 0\n",
        "            for pointer_loc, (start_loc, end_loc) in enumerate(locations):\n",
        "                while pointer_mapping < offset_mapping_filtered.shape[0] and \\\n",
        "                        offset_mapping_filtered[pointer_mapping][0] < end_loc:\n",
        "                    if offset_mapping_filtered[pointer_mapping][1] > start_loc:\n",
        "                        annotated_idxes.append(pointer_mapping)\n",
        "                    pointer_mapping += 1\n",
        "            annotated_seq_idxes = seq_idxes[annotated_idxes]\n",
        "            label[annotated_seq_idxes] = 1\n",
        "            label = torch.tensor(label, dtype=torch.float)\n",
        "            return label\n",
        "\n",
        "        curr_pn_history = self.pn_histories[idx]\n",
        "        curr_feature_text = self.feature_texts[idx]\n",
        "        curr_location = self.locations[idx]\n",
        "        input = prepare_input(curr_pn_history, curr_feature_text)\n",
        "        label = prepare_label(curr_pn_history, curr_location)\n",
        "        return input, label"
      ]
    },
    {
      "cell_type": "markdown",
      "metadata": {
        "id": "Sah1G45V0VYz"
      },
      "source": [
        "Пример:"
      ]
    },
    {
      "cell_type": "code",
      "execution_count": null,
      "metadata": {
        "colab": {
          "base_uri": "https://localhost:8080/",
          "height": 180
        },
        "id": "L8XPagA-0pUE",
        "outputId": "63043dad-2264-416f-fc70-d6695a27728d"
      },
      "outputs": [
        {
          "output_type": "stream",
          "name": "stdout",
          "text": [
            "Input data:\n"
          ]
        },
        {
          "output_type": "display_data",
          "data": {
            "text/plain": [
              "{'input_ids': tensor([    1, 39253,    19,   485,  1144,   908,     4,     2, 27818,   750,\n",
              "             9,   127, 43682,  2617,  4047,   271, 14970,     2,     0,     0]),\n",
              " 'token_type_ids': tensor([0, 0, 0, 0, 0, 0, 0, 0, 1, 1, 1, 1, 1, 1, 1, 1, 1, 1, 0, 0]),\n",
              " 'attention_mask': tensor([1, 1, 1, 1, 1, 1, 1, 1, 1, 1, 1, 1, 1, 1, 1, 1, 1, 1, 0, 0])}"
            ]
          },
          "metadata": {}
        },
        {
          "output_type": "stream",
          "name": "stdout",
          "text": [
            "\n",
            "Labels:\n"
          ]
        },
        {
          "output_type": "display_data",
          "data": {
            "text/plain": [
              "tensor([-1.,  0.,  0.,  0.,  1.,  1.,  0., -1., -1., -1., -1., -1., -1., -1.,\n",
              "        -1., -1., -1., -1., -1., -1.])"
            ]
          },
          "metadata": {}
        }
      ],
      "source": [
        "test_feature = np.array([\"Family history of myocardial infarction\", ])\n",
        "test_pn_history = np.array([\"Dad with recent heart attack.\", ])\n",
        "test_location = np.array([[\"16 28\"], ])\n",
        "\n",
        "dataset = CustomDataset(\n",
        "    tokenizer=tokenizer, feature_texts=test_feature, pn_histories=test_pn_history,\n",
        "    locations=test_location, max_length=20)\n",
        "\n",
        "input, label = dataset.__getitem__(idx=0)\n",
        "\n",
        "print(\"Input data:\")\n",
        "display(input)\n",
        "print()\n",
        "print(\"Labels:\")\n",
        "display(label)"
      ]
    },
    {
      "cell_type": "markdown",
      "metadata": {
        "id": "z9JQLXU74rky"
      },
      "source": [
        "Рассмотрим, что мы имеем на выходе.\n",
        "\n",
        "**Inputs**. Данные для подачи в сеть. Представляет из себя словарь с ключами `input_ids`, `token_type_ids`, `attention_mask`, разобранными выше.\n",
        "\n",
        "**Labels**. Разметка токенов, где\n",
        "- -1 - означает, что данный токен не соответствует заметкам из `pn_history`. Это значение принимают спец. токены и токены, относящиеся к `feature`.\n",
        "- 0 - токены, относящиеся к заметкам из `pn_history`, которые НЕ являются искомой фичей болезни.\n",
        "- 1 - токены, относящиеся к заметкам из `pn_history`, которые являются искомой фичей болезни.\n",
        "\n",
        "Декодируем токены со значением 1."
      ]
    },
    {
      "cell_type": "code",
      "execution_count": null,
      "metadata": {
        "colab": {
          "base_uri": "https://localhost:8080/",
          "height": 54
        },
        "id": "rwBLWi5U50yc",
        "outputId": "f0449198-5f97-425f-dbde-a2a90505b0a1"
      },
      "outputs": [
        {
          "output_type": "display_data",
          "data": {
            "text/plain": [
              "'heart attack'"
            ],
            "application/vnd.google.colaboratory.intrinsic+json": {
              "type": "string"
            }
          },
          "metadata": {}
        },
        {
          "output_type": "display_data",
          "data": {
            "text/plain": [
              "' heart attack'"
            ],
            "application/vnd.google.colaboratory.intrinsic+json": {
              "type": "string"
            }
          },
          "metadata": {}
        }
      ],
      "source": [
        "display(test_pn_history[0][16:28])\n",
        "display(tokenizer.decode(input.get(\"input_ids\")[label == 1]))"
      ]
    },
    {
      "cell_type": "markdown",
      "metadata": {
        "id": "nconJIlx7faV"
      },
      "source": [
        "Посмотрим, как работает скрипт на данных из выборки."
      ]
    },
    {
      "cell_type": "code",
      "execution_count": null,
      "metadata": {
        "colab": {
          "base_uri": "https://localhost:8080/",
          "height": 54
        },
        "id": "hYhBcSq07e9f",
        "outputId": "b0e8f7d6-b1f4-497b-921a-db00cd26054d"
      },
      "outputs": [
        {
          "output_type": "display_data",
          "data": {
            "text/plain": [
              "['17 yo']"
            ]
          },
          "metadata": {}
        },
        {
          "output_type": "display_data",
          "data": {
            "text/plain": [
              "'17 yo'"
            ],
            "application/vnd.google.colaboratory.intrinsic+json": {
              "type": "string"
            }
          },
          "metadata": {}
        }
      ],
      "source": [
        "dataset = CustomDataset(\n",
        "    tokenizer=tokenizer, feature_texts=train_joined[\"feature_text\"], pn_histories=train_joined[\"pn_history\"],\n",
        "    locations=train_joined[\"location\"], max_length=466)\n",
        "\n",
        "input, label = dataset.__getitem__(idx=50)\n",
        "\n",
        "display(train_joined.loc[50, \"annotation\"])\n",
        "display(tokenizer.decode(input.get(\"input_ids\")[label == 1]))"
      ]
    },
    {
      "cell_type": "markdown",
      "metadata": {
        "id": "8jC6-YI3IGrR"
      },
      "source": [
        "## Build the model"
      ]
    },
    {
      "cell_type": "markdown",
      "metadata": {
        "id": "rLZocZLw_C9W"
      },
      "source": [
        "В данном разделе будет построена архитектура сети, состоящая из двух частей:\n",
        "- трансформера (backbone)\n",
        "- головы (head), которая принимает на вход `hidden_state` из backbone и возвращает"
      ]
    },
    {
      "cell_type": "code",
      "execution_count": null,
      "metadata": {
        "id": "WM60f5k9Cd0D"
      },
      "outputs": [],
      "source": [
        "class DeBertaForTokenClassification(nn.Module):\n",
        "  def __init__(\n",
        "      self,\n",
        "      config_path: str = None,\n",
        "      use_pretrained: bool = True,\n",
        "      checkpoint: str = 'microsoft/deberta-base', \n",
        "      output_hidden_states: bool = True,\n",
        "      fc_dropout: float = 0.2,\n",
        "      num_labels: int = 1,\n",
        "    ) -> None:\n",
        "    super().__init__()\n",
        "\n",
        "    # set configuration\n",
        "    if config_path is None:\n",
        "      self.config = AutoConfig.from_pretrained(checkpoint, output_hidden_states=output_hidden_states)\n",
        "    else:\n",
        "      self.config = torch.load(config_path)\n",
        "    \n",
        "    # set backbone model\n",
        "    if use_pretrained:\n",
        "      self.backbone = AutoModel.from_pretrained(checkpoint, config=self.config)\n",
        "    else:\n",
        "      self.backbone = AutoModel(self.config)\n",
        "\n",
        "    # set head (classification layer)\n",
        "    self.fc = nn.Sequential(nn.Dropout(p=fc_dropout),\n",
        "                            nn.Linear(in_features=self.config.hidden_size, out_features=num_labels, bias=True))\n",
        "    \n",
        "    # weights initialization for last linear layer\n",
        "    def _init_weights(m):\n",
        "      if isinstance(m, nn.Linear):\n",
        "        nn.init.normal_(m.weight, mean=0, std=self.config.initializer_range)\n",
        "        if m.bias:\n",
        "          m.bias.data.zero_()\n",
        "\n",
        "    self.fc.apply(_init_weights)\n",
        "\n",
        "  def get_features(self, inputs: dict):\n",
        "    # get last hidden state\n",
        "    backbone_output = self.backbone(**inputs)\n",
        "    last_hidden_states = backbone_output.get(\"last_hidden_state\")\n",
        "    return last_hidden_states\n",
        "  \n",
        "  def forward(self, inputs: dict):\n",
        "    # get classification results\n",
        "    features = self.get_features(inputs)\n",
        "    output = self.fc(features)\n",
        "    return output"
      ]
    },
    {
      "cell_type": "markdown",
      "metadata": {
        "id": "Af8u7EmKDx5i"
      },
      "source": [
        "Пример:"
      ]
    },
    {
      "cell_type": "code",
      "execution_count": null,
      "metadata": {
        "colab": {
          "base_uri": "https://localhost:8080/",
          "height": 162
        },
        "id": "65vgtTJpZJlr",
        "outputId": "0dac74d6-53c0-4fcc-d8ae-1a5a8d0600d2"
      },
      "outputs": [
        {
          "output_type": "stream",
          "name": "stdout",
          "text": [
            "Device: cuda\n",
            "Shapes:\n"
          ]
        },
        {
          "output_type": "display_data",
          "data": {
            "text/plain": [
              "torch.Size([12, 466])"
            ]
          },
          "metadata": {}
        },
        {
          "output_type": "display_data",
          "data": {
            "text/plain": [
              "torch.Size([12, 466])"
            ]
          },
          "metadata": {}
        },
        {
          "output_type": "stream",
          "name": "stdout",
          "text": [
            "\n",
            "Types:\n"
          ]
        },
        {
          "output_type": "display_data",
          "data": {
            "text/plain": [
              "torch.int64"
            ]
          },
          "metadata": {}
        },
        {
          "output_type": "display_data",
          "data": {
            "text/plain": [
              "torch.float32"
            ]
          },
          "metadata": {}
        }
      ],
      "source": [
        "device = \"cuda\" if torch.cuda.is_available() else \"cpu\"\n",
        "print(\"Device: {}\".format(device))\n",
        "\n",
        "dataset = CustomDataset(\n",
        "    tokenizer=tokenizer, feature_texts=train_joined[\"feature_text\"], pn_histories=train_joined[\"pn_history\"],\n",
        "    locations=train_joined[\"location\"], max_length=466)\n",
        "\n",
        "dataloader = DataLoader(dataset=dataset, batch_size=train_cfg.batch_size, shuffle=False, drop_last=False)\n",
        "\n",
        "# getting single batch\n",
        "input, labels = next(iter(dataloader))\n",
        "input = {k: v.to(device) for k, v in input.items()}\n",
        "\n",
        "# print shapes\n",
        "print(\"Shapes:\")\n",
        "display(input.get(\"input_ids\").shape, labels.shape)\n",
        "\n",
        "print(\"\\nTypes:\")\n",
        "display(input.get(\"input_ids\").dtype, labels.dtype)"
      ]
    },
    {
      "cell_type": "code",
      "execution_count": null,
      "metadata": {
        "colab": {
          "base_uri": "https://localhost:8080/",
          "height": 123,
          "referenced_widgets": [
            "9d15fe76fa3f4bd59d47476cf3bd4259",
            "529ab6c2dbb74ae8bfe215ecceb8de0a",
            "d4c6ec442cbd4bd094ffd702fac5378a",
            "73449b3a0b534db2856abfe85d6bb866",
            "0d40fdd5e29648fd9ffe96ba226b287e",
            "abfcc73da45a4e2bbb1b5b747ca70f7f",
            "ea8b4ed800f64d16ba71474a0676bf51",
            "17c3e2d063c545df853d71fa2140b584",
            "04a38e17104548a3b83ddffba41a905b",
            "5d35b35cda604a5faae912f12f53a106",
            "8cd47e535f63442ca6eb1bc518aa902b"
          ]
        },
        "id": "ZouGDf_7ZJoW",
        "outputId": "e2528d58-0b2f-4a3e-f050-b561d97853c0"
      },
      "outputs": [
        {
          "output_type": "display_data",
          "data": {
            "text/plain": [
              "Downloading:   0%|          | 0.00/559M [00:00<?, ?B/s]"
            ],
            "application/vnd.jupyter.widget-view+json": {
              "version_major": 2,
              "version_minor": 0,
              "model_id": "9d15fe76fa3f4bd59d47476cf3bd4259"
            }
          },
          "metadata": {}
        },
        {
          "output_type": "stream",
          "name": "stderr",
          "text": [
            "Some weights of the model checkpoint at microsoft/deberta-base were not used when initializing DebertaModel: ['lm_predictions.lm_head.LayerNorm.weight', 'lm_predictions.lm_head.dense.weight', 'lm_predictions.lm_head.LayerNorm.bias', 'lm_predictions.lm_head.bias', 'lm_predictions.lm_head.dense.bias']\n",
            "- This IS expected if you are initializing DebertaModel from the checkpoint of a model trained on another task or with another architecture (e.g. initializing a BertForSequenceClassification model from a BertForPreTraining model).\n",
            "- This IS NOT expected if you are initializing DebertaModel from the checkpoint of a model that you expect to be exactly identical (initializing a BertForSequenceClassification model from a BertForSequenceClassification model).\n"
          ]
        }
      ],
      "source": [
        "model = DeBertaForTokenClassification()\n",
        "model.to(device);"
      ]
    },
    {
      "cell_type": "code",
      "execution_count": null,
      "metadata": {
        "colab": {
          "base_uri": "https://localhost:8080/"
        },
        "id": "6ulhYRkOGpo0",
        "outputId": "6faad901-a118-44cf-d0ae-7afb3cb9edb0"
      },
      "outputs": [
        {
          "output_type": "stream",
          "name": "stdout",
          "text": [
            "torch.Size([12, 466, 768])\n",
            "torch.Size([12, 466, 1])\n"
          ]
        }
      ],
      "source": [
        "with torch.no_grad():\n",
        "  backbone_output = model.backbone(**input)\n",
        "  features = backbone_output.get(\"last_hidden_state\")\n",
        "  print(features.shape)\n",
        "\n",
        "  fc_output = model.fc(features)\n",
        "  print(fc_output.shape)"
      ]
    },
    {
      "cell_type": "markdown",
      "source": [
        "`last_hidden_state` (batch_size, sequence_length, hidden_size) - последовательность скрытых состояний на выходе последнего слоя модели."
      ],
      "metadata": {
        "id": "geQ1xBptiAtJ"
      }
    },
    {
      "cell_type": "markdown",
      "source": [
        "Информация по графическому процессору"
      ],
      "metadata": {
        "id": "kPbN9pAdcSsY"
      }
    },
    {
      "cell_type": "code",
      "execution_count": null,
      "metadata": {
        "id": "JZmU2C1yGph-",
        "colab": {
          "base_uri": "https://localhost:8080/"
        },
        "outputId": "8ea74cf5-0038-4d49-cbc2-b996190b4545"
      },
      "outputs": [
        {
          "output_type": "stream",
          "name": "stdout",
          "text": [
            "Wed Oct 19 18:07:41 2022       \n",
            "+-----------------------------------------------------------------------------+\n",
            "| NVIDIA-SMI 460.32.03    Driver Version: 460.32.03    CUDA Version: 11.2     |\n",
            "|-------------------------------+----------------------+----------------------+\n",
            "| GPU  Name        Persistence-M| Bus-Id        Disp.A | Volatile Uncorr. ECC |\n",
            "| Fan  Temp  Perf  Pwr:Usage/Cap|         Memory-Usage | GPU-Util  Compute M. |\n",
            "|                               |                      |               MIG M. |\n",
            "|===============================+======================+======================|\n",
            "|   0  Tesla T4            Off  | 00000000:00:04.0 Off |                    0 |\n",
            "| N/A   59C    P0    27W /  70W |   2748MiB / 15109MiB |      0%      Default |\n",
            "|                               |                      |                  N/A |\n",
            "+-------------------------------+----------------------+----------------------+\n",
            "                                                                               \n",
            "+-----------------------------------------------------------------------------+\n",
            "| Processes:                                                                  |\n",
            "|  GPU   GI   CI        PID   Type   Process name                  GPU Memory |\n",
            "|        ID   ID                                                   Usage      |\n",
            "|=============================================================================|\n",
            "+-----------------------------------------------------------------------------+\n"
          ]
        }
      ],
      "source": [
        "!nvidia-smi"
      ]
    },
    {
      "cell_type": "markdown",
      "metadata": {
        "id": "XC6XWUeqDQWs"
      },
      "source": [
        "## Training loop"
      ]
    },
    {
      "cell_type": "markdown",
      "source": [
        "Данные разбиваются на фолды согласно стратегии GroupKFold. Визуализация представлена ниже.\n",
        "\n",
        "<img src=\"https://scikit-learn.org/stable/_images/sphx_glr_plot_cv_indices_004.png\"></img>"
      ],
      "metadata": {
        "id": "sHfFF_SmYUjb"
      }
    },
    {
      "cell_type": "markdown",
      "source": [
        "Разбиение на группы выполняется по колонке `pn_num`. Эта колонка содержит "
      ],
      "metadata": {
        "id": "Jdqg0DzPafHD"
      }
    },
    {
      "cell_type": "code",
      "source": [
        "print(\"Количество уникальных значений pn_num: {}\".format(train_joined[\"pn_num\"].nunique()))\n",
        "ax = sns.countplot(x=\"pn_num\", data=train_joined)\n",
        "ax.set_xticks(np.arange(0, 1000, 100));"
      ],
      "metadata": {
        "colab": {
          "base_uri": "https://localhost:8080/",
          "height": 296
        },
        "id": "uTk_gbugYocf",
        "outputId": "7dbc8c38-23dd-4222-8565-416df70b3122"
      },
      "execution_count": null,
      "outputs": [
        {
          "output_type": "stream",
          "name": "stdout",
          "text": [
            "Количество уникальных значений pn_num: 1000\n"
          ]
        },
        {
          "output_type": "display_data",
          "data": {
            "text/plain": [
              "<Figure size 432x288 with 1 Axes>"
            ],
            "image/png": "[encoded data removed]"
          },
          "metadata": {
            "needs_background": "light"
          }
        }
      ]
    },
    {
      "cell_type": "markdown",
      "source": [
        "`pn_num` - это уникальный ID заметки со слов пациента (`pn_history`). Не все заметки присутствуют в тренировочной выборке. Всего в тренировочной выборке таких значений 1000."
      ],
      "metadata": {
        "id": "WL6AIrKzfiFM"
      }
    },
    {
      "cell_type": "code",
      "source": [
        "print(patient_notes[\"pn_num\"].nunique())\n",
        "print(train[\"pn_num\"].nunique())"
      ],
      "metadata": {
        "colab": {
          "base_uri": "https://localhost:8080/",
          "height": 53
        },
        "id": "R87yWVg5YojR",
        "outputId": "2e461f52-dfe0-4474-c7fd-c01320462d29"
      },
      "execution_count": null,
      "outputs": [
        {
          "output_type": "display_data",
          "data": {
            "text/plain": [
              "42146"
            ]
          },
          "metadata": {}
        },
        {
          "output_type": "display_data",
          "data": {
            "text/plain": [
              "1000"
            ]
          },
          "metadata": {}
        }
      ]
    },
    {
      "cell_type": "markdown",
      "source": [
        "Смысл разбиения на фолды заключается в следующем. На 4-х фолдах выполняется training loop, а на пятом - eval loop (в случае разбиения на 5-ть фолдов). На следующей итерации происходит смена фолдов.\n",
        "\n",
        "Группировка происходит, как было сказано, по значению колонки `pn_num`. Т.е. данные по одной заметке попадают в один фолд. При этом распределение групп по фолдам подбирается таким образом, чтобы группы были сбалансированы (имели приблизетельно одинаковое количество данных)."
      ],
      "metadata": {
        "id": "GZnJ0I1SgTYC"
      }
    },
    {
      "cell_type": "markdown",
      "source": [
        "Пример:"
      ],
      "metadata": {
        "id": "yEAuPFk2haDz"
      }
    },
    {
      "cell_type": "code",
      "source": [
        "testset = train_joined.copy()\n",
        "\n",
        "# добавим колонку с номером фолда\n",
        "groups = testset[\"pn_num\"].values\n",
        "splitter = GroupKFold(n_splits=5)\n",
        "\n",
        "# метод split возвращает индексы тренировочной выборки и тестовой на данном номере разбиения\n",
        "for n, (_, val_indexes) in enumerate(splitter.split(testset, testset['location'], groups)):\n",
        "  testset.loc[val_indexes, 'fold'] = n\n",
        "testset['fold'] = testset['fold'].astype('int8')"
      ],
      "metadata": {
        "id": "JNiLpDaChcNG"
      },
      "execution_count": null,
      "outputs": []
    },
    {
      "cell_type": "code",
      "source": [
        "pn_num_f0 = set(testset[testset[\"fold\"] == 0][\"pn_num\"].unique())\n",
        "pn_num_not_f0 = set(testset[testset[\"fold\"] != 0][\"pn_num\"].unique())\n",
        "\n",
        "print(\"Пересечение pn_num в фолде 0 с остальными фолдами: {}\".format(len(pn_num_not_f0.intersection(pn_num_f0))))"
      ],
      "metadata": {
        "colab": {
          "base_uri": "https://localhost:8080/"
        },
        "id": "OwJ0suB4jryQ",
        "outputId": "5857a5e9-2ffc-4f03-a7c8-1fac964d5910"
      },
      "execution_count": null,
      "outputs": [
        {
          "output_type": "stream",
          "name": "stdout",
          "text": [
            "Пересечение pn_num в фолде 0 с остальными фолдами: 0\n"
          ]
        }
      ]
    },
    {
      "cell_type": "markdown",
      "source": [
        "Как мы видим на примере 0-го фолда, фолды по значению `pn_num` не пересекаются."
      ],
      "metadata": {
        "id": "g3WxUXG8k_9Z"
      }
    },
    {
      "cell_type": "code",
      "execution_count": null,
      "metadata": {
        "id": "pwDl88seDP29"
      },
      "outputs": [],
      "source": [
        "logging.basicConfig(\n",
        "    level=logging.WARNING, \n",
        "    format='[%(asctime)s] {%(filename)s:%(lineno)d} %(levelname)s - %(message)s',\n",
        ")\n",
        "LOGGER = logging.getLogger(__name__)\n",
        "\n",
        "\n",
        "class TrainModel:\n",
        "\n",
        "  def __init__(self, config_path: str = \"nmbe_model/config.yaml\", logging_level=\"INFO\") -> None:\n",
        "    # set logging level\n",
        "    LOGGER.setLevel(logging_level)\n",
        "\n",
        "    # load configuration\n",
        "    LOGGER.info(\"Configuration loading...\")\n",
        "    config_file = read_yaml(file_path=config_path)\n",
        "    self._model_cfg = ModelConfig(**config_file.get(\"model\"))\n",
        "    self._data_cfg = DataConfig(**config_file.get(\"data\"))\n",
        "    self._train_cfg = TrainConfig(**config_file.get(\"train\"))\n",
        "    LOGGER.info(\"Done.\")\n",
        "\n",
        "    # set device\n",
        "    self._device = torch.device(self._train_cfg.device if torch.cuda.is_available() else 'cpu')\n",
        "\n",
        "    # set model\n",
        "    LOGGER.info(\"Model initialization...\")\n",
        "    self.model = self._model_initialization()\n",
        "    LOGGER.info(\"Done.\")\n",
        "\n",
        "    # move model to cuda if available\n",
        "    self.model.to(self._device)\n",
        "\n",
        "    # loading the tokenizer\n",
        "    LOGGER.info(\"Tokenizer loading...\")\n",
        "    self._tokenizer = AutoTokenizer.from_pretrained(self._model_cfg.checkpoint)\n",
        "    LOGGER.info(\"Done.\")\n",
        "\n",
        "  def _model_initialization(self) -> nn.Module:\n",
        "    return DeBertaForTokenClassification(**self._model_cfg.__dict__)\n",
        "\n",
        "  def _cv_split(self, dataset: pd.DataFrame) -> pd.DataFrame:\n",
        "    \"\"\"\n",
        "    Split dataset into equal folds, stratified by patient notes and add column with number of a fold to the initial dataset.\n",
        "\n",
        "    :param dataset:\n",
        "    :type dataset: pd.DataFrame.\n",
        "    :rtype dataset: pd.DataFrame\n",
        "    :return dataset:\n",
        "    \"\"\"\n",
        "    assert {'pn_num', 'location'}.issubset(set(dataset.columns)), 'The dataset must necessarily contain columns \"location\" and \"pn_num\"'\n",
        "    assert self._train_cfg.n_folds > 0, 'Number of folds must be at least 1'\n",
        "\n",
        "    if self._train_cfg.n_folds == 1:\n",
        "      dataset['fold'] = 0\n",
        "    else:\n",
        "      splitter = GroupKFold(n_splits=self._train_cfg.n_folds)\n",
        "      groups = dataset['pn_num'].values\n",
        "      for n, (_, val_indexes) in enumerate(splitter.split(dataset, dataset['location'], groups)):\n",
        "        dataset.loc[val_indexes, 'fold'] = n\n",
        "      dataset['fold'] = dataset['fold'].astype('int8')\n",
        "    return dataset\n",
        "  \n",
        "  def _prepare_dataloaders(self, dataset: pd.DataFrame, fold: int) -> Tuple[DataLoader, DataLoader]:\n",
        "    # trainloader preparation\n",
        "    train_df = dataset[dataset['fold'] != fold]\n",
        "    train_df = train_df.reset_index(drop=True, inplace=False)\n",
        "    trainset = CustomDataset(tokenizer=self._tokenizer, feature_texts=train_df['feature_text'].values, \n",
        "                             pn_histories=train_df['pn_history'].values, locations=train_df['location'].values,\n",
        "                             max_length=self._data_cfg.max_length)\n",
        "    trainloader = DataLoader(dataset=trainset, batch_size=self._train_cfg.batch_size, shuffle=True, \n",
        "                             num_workers=self._train_cfg.n_workers, pin_memory=True, drop_last=True)\n",
        "    \n",
        "    # evalloader preparation\n",
        "    eval_df = dataset[dataset['fold'] == fold]\n",
        "    eval_df = eval_df.reset_index(drop=True, inplace=False)\n",
        "    evalset = CustomDataset(tokenizer=self._tokenizer, feature_texts=eval_df['feature_text'].values, \n",
        "                            pn_histories=eval_df['pn_history'].values, locations=eval_df['location'].values,\n",
        "                            max_length=self._data_cfg.max_length)\n",
        "    evalloader = DataLoader(dataset=evalset, batch_size=self._train_cfg.batch_size, shuffle=False, \n",
        "                            num_workers=self._train_cfg.n_workers, pin_memory=True, drop_last=False)\n",
        "    return trainloader, len(train_df), evalloader\n",
        "\n",
        "  def _get_trainable_params(self) -> List[dict]:\n",
        "    no_decay = [\"bias\", \"LayerNorm.bias\", \"LayerNorm.weight\"]\n",
        "    trainable_params = [\n",
        "      {'params': [param for node, param in self.model.backbone.named_parameters() if not any(nd in node for nd in no_decay)], \n",
        "       'lr': self._train_cfg.backbone_lr, 'weight_decay': self._train_cfg.weight_decay}, \n",
        "      {'params': [param for node, param in self.model.backbone.named_parameters() if any(nd in node for nd in no_decay)],\n",
        "       'lr': self._train_cfg.backbone_lr, 'weight_decay': 0.0},\n",
        "      {'params': [param for _, param in self.model.fc.named_parameters()],\n",
        "       'lr': self._train_cfg.fc_lr, 'weight_decay': 0.0}]\n",
        "    return trainable_params\n",
        "\n",
        "  def _set_configurator(self, num_training_steps: int):\n",
        "    # configure optimizer\n",
        "    trainable_params = self._get_trainable_params()\n",
        "    optimizer = AdamW(\n",
        "        params=trainable_params, lr=self._train_cfg.backbone_lr, betas=self._train_cfg.betas, eps=self._train_cfg.eps)\n",
        "\n",
        "    # configure scheduler\n",
        "    scheduler = None\n",
        "    if self._train_cfg.scheduler_type == \"linear\":\n",
        "      scheduler = get_linear_schedule_with_warmup(\n",
        "          optimizer, num_warmup_steps=self._train_cfg.num_warmup_steps,\n",
        "          num_training_steps=num_training_steps)\n",
        "    elif self._train_cfg.scheduler_type == \"cosine\":\n",
        "      scheduler = get_cosine_schedule_with_warmup(\n",
        "          optimizer, num_warmup_steps=self._train_cfg.num_warmup_steps,\n",
        "          num_training_steps=num_training_steps, num_cycles=self._train_cfg.num_cycles)\n",
        "    return optimizer, scheduler\n",
        "\n",
        "  def fit(self, dataset: pd.DataFrame, n_epochs: int = 5):\n",
        "    # add fold num to the dataset\n",
        "    LOGGER.info(\"Splitting dataset into %d fold(s)...\", self._train_cfg.n_folds)\n",
        "    dataset = self._cv_split(dataset=dataset)\n",
        "    LOGGER.info(\"Done.\")\n",
        "\n",
        "    # iterate over folds\n",
        "    for curr_fold in range(self._train_cfg.n_folds):\n",
        "      # prepare dataloader\n",
        "      trainloader, train_size, evalloader = self._prepare_dataloaders(dataset=dataset, fold=curr_fold)\n",
        "      self.fit_on_fold(\n",
        "          trainloader=trainloader, train_size=train_size, evalloader=evalloader, n_epochs=n_epochs)\n",
        "    return\n",
        "\n",
        "  def fit_on_fold(\n",
        "      self, trainloader: DataLoader, train_size: int, evalloader: DataLoader, n_epochs: int = 5):\n",
        "    # configure optimizer and scheduler\n",
        "    num_training_steps = int(train_size / self._train_cfg.batch_size * n_epochs)\n",
        "    optimizer, scheduler = self._set_configurator(num_training_steps=num_training_steps)\n",
        "    \n",
        "    for epoch in tqdm(range(n_epochs)):\n",
        "      running_loss_train = self.train_loop(trainloader=trainloader)\n",
        "\n",
        "      with torch.no_grad():\n",
        "        running_loss_eval = self.eval_loop(evalloader=evalloader)\n",
        "    return\n",
        "\n",
        "  def train_loop(self, trainloader: DataLoader):\n",
        "    running_loss = list()\n",
        "\n",
        "    self.model.train()\n",
        "    scaler = torch.cuda.amp.GradScaler(enabled=)\n",
        "    for step, (inputs, labels) in enumerate(trainloader):\n",
        "      # relocate inputs and labels to device\n",
        "      inputs = {k: v.to(self._device) for k, v in inputs.items()}\n",
        "      labels = labels.to(self._device)\n",
        "    return\n",
        "\n",
        "  def eval_loop(self, evalloader: DataLoader):\n",
        "    running_loss = list()\n",
        "    return\n",
        "    "
      ]
    },
    {
      "cell_type": "code",
      "execution_count": null,
      "metadata": {
        "id": "A2hM87HqDP-E",
        "colab": {
          "base_uri": "https://localhost:8080/"
        },
        "outputId": "654f4fee-8a15-4de6-c846-b7c51d3558f9"
      },
      "outputs": [
        {
          "output_type": "stream",
          "name": "stderr",
          "text": [
            "INFO:__main__:Configuration loading...\n",
            "INFO:__main__:Done.\n",
            "INFO:__main__:Model initialization...\n",
            "Some weights of the model checkpoint at microsoft/deberta-base were not used when initializing DebertaModel: ['lm_predictions.lm_head.dense.weight', 'lm_predictions.lm_head.LayerNorm.bias', 'lm_predictions.lm_head.bias', 'lm_predictions.lm_head.LayerNorm.weight', 'lm_predictions.lm_head.dense.bias']\n",
            "- This IS expected if you are initializing DebertaModel from the checkpoint of a model trained on another task or with another architecture (e.g. initializing a BertForSequenceClassification model from a BertForPreTraining model).\n",
            "- This IS NOT expected if you are initializing DebertaModel from the checkpoint of a model that you expect to be exactly identical (initializing a BertForSequenceClassification model from a BertForSequenceClassification model).\n",
            "INFO:__main__:Done.\n",
            "INFO:__main__:Tokenizer loading...\n",
            "INFO:__main__:Done.\n"
          ]
        }
      ],
      "source": [
        "training_loop = TrainModel()\n",
        "\n",
        "ds = train_joined.copy()\n",
        "# training_loop.fit(dataset=ds)"
      ]
    },
    {
      "cell_type": "markdown",
      "metadata": {
        "id": "PRxUDGxCKWi9"
      },
      "source": [
        "## Tests"
      ]
    },
    {
      "cell_type": "code",
      "source": [
        "train_cfg"
      ],
      "metadata": {
        "colab": {
          "base_uri": "https://localhost:8080/"
        },
        "id": "0DCYGXcVPBBE",
        "outputId": "4cb2311c-d2c1-4ca4-d532-5249ce9ecc90"
      },
      "execution_count": null,
      "outputs": [
        {
          "output_type": "execute_result",
          "data": {
            "text/plain": [
              "TrainConfig(device='cuda', batch_size=12, n_folds=5, n_workers=4, backbone_lr=2e-05, fc_lr=2e-05, weight_decay=0.01, betas=[0.9, 0.999], eps=1e-08, scheduler_type='linear', num_warmup_steps=0, num_cycles=0.5)"
            ]
          },
          "metadata": {},
          "execution_count": 45
        }
      ]
    },
    {
      "cell_type": "code",
      "source": [],
      "metadata": {
        "id": "SrBZ0zaUFwDv"
      },
      "execution_count": null,
      "outputs": []
    }
  ],
  "metadata": {
    "colab": {
      "collapsed_sections": [
        "wYbeOdW3UrAz",
        "ZAgmKbyDaWso",
        "gDmEpNW20CeR",
        "y9-SSdbrhxqa",
        "7SrvkMVaR1Uz",
        "1q3WkBgLG89I",
        "WX78wj6bKezW",
        "dK5hYd1OPO_k",
        "tR7mKvh5u_e3",
        "UAlBkMxMVTqU"
      ],
      "provenance": [],
      "toc_visible": true
    },
    "kernelspec": {
      "display_name": "Python 3",
      "name": "python3"
    },
    "language_info": {
      "name": "python"
    },
    "widgets": {
      "application/vnd.jupyter.widget-state+json": {
        "032a0c8b2df9462a9661c93d6e60a3b6": {
          "model_module": "@jupyter-widgets/controls",
          "model_module_version": "1.5.0",
          "model_name": "HBoxModel",
          "state": {
            "_dom_classes": [],
            "_model_module": "@jupyter-widgets/controls",
            "_model_module_version": "1.5.0",
            "_model_name": "HBoxModel",
            "_view_count": null,
            "_view_module": "@jupyter-widgets/controls",
            "_view_module_version": "1.5.0",
            "_view_name": "HBoxView",
            "box_style": "",
            "children": [
              "IPY_MODEL_992ee3b3d8534735a39f1d73016f50df",
              "IPY_MODEL_a4aa028537e54d7b9788cba60bc08351",
              "IPY_MODEL_ad43c4ed1b6a4c2595289171347438ee"
            ],
            "layout": "IPY_MODEL_2168a60f5e8f46ffa6abe7b1a302a79f"
          }
        },
        "065f1ef03aa14beb83af84c5c3e89f28": {
          "model_module": "@jupyter-widgets/controls",
          "model_module_version": "1.5.0",
          "model_name": "HBoxModel",
          "state": {
            "_dom_classes": [],
            "_model_module": "@jupyter-widgets/controls",
            "_model_module_version": "1.5.0",
            "_model_name": "HBoxModel",
            "_view_count": null,
            "_view_module": "@jupyter-widgets/controls",
            "_view_module_version": "1.5.0",
            "_view_name": "HBoxView",
            "box_style": "",
            "children": [
              "IPY_MODEL_3621765489fd4a5c9e1dff7838cb68ff",
              "IPY_MODEL_1bf06fac509c4fe3aac7ba952338b25b",
              "IPY_MODEL_f0a065bf1db74567b9899c130f1ba1b5"
            ],
            "layout": "IPY_MODEL_fb0076dafb4e4fe8b727a96e4a865df7"
          }
        },
        "1160389efb33474fa2ac10989a9e28e2": {
          "model_module": "@jupyter-widgets/controls",
          "model_module_version": "1.5.0",
          "model_name": "ProgressStyleModel",
          "state": {
            "_model_module": "@jupyter-widgets/controls",
            "_model_module_version": "1.5.0",
            "_model_name": "ProgressStyleModel",
            "_view_count": null,
            "_view_module": "@jupyter-widgets/base",
            "_view_module_version": "1.2.0",
            "_view_name": "StyleView",
            "bar_color": null,
            "description_width": ""
          }
        },
        "1bf06fac509c4fe3aac7ba952338b25b": {
          "model_module": "@jupyter-widgets/controls",
          "model_module_version": "1.5.0",
          "model_name": "FloatProgressModel",
          "state": {
            "_dom_classes": [],
            "_model_module": "@jupyter-widgets/controls",
            "_model_module_version": "1.5.0",
            "_model_name": "FloatProgressModel",
            "_view_count": null,
            "_view_module": "@jupyter-widgets/controls",
            "_view_module_version": "1.5.0",
            "_view_name": "ProgressView",
            "bar_style": "success",
            "description": "",
            "description_tooltip": null,
            "layout": "IPY_MODEL_ae74867559fc4ee7a5c9deb0a58424bc",
            "max": 213450,
            "min": 0,
            "orientation": "horizontal",
            "style": "IPY_MODEL_afa9152a21fc4bc4bc1fe344bc303942",
            "value": 213450
          }
        },
        "2168a60f5e8f46ffa6abe7b1a302a79f": {
          "model_module": "@jupyter-widgets/base",
          "model_module_version": "1.2.0",
          "model_name": "LayoutModel",
          "state": {
            "_model_module": "@jupyter-widgets/base",
            "_model_module_version": "1.2.0",
            "_model_name": "LayoutModel",
            "_view_count": null,
            "_view_module": "@jupyter-widgets/base",
            "_view_module_version": "1.2.0",
            "_view_name": "LayoutView",
            "align_content": null,
            "align_items": null,
            "align_self": null,
            "border": null,
            "bottom": null,
            "display": null,
            "flex": null,
            "flex_flow": null,
            "grid_area": null,
            "grid_auto_columns": null,
            "grid_auto_flow": null,
            "grid_auto_rows": null,
            "grid_column": null,
            "grid_gap": null,
            "grid_row": null,
            "grid_template_areas": null,
            "grid_template_columns": null,
            "grid_template_rows": null,
            "height": null,
            "justify_content": null,
            "justify_items": null,
            "left": null,
            "margin": null,
            "max_height": null,
            "max_width": null,
            "min_height": null,
            "min_width": null,
            "object_fit": null,
            "object_position": null,
            "order": null,
            "overflow": null,
            "overflow_x": null,
            "overflow_y": null,
            "padding": null,
            "right": null,
            "top": null,
            "visibility": null,
            "width": null
          }
        },
        "2714441b8c4944deb4593cb79ef63779": {
          "model_module": "@jupyter-widgets/controls",
          "model_module_version": "1.5.0",
          "model_name": "DescriptionStyleModel",
          "state": {
            "_model_module": "@jupyter-widgets/controls",
            "_model_module_version": "1.5.0",
            "_model_name": "DescriptionStyleModel",
            "_view_count": null,
            "_view_module": "@jupyter-widgets/base",
            "_view_module_version": "1.2.0",
            "_view_name": "StyleView",
            "description_width": ""
          }
        },
        "2bbfbcb7f3fc4994bdf050bbf0207a24": {
          "model_module": "@jupyter-widgets/controls",
          "model_module_version": "1.5.0",
          "model_name": "DescriptionStyleModel",
          "state": {
            "_model_module": "@jupyter-widgets/controls",
            "_model_module_version": "1.5.0",
            "_model_name": "DescriptionStyleModel",
            "_view_count": null,
            "_view_module": "@jupyter-widgets/base",
            "_view_module_version": "1.2.0",
            "_view_name": "StyleView",
            "description_width": ""
          }
        },
        "323a26de5e3d43f997661c61001d6509": {
          "model_module": "@jupyter-widgets/controls",
          "model_module_version": "1.5.0",
          "model_name": "DescriptionStyleModel",
          "state": {
            "_model_module": "@jupyter-widgets/controls",
            "_model_module_version": "1.5.0",
            "_model_name": "DescriptionStyleModel",
            "_view_count": null,
            "_view_module": "@jupyter-widgets/base",
            "_view_module_version": "1.2.0",
            "_view_name": "StyleView",
            "description_width": ""
          }
        },
        "3621765489fd4a5c9e1dff7838cb68ff": {
          "model_module": "@jupyter-widgets/controls",
          "model_module_version": "1.5.0",
          "model_name": "HTMLModel",
          "state": {
            "_dom_classes": [],
            "_model_module": "@jupyter-widgets/controls",
            "_model_module_version": "1.5.0",
            "_model_name": "HTMLModel",
            "_view_count": null,
            "_view_module": "@jupyter-widgets/controls",
            "_view_module_version": "1.5.0",
            "_view_name": "HTMLView",
            "description": "",
            "description_tooltip": null,
            "layout": "IPY_MODEL_438c567f202d4a35b3b49940f26b716b",
            "placeholder": "​",
            "style": "IPY_MODEL_61b385504d3845d282e85548cb2290e5",
            "value": "Downloading: 100%"
          }
        },
        "38799e9179b14df5a724e3641a6673b4": {
          "model_module": "@jupyter-widgets/controls",
          "model_module_version": "1.5.0",
          "model_name": "HBoxModel",
          "state": {
            "_dom_classes": [],
            "_model_module": "@jupyter-widgets/controls",
            "_model_module_version": "1.5.0",
            "_model_name": "HBoxModel",
            "_view_count": null,
            "_view_module": "@jupyter-widgets/controls",
            "_view_module_version": "1.5.0",
            "_view_name": "HBoxView",
            "box_style": "",
            "children": [
              "IPY_MODEL_f2a4935c776d4e74bae2b4155d8b2402",
              "IPY_MODEL_e0bb6d3b466644eda4fb5f14c45b1863",
              "IPY_MODEL_6a9b260479504a7c8aa1064e6567a679"
            ],
            "layout": "IPY_MODEL_aaffbc12504d403b80910a7d2100e23c"
          }
        },
        "3a4dfaff4ec04a3f8b6f474e6dc9575d": {
          "model_module": "@jupyter-widgets/base",
          "model_module_version": "1.2.0",
          "model_name": "LayoutModel",
          "state": {
            "_model_module": "@jupyter-widgets/base",
            "_model_module_version": "1.2.0",
            "_model_name": "LayoutModel",
            "_view_count": null,
            "_view_module": "@jupyter-widgets/base",
            "_view_module_version": "1.2.0",
            "_view_name": "LayoutView",
            "align_content": null,
            "align_items": null,
            "align_self": null,
            "border": null,
            "bottom": null,
            "display": null,
            "flex": null,
            "flex_flow": null,
            "grid_area": null,
            "grid_auto_columns": null,
            "grid_auto_flow": null,
            "grid_auto_rows": null,
            "grid_column": null,
            "grid_gap": null,
            "grid_row": null,
            "grid_template_areas": null,
            "grid_template_columns": null,
            "grid_template_rows": null,
            "height": null,
            "justify_content": null,
            "justify_items": null,
            "left": null,
            "margin": null,
            "max_height": null,
            "max_width": null,
            "min_height": null,
            "min_width": null,
            "object_fit": null,
            "object_position": null,
            "order": null,
            "overflow": null,
            "overflow_x": null,
            "overflow_y": null,
            "padding": null,
            "right": null,
            "top": null,
            "visibility": null,
            "width": null
          }
        },
        "3d284f5a21f64dd8accd2af021fc2979": {
          "model_module": "@jupyter-widgets/controls",
          "model_module_version": "1.5.0",
          "model_name": "DescriptionStyleModel",
          "state": {
            "_model_module": "@jupyter-widgets/controls",
            "_model_module_version": "1.5.0",
            "_model_name": "DescriptionStyleModel",
            "_view_count": null,
            "_view_module": "@jupyter-widgets/base",
            "_view_module_version": "1.2.0",
            "_view_name": "StyleView",
            "description_width": ""
          }
        },
        "438c567f202d4a35b3b49940f26b716b": {
          "model_module": "@jupyter-widgets/base",
          "model_module_version": "1.2.0",
          "model_name": "LayoutModel",
          "state": {
            "_model_module": "@jupyter-widgets/base",
            "_model_module_version": "1.2.0",
            "_model_name": "LayoutModel",
            "_view_count": null,
            "_view_module": "@jupyter-widgets/base",
            "_view_module_version": "1.2.0",
            "_view_name": "LayoutView",
            "align_content": null,
            "align_items": null,
            "align_self": null,
            "border": null,
            "bottom": null,
            "display": null,
            "flex": null,
            "flex_flow": null,
            "grid_area": null,
            "grid_auto_columns": null,
            "grid_auto_flow": null,
            "grid_auto_rows": null,
            "grid_column": null,
            "grid_gap": null,
            "grid_row": null,
            "grid_template_areas": null,
            "grid_template_columns": null,
            "grid_template_rows": null,
            "height": null,
            "justify_content": null,
            "justify_items": null,
            "left": null,
            "margin": null,
            "max_height": null,
            "max_width": null,
            "min_height": null,
            "min_width": null,
            "object_fit": null,
            "object_position": null,
            "order": null,
            "overflow": null,
            "overflow_x": null,
            "overflow_y": null,
            "padding": null,
            "right": null,
            "top": null,
            "visibility": null,
            "width": null
          }
        },
        "4889bb1f6abd4bfdbf7ff452d1fe309e": {
          "model_module": "@jupyter-widgets/base",
          "model_module_version": "1.2.0",
          "model_name": "LayoutModel",
          "state": {
            "_model_module": "@jupyter-widgets/base",
            "_model_module_version": "1.2.0",
            "_model_name": "LayoutModel",
            "_view_count": null,
            "_view_module": "@jupyter-widgets/base",
            "_view_module_version": "1.2.0",
            "_view_name": "LayoutView",
            "align_content": null,
            "align_items": null,
            "align_self": null,
            "border": null,
            "bottom": null,
            "display": null,
            "flex": null,
            "flex_flow": null,
            "grid_area": null,
            "grid_auto_columns": null,
            "grid_auto_flow": null,
            "grid_auto_rows": null,
            "grid_column": null,
            "grid_gap": null,
            "grid_row": null,
            "grid_template_areas": null,
            "grid_template_columns": null,
            "grid_template_rows": null,
            "height": null,
            "justify_content": null,
            "justify_items": null,
            "left": null,
            "margin": null,
            "max_height": null,
            "max_width": null,
            "min_height": null,
            "min_width": null,
            "object_fit": null,
            "object_position": null,
            "order": null,
            "overflow": null,
            "overflow_x": null,
            "overflow_y": null,
            "padding": null,
            "right": null,
            "top": null,
            "visibility": null,
            "width": null
          }
        },
        "61b385504d3845d282e85548cb2290e5": {
          "model_module": "@jupyter-widgets/controls",
          "model_module_version": "1.5.0",
          "model_name": "DescriptionStyleModel",
          "state": {
            "_model_module": "@jupyter-widgets/controls",
            "_model_module_version": "1.5.0",
            "_model_name": "DescriptionStyleModel",
            "_view_count": null,
            "_view_module": "@jupyter-widgets/base",
            "_view_module_version": "1.2.0",
            "_view_name": "StyleView",
            "description_width": ""
          }
        },
        "69a9f7299be8497eb1afe379960bdbf6": {
          "model_module": "@jupyter-widgets/base",
          "model_module_version": "1.2.0",
          "model_name": "LayoutModel",
          "state": {
            "_model_module": "@jupyter-widgets/base",
            "_model_module_version": "1.2.0",
            "_model_name": "LayoutModel",
            "_view_count": null,
            "_view_module": "@jupyter-widgets/base",
            "_view_module_version": "1.2.0",
            "_view_name": "LayoutView",
            "align_content": null,
            "align_items": null,
            "align_self": null,
            "border": null,
            "bottom": null,
            "display": null,
            "flex": null,
            "flex_flow": null,
            "grid_area": null,
            "grid_auto_columns": null,
            "grid_auto_flow": null,
            "grid_auto_rows": null,
            "grid_column": null,
            "grid_gap": null,
            "grid_row": null,
            "grid_template_areas": null,
            "grid_template_columns": null,
            "grid_template_rows": null,
            "height": null,
            "justify_content": null,
            "justify_items": null,
            "left": null,
            "margin": null,
            "max_height": null,
            "max_width": null,
            "min_height": null,
            "min_width": null,
            "object_fit": null,
            "object_position": null,
            "order": null,
            "overflow": null,
            "overflow_x": null,
            "overflow_y": null,
            "padding": null,
            "right": null,
            "top": null,
            "visibility": null,
            "width": null
          }
        },
        "6a9b260479504a7c8aa1064e6567a679": {
          "model_module": "@jupyter-widgets/controls",
          "model_module_version": "1.5.0",
          "model_name": "HTMLModel",
          "state": {
            "_dom_classes": [],
            "_model_module": "@jupyter-widgets/controls",
            "_model_module_version": "1.5.0",
            "_model_name": "HTMLModel",
            "_view_count": null,
            "_view_module": "@jupyter-widgets/controls",
            "_view_module_version": "1.5.0",
            "_view_name": "HTMLView",
            "description": "",
            "description_tooltip": null,
            "layout": "IPY_MODEL_ace7f85e83ab4fefb0ff069fbace2f2e",
            "placeholder": "​",
            "style": "IPY_MODEL_cabe0b665e134c49ae27f7a47ad1314b",
            "value": " 570/570 [00:00&lt;00:00, 12.2kB/s]"
          }
        },
        "992ee3b3d8534735a39f1d73016f50df": {
          "model_module": "@jupyter-widgets/controls",
          "model_module_version": "1.5.0",
          "model_name": "HTMLModel",
          "state": {
            "_dom_classes": [],
            "_model_module": "@jupyter-widgets/controls",
            "_model_module_version": "1.5.0",
            "_model_name": "HTMLModel",
            "_view_count": null,
            "_view_module": "@jupyter-widgets/controls",
            "_view_module_version": "1.5.0",
            "_view_name": "HTMLView",
            "description": "",
            "description_tooltip": null,
            "layout": "IPY_MODEL_e8a8ec5e8eb6460095a58e3192012025",
            "placeholder": "​",
            "style": "IPY_MODEL_2bbfbcb7f3fc4994bdf050bbf0207a24",
            "value": "Downloading: 100%"
          }
        },
        "9cb9c6f411164895a09143e166fb40a9": {
          "model_module": "@jupyter-widgets/base",
          "model_module_version": "1.2.0",
          "model_name": "LayoutModel",
          "state": {
            "_model_module": "@jupyter-widgets/base",
            "_model_module_version": "1.2.0",
            "_model_name": "LayoutModel",
            "_view_count": null,
            "_view_module": "@jupyter-widgets/base",
            "_view_module_version": "1.2.0",
            "_view_name": "LayoutView",
            "align_content": null,
            "align_items": null,
            "align_self": null,
            "border": null,
            "bottom": null,
            "display": null,
            "flex": null,
            "flex_flow": null,
            "grid_area": null,
            "grid_auto_columns": null,
            "grid_auto_flow": null,
            "grid_auto_rows": null,
            "grid_column": null,
            "grid_gap": null,
            "grid_row": null,
            "grid_template_areas": null,
            "grid_template_columns": null,
            "grid_template_rows": null,
            "height": null,
            "justify_content": null,
            "justify_items": null,
            "left": null,
            "margin": null,
            "max_height": null,
            "max_width": null,
            "min_height": null,
            "min_width": null,
            "object_fit": null,
            "object_position": null,
            "order": null,
            "overflow": null,
            "overflow_x": null,
            "overflow_y": null,
            "padding": null,
            "right": null,
            "top": null,
            "visibility": null,
            "width": null
          }
        },
        "9ce45f30645e476ab45572a48557a4f0": {
          "model_module": "@jupyter-widgets/base",
          "model_module_version": "1.2.0",
          "model_name": "LayoutModel",
          "state": {
            "_model_module": "@jupyter-widgets/base",
            "_model_module_version": "1.2.0",
            "_model_name": "LayoutModel",
            "_view_count": null,
            "_view_module": "@jupyter-widgets/base",
            "_view_module_version": "1.2.0",
            "_view_name": "LayoutView",
            "align_content": null,
            "align_items": null,
            "align_self": null,
            "border": null,
            "bottom": null,
            "display": null,
            "flex": null,
            "flex_flow": null,
            "grid_area": null,
            "grid_auto_columns": null,
            "grid_auto_flow": null,
            "grid_auto_rows": null,
            "grid_column": null,
            "grid_gap": null,
            "grid_row": null,
            "grid_template_areas": null,
            "grid_template_columns": null,
            "grid_template_rows": null,
            "height": null,
            "justify_content": null,
            "justify_items": null,
            "left": null,
            "margin": null,
            "max_height": null,
            "max_width": null,
            "min_height": null,
            "min_width": null,
            "object_fit": null,
            "object_position": null,
            "order": null,
            "overflow": null,
            "overflow_x": null,
            "overflow_y": null,
            "padding": null,
            "right": null,
            "top": null,
            "visibility": null,
            "width": null
          }
        },
        "a4aa028537e54d7b9788cba60bc08351": {
          "model_module": "@jupyter-widgets/controls",
          "model_module_version": "1.5.0",
          "model_name": "FloatProgressModel",
          "state": {
            "_dom_classes": [],
            "_model_module": "@jupyter-widgets/controls",
            "_model_module_version": "1.5.0",
            "_model_name": "FloatProgressModel",
            "_view_count": null,
            "_view_module": "@jupyter-widgets/controls",
            "_view_module_version": "1.5.0",
            "_view_name": "ProgressView",
            "bar_style": "success",
            "description": "",
            "description_tooltip": null,
            "layout": "IPY_MODEL_69a9f7299be8497eb1afe379960bdbf6",
            "max": 29,
            "min": 0,
            "orientation": "horizontal",
            "style": "IPY_MODEL_d0ba450cb28f4c7d870c25d707f0ef16",
            "value": 29
          }
        },
        "aaffbc12504d403b80910a7d2100e23c": {
          "model_module": "@jupyter-widgets/base",
          "model_module_version": "1.2.0",
          "model_name": "LayoutModel",
          "state": {
            "_model_module": "@jupyter-widgets/base",
            "_model_module_version": "1.2.0",
            "_model_name": "LayoutModel",
            "_view_count": null,
            "_view_module": "@jupyter-widgets/base",
            "_view_module_version": "1.2.0",
            "_view_name": "LayoutView",
            "align_content": null,
            "align_items": null,
            "align_self": null,
            "border": null,
            "bottom": null,
            "display": null,
            "flex": null,
            "flex_flow": null,
            "grid_area": null,
            "grid_auto_columns": null,
            "grid_auto_flow": null,
            "grid_auto_rows": null,
            "grid_column": null,
            "grid_gap": null,
            "grid_row": null,
            "grid_template_areas": null,
            "grid_template_columns": null,
            "grid_template_rows": null,
            "height": null,
            "justify_content": null,
            "justify_items": null,
            "left": null,
            "margin": null,
            "max_height": null,
            "max_width": null,
            "min_height": null,
            "min_width": null,
            "object_fit": null,
            "object_position": null,
            "order": null,
            "overflow": null,
            "overflow_x": null,
            "overflow_y": null,
            "padding": null,
            "right": null,
            "top": null,
            "visibility": null,
            "width": null
          }
        },
        "ace7f85e83ab4fefb0ff069fbace2f2e": {
          "model_module": "@jupyter-widgets/base",
          "model_module_version": "1.2.0",
          "model_name": "LayoutModel",
          "state": {
            "_model_module": "@jupyter-widgets/base",
            "_model_module_version": "1.2.0",
            "_model_name": "LayoutModel",
            "_view_count": null,
            "_view_module": "@jupyter-widgets/base",
            "_view_module_version": "1.2.0",
            "_view_name": "LayoutView",
            "align_content": null,
            "align_items": null,
            "align_self": null,
            "border": null,
            "bottom": null,
            "display": null,
            "flex": null,
            "flex_flow": null,
            "grid_area": null,
            "grid_auto_columns": null,
            "grid_auto_flow": null,
            "grid_auto_rows": null,
            "grid_column": null,
            "grid_gap": null,
            "grid_row": null,
            "grid_template_areas": null,
            "grid_template_columns": null,
            "grid_template_rows": null,
            "height": null,
            "justify_content": null,
            "justify_items": null,
            "left": null,
            "margin": null,
            "max_height": null,
            "max_width": null,
            "min_height": null,
            "min_width": null,
            "object_fit": null,
            "object_position": null,
            "order": null,
            "overflow": null,
            "overflow_x": null,
            "overflow_y": null,
            "padding": null,
            "right": null,
            "top": null,
            "visibility": null,
            "width": null
          }
        },
        "ad43c4ed1b6a4c2595289171347438ee": {
          "model_module": "@jupyter-widgets/controls",
          "model_module_version": "1.5.0",
          "model_name": "HTMLModel",
          "state": {
            "_dom_classes": [],
            "_model_module": "@jupyter-widgets/controls",
            "_model_module_version": "1.5.0",
            "_model_name": "HTMLModel",
            "_view_count": null,
            "_view_module": "@jupyter-widgets/controls",
            "_view_module_version": "1.5.0",
            "_view_name": "HTMLView",
            "description": "",
            "description_tooltip": null,
            "layout": "IPY_MODEL_3a4dfaff4ec04a3f8b6f474e6dc9575d",
            "placeholder": "​",
            "style": "IPY_MODEL_323a26de5e3d43f997661c61001d6509",
            "value": " 29.0/29.0 [00:00&lt;00:00, 419B/s]"
          }
        },
        "ae74867559fc4ee7a5c9deb0a58424bc": {
          "model_module": "@jupyter-widgets/base",
          "model_module_version": "1.2.0",
          "model_name": "LayoutModel",
          "state": {
            "_model_module": "@jupyter-widgets/base",
            "_model_module_version": "1.2.0",
            "_model_name": "LayoutModel",
            "_view_count": null,
            "_view_module": "@jupyter-widgets/base",
            "_view_module_version": "1.2.0",
            "_view_name": "LayoutView",
            "align_content": null,
            "align_items": null,
            "align_self": null,
            "border": null,
            "bottom": null,
            "display": null,
            "flex": null,
            "flex_flow": null,
            "grid_area": null,
            "grid_auto_columns": null,
            "grid_auto_flow": null,
            "grid_auto_rows": null,
            "grid_column": null,
            "grid_gap": null,
            "grid_row": null,
            "grid_template_areas": null,
            "grid_template_columns": null,
            "grid_template_rows": null,
            "height": null,
            "justify_content": null,
            "justify_items": null,
            "left": null,
            "margin": null,
            "max_height": null,
            "max_width": null,
            "min_height": null,
            "min_width": null,
            "object_fit": null,
            "object_position": null,
            "order": null,
            "overflow": null,
            "overflow_x": null,
            "overflow_y": null,
            "padding": null,
            "right": null,
            "top": null,
            "visibility": null,
            "width": null
          }
        },
        "afa9152a21fc4bc4bc1fe344bc303942": {
          "model_module": "@jupyter-widgets/controls",
          "model_module_version": "1.5.0",
          "model_name": "ProgressStyleModel",
          "state": {
            "_model_module": "@jupyter-widgets/controls",
            "_model_module_version": "1.5.0",
            "_model_name": "ProgressStyleModel",
            "_view_count": null,
            "_view_module": "@jupyter-widgets/base",
            "_view_module_version": "1.2.0",
            "_view_name": "StyleView",
            "bar_color": null,
            "description_width": ""
          }
        },
        "cabe0b665e134c49ae27f7a47ad1314b": {
          "model_module": "@jupyter-widgets/controls",
          "model_module_version": "1.5.0",
          "model_name": "DescriptionStyleModel",
          "state": {
            "_model_module": "@jupyter-widgets/controls",
            "_model_module_version": "1.5.0",
            "_model_name": "DescriptionStyleModel",
            "_view_count": null,
            "_view_module": "@jupyter-widgets/base",
            "_view_module_version": "1.2.0",
            "_view_name": "StyleView",
            "description_width": ""
          }
        },
        "d0ba450cb28f4c7d870c25d707f0ef16": {
          "model_module": "@jupyter-widgets/controls",
          "model_module_version": "1.5.0",
          "model_name": "ProgressStyleModel",
          "state": {
            "_model_module": "@jupyter-widgets/controls",
            "_model_module_version": "1.5.0",
            "_model_name": "ProgressStyleModel",
            "_view_count": null,
            "_view_module": "@jupyter-widgets/base",
            "_view_module_version": "1.2.0",
            "_view_name": "StyleView",
            "bar_color": null,
            "description_width": ""
          }
        },
        "e0bb6d3b466644eda4fb5f14c45b1863": {
          "model_module": "@jupyter-widgets/controls",
          "model_module_version": "1.5.0",
          "model_name": "FloatProgressModel",
          "state": {
            "_dom_classes": [],
            "_model_module": "@jupyter-widgets/controls",
            "_model_module_version": "1.5.0",
            "_model_name": "FloatProgressModel",
            "_view_count": null,
            "_view_module": "@jupyter-widgets/controls",
            "_view_module_version": "1.5.0",
            "_view_name": "ProgressView",
            "bar_style": "success",
            "description": "",
            "description_tooltip": null,
            "layout": "IPY_MODEL_4889bb1f6abd4bfdbf7ff452d1fe309e",
            "max": 570,
            "min": 0,
            "orientation": "horizontal",
            "style": "IPY_MODEL_1160389efb33474fa2ac10989a9e28e2",
            "value": 570
          }
        },
        "e8a8ec5e8eb6460095a58e3192012025": {
          "model_module": "@jupyter-widgets/base",
          "model_module_version": "1.2.0",
          "model_name": "LayoutModel",
          "state": {
            "_model_module": "@jupyter-widgets/base",
            "_model_module_version": "1.2.0",
            "_model_name": "LayoutModel",
            "_view_count": null,
            "_view_module": "@jupyter-widgets/base",
            "_view_module_version": "1.2.0",
            "_view_name": "LayoutView",
            "align_content": null,
            "align_items": null,
            "align_self": null,
            "border": null,
            "bottom": null,
            "display": null,
            "flex": null,
            "flex_flow": null,
            "grid_area": null,
            "grid_auto_columns": null,
            "grid_auto_flow": null,
            "grid_auto_rows": null,
            "grid_column": null,
            "grid_gap": null,
            "grid_row": null,
            "grid_template_areas": null,
            "grid_template_columns": null,
            "grid_template_rows": null,
            "height": null,
            "justify_content": null,
            "justify_items": null,
            "left": null,
            "margin": null,
            "max_height": null,
            "max_width": null,
            "min_height": null,
            "min_width": null,
            "object_fit": null,
            "object_position": null,
            "order": null,
            "overflow": null,
            "overflow_x": null,
            "overflow_y": null,
            "padding": null,
            "right": null,
            "top": null,
            "visibility": null,
            "width": null
          }
        },
        "f0a065bf1db74567b9899c130f1ba1b5": {
          "model_module": "@jupyter-widgets/controls",
          "model_module_version": "1.5.0",
          "model_name": "HTMLModel",
          "state": {
            "_dom_classes": [],
            "_model_module": "@jupyter-widgets/controls",
            "_model_module_version": "1.5.0",
            "_model_name": "HTMLModel",
            "_view_count": null,
            "_view_module": "@jupyter-widgets/controls",
            "_view_module_version": "1.5.0",
            "_view_name": "HTMLView",
            "description": "",
            "description_tooltip": null,
            "layout": "IPY_MODEL_9cb9c6f411164895a09143e166fb40a9",
            "placeholder": "​",
            "style": "IPY_MODEL_3d284f5a21f64dd8accd2af021fc2979",
            "value": " 208k/208k [00:00&lt;00:00, 948kB/s]"
          }
        },
        "f2a4935c776d4e74bae2b4155d8b2402": {
          "model_module": "@jupyter-widgets/controls",
          "model_module_version": "1.5.0",
          "model_name": "HTMLModel",
          "state": {
            "_dom_classes": [],
            "_model_module": "@jupyter-widgets/controls",
            "_model_module_version": "1.5.0",
            "_model_name": "HTMLModel",
            "_view_count": null,
            "_view_module": "@jupyter-widgets/controls",
            "_view_module_version": "1.5.0",
            "_view_name": "HTMLView",
            "description": "",
            "description_tooltip": null,
            "layout": "IPY_MODEL_9ce45f30645e476ab45572a48557a4f0",
            "placeholder": "​",
            "style": "IPY_MODEL_2714441b8c4944deb4593cb79ef63779",
            "value": "Downloading: 100%"
          }
        },
        "fb0076dafb4e4fe8b727a96e4a865df7": {
          "model_module": "@jupyter-widgets/base",
          "model_module_version": "1.2.0",
          "model_name": "LayoutModel",
          "state": {
            "_model_module": "@jupyter-widgets/base",
            "_model_module_version": "1.2.0",
            "_model_name": "LayoutModel",
            "_view_count": null,
            "_view_module": "@jupyter-widgets/base",
            "_view_module_version": "1.2.0",
            "_view_name": "LayoutView",
            "align_content": null,
            "align_items": null,
            "align_self": null,
            "border": null,
            "bottom": null,
            "display": null,
            "flex": null,
            "flex_flow": null,
            "grid_area": null,
            "grid_auto_columns": null,
            "grid_auto_flow": null,
            "grid_auto_rows": null,
            "grid_column": null,
            "grid_gap": null,
            "grid_row": null,
            "grid_template_areas": null,
            "grid_template_columns": null,
            "grid_template_rows": null,
            "height": null,
            "justify_content": null,
            "justify_items": null,
            "left": null,
            "margin": null,
            "max_height": null,
            "max_width": null,
            "min_height": null,
            "min_width": null,
            "object_fit": null,
            "object_position": null,
            "order": null,
            "overflow": null,
            "overflow_x": null,
            "overflow_y": null,
            "padding": null,
            "right": null,
            "top": null,
            "visibility": null,
            "width": null
          }
        },
        "9d15fe76fa3f4bd59d47476cf3bd4259": {
          "model_module": "@jupyter-widgets/controls",
          "model_name": "HBoxModel",
          "model_module_version": "1.5.0",
          "state": {
            "_dom_classes": [],
            "_model_module": "@jupyter-widgets/controls",
            "_model_module_version": "1.5.0",
            "_model_name": "HBoxModel",
            "_view_count": null,
            "_view_module": "@jupyter-widgets/controls",
            "_view_module_version": "1.5.0",
            "_view_name": "HBoxView",
            "box_style": "",
            "children": [
              "IPY_MODEL_529ab6c2dbb74ae8bfe215ecceb8de0a",
              "IPY_MODEL_d4c6ec442cbd4bd094ffd702fac5378a",
              "IPY_MODEL_73449b3a0b534db2856abfe85d6bb866"
            ],
            "layout": "IPY_MODEL_0d40fdd5e29648fd9ffe96ba226b287e"
          }
        },
        "529ab6c2dbb74ae8bfe215ecceb8de0a": {
          "model_module": "@jupyter-widgets/controls",
          "model_name": "HTMLModel",
          "model_module_version": "1.5.0",
          "state": {
            "_dom_classes": [],
            "_model_module": "@jupyter-widgets/controls",
            "_model_module_version": "1.5.0",
            "_model_name": "HTMLModel",
            "_view_count": null,
            "_view_module": "@jupyter-widgets/controls",
            "_view_module_version": "1.5.0",
            "_view_name": "HTMLView",
            "description": "",
            "description_tooltip": null,
            "layout": "IPY_MODEL_abfcc73da45a4e2bbb1b5b747ca70f7f",
            "placeholder": "​",
            "style": "IPY_MODEL_ea8b4ed800f64d16ba71474a0676bf51",
            "value": "Downloading: 100%"
          }
        },
        "d4c6ec442cbd4bd094ffd702fac5378a": {
          "model_module": "@jupyter-widgets/controls",
          "model_name": "FloatProgressModel",
          "model_module_version": "1.5.0",
          "state": {
            "_dom_classes": [],
            "_model_module": "@jupyter-widgets/controls",
            "_model_module_version": "1.5.0",
            "_model_name": "FloatProgressModel",
            "_view_count": null,
            "_view_module": "@jupyter-widgets/controls",
            "_view_module_version": "1.5.0",
            "_view_name": "ProgressView",
            "bar_style": "success",
            "description": "",
            "description_tooltip": null,
            "layout": "IPY_MODEL_17c3e2d063c545df853d71fa2140b584",
            "max": 558614189,
            "min": 0,
            "orientation": "horizontal",
            "style": "IPY_MODEL_04a38e17104548a3b83ddffba41a905b",
            "value": 558614189
          }
        },
        "73449b3a0b534db2856abfe85d6bb866": {
          "model_module": "@jupyter-widgets/controls",
          "model_name": "HTMLModel",
          "model_module_version": "1.5.0",
          "state": {
            "_dom_classes": [],
            "_model_module": "@jupyter-widgets/controls",
            "_model_module_version": "1.5.0",
            "_model_name": "HTMLModel",
            "_view_count": null,
            "_view_module": "@jupyter-widgets/controls",
            "_view_module_version": "1.5.0",
            "_view_name": "HTMLView",
            "description": "",
            "description_tooltip": null,
            "layout": "IPY_MODEL_5d35b35cda604a5faae912f12f53a106",
            "placeholder": "​",
            "style": "IPY_MODEL_8cd47e535f63442ca6eb1bc518aa902b",
            "value": " 559M/559M [00:20&lt;00:00, 22.8MB/s]"
          }
        },
        "0d40fdd5e29648fd9ffe96ba226b287e": {
          "model_module": "@jupyter-widgets/base",
          "model_name": "LayoutModel",
          "model_module_version": "1.2.0",
          "state": {
            "_model_module": "@jupyter-widgets/base",
            "_model_module_version": "1.2.0",
            "_model_name": "LayoutModel",
            "_view_count": null,
            "_view_module": "@jupyter-widgets/base",
            "_view_module_version": "1.2.0",
            "_view_name": "LayoutView",
            "align_content": null,
            "align_items": null,
            "align_self": null,
            "border": null,
            "bottom": null,
            "display": null,
            "flex": null,
            "flex_flow": null,
            "grid_area": null,
            "grid_auto_columns": null,
            "grid_auto_flow": null,
            "grid_auto_rows": null,
            "grid_column": null,
            "grid_gap": null,
            "grid_row": null,
            "grid_template_areas": null,
            "grid_template_columns": null,
            "grid_template_rows": null,
            "height": null,
            "justify_content": null,
            "justify_items": null,
            "left": null,
            "margin": null,
            "max_height": null,
            "max_width": null,
            "min_height": null,
            "min_width": null,
            "object_fit": null,
            "object_position": null,
            "order": null,
            "overflow": null,
            "overflow_x": null,
            "overflow_y": null,
            "padding": null,
            "right": null,
            "top": null,
            "visibility": null,
            "width": null
          }
        },
        "abfcc73da45a4e2bbb1b5b747ca70f7f": {
          "model_module": "@jupyter-widgets/base",
          "model_name": "LayoutModel",
          "model_module_version": "1.2.0",
          "state": {
            "_model_module": "@jupyter-widgets/base",
            "_model_module_version": "1.2.0",
            "_model_name": "LayoutModel",
            "_view_count": null,
            "_view_module": "@jupyter-widgets/base",
            "_view_module_version": "1.2.0",
            "_view_name": "LayoutView",
            "align_content": null,
            "align_items": null,
            "align_self": null,
            "border": null,
            "bottom": null,
            "display": null,
            "flex": null,
            "flex_flow": null,
            "grid_area": null,
            "grid_auto_columns": null,
            "grid_auto_flow": null,
            "grid_auto_rows": null,
            "grid_column": null,
            "grid_gap": null,
            "grid_row": null,
            "grid_template_areas": null,
            "grid_template_columns": null,
            "grid_template_rows": null,
            "height": null,
            "justify_content": null,
            "justify_items": null,
            "left": null,
            "margin": null,
            "max_height": null,
            "max_width": null,
            "min_height": null,
            "min_width": null,
            "object_fit": null,
            "object_position": null,
            "order": null,
            "overflow": null,
            "overflow_x": null,
            "overflow_y": null,
            "padding": null,
            "right": null,
            "top": null,
            "visibility": null,
            "width": null
          }
        },
        "ea8b4ed800f64d16ba71474a0676bf51": {
          "model_module": "@jupyter-widgets/controls",
          "model_name": "DescriptionStyleModel",
          "model_module_version": "1.5.0",
          "state": {
            "_model_module": "@jupyter-widgets/controls",
            "_model_module_version": "1.5.0",
            "_model_name": "DescriptionStyleModel",
            "_view_count": null,
            "_view_module": "@jupyter-widgets/base",
            "_view_module_version": "1.2.0",
            "_view_name": "StyleView",
            "description_width": ""
          }
        },
        "17c3e2d063c545df853d71fa2140b584": {
          "model_module": "@jupyter-widgets/base",
          "model_name": "LayoutModel",
          "model_module_version": "1.2.0",
          "state": {
            "_model_module": "@jupyter-widgets/base",
            "_model_module_version": "1.2.0",
            "_model_name": "LayoutModel",
            "_view_count": null,
            "_view_module": "@jupyter-widgets/base",
            "_view_module_version": "1.2.0",
            "_view_name": "LayoutView",
            "align_content": null,
            "align_items": null,
            "align_self": null,
            "border": null,
            "bottom": null,
            "display": null,
            "flex": null,
            "flex_flow": null,
            "grid_area": null,
            "grid_auto_columns": null,
            "grid_auto_flow": null,
            "grid_auto_rows": null,
            "grid_column": null,
            "grid_gap": null,
            "grid_row": null,
            "grid_template_areas": null,
            "grid_template_columns": null,
            "grid_template_rows": null,
            "height": null,
            "justify_content": null,
            "justify_items": null,
            "left": null,
            "margin": null,
            "max_height": null,
            "max_width": null,
            "min_height": null,
            "min_width": null,
            "object_fit": null,
            "object_position": null,
            "order": null,
            "overflow": null,
            "overflow_x": null,
            "overflow_y": null,
            "padding": null,
            "right": null,
            "top": null,
            "visibility": null,
            "width": null
          }
        },
        "04a38e17104548a3b83ddffba41a905b": {
          "model_module": "@jupyter-widgets/controls",
          "model_name": "ProgressStyleModel",
          "model_module_version": "1.5.0",
          "state": {
            "_model_module": "@jupyter-widgets/controls",
            "_model_module_version": "1.5.0",
            "_model_name": "ProgressStyleModel",
            "_view_count": null,
            "_view_module": "@jupyter-widgets/base",
            "_view_module_version": "1.2.0",
            "_view_name": "StyleView",
            "bar_color": null,
            "description_width": ""
          }
        },
        "5d35b35cda604a5faae912f12f53a106": {
          "model_module": "@jupyter-widgets/base",
          "model_name": "LayoutModel",
          "model_module_version": "1.2.0",
          "state": {
            "_model_module": "@jupyter-widgets/base",
            "_model_module_version": "1.2.0",
            "_model_name": "LayoutModel",
            "_view_count": null,
            "_view_module": "@jupyter-widgets/base",
            "_view_module_version": "1.2.0",
            "_view_name": "LayoutView",
            "align_content": null,
            "align_items": null,
            "align_self": null,
            "border": null,
            "bottom": null,
            "display": null,
            "flex": null,
            "flex_flow": null,
            "grid_area": null,
            "grid_auto_columns": null,
            "grid_auto_flow": null,
            "grid_auto_rows": null,
            "grid_column": null,
            "grid_gap": null,
            "grid_row": null,
            "grid_template_areas": null,
            "grid_template_columns": null,
            "grid_template_rows": null,
            "height": null,
            "justify_content": null,
            "justify_items": null,
            "left": null,
            "margin": null,
            "max_height": null,
            "max_width": null,
            "min_height": null,
            "min_width": null,
            "object_fit": null,
            "object_position": null,
            "order": null,
            "overflow": null,
            "overflow_x": null,
            "overflow_y": null,
            "padding": null,
            "right": null,
            "top": null,
            "visibility": null,
            "width": null
          }
        },
        "8cd47e535f63442ca6eb1bc518aa902b": {
          "model_module": "@jupyter-widgets/controls",
          "model_name": "DescriptionStyleModel",
          "model_module_version": "1.5.0",
          "state": {
            "_model_module": "@jupyter-widgets/controls",
            "_model_module_version": "1.5.0",
            "_model_name": "DescriptionStyleModel",
            "_view_count": null,
            "_view_module": "@jupyter-widgets/base",
            "_view_module_version": "1.2.0",
            "_view_name": "StyleView",
            "description_width": ""
          }
        },
        "8ce6aedb67774cd588bbb978197de1bc": {
          "model_module": "@jupyter-widgets/controls",
          "model_name": "HBoxModel",
          "model_module_version": "1.5.0",
          "state": {
            "_dom_classes": [],
            "_model_module": "@jupyter-widgets/controls",
            "_model_module_version": "1.5.0",
            "_model_name": "HBoxModel",
            "_view_count": null,
            "_view_module": "@jupyter-widgets/controls",
            "_view_module_version": "1.5.0",
            "_view_name": "HBoxView",
            "box_style": "",
            "children": [
              "IPY_MODEL_16b71f59291d4b7592795ec0a516c0a5",
              "IPY_MODEL_22a13851f9ed44f1b9c317f8aa10c8f8",
              "IPY_MODEL_eeaf426883084311b9dfb77365f487a0"
            ],
            "layout": "IPY_MODEL_4268f8a9485a48009b3bef9508b64034"
          }
        },
        "16b71f59291d4b7592795ec0a516c0a5": {
          "model_module": "@jupyter-widgets/controls",
          "model_name": "HTMLModel",
          "model_module_version": "1.5.0",
          "state": {
            "_dom_classes": [],
            "_model_module": "@jupyter-widgets/controls",
            "_model_module_version": "1.5.0",
            "_model_name": "HTMLModel",
            "_view_count": null,
            "_view_module": "@jupyter-widgets/controls",
            "_view_module_version": "1.5.0",
            "_view_name": "HTMLView",
            "description": "",
            "description_tooltip": null,
            "layout": "IPY_MODEL_994e3a5d6a3140309266652f57b901e3",
            "placeholder": "​",
            "style": "IPY_MODEL_6ee07c849f3b4d6aab7b5b05a7518d7d",
            "value": "Downloading: 100%"
          }
        },
        "22a13851f9ed44f1b9c317f8aa10c8f8": {
          "model_module": "@jupyter-widgets/controls",
          "model_name": "FloatProgressModel",
          "model_module_version": "1.5.0",
          "state": {
            "_dom_classes": [],
            "_model_module": "@jupyter-widgets/controls",
            "_model_module_version": "1.5.0",
            "_model_name": "FloatProgressModel",
            "_view_count": null,
            "_view_module": "@jupyter-widgets/controls",
            "_view_module_version": "1.5.0",
            "_view_name": "ProgressView",
            "bar_style": "success",
            "description": "",
            "description_tooltip": null,
            "layout": "IPY_MODEL_549fc06091cb4b43bc0bb0ba6d10d795",
            "max": 52,
            "min": 0,
            "orientation": "horizontal",
            "style": "IPY_MODEL_3bead3a61eec483389fa12b67dc2f8e1",
            "value": 52
          }
        },
        "eeaf426883084311b9dfb77365f487a0": {
          "model_module": "@jupyter-widgets/controls",
          "model_name": "HTMLModel",
          "model_module_version": "1.5.0",
          "state": {
            "_dom_classes": [],
            "_model_module": "@jupyter-widgets/controls",
            "_model_module_version": "1.5.0",
            "_model_name": "HTMLModel",
            "_view_count": null,
            "_view_module": "@jupyter-widgets/controls",
            "_view_module_version": "1.5.0",
            "_view_name": "HTMLView",
            "description": "",
            "description_tooltip": null,
            "layout": "IPY_MODEL_cfe8e2fd81ef449680d690593e69b426",
            "placeholder": "​",
            "style": "IPY_MODEL_39fa8370ab33440d8a1d9ff5d16848a7",
            "value": " 52.0/52.0 [00:00&lt;00:00, 925B/s]"
          }
        },
        "4268f8a9485a48009b3bef9508b64034": {
          "model_module": "@jupyter-widgets/base",
          "model_name": "LayoutModel",
          "model_module_version": "1.2.0",
          "state": {
            "_model_module": "@jupyter-widgets/base",
            "_model_module_version": "1.2.0",
            "_model_name": "LayoutModel",
            "_view_count": null,
            "_view_module": "@jupyter-widgets/base",
            "_view_module_version": "1.2.0",
            "_view_name": "LayoutView",
            "align_content": null,
            "align_items": null,
            "align_self": null,
            "border": null,
            "bottom": null,
            "display": null,
            "flex": null,
            "flex_flow": null,
            "grid_area": null,
            "grid_auto_columns": null,
            "grid_auto_flow": null,
            "grid_auto_rows": null,
            "grid_column": null,
            "grid_gap": null,
            "grid_row": null,
            "grid_template_areas": null,
            "grid_template_columns": null,
            "grid_template_rows": null,
            "height": null,
            "justify_content": null,
            "justify_items": null,
            "left": null,
            "margin": null,
            "max_height": null,
            "max_width": null,
            "min_height": null,
            "min_width": null,
            "object_fit": null,
            "object_position": null,
            "order": null,
            "overflow": null,
            "overflow_x": null,
            "overflow_y": null,
            "padding": null,
            "right": null,
            "top": null,
            "visibility": null,
            "width": null
          }
        },
        "994e3a5d6a3140309266652f57b901e3": {
          "model_module": "@jupyter-widgets/base",
          "model_name": "LayoutModel",
          "model_module_version": "1.2.0",
          "state": {
            "_model_module": "@jupyter-widgets/base",
            "_model_module_version": "1.2.0",
            "_model_name": "LayoutModel",
            "_view_count": null,
            "_view_module": "@jupyter-widgets/base",
            "_view_module_version": "1.2.0",
            "_view_name": "LayoutView",
            "align_content": null,
            "align_items": null,
            "align_self": null,
            "border": null,
            "bottom": null,
            "display": null,
            "flex": null,
            "flex_flow": null,
            "grid_area": null,
            "grid_auto_columns": null,
            "grid_auto_flow": null,
            "grid_auto_rows": null,
            "grid_column": null,
            "grid_gap": null,
            "grid_row": null,
            "grid_template_areas": null,
            "grid_template_columns": null,
            "grid_template_rows": null,
            "height": null,
            "justify_content": null,
            "justify_items": null,
            "left": null,
            "margin": null,
            "max_height": null,
            "max_width": null,
            "min_height": null,
            "min_width": null,
            "object_fit": null,
            "object_position": null,
            "order": null,
            "overflow": null,
            "overflow_x": null,
            "overflow_y": null,
            "padding": null,
            "right": null,
            "top": null,
            "visibility": null,
            "width": null
          }
        },
        "6ee07c849f3b4d6aab7b5b05a7518d7d": {
          "model_module": "@jupyter-widgets/controls",
          "model_name": "DescriptionStyleModel",
          "model_module_version": "1.5.0",
          "state": {
            "_model_module": "@jupyter-widgets/controls",
            "_model_module_version": "1.5.0",
            "_model_name": "DescriptionStyleModel",
            "_view_count": null,
            "_view_module": "@jupyter-widgets/base",
            "_view_module_version": "1.2.0",
            "_view_name": "StyleView",
            "description_width": ""
          }
        },
        "549fc06091cb4b43bc0bb0ba6d10d795": {
          "model_module": "@jupyter-widgets/base",
          "model_name": "LayoutModel",
          "model_module_version": "1.2.0",
          "state": {
            "_model_module": "@jupyter-widgets/base",
            "_model_module_version": "1.2.0",
            "_model_name": "LayoutModel",
            "_view_count": null,
            "_view_module": "@jupyter-widgets/base",
            "_view_module_version": "1.2.0",
            "_view_name": "LayoutView",
            "align_content": null,
            "align_items": null,
            "align_self": null,
            "border": null,
            "bottom": null,
            "display": null,
            "flex": null,
            "flex_flow": null,
            "grid_area": null,
            "grid_auto_columns": null,
            "grid_auto_flow": null,
            "grid_auto_rows": null,
            "grid_column": null,
            "grid_gap": null,
            "grid_row": null,
            "grid_template_areas": null,
            "grid_template_columns": null,
            "grid_template_rows": null,
            "height": null,
            "justify_content": null,
            "justify_items": null,
            "left": null,
            "margin": null,
            "max_height": null,
            "max_width": null,
            "min_height": null,
            "min_width": null,
            "object_fit": null,
            "object_position": null,
            "order": null,
            "overflow": null,
            "overflow_x": null,
            "overflow_y": null,
            "padding": null,
            "right": null,
            "top": null,
            "visibility": null,
            "width": null
          }
        },
        "3bead3a61eec483389fa12b67dc2f8e1": {
          "model_module": "@jupyter-widgets/controls",
          "model_name": "ProgressStyleModel",
          "model_module_version": "1.5.0",
          "state": {
            "_model_module": "@jupyter-widgets/controls",
            "_model_module_version": "1.5.0",
            "_model_name": "ProgressStyleModel",
            "_view_count": null,
            "_view_module": "@jupyter-widgets/base",
            "_view_module_version": "1.2.0",
            "_view_name": "StyleView",
            "bar_color": null,
            "description_width": ""
          }
        },
        "cfe8e2fd81ef449680d690593e69b426": {
          "model_module": "@jupyter-widgets/base",
          "model_name": "LayoutModel",
          "model_module_version": "1.2.0",
          "state": {
            "_model_module": "@jupyter-widgets/base",
            "_model_module_version": "1.2.0",
            "_model_name": "LayoutModel",
            "_view_count": null,
            "_view_module": "@jupyter-widgets/base",
            "_view_module_version": "1.2.0",
            "_view_name": "LayoutView",
            "align_content": null,
            "align_items": null,
            "align_self": null,
            "border": null,
            "bottom": null,
            "display": null,
            "flex": null,
            "flex_flow": null,
            "grid_area": null,
            "grid_auto_columns": null,
            "grid_auto_flow": null,
            "grid_auto_rows": null,
            "grid_column": null,
            "grid_gap": null,
            "grid_row": null,
            "grid_template_areas": null,
            "grid_template_columns": null,
            "grid_template_rows": null,
            "height": null,
            "justify_content": null,
            "justify_items": null,
            "left": null,
            "margin": null,
            "max_height": null,
            "max_width": null,
            "min_height": null,
            "min_width": null,
            "object_fit": null,
            "object_position": null,
            "order": null,
            "overflow": null,
            "overflow_x": null,
            "overflow_y": null,
            "padding": null,
            "right": null,
            "top": null,
            "visibility": null,
            "width": null
          }
        },
        "39fa8370ab33440d8a1d9ff5d16848a7": {
          "model_module": "@jupyter-widgets/controls",
          "model_name": "DescriptionStyleModel",
          "model_module_version": "1.5.0",
          "state": {
            "_model_module": "@jupyter-widgets/controls",
            "_model_module_version": "1.5.0",
            "_model_name": "DescriptionStyleModel",
            "_view_count": null,
            "_view_module": "@jupyter-widgets/base",
            "_view_module_version": "1.2.0",
            "_view_name": "StyleView",
            "description_width": ""
          }
        },
        "9fe9b3f0acc44d22b18c70478b1d51a5": {
          "model_module": "@jupyter-widgets/controls",
          "model_name": "HBoxModel",
          "model_module_version": "1.5.0",
          "state": {
            "_dom_classes": [],
            "_model_module": "@jupyter-widgets/controls",
            "_model_module_version": "1.5.0",
            "_model_name": "HBoxModel",
            "_view_count": null,
            "_view_module": "@jupyter-widgets/controls",
            "_view_module_version": "1.5.0",
            "_view_name": "HBoxView",
            "box_style": "",
            "children": [
              "IPY_MODEL_320feb3987e64eb2a8d09057dc08b227",
              "IPY_MODEL_bbea05ceed51493582d8ad7ad560c9b1",
              "IPY_MODEL_ca009b0d128b45fcb177ff9b2ff76746"
            ],
            "layout": "IPY_MODEL_c03fcfec8efe488595c7494f6bbf2bdd"
          }
        },
        "320feb3987e64eb2a8d09057dc08b227": {
          "model_module": "@jupyter-widgets/controls",
          "model_name": "HTMLModel",
          "model_module_version": "1.5.0",
          "state": {
            "_dom_classes": [],
            "_model_module": "@jupyter-widgets/controls",
            "_model_module_version": "1.5.0",
            "_model_name": "HTMLModel",
            "_view_count": null,
            "_view_module": "@jupyter-widgets/controls",
            "_view_module_version": "1.5.0",
            "_view_name": "HTMLView",
            "description": "",
            "description_tooltip": null,
            "layout": "IPY_MODEL_5cef09e6e9864a3a94eebec18abaf32c",
            "placeholder": "​",
            "style": "IPY_MODEL_7c18fdbe7bd14f97bfbbfc5bdca48550",
            "value": "Downloading: 100%"
          }
        },
        "bbea05ceed51493582d8ad7ad560c9b1": {
          "model_module": "@jupyter-widgets/controls",
          "model_name": "FloatProgressModel",
          "model_module_version": "1.5.0",
          "state": {
            "_dom_classes": [],
            "_model_module": "@jupyter-widgets/controls",
            "_model_module_version": "1.5.0",
            "_model_name": "FloatProgressModel",
            "_view_count": null,
            "_view_module": "@jupyter-widgets/controls",
            "_view_module_version": "1.5.0",
            "_view_name": "ProgressView",
            "bar_style": "success",
            "description": "",
            "description_tooltip": null,
            "layout": "IPY_MODEL_a9d085332cb84be7b83aebf10e9c4678",
            "max": 474,
            "min": 0,
            "orientation": "horizontal",
            "style": "IPY_MODEL_f44c930ecc92475faf0d8b5fcfc0288c",
            "value": 474
          }
        },
        "ca009b0d128b45fcb177ff9b2ff76746": {
          "model_module": "@jupyter-widgets/controls",
          "model_name": "HTMLModel",
          "model_module_version": "1.5.0",
          "state": {
            "_dom_classes": [],
            "_model_module": "@jupyter-widgets/controls",
            "_model_module_version": "1.5.0",
            "_model_name": "HTMLModel",
            "_view_count": null,
            "_view_module": "@jupyter-widgets/controls",
            "_view_module_version": "1.5.0",
            "_view_name": "HTMLView",
            "description": "",
            "description_tooltip": null,
            "layout": "IPY_MODEL_167191a05fb64f8abdceb7d56813c503",
            "placeholder": "​",
            "style": "IPY_MODEL_44f5c49fa2824dd1a688d67d54a723d2",
            "value": " 474/474 [00:00&lt;00:00, 11.9kB/s]"
          }
        },
        "c03fcfec8efe488595c7494f6bbf2bdd": {
          "model_module": "@jupyter-widgets/base",
          "model_name": "LayoutModel",
          "model_module_version": "1.2.0",
          "state": {
            "_model_module": "@jupyter-widgets/base",
            "_model_module_version": "1.2.0",
            "_model_name": "LayoutModel",
            "_view_count": null,
            "_view_module": "@jupyter-widgets/base",
            "_view_module_version": "1.2.0",
            "_view_name": "LayoutView",
            "align_content": null,
            "align_items": null,
            "align_self": null,
            "border": null,
            "bottom": null,
            "display": null,
            "flex": null,
            "flex_flow": null,
            "grid_area": null,
            "grid_auto_columns": null,
            "grid_auto_flow": null,
            "grid_auto_rows": null,
            "grid_column": null,
            "grid_gap": null,
            "grid_row": null,
            "grid_template_areas": null,
            "grid_template_columns": null,
            "grid_template_rows": null,
            "height": null,
            "justify_content": null,
            "justify_items": null,
            "left": null,
            "margin": null,
            "max_height": null,
            "max_width": null,
            "min_height": null,
            "min_width": null,
            "object_fit": null,
            "object_position": null,
            "order": null,
            "overflow": null,
            "overflow_x": null,
            "overflow_y": null,
            "padding": null,
            "right": null,
            "top": null,
            "visibility": null,
            "width": null
          }
        },
        "5cef09e6e9864a3a94eebec18abaf32c": {
          "model_module": "@jupyter-widgets/base",
          "model_name": "LayoutModel",
          "model_module_version": "1.2.0",
          "state": {
            "_model_module": "@jupyter-widgets/base",
            "_model_module_version": "1.2.0",
            "_model_name": "LayoutModel",
            "_view_count": null,
            "_view_module": "@jupyter-widgets/base",
            "_view_module_version": "1.2.0",
            "_view_name": "LayoutView",
            "align_content": null,
            "align_items": null,
            "align_self": null,
            "border": null,
            "bottom": null,
            "display": null,
            "flex": null,
            "flex_flow": null,
            "grid_area": null,
            "grid_auto_columns": null,
            "grid_auto_flow": null,
            "grid_auto_rows": null,
            "grid_column": null,
            "grid_gap": null,
            "grid_row": null,
            "grid_template_areas": null,
            "grid_template_columns": null,
            "grid_template_rows": null,
            "height": null,
            "justify_content": null,
            "justify_items": null,
            "left": null,
            "margin": null,
            "max_height": null,
            "max_width": null,
            "min_height": null,
            "min_width": null,
            "object_fit": null,
            "object_position": null,
            "order": null,
            "overflow": null,
            "overflow_x": null,
            "overflow_y": null,
            "padding": null,
            "right": null,
            "top": null,
            "visibility": null,
            "width": null
          }
        },
        "7c18fdbe7bd14f97bfbbfc5bdca48550": {
          "model_module": "@jupyter-widgets/controls",
          "model_name": "DescriptionStyleModel",
          "model_module_version": "1.5.0",
          "state": {
            "_model_module": "@jupyter-widgets/controls",
            "_model_module_version": "1.5.0",
            "_model_name": "DescriptionStyleModel",
            "_view_count": null,
            "_view_module": "@jupyter-widgets/base",
            "_view_module_version": "1.2.0",
            "_view_name": "StyleView",
            "description_width": ""
          }
        },
        "a9d085332cb84be7b83aebf10e9c4678": {
          "model_module": "@jupyter-widgets/base",
          "model_name": "LayoutModel",
          "model_module_version": "1.2.0",
          "state": {
            "_model_module": "@jupyter-widgets/base",
            "_model_module_version": "1.2.0",
            "_model_name": "LayoutModel",
            "_view_count": null,
            "_view_module": "@jupyter-widgets/base",
            "_view_module_version": "1.2.0",
            "_view_name": "LayoutView",
            "align_content": null,
            "align_items": null,
            "align_self": null,
            "border": null,
            "bottom": null,
            "display": null,
            "flex": null,
            "flex_flow": null,
            "grid_area": null,
            "grid_auto_columns": null,
            "grid_auto_flow": null,
            "grid_auto_rows": null,
            "grid_column": null,
            "grid_gap": null,
            "grid_row": null,
            "grid_template_areas": null,
            "grid_template_columns": null,
            "grid_template_rows": null,
            "height": null,
            "justify_content": null,
            "justify_items": null,
            "left": null,
            "margin": null,
            "max_height": null,
            "max_width": null,
            "min_height": null,
            "min_width": null,
            "object_fit": null,
            "object_position": null,
            "order": null,
            "overflow": null,
            "overflow_x": null,
            "overflow_y": null,
            "padding": null,
            "right": null,
            "top": null,
            "visibility": null,
            "width": null
          }
        },
        "f44c930ecc92475faf0d8b5fcfc0288c": {
          "model_module": "@jupyter-widgets/controls",
          "model_name": "ProgressStyleModel",
          "model_module_version": "1.5.0",
          "state": {
            "_model_module": "@jupyter-widgets/controls",
            "_model_module_version": "1.5.0",
            "_model_name": "ProgressStyleModel",
            "_view_count": null,
            "_view_module": "@jupyter-widgets/base",
            "_view_module_version": "1.2.0",
            "_view_name": "StyleView",
            "bar_color": null,
            "description_width": ""
          }
        },
        "167191a05fb64f8abdceb7d56813c503": {
          "model_module": "@jupyter-widgets/base",
          "model_name": "LayoutModel",
          "model_module_version": "1.2.0",
          "state": {
            "_model_module": "@jupyter-widgets/base",
            "_model_module_version": "1.2.0",
            "_model_name": "LayoutModel",
            "_view_count": null,
            "_view_module": "@jupyter-widgets/base",
            "_view_module_version": "1.2.0",
            "_view_name": "LayoutView",
            "align_content": null,
            "align_items": null,
            "align_self": null,
            "border": null,
            "bottom": null,
            "display": null,
            "flex": null,
            "flex_flow": null,
            "grid_area": null,
            "grid_auto_columns": null,
            "grid_auto_flow": null,
            "grid_auto_rows": null,
            "grid_column": null,
            "grid_gap": null,
            "grid_row": null,
            "grid_template_areas": null,
            "grid_template_columns": null,
            "grid_template_rows": null,
            "height": null,
            "justify_content": null,
            "justify_items": null,
            "left": null,
            "margin": null,
            "max_height": null,
            "max_width": null,
            "min_height": null,
            "min_width": null,
            "object_fit": null,
            "object_position": null,
            "order": null,
            "overflow": null,
            "overflow_x": null,
            "overflow_y": null,
            "padding": null,
            "right": null,
            "top": null,
            "visibility": null,
            "width": null
          }
        },
        "44f5c49fa2824dd1a688d67d54a723d2": {
          "model_module": "@jupyter-widgets/controls",
          "model_name": "DescriptionStyleModel",
          "model_module_version": "1.5.0",
          "state": {
            "_model_module": "@jupyter-widgets/controls",
            "_model_module_version": "1.5.0",
            "_model_name": "DescriptionStyleModel",
            "_view_count": null,
            "_view_module": "@jupyter-widgets/base",
            "_view_module_version": "1.2.0",
            "_view_name": "StyleView",
            "description_width": ""
          }
        },
        "0f41fc37dca341569f0d5430a2f24e7d": {
          "model_module": "@jupyter-widgets/controls",
          "model_name": "HBoxModel",
          "model_module_version": "1.5.0",
          "state": {
            "_dom_classes": [],
            "_model_module": "@jupyter-widgets/controls",
            "_model_module_version": "1.5.0",
            "_model_name": "HBoxModel",
            "_view_count": null,
            "_view_module": "@jupyter-widgets/controls",
            "_view_module_version": "1.5.0",
            "_view_name": "HBoxView",
            "box_style": "",
            "children": [
              "IPY_MODEL_7bc2bce39f8c4bbe8fe6ba53e399d7e6",
              "IPY_MODEL_79cb9eaf05514103bab21130e26cc1c3",
              "IPY_MODEL_9c66ba418b504a1d8f5c5d1040bf89f2"
            ],
            "layout": "IPY_MODEL_f0ea4e0b671f497aad160e51c667ef9a"
          }
        },
        "7bc2bce39f8c4bbe8fe6ba53e399d7e6": {
          "model_module": "@jupyter-widgets/controls",
          "model_name": "HTMLModel",
          "model_module_version": "1.5.0",
          "state": {
            "_dom_classes": [],
            "_model_module": "@jupyter-widgets/controls",
            "_model_module_version": "1.5.0",
            "_model_name": "HTMLModel",
            "_view_count": null,
            "_view_module": "@jupyter-widgets/controls",
            "_view_module_version": "1.5.0",
            "_view_name": "HTMLView",
            "description": "",
            "description_tooltip": null,
            "layout": "IPY_MODEL_3a24260bd5f9445787b1f2aa27f5dcf2",
            "placeholder": "​",
            "style": "IPY_MODEL_ce275ba84a2a47c8ad7d0b77abe6e29a",
            "value": "Downloading: 100%"
          }
        },
        "79cb9eaf05514103bab21130e26cc1c3": {
          "model_module": "@jupyter-widgets/controls",
          "model_name": "FloatProgressModel",
          "model_module_version": "1.5.0",
          "state": {
            "_dom_classes": [],
            "_model_module": "@jupyter-widgets/controls",
            "_model_module_version": "1.5.0",
            "_model_name": "FloatProgressModel",
            "_view_count": null,
            "_view_module": "@jupyter-widgets/controls",
            "_view_module_version": "1.5.0",
            "_view_name": "ProgressView",
            "bar_style": "success",
            "description": "",
            "description_tooltip": null,
            "layout": "IPY_MODEL_89663fffa6064bc1be19d1fc4d717ff1",
            "max": 898825,
            "min": 0,
            "orientation": "horizontal",
            "style": "IPY_MODEL_c520103c8e1f437a87347ff6fd744661",
            "value": 898825
          }
        },
        "9c66ba418b504a1d8f5c5d1040bf89f2": {
          "model_module": "@jupyter-widgets/controls",
          "model_name": "HTMLModel",
          "model_module_version": "1.5.0",
          "state": {
            "_dom_classes": [],
            "_model_module": "@jupyter-widgets/controls",
            "_model_module_version": "1.5.0",
            "_model_name": "HTMLModel",
            "_view_count": null,
            "_view_module": "@jupyter-widgets/controls",
            "_view_module_version": "1.5.0",
            "_view_name": "HTMLView",
            "description": "",
            "description_tooltip": null,
            "layout": "IPY_MODEL_daf1340fe174407bb7abb74169263e95",
            "placeholder": "​",
            "style": "IPY_MODEL_1cb54c79897044e58d5c6e2e6d2d2457",
            "value": " 899k/899k [00:00&lt;00:00, 9.34MB/s]"
          }
        },
        "f0ea4e0b671f497aad160e51c667ef9a": {
          "model_module": "@jupyter-widgets/base",
          "model_name": "LayoutModel",
          "model_module_version": "1.2.0",
          "state": {
            "_model_module": "@jupyter-widgets/base",
            "_model_module_version": "1.2.0",
            "_model_name": "LayoutModel",
            "_view_count": null,
            "_view_module": "@jupyter-widgets/base",
            "_view_module_version": "1.2.0",
            "_view_name": "LayoutView",
            "align_content": null,
            "align_items": null,
            "align_self": null,
            "border": null,
            "bottom": null,
            "display": null,
            "flex": null,
            "flex_flow": null,
            "grid_area": null,
            "grid_auto_columns": null,
            "grid_auto_flow": null,
            "grid_auto_rows": null,
            "grid_column": null,
            "grid_gap": null,
            "grid_row": null,
            "grid_template_areas": null,
            "grid_template_columns": null,
            "grid_template_rows": null,
            "height": null,
            "justify_content": null,
            "justify_items": null,
            "left": null,
            "margin": null,
            "max_height": null,
            "max_width": null,
            "min_height": null,
            "min_width": null,
            "object_fit": null,
            "object_position": null,
            "order": null,
            "overflow": null,
            "overflow_x": null,
            "overflow_y": null,
            "padding": null,
            "right": null,
            "top": null,
            "visibility": null,
            "width": null
          }
        },
        "3a24260bd5f9445787b1f2aa27f5dcf2": {
          "model_module": "@jupyter-widgets/base",
          "model_name": "LayoutModel",
          "model_module_version": "1.2.0",
          "state": {
            "_model_module": "@jupyter-widgets/base",
            "_model_module_version": "1.2.0",
            "_model_name": "LayoutModel",
            "_view_count": null,
            "_view_module": "@jupyter-widgets/base",
            "_view_module_version": "1.2.0",
            "_view_name": "LayoutView",
            "align_content": null,
            "align_items": null,
            "align_self": null,
            "border": null,
            "bottom": null,
            "display": null,
            "flex": null,
            "flex_flow": null,
            "grid_area": null,
            "grid_auto_columns": null,
            "grid_auto_flow": null,
            "grid_auto_rows": null,
            "grid_column": null,
            "grid_gap": null,
            "grid_row": null,
            "grid_template_areas": null,
            "grid_template_columns": null,
            "grid_template_rows": null,
            "height": null,
            "justify_content": null,
            "justify_items": null,
            "left": null,
            "margin": null,
            "max_height": null,
            "max_width": null,
            "min_height": null,
            "min_width": null,
            "object_fit": null,
            "object_position": null,
            "order": null,
            "overflow": null,
            "overflow_x": null,
            "overflow_y": null,
            "padding": null,
            "right": null,
            "top": null,
            "visibility": null,
            "width": null
          }
        },
        "ce275ba84a2a47c8ad7d0b77abe6e29a": {
          "model_module": "@jupyter-widgets/controls",
          "model_name": "DescriptionStyleModel",
          "model_module_version": "1.5.0",
          "state": {
            "_model_module": "@jupyter-widgets/controls",
            "_model_module_version": "1.5.0",
            "_model_name": "DescriptionStyleModel",
            "_view_count": null,
            "_view_module": "@jupyter-widgets/base",
            "_view_module_version": "1.2.0",
            "_view_name": "StyleView",
            "description_width": ""
          }
        },
        "89663fffa6064bc1be19d1fc4d717ff1": {
          "model_module": "@jupyter-widgets/base",
          "model_name": "LayoutModel",
          "model_module_version": "1.2.0",
          "state": {
            "_model_module": "@jupyter-widgets/base",
            "_model_module_version": "1.2.0",
            "_model_name": "LayoutModel",
            "_view_count": null,
            "_view_module": "@jupyter-widgets/base",
            "_view_module_version": "1.2.0",
            "_view_name": "LayoutView",
            "align_content": null,
            "align_items": null,
            "align_self": null,
            "border": null,
            "bottom": null,
            "display": null,
            "flex": null,
            "flex_flow": null,
            "grid_area": null,
            "grid_auto_columns": null,
            "grid_auto_flow": null,
            "grid_auto_rows": null,
            "grid_column": null,
            "grid_gap": null,
            "grid_row": null,
            "grid_template_areas": null,
            "grid_template_columns": null,
            "grid_template_rows": null,
            "height": null,
            "justify_content": null,
            "justify_items": null,
            "left": null,
            "margin": null,
            "max_height": null,
            "max_width": null,
            "min_height": null,
            "min_width": null,
            "object_fit": null,
            "object_position": null,
            "order": null,
            "overflow": null,
            "overflow_x": null,
            "overflow_y": null,
            "padding": null,
            "right": null,
            "top": null,
            "visibility": null,
            "width": null
          }
        },
        "c520103c8e1f437a87347ff6fd744661": {
          "model_module": "@jupyter-widgets/controls",
          "model_name": "ProgressStyleModel",
          "model_module_version": "1.5.0",
          "state": {
            "_model_module": "@jupyter-widgets/controls",
            "_model_module_version": "1.5.0",
            "_model_name": "ProgressStyleModel",
            "_view_count": null,
            "_view_module": "@jupyter-widgets/base",
            "_view_module_version": "1.2.0",
            "_view_name": "StyleView",
            "bar_color": null,
            "description_width": ""
          }
        },
        "daf1340fe174407bb7abb74169263e95": {
          "model_module": "@jupyter-widgets/base",
          "model_name": "LayoutModel",
          "model_module_version": "1.2.0",
          "state": {
            "_model_module": "@jupyter-widgets/base",
            "_model_module_version": "1.2.0",
            "_model_name": "LayoutModel",
            "_view_count": null,
            "_view_module": "@jupyter-widgets/base",
            "_view_module_version": "1.2.0",
            "_view_name": "LayoutView",
            "align_content": null,
            "align_items": null,
            "align_self": null,
            "border": null,
            "bottom": null,
            "display": null,
            "flex": null,
            "flex_flow": null,
            "grid_area": null,
            "grid_auto_columns": null,
            "grid_auto_flow": null,
            "grid_auto_rows": null,
            "grid_column": null,
            "grid_gap": null,
            "grid_row": null,
            "grid_template_areas": null,
            "grid_template_columns": null,
            "grid_template_rows": null,
            "height": null,
            "justify_content": null,
            "justify_items": null,
            "left": null,
            "margin": null,
            "max_height": null,
            "max_width": null,
            "min_height": null,
            "min_width": null,
            "object_fit": null,
            "object_position": null,
            "order": null,
            "overflow": null,
            "overflow_x": null,
            "overflow_y": null,
            "padding": null,
            "right": null,
            "top": null,
            "visibility": null,
            "width": null
          }
        },
        "1cb54c79897044e58d5c6e2e6d2d2457": {
          "model_module": "@jupyter-widgets/controls",
          "model_name": "DescriptionStyleModel",
          "model_module_version": "1.5.0",
          "state": {
            "_model_module": "@jupyter-widgets/controls",
            "_model_module_version": "1.5.0",
            "_model_name": "DescriptionStyleModel",
            "_view_count": null,
            "_view_module": "@jupyter-widgets/base",
            "_view_module_version": "1.2.0",
            "_view_name": "StyleView",
            "description_width": ""
          }
        },
        "63f448382be742109271b63b7450f96d": {
          "model_module": "@jupyter-widgets/controls",
          "model_name": "HBoxModel",
          "model_module_version": "1.5.0",
          "state": {
            "_dom_classes": [],
            "_model_module": "@jupyter-widgets/controls",
            "_model_module_version": "1.5.0",
            "_model_name": "HBoxModel",
            "_view_count": null,
            "_view_module": "@jupyter-widgets/controls",
            "_view_module_version": "1.5.0",
            "_view_name": "HBoxView",
            "box_style": "",
            "children": [
              "IPY_MODEL_56728fa3124e48489f0d41b896b93eb0",
              "IPY_MODEL_fd1cdd25ab8d42658807ca71c7c7b68b",
              "IPY_MODEL_7e7a508af28f407b8cde7fa527532772"
            ],
            "layout": "IPY_MODEL_4bb5454b21634616b0b0366ee35f748b"
          }
        },
        "56728fa3124e48489f0d41b896b93eb0": {
          "model_module": "@jupyter-widgets/controls",
          "model_name": "HTMLModel",
          "model_module_version": "1.5.0",
          "state": {
            "_dom_classes": [],
            "_model_module": "@jupyter-widgets/controls",
            "_model_module_version": "1.5.0",
            "_model_name": "HTMLModel",
            "_view_count": null,
            "_view_module": "@jupyter-widgets/controls",
            "_view_module_version": "1.5.0",
            "_view_name": "HTMLView",
            "description": "",
            "description_tooltip": null,
            "layout": "IPY_MODEL_ba8f5fc459a34b0886a45644cdaf3e3b",
            "placeholder": "​",
            "style": "IPY_MODEL_eb36c7b57d9c4ba49a60e0191131e5c1",
            "value": "Downloading: 100%"
          }
        },
        "fd1cdd25ab8d42658807ca71c7c7b68b": {
          "model_module": "@jupyter-widgets/controls",
          "model_name": "FloatProgressModel",
          "model_module_version": "1.5.0",
          "state": {
            "_dom_classes": [],
            "_model_module": "@jupyter-widgets/controls",
            "_model_module_version": "1.5.0",
            "_model_name": "FloatProgressModel",
            "_view_count": null,
            "_view_module": "@jupyter-widgets/controls",
            "_view_module_version": "1.5.0",
            "_view_name": "ProgressView",
            "bar_style": "success",
            "description": "",
            "description_tooltip": null,
            "layout": "IPY_MODEL_325b76d38dac43379fec733ad2c24f1c",
            "max": 456318,
            "min": 0,
            "orientation": "horizontal",
            "style": "IPY_MODEL_a0e92f329113491cabcf318afecb48f0",
            "value": 456318
          }
        },
        "7e7a508af28f407b8cde7fa527532772": {
          "model_module": "@jupyter-widgets/controls",
          "model_name": "HTMLModel",
          "model_module_version": "1.5.0",
          "state": {
            "_dom_classes": [],
            "_model_module": "@jupyter-widgets/controls",
            "_model_module_version": "1.5.0",
            "_model_name": "HTMLModel",
            "_view_count": null,
            "_view_module": "@jupyter-widgets/controls",
            "_view_module_version": "1.5.0",
            "_view_name": "HTMLView",
            "description": "",
            "description_tooltip": null,
            "layout": "IPY_MODEL_8451fb7f138d4f23831d848ae93f5d91",
            "placeholder": "​",
            "style": "IPY_MODEL_a77c65171797451abf4999fa302691ed",
            "value": " 456k/456k [00:00&lt;00:00, 1.15MB/s]"
          }
        },
        "4bb5454b21634616b0b0366ee35f748b": {
          "model_module": "@jupyter-widgets/base",
          "model_name": "LayoutModel",
          "model_module_version": "1.2.0",
          "state": {
            "_model_module": "@jupyter-widgets/base",
            "_model_module_version": "1.2.0",
            "_model_name": "LayoutModel",
            "_view_count": null,
            "_view_module": "@jupyter-widgets/base",
            "_view_module_version": "1.2.0",
            "_view_name": "LayoutView",
            "align_content": null,
            "align_items": null,
            "align_self": null,
            "border": null,
            "bottom": null,
            "display": null,
            "flex": null,
            "flex_flow": null,
            "grid_area": null,
            "grid_auto_columns": null,
            "grid_auto_flow": null,
            "grid_auto_rows": null,
            "grid_column": null,
            "grid_gap": null,
            "grid_row": null,
            "grid_template_areas": null,
            "grid_template_columns": null,
            "grid_template_rows": null,
            "height": null,
            "justify_content": null,
            "justify_items": null,
            "left": null,
            "margin": null,
            "max_height": null,
            "max_width": null,
            "min_height": null,
            "min_width": null,
            "object_fit": null,
            "object_position": null,
            "order": null,
            "overflow": null,
            "overflow_x": null,
            "overflow_y": null,
            "padding": null,
            "right": null,
            "top": null,
            "visibility": null,
            "width": null
          }
        },
        "ba8f5fc459a34b0886a45644cdaf3e3b": {
          "model_module": "@jupyter-widgets/base",
          "model_name": "LayoutModel",
          "model_module_version": "1.2.0",
          "state": {
            "_model_module": "@jupyter-widgets/base",
            "_model_module_version": "1.2.0",
            "_model_name": "LayoutModel",
            "_view_count": null,
            "_view_module": "@jupyter-widgets/base",
            "_view_module_version": "1.2.0",
            "_view_name": "LayoutView",
            "align_content": null,
            "align_items": null,
            "align_self": null,
            "border": null,
            "bottom": null,
            "display": null,
            "flex": null,
            "flex_flow": null,
            "grid_area": null,
            "grid_auto_columns": null,
            "grid_auto_flow": null,
            "grid_auto_rows": null,
            "grid_column": null,
            "grid_gap": null,
            "grid_row": null,
            "grid_template_areas": null,
            "grid_template_columns": null,
            "grid_template_rows": null,
            "height": null,
            "justify_content": null,
            "justify_items": null,
            "left": null,
            "margin": null,
            "max_height": null,
            "max_width": null,
            "min_height": null,
            "min_width": null,
            "object_fit": null,
            "object_position": null,
            "order": null,
            "overflow": null,
            "overflow_x": null,
            "overflow_y": null,
            "padding": null,
            "right": null,
            "top": null,
            "visibility": null,
            "width": null
          }
        },
        "eb36c7b57d9c4ba49a60e0191131e5c1": {
          "model_module": "@jupyter-widgets/controls",
          "model_name": "DescriptionStyleModel",
          "model_module_version": "1.5.0",
          "state": {
            "_model_module": "@jupyter-widgets/controls",
            "_model_module_version": "1.5.0",
            "_model_name": "DescriptionStyleModel",
            "_view_count": null,
            "_view_module": "@jupyter-widgets/base",
            "_view_module_version": "1.2.0",
            "_view_name": "StyleView",
            "description_width": ""
          }
        },
        "325b76d38dac43379fec733ad2c24f1c": {
          "model_module": "@jupyter-widgets/base",
          "model_name": "LayoutModel",
          "model_module_version": "1.2.0",
          "state": {
            "_model_module": "@jupyter-widgets/base",
            "_model_module_version": "1.2.0",
            "_model_name": "LayoutModel",
            "_view_count": null,
            "_view_module": "@jupyter-widgets/base",
            "_view_module_version": "1.2.0",
            "_view_name": "LayoutView",
            "align_content": null,
            "align_items": null,
            "align_self": null,
            "border": null,
            "bottom": null,
            "display": null,
            "flex": null,
            "flex_flow": null,
            "grid_area": null,
            "grid_auto_columns": null,
            "grid_auto_flow": null,
            "grid_auto_rows": null,
            "grid_column": null,
            "grid_gap": null,
            "grid_row": null,
            "grid_template_areas": null,
            "grid_template_columns": null,
            "grid_template_rows": null,
            "height": null,
            "justify_content": null,
            "justify_items": null,
            "left": null,
            "margin": null,
            "max_height": null,
            "max_width": null,
            "min_height": null,
            "min_width": null,
            "object_fit": null,
            "object_position": null,
            "order": null,
            "overflow": null,
            "overflow_x": null,
            "overflow_y": null,
            "padding": null,
            "right": null,
            "top": null,
            "visibility": null,
            "width": null
          }
        },
        "a0e92f329113491cabcf318afecb48f0": {
          "model_module": "@jupyter-widgets/controls",
          "model_name": "ProgressStyleModel",
          "model_module_version": "1.5.0",
          "state": {
            "_model_module": "@jupyter-widgets/controls",
            "_model_module_version": "1.5.0",
            "_model_name": "ProgressStyleModel",
            "_view_count": null,
            "_view_module": "@jupyter-widgets/base",
            "_view_module_version": "1.2.0",
            "_view_name": "StyleView",
            "bar_color": null,
            "description_width": ""
          }
        },
        "8451fb7f138d4f23831d848ae93f5d91": {
          "model_module": "@jupyter-widgets/base",
          "model_name": "LayoutModel",
          "model_module_version": "1.2.0",
          "state": {
            "_model_module": "@jupyter-widgets/base",
            "_model_module_version": "1.2.0",
            "_model_name": "LayoutModel",
            "_view_count": null,
            "_view_module": "@jupyter-widgets/base",
            "_view_module_version": "1.2.0",
            "_view_name": "LayoutView",
            "align_content": null,
            "align_items": null,
            "align_self": null,
            "border": null,
            "bottom": null,
            "display": null,
            "flex": null,
            "flex_flow": null,
            "grid_area": null,
            "grid_auto_columns": null,
            "grid_auto_flow": null,
            "grid_auto_rows": null,
            "grid_column": null,
            "grid_gap": null,
            "grid_row": null,
            "grid_template_areas": null,
            "grid_template_columns": null,
            "grid_template_rows": null,
            "height": null,
            "justify_content": null,
            "justify_items": null,
            "left": null,
            "margin": null,
            "max_height": null,
            "max_width": null,
            "min_height": null,
            "min_width": null,
            "object_fit": null,
            "object_position": null,
            "order": null,
            "overflow": null,
            "overflow_x": null,
            "overflow_y": null,
            "padding": null,
            "right": null,
            "top": null,
            "visibility": null,
            "width": null
          }
        },
        "a77c65171797451abf4999fa302691ed": {
          "model_module": "@jupyter-widgets/controls",
          "model_name": "DescriptionStyleModel",
          "model_module_version": "1.5.0",
          "state": {
            "_model_module": "@jupyter-widgets/controls",
            "_model_module_version": "1.5.0",
            "_model_name": "DescriptionStyleModel",
            "_view_count": null,
            "_view_module": "@jupyter-widgets/base",
            "_view_module_version": "1.2.0",
            "_view_name": "StyleView",
            "description_width": ""
          }
        },
        "01613a96b1e243759646dd385c9f4c8a": {
          "model_module": "@jupyter-widgets/controls",
          "model_name": "HBoxModel",
          "model_module_version": "1.5.0",
          "state": {
            "_dom_classes": [],
            "_model_module": "@jupyter-widgets/controls",
            "_model_module_version": "1.5.0",
            "_model_name": "HBoxModel",
            "_view_count": null,
            "_view_module": "@jupyter-widgets/controls",
            "_view_module_version": "1.5.0",
            "_view_name": "HBoxView",
            "box_style": "",
            "children": [
              "IPY_MODEL_92576a3431144ce2826a2e18e63dd4b3",
              "IPY_MODEL_69f5eef1e67e4cba8ed3a952844bd0a0",
              "IPY_MODEL_3aee976b8476495d9be89bedfbf609f8"
            ],
            "layout": "IPY_MODEL_df0a2aae1511470bbdaa9c104cd8efc1"
          }
        },
        "92576a3431144ce2826a2e18e63dd4b3": {
          "model_module": "@jupyter-widgets/controls",
          "model_name": "HTMLModel",
          "model_module_version": "1.5.0",
          "state": {
            "_dom_classes": [],
            "_model_module": "@jupyter-widgets/controls",
            "_model_module_version": "1.5.0",
            "_model_name": "HTMLModel",
            "_view_count": null,
            "_view_module": "@jupyter-widgets/controls",
            "_view_module_version": "1.5.0",
            "_view_name": "HTMLView",
            "description": "",
            "description_tooltip": null,
            "layout": "IPY_MODEL_df72df8338d54db7afde371a526cfc6b",
            "placeholder": "​",
            "style": "IPY_MODEL_1835e6abf6904bb19ae02fea2c162f1a",
            "value": "100%"
          }
        },
        "69f5eef1e67e4cba8ed3a952844bd0a0": {
          "model_module": "@jupyter-widgets/controls",
          "model_name": "FloatProgressModel",
          "model_module_version": "1.5.0",
          "state": {
            "_dom_classes": [],
            "_model_module": "@jupyter-widgets/controls",
            "_model_module_version": "1.5.0",
            "_model_name": "FloatProgressModel",
            "_view_count": null,
            "_view_module": "@jupyter-widgets/controls",
            "_view_module_version": "1.5.0",
            "_view_name": "ProgressView",
            "bar_style": "success",
            "description": "",
            "description_tooltip": null,
            "layout": "IPY_MODEL_68bfaa350e0549f1936bfa1eb3d3092c",
            "max": 143,
            "min": 0,
            "orientation": "horizontal",
            "style": "IPY_MODEL_c25db0bad885411886b87e185b030b22",
            "value": 143
          }
        },
        "3aee976b8476495d9be89bedfbf609f8": {
          "model_module": "@jupyter-widgets/controls",
          "model_name": "HTMLModel",
          "model_module_version": "1.5.0",
          "state": {
            "_dom_classes": [],
            "_model_module": "@jupyter-widgets/controls",
            "_model_module_version": "1.5.0",
            "_model_name": "HTMLModel",
            "_view_count": null,
            "_view_module": "@jupyter-widgets/controls",
            "_view_module_version": "1.5.0",
            "_view_name": "HTMLView",
            "description": "",
            "description_tooltip": null,
            "layout": "IPY_MODEL_aae08be4d4764aa6aea1f947915f625c",
            "placeholder": "​",
            "style": "IPY_MODEL_ef6922af66bc45b2ab073f1d8fdae808",
            "value": " 143/143 [00:00&lt;00:00, 2516.02it/s]"
          }
        },
        "df0a2aae1511470bbdaa9c104cd8efc1": {
          "model_module": "@jupyter-widgets/base",
          "model_name": "LayoutModel",
          "model_module_version": "1.2.0",
          "state": {
            "_model_module": "@jupyter-widgets/base",
            "_model_module_version": "1.2.0",
            "_model_name": "LayoutModel",
            "_view_count": null,
            "_view_module": "@jupyter-widgets/base",
            "_view_module_version": "1.2.0",
            "_view_name": "LayoutView",
            "align_content": null,
            "align_items": null,
            "align_self": null,
            "border": null,
            "bottom": null,
            "display": null,
            "flex": null,
            "flex_flow": null,
            "grid_area": null,
            "grid_auto_columns": null,
            "grid_auto_flow": null,
            "grid_auto_rows": null,
            "grid_column": null,
            "grid_gap": null,
            "grid_row": null,
            "grid_template_areas": null,
            "grid_template_columns": null,
            "grid_template_rows": null,
            "height": null,
            "justify_content": null,
            "justify_items": null,
            "left": null,
            "margin": null,
            "max_height": null,
            "max_width": null,
            "min_height": null,
            "min_width": null,
            "object_fit": null,
            "object_position": null,
            "order": null,
            "overflow": null,
            "overflow_x": null,
            "overflow_y": null,
            "padding": null,
            "right": null,
            "top": null,
            "visibility": null,
            "width": null
          }
        },
        "df72df8338d54db7afde371a526cfc6b": {
          "model_module": "@jupyter-widgets/base",
          "model_name": "LayoutModel",
          "model_module_version": "1.2.0",
          "state": {
            "_model_module": "@jupyter-widgets/base",
            "_model_module_version": "1.2.0",
            "_model_name": "LayoutModel",
            "_view_count": null,
            "_view_module": "@jupyter-widgets/base",
            "_view_module_version": "1.2.0",
            "_view_name": "LayoutView",
            "align_content": null,
            "align_items": null,
            "align_self": null,
            "border": null,
            "bottom": null,
            "display": null,
            "flex": null,
            "flex_flow": null,
            "grid_area": null,
            "grid_auto_columns": null,
            "grid_auto_flow": null,
            "grid_auto_rows": null,
            "grid_column": null,
            "grid_gap": null,
            "grid_row": null,
            "grid_template_areas": null,
            "grid_template_columns": null,
            "grid_template_rows": null,
            "height": null,
            "justify_content": null,
            "justify_items": null,
            "left": null,
            "margin": null,
            "max_height": null,
            "max_width": null,
            "min_height": null,
            "min_width": null,
            "object_fit": null,
            "object_position": null,
            "order": null,
            "overflow": null,
            "overflow_x": null,
            "overflow_y": null,
            "padding": null,
            "right": null,
            "top": null,
            "visibility": null,
            "width": null
          }
        },
        "1835e6abf6904bb19ae02fea2c162f1a": {
          "model_module": "@jupyter-widgets/controls",
          "model_name": "DescriptionStyleModel",
          "model_module_version": "1.5.0",
          "state": {
            "_model_module": "@jupyter-widgets/controls",
            "_model_module_version": "1.5.0",
            "_model_name": "DescriptionStyleModel",
            "_view_count": null,
            "_view_module": "@jupyter-widgets/base",
            "_view_module_version": "1.2.0",
            "_view_name": "StyleView",
            "description_width": ""
          }
        },
        "68bfaa350e0549f1936bfa1eb3d3092c": {
          "model_module": "@jupyter-widgets/base",
          "model_name": "LayoutModel",
          "model_module_version": "1.2.0",
          "state": {
            "_model_module": "@jupyter-widgets/base",
            "_model_module_version": "1.2.0",
            "_model_name": "LayoutModel",
            "_view_count": null,
            "_view_module": "@jupyter-widgets/base",
            "_view_module_version": "1.2.0",
            "_view_name": "LayoutView",
            "align_content": null,
            "align_items": null,
            "align_self": null,
            "border": null,
            "bottom": null,
            "display": null,
            "flex": null,
            "flex_flow": null,
            "grid_area": null,
            "grid_auto_columns": null,
            "grid_auto_flow": null,
            "grid_auto_rows": null,
            "grid_column": null,
            "grid_gap": null,
            "grid_row": null,
            "grid_template_areas": null,
            "grid_template_columns": null,
            "grid_template_rows": null,
            "height": null,
            "justify_content": null,
            "justify_items": null,
            "left": null,
            "margin": null,
            "max_height": null,
            "max_width": null,
            "min_height": null,
            "min_width": null,
            "object_fit": null,
            "object_position": null,
            "order": null,
            "overflow": null,
            "overflow_x": null,
            "overflow_y": null,
            "padding": null,
            "right": null,
            "top": null,
            "visibility": null,
            "width": null
          }
        },
        "c25db0bad885411886b87e185b030b22": {
          "model_module": "@jupyter-widgets/controls",
          "model_name": "ProgressStyleModel",
          "model_module_version": "1.5.0",
          "state": {
            "_model_module": "@jupyter-widgets/controls",
            "_model_module_version": "1.5.0",
            "_model_name": "ProgressStyleModel",
            "_view_count": null,
            "_view_module": "@jupyter-widgets/base",
            "_view_module_version": "1.2.0",
            "_view_name": "StyleView",
            "bar_color": null,
            "description_width": ""
          }
        },
        "aae08be4d4764aa6aea1f947915f625c": {
          "model_module": "@jupyter-widgets/base",
          "model_name": "LayoutModel",
          "model_module_version": "1.2.0",
          "state": {
            "_model_module": "@jupyter-widgets/base",
            "_model_module_version": "1.2.0",
            "_model_name": "LayoutModel",
            "_view_count": null,
            "_view_module": "@jupyter-widgets/base",
            "_view_module_version": "1.2.0",
            "_view_name": "LayoutView",
            "align_content": null,
            "align_items": null,
            "align_self": null,
            "border": null,
            "bottom": null,
            "display": null,
            "flex": null,
            "flex_flow": null,
            "grid_area": null,
            "grid_auto_columns": null,
            "grid_auto_flow": null,
            "grid_auto_rows": null,
            "grid_column": null,
            "grid_gap": null,
            "grid_row": null,
            "grid_template_areas": null,
            "grid_template_columns": null,
            "grid_template_rows": null,
            "height": null,
            "justify_content": null,
            "justify_items": null,
            "left": null,
            "margin": null,
            "max_height": null,
            "max_width": null,
            "min_height": null,
            "min_width": null,
            "object_fit": null,
            "object_position": null,
            "order": null,
            "overflow": null,
            "overflow_x": null,
            "overflow_y": null,
            "padding": null,
            "right": null,
            "top": null,
            "visibility": null,
            "width": null
          }
        },
        "ef6922af66bc45b2ab073f1d8fdae808": {
          "model_module": "@jupyter-widgets/controls",
          "model_name": "DescriptionStyleModel",
          "model_module_version": "1.5.0",
          "state": {
            "_model_module": "@jupyter-widgets/controls",
            "_model_module_version": "1.5.0",
            "_model_name": "DescriptionStyleModel",
            "_view_count": null,
            "_view_module": "@jupyter-widgets/base",
            "_view_module_version": "1.2.0",
            "_view_name": "StyleView",
            "description_width": ""
          }
        },
        "04bccb4bb6b3422596f35c50c7489fe3": {
          "model_module": "@jupyter-widgets/controls",
          "model_name": "HBoxModel",
          "model_module_version": "1.5.0",
          "state": {
            "_dom_classes": [],
            "_model_module": "@jupyter-widgets/controls",
            "_model_module_version": "1.5.0",
            "_model_name": "HBoxModel",
            "_view_count": null,
            "_view_module": "@jupyter-widgets/controls",
            "_view_module_version": "1.5.0",
            "_view_name": "HBoxView",
            "box_style": "",
            "children": [
              "IPY_MODEL_ef28c6681a134c6c8852b7f23cc973ee",
              "IPY_MODEL_77bfe67182c94b3c885d2d4a65c3f27c",
              "IPY_MODEL_169943916f9b4abdbf3d2c58531abbfc"
            ],
            "layout": "IPY_MODEL_498009b8819b49388ee267b9ddd730c2"
          }
        },
        "ef28c6681a134c6c8852b7f23cc973ee": {
          "model_module": "@jupyter-widgets/controls",
          "model_name": "HTMLModel",
          "model_module_version": "1.5.0",
          "state": {
            "_dom_classes": [],
            "_model_module": "@jupyter-widgets/controls",
            "_model_module_version": "1.5.0",
            "_model_name": "HTMLModel",
            "_view_count": null,
            "_view_module": "@jupyter-widgets/controls",
            "_view_module_version": "1.5.0",
            "_view_name": "HTMLView",
            "description": "",
            "description_tooltip": null,
            "layout": "IPY_MODEL_21b05ec7bf32455895dd78feb6e279cd",
            "placeholder": "​",
            "style": "IPY_MODEL_75c3a13a466847f4993bc7ee9b90da0e",
            "value": "100%"
          }
        },
        "77bfe67182c94b3c885d2d4a65c3f27c": {
          "model_module": "@jupyter-widgets/controls",
          "model_name": "FloatProgressModel",
          "model_module_version": "1.5.0",
          "state": {
            "_dom_classes": [],
            "_model_module": "@jupyter-widgets/controls",
            "_model_module_version": "1.5.0",
            "_model_name": "FloatProgressModel",
            "_view_count": null,
            "_view_module": "@jupyter-widgets/controls",
            "_view_module_version": "1.5.0",
            "_view_name": "ProgressView",
            "bar_style": "success",
            "description": "",
            "description_tooltip": null,
            "layout": "IPY_MODEL_0d19f3a8cdf2428ab7b4ab889cca0cbb",
            "max": 42146,
            "min": 0,
            "orientation": "horizontal",
            "style": "IPY_MODEL_7ff693eb4d1743cea3653699b4f990ea",
            "value": 42146
          }
        },
        "169943916f9b4abdbf3d2c58531abbfc": {
          "model_module": "@jupyter-widgets/controls",
          "model_name": "HTMLModel",
          "model_module_version": "1.5.0",
          "state": {
            "_dom_classes": [],
            "_model_module": "@jupyter-widgets/controls",
            "_model_module_version": "1.5.0",
            "_model_name": "HTMLModel",
            "_view_count": null,
            "_view_module": "@jupyter-widgets/controls",
            "_view_module_version": "1.5.0",
            "_view_name": "HTMLView",
            "description": "",
            "description_tooltip": null,
            "layout": "IPY_MODEL_6896ac44adbb4fe9bccb9041bd05449f",
            "placeholder": "​",
            "style": "IPY_MODEL_3e834724700b4346a0c9c3bca598f6e7",
            "value": " 42146/42146 [00:17&lt;00:00, 2512.34it/s]"
          }
        },
        "498009b8819b49388ee267b9ddd730c2": {
          "model_module": "@jupyter-widgets/base",
          "model_name": "LayoutModel",
          "model_module_version": "1.2.0",
          "state": {
            "_model_module": "@jupyter-widgets/base",
            "_model_module_version": "1.2.0",
            "_model_name": "LayoutModel",
            "_view_count": null,
            "_view_module": "@jupyter-widgets/base",
            "_view_module_version": "1.2.0",
            "_view_name": "LayoutView",
            "align_content": null,
            "align_items": null,
            "align_self": null,
            "border": null,
            "bottom": null,
            "display": null,
            "flex": null,
            "flex_flow": null,
            "grid_area": null,
            "grid_auto_columns": null,
            "grid_auto_flow": null,
            "grid_auto_rows": null,
            "grid_column": null,
            "grid_gap": null,
            "grid_row": null,
            "grid_template_areas": null,
            "grid_template_columns": null,
            "grid_template_rows": null,
            "height": null,
            "justify_content": null,
            "justify_items": null,
            "left": null,
            "margin": null,
            "max_height": null,
            "max_width": null,
            "min_height": null,
            "min_width": null,
            "object_fit": null,
            "object_position": null,
            "order": null,
            "overflow": null,
            "overflow_x": null,
            "overflow_y": null,
            "padding": null,
            "right": null,
            "top": null,
            "visibility": null,
            "width": null
          }
        },
        "21b05ec7bf32455895dd78feb6e279cd": {
          "model_module": "@jupyter-widgets/base",
          "model_name": "LayoutModel",
          "model_module_version": "1.2.0",
          "state": {
            "_model_module": "@jupyter-widgets/base",
            "_model_module_version": "1.2.0",
            "_model_name": "LayoutModel",
            "_view_count": null,
            "_view_module": "@jupyter-widgets/base",
            "_view_module_version": "1.2.0",
            "_view_name": "LayoutView",
            "align_content": null,
            "align_items": null,
            "align_self": null,
            "border": null,
            "bottom": null,
            "display": null,
            "flex": null,
            "flex_flow": null,
            "grid_area": null,
            "grid_auto_columns": null,
            "grid_auto_flow": null,
            "grid_auto_rows": null,
            "grid_column": null,
            "grid_gap": null,
            "grid_row": null,
            "grid_template_areas": null,
            "grid_template_columns": null,
            "grid_template_rows": null,
            "height": null,
            "justify_content": null,
            "justify_items": null,
            "left": null,
            "margin": null,
            "max_height": null,
            "max_width": null,
            "min_height": null,
            "min_width": null,
            "object_fit": null,
            "object_position": null,
            "order": null,
            "overflow": null,
            "overflow_x": null,
            "overflow_y": null,
            "padding": null,
            "right": null,
            "top": null,
            "visibility": null,
            "width": null
          }
        },
        "75c3a13a466847f4993bc7ee9b90da0e": {
          "model_module": "@jupyter-widgets/controls",
          "model_name": "DescriptionStyleModel",
          "model_module_version": "1.5.0",
          "state": {
            "_model_module": "@jupyter-widgets/controls",
            "_model_module_version": "1.5.0",
            "_model_name": "DescriptionStyleModel",
            "_view_count": null,
            "_view_module": "@jupyter-widgets/base",
            "_view_module_version": "1.2.0",
            "_view_name": "StyleView",
            "description_width": ""
          }
        },
        "0d19f3a8cdf2428ab7b4ab889cca0cbb": {
          "model_module": "@jupyter-widgets/base",
          "model_name": "LayoutModel",
          "model_module_version": "1.2.0",
          "state": {
            "_model_module": "@jupyter-widgets/base",
            "_model_module_version": "1.2.0",
            "_model_name": "LayoutModel",
            "_view_count": null,
            "_view_module": "@jupyter-widgets/base",
            "_view_module_version": "1.2.0",
            "_view_name": "LayoutView",
            "align_content": null,
            "align_items": null,
            "align_self": null,
            "border": null,
            "bottom": null,
            "display": null,
            "flex": null,
            "flex_flow": null,
            "grid_area": null,
            "grid_auto_columns": null,
            "grid_auto_flow": null,
            "grid_auto_rows": null,
            "grid_column": null,
            "grid_gap": null,
            "grid_row": null,
            "grid_template_areas": null,
            "grid_template_columns": null,
            "grid_template_rows": null,
            "height": null,
            "justify_content": null,
            "justify_items": null,
            "left": null,
            "margin": null,
            "max_height": null,
            "max_width": null,
            "min_height": null,
            "min_width": null,
            "object_fit": null,
            "object_position": null,
            "order": null,
            "overflow": null,
            "overflow_x": null,
            "overflow_y": null,
            "padding": null,
            "right": null,
            "top": null,
            "visibility": null,
            "width": null
          }
        },
        "7ff693eb4d1743cea3653699b4f990ea": {
          "model_module": "@jupyter-widgets/controls",
          "model_name": "ProgressStyleModel",
          "model_module_version": "1.5.0",
          "state": {
            "_model_module": "@jupyter-widgets/controls",
            "_model_module_version": "1.5.0",
            "_model_name": "ProgressStyleModel",
            "_view_count": null,
            "_view_module": "@jupyter-widgets/base",
            "_view_module_version": "1.2.0",
            "_view_name": "StyleView",
            "bar_color": null,
            "description_width": ""
          }
        },
        "6896ac44adbb4fe9bccb9041bd05449f": {
          "model_module": "@jupyter-widgets/base",
          "model_name": "LayoutModel",
          "model_module_version": "1.2.0",
          "state": {
            "_model_module": "@jupyter-widgets/base",
            "_model_module_version": "1.2.0",
            "_model_name": "LayoutModel",
            "_view_count": null,
            "_view_module": "@jupyter-widgets/base",
            "_view_module_version": "1.2.0",
            "_view_name": "LayoutView",
            "align_content": null,
            "align_items": null,
            "align_self": null,
            "border": null,
            "bottom": null,
            "display": null,
            "flex": null,
            "flex_flow": null,
            "grid_area": null,
            "grid_auto_columns": null,
            "grid_auto_flow": null,
            "grid_auto_rows": null,
            "grid_column": null,
            "grid_gap": null,
            "grid_row": null,
            "grid_template_areas": null,
            "grid_template_columns": null,
            "grid_template_rows": null,
            "height": null,
            "justify_content": null,
            "justify_items": null,
            "left": null,
            "margin": null,
            "max_height": null,
            "max_width": null,
            "min_height": null,
            "min_width": null,
            "object_fit": null,
            "object_position": null,
            "order": null,
            "overflow": null,
            "overflow_x": null,
            "overflow_y": null,
            "padding": null,
            "right": null,
            "top": null,
            "visibility": null,
            "width": null
          }
        },
        "3e834724700b4346a0c9c3bca598f6e7": {
          "model_module": "@jupyter-widgets/controls",
          "model_name": "DescriptionStyleModel",
          "model_module_version": "1.5.0",
          "state": {
            "_model_module": "@jupyter-widgets/controls",
            "_model_module_version": "1.5.0",
            "_model_name": "DescriptionStyleModel",
            "_view_count": null,
            "_view_module": "@jupyter-widgets/base",
            "_view_module_version": "1.2.0",
            "_view_name": "StyleView",
            "description_width": ""
          }
        }
      }
    }
  },
  "nbformat": 4,
  "nbformat_minor": 0
}