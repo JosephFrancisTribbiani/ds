{
 "cells": [
  {
   "cell_type": "markdown",
   "metadata": {},
   "source": [
    "# Импорты"
   ]
  },
  {
   "cell_type": "code",
   "execution_count": 11,
   "metadata": {},
   "outputs": [],
   "source": [
    "import pandas as pd\n",
    "import numpy as np\n",
    "\n",
    "import matplotlib.pyplot as plt\n",
    "\n",
    "import warnings\n",
    "warnings.filterwarnings('ignore')"
   ]
  },
  {
   "cell_type": "markdown",
   "metadata": {},
   "source": [
    "# Случайные величины. Нормальный закон распределения."
   ]
  },
  {
   "cell_type": "markdown",
   "metadata": {},
   "source": [
    "Случайные величины бывают:\n",
    "- дискретные\n",
    "- непрерывные"
   ]
  },
  {
   "cell_type": "markdown",
   "metadata": {},
   "source": [
    "Смоделируем броски игральной кости."
   ]
  },
  {
   "cell_type": "code",
   "execution_count": 19,
   "metadata": {},
   "outputs": [
    {
     "data": {
      "image/png": "[encoded data removed]",
      "text/plain": [
       "<Figure size 1440x288 with 4 Axes>"
      ]
     },
     "metadata": {
      "needs_background": "light"
     },
     "output_type": "display_data"
    }
   ],
   "source": [
    "# количество бросков игральной кости\n",
    "rolls = [20, 200, 2000, 20000]\n",
    "sides = np.arange(1, 7)\n",
    "\n",
    "# моделируем броски\n",
    "fig, ax = plt.subplots(ncols=len(rolls), nrows=1, figsize=(20, 4))\n",
    "for i, roll in enumerate(rolls):\n",
    "    sample = np.random.choice(sides, size=roll)\n",
    "    _, outcomes = np.unique(sample, return_counts=True)\n",
    "    outcomes = outcomes / roll\n",
    "\n",
    "    ax[i].bar(x=sides, height=outcomes)\n",
    "    ax[i].set_title(f'{roll} rolls')\n",
    "fig.show();"
   ]
  },
  {
   "cell_type": "markdown",
   "metadata": {},
   "source": [
    "Мы видим, что с ростом количества бросков кубика, их выборочные вероятности стремятся к теоретическим вероятностя ($ \\frac{1}{6} = 0.16667 $)"
   ]
  },
  {
   "cell_type": "markdown",
   "metadata": {},
   "source": [
    "# Функция распределения."
   ]
  },
  {
   "cell_type": "markdown",
   "metadata": {},
   "source": [
    "Функция распределения:\n",
    "\n",
    "$$ F(x) = P(X <= x) $$\n",
    "\n",
    "Вероятность того, что СВ окажется в заданом интервале:\n",
    "\n",
    "$$ P(a < X <= b) = F(b) - F(a) $$\n",
    "\n"
   ]
  },
  {
   "cell_type": "code",
   "execution_count": null,
   "metadata": {},
   "outputs": [],
   "source": []
  },
  {
   "cell_type": "markdown",
   "metadata": {},
   "source": []
  }
 ],
 "metadata": {
  "interpreter": {
   "hash": "7a94a197ed535ce785f6ac774bfc359b08ecdcadeb5879d84a01d12a5c74c861"
  },
  "kernelspec": {
   "display_name": "Python 3.8.3 ('base')",
   "language": "python",
   "name": "python3"
  },
  "language_info": {
   "codemirror_mode": {
    "name": "ipython",
    "version": 3
   },
   "file_extension": ".py",
   "mimetype": "text/x-python",
   "name": "python",
   "nbconvert_exporter": "python",
   "pygments_lexer": "ipython3",
   "version": "3.8.3"
  },
  "orig_nbformat": 4
 },
 "nbformat": 4,
 "nbformat_minor": 2
}
