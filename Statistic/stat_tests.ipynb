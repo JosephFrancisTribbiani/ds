{
 "cells": [
  {
   "cell_type": "markdown",
   "id": "f7709968",
   "metadata": {},
   "source": [
    "## Критерий согласия Пирсона"
   ]
  },
  {
   "cell_type": "markdown",
   "id": "eee6163a",
   "metadata": {},
   "source": [
    "Также называется критерием **согласия $\\chi^{2}$**.\n",
    "\n",
    "Это **непараметрический** метод, позволяющий оценить значимость различий между фактическим (выявленным в результате исследования) количеством исходов или качественных характеристик выборки, попадающих в каждую категорию, и теоретическим количеством, которое можно ожидать в изучаемых группах при справедливости нулевой гипотезы.\n",
    "\n",
    "Наиболее употребляемый критерий для проверки гипотезы о принадлежности наблюдаемой выборки $x_1, x_2, \\ldots, x_n$ объемом $n$ некоторому теоретическому закону распределения $Z$."
   ]
  },
  {
   "cell_type": "markdown",
   "id": "d0422ff7",
   "metadata": {},
   "source": [
    "$$\n",
    "\\begin{equation*}\n",
    "\\begin{cases}\n",
    "H_{0}: X \\sim Z\\\\\n",
    "H_{1}: X \\nsim Z\n",
    "\\end{cases}\n",
    "\\end{equation*}\n",
    "$$"
   ]
  },
  {
   "cell_type": "markdown",
   "id": "cfdc2dbf",
   "metadata": {},
   "source": [
    "К примеру, у нас есть выборка размера $n = 1000$. И мы предполагаем, что данная выборка принадлежит рапределению $N(-2, 5)$."
   ]
  },
  {
   "cell_type": "code",
   "execution_count": 25,
   "id": "22985eb2",
   "metadata": {
    "ExecuteTime": {
     "end_time": "2022-11-03T06:04:40.790120Z",
     "start_time": "2022-11-03T06:04:40.262045Z"
    }
   },
   "outputs": [
    {
     "data": {
      "image/png": "[encoded data removed]",
      "text/plain": [
       "<Figure size 1008x288 with 1 Axes>"
      ]
     },
     "metadata": {
      "needs_background": "light"
     },
     "output_type": "display_data"
    }
   ],
   "source": [
    "import scipy.stats as stats\n",
    "import seaborn as sns\n",
    "import matplotlib.pyplot as plt\n",
    "import numpy as np\n",
    "import pandas as pd\n",
    "\n",
    "\n",
    "n = 1000\n",
    "loc, scale = -2, 5\n",
    "\n",
    "# генерируем псевдослучайную выборку для проведения эксперимента\n",
    "sample = stats.norm.rvs(loc=-2, scale=5, size=n)\n",
    "\n",
    "# функция плотности теоретического распределения, принадлежность нашей выборки к которому мы хотим проверить\n",
    "x = np.linspace(\n",
    "    stats.norm.ppf(0.001, loc=loc, scale=scale),\n",
    "    stats.norm.ppf(0.999, loc=loc, scale=scale), 1000\n",
    ")\n",
    "y = stats.norm.pdf(x, loc=loc, scale=scale)\n",
    "\n",
    "fig, ax = plt.subplots(figsize=(14, 4))\n",
    "sns.histplot(sample, stat=\"density\", bins=24, ax=ax)\n",
    "sns.lineplot(x=x, y=y, ax=ax, c=\"black\")\n",
    "ax.legend([\n",
    "    \"Теоретическое распределение $N(-2, 5)$\", \n",
    "    \"Эмпирические частоты (выборка)\"], loc=1)\n",
    "fig.show()"
   ]
  },
  {
   "cell_type": "markdown",
   "id": "196f9e36",
   "metadata": {},
   "source": [
    "Как мы видим, между **эмпирическими частотами** и **теоретическим распределением** существует разница. И возникает вопрос, **объясняются ли эти расхождения только случайными обстоятельствами, или же они являются следствием того, теоретическое распределение плохо описывает природу наших данных?**"
   ]
  },
  {
   "cell_type": "markdown",
   "id": "8e1b423c",
   "metadata": {},
   "source": [
    "Карл Пирсон разработал математический инструмент проверки нулевой гипотезы $H_0$, что **теоретическая кривая корректно описывает экспериментальные данные гистограммы.**"
   ]
  },
  {
   "cell_type": "code",
   "execution_count": 71,
   "id": "1fd8b58e",
   "metadata": {
    "ExecuteTime": {
     "end_time": "2022-11-03T06:28:43.390385Z",
     "start_time": "2022-11-03T06:28:43.382194Z"
    }
   },
   "outputs": [],
   "source": [
    "?np.unique"
   ]
  },
  {
   "cell_type": "code",
   "execution_count": 72,
   "id": "eb12c94a",
   "metadata": {
    "ExecuteTime": {
     "end_time": "2022-11-03T06:29:35.853076Z",
     "start_time": "2022-11-03T06:29:35.826492Z"
    }
   },
   "outputs": [
    {
     "data": {
      "text/plain": [
       "[[-3.369, -1.905), [-3.369, -1.905), [1.023, 2.487), [-6.298, -4.834), [2.487, 3.951), ..., [-9.226, -7.762), [2.487, 3.951), [-7.762, -6.298), [-9.226, -7.762), [2.487, 3.951)]\n",
       "Length: 1000\n",
       "Categories (24, interval[float64]): [[-19.475, -18.011) < [-18.011, -16.547) < [-16.547, -15.083) < [-15.083, -13.618) ... [9.808, 11.272) < [11.272, 12.736) < [12.736, 14.2) < [14.2, 15.699)]"
      ]
     },
     "execution_count": 72,
     "metadata": {},
     "output_type": "execute_result"
    }
   ],
   "source": [
    "# разобьем выборку на интервалы и посчитаем количество значений выборки, попадающих в каждый интервал\n",
    "splitted = pd.cut(sample, bins=24, right=False)\n",
    "intervals, int_count = np.unique(splitted, return_counts=True)\n",
    "\n",
    "splitted"
   ]
  },
  {
   "cell_type": "code",
   "execution_count": 75,
   "id": "ac6772da",
   "metadata": {
    "ExecuteTime": {
     "end_time": "2022-11-03T06:30:13.876290Z",
     "start_time": "2022-11-03T06:30:13.870810Z"
    }
   },
   "outputs": [
    {
     "data": {
      "text/plain": [
       "array([Interval(-19.475, -18.011, closed='left'),\n",
       "       Interval(-18.011, -16.547, closed='left'),\n",
       "       Interval(-16.547, -15.083, closed='left'),\n",
       "       Interval(-15.083, -13.618, closed='left'),\n",
       "       Interval(-13.618, -12.154, closed='left'),\n",
       "       Interval(-12.154, -10.69, closed='left'),\n",
       "       Interval(-10.69, -9.226, closed='left'),\n",
       "       Interval(-9.226, -7.762, closed='left'),\n",
       "       Interval(-7.762, -6.298, closed='left'),\n",
       "       Interval(-6.298, -4.834, closed='left'),\n",
       "       Interval(-4.834, -3.369, closed='left'),\n",
       "       Interval(-3.369, -1.905, closed='left'),\n",
       "       Interval(-1.905, -0.441, closed='left'),\n",
       "       Interval(-0.441, 1.023, closed='left'),\n",
       "       Interval(1.023, 2.487, closed='left'),\n",
       "       Interval(2.487, 3.951, closed='left'),\n",
       "       Interval(3.951, 5.415, closed='left'),\n",
       "       Interval(5.415, 6.879, closed='left'),\n",
       "       Interval(6.879, 8.344, closed='left'),\n",
       "       Interval(8.344, 9.808, closed='left'),\n",
       "       Interval(9.808, 11.272, closed='left'),\n",
       "       Interval(11.272, 12.736, closed='left'),\n",
       "       Interval(14.2, 15.699, closed='left')], dtype=object)"
      ]
     },
     "execution_count": 75,
     "metadata": {},
     "output_type": "execute_result"
    }
   ],
   "source": [
    "intervals"
   ]
  },
  {
   "cell_type": "markdown",
   "id": "fc38ef95",
   "metadata": {},
   "source": [
    "## A/B тесты"
   ]
  },
  {
   "cell_type": "markdown",
   "id": "e0f6e979",
   "metadata": {},
   "source": [
    "Выполнено на базе [статьи](https://towardsdatascience.com/simple-and-complet-guide-to-a-b-testing-c34154d0ce5a) на medium."
   ]
  },
  {
   "cell_type": "code",
   "execution_count": 59,
   "id": "7f801bca",
   "metadata": {
    "ExecuteTime": {
     "end_time": "2022-10-31T10:41:59.511685Z",
     "start_time": "2022-10-31T10:41:59.507069Z"
    }
   },
   "outputs": [],
   "source": [
    "import numpy as np\n",
    "import pandas as pd\n",
    "import matplotlib.pyplot as plt\n",
    "import seaborn as sns\n",
    "import scipy.stats as stats"
   ]
  },
  {
   "cell_type": "markdown",
   "id": "67cbb498",
   "metadata": {},
   "source": [
    "### Определение"
   ]
  },
  {
   "cell_type": "markdown",
   "id": "ec385316",
   "metadata": {},
   "source": [
    "Взято из википедии:\n",
    "\n",
    "**А/В тестирование** - метод маркетингового исследования, суть которого заключается в том, что контрольная группа элементов сравнивается с набором тестовых групп, в которых один или несколько показателей были изменены для того, чтобы выяснить, какие изменения улучшают целевой показатель. Таким образом в ходе теста сравниваются вариант А и вариант В и целью которого является определение лучшего из двух протестированных вариантов.\n",
    "\n",
    "В ходе А/В теста формируются две подвыборки из \"популяции\" - контрольная (control) и проверяемая (variant), и определяется, статистически ли значима разница между этими двумя подвыборками.\n",
    "\n",
    "Существуют и другие варианты экспериментов, такие как ABC тестирование, мультивариативное тестирование."
   ]
  },
  {
   "cell_type": "markdown",
   "id": "a45bdad1",
   "metadata": {},
   "source": [
    "### Выбор целевого показателя для теста"
   ]
  },
  {
   "cell_type": "markdown",
   "id": "293a7d74",
   "metadata": {},
   "source": [
    "Один из самых важных этапов - выбор целевого показателя (метрики), на основании которого будет проводиться тестирование - выявление **статистически значимой разницы** между группами А и В.\n",
    "\n",
    "Метрики можно разделить по типам:\n",
    "\n",
    "1. Конверсия - доля пользователей от общего числа, совершивших какое-либо действие. Действием может быть заполнение формы, совершение покупки, регистрация, подписка на новости, клик на ссылку или блок (CTR - Click-Throught rate).\n",
    "2. Экономические  метрики - величина среднего чека, объем выручки на число пользоватлей и т.д. (как правило применимо для интернет магазинов).\n",
    "3. Поведенческие факторы - метрики, показывающие заинтересованность пользователей в ресурсе. Глубина просмотра страниц - число просмотренных страниц, отнесенное к числу посетителей на сайте, средняя продолжительность сессии, показатель отказов - для пользователей, покинувших сайи сразу после первого захода, коэффициент удержания.\n",
    "\n",
    "Основные метрики конверсии:\n",
    "\n",
    "- Click-Through Rate (CTR) или **кликабельность**, **показатель кливабельности**\n",
    "\n",
    "$$\n",
    "\\text{CTR} = \\frac{\\text{количество кликов}}{\\text{количество показов}} \\cdot 100 \\%\n",
    "$$\n",
    "\n",
    "где **количество показов** - общее количество показов, к примеру, баннера, пользователям, или количество сессий на сайте.\n",
    "\n",
    "- Click-Through Probability (CTP) или **кликабельность**, **показатель кликабельности**\n",
    "\n",
    "$$\n",
    "\\text{CTP} = \\frac{\\text{количество пользователей, совершивших хотя бы один клик}}{\\text{количество уникальных посетителей для каждой сраницы}} \\cdot 100 \\%\n",
    "$$\n",
    "\n",
    "в отличии от CTR, данная метрика не учитывает клики, совершенные одним пользователем в рамках одной сессии по одному элементу (например по одной кнопке по причине нетерпеливости пользователя)\n",
    "\n",
    "- Conversion rate - один из значимых показателей в интернет-маркетинге. Конверсией называют количственное соотношение пользователей сайта, которые совершили целевое действие, к общему числу пользователей. Целевое действие, например, покупка игры на игровом портале. Также обобщает метрики CTR и CTP (это частные случаи конверсии).\n",
    "\n",
    "$$\n",
    "\\text{CR} = \\frac{\\text{converted}}{\\text{converted + not converted}} \\cdot 100 \\%\n",
    "$$"
   ]
  },
  {
   "cell_type": "markdown",
   "id": "f086267c",
   "metadata": {},
   "source": [
    "К примеру, необходимо посчитать CR сайта продажи видеоигры. Для этого:\n",
    "- Выбираем определенный период, за который мы хотим посчитать CR - это может быть день, неделя, месяц, квартал или год.\n",
    "- Разделить количество покупок видеоигры на количество посетителей сайта и умножить на 100%.\n",
    "\n",
    "За июнь 2021 года на сайт зашло 4936 человек, 300 человек из которых купило видеоигру.\n",
    "\n",
    "$$\n",
    "\\text{CR} = \\frac{300}{4936} \\cdot 100\\% = ~6\\%\n",
    "$$"
   ]
  },
  {
   "cell_type": "markdown",
   "id": "b6064348",
   "metadata": {},
   "source": [
    "### Описание тестируемой гипотезы"
   ]
  },
  {
   "cell_type": "markdown",
   "id": "726cf722",
   "metadata": {},
   "source": [
    "А/В тестирование всегда основано на гипотезе, которую необходимо проверить. Например:\n",
    "\n",
    "$$\n",
    "\\begin{equation*}\n",
    "\\begin{cases}\n",
    "H_{0}: \\mu_{con} = \\mu_{exp} \\\\\n",
    "H_{1}: \\mu_{con} \\neq \\mu_{exp}\n",
    "\\end{cases}\n",
    "\\end{equation*}\n",
    "$$"
   ]
  },
  {
   "cell_type": "markdown",
   "id": "326fab5a",
   "metadata": {},
   "source": [
    "- Гипотеза $H_{0}$ (нулевая гипотеза) - новый дизайн сайта не влияет на конверсию (например на покупательность игры), т.е. никакого эффекта новое изменение не имеет. Если в ходе теста отвергнуть нулевую гипотезу не получилось, то мы ее принимаем и нет никакого смысла внедрять новый дизайн сайта.\n",
    "\n",
    "- Гипотеза $H_{1}$ (альтернативная гипотеза) - новый дизайн сайта влияет на конверсию. Если в ходе тестирования мы отвергаем нулевую гипотезу, то в таком случае мы принимаем альтернативную и внедряем новый дизайн сайта.\n",
    "\n",
    "- Ошибка первого рода - отвергаем нулевую гипотезу, когда на самом деле она верна. В нашем случае это означает, что мы внедрили изменения в дизайн нашего сайта, а в итоге он не оказал влияние на конверсию.\n",
    "\n",
    "- Ошибка второго рода - решили не внедрять новый дизайн, хотя на самом деле он имел бы влияние на конверсию."
   ]
  },
  {
   "cell_type": "markdown",
   "id": "513a7b51",
   "metadata": {},
   "source": [
    "### Как биномиальное и нормальное распределения вовлечены в A/B тестирование?"
   ]
  },
  {
   "cell_type": "code",
   "execution_count": null,
   "id": "8e85891e",
   "metadata": {},
   "outputs": [],
   "source": []
  }
 ],
 "metadata": {
  "kernelspec": {
   "display_name": "virtualenv_python37_basic",
   "language": "python",
   "name": "virtualenv_python37_basic"
  },
  "language_info": {
   "codemirror_mode": {
    "name": "ipython",
    "version": 3
   },
   "file_extension": ".py",
   "mimetype": "text/x-python",
   "name": "python",
   "nbconvert_exporter": "python",
   "pygments_lexer": "ipython3",
   "version": "3.7.3"
  },
  "toc": {
   "base_numbering": 1,
   "nav_menu": {},
   "number_sections": true,
   "sideBar": true,
   "skip_h1_title": false,
   "title_cell": "Table of Contents",
   "title_sidebar": "Contents",
   "toc_cell": false,
   "toc_position": {},
   "toc_section_display": true,
   "toc_window_display": false
  }
 },
 "nbformat": 4,
 "nbformat_minor": 5
}
