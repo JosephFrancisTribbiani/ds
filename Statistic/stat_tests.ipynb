{
 "cells": [
  {
   "cell_type": "markdown",
   "metadata": {},
   "source": [
    "## Z-test"
   ]
  },
  {
   "cell_type": "markdown",
   "metadata": {},
   "source": [
    "Это семейство статистических тестов, где исследуемая статистика (например выборочное среднее) подчиняется нормальному распределению."
   ]
  },
  {
   "cell_type": "markdown",
   "metadata": {},
   "source": [
    "Полезные ссылки:\n",
    "- [Z-Test Simply Explained](https://towardsdatascience.com/z-test-simply-explained-80b346e0e239)\n",
    "- [Один образец Z-теста: определение, формула и пример](https://www.codecamp.ru/blog/one-sample-z-test/)\n",
    "- [Z test — Demystified](https://medium.com/analytics-vidhya/z-test-demystified-f745c57c324c)"
   ]
  },
  {
   "cell_type": "markdown",
   "metadata": {},
   "source": [
    "#### Тест на разницу выборочного среднего и среднего генеральной совокупности (одновыборочный тест)"
   ]
  },
  {
   "cell_type": "markdown",
   "metadata": {},
   "source": [
    "Используется для определения статистически значима ли разница между **выборочным средним** и **средним генеральной совокупности**."
   ]
  },
  {
   "cell_type": "markdown",
   "metadata": {},
   "source": [
    "Согласно центральной предельной теореме (**ЦПТ**), **распределение выборочных средних $\\overline{X} = \\frac{1}{n} \\sum_{i=1}^{n} x_{i}$, сэмплированных из генеральной совокупности c параметрами $\\mu$ и $\\sigma$ выборок размера $n$, соответствует нормальному распределению $N(\\mu, \\sigma_{\\overline{x}})$**. Причем:\n",
    "\n",
    "$$\n",
    "E \\left ( \\overline{X} \\right ) = \\mu\n",
    "$$\n",
    "\n",
    "$$\n",
    "\\sigma_{\\overline{X}} = \\frac{\\sigma}{\\sqrt{n}}\n",
    "$$\n",
    "\n",
    "Т.е. с ростом размера выборки $n$ выборочное среднее $\\overline{X}$ стремится к среднему генеральной совокупности $\\mu$, а выборочное стандартное отклонение $\\sigma_{\\overline{X}}$ (также называется выборочной стандартной ошибкой среднего - $\\text{SE}_{\\overline{X}}$) уменьшается.\n",
    "\n",
    "Покажем это на эксперименте."
   ]
  },
  {
   "cell_type": "code",
   "execution_count": 23,
   "metadata": {
    "ExecuteTime": {
     "end_time": "2022-11-06T08:01:17.508684Z",
     "start_time": "2022-11-06T08:01:15.887875Z"
    },
    "scrolled": false
   },
   "outputs": [
    {
     "data": {
      "image/png": "[encoded data removed]",
      "text/plain": [
       "<Figure size 432x288 with 1 Axes>"
      ]
     },
     "metadata": {
      "needs_background": "light"
     },
     "output_type": "display_data"
    }
   ],
   "source": [
    "import scipy.stats as stats\n",
    "import matplotlib.pyplot as plt\n",
    "import seaborn as sns\n",
    "\n",
    "\n",
    "# параметры распределения генеральной совокупности\n",
    "mu_population, sigma_population = 25, 3\n",
    "\n",
    "# размеры выборок\n",
    "ns = np.arange(1, 400, 2)\n",
    "\n",
    "# количество выборок\n",
    "n_samples = 1000\n",
    "\n",
    "ses = list()\n",
    "for n in ns:\n",
    "    # сгенерируем n_samples выборок размера n из генеральной совокупности\n",
    "    samples = stats.norm.rvs(loc=mu_population, scale=sigma_population, size=(n_samples, n))\n",
    "    \n",
    "    # посчитаем выборочные средние\n",
    "    samples_mean = samples.mean(axis=1)\n",
    "    \n",
    "    # посчитаем стандартную ошибку среднего\n",
    "    se = samples_mean.std()\n",
    "    ses.append(se)\n",
    "    \n",
    "ax = sns.lineplot(x=ns, y=ses)\n",
    "ax.set_xlabel(xlabel=\"размер выборки n\")\n",
    "ax.set_ylabel(ylabel=\"SE среднего\");"
   ]
  },
  {
   "cell_type": "markdown",
   "metadata": {
    "ExecuteTime": {
     "end_time": "2022-11-06T07:58:14.994778Z",
     "start_time": "2022-11-06T07:58:14.798634Z"
    }
   },
   "source": [
    "Экспериментально показано, что с ростом размера выборки $SE_{\\overline{X}}$ уменьшается. Но после некоторого значения размера выборки значение $SE_{\\overline{X}}$ меняется не сильно. Таким образом, при достижении некоторого размера выборки ее дальнейшее увеличение уже почти не сказывается на точности средней. Этот факт имеет далеко идущие последствия. Например, при проведении выборочного обследования населения (опроса) чрезмерное увеличение выборки ведет к неоправданным затратам, т.к. точность почти не меняется. Именно поэтому количество опрошенных редко превышает 1,5 тысячи человек. Точность при таком размере выборки часто является достаточной, а дальнейшее увеличение выборки – нецелесообразным."
   ]
  },
  {
   "cell_type": "markdown",
   "metadata": {},
   "source": [
    "Вернемся к Z-тесту. Как было уже сказано, $\\overline{X} \\sim N \\left ( \\mu, \\sigma_{\\overline{X}} \\right )$. Приведем данную величину выборочного среднего к стандартному нормальному распределению $N(0, 1) \\Rightarrow$ получим Z статистику:\n",
    "\n",
    "$$\n",
    "z = \\frac{\\overline{X} - \\mu}{\\sigma_{\\overline{X}}} = \\frac{\\overline{X} - \\mu}{\\frac{\\sigma}{\\sqrt{n}}} \\sim N \\left (0, 1 \\right )\n",
    "$$"
   ]
  },
  {
   "cell_type": "markdown",
   "metadata": {},
   "source": [
    "Существуют несколько вариантов постановки гипотез Z-теста:\n",
    "1. Двусторонний Z-тест\n",
    "\n",
    "$$\n",
    "\\begin{equation*}\n",
    "\\begin{cases}\n",
    "H_{0}: \\overline{X} = \\mu , \\left ( \\text{выборочное среднее равно среднему генеральной совокупности} \\right ) \\\\\n",
    "H_{1}: \\overline{X} \\neq \\mu , \\left ( \\text{выборочное среднее НЕ равно среднему генеральной совокупности} \\right )\n",
    "\\end{cases}\n",
    "\\end{equation*}\n",
    "$$\n",
    "\n",
    "2. Левосторонний Z-тест\n",
    "\n",
    "$$\n",
    "\\begin{equation*}\n",
    "\\begin{cases}\n",
    "H_{0}: \\overline{X} \\geq \\mu , \\left ( \\text{выборочное среднее больше либо равно среднему генеральной совокупности} \\right ) \\\\\n",
    "H_{1}: \\overline{X} < \\mu , \\left ( \\text{выборочное среднее меньше среднего генеральной совокупности} \\right )\n",
    "\\end{cases}\n",
    "\\end{equation*}\n",
    "$$\n",
    "\n",
    "3. Правосторонний Z-тест\n",
    "\n",
    "$$\n",
    "\\begin{equation*}\n",
    "\\begin{cases}\n",
    "H_{0}: \\overline{X} \\leq \\mu , \\left ( \\text{выборочное среднее меньше либо равно среднему генеральной совокупности} \\right ) \\\\\n",
    "H_{1}: \\overline{X} > \\mu , \\left ( \\text{выборочное среднее больше среднего генеральной совокупности} \\right )\n",
    "\\end{cases}\n",
    "\\end{equation*}\n",
    "$$"
   ]
  },
  {
   "cell_type": "markdown",
   "metadata": {},
   "source": [
    "**Чтобы результаты Z-теста были достоверными, должны выполняться следующие условия:**\n",
    "- данные непрерывны (не дискретны)\n",
    "- размер выборки должен быть больше 30\n",
    "- данные представляют собой **простую случайную выборку** (выборка сформирована таким образом, что каждый член генеральной совокупности имеет равные шансы попасть в выборку)\n",
    "- данные в генеральной совокупности распределены нормально\n",
    "- $\\sigma$ генеральной совокупности известна ($\\sigma$ в идеале должна соответствовать теоретическому распределению наших данных из генеральной совокупности, но т.к. в реальной жизни теоретическое распределение мы не можем знать, то $\\sigma$ оцеинвается из генеральной совокупности. Например, мы имеем данные по уровню IQ для населения некоторой страны. По этим данным и определяем $\\sigma$ - см. пример ниже)"
   ]
  },
  {
   "cell_type": "markdown",
   "metadata": {},
   "source": [
    "Разберем на **примере**"
   ]
  },
  {
   "cell_type": "markdown",
   "metadata": {},
   "source": [
    "Ученый хочет определить, влияет ли его лекарство на уровень IQ. Известно, что данные по IQ населения распределены нормально с параметрами $\\mu = 100$ и $\\sigma = 15$.\n",
    "\n",
    "Он выбрал 50 испытуемых, которые на протяжении месяца принимали лекарство. По прошествии месяца ученый проверил их IQ и получил следующие результаты:"
   ]
  },
  {
   "cell_type": "code",
   "execution_count": 32,
   "metadata": {
    "ExecuteTime": {
     "end_time": "2022-11-06T10:27:56.050728Z",
     "start_time": "2022-11-06T10:27:56.018550Z"
    }
   },
   "outputs": [
    {
     "name": "stdout",
     "output_type": "stream",
     "text": [
      "Уровни IQ 50-ти испытуемых:\n",
      "109 100 112 125 98 98 126 114 95 110 95 95 106 73 76 94 87 107 88 81 124 99 103 81 94 104 85 108 93 98 93 130 102 86 114 84 105 73 82 105 113 105 100 97 80 91 95 118 107 76\n"
     ]
    }
   ],
   "source": [
    "import scipy.stats as stats\n",
    "\n",
    "\n",
    "sample = stats.norm.rvs(loc=102, scale=15, size=(50, ), random_state=42)\n",
    "sample = sample.round().astype(\"int\")\n",
    "print(\"Уровни IQ 50-ти испытуемых:\")\n",
    "print(*sample)"
   ]
  },
  {
   "cell_type": "markdown",
   "metadata": {},
   "source": [
    "Постановка гипотез для проведения Z-теста (двусторонний тест):\n",
    "\n",
    "$$\n",
    "\\begin{equation*}\n",
    "\\begin{cases}\n",
    "H_{0}: \\text{лекарство не оказывает влияния на уровень IQ} \\\\\n",
    "H_{1}: \\text{лекарство оказывает влияние на уровень IQ}\n",
    "\\end{cases}\n",
    "\\end{equation*}\n",
    "$$\n",
    "\n",
    "Выбираем уровень значимости теста $\\alpha = 0.05$\n",
    "\n",
    "Рассчитаем статистику:"
   ]
  },
  {
   "cell_type": "code",
   "execution_count": 68,
   "metadata": {
    "ExecuteTime": {
     "end_time": "2022-11-06T10:52:19.333288Z",
     "start_time": "2022-11-06T10:52:19.316729Z"
    }
   },
   "outputs": [
    {
     "name": "stdout",
     "output_type": "stream",
     "text": [
      "Значение статистики z = -0.6223\n"
     ]
    }
   ],
   "source": [
    "z_score = (np.mean(sample) - 100) / (15 / np.sqrt(50))\n",
    "print(\"Значение статистики z = {:.4f}\".format(z_score))"
   ]
  },
  {
   "cell_type": "markdown",
   "metadata": {},
   "source": [
    "Теперь по полученному значению Z статистики необходимо определить значение `p-value`"
   ]
  },
  {
   "cell_type": "code",
   "execution_count": 70,
   "metadata": {
    "ExecuteTime": {
     "end_time": "2022-11-06T10:54:54.120878Z",
     "start_time": "2022-11-06T10:54:54.096827Z"
    }
   },
   "outputs": [
    {
     "name": "stdout",
     "output_type": "stream",
     "text": [
      "Значение p-value = 0.5338\n"
     ]
    }
   ],
   "source": [
    "# т.к. тест двусторонний, то мы учитываем значения для обоих хвостов распределения\n",
    "p_value = stats.norm.cdf(-abs(z_score)) + (1 - stats.norm.cdf(abs(z_score)))\n",
    "print(\"Значение p-value = {:.4f}\".format(p_value))"
   ]
  },
  {
   "cell_type": "code",
   "execution_count": 113,
   "metadata": {
    "ExecuteTime": {
     "end_time": "2022-11-06T11:23:38.344719Z",
     "start_time": "2022-11-06T11:23:38.089512Z"
    }
   },
   "outputs": [
    {
     "data": {
      "image/png": "[encoded data removed]",
      "text/plain": [
       "<Figure size 432x288 with 1 Axes>"
      ]
     },
     "metadata": {
      "needs_background": "light"
     },
     "output_type": "display_data"
    }
   ],
   "source": [
    "import numpy as np\n",
    "import matplotlib.pyplot as plt\n",
    "import seaborn as sns\n",
    "import scipy.stats as stats\n",
    "\n",
    "\n",
    "fig, ax = plt.subplots()\n",
    "x = np.linspace(stats.norm.ppf(0.001), stats.norm.ppf(0.999))\n",
    "y = stats.norm.pdf(x)\n",
    "\n",
    "x_left = np.linspace(stats.norm.ppf(0.001), stats.norm.ppf(0.025))\n",
    "y_left = stats.norm.pdf(x_left)\n",
    "\n",
    "x_right = np.linspace(stats.norm.ppf(0.975), stats.norm.ppf(0.999))\n",
    "y_right = stats.norm.pdf(x_right)\n",
    "\n",
    "p_value_x_left = np.linspace(stats.norm.ppf(0.001), -abs(z_score))\n",
    "p_value_y_left = stats.norm.pdf(p_value_x_left)\n",
    "\n",
    "p_value_x_right = np.linspace(abs(z_score), stats.norm.ppf(0.999))\n",
    "p_value_y_right = stats.norm.pdf(p_value_x_right)\n",
    "\n",
    "sns.lineplot(x=x, y=y, ax=ax)\n",
    "ax.fill_between(\n",
    "    x=x_left, y1=np.zeros_like(y_left), y2=y_left, color=\"red\", alpha=0.2, \n",
    "    label=\"$\\\\alpha = 0.05$ (по 0.025\\nна каждый хвост\\nт.к. гипотеза\\nдвусторонняя)\")\n",
    "ax.fill_between(x=x_right, y1=np.zeros_like(y_right), y2=y_right, color=\"red\", alpha=0.2)\n",
    "ax.fill_between(\n",
    "    x=p_value_x_left, y1=np.zeros_like(p_value_y_left), y2=p_value_y_left, color=\"blue\", alpha=0.2,\n",
    "    label=\"p-value = {:.2f}\".format(p_value))\n",
    "ax.fill_between(x=p_value_x_right, y1=np.zeros_like(p_value_y_right), y2=p_value_y_right, color=\"blue\", alpha=0.2)\n",
    "ax.axvline(x=z_score, color=\"blue\", ls=\":\", label=\"z-score = {:.2f}\".format(z_score))\n",
    "fig.tight_layout()\n",
    "ax.legend();"
   ]
  },
  {
   "cell_type": "markdown",
   "metadata": {},
   "source": [
    "`p-value` >> $\\alpha \\Rightarrow$ мы не отвергаем $H_{0}$"
   ]
  },
  {
   "cell_type": "markdown",
   "metadata": {},
   "source": [
    "**statsmodels**\n",
    "\n",
    "В библиотеке **statsmodels** также имеется инструмент для проведения Z-теста - функция `ztest`. Аргументы функции:\n",
    "- `x1` - выборка\n",
    "- `value` - значение, равенство выброчного среднего которому необходимо оценить\n",
    "- `alternative` - тип гипотезы (двусторонняя, правосторонняя, левосторонняя) - см. документацию\n",
    "- `usevar` - в настоящий момент реализована только функция оценки дисперсии генеральной совокупности по выборке `x1` (нельзя передать значение)"
   ]
  },
  {
   "cell_type": "code",
   "execution_count": 118,
   "metadata": {
    "ExecuteTime": {
     "end_time": "2022-11-06T11:32:31.057182Z",
     "start_time": "2022-11-06T11:32:31.044144Z"
    }
   },
   "outputs": [
    {
     "name": "stdout",
     "output_type": "stream",
     "text": [
      "Значение статистики\tz = -0.6661\n",
      "Значение\t\tp-value = 0.5053\n"
     ]
    }
   ],
   "source": [
    "from statsmodels.stats.weightstats import ztest\n",
    "\n",
    "\n",
    "z_score, p_value = ztest(x1=sample, value=100, alternative=\"two-sided\")\n",
    "print(\"Значение статистики\\tz = {:.4f}\".format(z_score))\n",
    "print(\"Значение\\t\\tp-value = {:.4f}\".format(p_value))"
   ]
  },
  {
   "cell_type": "markdown",
   "metadata": {},
   "source": [
    "#### Двувыборочный Z-тест на разницу средних"
   ]
  },
  {
   "cell_type": "markdown",
   "metadata": {},
   "source": [
    "Пусть, у нас имеется две выборки $X_{1} = x_{1}^{(1)}, x_{2}^{(1)}, \\ldots , x_{n_{1}}^{(1)}$ и $X_{2} = x_{1}^{(2)}, x_{2}^{(2)}, \\ldots , x_{n_{2}}^{(2)}$ размера $n_{1}$ и $n_{2}$ соответственоо. Необходимо проверить гипотезу о разнице средних этих двух выборок.\n",
    "\n",
    "Т.к. согласно ЦПТ средневыборочные распределены нормально, то и их разница также распределена нормально (по свойству бесконечной делимости нормального распределения) с $\\text{E} \\left ({\\overline{X}_1 - \\overline{X}_2} \\right ) = \n",
    "\\text{E} \\left ({\\overline{X}_1} \\right ) - \\text{E} \\left ({\\overline{X}_2} \\right ) = \\mu_{1} - \\mu_{2}$\n",
    "\n",
    "Что касается дисперсии, то дисперсия разности двух нормально распределенных СВ равна\n",
    "\n",
    "$$\n",
    "\\text{D} \\left ({\\overline{X}_1 - \\overline{X}_2} \\right ) = \n",
    "\\text{D} \\left ({\\overline{X}_1} \\right ) + \\text{D} \\left ({\\overline{X}_2} \\right ) = \n",
    "\\frac{\\sigma_{1}^{2}}{n_1} + \\frac{\\sigma_{2}^{2}}{n_2} \\Rightarrow\n",
    "\\sigma_{{\\overline{X}_1 - \\overline{X}_2}} = \\sqrt{ \\frac{\\sigma_{1}^{2}}{n_1} + \\frac{\\sigma_{2}^{2}}{n_2} }\n",
    "$$\n",
    "\n",
    "Тогда статистика будет иметь вид (в общем виде):\n",
    "\n",
    "$$\n",
    "z = \\frac{ \\left ( \\overline{X}_1 - \\overline{X}_2 \\right ) - \\left ( \\mu_1 - \\mu_2 \\right ) }{ \\sqrt{ \\frac{\\sigma_{1}^{2}}{n_1} + \\frac{\\sigma_{2}^{2}}{n_2} } }\n",
    "$$\n",
    "\n",
    "Гипотезы формулируются абсолютно таким же образом как и при одновыборочном тесте. Рассмотрим в качестве примера левосторонний двувыборочный тест (опять же, на примере теста на IQ).\n",
    "\n",
    "Есть два города, город А и город Б. Ученый хочет выяснить, действительно ли средний уровень IQ в городе А ниже среднего уровня IQ в городе Б. Известно, что данные по IQ населения распределены нормально с параметрами $\\mu = 100$ и $\\sigma = 15$. Он выбрал по 50 испытуемых из каждого города и проверил их уровень IQ с помощью теста. Он получил следующие результаты:"
   ]
  },
  {
   "cell_type": "code",
   "execution_count": 40,
   "metadata": {
    "ExecuteTime": {
     "end_time": "2022-11-06T12:24:52.456402Z",
     "start_time": "2022-11-06T12:24:52.432369Z"
    }
   },
   "outputs": [
    {
     "name": "stdout",
     "output_type": "stream",
     "text": [
      "Результаты тестирования:\n"
     ]
    },
    {
     "data": {
      "text/html": [
       "<div>\n",
       "<style scoped>\n",
       "    .dataframe tbody tr th:only-of-type {\n",
       "        vertical-align: middle;\n",
       "    }\n",
       "\n",
       "    .dataframe tbody tr th {\n",
       "        vertical-align: top;\n",
       "    }\n",
       "\n",
       "    .dataframe thead th {\n",
       "        text-align: right;\n",
       "    }\n",
       "</style>\n",
       "<table border=\"1\" class=\"dataframe\">\n",
       "  <thead>\n",
       "    <tr style=\"text-align: right;\">\n",
       "      <th></th>\n",
       "      <th>0</th>\n",
       "      <th>1</th>\n",
       "      <th>2</th>\n",
       "      <th>3</th>\n",
       "      <th>4</th>\n",
       "      <th>5</th>\n",
       "      <th>6</th>\n",
       "      <th>7</th>\n",
       "      <th>8</th>\n",
       "      <th>9</th>\n",
       "      <th>...</th>\n",
       "      <th>40</th>\n",
       "      <th>41</th>\n",
       "      <th>42</th>\n",
       "      <th>43</th>\n",
       "      <th>44</th>\n",
       "      <th>45</th>\n",
       "      <th>46</th>\n",
       "      <th>47</th>\n",
       "      <th>48</th>\n",
       "      <th>49</th>\n",
       "    </tr>\n",
       "  </thead>\n",
       "  <tbody>\n",
       "    <tr>\n",
       "      <th>А</th>\n",
       "      <td>107</td>\n",
       "      <td>98</td>\n",
       "      <td>110</td>\n",
       "      <td>123</td>\n",
       "      <td>96</td>\n",
       "      <td>96</td>\n",
       "      <td>124</td>\n",
       "      <td>112</td>\n",
       "      <td>93</td>\n",
       "      <td>108</td>\n",
       "      <td>...</td>\n",
       "      <td>111</td>\n",
       "      <td>103</td>\n",
       "      <td>98</td>\n",
       "      <td>95</td>\n",
       "      <td>78</td>\n",
       "      <td>89</td>\n",
       "      <td>93</td>\n",
       "      <td>116</td>\n",
       "      <td>105</td>\n",
       "      <td>74</td>\n",
       "    </tr>\n",
       "    <tr>\n",
       "      <th>Б</th>\n",
       "      <td>124</td>\n",
       "      <td>91</td>\n",
       "      <td>92</td>\n",
       "      <td>84</td>\n",
       "      <td>113</td>\n",
       "      <td>65</td>\n",
       "      <td>126</td>\n",
       "      <td>89</td>\n",
       "      <td>105</td>\n",
       "      <td>96</td>\n",
       "      <td>...</td>\n",
       "      <td>97</td>\n",
       "      <td>87</td>\n",
       "      <td>89</td>\n",
       "      <td>125</td>\n",
       "      <td>101</td>\n",
       "      <td>90</td>\n",
       "      <td>103</td>\n",
       "      <td>132</td>\n",
       "      <td>102</td>\n",
       "      <td>109</td>\n",
       "    </tr>\n",
       "  </tbody>\n",
       "</table>\n",
       "<p>2 rows × 50 columns</p>\n",
       "</div>"
      ],
      "text/plain": [
       "    0   1    2    3    4   5    6    7    8    9   ...   40   41  42   43  \\\n",
       "А  107  98  110  123   96  96  124  112   93  108  ...  111  103  98   95   \n",
       "Б  124  91   92   84  113  65  126   89  105   96  ...   97   87  89  125   \n",
       "\n",
       "    44  45   46   47   48   49  \n",
       "А   78  89   93  116  105   74  \n",
       "Б  101  90  103  132  102  109  \n",
       "\n",
       "[2 rows x 50 columns]"
      ]
     },
     "metadata": {},
     "output_type": "display_data"
    }
   ],
   "source": [
    "import pandas as pd\n",
    "import numpy as np\n",
    "import scipy.stats as stats\n",
    "\n",
    "\n",
    "a_sample = stats.norm.rvs(loc=100, scale=15, size=50, random_state=42)\n",
    "b_sample = stats.norm.rvs(loc=100, scale=15, size=50, random_state=1)\n",
    "a_sample, b_sample = a_sample.round().astype(\"int\"), b_sample.round().astype(\"int\")\n",
    "df = pd.DataFrame(data={\"А\": a_sample, \"Б\": b_sample}).T\n",
    "\n",
    "print(\"Результаты тестирования:\")\n",
    "display(df)"
   ]
  },
  {
   "cell_type": "markdown",
   "metadata": {},
   "source": [
    "Сформулируем гипотезы:\n",
    "\n",
    "$$\n",
    "\\begin{equation*}\n",
    "\\begin{cases}\n",
    "H_{0}: \\text{} \\\\\n",
    "H_{1}: \\text{лекарство оказывает влияние на уровень IQ}\n",
    "\\end{cases}\n",
    "\\end{equation*}\n",
    "$$\n",
    "\n",
    "Уровень значимости: $\\alpha = 0.05$"
   ]
  },
  {
   "cell_type": "markdown",
   "metadata": {},
   "source": [
    "Рассчитаем значение статистики и значение `p-value`"
   ]
  },
  {
   "cell_type": "code",
   "execution_count": 41,
   "metadata": {
    "ExecuteTime": {
     "end_time": "2022-11-06T12:24:53.090427Z",
     "start_time": "2022-11-06T12:24:53.066412Z"
    }
   },
   "outputs": [
    {
     "name": "stdout",
     "output_type": "stream",
     "text": [
      "Значение статистики\tz = -0.9933\n",
      "Значение\t\tp-value = 0.1603\n"
     ]
    }
   ],
   "source": [
    "z_score = (np.mean(df.loc[\"А\", :]) - np.mean(df.loc[\"Б\", :])) / (np.sqrt((15**2 / 50) + (15**2 / 50)))\n",
    "p_value = stats.norm.cdf(z_score)\n",
    "\n",
    "print(\"Значение статистики\\tz = {:.4f}\".format(z_score))\n",
    "print(\"Значение\\t\\tp-value = {:.4f}\".format(p_value))"
   ]
  },
  {
   "cell_type": "code",
   "execution_count": 42,
   "metadata": {
    "ExecuteTime": {
     "end_time": "2022-11-06T12:24:53.634898Z",
     "start_time": "2022-11-06T12:24:53.394794Z"
    }
   },
   "outputs": [
    {
     "data": {
      "image/png": "[encoded data removed]",
      "text/plain": [
       "<Figure size 432x288 with 1 Axes>"
      ]
     },
     "metadata": {
      "needs_background": "light"
     },
     "output_type": "display_data"
    }
   ],
   "source": [
    "import numpy as np\n",
    "import matplotlib.pyplot as plt\n",
    "import seaborn as sns\n",
    "import scipy.stats as stats\n",
    "\n",
    "\n",
    "fig, ax = plt.subplots()\n",
    "x = np.linspace(stats.norm.ppf(0.001), stats.norm.ppf(0.999))\n",
    "y = stats.norm.pdf(x)\n",
    "\n",
    "x_left = np.linspace(stats.norm.ppf(0.001), stats.norm.ppf(0.05))\n",
    "y_left = stats.norm.pdf(x_left)\n",
    "\n",
    "p_value_x_left = np.linspace(stats.norm.ppf(0.001), z_score)\n",
    "p_value_y_left = stats.norm.pdf(p_value_x_left)\n",
    "\n",
    "sns.lineplot(x=x, y=y, ax=ax)\n",
    "ax.fill_between(\n",
    "    x=x_left, y1=np.zeros_like(y_left), y2=y_left, color=\"red\", alpha=0.2, \n",
    "    label=\"$\\\\alpha = 0.05$\")\n",
    "ax.fill_between(\n",
    "    x=p_value_x_left, y1=np.zeros_like(p_value_y_left), y2=p_value_y_left, color=\"blue\", alpha=0.2,\n",
    "    label=\"p-value = {:.2f}\".format(p_value))\n",
    "ax.axvline(x=z_score, color=\"blue\", ls=\":\", label=\"z-score = {:.2f}\".format(z_score))\n",
    "fig.tight_layout()\n",
    "ax.legend();"
   ]
  },
  {
   "cell_type": "code",
   "execution_count": 43,
   "metadata": {
    "ExecuteTime": {
     "end_time": "2022-11-06T12:25:50.838762Z",
     "start_time": "2022-11-06T12:25:50.833250Z"
    }
   },
   "outputs": [],
   "source": [
    "# ToDo: необходимо доделать двувыборочный тест"
   ]
  },
  {
   "cell_type": "markdown",
   "id": "f7709968",
   "metadata": {},
   "source": [
    "## Критерий согласия Пирсона (критерий согласия хи-квадрат)"
   ]
  },
  {
   "cell_type": "markdown",
   "id": "eee6163a",
   "metadata": {},
   "source": [
    "Также называется критерием **согласия $\\chi^{2}$**.\n",
    "\n",
    "Это **непараметрический** метод, позволяющий оценить значимость различий между фактическим (выявленным в результате исследования) количеством исходов или качественных характеристик выборки, попадающих в каждую категорию, и теоретическим количеством, которое можно ожидать в изучаемых группах при справедливости нулевой гипотезы.\n",
    "\n",
    "Наиболее употребляемый критерий для проверки гипотезы о принадлежности наблюдаемой выборки $x_1, x_2, \\ldots, x_n$ объемом $n$ некоторому теоретическому закону распределения $Z$."
   ]
  },
  {
   "cell_type": "markdown",
   "id": "d0422ff7",
   "metadata": {},
   "source": [
    "$$\n",
    "\\begin{equation*}\n",
    "\\begin{cases}\n",
    "H_{0}: X \\sim Z\\\\\n",
    "H_{1}: X \\nsim Z\n",
    "\\end{cases}\n",
    "\\end{equation*}\n",
    "$$"
   ]
  },
  {
   "cell_type": "markdown",
   "id": "cfdc2dbf",
   "metadata": {},
   "source": [
    "К примеру, у нас есть выборка размера $n = 1000$. И мы предполагаем, что данная выборка принадлежит рапределению $N(-2, 5)$."
   ]
  },
  {
   "cell_type": "code",
   "execution_count": 1,
   "id": "22985eb2",
   "metadata": {
    "ExecuteTime": {
     "end_time": "2022-11-05T07:59:49.619681Z",
     "start_time": "2022-11-05T07:59:44.227111Z"
    }
   },
   "outputs": [
    {
     "data": {
      "image/png": "[encoded data removed]",
      "text/plain": [
       "<Figure size 1008x288 with 1 Axes>"
      ]
     },
     "metadata": {
      "needs_background": "light"
     },
     "output_type": "display_data"
    }
   ],
   "source": [
    "import scipy.stats as stats\n",
    "import seaborn as sns\n",
    "import matplotlib.pyplot as plt\n",
    "import numpy as np\n",
    "import pandas as pd\n",
    "from typing import Union\n",
    "\n",
    "import warnings\n",
    "warnings.filterwarnings(\"ignore\")\n",
    "\n",
    "\n",
    "n = 1000\n",
    "loc, scale = -2, 5\n",
    "\n",
    "# генерируем псевдослучайную выборку для проведения эксперимента\n",
    "sample = stats.norm.rvs(loc=-2, scale=5, size=n, random_state=42)\n",
    "\n",
    "# функция плотности теоретического распределения, принадлежность нашей выборки к которому мы хотим проверить\n",
    "x = np.linspace(\n",
    "    stats.norm.ppf(0.001, loc=loc, scale=scale),\n",
    "    stats.norm.ppf(0.999, loc=loc, scale=scale), 1000\n",
    ")\n",
    "y = stats.norm.pdf(x, loc=loc, scale=scale)\n",
    "\n",
    "fig, ax = plt.subplots(figsize=(14, 4))\n",
    "sns.histplot(sample, stat=\"density\", bins=16, ax=ax)\n",
    "sns.lineplot(x=x, y=y, ax=ax, c=\"black\")\n",
    "ax.legend([\n",
    "    \"Теоретическое распределение $N(-2, 5)$\", \n",
    "    \"Эмпирические частоты (выборка)\"], loc=1)\n",
    "fig.show()"
   ]
  },
  {
   "cell_type": "markdown",
   "id": "196f9e36",
   "metadata": {},
   "source": [
    "Как мы видим, между **эмпирическими частотами** и **теоретическим распределением** существует разница. И возникает вопрос, **объясняются ли эти расхождения только случайными обстоятельствами, или же они являются следствием того, теоретическое распределение плохо описывает природу наших данных?**"
   ]
  },
  {
   "cell_type": "markdown",
   "id": "8e1b423c",
   "metadata": {},
   "source": [
    "Карл Пирсон разработал математический инструмент проверки нулевой гипотезы $H_0$, что **теоретическая кривая корректно описывает экспериментальные данные гистограммы** - критерий согласия хи-квадрат (или критерий соласия Пирсона). Основан на оценке степени близости гистограммы относительных частот выборки и теоретической плотности распределения.\n",
    "\n",
    "Под относительной частотой понимается величина:\n",
    "\n",
    "$$\n",
    "\\overline{p}_i = \\frac{m_i}{n}\n",
    "$$"
   ]
  },
  {
   "cell_type": "markdown",
   "metadata": {},
   "source": [
    "Причем \n",
    "\n",
    "$$\n",
    "\\sum_{i=1}^{k} \\overline{p}_{i} = 1\n",
    "$$\n",
    "$$\n",
    "\\sum_{i=1}^{k} m_{i} = n\n",
    "$$\n",
    "\n",
    "где\n",
    "\n",
    "- $i = 1, 2, \\ldots, k$ - индекс интервала (бина гистограммы)\n",
    "- $k$ - количество интервалов (бинов гистограммы)\n",
    "- $m_{i}$ - количество экспериментов для одного интервала\n",
    "- $n$ - общее количество экспериментов"
   ]
  },
  {
   "cell_type": "code",
   "execution_count": 2,
   "metadata": {
    "ExecuteTime": {
     "end_time": "2022-11-05T07:59:50.947340Z",
     "start_time": "2022-11-05T07:59:50.931334Z"
    }
   },
   "outputs": [
    {
     "name": "stdout",
     "output_type": "stream",
     "text": [
      "Количество бинов:\t16\n",
      "Отрезок, который будем разбивать на равные бины: [-19.0, 18.0)\n"
     ]
    }
   ],
   "source": [
    "# определяем границы отрезка для разбиения на интервалы\n",
    "a = min(stats.norm.ppf(0.01, loc=loc, scale=scale), np.min(sample))\n",
    "b = max(stats.norm.ppf(0.99, loc=loc, scale=scale), np.max(sample))\n",
    "\n",
    "# округлим нижнюю границу и верхнюю до целых в меньшую и большую стороны соответственно\n",
    "a, b = np.floor(a), np.ceil(b)\n",
    "\n",
    "# а также количестов бинов, на которое мы этот отрезок разобьем\n",
    "n_bins = 16\n",
    "\n",
    "print(f\"Количество бинов:\\t{n_bins}\")\n",
    "print(\"Отрезок, который будем разбивать на равные бины: [{}, {})\".format(a, b))"
   ]
  },
  {
   "cell_type": "markdown",
   "metadata": {},
   "source": [
    "Разобьем отрезок $\\left [ -19, 18 \\right )$ на $k = 16$ равных отрезков $[a_0 = -19, a_1), [a_1, a_2), \\ldots , [a_{k-1}, a_k = 18)$. Сформируем таблицу с частотами и относительными частотами (колонки `m` и `p_` соответственно) наших данных."
   ]
  },
  {
   "cell_type": "code",
   "execution_count": 3,
   "metadata": {
    "ExecuteTime": {
     "end_time": "2022-11-05T07:59:53.747641Z",
     "start_time": "2022-11-05T07:59:53.723644Z"
    }
   },
   "outputs": [],
   "source": [
    "df = pd.DataFrame(data={\"values\": sample})\n",
    "df[\"intervals\"] = pd.cut(df[\"values\"], bins=np.linspace(a, b, n_bins + 1, endpoint=True),\n",
    "                         right=False)\n",
    "frequences = df.groupby(by=\"intervals\", sort=True).count()\n",
    "frequences = frequences.reset_index(drop=False)\n",
    "frequences = frequences.rename(columns={\"values\": \"m\"})\n",
    "frequences[\"p_\"] = frequences[\"m\"] / n"
   ]
  },
  {
   "cell_type": "markdown",
   "metadata": {},
   "source": [
    "Проверим, что $\\sum_{i=1}^{k} \\overline{p}_i = 1$"
   ]
  },
  {
   "cell_type": "code",
   "execution_count": 4,
   "metadata": {
    "ExecuteTime": {
     "end_time": "2022-11-05T07:59:54.819974Z",
     "start_time": "2022-11-05T07:59:54.804651Z"
    }
   },
   "outputs": [
    {
     "data": {
      "text/plain": [
       "1.0"
      ]
     },
     "execution_count": 4,
     "metadata": {},
     "output_type": "execute_result"
    }
   ],
   "source": [
    "frequences[\"p_\"].sum()"
   ]
  },
  {
   "cell_type": "markdown",
   "metadata": {},
   "source": [
    "Проверим, что $\\sum_{i=1}^{k} m_{i} = n$"
   ]
  },
  {
   "cell_type": "code",
   "execution_count": 5,
   "metadata": {
    "ExecuteTime": {
     "end_time": "2022-11-05T07:59:56.122986Z",
     "start_time": "2022-11-05T07:59:56.106690Z"
    }
   },
   "outputs": [
    {
     "data": {
      "text/plain": [
       "True"
      ]
     },
     "execution_count": 5,
     "metadata": {},
     "output_type": "execute_result"
    }
   ],
   "source": [
    "frequences[\"m\"].sum() == n"
   ]
  },
  {
   "cell_type": "markdown",
   "metadata": {},
   "source": [
    "Отлично, теперь необходимо посчитать теоретические частоты (вероятности) нашего распределения в указанных интервалах (вероятность того, что СВ попадет в данный интервал)."
   ]
  },
  {
   "cell_type": "code",
   "execution_count": 6,
   "metadata": {
    "ExecuteTime": {
     "end_time": "2022-11-05T07:59:57.550647Z",
     "start_time": "2022-11-05T07:59:57.526628Z"
    }
   },
   "outputs": [],
   "source": [
    "def calculate_proba(interval: pd.Interval, loc: Union[int, float], scale: Union[int, float]) -> float:\n",
    "    left, right = interval.left, interval.right\n",
    "    return stats.norm.cdf(right, loc=loc, scale=scale) - stats.norm.cdf(left, loc=loc, scale=scale)\n",
    "\n",
    "\n",
    "frequences[\"p\"] = frequences[\"intervals\"].apply(calculate_proba, loc=loc, scale=scale)\n",
    "frequences[\"p\"] = frequences[\"p\"].astype(\"float\")"
   ]
  },
  {
   "cell_type": "markdown",
   "metadata": {},
   "source": [
    "Выведем результаты"
   ]
  },
  {
   "cell_type": "code",
   "execution_count": 7,
   "metadata": {
    "ExecuteTime": {
     "end_time": "2022-11-05T07:59:59.575167Z",
     "start_time": "2022-11-05T07:59:59.546722Z"
    }
   },
   "outputs": [
    {
     "data": {
      "text/html": [
       "<div>\n",
       "<style scoped>\n",
       "    .dataframe tbody tr th:only-of-type {\n",
       "        vertical-align: middle;\n",
       "    }\n",
       "\n",
       "    .dataframe tbody tr th {\n",
       "        vertical-align: top;\n",
       "    }\n",
       "\n",
       "    .dataframe thead th {\n",
       "        text-align: right;\n",
       "    }\n",
       "</style>\n",
       "<table border=\"1\" class=\"dataframe\">\n",
       "  <thead>\n",
       "    <tr style=\"text-align: right;\">\n",
       "      <th></th>\n",
       "      <th>intervals</th>\n",
       "      <th>m</th>\n",
       "      <th>p_</th>\n",
       "      <th>p</th>\n",
       "    </tr>\n",
       "  </thead>\n",
       "  <tbody>\n",
       "    <tr>\n",
       "      <th>0</th>\n",
       "      <td>[-19.0, -16.688)</td>\n",
       "      <td>1</td>\n",
       "      <td>0.001</td>\n",
       "      <td>0.001317</td>\n",
       "    </tr>\n",
       "    <tr>\n",
       "      <th>1</th>\n",
       "      <td>[-16.688, -14.375)</td>\n",
       "      <td>3</td>\n",
       "      <td>0.003</td>\n",
       "      <td>0.005008</td>\n",
       "    </tr>\n",
       "    <tr>\n",
       "      <th>2</th>\n",
       "      <td>[-14.375, -12.062)</td>\n",
       "      <td>13</td>\n",
       "      <td>0.013</td>\n",
       "      <td>0.015427</td>\n",
       "    </tr>\n",
       "    <tr>\n",
       "      <th>3</th>\n",
       "      <td>[-12.062, -9.75)</td>\n",
       "      <td>32</td>\n",
       "      <td>0.032</td>\n",
       "      <td>0.038482</td>\n",
       "    </tr>\n",
       "    <tr>\n",
       "      <th>4</th>\n",
       "      <td>[-9.75, -7.438)</td>\n",
       "      <td>76</td>\n",
       "      <td>0.076</td>\n",
       "      <td>0.077815</td>\n",
       "    </tr>\n",
       "    <tr>\n",
       "      <th>5</th>\n",
       "      <td>[-7.438, -5.125)</td>\n",
       "      <td>130</td>\n",
       "      <td>0.130</td>\n",
       "      <td>0.127600</td>\n",
       "    </tr>\n",
       "    <tr>\n",
       "      <th>6</th>\n",
       "      <td>[-5.125, -2.812)</td>\n",
       "      <td>172</td>\n",
       "      <td>0.172</td>\n",
       "      <td>0.169510</td>\n",
       "    </tr>\n",
       "    <tr>\n",
       "      <th>7</th>\n",
       "      <td>[-2.812, -0.5)</td>\n",
       "      <td>194</td>\n",
       "      <td>0.194</td>\n",
       "      <td>0.182416</td>\n",
       "    </tr>\n",
       "    <tr>\n",
       "      <th>8</th>\n",
       "      <td>[-0.5, 1.812)</td>\n",
       "      <td>168</td>\n",
       "      <td>0.168</td>\n",
       "      <td>0.159178</td>\n",
       "    </tr>\n",
       "    <tr>\n",
       "      <th>9</th>\n",
       "      <td>[1.812, 4.125)</td>\n",
       "      <td>102</td>\n",
       "      <td>0.102</td>\n",
       "      <td>0.112623</td>\n",
       "    </tr>\n",
       "    <tr>\n",
       "      <th>10</th>\n",
       "      <td>[4.125, 6.438)</td>\n",
       "      <td>60</td>\n",
       "      <td>0.060</td>\n",
       "      <td>0.064544</td>\n",
       "    </tr>\n",
       "    <tr>\n",
       "      <th>11</th>\n",
       "      <td>[6.438, 8.75)</td>\n",
       "      <td>32</td>\n",
       "      <td>0.032</td>\n",
       "      <td>0.029966</td>\n",
       "    </tr>\n",
       "    <tr>\n",
       "      <th>12</th>\n",
       "      <td>[8.75, 11.062)</td>\n",
       "      <td>13</td>\n",
       "      <td>0.013</td>\n",
       "      <td>0.011282</td>\n",
       "    </tr>\n",
       "    <tr>\n",
       "      <th>13</th>\n",
       "      <td>[11.062, 13.375)</td>\n",
       "      <td>2</td>\n",
       "      <td>0.002</td>\n",
       "      <td>0.003443</td>\n",
       "    </tr>\n",
       "    <tr>\n",
       "      <th>14</th>\n",
       "      <td>[13.375, 15.688)</td>\n",
       "      <td>1</td>\n",
       "      <td>0.001</td>\n",
       "      <td>0.000851</td>\n",
       "    </tr>\n",
       "    <tr>\n",
       "      <th>15</th>\n",
       "      <td>[15.688, 18.0)</td>\n",
       "      <td>1</td>\n",
       "      <td>0.001</td>\n",
       "      <td>0.000170</td>\n",
       "    </tr>\n",
       "  </tbody>\n",
       "</table>\n",
       "</div>"
      ],
      "text/plain": [
       "             intervals    m     p_         p\n",
       "0     [-19.0, -16.688)    1  0.001  0.001317\n",
       "1   [-16.688, -14.375)    3  0.003  0.005008\n",
       "2   [-14.375, -12.062)   13  0.013  0.015427\n",
       "3     [-12.062, -9.75)   32  0.032  0.038482\n",
       "4      [-9.75, -7.438)   76  0.076  0.077815\n",
       "5     [-7.438, -5.125)  130  0.130  0.127600\n",
       "6     [-5.125, -2.812)  172  0.172  0.169510\n",
       "7       [-2.812, -0.5)  194  0.194  0.182416\n",
       "8        [-0.5, 1.812)  168  0.168  0.159178\n",
       "9       [1.812, 4.125)  102  0.102  0.112623\n",
       "10      [4.125, 6.438)   60  0.060  0.064544\n",
       "11       [6.438, 8.75)   32  0.032  0.029966\n",
       "12      [8.75, 11.062)   13  0.013  0.011282\n",
       "13    [11.062, 13.375)    2  0.002  0.003443\n",
       "14    [13.375, 15.688)    1  0.001  0.000851\n",
       "15      [15.688, 18.0)    1  0.001  0.000170"
      ]
     },
     "execution_count": 7,
     "metadata": {},
     "output_type": "execute_result"
    }
   ],
   "source": [
    "frequences"
   ]
  },
  {
   "cell_type": "code",
   "execution_count": 8,
   "metadata": {
    "ExecuteTime": {
     "end_time": "2022-11-05T08:00:01.644293Z",
     "start_time": "2022-11-05T08:00:01.390500Z"
    }
   },
   "outputs": [
    {
     "data": {
      "image/png": "[encoded data removed]",
      "text/plain": [
       "<Figure size 1008x288 with 1 Axes>"
      ]
     },
     "metadata": {
      "needs_background": "light"
     },
     "output_type": "display_data"
    }
   ],
   "source": [
    "fig, ax = plt.subplots(figsize=(14, 4))\n",
    "ax.bar(x=frequences.index, height=frequences[\"p_\"], alpha=0.5, label=\"sample requences\")\n",
    "ax.bar(x=frequences.index, height=frequences[\"p\"], alpha=0.5, label=\"theoretical frequences\")\n",
    "ax.legend()\n",
    "fig.show()"
   ]
  },
  {
   "cell_type": "markdown",
   "metadata": {},
   "source": [
    "Рассогласование выборочных частот с теоретическими можно рассматривать как $\\sum_{i=1}^{k} \\left ( \\overline{p}_{i} - p_{i} \\right )^2$ (квадрат, чтобы избежать отприцательных значений). И чем меньше эта величина, тем меньше рассогласование. \n",
    "\n",
    "Пирсон записал критерий согласованности в следующем виде:"
   ]
  },
  {
   "cell_type": "markdown",
   "metadata": {},
   "source": [
    "$$\n",
    "U = \\sum_{i=1}^{k} c_{i} \\left ( \\overline{p_{i}} - p_{i} \\right )^2\n",
    "$$"
   ]
  },
  {
   "cell_type": "markdown",
   "metadata": {},
   "source": [
    "где \n",
    "$$\n",
    "c_{i} = \\frac{n}{p_{i}}, i = 1, 2, \\ldots, k\n",
    "$$\n",
    "вес каждого разряда"
   ]
  },
  {
   "cell_type": "markdown",
   "metadata": {},
   "source": [
    "И было показано, что при достаточно больших $n$ данная величина $U$ стремится к распределнию $\\chi^2(k - r - 1)$, где \n",
    "- $k - r - 1$ называется степенью свободы\n",
    "- $k$ - количество разрядов (интервалов)\n",
    "- $r + 1$ - число зависимых переменных"
   ]
  },
  {
   "cell_type": "markdown",
   "metadata": {},
   "source": [
    "$-1$ в выражении появилась от того, что т.к. $\\sum_{i=1}^{k} \\overline{p_{i}} = 1 \\Rightarrow \\overline{p_{j}} = 1- \\sum_{i=1, i \\neq j}^{k} \\overline{p_{i}}$, следовательно по крайней мере одно слагаемое в выражении $\\sum_{i=1}^{k} c_{i} \\left ( \\overline{p_{i}} - p_{i} \\right )^2$ является зависимым.\n",
    "\n",
    "$r$ по умолчанию равно 0. Но если мы оценили, к примеру, мат. ожидание по выборке (т.е. хотим, чтобы теоретическое мат. ожидание соответствовало выборочному), то $r$ = 1. Если еще и дисперсию по выборке оценили, т.е\n",
    "\n",
    "$$\n",
    "E_{x} = \\sum_{i=1}^{k} \\widetilde{x}_{i} \\overline{p}_{i}\n",
    "$$\n",
    "\n",
    "и\n",
    "\n",
    "$$\n",
    "\\sigma_{x}^{2} = \\sum_{i=1}^{k} \\left ( \\widetilde{x}_{i} - \\overline{m}_x \\right )^2 \\overline{p}_{i}\n",
    "$$\n",
    "\n",
    "то $r=2$. Т.е. всего зависимых величин стало 3 и количесво степеней свободы: $k - 3$. Если оцениваемых по выборке параметров будет еще больше, то и $r$ будет соответствено больше."
   ]
  },
  {
   "cell_type": "markdown",
   "metadata": {},
   "source": [
    "Вернемся к нашему примеру. Рассчитаем значение статистики и проверим $H_0$ при уровне значимости $\\alpha = 0.05$."
   ]
  },
  {
   "cell_type": "code",
   "execution_count": 9,
   "metadata": {
    "ExecuteTime": {
     "end_time": "2022-11-05T08:00:05.997653Z",
     "start_time": "2022-11-05T08:00:05.981583Z"
    }
   },
   "outputs": [],
   "source": [
    "def chi2(f_obs: np.array, f_exp: np.array, ddof: int, n: int) -> float:\n",
    "    '''\n",
    "    ddof - delta degrees of freedom\n",
    "    '''\n",
    "    c = n / f_exp\n",
    "    chi2_stat = np.sum(c*np.power(f_obs - f_exp, 2))\n",
    "    p_value = 1 - stats.chi2.cdf(chi2_stat, len(f_obs) - ddof - 1)\n",
    "    return chi2_stat, p_value"
   ]
  },
  {
   "cell_type": "code",
   "execution_count": 10,
   "metadata": {
    "ExecuteTime": {
     "end_time": "2022-11-05T08:00:06.318428Z",
     "start_time": "2022-11-05T08:00:06.302432Z"
    }
   },
   "outputs": [
    {
     "name": "stdout",
     "output_type": "stream",
     "text": [
      "Значение статистики:\t10.1010\n",
      "Значение p_value:\t0.8133\n"
     ]
    }
   ],
   "source": [
    "chi2_stat, p_value = chi2(f_obs=frequences[\"p_\"].values, f_exp=frequences[\"p\"].values, ddof=0, n=n)\n",
    "\n",
    "print(\"Значение статистики:\\t{:.4f}\".format(chi2_stat))\n",
    "print(\"Значение p_value:\\t{:.4f}\".format(p_value))"
   ]
  },
  {
   "cell_type": "markdown",
   "metadata": {},
   "source": [
    "Как мы видим, значение `p-value` больше уровня значимости $\\alpha = 0.05 \\Rightarrow$ нулевую гипотезу $H_0$ не отвергаем. Т.е. мы можем сказать, что наши данные соответствуют распределению $N(-2, 5)$"
   ]
  },
  {
   "cell_type": "markdown",
   "metadata": {},
   "source": [
    "**scipy**"
   ]
  },
  {
   "cell_type": "markdown",
   "metadata": {},
   "source": [
    "В `scipy` уже есть готовая функция, позволяющая выполнить оценку соответствия данных некоторому распределению с помощью критерия согласия Пирсона - `scipy.stats.chisquare`. Но с некоторыми особенностями:\n",
    "- в качестве аргументов `f_obs` (oserved) и `f_exp` (expected) в функцию передаются не относительные выборочные частоты и теоретические вероятности, а количества наблюдений - выборочные $m_{i}$ и теоретические, которые мы бы получили, если бы наши данные идеально бы описывали проверяемое распределение\n",
    "- $\\left | \\sum \\text{f_obs} - \\sum \\text{f_exp} \\right | < 1e^{-8}$ - т.е. различие между между общим количеством наблюдений для `f_obs` и `f_exp` не должно превышать некий tolerance"
   ]
  },
  {
   "cell_type": "markdown",
   "metadata": {},
   "source": [
    "Вернемся к нашему примеру, но на этот раз проверим, что наше распределение соответствует равномерному распределению, т.е. $X \\sim U$, т.е. в кажом бине должно быть равное количество наблюдений. Сформируем нулевую и альтернативную гипотезы:\n",
    "\n",
    "$$\n",
    "\\begin{equation*}\n",
    "\\begin{cases}\n",
    "H_{0}: X \\sim U\\\\\n",
    "H_{1}: X \\nsim U\n",
    "\\end{cases}\n",
    "\\end{equation*}\n",
    "$$\n",
    "\n",
    "Уровень значимости: $\\alpha = 0.05$"
   ]
  },
  {
   "cell_type": "code",
   "execution_count": 36,
   "metadata": {
    "ExecuteTime": {
     "end_time": "2022-11-05T08:16:31.808939Z",
     "start_time": "2022-11-05T08:16:31.784877Z"
    }
   },
   "outputs": [
    {
     "data": {
      "text/plain": [
       "Power_divergenceResult(statistic=1152.416, pvalue=2.7076716744821987e-236)"
      ]
     },
     "execution_count": 36,
     "metadata": {},
     "output_type": "execute_result"
    }
   ],
   "source": [
    "single_bin_exp = n / n_bins\n",
    "f_exp = np.full_like(frequences[\"m\"], fill_value=single_bin_exp, dtype=\"float\")\n",
    "\n",
    "# посчитаем значение статистики и p-value с помощью библиотеки scipy\n",
    "stats.chisquare(f_obs=frequences[\"m\"].values, f_exp=f_exp, ddof=0)"
   ]
  },
  {
   "cell_type": "markdown",
   "metadata": {},
   "source": [
    "Как мы видим, значение статистики очень большое, а значение `p-value` - очень маленькое. На основании этого, мы отвергаем нулевую гипотезу $H_{0}$ и принимаем альтернативную $H_{1}$."
   ]
  },
  {
   "cell_type": "markdown",
   "metadata": {},
   "source": [
    "**Рекомендации по использованию критерия согласия Пирсона**"
   ]
  },
  {
   "cell_type": "markdown",
   "metadata": {},
   "source": [
    "Из документации `scipy` по данному критерию согласия:\n",
    "- общее количество отрезков (бинов) должно быть больше 13;\n",
    "- для каждого отрезка (бина) количество наблюдений должно быть не менее 5. Эта рекомендация распространяется как на выборочные наблюдения, так и на теоретические. Данное правило в нашем примере мы не учитывали для упрощения подготовки данных.\n",
    "\n",
    "Для корректного использования данного критерия согласия настоятельно рекомендуется выполнять эти требования. В противном случае следует использовать другие статистические тесты."
   ]
  },
  {
   "cell_type": "markdown",
   "metadata": {},
   "source": [
    "### Тест на гомогенность"
   ]
  },
  {
   "cell_type": "markdown",
   "metadata": {},
   "source": [
    "Тест хи-квадрат также можно использовать для проверки **гомогенности** распределений двух различных групп. Рассмотрим на примере.\n",
    "\n",
    "У нас есть две группы, каждая случайным образом сэмплирована из своей популяции (партии демократов и партии республиканцев, соответственно):\n",
    "- **группа А** - представители демократической партии\n",
    "- **группа Б** - представители республиканской партии\n",
    "\n",
    "И имеется информация по каждой группе, сколько человек поддерживают новый закон, относятся нейтрально и относятся негативно. Эти данные сведены в таблицу ниже. Необходимо понять, существует ли разница в оношении к принимаемому закону в этих двух партиях на уровне значимости $\\alpha = 0.05$.\n",
    "\n",
    "$$\n",
    "\\begin{equation*}\n",
    "\\begin{cases}\n",
    "H_{0}: \\text{разница в отношении двух партий к принимаемму закону отсутствует} \\\\\n",
    "H_{1}: \\text{разница есть}\n",
    "\\end{cases}\n",
    "\\end{equation*}\n",
    "$$"
   ]
  },
  {
   "cell_type": "markdown",
   "metadata": {},
   "source": [
    "Т.е. по факту, мы проверяем соответствие двух распределений - распределение для группы А и распределение для группы Б"
   ]
  },
  {
   "cell_type": "code",
   "execution_count": 100,
   "metadata": {
    "ExecuteTime": {
     "end_time": "2022-11-05T10:51:25.000287Z",
     "start_time": "2022-11-05T10:51:24.974761Z"
    }
   },
   "outputs": [
    {
     "data": {
      "text/html": [
       "<div>\n",
       "<style scoped>\n",
       "    .dataframe tbody tr th:only-of-type {\n",
       "        vertical-align: middle;\n",
       "    }\n",
       "\n",
       "    .dataframe tbody tr th {\n",
       "        vertical-align: top;\n",
       "    }\n",
       "\n",
       "    .dataframe thead th {\n",
       "        text-align: right;\n",
       "    }\n",
       "</style>\n",
       "<table border=\"1\" class=\"dataframe\">\n",
       "  <thead>\n",
       "    <tr style=\"text-align: right;\">\n",
       "      <th></th>\n",
       "      <th>democrat</th>\n",
       "      <th>republican</th>\n",
       "      <th>total</th>\n",
       "    </tr>\n",
       "  </thead>\n",
       "  <tbody>\n",
       "    <tr>\n",
       "      <th>favor</th>\n",
       "      <td>138</td>\n",
       "      <td>64</td>\n",
       "      <td>202</td>\n",
       "    </tr>\n",
       "    <tr>\n",
       "      <th>indifferent</th>\n",
       "      <td>83</td>\n",
       "      <td>67</td>\n",
       "      <td>150</td>\n",
       "    </tr>\n",
       "    <tr>\n",
       "      <th>opposed</th>\n",
       "      <td>64</td>\n",
       "      <td>84</td>\n",
       "      <td>148</td>\n",
       "    </tr>\n",
       "    <tr>\n",
       "      <th>total</th>\n",
       "      <td>285</td>\n",
       "      <td>215</td>\n",
       "      <td>500</td>\n",
       "    </tr>\n",
       "  </tbody>\n",
       "</table>\n",
       "</div>"
      ],
      "text/plain": [
       "             democrat  republican  total\n",
       "favor             138          64    202\n",
       "indifferent        83          67    150\n",
       "opposed            64          84    148\n",
       "total             285         215    500"
      ]
     },
     "metadata": {},
     "output_type": "display_data"
    }
   ],
   "source": [
    "with open(\"./data/political_affiliation.txt\", \"r\", encoding=\"utf-16\") as f:\n",
    "    columns = f.readline().split()\n",
    "    data = [list(map(int, line.split())) for line in f.readlines()]\n",
    "df = pd.DataFrame(data=data, columns=columns, index=[\"democrat\", \"republican\"]).T\n",
    "df[\"total\"] = df.sum(axis=1)\n",
    "df.loc[\"total\", :] = df.sum(axis=0)\n",
    "df = df.astype(\"int\")\n",
    "display(df)"
   ]
  },
  {
   "cell_type": "markdown",
   "metadata": {},
   "source": [
    "Это таблица наблюдаемых значений. Теперь необходимо составить таблицу ожидаемых значений. При достоверности гипотезы $H_0$ мы ожидаем, что количество человек в каждой категории (favor, indifferent и opposed) для обеих партий будет одинаковым в соответствии с пропорцией размера групп.\n",
    "\n",
    "К примеру, для категории favor мы ожидаем количество человек из партии демократов:\n",
    "\n",
    "$$\n",
    "\\overline{p}_{favor} \\cdot n_{democrats} = \\frac{202}{500} \\cdot 285 = 115.14\n",
    "$$"
   ]
  },
  {
   "cell_type": "markdown",
   "metadata": {},
   "source": [
    "И для республиканцев:\n",
    "\n",
    "$$\n",
    "\\overline{p}_{favor} \\cdot n_{republican} = \\frac{202}{500} \\cdot 215 = 86.86\n",
    "$$"
   ]
  },
  {
   "cell_type": "markdown",
   "metadata": {
    "ExecuteTime": {
     "end_time": "2022-11-05T11:27:26.604455Z",
     "start_time": "2022-11-05T11:27:26.592455Z"
    }
   },
   "source": [
    "Таблица ожидаемых наблюдений:"
   ]
  },
  {
   "cell_type": "code",
   "execution_count": 123,
   "metadata": {
    "ExecuteTime": {
     "end_time": "2022-11-05T11:35:12.223254Z",
     "start_time": "2022-11-05T11:35:12.194680Z"
    }
   },
   "outputs": [
    {
     "data": {
      "text/html": [
       "<div>\n",
       "<style scoped>\n",
       "    .dataframe tbody tr th:only-of-type {\n",
       "        vertical-align: middle;\n",
       "    }\n",
       "\n",
       "    .dataframe tbody tr th {\n",
       "        vertical-align: top;\n",
       "    }\n",
       "\n",
       "    .dataframe thead th {\n",
       "        text-align: right;\n",
       "    }\n",
       "</style>\n",
       "<table border=\"1\" class=\"dataframe\">\n",
       "  <thead>\n",
       "    <tr style=\"text-align: right;\">\n",
       "      <th></th>\n",
       "      <th>democrat</th>\n",
       "      <th>republican</th>\n",
       "      <th>total</th>\n",
       "    </tr>\n",
       "  </thead>\n",
       "  <tbody>\n",
       "    <tr>\n",
       "      <th>favor</th>\n",
       "      <td>115.14</td>\n",
       "      <td>86.86</td>\n",
       "      <td>202.0</td>\n",
       "    </tr>\n",
       "    <tr>\n",
       "      <th>indifferent</th>\n",
       "      <td>85.50</td>\n",
       "      <td>64.50</td>\n",
       "      <td>150.0</td>\n",
       "    </tr>\n",
       "    <tr>\n",
       "      <th>opposed</th>\n",
       "      <td>84.36</td>\n",
       "      <td>63.64</td>\n",
       "      <td>148.0</td>\n",
       "    </tr>\n",
       "    <tr>\n",
       "      <th>total</th>\n",
       "      <td>285.00</td>\n",
       "      <td>215.00</td>\n",
       "      <td>500.0</td>\n",
       "    </tr>\n",
       "  </tbody>\n",
       "</table>\n",
       "</div>"
      ],
      "text/plain": [
       "             democrat  republican  total\n",
       "favor          115.14       86.86  202.0\n",
       "indifferent     85.50       64.50  150.0\n",
       "opposed         84.36       63.64  148.0\n",
       "total          285.00      215.00  500.0"
      ]
     },
     "metadata": {},
     "output_type": "display_data"
    }
   ],
   "source": [
    "# определим частоты\n",
    "p_ = df.loc[[\"favor\", \"indifferent\", \"opposed\"], \"total\"] / df.loc[\"total\", \"total\"]\n",
    "\n",
    "# посчитаем ожидаемое количество наблюдей в случае достоверности нулевой гипотезы\n",
    "data_exp = p_.values.reshape(-1, 1) @ df.loc[\"total\", [\"democrat\", \"republican\"]].values.reshape(1, -1)\n",
    "df_exp = pd.DataFrame(data=data_exp, columns=[\"democrat\", \"republican\"], index=columns)\n",
    "df_exp[\"total\"] = df_exp.sum(axis=1)\n",
    "df_exp.loc[\"total\", :] = df_exp.sum(axis=0)\n",
    "display(df_exp)"
   ]
  },
  {
   "cell_type": "markdown",
   "metadata": {
    "ExecuteTime": {
     "end_time": "2022-11-05T11:37:57.594042Z",
     "start_time": "2022-11-05T11:37:57.584040Z"
    }
   },
   "source": [
    "Рассчитаем значение статистики"
   ]
  },
  {
   "cell_type": "markdown",
   "metadata": {},
   "source": [
    "$$\n",
    "\\chi^2 = \\frac{\\left ( 138 - 115.14 \\right ) ^2}{115.14} + \\frac{\\left ( 64 - 86.86 \\right ) ^2}{86.86} + \\ldots +\n",
    "\\frac{\\left ( 84 - 63.64 \\right ) ^2}{63.64} = 22.1525\n",
    "$$"
   ]
  },
  {
   "cell_type": "code",
   "execution_count": 132,
   "metadata": {
    "ExecuteTime": {
     "end_time": "2022-11-05T11:46:26.007770Z",
     "start_time": "2022-11-05T11:46:25.993770Z"
    }
   },
   "outputs": [
    {
     "name": "stdout",
     "output_type": "stream",
     "text": [
      "Значение статистики: 22.1525\n"
     ]
    }
   ],
   "source": [
    "data_obs = df.loc[[\"favor\", \"indifferent\", \"opposed\"], [\"democrat\", \"republican\"]].values\n",
    "data_exp = df_exp.loc[[\"favor\", \"indifferent\", \"opposed\"], [\"democrat\", \"republican\"]].values\n",
    "\n",
    "chi2_stat = np.sum(np.power(data_obs - data_exp, 2) / data_exp)\n",
    "print(\"Значение статистики: {:.4f}\".format(chi2_stat))"
   ]
  },
  {
   "cell_type": "markdown",
   "metadata": {},
   "source": [
    "Теперь необходимо понять значение степеней свободы. В данном случае, количество степеней свободы вычислить можно следующим образом:\n",
    "\n",
    "$$\n",
    "k = \\left ( \\text{количество строк} - 1 \\right ) \\cdot \\left ( \\text{количество столбцов} - 1 \\right )\n",
    "$$"
   ]
  },
  {
   "cell_type": "markdown",
   "metadata": {},
   "source": [
    "Почему же формула именно такая? Количество степеней свободы - количество суммируемых величин в критерии хи-квадрат. Но, т.к. мы знаем общее количество человек в каждой строке / сболбце, мы можем определить количество человек в каждом столбце по другим столбцам, и в каждой строке по другим строкам. Т.е. как минимум мы имеем $\\text{количество строк} + \\text{количество столбцов}$ зависимых переменных $\\Rightarrow$ вычитаем единички в выражении."
   ]
  },
  {
   "cell_type": "code",
   "execution_count": 134,
   "metadata": {
    "ExecuteTime": {
     "end_time": "2022-11-05T11:58:42.605082Z",
     "start_time": "2022-11-05T11:58:42.600987Z"
    }
   },
   "outputs": [
    {
     "name": "stdout",
     "output_type": "stream",
     "text": [
      "Число степеней свободы в нашем случае равно: 2\n"
     ]
    }
   ],
   "source": [
    "k = (3 - 1)*(2 - 1)\n",
    "print(\"Число степеней свободы в нашем случае равно: {}\".format(k))"
   ]
  },
  {
   "cell_type": "markdown",
   "metadata": {},
   "source": [
    "Определим значение `p-value`"
   ]
  },
  {
   "cell_type": "code",
   "execution_count": 138,
   "metadata": {
    "ExecuteTime": {
     "end_time": "2022-11-05T11:59:43.361937Z",
     "start_time": "2022-11-05T11:59:43.353911Z"
    }
   },
   "outputs": [
    {
     "name": "stdout",
     "output_type": "stream",
     "text": [
      "Значение p-value: 0.0000\n"
     ]
    }
   ],
   "source": [
    "p_value = 1 - stats.chi2.cdf(chi2_stat, k)\n",
    "print(\"Значение p-value: {:.4f}\".format(p_value))"
   ]
  },
  {
   "cell_type": "markdown",
   "metadata": {},
   "source": [
    "Посчитаем значение статистики и `p-value` с помощью библиотеки `scipy`"
   ]
  },
  {
   "cell_type": "code",
   "execution_count": 149,
   "metadata": {
    "ExecuteTime": {
     "end_time": "2022-11-05T12:06:39.045498Z",
     "start_time": "2022-11-05T12:06:39.023907Z"
    }
   },
   "outputs": [
    {
     "data": {
      "text/plain": [
       "Power_divergenceResult(statistic=22.152468645918486, pvalue=1.5475780213989535e-05)"
      ]
     },
     "execution_count": 149,
     "metadata": {},
     "output_type": "execute_result"
    }
   ],
   "source": [
    "stats.chisquare(f_obs=data_obs.flatten(), f_exp=data_exp.flatten(), ddof=3)"
   ]
  },
  {
   "cell_type": "markdown",
   "metadata": {},
   "source": [
    "Значение `p-value` оказалось очень маленьким $\\Rightarrow$ мы отвергаем нулевую гипотезу - различия есть."
   ]
  },
  {
   "cell_type": "markdown",
   "metadata": {},
   "source": [
    "### Тест на независимость"
   ]
  },
  {
   "cell_type": "markdown",
   "metadata": {},
   "source": [
    "Технически абсолютно аналогичен предыдущему тесту, разница лишь в постановке задачи. Разберем на примере.\n",
    "\n",
    "У нас есть подвыборка из общей совокупности и нам необходимо оценить, если ли связь между различием в длине рук и длине ступней. Т.е. провести тест на независимость этих величин с выбранным уровнем значимости $\\alpha = 0.05$.\n",
    "\n",
    "\n",
    "$$\n",
    "\\begin{equation*}\n",
    "\\begin{cases}\n",
    "H_{0}: \\text{связь между длиной рук и длиной ступней отсутствует} \\\\\n",
    "H_{1}: \\text{связь есть}\n",
    "\\end{cases}\n",
    "\\end{equation*}\n",
    "$$\n",
    "\n",
    "Хочу обратить внимание, что если в предыдущем примере у нас были две подвыборки из двух различных совокупностей (популяций), то в этом примере - одна выборка из единственной совокупности (популяции)."
   ]
  },
  {
   "cell_type": "markdown",
   "metadata": {},
   "source": [
    "Загрузим таблицу с данными"
   ]
  },
  {
   "cell_type": "code",
   "execution_count": 154,
   "metadata": {
    "ExecuteTime": {
     "end_time": "2022-11-05T13:30:48.386711Z",
     "start_time": "2022-11-05T13:30:48.366126Z"
    }
   },
   "outputs": [
    {
     "data": {
      "text/html": [
       "<div>\n",
       "<style scoped>\n",
       "    .dataframe tbody tr th:only-of-type {\n",
       "        vertical-align: middle;\n",
       "    }\n",
       "\n",
       "    .dataframe tbody tr th {\n",
       "        vertical-align: top;\n",
       "    }\n",
       "\n",
       "    .dataframe thead th {\n",
       "        text-align: right;\n",
       "    }\n",
       "</style>\n",
       "<table border=\"1\" class=\"dataframe\">\n",
       "  <thead>\n",
       "    <tr style=\"text-align: right;\">\n",
       "      <th></th>\n",
       "      <th>right_foot_longer</th>\n",
       "      <th>left_foot_longer</th>\n",
       "      <th>both_feet_same</th>\n",
       "      <th>total</th>\n",
       "    </tr>\n",
       "  </thead>\n",
       "  <tbody>\n",
       "    <tr>\n",
       "      <th>right_hand_longer</th>\n",
       "      <td>11</td>\n",
       "      <td>3</td>\n",
       "      <td>8</td>\n",
       "      <td>22</td>\n",
       "    </tr>\n",
       "    <tr>\n",
       "      <th>left_hand_longer</th>\n",
       "      <td>2</td>\n",
       "      <td>9</td>\n",
       "      <td>14</td>\n",
       "      <td>25</td>\n",
       "    </tr>\n",
       "    <tr>\n",
       "      <th>both_hand_same</th>\n",
       "      <td>12</td>\n",
       "      <td>13</td>\n",
       "      <td>28</td>\n",
       "      <td>53</td>\n",
       "    </tr>\n",
       "    <tr>\n",
       "      <th>total</th>\n",
       "      <td>25</td>\n",
       "      <td>25</td>\n",
       "      <td>50</td>\n",
       "      <td>100</td>\n",
       "    </tr>\n",
       "  </tbody>\n",
       "</table>\n",
       "</div>"
      ],
      "text/plain": [
       "                   right_foot_longer  left_foot_longer  both_feet_same  total\n",
       "right_hand_longer                 11                 3               8     22\n",
       "left_hand_longer                   2                 9              14     25\n",
       "both_hand_same                    12                13              28     53\n",
       "total                             25                25              50    100"
      ]
     },
     "metadata": {},
     "output_type": "display_data"
    }
   ],
   "source": [
    "with open(\"./data/longest_hand_vs_longest_foot.txt\", \"r\", encoding=\"utf-8\") as f:\n",
    "    columns = f.readline().split()\n",
    "    indexes = f.readline().split()\n",
    "    data = [list(map(int, line.split())) for line in f.readlines()]\n",
    "df = pd.DataFrame(data=data, columns=columns, index=indexes)\n",
    "df[\"total\"] = df.sum(axis=1)\n",
    "df.loc[\"total\", :] = df.sum(axis=0)\n",
    "df = df.astype(\"int\")\n",
    "display(df)"
   ]
  },
  {
   "cell_type": "markdown",
   "metadata": {},
   "source": [
    "Далее посчитаем выборочные частоты для каждой из категорий. Т.к. мы проверяем нулевую гипотезу о том, что связи нет и $\\Rightarrow$ наблюдения для рук и ног независимы, то"
   ]
  },
  {
   "cell_type": "code",
   "execution_count": 160,
   "metadata": {
    "ExecuteTime": {
     "end_time": "2022-11-05T13:37:21.707890Z",
     "start_time": "2022-11-05T13:37:21.689289Z"
    }
   },
   "outputs": [
    {
     "name": "stdout",
     "output_type": "stream",
     "text": [
      "Выборочные частоты для рук:\n"
     ]
    },
    {
     "data": {
      "text/plain": [
       "right_hand_longer    0.22\n",
       "left_hand_longer     0.25\n",
       "both_hand_same       0.53\n",
       "Name: total, dtype: float64"
      ]
     },
     "metadata": {},
     "output_type": "display_data"
    },
    {
     "name": "stdout",
     "output_type": "stream",
     "text": [
      "\n",
      "Выборочные частоты для ног:\n"
     ]
    },
    {
     "data": {
      "text/plain": [
       "right_foot_longer    0.25\n",
       "left_foot_longer     0.25\n",
       "both_feet_same       0.50\n",
       "Name: total, dtype: float64"
      ]
     },
     "metadata": {},
     "output_type": "display_data"
    }
   ],
   "source": [
    "print(\"Выборочные частоты для рук:\")\n",
    "p_hands = df.loc[indexes, \"total\"] / df.loc[\"total\", \"total\"]\n",
    "display(p_hands)\n",
    "\n",
    "print(\"\\nВыборочные частоты для ног:\")\n",
    "p_foots = df.loc[\"total\", columns] / df.loc[\"total\", \"total\"]\n",
    "display(p_foots)"
   ]
  },
  {
   "cell_type": "markdown",
   "metadata": {},
   "source": [
    "И с учетом условия независимости количества наблюдений для рук и ног можно сказать, что, к примеру, вероятность того, что правая рука длиннее и правая нога длиннее равна (перемножив эти вероятности - логический И):"
   ]
  },
  {
   "cell_type": "markdown",
   "metadata": {},
   "source": [
    "$$\n",
    "\\overline{p}_{\\text{right hand longer AND right foot longer}} = \n",
    "\\overline{p}_{\\text{right hand longer}} \\cdot \\overline{p}_{\\text{right foot longer}} = 0.22 \\cdot 0.25 = 0.055\n",
    "$$"
   ]
  },
  {
   "cell_type": "markdown",
   "metadata": {},
   "source": [
    "$\\Rightarrow$ в выборке, размера 100, мы ожидаем, что мы получим следующее количество людей (ожидаемое количество), у которых правая рука длиннее левой руки и правая нога длиннее левой ноги, при условии достоверности гипотезы $H_{0}$:\n",
    "\n",
    "$$\n",
    "\\overline{p}_{\\text{right hand longer AND right foot longer}} \\cdot n = 0.055 \\cdot 100 = 5.5\n",
    "$$\n",
    "\n",
    "Посчитаем ожидаемое количество для остальных случаев"
   ]
  },
  {
   "cell_type": "code",
   "execution_count": 168,
   "metadata": {
    "ExecuteTime": {
     "end_time": "2022-11-05T13:49:24.015850Z",
     "start_time": "2022-11-05T13:49:23.991855Z"
    }
   },
   "outputs": [
    {
     "data": {
      "text/html": [
       "<div>\n",
       "<style scoped>\n",
       "    .dataframe tbody tr th:only-of-type {\n",
       "        vertical-align: middle;\n",
       "    }\n",
       "\n",
       "    .dataframe tbody tr th {\n",
       "        vertical-align: top;\n",
       "    }\n",
       "\n",
       "    .dataframe thead th {\n",
       "        text-align: right;\n",
       "    }\n",
       "</style>\n",
       "<table border=\"1\" class=\"dataframe\">\n",
       "  <thead>\n",
       "    <tr style=\"text-align: right;\">\n",
       "      <th></th>\n",
       "      <th>right_foot_longer</th>\n",
       "      <th>left_foot_longer</th>\n",
       "      <th>both_feet_same</th>\n",
       "      <th>total</th>\n",
       "    </tr>\n",
       "  </thead>\n",
       "  <tbody>\n",
       "    <tr>\n",
       "      <th>right_hand_longer</th>\n",
       "      <td>5.50</td>\n",
       "      <td>5.50</td>\n",
       "      <td>11.0</td>\n",
       "      <td>22.0</td>\n",
       "    </tr>\n",
       "    <tr>\n",
       "      <th>left_hand_longer</th>\n",
       "      <td>6.25</td>\n",
       "      <td>6.25</td>\n",
       "      <td>12.5</td>\n",
       "      <td>25.0</td>\n",
       "    </tr>\n",
       "    <tr>\n",
       "      <th>both_hand_same</th>\n",
       "      <td>13.25</td>\n",
       "      <td>13.25</td>\n",
       "      <td>26.5</td>\n",
       "      <td>53.0</td>\n",
       "    </tr>\n",
       "    <tr>\n",
       "      <th>total</th>\n",
       "      <td>25.00</td>\n",
       "      <td>25.00</td>\n",
       "      <td>50.0</td>\n",
       "      <td>100.0</td>\n",
       "    </tr>\n",
       "  </tbody>\n",
       "</table>\n",
       "</div>"
      ],
      "text/plain": [
       "                   right_foot_longer  left_foot_longer  both_feet_same  total\n",
       "right_hand_longer               5.50              5.50            11.0   22.0\n",
       "left_hand_longer                6.25              6.25            12.5   25.0\n",
       "both_hand_same                 13.25             13.25            26.5   53.0\n",
       "total                          25.00             25.00            50.0  100.0"
      ]
     },
     "metadata": {},
     "output_type": "display_data"
    }
   ],
   "source": [
    "data_exp = (p_hands.values.reshape(-1, 1) @ p_foots.values.reshape(1, -1)) * 100\n",
    "df_exp = pd.DataFrame(data=data_exp, columns=columns, index=indexes)\n",
    "df_exp[\"total\"] = df_exp.sum(axis=1)\n",
    "df_exp.loc[\"total\", :] = df_exp.sum(axis=0)\n",
    "display(df_exp)"
   ]
  },
  {
   "cell_type": "markdown",
   "metadata": {},
   "source": [
    "Рассчитаем статистику и `p_value`"
   ]
  },
  {
   "cell_type": "code",
   "execution_count": 172,
   "metadata": {
    "ExecuteTime": {
     "end_time": "2022-11-05T13:54:05.932513Z",
     "start_time": "2022-11-05T13:54:05.917516Z"
    }
   },
   "outputs": [
    {
     "name": "stdout",
     "output_type": "stream",
     "text": [
      "Значение статистики:\t11.9421\n",
      "Значение p-value:\t0.0178\n"
     ]
    }
   ],
   "source": [
    "data_obs = df.loc[indexes, columns].values\n",
    "data_exp = df_exp.loc[indexes, columns].values\n",
    "\n",
    "chi2_stat = np.sum(np.power(data_obs - data_exp, 2) / data_exp)\n",
    "print(\"Значение статистики:\\t{:.4f}\".format(chi2_stat))\n",
    "\n",
    "# Количество степеней свободы рассчитывается аналогично примеру выше (см. тест на гомогенность)\n",
    "k = (3 - 1)*(3 - 1)\n",
    "p_value = 1 - stats.chi2.cdf(chi2_stat, k)\n",
    "print(\"Значение p-value:\\t{:.4f}\".format(p_value))"
   ]
  },
  {
   "cell_type": "markdown",
   "metadata": {},
   "source": [
    "Используя библиотеку `scipy` мы получили абсолютно такие же значения"
   ]
  },
  {
   "cell_type": "code",
   "execution_count": 176,
   "metadata": {
    "ExecuteTime": {
     "end_time": "2022-11-05T13:59:14.126225Z",
     "start_time": "2022-11-05T13:59:14.115191Z"
    }
   },
   "outputs": [
    {
     "name": "stdout",
     "output_type": "stream",
     "text": [
      "Значение статистики:\t\t11.9421\n",
      "Значение p-value:\t\t0.0178\n",
      "Количество степеней свободы:\t4\n",
      "Ожидаемые значения:\n"
     ]
    },
    {
     "data": {
      "text/plain": [
       "array([[ 5.5 ,  5.5 , 11.  ],\n",
       "       [ 6.25,  6.25, 12.5 ],\n",
       "       [13.25, 13.25, 26.5 ]])"
      ]
     },
     "metadata": {},
     "output_type": "display_data"
    }
   ],
   "source": [
    "# scipy.stats.chi2_contingency - инструмент для проведения теста на независимость\n",
    "chi2_stat, p_value, k, data_exp = stats.chi2_contingency(observed=data_obs)\n",
    "\n",
    "print(\"Значение статистики:\\t\\t{:.4f}\".format(chi2_stat))\n",
    "print(\"Значение p-value:\\t\\t{:.4f}\".format(p_value))\n",
    "print(\"Количество степеней свободы:\\t{}\".format(k))\n",
    "print(\"Ожидаемые значения:\")\n",
    "display(data_exp)"
   ]
  },
  {
   "cell_type": "markdown",
   "metadata": {},
   "source": [
    "Полученное значение `p-value` оказалось меньше выбранного уровня значимости $\\alpha = 0.05 \\Rightarrow$ мы отвергаем нулевую гипотезу и принимаем альтернативную $\\Rightarrow$ связь между различием в длине рук и различием в длине ступней есть."
   ]
  },
  {
   "cell_type": "markdown",
   "metadata": {},
   "source": [
    "### Задачи"
   ]
  },
  {
   "cell_type": "markdown",
   "metadata": {},
   "source": [
    "#### Задача 1"
   ]
  },
  {
   "cell_type": "markdown",
   "metadata": {},
   "source": [
    "The operations manager of a company that manufactures tires wants to determine whether there are any differences in the quality of work among the three daily shifts. She randomly selects 496 tires and carefully inspects them. Each tire is either classified as perfect, satisfactory, or defective, and the shift that produced it is also recorded. The two categorical variables of interest are the shift and condition of the tire produced. The data ([shift_quality.txt](./data/shift_quality.txt)) can be summarized by the accompanying two-way table. Does the data provide sufficient evidence at the 5% significance level to infer that there are differences in quality among the three shifts?"
   ]
  },
  {
   "cell_type": "code",
   "execution_count": 182,
   "metadata": {
    "ExecuteTime": {
     "end_time": "2022-11-05T14:17:15.202912Z",
     "start_time": "2022-11-05T14:17:15.186876Z"
    }
   },
   "outputs": [
    {
     "data": {
      "text/html": [
       "<div>\n",
       "<style scoped>\n",
       "    .dataframe tbody tr th:only-of-type {\n",
       "        vertical-align: middle;\n",
       "    }\n",
       "\n",
       "    .dataframe tbody tr th {\n",
       "        vertical-align: top;\n",
       "    }\n",
       "\n",
       "    .dataframe thead th {\n",
       "        text-align: right;\n",
       "    }\n",
       "</style>\n",
       "<table border=\"1\" class=\"dataframe\">\n",
       "  <thead>\n",
       "    <tr style=\"text-align: right;\">\n",
       "      <th></th>\n",
       "      <th>Perfect</th>\n",
       "      <th>Satisfactory</th>\n",
       "      <th>Defective</th>\n",
       "    </tr>\n",
       "  </thead>\n",
       "  <tbody>\n",
       "    <tr>\n",
       "      <th>0</th>\n",
       "      <td>106</td>\n",
       "      <td>124</td>\n",
       "      <td>1</td>\n",
       "    </tr>\n",
       "    <tr>\n",
       "      <th>1</th>\n",
       "      <td>67</td>\n",
       "      <td>85</td>\n",
       "      <td>1</td>\n",
       "    </tr>\n",
       "    <tr>\n",
       "      <th>2</th>\n",
       "      <td>37</td>\n",
       "      <td>72</td>\n",
       "      <td>3</td>\n",
       "    </tr>\n",
       "  </tbody>\n",
       "</table>\n",
       "</div>"
      ],
      "text/plain": [
       "   Perfect  Satisfactory  Defective\n",
       "0      106           124          1\n",
       "1       67            85          1\n",
       "2       37            72          3"
      ]
     },
     "metadata": {},
     "output_type": "display_data"
    },
    {
     "name": "stdout",
     "output_type": "stream",
     "text": [
      "Уровень значимости: 0.05\n"
     ]
    }
   ],
   "source": [
    "# читаем таблицу наблюдений\n",
    "with open(\"./data/shift_quality.txt\", \"r\", encoding=\"utf-16\") as f:\n",
    "    columns = f.readline().split()\n",
    "    data = [list(map(int, line.split())) for line in f.readlines()]\n",
    "df = pd.DataFrame(data=data, columns=columns)\n",
    "display(df)\n",
    "\n",
    "# уровень значимости\n",
    "print(\"Уровень значимости: 0.05\")"
   ]
  },
  {
   "cell_type": "markdown",
   "metadata": {},
   "source": [
    "Это классическая задача на проведения теста на независимость. Сформулируем нулевую и альтернативную гипотезы:\n",
    "\n",
    "$$\n",
    "\\begin{equation*}\n",
    "\\begin{cases}\n",
    "H_{0}: \\text{связь между номером сменой и качеством продукции отсутствует} \\\\\n",
    "H_{1}: \\text{связь есть}\n",
    "\\end{cases}\n",
    "\\end{equation*}\n",
    "$$\n"
   ]
  },
  {
   "cell_type": "code",
   "execution_count": 185,
   "metadata": {
    "ExecuteTime": {
     "end_time": "2022-11-05T14:24:14.559780Z",
     "start_time": "2022-11-05T14:24:14.539746Z"
    }
   },
   "outputs": [
    {
     "name": "stdout",
     "output_type": "stream",
     "text": [
      "Значение статистики:\t\t8.6467\n",
      "Значение p-value:\t\t0.0706\n",
      "Количество степеней свободы:\t4\n",
      "Ожидаемые значения:\n"
     ]
    },
    {
     "data": {
      "text/plain": [
       "array([[ 97.80241935, 130.86895161,   2.32862903],\n",
       "       [ 64.77822581,  86.67943548,   1.54233871],\n",
       "       [ 47.41935484,  63.4516129 ,   1.12903226]])"
      ]
     },
     "metadata": {},
     "output_type": "display_data"
    }
   ],
   "source": [
    "chi2_stat, p_value, k, data_exp = stats.chi2_contingency(observed=df.values)\n",
    "\n",
    "print(\"Значение статистики:\\t\\t{:.4f}\".format(chi2_stat))\n",
    "print(\"Значение p-value:\\t\\t{:.4f}\".format(p_value))\n",
    "print(\"Количество степеней свободы:\\t{}\".format(k))\n",
    "print(\"Ожидаемые значения:\")\n",
    "display(data_exp)"
   ]
  },
  {
   "cell_type": "markdown",
   "metadata": {},
   "source": [
    "$\\text{p-value} > \\left [ \\alpha = 0.05 \\right ] \\Rightarrow H_{0}$ принимаем $\\Rightarrow$ связь между номером смены и качеством продукции отсутствует. **Но мы все еще должны сомневаться в результатах, т.к. как минимум для 3 из 9 ячеек в таблице ожидаемых результатов (см. последнюю колонку) мы имеем значения меньше 5!**"
   ]
  },
  {
   "cell_type": "markdown",
   "metadata": {},
   "source": [
    "#### Задача 2"
   ]
  },
  {
   "cell_type": "markdown",
   "metadata": {},
   "source": [
    "A food services manager for a baseball park wants to know if there is a relationship between gender (male or female) and the preferred condiment on a hot dog. The following table summarizes the results. Test the hypothesis with a significance level of 10%."
   ]
  },
  {
   "cell_type": "code",
   "execution_count": 187,
   "metadata": {
    "ExecuteTime": {
     "end_time": "2022-11-05T14:31:26.237206Z",
     "start_time": "2022-11-05T14:31:26.227171Z"
    }
   },
   "outputs": [
    {
     "data": {
      "text/html": [
       "<div>\n",
       "<style scoped>\n",
       "    .dataframe tbody tr th:only-of-type {\n",
       "        vertical-align: middle;\n",
       "    }\n",
       "\n",
       "    .dataframe tbody tr th {\n",
       "        vertical-align: top;\n",
       "    }\n",
       "\n",
       "    .dataframe thead th {\n",
       "        text-align: right;\n",
       "    }\n",
       "</style>\n",
       "<table border=\"1\" class=\"dataframe\">\n",
       "  <thead>\n",
       "    <tr style=\"text-align: right;\">\n",
       "      <th></th>\n",
       "      <th>Ketchup</th>\n",
       "      <th>Mustard</th>\n",
       "      <th>Relish</th>\n",
       "    </tr>\n",
       "  </thead>\n",
       "  <tbody>\n",
       "    <tr>\n",
       "      <th>Male</th>\n",
       "      <td>15</td>\n",
       "      <td>23</td>\n",
       "      <td>10</td>\n",
       "    </tr>\n",
       "    <tr>\n",
       "      <th>Feemale</th>\n",
       "      <td>25</td>\n",
       "      <td>19</td>\n",
       "      <td>8</td>\n",
       "    </tr>\n",
       "  </tbody>\n",
       "</table>\n",
       "</div>"
      ],
      "text/plain": [
       "         Ketchup  Mustard  Relish\n",
       "Male          15       23      10\n",
       "Feemale       25       19       8"
      ]
     },
     "metadata": {},
     "output_type": "display_data"
    }
   ],
   "source": [
    "with open(\"./data./gender_and_condiment.txt\", \"r\", encoding=\"utf-8\") as f:\n",
    "    columns = f.readline().split()\n",
    "    rows = f.readline().split()\n",
    "    data = [list(map(int, line.split())) for line in f.readlines()]\n",
    "df = pd.DataFrame(data=data, columns=columns, index=rows)\n",
    "display(df)"
   ]
  },
  {
   "cell_type": "markdown",
   "metadata": {},
   "source": [
    "Сформулируем нулевую и альтернативную гипотезы:\n",
    "\n",
    "$$\n",
    "\\begin{equation*}\n",
    "\\begin{cases}\n",
    "H_{0}: \\text{связь между полом и предпочитаемым соусом отсутствует} \\\\\n",
    "H_{1}: \\text{связь есть}\n",
    "\\end{cases}\n",
    "\\end{equation*}\n",
    "$$"
   ]
  },
  {
   "cell_type": "code",
   "execution_count": 188,
   "metadata": {
    "ExecuteTime": {
     "end_time": "2022-11-05T14:31:43.718993Z",
     "start_time": "2022-11-05T14:31:43.699033Z"
    }
   },
   "outputs": [
    {
     "name": "stdout",
     "output_type": "stream",
     "text": [
      "Значение статистики:\t\t2.9479\n",
      "Значение p-value:\t\t0.2290\n",
      "Количество степеней свободы:\t2\n",
      "Ожидаемые значения:\n"
     ]
    },
    {
     "data": {
      "text/plain": [
       "array([[19.2 , 20.16,  8.64],\n",
       "       [20.8 , 21.84,  9.36]])"
      ]
     },
     "metadata": {},
     "output_type": "display_data"
    }
   ],
   "source": [
    "chi2_stat, p_value, k, data_exp = stats.chi2_contingency(observed=df.values)\n",
    "\n",
    "print(\"Значение статистики:\\t\\t{:.4f}\".format(chi2_stat))\n",
    "print(\"Значение p-value:\\t\\t{:.4f}\".format(p_value))\n",
    "print(\"Количество степеней свободы:\\t{}\".format(k))\n",
    "print(\"Ожидаемые значения:\")\n",
    "display(data_exp)"
   ]
  },
  {
   "cell_type": "markdown",
   "metadata": {},
   "source": [
    "$\\text{p-value} > \\left [ \\alpha = 0.1 \\right ] \\Rightarrow H_{0}$ принимаем $\\Rightarrow$ связь между полом и предпочитаемым соусом отсутствует."
   ]
  },
  {
   "cell_type": "markdown",
   "id": "fc38ef95",
   "metadata": {},
   "source": [
    "## A/B тесты"
   ]
  },
  {
   "cell_type": "markdown",
   "id": "e0f6e979",
   "metadata": {},
   "source": [
    "Выполнено на базе [статьи](https://towardsdatascience.com/simple-and-complet-guide-to-a-b-testing-c34154d0ce5a) на medium."
   ]
  },
  {
   "cell_type": "code",
   "execution_count": 59,
   "id": "7f801bca",
   "metadata": {
    "ExecuteTime": {
     "end_time": "2022-10-31T10:41:59.511685Z",
     "start_time": "2022-10-31T10:41:59.507069Z"
    }
   },
   "outputs": [],
   "source": [
    "import numpy as np\n",
    "import pandas as pd\n",
    "import matplotlib.pyplot as plt\n",
    "import seaborn as sns\n",
    "import scipy.stats as stats"
   ]
  },
  {
   "cell_type": "markdown",
   "id": "67cbb498",
   "metadata": {},
   "source": [
    "### Определение"
   ]
  },
  {
   "cell_type": "markdown",
   "id": "ec385316",
   "metadata": {},
   "source": [
    "Взято из википедии:\n",
    "\n",
    "**А/В тестирование** - метод маркетингового исследования, суть которого заключается в том, что контрольная группа элементов сравнивается с набором тестовых групп, в которых один или несколько показателей были изменены для того, чтобы выяснить, какие изменения улучшают целевой показатель. Таким образом в ходе теста сравниваются вариант А и вариант В и целью которого является определение лучшего из двух протестированных вариантов.\n",
    "\n",
    "В ходе А/В теста формируются две подвыборки из \"популяции\" - контрольная (control) и проверяемая (variant), и определяется, статистически ли значима разница между этими двумя подвыборками.\n",
    "\n",
    "Существуют и другие варианты экспериментов, такие как ABC тестирование, мультивариативное тестирование."
   ]
  },
  {
   "cell_type": "markdown",
   "id": "a45bdad1",
   "metadata": {},
   "source": [
    "### Выбор целевого показателя для теста"
   ]
  },
  {
   "cell_type": "markdown",
   "id": "293a7d74",
   "metadata": {},
   "source": [
    "Один из самых важных этапов - выбор целевого показателя (метрики), на основании которого будет проводиться тестирование - выявление **статистически значимой разницы** между группами А и В.\n",
    "\n",
    "Метрики можно разделить по типам:\n",
    "\n",
    "1. Конверсия - доля пользователей от общего числа, совершивших какое-либо действие. Действием может быть заполнение формы, совершение покупки, регистрация, подписка на новости, клик на ссылку или блок (CTR - Click-Throught rate).\n",
    "2. Экономические  метрики - величина среднего чека, объем выручки на число пользоватлей и т.д. (как правило применимо для интернет магазинов).\n",
    "3. Поведенческие факторы - метрики, показывающие заинтересованность пользователей в ресурсе. Глубина просмотра страниц - число просмотренных страниц, отнесенное к числу посетителей на сайте, средняя продолжительность сессии, показатель отказов - для пользователей, покинувших сайи сразу после первого захода, коэффициент удержания.\n",
    "\n",
    "Основные метрики конверсии:\n",
    "\n",
    "- Click-Through Rate (CTR) или **кликабельность**, **показатель кливабельности**\n",
    "\n",
    "$$\n",
    "\\text{CTR} = \\frac{\\text{количество кликов}}{\\text{количество показов}} \\cdot 100 \\%\n",
    "$$\n",
    "\n",
    "где **количество показов** - общее количество показов, к примеру, баннера, пользователям, или количество сессий на сайте.\n",
    "\n",
    "- Click-Through Probability (CTP) или **кликабельность**, **показатель кликабельности**\n",
    "\n",
    "$$\n",
    "\\text{CTP} = \\frac{\\text{количество пользователей, совершивших хотя бы один клик}}{\\text{количество уникальных посетителей для каждой сраницы}} \\cdot 100 \\%\n",
    "$$\n",
    "\n",
    "в отличии от CTR, данная метрика не учитывает клики, совершенные одним пользователем в рамках одной сессии по одному элементу (например по одной кнопке по причине нетерпеливости пользователя)\n",
    "\n",
    "- Conversion rate - один из значимых показателей в интернет-маркетинге. Конверсией называют количственное соотношение пользователей сайта, которые совершили целевое действие, к общему числу пользователей. Целевое действие, например, покупка игры на игровом портале. Также обобщает метрики CTR и CTP (это частные случаи конверсии).\n",
    "\n",
    "$$\n",
    "\\text{CR} = \\frac{\\text{converted}}{\\text{converted + not converted}} \\cdot 100 \\%\n",
    "$$"
   ]
  },
  {
   "cell_type": "markdown",
   "id": "f086267c",
   "metadata": {},
   "source": [
    "К примеру, необходимо посчитать CR сайта продажи видеоигры. Для этого:\n",
    "- Выбираем определенный период, за который мы хотим посчитать CR - это может быть день, неделя, месяц, квартал или год.\n",
    "- Разделить количество покупок видеоигры на количество посетителей сайта и умножить на 100%.\n",
    "\n",
    "За июнь 2021 года на сайт зашло 4936 человек, 300 человек из которых купило видеоигру.\n",
    "\n",
    "$$\n",
    "\\text{CR} = \\frac{300}{4936} \\cdot 100\\% = ~6\\%\n",
    "$$"
   ]
  },
  {
   "cell_type": "markdown",
   "id": "b6064348",
   "metadata": {},
   "source": [
    "### Описание тестируемой гипотезы"
   ]
  },
  {
   "cell_type": "markdown",
   "id": "726cf722",
   "metadata": {},
   "source": [
    "А/В тестирование всегда основано на гипотезе, которую необходимо проверить. Например:\n",
    "\n",
    "$$\n",
    "\\begin{equation*}\n",
    "\\begin{cases}\n",
    "H_{0}: \\mu_{con} = \\mu_{exp} \\\\\n",
    "H_{1}: \\mu_{con} \\neq \\mu_{exp}\n",
    "\\end{cases}\n",
    "\\end{equation*}\n",
    "$$"
   ]
  },
  {
   "cell_type": "markdown",
   "id": "326fab5a",
   "metadata": {},
   "source": [
    "- Гипотеза $H_{0}$ (нулевая гипотеза) - новый дизайн сайта не влияет на конверсию (например на покупательность игры), т.е. никакого эффекта новое изменение не имеет. Если в ходе теста отвергнуть нулевую гипотезу не получилось, то мы ее принимаем и нет никакого смысла внедрять новый дизайн сайта.\n",
    "\n",
    "- Гипотеза $H_{1}$ (альтернативная гипотеза) - новый дизайн сайта влияет на конверсию. Если в ходе тестирования мы отвергаем нулевую гипотезу, то в таком случае мы принимаем альтернативную и внедряем новый дизайн сайта.\n",
    "\n",
    "- Ошибка первого рода - отвергаем нулевую гипотезу, когда на самом деле она верна. В нашем случае это означает, что мы внедрили изменения в дизайн нашего сайта, а в итоге он не оказал влияние на конверсию.\n",
    "\n",
    "- Ошибка второго рода - решили не внедрять новый дизайн, хотя на самом деле он имел бы влияние на конверсию."
   ]
  },
  {
   "cell_type": "markdown",
   "id": "513a7b51",
   "metadata": {},
   "source": [
    "### Как биномиальное и нормальное распределения вовлечены в A/B тестирование?"
   ]
  },
  {
   "cell_type": "code",
   "execution_count": null,
   "id": "8e85891e",
   "metadata": {},
   "outputs": [],
   "source": []
  }
 ],
 "metadata": {
  "hide_input": false,
  "kernelspec": {
   "display_name": "Python 3",
   "language": "python",
   "name": "python3"
  },
  "language_info": {
   "codemirror_mode": {
    "name": "ipython",
    "version": 3
   },
   "file_extension": ".py",
   "mimetype": "text/x-python",
   "name": "python",
   "nbconvert_exporter": "python",
   "pygments_lexer": "ipython3",
   "version": "3.8.3"
  },
  "toc": {
   "base_numbering": 1,
   "nav_menu": {},
   "number_sections": true,
   "sideBar": true,
   "skip_h1_title": false,
   "title_cell": "Table of Contents",
   "title_sidebar": "Contents",
   "toc_cell": false,
   "toc_position": {},
   "toc_section_display": true,
   "toc_window_display": false
  },
  "varInspector": {
   "cols": {
    "lenName": 16,
    "lenType": 16,
    "lenVar": 40
   },
   "kernels_config": {
    "python": {
     "delete_cmd_postfix": "",
     "delete_cmd_prefix": "del ",
     "library": "var_list.py",
     "varRefreshCmd": "print(var_dic_list())"
    },
    "r": {
     "delete_cmd_postfix": ") ",
     "delete_cmd_prefix": "rm(",
     "library": "var_list.r",
     "varRefreshCmd": "cat(var_dic_list()) "
    }
   },
   "types_to_exclude": [
    "module",
    "function",
    "builtin_function_or_method",
    "instance",
    "_Feature"
   ],
   "window_display": false
  }
 },
 "nbformat": 4,
 "nbformat_minor": 5
}
