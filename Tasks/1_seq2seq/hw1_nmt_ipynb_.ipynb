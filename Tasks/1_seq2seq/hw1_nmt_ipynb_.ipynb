{
 "cells": [
  {
   "cell_type": "markdown",
   "metadata": {
    "id": "RPcfHT5C-mKZ"
   },
   "source": [
    "# HW1: seq2seq nmt\n",
    "\n",
    "**Homework Goals**\n",
    "\n",
    "1. Get familiar with text data preparation\n",
    "2. Learn to work with RNN\n",
    "3. Train the model to translate `en-->ru`.\n",
    "\n"
   ]
  },
  {
   "cell_type": "code",
   "execution_count": 1,
   "metadata": {
    "ExecuteTime": {
     "end_time": "2022-12-01T17:53:21.457799Z",
     "start_time": "2022-12-01T17:53:09.145349Z"
    },
    "id": "0hUc8aEg8S2_"
   },
   "outputs": [],
   "source": [
    "%matplotlib inline\n",
    "from collections import Counter\n",
    "import unicodedata\n",
    "import re\n",
    "import string\n",
    "\n",
    "import matplotlib.pyplot as plt\n",
    "import numpy as np\n",
    "from sklearn.model_selection import train_test_split\n",
    "from typing import Union, Tuple, List, Dict\n",
    "from itertools import islice\n",
    "import torch\n",
    "from torch import nn\n",
    "from torch.nn import functional as F\n",
    "from torch.utils.data import Dataset, DataLoader\n",
    "from torch.nn.utils.rnn import pad_sequence\n",
    "from tqdm.auto import tqdm"
   ]
  },
  {
   "cell_type": "markdown",
   "metadata": {
    "id": "qdM5tBYV8S3J"
   },
   "source": [
    "## Naive way of texts representation:\n",
    "\n",
    "0. Normalize spelling\n",
    "1. Filter out all special characters\n",
    "2. Split by spaces, do *naive tokenization*"
   ]
  },
  {
   "cell_type": "code",
   "execution_count": 2,
   "metadata": {
    "ExecuteTime": {
     "end_time": "2022-12-01T17:53:38.320982Z",
     "start_time": "2022-12-01T17:53:22.951619Z"
    }
   },
   "outputs": [
    {
     "name": "stdout",
     "output_type": "stream",
     "text": [
      "Alphabet before preprocessing (size - 174):\n",
      "\n",
      "   ! \" $ % & ' ( ) + , - . / 0 1 2 3 4 5 6 7 8 9 : ; ? @ A B C D E F G H I J K L M N O P Q R S T U V W X Y Z a b c d e f g h i j k l m n o p q r s t u v w x y z   « ° º » ã ç é ê î ï ó ö ú ü ́ Ё А Б В Г Д Е Ж З И Й К Л М Н О П Р С Т У Ф Х Ц Ч Ш Щ Ь Э Ю Я а б в г д е ж з и й к л м н о п р с т у ф х ц ч ш щ ъ ы ь э ю я ё ׁ ​ – — ― ‘ ’ …   ‽ ₂ € № \n",
      "\n",
      "Alphabet after preprocessing (size - 62):\n",
      "  ! , . ? a b c d e f g h i j k l m n o p q r s t u v w x y z а б в г д е ж з и к л м н о п р с т у ф х ц ч ш щ ъ ы ь э ю я \n",
      "\n",
      "Pairs (few examples):\n",
      "('go .', 'иди .') ('go .', 'идите .') ('hi .', 'здравствуите .') ('hi .', 'привет !') ('hi .', 'хаи .') ('hi .', 'здрасте .') ('hi .', 'здорово !') ('run !', 'беги !') ('run !', 'бегите !') ('run .', 'беги !')\n",
      "Total pairs qantity: 336666\n"
     ]
    }
   ],
   "source": [
    "class SeqPreproc:\n",
    "    def __init__(self) -> None:\n",
    "        self.raw_alphabet = set()\n",
    "        self.alphabet = set()\n",
    "    \n",
    "    @staticmethod\n",
    "    def normalize(seq: str):\n",
    "        return \"\".join(char for char in unicodedata.normalize('NFD', seq) if unicodedata.category(char) != 'Mn')\n",
    "\n",
    "    def preprocess(self, seq: str, add_sym: bool = True) -> str:\n",
    "        # adding raw symbols\n",
    "        if add_sym:\n",
    "            self.raw_alphabet.update(seq)\n",
    "        \n",
    "        # clean up sequence\n",
    "        seq = self.normalize(seq.lower().strip())\n",
    "        seq = re.sub(r\"[^a-zа-я?.,!]+\", \" \", seq)\n",
    "        seq = re.sub(r\"([.!?])\", r\" \\1\", seq)\n",
    "        \n",
    "        if add_sym:\n",
    "            self.alphabet.update(seq)\n",
    "        return seq\n",
    "\n",
    "\n",
    "with open(\"eng-rus.txt\", mode=\"r\", encoding=\"utf-8\") as f:\n",
    "    sp = SeqPreproc()\n",
    "    pairs = [tuple(map(sp.preprocess, line.split(\"\\t\"))) for line in f.readlines()]\n",
    "\n",
    "print(f\"Alphabet before preprocessing (size - {len(sp.raw_alphabet)}):\")\n",
    "print(*sorted(sp.raw_alphabet), \"\\n\")\n",
    "print(f\"Alphabet after preprocessing (size - {len(sp.alphabet)}):\")\n",
    "print(*sorted(sp.alphabet), \"\\n\")\n",
    "print(\"Pairs (few examples):\")\n",
    "print(*pairs[:10])\n",
    "print(f\"Total pairs qantity: {len(pairs)}\")"
   ]
  },
  {
   "cell_type": "markdown",
   "metadata": {
    "id": "h9ARXr6b8S3U"
   },
   "source": [
    "Each word will be assigned a number + we will need special tokens for the beginning and end of the sequence and for unknown words.\n",
    "`<SOS>, <EOS>, <UNK>`\n",
    "\n",
    "We have two languages, to work with each we need functions for translating from words to numbers and vice versa.\n",
    "\n",
    "It is proposed to implement these functions as dictionaries. Allocate the first 4 numbers for special tokens\n",
    "\n",
    "**(1 point)** Implement the dictionary building function, the function takes a list of strings (normalized sentences, can be splited by spaces) as input. Organize the dictionary in a reasonable way so that rare words can be thrown out if necessary."
   ]
  },
  {
   "cell_type": "code",
   "execution_count": 5,
   "metadata": {
    "ExecuteTime": {
     "end_time": "2022-12-01T17:53:54.458498Z",
     "start_time": "2022-12-01T17:53:52.603298Z"
    },
    "id": "2epLOt_-8S3V"
   },
   "outputs": [
    {
     "name": "stdout",
     "output_type": "stream",
     "text": [
      "10000 10000\n",
      "5000 5000\n"
     ]
    }
   ],
   "source": [
    "COMMON_TOKENS = ['PAD', 'SOS', 'EOS', 'UNK']\n",
    "\n",
    "\n",
    "def build_vocabs(sents: tuple, max_size: int = 1000, special_tokens: list = None) -> Tuple[dict]:\n",
    "    vocab = dict()\n",
    "    \n",
    "    for seq in sents:\n",
    "        for token in seq.split():\n",
    "            vocab[token] = vocab.get(token, 0) + 1\n",
    "            \n",
    "    vocab = {token: qty for token, qty in sorted(vocab.items(), key=lambda tup: tup[1], reverse=True)}\n",
    "    tokens = special_tokens.copy() if special_tokens else list()\n",
    "    tokens.extend(list(islice(vocab.keys(), max_size - len(special_tokens))) )\n",
    "    tok2idx, idx2tok = \\\n",
    "        dict(zip(tokens, range(len(tokens)))), dict(zip(range(len(tokens)), tokens))\n",
    "    return tok2idx, idx2tok\n",
    "\n",
    "\n",
    "eng, rus = list(zip(*pairs))\n",
    "rus2idx, idx2rus = build_vocabs(rus, max_size=10000, special_tokens=COMMON_TOKENS)\n",
    "eng2idx, idx2eng = build_vocabs(eng, max_size=5000 , special_tokens=COMMON_TOKENS)\n",
    "\n",
    "print(len(rus2idx), len(idx2rus))\n",
    "print(len(eng2idx), len(idx2eng))"
   ]
  },
  {
   "cell_type": "code",
   "execution_count": 6,
   "metadata": {
    "ExecuteTime": {
     "end_time": "2022-12-01T17:53:55.078217Z",
     "start_time": "2022-12-01T17:53:55.065167Z"
    },
    "id": "xh5koecS8S3c"
   },
   "outputs": [
    {
     "name": "stdout",
     "output_type": "stream",
     "text": [
      "[1, 2539, 1264, 83, 2]\n",
      "SOS привет мир ! EOS\n",
      "[1, 1960, 439, 174, 2]\n",
      "SOS hello world ! EOS\n"
     ]
    }
   ],
   "source": [
    "def sentence2idx(seq: str, tok2idx: dict) -> list():\n",
    "    \"\"\"\n",
    "    Takes sentence as input and returns sequence of tokens indexes\n",
    "    \"\"\"\n",
    "    tokens = SeqPreproc().preprocess(seq=seq).split()\n",
    "    unk = tok2idx.get(\"UNK\")\n",
    "    return [tok2idx.get(\"SOS\")] + [tok2idx.get(token, unk) for token in tokens] + [tok2idx.get(\"EOS\")]\n",
    "\n",
    "\n",
    "def idx2sentence(seq: list, idx2tok: dict) -> str:\n",
    "    \"\"\"\n",
    "    Takes sequence of tokens indexes as input and returns sentence\n",
    "    \"\"\"\n",
    "    return \" \".join(idx2tok.get(idx) for idx in seq)\n",
    "\n",
    "# check the consistency of the transformations\n",
    "x = sentence2idx('Привет мир!', rus2idx)\n",
    "print(x)\n",
    "print(idx2sentence(seq=x, idx2tok=idx2rus))\n",
    "\n",
    "x = sentence2idx('Hello world!', eng2idx)\n",
    "print(x)\n",
    "print(idx2sentence(seq=x, idx2tok=idx2eng))"
   ]
  },
  {
   "cell_type": "markdown",
   "metadata": {
    "id": "Dhjjx52i8S3g"
   },
   "source": [
    "## Dealing with arbitrary length sequences in pytorch\n",
    "\n",
    "We need to be able to generate batches of `[bs, 1, seq_len]` tensors.\n",
    "But in our dataset, the samples are of different lengths:\n",
    "\n",
    "- we could cut everything down to the minimum length\n",
    "- padd to maximum length\n",
    "- choose some average length\n",
    "\n",
    "**(1 point)** Split the dataset on train and validate:"
   ]
  },
  {
   "cell_type": "code",
   "execution_count": 105,
   "metadata": {
    "ExecuteTime": {
     "end_time": "2022-12-01T18:33:29.760207Z",
     "start_time": "2022-12-01T18:33:06.380148Z"
    },
    "id": "kmGX7wtL8S3i"
   },
   "outputs": [
    {
     "data": {
      "application/vnd.jupyter.widget-view+json": {
       "model_id": "c7d50e9781314b4faeb6208a8ed040f1",
       "version_major": 2,
       "version_minor": 0
      },
      "text/plain": [
       "HBox(children=(FloatProgress(value=0.0, max=336666.0), HTML(value='')))"
      ]
     },
     "metadata": {},
     "output_type": "display_data"
    },
    {
     "name": "stdout",
     "output_type": "stream",
     "text": [
      "\n",
      "Train size: 269332 \n",
      "Eval size: 67334\n"
     ]
    }
   ],
   "source": [
    "# make a dataset with encoded pairs:\n",
    "class EngRusDataset(Dataset):\n",
    "    def __init__(self, pairs: List[tuple], pad_to: int = None, pad_value: int = 0, \n",
    "                 pad_left: bool = False) -> None:\n",
    "        self.pairs = pairs\n",
    "        self.pad_to = pad_to\n",
    "        self.pad_value = pad_value\n",
    "        self.pad_left = pad_left\n",
    "    \n",
    "    def __len__(self) -> int:\n",
    "        return len(self.pairs)\n",
    "    \n",
    "    def transform(self, seq: list) -> torch.tensor:\n",
    "        if self.pad_to is not None and len(seq) != self.pad_to:\n",
    "            if len(seq) > self.pad_to:\n",
    "                seq = seq[:self.pad_to]\n",
    "            else:\n",
    "                n_pads = self.pad_to - len(seq)\n",
    "                seq = [self.pad_value]*n_pads*self.pad_left + \\\n",
    "                      seq + \\\n",
    "                      [self.pad_value]*n_pads*(not self.pad_left)       \n",
    "        return torch.tensor(seq, dtype=torch.int)\n",
    "        \n",
    "    def __getitem__(self, item: int) -> Dict:\n",
    "        eng, rus = self.pairs[item]\n",
    "        eng, rus = self.transform(seq=eng), self.transform(seq=rus)\n",
    "        return dict(\n",
    "            eng=eng,\n",
    "            rus=rus,\n",
    "        )\n",
    "\n",
    "encoded = []\n",
    "for eng, rus in tqdm(pairs):\n",
    "    a = sentence2idx(eng, eng2idx)\n",
    "    b = sentence2idx(rus, rus2idx)\n",
    "    encoded.append((a, b))\n",
    "\n",
    "\n",
    "train_pairs, eval_pairs = train_test_split(encoded, train_size=0.8, random_state=42, shuffle=True)\n",
    "trainset = EngRusDataset(pairs=train_pairs, pad_to=8, pad_left=True)\n",
    "evalset = EngRusDataset(pairs=eval_pairs, pad_to=8, pad_left=True)\n",
    "\n",
    "print(\"Train size:\", trainset.__len__(), \"\\nEval size:\", evalset.__len__())"
   ]
  },
  {
   "cell_type": "markdown",
   "metadata": {
    "id": "9PDpAtEq8S3n"
   },
   "source": [
    "Let's build a naive DataLoader and check how it makes batches:"
   ]
  },
  {
   "cell_type": "code",
   "execution_count": 106,
   "metadata": {
    "ExecuteTime": {
     "end_time": "2022-12-01T18:33:32.107452Z",
     "start_time": "2022-12-01T18:33:31.952404Z"
    },
    "id": "B-wLIzt88S3o"
   },
   "outputs": [],
   "source": [
    "trainloader = DataLoader(trainset, batch_size=8, shuffle=True)\n",
    "it = iter(trainloader)"
   ]
  },
  {
   "cell_type": "code",
   "execution_count": 108,
   "metadata": {
    "ExecuteTime": {
     "end_time": "2022-12-01T18:34:08.845645Z",
     "start_time": "2022-12-01T18:34:08.823645Z"
    },
    "id": "3CM0vzGL8S3s"
   },
   "outputs": [
    {
     "data": {
      "text/plain": [
       "tensor([[   0,    1,    5,  140,   95,  381,    4,    2],\n",
       "        [   1,  131,  154,  476, 3074,   48,  491,  175],\n",
       "        [   0,    1,   22,   11,  472,  297,    4,    2],\n",
       "        [   1,    5,   41,    5,   49,  111,   13,    4],\n",
       "        [   1,    6,   86,   11,   29,   23,   28,  319],\n",
       "        [   1,    6,  255,   19,  311,   12,  547,    4],\n",
       "        [   0,    1,    5,  222,   11,  911,    4,    2],\n",
       "        [   1,    5,   22,   11,  259,   45,   63,   91]], dtype=torch.int32)"
      ]
     },
     "execution_count": 108,
     "metadata": {},
     "output_type": "execute_result"
    }
   ],
   "source": [
    "batch = next(it)['eng']\n",
    "batch"
   ]
  },
  {
   "cell_type": "markdown",
   "metadata": {
    "id": "O7blZtcq8S3w"
   },
   "source": [
    "In my case, the result was:\n",
    "```\n",
    "[tensor([1, 1, 1, 1, 1, 1, 1, 1]),\n",
    " tensor([ 6,  7,  6, 15,  5,  6,  5, 62]),\n",
    " tensor([ 48,  34,  83,   7,  32, 221,  22,  43]),\n",
    " tensor([  5, 143,  37,  36, 129,  12,  11,  66]),\n",
    " tensor([  73, 1258,  279,    8,    6,  555,   41,   10]),\n",
    " tensor([  8, 140,   8, 628,  20,  96,  13, 270]),\n",
    " tensor([  47,    4,   15,   18,   55,  269,    6, 1287]),\n",
    " tensor([ 58,   2,  13, 140, 193, 140, 171, 140])]\n",
    "```\n",
    "\n",
    "What's weird here?\n",
    "1. This is not a tensor, but a list of tensors. Accordingly, when iterating over zero dimension (`batch[i, :]`), we will get not an i-example, but i-tokens for all examples in the batch. This is not a problem, but different from the expected behavior.\n",
    "2. Only one example ends with `<EOS>` (2), the others are cut off to match its length. And this is a problem.\n",
    "\n",
    "We would like to padd all examples to the maximum length in the batch.\n",
    "But at the stage of preparing the example (in the `__getitem__` function), we do not know the batch neighbors!\n",
    "In order to change the batch merging logic, we need to write our own `collate_fn` function in the DataLoader constructor:\n",
    "\n",
    "```\n",
    "def collate_fn(samples):\n",
    "    # samples -- list of dictionaries samples\n",
    "    <...>\n",
    "    return batch\n",
    "```\n",
    "\n",
    "**(1 point)** Write a `collate_fn` function that padds _correctly_ rus and eng sequences and merges them into batches, where `batch[i, :]` returns the tokens for the `i` example.\n",
    "\n",
    "Expected output (for a sequence with left padding):\n",
    "\n",
    "```\n",
    "tensor([[   1,   10, 3429,  405,  113,  676,   10, 1031,  140,    4,    2],\n",
    "        [   0,    1,   57,   18,   23,   19,   61,    7,  140,    4,    2],\n",
    "        [   0,    0,    0,    1,   16,   17, 1131,  416,  140,    4,    2],\n",
    "        [   0,    0,    0,    1,   13,  465,   75,  197,  140,    4,    2],\n",
    "        [   0,    0,    0,    1,    6,  302,   13,  144,  140,    4,    2],\n",
    "        [   0,    1,    6,   59,  205,  167,    8,   15,  140,    4,    2],\n",
    "        [   0,    0,    0,    0,    1,    6,   14,  678,  140,    4,    2],\n",
    "        [   0,    0,    1,    5,   29,   67,    6,   14,  140,    4,    2]])\n",
    "```"
   ]
  },
  {
   "cell_type": "code",
   "execution_count": 137,
   "metadata": {
    "ExecuteTime": {
     "end_time": "2022-12-01T19:09:20.009460Z",
     "start_time": "2022-12-01T19:09:19.989443Z"
    },
    "id": "SMSeFFHQ8S3y"
   },
   "outputs": [
    {
     "name": "stdout",
     "output_type": "stream",
     "text": [
      "33667 8417\n"
     ]
    }
   ],
   "source": [
    "class EngRusCollate:\n",
    "    def __init__(self, padding_value: int = 0) -> None:\n",
    "        self.padding_value = padding_value\n",
    "        \n",
    "    def __call__(self, batch: List[dict]) -> Dict[str, torch.tensor]:\n",
    "        data = dict(\n",
    "                eng=list(),\n",
    "                rus=list()\n",
    "            )\n",
    "        for seq in batch:\n",
    "            data[\"eng\"].append(torch.flip(seq.get(\"eng\"), dims=(0, )))\n",
    "            data[\"rus\"].append(torch.flip(seq.get(\"rus\"), dims=(0, )))\n",
    "\n",
    "        return {k: torch.flip(\n",
    "            pad_sequence(v, batch_first=True, \n",
    "                         padding_value=self.padding_value), dims=(1, )) for k, v in data.items()}\n",
    "    \n",
    "    \n",
    "trainset = EngRusDataset(pairs=train_pairs)\n",
    "evalset = EngRusDataset(pairs=eval_pairs)\n",
    "\n",
    "trainloader = DataLoader(trainset, batch_size=8, shuffle=True, collate_fn=EngRusCollate())\n",
    "evalloader = DataLoader(evalset, batch_size=8, shuffle=False, collate_fn=EngRusCollate())\n",
    "\n",
    "print(len(trainloader), len(evalloader))"
   ]
  },
  {
   "cell_type": "code",
   "execution_count": 139,
   "metadata": {
    "ExecuteTime": {
     "end_time": "2022-12-01T19:09:35.730879Z",
     "start_time": "2022-12-01T19:09:35.685413Z"
    }
   },
   "outputs": [
    {
     "data": {
      "text/plain": [
       "tensor([[   0,    0,    1,    5,   49,  727,    7,   10, 3357,    4,    2],\n",
       "        [   1,    5,  233,   12,  422,   31,   10,  443,  168,    4,    2],\n",
       "        [   0,    0,    0,    1,   19, 2295,   31,   10,  520,    4,    2],\n",
       "        [   0,    0,    0,    0,    0,    1,  306, 2751,    6,    4,    2],\n",
       "        [   1,    5,  140,    3,   46,    7,    8,   37, 1036,    4,    2],\n",
       "        [   0,    0,    0,    0,    1,   14,   13,   35,  123,    9,    2],\n",
       "        [   0,    0,    0,    0,    0,    1,  267,   21,  599,    4,    2],\n",
       "        [   0,    0,    0,    1,    5,   29,   67,   79,   13,    4,    2]],\n",
       "       dtype=torch.int32)"
      ]
     },
     "execution_count": 139,
     "metadata": {},
     "output_type": "execute_result"
    }
   ],
   "source": [
    "next(iter(trainloader))[\"eng\"]"
   ]
  },
  {
   "cell_type": "markdown",
   "metadata": {
    "id": "vDcGAXiA-mKm"
   },
   "source": [
    "Now we have the correct data generator, and all we have to do is write the model (encoder and decoder).\n",
    "\n",
    "\n",
    "### Encoder\n",
    "\n",
    "The input tensor contains integers and has dimensions `[bs, seq_len]`,\n",
    "\n",
    "We will pass them through the layer with embeddings and get the tensor `[bs, seq_len, dim]`. Now we have floating point numbers that can be fed to RNN layers as input.\n",
    "\n",
    "\n",
    "\n",
    "GRU is an RNN with a specific structure:\n",
    "<img src=\"https://habrastorage.org/webt/xt/_q/nj/xt_qnjgfjengqoqd4gizkq4j_wk.png\">\n",
    "\n",
    "In the picture, the yellow rectangles are the line layers with the corresponding activation functions.\n",
    "\n",
    "\n",
    "`nn.RNN` allows you to create and use multi-layer one- and two-way layers as one layer.\n",
    "All parameters must be specified during creation, and then simply applied during the forward pass.\n",
    "\n",
    "\n",
    "The order of dimensions is a bit different from the usual in convolutional networks, this is due to the inability to parallel recurrent calculations effectively.\n",
    "\n",
    "\n",
    "**batch_first=True**\n",
    "\n",
    "Such an RNN layer expects two tensors as input:\n",
    "  - input with sizes `[bs, seq_len, dim]`,\n",
    "  - hidden_state with dimensions `[num_layers * num_directions, bs, hidden_size]`.\n",
    " \n",
    " \n",
    "The output is two tensors:\n",
    "- output `[bs, seq_len, dim]`,\n",
    "- hidden `[num_layers * num_directions, bs, hidden]`.\n",
    "\n",
    "We will apply RNN in two ways:\n",
    "- to the entire sequence, to translate the entire phrase in one language into one vector (EncoderRNN)\n",
    "- to one tensor and input token to generate a phrase in another language (DecoderRNN)\n",
    "\n",
    "\n",
    "We will put the entire input sequence into a hidden state vector."
   ]
  },
  {
   "cell_type": "code",
   "execution_count": null,
   "metadata": {
    "id": "dph7rI9_8S33"
   },
   "outputs": [],
   "source": [
    "class EncoderRNN(nn.Module):\n",
    "    def __init__(self, hidden_size, vocab_size, layers=1):\n",
    "        super().__init__()\n",
    "        self.layers = layers\n",
    "        self.hidden_size = hidden_size\n",
    "        self.vocab_size = vocab_size\n",
    "        \n",
    "        self.embeddings = nn.Embedding(vocab_size, hidden_size)\n",
    "        self.rnn = nn.GRU(hidden_size, hidden_size, batch_first=True, num_layers=layers)\n",
    "        \n",
    "    def forward(self, input, hidden):\n",
    "        embedded = self.embeddings(input)\n",
    "        output, hidden = self.rnn(embedded, hidden)\n",
    "        return output, hidden\n",
    "    \n",
    "    def init_hidden(self, batch_size=1, device=None):\n",
    "        # be aware about dimension! https://pytorch.org/docs/stable/nn.html#torch.nn.GRU\n",
    "        return torch.zeros(self.layers, batch_size, self.hidden_size, device=device)\n",
    "\n",
    "\n",
    "enc = EncoderRNN(256, len(eng2idx))\n",
    "x = next(it)['eng']\n",
    "print(x.shape)\n",
    "hidden = enc.init_hidden(8)\n",
    "out, hidden = enc(x, hidden)\n",
    "print(out.shape, hidden.shape)"
   ]
  },
  {
   "cell_type": "markdown",
   "metadata": {
    "id": "Vg6cvr8L-mKm"
   },
   "source": [
    "We want the decoder to generate a translation for us -- a sequence of tokens from another language, using the encoder's hidden state vector.\n",
    "\n",
    "To do this, we will supply hidden and `<SOS>`token to the input.\n",
    "At each step, the decoder will return hidden and output vector.\n",
    "Output vector is the probability distribution for the next token (respectively, it has the size of the output language dictionary)."
   ]
  },
  {
   "cell_type": "code",
   "execution_count": null,
   "metadata": {
    "id": "oYfecQb88S38"
   },
   "outputs": [],
   "source": [
    "class DecoderRNN(nn.Module):\n",
    "    def __init__(self, hidden_size, vocab_size, layers=1):\n",
    "        super().__init__()\n",
    "        self.layers = layers\n",
    "        self.hidden_size = hidden_size\n",
    "        self.vocab_size = vocab_size\n",
    "        \n",
    "        self.embeddings = nn.Embedding(vocab_size, hidden_size)\n",
    "        self.rnn = nn.GRU(hidden_size, hidden_size, batch_first=True, num_layers=layers)\n",
    "        self.out = nn.Linear(hidden_size, vocab_size)\n",
    "        self.softmax = nn.LogSoftmax(dim=2)\n",
    "        \n",
    "    def forward(self, input, hidden):\n",
    "        embedded = self.embeddings(input)\n",
    "        output, hidden = self.rnn(embedded, hidden)\n",
    "        output = self.softmax(self.out(output))\n",
    "        return output, hidden\n",
    "        \n",
    "    def init_hidden(self, batch_size=1, device=None):\n",
    "        return torch.zeros(self.layers, batch_size, self.hidden_size, device=device)"
   ]
  },
  {
   "cell_type": "code",
   "execution_count": null,
   "metadata": {
    "id": "oyMwF94n8S3_"
   },
   "outputs": [],
   "source": [
    "dec = DecoderRNN(256, len(rus2idx))"
   ]
  },
  {
   "cell_type": "markdown",
   "metadata": {
    "id": "a_Vj3_PB-mKn"
   },
   "source": [
    "Let's get a tensor with tokens of size `[bs, seq_len]` from the data generator and try to iterate over seq_len to generate the next token."
   ]
  },
  {
   "cell_type": "code",
   "execution_count": null,
   "metadata": {
    "id": "wVFcg0Uz8S4C"
   },
   "outputs": [],
   "source": [
    "batch = next(it)['rus'] # get batch\n",
    "bs, seq_len = batch.shape\n",
    "for i in range(0, seq_len):\n",
    "    step = y[:, i].unsqueeze(1)  # get tokens sample for i-th step \n",
    "     # These are the correct tokens (ground truth), we could generate them\n",
    "     # unsqueeze adds dimension 1 (from [bs] to [bs, 1])\n",
    "    output, hidden = dec(t, hidden)\n",
    "    print(output.shape, hidden.shape)\n",
    "    # output -- this is the probability distribution for the next token\n",
    "    # hidden -- this is the updated hidden state"
   ]
  },
  {
   "cell_type": "markdown",
   "metadata": {
    "id": "ECBleoB4F58E"
   },
   "source": [
    "**(6 points)** Fill in a training part and train the encoder and decoder.\n",
    "\n",
    "1. You need to write getting the next token (integer) from the distribution: a vector of size `len(rus2idx)`. Since we are working in batches, this should be a batchified operation. You have several options for how to do this:\n",
    " - take by argmax\n",
    " - sample from distribution (torch.multinomial)\n",
    " - during training, take tokens from ground truth (and this must be done at least sometimes so that the model converges).\n",
    " \n",
    "2. You need to write a loss calculation. It is convenient to do this at each step: after the `<EOS>` occurs in the example, you do not need to count the loss for it (in the vectorized version, you can multiply the loss for `<PAD>`-tokens by zero - this is called masking). Loss is simply the sum of cross-entropy losses for each step.\n"
   ]
  },
  {
   "cell_type": "code",
   "execution_count": null,
   "metadata": {
    "id": "EshFSblS-mKn"
   },
   "outputs": [],
   "source": [
    "device = \"cuda\" if torch.cuda.is_available() else \"cpu\"\n",
    "def train(model, optimizer, dataloader): \n",
    "    encoder, decoder = model\n",
    "    encoder.to(device)\n",
    "    decoder.to(device)\n",
    "    \n",
    "    encoder.train()\n",
    "    decoder.train()\n",
    "    logs = defaultdict(list)\n",
    "    for batch in tqdm(dataloader):\n",
    "        rus = batch['rus'].to(device)\n",
    "        eng = batch['eng'].to(device)\n",
    "        encoder_hidden = encoder.init_hidden(eng.size(0)).to(device)\n",
    "        encoder_outputs, hidden = encoder(eng, encoder_hidden)\n",
    "        \n",
    "        # write decoder application and loss calculation.\n",
    "        # hint: loss must be masked, in case the sequence has already ended.\n",
    "        <your code>\n",
    "                \n",
    "        optimizer.zero_grad()\n",
    "        loss.backward()\n",
    "        optimizer.step()\n",
    "        \n",
    "        logs['loss'].append(loss.item())\n",
    "    return logs\n",
    "\n",
    "def validate(model, dataloader):\n",
    "    logs = defaultdict(list)\n",
    "    for batch in tqdm(dataloader):\n",
    "        <your code>\n",
    "        logs['loss'].append(loss.item())\n",
    "    \n",
    "    return {k: [np.mean(v)] for k, v in logs.items()}\n",
    "\n",
    "def plot_logs(logs):\n",
    "    clear_output()\n",
    "    plt.figure()\n",
    "    plt.plot(logs['loss'], zorder=1)\n",
    "    plt.scatter(logs['steps'], logs['val_loss'], marker='+', s=180, c='orange', label='val', zorder=2)\n",
    "    plt.show()\n",
    "\n",
    "    plt.figure()\n",
    "    # use label&legend to display labels\n",
    "    # plt.plot(..., label=name)\n",
    "    # plt.legend() \n",
    "    <your code>        \n",
    "    plt.legend()\n",
    "    plt.grid()\n",
    "    plt.show()"
   ]
  },
  {
   "cell_type": "code",
   "execution_count": null,
   "metadata": {
    "id": "ThQj4uOx8S4P"
   },
   "outputs": [],
   "source": [
    "encoder = EncoderRNN(256, len(eng2idx)).to(device)\n",
    "decoder = DecoderRNN(256, len(rus2idx)).to(device)\n",
    "opt = torch.optim.Adam(list(encoder.parameters()) + list(decoder.parameters()), lr=1e-2)\n",
    "trainloader = DataLoader(trainset, batch_size=128, shuffle=True, collate_fn=collate_fn)\n",
    "valloader = DataLoader(valset, batch_size=128, shuffle=False, collate_fn=collate_fn)\n",
    "model = (encoder, decoder)\n",
    "\n",
    "\n",
    "train_model(model, opt, trainloader, valloader)"
   ]
  },
  {
   "cell_type": "markdown",
   "metadata": {
    "id": "R8G9EoojGDdJ"
   },
   "source": [
    "**(2 points)** Write a translation function with sampling from a distribution with temperature."
   ]
  },
  {
   "cell_type": "code",
   "execution_count": null,
   "metadata": {
    "id": "64h3_w528S4d"
   },
   "outputs": [],
   "source": [
    "encoder.eval()\n",
    "decoder.eval()\n",
    "encoder = encoder.to(\"cpu\")\n",
    "decoder = decoder.to(\"cpu\")\n",
    "\n",
    "def evaluate(sentence, T=1.0):\n",
    "    encoded = sentence2idx(sentence, eng2idx)\n",
    "    output = []\n",
    "    print(encoded)\n",
    "    bs = 10\n",
    "    with torch.no_grad():\n",
    "      \n",
    "        z = torch.LongTensor(encoded).view(1, -1).repeat(bs, 1)\n",
    "        encoder_outputs, hidden = encoder(z, encoder.init_hidden(bs))\n",
    "        \n",
    "        for i in range(20):\n",
    "            <your code>\n",
    "            output.append(tokens)\n",
    "    \n",
    "    output = np.array(output).T\n",
    "    for s in output:\n",
    "        out = idx2sentence(s, idx2rus)\n",
    "        print(out.replace('PAD', \"\"))\n",
    "\n",
    "    \n",
    "evaluate(\"What is going on?\")"
   ]
  }
 ],
 "metadata": {
  "accelerator": "GPU",
  "colab": {
   "provenance": []
  },
  "hide_input": false,
  "kernelspec": {
   "display_name": "Python 3",
   "language": "python",
   "name": "python3"
  },
  "language_info": {
   "codemirror_mode": {
    "name": "ipython",
    "version": 3
   },
   "file_extension": ".py",
   "mimetype": "text/x-python",
   "name": "python",
   "nbconvert_exporter": "python",
   "pygments_lexer": "ipython3",
   "version": "3.8.3"
  },
  "toc": {
   "base_numbering": 1,
   "nav_menu": {},
   "number_sections": true,
   "sideBar": true,
   "skip_h1_title": false,
   "title_cell": "Table of Contents",
   "title_sidebar": "Contents",
   "toc_cell": false,
   "toc_position": {},
   "toc_section_display": true,
   "toc_window_display": false
  },
  "varInspector": {
   "cols": {
    "lenName": 16,
    "lenType": 16,
    "lenVar": 40
   },
   "kernels_config": {
    "python": {
     "delete_cmd_postfix": "",
     "delete_cmd_prefix": "del ",
     "library": "var_list.py",
     "varRefreshCmd": "print(var_dic_list())"
    },
    "r": {
     "delete_cmd_postfix": ") ",
     "delete_cmd_prefix": "rm(",
     "library": "var_list.r",
     "varRefreshCmd": "cat(var_dic_list()) "
    }
   },
   "types_to_exclude": [
    "module",
    "function",
    "builtin_function_or_method",
    "instance",
    "_Feature"
   ],
   "window_display": false
  }
 },
 "nbformat": 4,
 "nbformat_minor": 1
}
