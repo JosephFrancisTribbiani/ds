{
 "cells": [
  {
   "cell_type": "markdown",
   "metadata": {
    "id": "RPcfHT5C-mKZ"
   },
   "source": [
    "# HW1: seq2seq nmt\n",
    "\n",
    "**Homework Goals**\n",
    "\n",
    "1. Get familiar with text data preparation\n",
    "2. Learn to work with RNN\n",
    "3. Train the model to translate `en-->ru`.\n",
    "\n"
   ]
  },
  {
   "cell_type": "code",
   "execution_count": 2,
   "metadata": {
    "ExecuteTime": {
     "end_time": "2022-12-10T18:47:19.638977Z",
     "start_time": "2022-12-10T18:47:13.047921Z"
    },
    "id": "0hUc8aEg8S2_"
   },
   "outputs": [],
   "source": [
    "import os\n",
    "import re\n",
    "import gc\n",
    "import spacy\n",
    "import random\n",
    "import logging\n",
    "import numpy as np\n",
    "import unicodedata\n",
    "import seaborn as sns\n",
    "import matplotlib.pyplot as plt\n",
    "from tqdm.auto import tqdm\n",
    "from itertools import islice\n",
    "from functools import partial\n",
    "from collections import defaultdict, Counter\n",
    "from typing import Union, Tuple, List, Dict\n",
    "from sklearn.model_selection import train_test_split\n",
    "\n",
    "import torch\n",
    "import torch.nn as nn\n",
    "from torch.nn import functional as F\n",
    "from torch.nn.utils.rnn import pad_sequence\n",
    "from torch.utils.data import Dataset, DataLoader\n",
    "from torch.utils.tensorboard import SummaryWriter\n",
    "\n",
    "import warnings\n",
    "warnings.filterwarnings(\"ignore\")"
   ]
  },
  {
   "cell_type": "markdown",
   "metadata": {
    "id": "qdM5tBYV8S3J"
   },
   "source": [
    "## Naive way of texts representation:\n",
    "\n",
    "0. Normalize spelling\n",
    "1. Filter out all special characters\n",
    "2. Split by spaces, do *naive tokenization*"
   ]
  },
  {
   "cell_type": "code",
   "execution_count": 3,
   "metadata": {
    "ExecuteTime": {
     "end_time": "2022-12-10T18:47:30.233477Z",
     "start_time": "2022-12-10T18:47:19.671562Z"
    }
   },
   "outputs": [
    {
     "name": "stdout",
     "output_type": "stream",
     "text": [
      "Alphabet before preprocessing (size - 174):\n",
      "\n",
      "   ! \" $ % & ' ( ) + , - . / 0 1 2 3 4 5 6 7 8 9 : ; ? @ A B C D E F G H I J K L M N O P Q R S T U V W X Y Z a b c d e f g h i j k l m n o p q r s t u v w x y z   « ° º » ã ç é ê î ï ó ö ú ü ́ Ё А Б В Г Д Е Ж З И Й К Л М Н О П Р С Т У Ф Х Ц Ч Ш Щ Ь Э Ю Я а б в г д е ж з и й к л м н о п р с т у ф х ц ч ш щ ъ ы ь э ю я ё ׁ ​ – — ― ‘ ’ …   ‽ ₂ € № \n",
      "\n",
      "Alphabet after preprocessing (size - 62):\n",
      "  ! , . ? a b c d e f g h i j k l m n o p q r s t u v w x y z а б в г д е ж з и к л м н о п р с т у ф х ц ч ш щ ъ ы ь э ю я \n",
      "\n",
      "Pairs (few examples):\n",
      "('go .', 'иди .') ('go .', 'идите .') ('hi .', 'здравствуите .') ('hi .', 'привет !') ('hi .', 'хаи .') ('hi .', 'здрасте .') ('hi .', 'здорово !') ('run !', 'беги !') ('run !', 'бегите !') ('run .', 'беги !')\n",
      "Total pairs qantity: 336666\n"
     ]
    }
   ],
   "source": [
    "class SeqPreproc:\n",
    "    def __init__(self) -> None:\n",
    "        self.raw_alphabet = set()\n",
    "        self.alphabet = set()\n",
    "    \n",
    "    @staticmethod\n",
    "    def normalize(seq: str):\n",
    "        return \"\".join(char for char in unicodedata.normalize('NFD', seq) if unicodedata.category(char) != 'Mn')\n",
    "\n",
    "    def preprocess(self, seq: str, add_sym: bool = True) -> str:\n",
    "        # adding raw symbols\n",
    "        if add_sym:\n",
    "            self.raw_alphabet.update(seq)\n",
    "        \n",
    "        # clean up sequence\n",
    "        seq = self.normalize(seq.lower().strip())\n",
    "        seq = re.sub(r\"[^a-zа-я?.,!]+\", \" \", seq)\n",
    "        seq = re.sub(r\"([.!?])\", r\" \\1\", seq)\n",
    "        \n",
    "        if add_sym:\n",
    "            self.alphabet.update(seq)\n",
    "        return seq\n",
    "\n",
    "\n",
    "with open(\"eng-rus.txt\", mode=\"r\", encoding=\"utf-8\") as f:\n",
    "    sp = SeqPreproc()\n",
    "    pairs = [tuple(map(sp.preprocess, line.split(\"\\t\"))) for line in f.readlines()]\n",
    "\n",
    "print(f\"Alphabet before preprocessing (size - {len(sp.raw_alphabet)}):\")\n",
    "print(*sorted(sp.raw_alphabet), \"\\n\")\n",
    "print(f\"Alphabet after preprocessing (size - {len(sp.alphabet)}):\")\n",
    "print(*sorted(sp.alphabet), \"\\n\")\n",
    "print(\"Pairs (few examples):\")\n",
    "print(*pairs[:10])\n",
    "print(f\"Total pairs qantity: {len(pairs)}\")"
   ]
  },
  {
   "cell_type": "markdown",
   "metadata": {
    "id": "h9ARXr6b8S3U"
   },
   "source": [
    "Each word will be assigned a number + we will need special tokens for the beginning and end of the sequence and for unknown words.\n",
    "`<SOS>, <EOS>, <UNK>`\n",
    "\n",
    "We have two languages, to work with each we need functions for translating from words to numbers and vice versa.\n",
    "\n",
    "It is proposed to implement these functions as dictionaries. Allocate the first 4 numbers for special tokens\n",
    "\n",
    "**(1 point)** Implement the dictionary building function, the function takes a list of strings (normalized sentences, can be splited by spaces) as input. Organize the dictionary in a reasonable way so that rare words can be thrown out if necessary."
   ]
  },
  {
   "cell_type": "code",
   "execution_count": 4,
   "metadata": {
    "ExecuteTime": {
     "end_time": "2022-12-10T18:47:32.202311Z",
     "start_time": "2022-12-10T18:47:30.724261Z"
    },
    "id": "2epLOt_-8S3V"
   },
   "outputs": [
    {
     "name": "stdout",
     "output_type": "stream",
     "text": [
      "10000 10000\n",
      "5000 5000\n"
     ]
    }
   ],
   "source": [
    "COMMON_TOKENS = ['PAD', 'SOS', 'EOS', 'UNK']\n",
    "\n",
    "\n",
    "def build_vocabs(sents: tuple, max_size: int = 1000, special_tokens: list = None) -> Tuple[dict]:\n",
    "    vocab = dict()\n",
    "    \n",
    "    for seq in sents:\n",
    "        for token in seq.split():\n",
    "            vocab[token] = vocab.get(token, 0) + 1\n",
    "            \n",
    "    vocab = {token: qty for token, qty in sorted(vocab.items(), key=lambda tup: tup[1], reverse=True)}\n",
    "    tokens = special_tokens.copy() if special_tokens else list()\n",
    "    tokens.extend(list(islice(vocab.keys(), max_size - len(special_tokens))) )\n",
    "    tok2idx, idx2tok = \\\n",
    "        dict(zip(tokens, range(len(tokens)))), dict(zip(range(len(tokens)), tokens))\n",
    "    return tok2idx, idx2tok\n",
    "\n",
    "\n",
    "eng, rus = list(zip(*pairs))\n",
    "rus2idx, idx2rus = build_vocabs(rus, max_size=10000, special_tokens=COMMON_TOKENS)\n",
    "eng2idx, idx2eng = build_vocabs(eng, max_size=5000 , special_tokens=COMMON_TOKENS)\n",
    "\n",
    "print(len(rus2idx), len(idx2rus))\n",
    "print(len(eng2idx), len(idx2eng))"
   ]
  },
  {
   "cell_type": "code",
   "execution_count": 5,
   "metadata": {
    "ExecuteTime": {
     "end_time": "2022-12-10T18:47:33.054185Z",
     "start_time": "2022-12-10T18:47:33.040221Z"
    },
    "id": "xh5koecS8S3c"
   },
   "outputs": [
    {
     "name": "stdout",
     "output_type": "stream",
     "text": [
      "[1, 2539, 1264, 83, 2]\n",
      "SOS привет мир ! EOS\n",
      "[1, 1960, 439, 174, 2]\n",
      "SOS hello world ! EOS\n"
     ]
    }
   ],
   "source": [
    "def sentence2idx(seq: str, tok2idx: dict) -> list():\n",
    "    \"\"\"\n",
    "    Takes sentence as input and returns sequence of tokens indexes\n",
    "    \"\"\"\n",
    "    tokens = SeqPreproc().preprocess(seq=seq).split()\n",
    "    unk = tok2idx.get(\"UNK\")\n",
    "    return [tok2idx.get(\"SOS\")] + [tok2idx.get(token, unk) for token in tokens] + [tok2idx.get(\"EOS\")]\n",
    "\n",
    "\n",
    "def idx2sentence(seq: list, idx2tok: dict) -> str:\n",
    "    \"\"\"\n",
    "    Takes sequence of tokens indexes as input and returns sentence\n",
    "    \"\"\"\n",
    "    return \" \".join(idx2tok.get(idx) for idx in seq)\n",
    "\n",
    "# check the consistency of the transformations\n",
    "x = sentence2idx('Привет мир!', rus2idx)\n",
    "print(x)\n",
    "print(idx2sentence(seq=x, idx2tok=idx2rus))\n",
    "\n",
    "x = sentence2idx('Hello world!', eng2idx)\n",
    "print(x)\n",
    "print(idx2sentence(seq=x, idx2tok=idx2eng))"
   ]
  },
  {
   "cell_type": "markdown",
   "metadata": {},
   "source": [
    "**Build vocabs using Spacy tokenizer (as example, didn't used in training process)**"
   ]
  },
  {
   "cell_type": "code",
   "execution_count": 61,
   "metadata": {
    "ExecuteTime": {
     "end_time": "2022-12-10T10:51:18.240574Z",
     "start_time": "2022-12-10T10:51:18.215062Z"
    }
   },
   "outputs": [
    {
     "name": "stdout",
     "output_type": "stream",
     "text": [
      "EN vocab size: 15455\n",
      "RU vocab size: 51050\n"
     ]
    }
   ],
   "source": [
    "class PreprocessSpacy:\n",
    "    def __init__(self) -> None:\n",
    "        self.en_tokens, self.ru_tokens = Counter(), Counter()\n",
    "        \n",
    "    def __call__(self, line: str, ru_nlp: spacy.lang, en_nlp: spacy.lang, \n",
    "                 update_vocabs: bool = True) -> None:\n",
    "        en_seq, ru_seq = line.split(\"\\t\")\n",
    "        en_seq, ru_seq = \\\n",
    "            self.preprocess(seq=en_seq, nlp=en_nlp), self.preprocess(seq=ru_seq, nlp=ru_nlp)\n",
    "        \n",
    "        if update_vocabs:\n",
    "            self.en_tokens.update(en_seq)\n",
    "            self.ru_tokens.update(ru_seq)\n",
    "        return en_seq, ru_seq\n",
    "    \n",
    "    @staticmethod\n",
    "    def normalize(seq: str):\n",
    "        return \"\".join(char for char in unicodedata.normalize('NFD', seq) if unicodedata.category(char) != 'Mn')\n",
    "    \n",
    "    def preprocess(self, seq: str, nlp: spacy.lang) -> str:\n",
    "        # text normalization and removing digits and symbols\n",
    "        seq = self.normalize(seq.lower().strip())\n",
    "        seq = re.sub(r\"[^a-zа-я?.,!']+\", \" \", seq)\n",
    "        seq = re.sub(r\"([.!?])\", r\" \\1\", seq)\n",
    "        \n",
    "        # split into the tokens\n",
    "        seq = [token.text for token in nlp(seq)]\n",
    "        return seq\n",
    "    \n",
    "    def build_vocabs(self, max_size: Union[int, Tuple[int]] = None, \n",
    "                     common_tokens: List[str] = None) -> Tuple[dict]:\n",
    "        if not isinstance(max_size, tuple):\n",
    "            en_max_size, ru_max_size = max_size\n",
    "        else:\n",
    "            en_max_size, ru_max_size = max_size\n",
    "            \n",
    "        en_vocab = [token[0] for token in self.en_tokens.most_common(en_max_size)]\n",
    "        ru_vocab = [token[0] for token in self.ru_tokens.most_common(ru_max_size)]\n",
    "        \n",
    "        if isinstance(common_tokens, list) and len(common_tokens) > 0:\n",
    "            en_vocab = [*common_tokens, *en_vocab]\n",
    "            ru_vocab = [*common_tokens, *ru_vocab]\n",
    "            \n",
    "        en_idxes = range(len(en_vocab))\n",
    "        ru_idxes = range(len(ru_vocab))\n",
    "        \n",
    "        eng2idx, idx2eng, rus2idx, idx2rus = \\\n",
    "            dict(zip(en_vocab, en_idxes)), dict(zip(en_idxes, en_vocab)), \\\n",
    "            dict(zip(ru_vocab, ru_idxes)), dict(zip(ru_idxes, ru_vocab))\n",
    "        return eng2idx, idx2eng, rus2idx, idx2rus\n",
    "    \n",
    "\n",
    "# also we can use spacy for tokenization (very precise approach)\n",
    "# load SpaCy model for both languages\n",
    "ru_nlp = spacy.load(\"ru_core_news_lg\")\n",
    "en_nlp = spacy.load(\"en_core_web_lg\")\n",
    "\n",
    "# iterrate over pairs of sequences and tokenize them (without lemmatization, cause we need suffixes also)\n",
    "# but we will keep normalization and make all tokens lower case\n",
    "# vocab will be larger, but it's OK. We need good quality at the end\n",
    "with open(\"eng-rus.txt\", mode=\"r\", encoding=\"utf-8\") as f:\n",
    "    spcy_builder = PreprocessSpacy()\n",
    "    pairs_spcy = [spcy_builder(line=line, ru_nlp=ru_nlp, en_nlp=en_nlp) for line in f.readlines()]\n",
    "    \n",
    "print(\"EN vocab size: {}\".format(len(spcy_builder.en_tokens)))\n",
    "print(\"RU vocab size: {}\".format(len(spcy_builder.ru_tokens)))\n",
    "\n",
    "# bild vocabs\n",
    "eng2idx_spcy, idx2eng_spcy, rus2idx_spcy, idx2rus_spcy = \\\n",
    "    spcy_builder.build_vocabs(max_size=(5000, 10000), common_tokens=['PAD', 'SOS', 'EOS', 'UNK'])"
   ]
  },
  {
   "cell_type": "markdown",
   "metadata": {
    "id": "Dhjjx52i8S3g"
   },
   "source": [
    "## Dealing with arbitrary length sequences in pytorch\n",
    "\n",
    "We need to be able to generate batches of `[bs, 1, seq_len]` tensors.\n",
    "But in our dataset, the samples are of different lengths:\n",
    "\n",
    "- we could cut everything down to the minimum length\n",
    "- padd to maximum length\n",
    "- choose some average length\n",
    "\n",
    "**(1 point)** Split the dataset on train and validate:"
   ]
  },
  {
   "cell_type": "code",
   "execution_count": 6,
   "metadata": {
    "ExecuteTime": {
     "end_time": "2022-12-10T18:47:48.413665Z",
     "start_time": "2022-12-10T18:47:33.847057Z"
    },
    "id": "kmGX7wtL8S3i"
   },
   "outputs": [
    {
     "data": {
      "application/vnd.jupyter.widget-view+json": {
       "model_id": "91a7e2a44a0347d98ccf208c05c2aee6",
       "version_major": 2,
       "version_minor": 0
      },
      "text/plain": [
       "HBox(children=(FloatProgress(value=0.0, max=336666.0), HTML(value='')))"
      ]
     },
     "metadata": {},
     "output_type": "display_data"
    },
    {
     "name": "stdout",
     "output_type": "stream",
     "text": [
      "\n",
      "Train size: 269332 \n",
      "Eval size: 67334\n"
     ]
    }
   ],
   "source": [
    "# make a dataset with encoded pairs:\n",
    "class EngRusDataset(Dataset):\n",
    "    def __init__(self, pairs: List[tuple], pad_to: int = None, pad_value: int = 0, \n",
    "                 pad_left: bool = False) -> None:\n",
    "        self.pairs = pairs\n",
    "        self.pad_to = pad_to\n",
    "        self.pad_value = pad_value\n",
    "        self.pad_left = pad_left\n",
    "    \n",
    "    def __len__(self) -> int:\n",
    "        return len(self.pairs)\n",
    "    \n",
    "    def transform(self, seq: list) -> torch.tensor:\n",
    "        if self.pad_to is not None and len(seq) != self.pad_to:\n",
    "            if len(seq) > self.pad_to:\n",
    "                seq = seq[:self.pad_to]\n",
    "            else:\n",
    "                n_pads = self.pad_to - len(seq)\n",
    "                seq = [self.pad_value]*n_pads*self.pad_left + \\\n",
    "                      seq + \\\n",
    "                      [self.pad_value]*n_pads*(not self.pad_left)       \n",
    "        return torch.tensor(seq, dtype=torch.int)\n",
    "        \n",
    "    def __getitem__(self, item: int) -> Dict:\n",
    "        eng, rus = self.pairs[item]\n",
    "        eng, rus = self.transform(seq=eng), self.transform(seq=rus)\n",
    "        return dict(\n",
    "            eng=eng,\n",
    "            rus=rus,\n",
    "        )\n",
    "\n",
    "encoded = []\n",
    "for eng, rus in tqdm(pairs):\n",
    "    a = sentence2idx(eng, eng2idx)\n",
    "    b = sentence2idx(rus, rus2idx)\n",
    "    encoded.append((a, b))\n",
    "\n",
    "\n",
    "train_pairs, eval_pairs = train_test_split(encoded, train_size=0.8, random_state=42, shuffle=True)\n",
    "trainset = EngRusDataset(pairs=train_pairs, pad_to=8, pad_left=True)\n",
    "evalset = EngRusDataset(pairs=eval_pairs, pad_to=8, pad_left=True)\n",
    "\n",
    "print(\"Train size:\", trainset.__len__(), \"\\nEval size:\", evalset.__len__())"
   ]
  },
  {
   "cell_type": "markdown",
   "metadata": {
    "id": "9PDpAtEq8S3n"
   },
   "source": [
    "Let's build a naive DataLoader and check how it makes batches:"
   ]
  },
  {
   "cell_type": "code",
   "execution_count": 7,
   "metadata": {
    "ExecuteTime": {
     "end_time": "2022-12-10T18:47:51.624378Z",
     "start_time": "2022-12-10T18:47:51.597665Z"
    },
    "id": "B-wLIzt88S3o"
   },
   "outputs": [],
   "source": [
    "trainloader = DataLoader(trainset, batch_size=8, shuffle=True)\n",
    "it = iter(trainloader)"
   ]
  },
  {
   "cell_type": "code",
   "execution_count": 108,
   "metadata": {
    "ExecuteTime": {
     "end_time": "2022-12-01T18:34:08.845645Z",
     "start_time": "2022-12-01T18:34:08.823645Z"
    },
    "id": "3CM0vzGL8S3s"
   },
   "outputs": [
    {
     "data": {
      "text/plain": [
       "tensor([[   0,    1,    5,  140,   95,  381,    4,    2],\n",
       "        [   1,  131,  154,  476, 3074,   48,  491,  175],\n",
       "        [   0,    1,   22,   11,  472,  297,    4,    2],\n",
       "        [   1,    5,   41,    5,   49,  111,   13,    4],\n",
       "        [   1,    6,   86,   11,   29,   23,   28,  319],\n",
       "        [   1,    6,  255,   19,  311,   12,  547,    4],\n",
       "        [   0,    1,    5,  222,   11,  911,    4,    2],\n",
       "        [   1,    5,   22,   11,  259,   45,   63,   91]], dtype=torch.int32)"
      ]
     },
     "execution_count": 108,
     "metadata": {},
     "output_type": "execute_result"
    }
   ],
   "source": [
    "batch = next(it)['eng']\n",
    "batch"
   ]
  },
  {
   "cell_type": "markdown",
   "metadata": {
    "id": "O7blZtcq8S3w"
   },
   "source": [
    "In my case, the result was:\n",
    "```\n",
    "[tensor([1, 1, 1, 1, 1, 1, 1, 1]),\n",
    " tensor([ 6,  7,  6, 15,  5,  6,  5, 62]),\n",
    " tensor([ 48,  34,  83,   7,  32, 221,  22,  43]),\n",
    " tensor([  5, 143,  37,  36, 129,  12,  11,  66]),\n",
    " tensor([  73, 1258,  279,    8,    6,  555,   41,   10]),\n",
    " tensor([  8, 140,   8, 628,  20,  96,  13, 270]),\n",
    " tensor([  47,    4,   15,   18,   55,  269,    6, 1287]),\n",
    " tensor([ 58,   2,  13, 140, 193, 140, 171, 140])]\n",
    "```\n",
    "\n",
    "What's weird here?\n",
    "1. This is not a tensor, but a list of tensors. Accordingly, when iterating over zero dimension (`batch[i, :]`), we will get not an i-example, but i-tokens for all examples in the batch. This is not a problem, but different from the expected behavior.\n",
    "2. Only one example ends with `<EOS>` (2), the others are cut off to match its length. And this is a problem.\n",
    "\n",
    "We would like to padd all examples to the maximum length in the batch.\n",
    "But at the stage of preparing the example (in the `__getitem__` function), we do not know the batch neighbors!\n",
    "In order to change the batch merging logic, we need to write our own `collate_fn` function in the DataLoader constructor:\n",
    "\n",
    "```\n",
    "def collate_fn(samples):\n",
    "    # samples -- list of dictionaries samples\n",
    "    <...>\n",
    "    return batch\n",
    "```\n",
    "\n",
    "**(1 point)** Write a `collate_fn` function that padds _correctly_ rus and eng sequences and merges them into batches, where `batch[i, :]` returns the tokens for the `i` example.\n",
    "\n",
    "Expected output (for a sequence with left padding):\n",
    "\n",
    "```\n",
    "tensor([[   1,   10, 3429,  405,  113,  676,   10, 1031,  140,    4,    2],\n",
    "        [   0,    1,   57,   18,   23,   19,   61,    7,  140,    4,    2],\n",
    "        [   0,    0,    0,    1,   16,   17, 1131,  416,  140,    4,    2],\n",
    "        [   0,    0,    0,    1,   13,  465,   75,  197,  140,    4,    2],\n",
    "        [   0,    0,    0,    1,    6,  302,   13,  144,  140,    4,    2],\n",
    "        [   0,    1,    6,   59,  205,  167,    8,   15,  140,    4,    2],\n",
    "        [   0,    0,    0,    0,    1,    6,   14,  678,  140,    4,    2],\n",
    "        [   0,    0,    1,    5,   29,   67,    6,   14,  140,    4,    2]])\n",
    "```"
   ]
  },
  {
   "cell_type": "code",
   "execution_count": 8,
   "metadata": {
    "ExecuteTime": {
     "end_time": "2022-12-10T18:47:54.853427Z",
     "start_time": "2022-12-10T18:47:54.823944Z"
    },
    "id": "SMSeFFHQ8S3y"
   },
   "outputs": [
    {
     "name": "stdout",
     "output_type": "stream",
     "text": [
      "33667 8417\n"
     ]
    }
   ],
   "source": [
    "class EngRusCollate:\n",
    "    def __init__(self, padding_value: int = 0, batch_first: bool = True) -> None:\n",
    "        self.padding_value = padding_value\n",
    "        self.batch_first = batch_first\n",
    "        \n",
    "    def __call__(self, batch: List[dict]) -> Dict[str, torch.tensor]:\n",
    "        # getting max length\n",
    "        data = dict(\n",
    "                eng=list(),\n",
    "                rus=list()\n",
    "            )\n",
    "        \n",
    "        for seq in batch:\n",
    "            data[\"eng\"].append(torch.flip(seq.get(\"eng\"), dims=(0, )))\n",
    "            data[\"rus\"].append(seq.get(\"rus\"))\n",
    "        return {k: torch.flip(pad_sequence(v, batch_first=self.batch_first, \n",
    "                                           padding_value=self.padding_value), dims=(1, )) \\\n",
    "                if k ==\"eng\" else \\\n",
    "                   pad_sequence(v, batch_first=self.batch_first, \n",
    "                                padding_value=self.padding_value).to(torch.int64) for k, v in data.items()}\n",
    "    \n",
    "    \n",
    "trainset = EngRusDataset(pairs=train_pairs)\n",
    "evalset = EngRusDataset(pairs=eval_pairs)\n",
    "\n",
    "trainloader = DataLoader(trainset, batch_size=8, shuffle=True, collate_fn=EngRusCollate())\n",
    "evalloader = DataLoader(evalset, batch_size=8, shuffle=False, collate_fn=EngRusCollate())\n",
    "\n",
    "print(len(trainloader), len(evalloader))"
   ]
  },
  {
   "cell_type": "code",
   "execution_count": 70,
   "metadata": {
    "ExecuteTime": {
     "end_time": "2022-12-10T10:54:19.185567Z",
     "start_time": "2022-12-10T10:54:19.123794Z"
    }
   },
   "outputs": [],
   "source": [
    "eng, rus = next(iter(trainloader)).values()"
   ]
  },
  {
   "cell_type": "code",
   "execution_count": 292,
   "metadata": {
    "ExecuteTime": {
     "end_time": "2022-12-03T11:31:16.327163Z",
     "start_time": "2022-12-03T11:31:16.312130Z"
    }
   },
   "outputs": [
    {
     "data": {
      "text/plain": [
       "tensor([[   0,    0,    0,    0,    0,    1,    7,   34,  227, 4960,    4,    2],\n",
       "        [   0,    0,    0,    1,    5,  360,   56,    6,   20,  725,    4,    2],\n",
       "        [   0,    1,    5,   22,   11,   41,    5,   72,    8,   47,    4,    2],\n",
       "        [   0,    0,    0,    0,    1,    6,   59,  262,   66,  187,    4,    2],\n",
       "        [   1,   15,    7,   36,    8,   93,   23,    5,   51,  100,    9,    2],\n",
       "        [   0,    0,    1,   16,  388,   33, 1471,   85,   94,  303,    4,    2],\n",
       "        [   1,    5,  139,    6,   74,   19,   73,  233,   44,  123,    4,    2],\n",
       "        [   0,    0,    1,    6,   60,  126,   21,   12,  330,  370,    4,    2]],\n",
       "       dtype=torch.int32)"
      ]
     },
     "execution_count": 292,
     "metadata": {},
     "output_type": "execute_result"
    }
   ],
   "source": [
    "eng"
   ]
  },
  {
   "cell_type": "code",
   "execution_count": 360,
   "metadata": {
    "ExecuteTime": {
     "end_time": "2022-12-03T13:17:45.946338Z",
     "start_time": "2022-12-03T13:17:45.929351Z"
    }
   },
   "outputs": [
    {
     "name": "stdout",
     "output_type": "stream",
     "text": [
      "PAD PAD PAD PAD PAD SOS you are two faced . EOS\n",
      "PAD PAD PAD SOS i wonder why tom was fired . EOS\n",
      "PAD SOS i don t think i need to go . EOS\n",
      "PAD PAD PAD PAD SOS tom has lost all hope . EOS\n",
      "SOS do you want to see what i ve got ? EOS\n",
      "PAD PAD SOS it seems my dreams never come true . EOS\n",
      "SOS i asked tom where he had bought his car . EOS\n",
      "PAD PAD SOS tom will leave in a few days . EOS\n"
     ]
    }
   ],
   "source": [
    "for idx in range(eng.shape[0]):\n",
    "    sentence = eng[idx, :].tolist()\n",
    "    print(idx2sentence(seq=sentence, idx2tok=idx2eng))"
   ]
  },
  {
   "cell_type": "code",
   "execution_count": 293,
   "metadata": {
    "ExecuteTime": {
     "end_time": "2022-12-03T11:31:28.186086Z",
     "start_time": "2022-12-03T11:31:28.172589Z"
    }
   },
   "outputs": [
    {
     "data": {
      "text/plain": [
       "tensor([[   1,   12,    3,    4,    2,    0,    0,    0,    0,    0,    0],\n",
       "        [   1,  282,   45,   21, 1381,    4,    2,    0,    0,    0,    0],\n",
       "        [   1,    6,   40,    9,   15,   64,  157,    4,    2,    0,    0],\n",
       "        [   1,    7,  364, 8131, 2823,    4,    2,    0,    0,    0,    0],\n",
       "        [   1,  116, 2327,    9,   16,   22,   42,    8,    2,    0,    0],\n",
       "        [   1,  296,   79, 2885,   59,    6,    3,    4,    2,    0,    0],\n",
       "        [   1,    5,  295,   16,  313,   63,   18,  177,  178,    4,    2],\n",
       "        [   1,    7, 2987,  263,  193,  690,    4,    2,    0,    0,    0]],\n",
       "       dtype=torch.int32)"
      ]
     },
     "execution_count": 293,
     "metadata": {},
     "output_type": "execute_result"
    }
   ],
   "source": [
    "rus"
   ]
  },
  {
   "cell_type": "code",
   "execution_count": 359,
   "metadata": {
    "ExecuteTime": {
     "end_time": "2022-12-03T13:17:11.929554Z",
     "start_time": "2022-12-03T13:17:11.909300Z"
    }
   },
   "outputs": [
    {
     "name": "stdout",
     "output_type": "stream",
     "text": [
      "SOS ты UNK . EOS PAD PAD PAD PAD PAD PAD\n",
      "SOS интересно, почему тома уволили . EOS PAD PAD PAD PAD\n",
      "SOS не думаю, что мне нужно идти . EOS PAD PAD\n",
      "SOS том потерял всякую надежду . EOS PAD PAD PAD PAD\n",
      "SOS хочешь посмотреть, что у меня есть ? EOS PAD PAD\n",
      "SOS похоже, мои мечты никогда не UNK . EOS PAD PAD\n",
      "SOS я спросил у тома, где он купил машину . EOS\n",
      "SOS том уедет через несколько днеи . EOS PAD PAD PAD\n"
     ]
    }
   ],
   "source": [
    "for idx in range(rus.shape[0]):\n",
    "    sentence = rus[idx, :].tolist()\n",
    "    print(idx2sentence(seq=sentence, idx2tok=idx2rus))"
   ]
  },
  {
   "cell_type": "markdown",
   "metadata": {
    "id": "vDcGAXiA-mKm"
   },
   "source": [
    "Now we have the correct data generator, and all we have to do is write the model (encoder and decoder).\n",
    "\n",
    "\n",
    "### Encoder\n",
    "\n",
    "The input tensor contains integers and has dimensions `[bs, seq_len]`,\n",
    "\n",
    "We will pass them through the layer with embeddings and get the tensor `[bs, seq_len, dim]`. Now we have floating point numbers that can be fed to RNN layers as input.\n",
    "\n",
    "\n",
    "\n",
    "GRU is an RNN with a specific structure:\n",
    "<img src=\"https://habrastorage.org/webt/xt/_q/nj/xt_qnjgfjengqoqd4gizkq4j_wk.png\">\n",
    "\n",
    "In the picture, the yellow rectangles are the line layers with the corresponding activation functions.\n",
    "\n",
    "\n",
    "`nn.RNN` allows you to create and use multi-layer one- and two-way layers as one layer.\n",
    "All parameters must be specified during creation, and then simply applied during the forward pass.\n",
    "\n",
    "\n",
    "The order of dimensions is a bit different from the usual in convolutional networks, this is due to the inability to parallel recurrent calculations effectively.\n",
    "\n",
    "\n",
    "**batch_first=True**\n",
    "\n",
    "Such an RNN layer expects two tensors as input:\n",
    "  - input with sizes `[bs, seq_len, dim]`,\n",
    "  - hidden_state with dimensions `[num_layers * num_directions, bs, hidden_size]`.\n",
    " \n",
    " \n",
    "The output is two tensors:\n",
    "- output `[bs, seq_len, dim]`,\n",
    "- hidden `[num_layers * num_directions, bs, hidden]`.\n",
    "\n",
    "We will apply RNN in two ways:\n",
    "- to the entire sequence, to translate the entire phrase in one language into one vector (EncoderRNN)\n",
    "- to one tensor and input token to generate a phrase in another language (DecoderRNN)\n",
    "\n",
    "\n",
    "We will put the entire input sequence into a hidden state vector."
   ]
  },
  {
   "cell_type": "code",
   "execution_count": 9,
   "metadata": {
    "ExecuteTime": {
     "end_time": "2022-12-10T18:47:58.108394Z",
     "start_time": "2022-12-10T18:47:58.052438Z"
    },
    "id": "dph7rI9_8S33"
   },
   "outputs": [
    {
     "name": "stdout",
     "output_type": "stream",
     "text": [
      "torch.Size([8, 11])\n",
      "torch.Size([8, 11, 256]) torch.Size([1, 8, 256])\n"
     ]
    }
   ],
   "source": [
    "class EncoderRNN(nn.Module):\n",
    "    def __init__(self, hidden_size: int, vocab_size: int, layers: int = 1) -> None:\n",
    "        super().__init__()\n",
    "        self.layers = layers\n",
    "        self.hidden_size = hidden_size\n",
    "        self.vocab_size = vocab_size\n",
    "        \n",
    "        # initialize the embeddings with \"hidden_size\" size for each token in the vocab\n",
    "        # each token initialized from standard normal distribution N(0, 1)\n",
    "        self.embeddings = nn.Embedding(num_embeddings=vocab_size, embedding_dim=hidden_size)\n",
    "        \n",
    "        # initialize RNN model with \"layers\" num layers of GRU cells. \"Bidirectional\" argument is not\n",
    "        # specified -> the model is one directional\n",
    "        self.rnn = nn.GRU(input_size=hidden_size, hidden_size=hidden_size, num_layers=layers, \n",
    "                          batch_first=True)\n",
    "        \n",
    "    def forward(self, input_: torch.tensor, hidden: torch.tensor) -> Tuple[torch.tensor]:\n",
    "        # getting tensor of shape [batch_size, n_sequences, embedings size]\n",
    "        # it's X data to feed to GRU cell\n",
    "        embedded = self.embeddings(input_)\n",
    "        \n",
    "        # feed through rnn embedings and hidden\n",
    "        output, hidden = self.rnn(embedded, hidden)\n",
    "        return output, hidden\n",
    "    \n",
    "    def init_hidden(self, batch_size: int = 1, device: str = None) -> torch.tensor:\n",
    "        \"\"\"\n",
    "        Method initializes the first hidden vector with shape (D∗num_layers, N, H) to feed to first GRU cell.\n",
    "        D = 2 if bidirectional otherwise 1, N - batch size, H - hidden size.\n",
    "        All values are equal to 0\n",
    "        \"\"\"\n",
    "        # be aware about dimension! https://pytorch.org/docs/stable/nn.html#torch.nn.GRU\n",
    "        return torch.zeros(self.layers, batch_size, self.hidden_size, device=device)\n",
    "\n",
    "# initialize the encoder with hidden size 256\n",
    "enc = EncoderRNN(hidden_size=256, vocab_size=len(eng2idx))\n",
    "\n",
    "x = next(iter(trainloader))[\"eng\"]\n",
    "print(x.shape)\n",
    "\n",
    "# first hidden vector is a vector of zeroes\n",
    "# so, initialize this vector\n",
    "hidden = enc.init_hidden(batch_size=x.shape[0])\n",
    "output, hidden = enc(x, hidden)\n",
    "print(output.shape, hidden.shape)"
   ]
  },
  {
   "cell_type": "markdown",
   "metadata": {
    "id": "Vg6cvr8L-mKm"
   },
   "source": [
    "We want the decoder to generate a translation for us -- a sequence of tokens from another language, using the encoder's hidden state vector.\n",
    "\n",
    "To do this, we will supply hidden and `<SOS>`token to the input.\n",
    "At each step, the decoder will return hidden and output vector.\n",
    "Output vector is the probability distribution for the next token (respectively, it has the size of the output language dictionary)."
   ]
  },
  {
   "cell_type": "code",
   "execution_count": 10,
   "metadata": {
    "ExecuteTime": {
     "end_time": "2022-12-10T18:48:01.378432Z",
     "start_time": "2022-12-10T18:48:01.364264Z"
    },
    "id": "oYfecQb88S38"
   },
   "outputs": [],
   "source": [
    "class DecoderRNN(nn.Module):\n",
    "    def __init__(self, hidden_size: int, vocab_size: int, layers: int = 1, p_classifier: float = 0.1) -> None:\n",
    "        super().__init__()\n",
    "        self.layers = layers\n",
    "        self.hidden_size = hidden_size\n",
    "        self.vocab_size = vocab_size\n",
    "        \n",
    "        # initialize the embeddings with \"hidden_size\" size for each token in the vocab\n",
    "        # each token initialized from standard normal distribution N(0, 1)\n",
    "        self.embeddings = nn.Embedding(num_embeddings=vocab_size, embedding_dim=hidden_size)\n",
    "        \n",
    "        # initialize onedirectional RNN of decoder with GRU cells\n",
    "        self.rnn = nn.GRU(input_size=hidden_size, hidden_size=hidden_size, num_layers=layers, \n",
    "                          batch_first=True)\n",
    "        \n",
    "        # finally we have to classify our tokens with Linear layer at the end\n",
    "        self.classifier = nn.Sequential(\n",
    "            nn.Dropout(p=p_classifier),\n",
    "            nn.Linear(in_features=hidden_size, out_features=vocab_size)\n",
    "        )\n",
    "        self.softmax = nn.LogSoftmax(dim=2)\n",
    "        \n",
    "    def forward(self, input_: torch.tensor, hidden: torch.tensor) -> Tuple[torch.tensor]:\n",
    "        embedded = self.embeddings(input_)\n",
    "        output, hidden = self.rnn(embedded, hidden)\n",
    "        output = self.softmax(self.classifier(output))\n",
    "        return output, hidden\n",
    "    \n",
    "    def init_hidden(self, batch_size: int = 1, device: str = None) -> torch.tensor:\n",
    "        \"\"\"\n",
    "        Method initializes the first hidden vector with shape (D∗num_layers, N, H) to feed to first GRU cell.\n",
    "        D = 2 if bidirectional otherwise 1, N - batch size, H - hidden size.\n",
    "        All values are equal to 0\n",
    "        \"\"\"\n",
    "        # be aware about dimension! https://pytorch.org/docs/stable/nn.html#torch.nn.GRU\n",
    "        return torch.zeros(self.layers, batch_size, self.hidden_size, device=device)\n"
   ]
  },
  {
   "cell_type": "code",
   "execution_count": 73,
   "metadata": {
    "ExecuteTime": {
     "end_time": "2022-12-10T10:54:56.691683Z",
     "start_time": "2022-12-10T10:54:56.647182Z"
    },
    "id": "oyMwF94n8S3_"
   },
   "outputs": [],
   "source": [
    "dec = DecoderRNN(hidden_size=256, vocab_size=len(rus2idx))"
   ]
  },
  {
   "cell_type": "markdown",
   "metadata": {
    "id": "a_Vj3_PB-mKn"
   },
   "source": [
    "Let's get a tensor with tokens of size `[bs, seq_len]` from the data generator and try to iterate over seq_len to generate the next token."
   ]
  },
  {
   "cell_type": "code",
   "execution_count": 74,
   "metadata": {
    "ExecuteTime": {
     "end_time": "2022-12-10T10:55:09.059551Z",
     "start_time": "2022-12-10T10:55:08.999560Z"
    },
    "id": "wVFcg0Uz8S4C"
   },
   "outputs": [
    {
     "name": "stdout",
     "output_type": "stream",
     "text": [
      "torch.Size([8, 1, 10000]) torch.Size([1, 8, 256])\n",
      "torch.Size([8, 1, 10000]) torch.Size([1, 8, 256])\n",
      "torch.Size([8, 1, 10000]) torch.Size([1, 8, 256])\n",
      "torch.Size([8, 1, 10000]) torch.Size([1, 8, 256])\n",
      "torch.Size([8, 1, 10000]) torch.Size([1, 8, 256])\n",
      "torch.Size([8, 1, 10000]) torch.Size([1, 8, 256])\n",
      "torch.Size([8, 1, 10000]) torch.Size([1, 8, 256])\n",
      "torch.Size([8, 1, 10000]) torch.Size([1, 8, 256])\n",
      "torch.Size([8, 1, 10000]) torch.Size([1, 8, 256])\n"
     ]
    }
   ],
   "source": [
    "batch = next(iter(trainloader))[\"rus\"] # get batch\n",
    "bs, seq_len = batch.shape\n",
    "hidden = dec.init_hidden(batch_size=bs)\n",
    "\n",
    "for i in range(0, seq_len):\n",
    "    step = batch[:, i].unsqueeze(1)  # get tokens sample for i-th step \n",
    "     # These are the correct tokens (ground truth), we could generate them\n",
    "     # unsqueeze adds dimension 1 (from [bs] to [bs, 1])\n",
    "    \n",
    "    output, hidden = dec(step, hidden)\n",
    "    print(output.shape, hidden.shape)\n",
    "    # output -- this is the probability distribution for the next token\n",
    "    # hidden -- this is the updated hidden state"
   ]
  },
  {
   "cell_type": "markdown",
   "metadata": {
    "id": "ECBleoB4F58E"
   },
   "source": [
    "**(6 points)** Fill in a training part and train the encoder and decoder.\n",
    "\n",
    "1. You need to write getting the next token (integer) from the distribution: a vector of size `len(rus2idx)`. Since we are working in batches, this should be a batchified operation. You have several options for how to do this:\n",
    " - take by argmax\n",
    " - sample from distribution (torch.multinomial)\n",
    " - during training, take tokens from ground truth (and this must be done at least sometimes so that the model converges).\n",
    " \n",
    "2. You need to write a loss calculation. It is convenient to do this at each step: after the `<EOS>` occurs in the example, you do not need to count the loss for it (in the vectorized version, you can multiply the loss for `<PAD>`-tokens by zero - this is called masking). Loss is simply the sum of cross-entropy losses for each step.\n"
   ]
  },
  {
   "cell_type": "code",
   "execution_count": 12,
   "metadata": {
    "ExecuteTime": {
     "end_time": "2022-12-10T18:48:59.794264Z",
     "start_time": "2022-12-10T18:48:59.759284Z"
    }
   },
   "outputs": [],
   "source": [
    "logging.basicConfig(\n",
    "    level=logging.INFO, \n",
    "    format='[%(asctime)s] {%(filename)s:%(lineno)d} %(levelname)s - %(message)s',\n",
    ")\n",
    "LOGGER = logging.getLogger(__name__)\n",
    "\n",
    "\n",
    "class Eng2RusTrainModel:\n",
    "    def __init__(self, encoder_vocab_size: int, decoder_vocab_size: int, hiden_size: int = 256, \n",
    "                 device: str = \"cuda\", initial_lr: Union[int, float] = 1e-3, patience: int = 10,\n",
    "                 factor: float = 0.5, writer_path: str = \"./runs/\", max_gradient_norm: int = 4) -> None:\n",
    "        self.device = device if torch.cuda.is_available() else \"cpu\"\n",
    "        \n",
    "        # model initialization\n",
    "        self.encoder = EncoderRNN(hidden_size=hiden_size, vocab_size=encoder_vocab_size).to(self.device)\n",
    "        self.decoder = DecoderRNN(hidden_size=hiden_size, vocab_size=decoder_vocab_size).to(self.device)\n",
    "        \n",
    "        # loss function\n",
    "        self.criterion = nn.CrossEntropyLoss(reduction=\"none\")\n",
    "        \n",
    "        # optimizer\n",
    "        training_params = list(self.encoder.parameters()) + list(self.decoder.parameters())\n",
    "        self.optimizer = \\\n",
    "            torch.optim.Adam(params=training_params, lr=initial_lr)\n",
    "        self.scheduler = torch.optim.lr_scheduler.ReduceLROnPlateau(\n",
    "            optimizer=self.optimizer, mode=\"min\", patience=patience, factor=factor)\n",
    "        self.max_gradient_norm = max_gradient_norm\n",
    "        \n",
    "        # summary writer to display using tendorboard\n",
    "        self.writer = SummaryWriter(writer_path)\n",
    "    \n",
    "    def fit(self, trainloader: DataLoader, evalloader: DataLoader, n_epochs: int = 5, \n",
    "            teacher_forcing_ratio: float = 0.5, verbose_step: int = 100, pad_token: int = 0) -> None:\n",
    "        LOGGER.info(\"Iterate over {} epochs\".format(n_epochs))\n",
    "        for epoch in range(n_epochs):\n",
    "            LOGGER.info(\"Epoch [{}]/[{}]\".format(epoch + 1, N_EPOCHS))\n",
    "            \n",
    "            curr_lr = self.scheduler.optimizer.param_groups[0]['lr']\n",
    "            LOGGER.info(\"LR:\\t{}\".format(curr_lr))\n",
    "            if self.writer is not None:\n",
    "                self.writer.add_scalar(tag=\"Learning rate\", scalar_value=curr_lr, global_step=epoch)\n",
    "                \n",
    "            train_loss_avg = self.train_nn(\n",
    "                trainloader=trainloader, teacher_forcing_ratio=teacher_forcing_ratio, \n",
    "                verbose_step=verbose_step, pad_token=pad_token)\n",
    "            \n",
    "            with torch.no_grad():\n",
    "                eval_loss_avg = self.eval_nn(\n",
    "                    evalloader=evalloader, verbose_step=verbose_step, pad_token=pad_token)\n",
    "            \n",
    "            if self.writer is not None:\n",
    "                self.writer.add_scalar(tag=os.path.join(\"Loss\", \"Train\"), \n",
    "                                       scalar_value=train_loss_avg, global_step=epoch)\n",
    "                self.writer.add_scalar(tag=os.path.join(\"Loss\", \"Eval\"), \n",
    "                                       scalar_value=eval_loss_avg, global_step=epoch)\n",
    "\n",
    "            LOGGER.info(\"Train loss avg:\\t{:.6f}\".format(train_loss_avg))\n",
    "            LOGGER.info(\"Eval loss avg:\\t{:.6f}\".format(eval_loss_avg))\n",
    "            \n",
    "            self.scheduler.step(eval_loss_avg)\n",
    "            \n",
    "            # clean up cache\n",
    "            if self.device == \"cuda\":\n",
    "                LOGGER.info(\"Clean up CUDA memory\") \n",
    "                torch.cuda.empty_cache()\n",
    "                gc.collect()\n",
    "        return\n",
    "    \n",
    "    def train_nn(self, trainloader: DataLoader, teacher_forcing_ratio: float = 0.5, \n",
    "                 verbose_step: int = 100, pad_token: int = 0) -> float:\n",
    "        LOGGER.info(\"Train loop\")\n",
    "        self.encoder.train()\n",
    "        self.decoder.train()\n",
    "        \n",
    "        running_loss = list()\n",
    "        for i, batch in tqdm(enumerate(trainloader), total=len(trainloader)):\n",
    "            eng = batch['eng'].to(self.device)\n",
    "            rus = batch['rus'].to(self.device)\n",
    "        \n",
    "            # rus sequence length and batch size\n",
    "            batch_size, rus_seq_length = rus.shape\n",
    "\n",
    "            encoder_hidden = \\\n",
    "                self.encoder.init_hidden(batch_size=batch_size, device=self.device)\n",
    "            _, hidden = self.encoder(eng, encoder_hidden)\n",
    "\n",
    "            # write decoder application and loss calculation.\n",
    "            # hint: loss must be masked, in case the sequence has already ended.\n",
    "\n",
    "            # the first token for the decoder input is <SOS>\n",
    "            decoder_input = rus[:, 0].unsqueeze(1)\n",
    "\n",
    "            loss = 0\n",
    "            for token in range(1, rus_seq_length):\n",
    "                # forward single decoder GRU cell\n",
    "                decoder_outputs, hidden = self.decoder(decoder_input, hidden)\n",
    "\n",
    "                # now we have to decide, which token should we use for the next GRU cell of the decoder:\n",
    "                # token from target rus sequence or output from the previous GRU cell\n",
    "                teacher_force = random.random() < teacher_forcing_ratio\n",
    "                decoder_input = rus[:, token].unsqueeze(1) if teacher_force else decoder_outputs.argmax(2)\n",
    "\n",
    "                curr_loss = self.criterion(decoder_outputs.view(batch_size, -1), rus[:, token])\n",
    "                curr_loss = torch.masked_select(curr_loss, rus[:, token] != pad_token).mean()\n",
    "                loss += curr_loss.mean()\n",
    "\n",
    "            loss = loss / (rus_seq_length - 1)\n",
    "            \n",
    "            # calculate gradients\n",
    "            loss.backward()\n",
    "            \n",
    "            # clip gradients and update weights\n",
    "            torch.nn.utils.clip_grad_norm_(\n",
    "                self.decoder.parameters(), max_norm=self.max_gradient_norm)\n",
    "            torch.nn.utils.clip_grad_norm_(\n",
    "                self.encoder.parameters(), max_norm=self.max_gradient_norm)\n",
    "            self.optimizer.step()\n",
    "            \n",
    "            # set gradients to zero\n",
    "            self.optimizer.zero_grad()\n",
    "\n",
    "            loss = loss.cpu().item()\n",
    "            running_loss.append(loss)\n",
    "        \n",
    "            if verbose_step is not None and not i % verbose_step:\n",
    "                LOGGER.info(\"Iteration [{}]/[{}] loss: {:.6f}\".format(i, len(trainloader), loss))\n",
    "        return np.mean(running_loss)\n",
    "    \n",
    "    def eval_nn(self, evalloader: DataLoader, verbose_step: int = 100, pad_token: int = 0) -> float:\n",
    "        LOGGER.info(\"Eval loop\")\n",
    "        self.encoder.eval()\n",
    "        self.decoder.eval()\n",
    "        \n",
    "        running_loss = list()\n",
    "        for i, batch in tqdm(enumerate(evalloader), total=len(evalloader)):\n",
    "            eng = batch['eng'].to(self.device)\n",
    "            rus = batch['rus'].to(self.device)\n",
    "\n",
    "            # rus sequence length and batch size\n",
    "            batch_size, rus_seq_length = rus.shape\n",
    "\n",
    "            encoder_hidden = self.encoder.init_hidden(batch_size=batch_size, device=self.device)\n",
    "            _, hidden = self.encoder(eng, encoder_hidden)\n",
    "\n",
    "            # the first token for the decoder input is <SOS>\n",
    "            decoder_input = rus[:, 0].unsqueeze(1)\n",
    "\n",
    "            loss = 0\n",
    "            for token in range(1, rus_seq_length):\n",
    "                # forward single decoder GRU cell\n",
    "                decoder_outputs, hidden = self.decoder(decoder_input, hidden)\n",
    "                decoder_input = decoder_outputs.argmax(2)\n",
    "\n",
    "                curr_loss = self.criterion(decoder_outputs.view(batch_size, -1), rus[:, token])\n",
    "                curr_loss = torch.masked_select(curr_loss, rus[:, token] != pad_token).mean()\n",
    "                loss += curr_loss.mean()\n",
    "\n",
    "            loss = loss / (rus_seq_length - 1)\n",
    "            loss = loss.cpu().item()\n",
    "            running_loss.append(loss)\n",
    "\n",
    "            if verbose_step is not None and not i % verbose_step:\n",
    "                LOGGER.info(\"Iteration [{}]/[{}] loss: {:.6f}\".format(i, len(evalloader), loss))\n",
    "                \n",
    "        return np.mean(running_loss)\n"
   ]
  },
  {
   "cell_type": "code",
   "execution_count": 114,
   "metadata": {
    "ExecuteTime": {
     "end_time": "2022-12-10T14:54:31.315240Z",
     "start_time": "2022-12-10T14:54:31.303738Z"
    }
   },
   "outputs": [],
   "source": [
    "# launch TensorBoard\n",
    "# tensorboard.exe --logdir ./runs/"
   ]
  },
  {
   "cell_type": "code",
   "execution_count": 13,
   "metadata": {
    "ExecuteTime": {
     "end_time": "2022-12-11T07:07:06.148298Z",
     "start_time": "2022-12-10T18:49:35.093544Z"
    },
    "scrolled": false
   },
   "outputs": [
    {
     "name": "stderr",
     "output_type": "stream",
     "text": [
      "[2022-12-10 21:49:39,789] {<ipython-input-12-cb52601f4b8e>:34} INFO - Iterate over 120 epochs\n",
      "[2022-12-10 21:49:39,790] {<ipython-input-12-cb52601f4b8e>:36} INFO - Epoch [1]/[120]\n",
      "[2022-12-10 21:49:39,791] {<ipython-input-12-cb52601f4b8e>:39} INFO - LR:\t0.001\n",
      "[2022-12-10 21:49:39,791] {<ipython-input-12-cb52601f4b8e>:71} INFO - Train loop\n"
     ]
    },
    {
     "data": {
      "application/vnd.jupyter.widget-view+json": {
       "model_id": "72e994757e17439880c5d07f0f199d3b",
       "version_major": 2,
       "version_minor": 0
      },
      "text/plain": [
       "HBox(children=(FloatProgress(value=0.0, max=2105.0), HTML(value='')))"
      ]
     },
     "metadata": {},
     "output_type": "display_data"
    },
    {
     "name": "stderr",
     "output_type": "stream",
     "text": [
      "[2022-12-10 21:49:40,125] {<ipython-input-12-cb52601f4b8e>:126} INFO - Iteration [0]/[2105] loss: 9.193022\n",
      "[2022-12-10 21:50:12,842] {<ipython-input-12-cb52601f4b8e>:126} INFO - Iteration [300]/[2105] loss: 3.566121\n",
      "[2022-12-10 21:50:58,296] {<ipython-input-12-cb52601f4b8e>:126} INFO - Iteration [600]/[2105] loss: 2.993036\n",
      "[2022-12-10 21:53:01,367] {<ipython-input-12-cb52601f4b8e>:126} INFO - Iteration [900]/[2105] loss: 3.214468\n",
      "[2022-12-10 21:55:58,475] {<ipython-input-12-cb52601f4b8e>:126} INFO - Iteration [1200]/[2105] loss: 3.828656\n",
      "[2022-12-10 21:59:04,128] {<ipython-input-12-cb52601f4b8e>:126} INFO - Iteration [1500]/[2105] loss: 2.853592\n",
      "[2022-12-10 22:02:15,243] {<ipython-input-12-cb52601f4b8e>:126} INFO - Iteration [1800]/[2105] loss: 2.568382\n",
      "[2022-12-10 22:05:19,448] {<ipython-input-12-cb52601f4b8e>:126} INFO - Iteration [2100]/[2105] loss: 2.614114\n",
      "[2022-12-10 22:05:21,631] {<ipython-input-12-cb52601f4b8e>:130} INFO - Eval loop\n"
     ]
    },
    {
     "name": "stdout",
     "output_type": "stream",
     "text": [
      "\n"
     ]
    },
    {
     "data": {
      "application/vnd.jupyter.widget-view+json": {
       "model_id": "720a7d0ba1b54acc8a9140f66b6b5193",
       "version_major": 2,
       "version_minor": 0
      },
      "text/plain": [
       "HBox(children=(FloatProgress(value=0.0, max=527.0), HTML(value='')))"
      ]
     },
     "metadata": {},
     "output_type": "display_data"
    },
    {
     "name": "stderr",
     "output_type": "stream",
     "text": [
      "[2022-12-10 22:05:21,784] {<ipython-input-12-cb52601f4b8e>:163} INFO - Iteration [0]/[527] loss: 3.143227\n",
      "[2022-12-10 22:06:30,677] {<ipython-input-12-cb52601f4b8e>:163} INFO - Iteration [300]/[527] loss: 3.201193\n",
      "[2022-12-10 22:07:22,347] {<ipython-input-12-cb52601f4b8e>:57} INFO - Train loss avg:\t3.396350\n",
      "[2022-12-10 22:07:22,348] {<ipython-input-12-cb52601f4b8e>:58} INFO - Eval loss avg:\t3.444287\n",
      "[2022-12-10 22:07:22,349] {<ipython-input-12-cb52601f4b8e>:64} INFO - Clean up CUDA memory\n",
      "[2022-12-10 22:07:22,650] {<ipython-input-12-cb52601f4b8e>:36} INFO - Epoch [2]/[120]\n"
     ]
    },
    {
     "name": "stdout",
     "output_type": "stream",
     "text": [
      "\n"
     ]
    },
    {
     "name": "stderr",
     "output_type": "stream",
     "text": [
      "[2022-12-10 22:07:22,651] {<ipython-input-12-cb52601f4b8e>:39} INFO - LR:\t0.001\n",
      "[2022-12-10 22:07:22,652] {<ipython-input-12-cb52601f4b8e>:71} INFO - Train loop\n"
     ]
    },
    {
     "data": {
      "application/vnd.jupyter.widget-view+json": {
       "model_id": "b821c655165041d894b0acab4cdb7156",
       "version_major": 2,
       "version_minor": 0
      },
      "text/plain": [
       "HBox(children=(FloatProgress(value=0.0, max=2105.0), HTML(value='')))"
      ]
     },
     "metadata": {},
     "output_type": "display_data"
    },
    {
     "name": "stderr",
     "output_type": "stream",
     "text": [
      "[2022-12-10 22:07:23,282] {<ipython-input-12-cb52601f4b8e>:126} INFO - Iteration [0]/[2105] loss: 2.957986\n",
      "[2022-12-10 22:10:48,169] {<ipython-input-12-cb52601f4b8e>:126} INFO - Iteration [300]/[2105] loss: 2.783006\n",
      "[2022-12-10 22:14:13,024] {<ipython-input-12-cb52601f4b8e>:126} INFO - Iteration [600]/[2105] loss: 2.398493\n",
      "[2022-12-10 22:17:38,998] {<ipython-input-12-cb52601f4b8e>:126} INFO - Iteration [900]/[2105] loss: 3.052244\n",
      "[2022-12-10 22:21:04,943] {<ipython-input-12-cb52601f4b8e>:126} INFO - Iteration [1200]/[2105] loss: 2.526034\n",
      "[2022-12-10 22:24:28,481] {<ipython-input-12-cb52601f4b8e>:126} INFO - Iteration [1500]/[2105] loss: 2.343269\n",
      "[2022-12-10 22:27:50,903] {<ipython-input-12-cb52601f4b8e>:126} INFO - Iteration [1800]/[2105] loss: 2.453805\n",
      "[2022-12-10 22:31:15,232] {<ipython-input-12-cb52601f4b8e>:126} INFO - Iteration [2100]/[2105] loss: 2.146279\n",
      "[2022-12-10 22:31:17,992] {<ipython-input-12-cb52601f4b8e>:130} INFO - Eval loop\n"
     ]
    },
    {
     "name": "stdout",
     "output_type": "stream",
     "text": [
      "\n"
     ]
    },
    {
     "data": {
      "application/vnd.jupyter.widget-view+json": {
       "model_id": "4d329a9ecd6e466685dbca3d31684b9c",
       "version_major": 2,
       "version_minor": 0
      },
      "text/plain": [
       "HBox(children=(FloatProgress(value=0.0, max=527.0), HTML(value='')))"
      ]
     },
     "metadata": {},
     "output_type": "display_data"
    },
    {
     "name": "stderr",
     "output_type": "stream",
     "text": [
      "[2022-12-10 22:31:18,207] {<ipython-input-12-cb52601f4b8e>:163} INFO - Iteration [0]/[527] loss: 2.931069\n",
      "[2022-12-10 22:32:27,190] {<ipython-input-12-cb52601f4b8e>:163} INFO - Iteration [300]/[527] loss: 2.847935\n",
      "[2022-12-10 22:33:25,740] {<ipython-input-12-cb52601f4b8e>:57} INFO - Train loss avg:\t2.738093\n",
      "[2022-12-10 22:33:25,742] {<ipython-input-12-cb52601f4b8e>:58} INFO - Eval loss avg:\t3.130514\n",
      "[2022-12-10 22:33:25,742] {<ipython-input-12-cb52601f4b8e>:64} INFO - Clean up CUDA memory\n"
     ]
    },
    {
     "name": "stdout",
     "output_type": "stream",
     "text": [
      "\n"
     ]
    },
    {
     "name": "stderr",
     "output_type": "stream",
     "text": [
      "[2022-12-10 22:33:26,095] {<ipython-input-12-cb52601f4b8e>:36} INFO - Epoch [3]/[120]\n",
      "[2022-12-10 22:33:26,096] {<ipython-input-12-cb52601f4b8e>:39} INFO - LR:\t0.001\n",
      "[2022-12-10 22:33:26,097] {<ipython-input-12-cb52601f4b8e>:71} INFO - Train loop\n"
     ]
    },
    {
     "data": {
      "application/vnd.jupyter.widget-view+json": {
       "model_id": "bfcaeeb9f31a4c9d9e3778cc9af10a4f",
       "version_major": 2,
       "version_minor": 0
      },
      "text/plain": [
       "HBox(children=(FloatProgress(value=0.0, max=2105.0), HTML(value='')))"
      ]
     },
     "metadata": {},
     "output_type": "display_data"
    },
    {
     "name": "stderr",
     "output_type": "stream",
     "text": [
      "[2022-12-10 22:33:26,382] {<ipython-input-12-cb52601f4b8e>:126} INFO - Iteration [0]/[2105] loss: 3.306774\n",
      "[2022-12-10 22:36:49,987] {<ipython-input-12-cb52601f4b8e>:126} INFO - Iteration [300]/[2105] loss: 1.802398\n",
      "[2022-12-10 22:40:15,031] {<ipython-input-12-cb52601f4b8e>:126} INFO - Iteration [600]/[2105] loss: 2.516272\n",
      "[2022-12-10 22:43:41,850] {<ipython-input-12-cb52601f4b8e>:126} INFO - Iteration [900]/[2105] loss: 2.226439\n",
      "[2022-12-10 22:47:06,721] {<ipython-input-12-cb52601f4b8e>:126} INFO - Iteration [1200]/[2105] loss: 3.339954\n",
      "[2022-12-10 22:50:35,495] {<ipython-input-12-cb52601f4b8e>:126} INFO - Iteration [1500]/[2105] loss: 2.125281\n",
      "[2022-12-10 22:54:01,948] {<ipython-input-12-cb52601f4b8e>:126} INFO - Iteration [1800]/[2105] loss: 2.383549\n",
      "[2022-12-10 22:57:27,636] {<ipython-input-12-cb52601f4b8e>:126} INFO - Iteration [2100]/[2105] loss: 2.104862\n",
      "[2022-12-10 22:57:29,700] {<ipython-input-12-cb52601f4b8e>:130} INFO - Eval loop\n"
     ]
    },
    {
     "name": "stdout",
     "output_type": "stream",
     "text": [
      "\n"
     ]
    },
    {
     "data": {
      "application/vnd.jupyter.widget-view+json": {
       "model_id": "313c47143a3741b7b6634586b4aa2d86",
       "version_major": 2,
       "version_minor": 0
      },
      "text/plain": [
       "HBox(children=(FloatProgress(value=0.0, max=527.0), HTML(value='')))"
      ]
     },
     "metadata": {},
     "output_type": "display_data"
    },
    {
     "name": "stderr",
     "output_type": "stream",
     "text": [
      "[2022-12-10 22:57:29,919] {<ipython-input-12-cb52601f4b8e>:163} INFO - Iteration [0]/[527] loss: 2.660306\n",
      "[2022-12-10 22:58:37,536] {<ipython-input-12-cb52601f4b8e>:163} INFO - Iteration [300]/[527] loss: 2.730677\n",
      "[2022-12-10 22:59:28,948] {<ipython-input-12-cb52601f4b8e>:57} INFO - Train loss avg:\t2.403928\n",
      "[2022-12-10 22:59:28,950] {<ipython-input-12-cb52601f4b8e>:58} INFO - Eval loss avg:\t3.011295\n",
      "[2022-12-10 22:59:28,950] {<ipython-input-12-cb52601f4b8e>:64} INFO - Clean up CUDA memory\n",
      "[2022-12-10 22:59:29,265] {<ipython-input-12-cb52601f4b8e>:36} INFO - Epoch [4]/[120]\n"
     ]
    },
    {
     "name": "stdout",
     "output_type": "stream",
     "text": [
      "\n"
     ]
    },
    {
     "name": "stderr",
     "output_type": "stream",
     "text": [
      "[2022-12-10 22:59:29,267] {<ipython-input-12-cb52601f4b8e>:39} INFO - LR:\t0.001\n",
      "[2022-12-10 22:59:29,267] {<ipython-input-12-cb52601f4b8e>:71} INFO - Train loop\n"
     ]
    },
    {
     "data": {
      "application/vnd.jupyter.widget-view+json": {
       "model_id": "5410b43aa8d1412091bd221aa9e52c4d",
       "version_major": 2,
       "version_minor": 0
      },
      "text/plain": [
       "HBox(children=(FloatProgress(value=0.0, max=2105.0), HTML(value='')))"
      ]
     },
     "metadata": {},
     "output_type": "display_data"
    },
    {
     "name": "stderr",
     "output_type": "stream",
     "text": [
      "[2022-12-10 22:59:30,337] {<ipython-input-12-cb52601f4b8e>:126} INFO - Iteration [0]/[2105] loss: 2.556731\n",
      "[2022-12-10 23:02:52,141] {<ipython-input-12-cb52601f4b8e>:126} INFO - Iteration [300]/[2105] loss: 2.103615\n",
      "[2022-12-10 23:06:15,866] {<ipython-input-12-cb52601f4b8e>:126} INFO - Iteration [600]/[2105] loss: 2.098202\n",
      "[2022-12-10 23:09:41,571] {<ipython-input-12-cb52601f4b8e>:126} INFO - Iteration [900]/[2105] loss: 2.303406\n",
      "[2022-12-10 23:13:09,803] {<ipython-input-12-cb52601f4b8e>:126} INFO - Iteration [1200]/[2105] loss: 1.593078\n",
      "[2022-12-10 23:16:37,970] {<ipython-input-12-cb52601f4b8e>:126} INFO - Iteration [1500]/[2105] loss: 2.644880\n",
      "[2022-12-10 23:20:02,589] {<ipython-input-12-cb52601f4b8e>:126} INFO - Iteration [1800]/[2105] loss: 2.375202\n",
      "[2022-12-10 23:23:33,596] {<ipython-input-12-cb52601f4b8e>:126} INFO - Iteration [2100]/[2105] loss: 2.120414\n",
      "[2022-12-10 23:23:35,808] {<ipython-input-12-cb52601f4b8e>:130} INFO - Eval loop\n"
     ]
    },
    {
     "name": "stdout",
     "output_type": "stream",
     "text": [
      "\n"
     ]
    },
    {
     "data": {
      "application/vnd.jupyter.widget-view+json": {
       "model_id": "340a9a7336594ac6b0401edd863e59a6",
       "version_major": 2,
       "version_minor": 0
      },
      "text/plain": [
       "HBox(children=(FloatProgress(value=0.0, max=527.0), HTML(value='')))"
      ]
     },
     "metadata": {},
     "output_type": "display_data"
    },
    {
     "name": "stderr",
     "output_type": "stream",
     "text": [
      "[2022-12-10 23:23:36,029] {<ipython-input-12-cb52601f4b8e>:163} INFO - Iteration [0]/[527] loss: 2.664005\n",
      "[2022-12-10 23:24:46,572] {<ipython-input-12-cb52601f4b8e>:163} INFO - Iteration [300]/[527] loss: 2.633854\n",
      "[2022-12-10 23:25:41,065] {<ipython-input-12-cb52601f4b8e>:57} INFO - Train loss avg:\t2.161750\n",
      "[2022-12-10 23:25:41,066] {<ipython-input-12-cb52601f4b8e>:58} INFO - Eval loss avg:\t2.826742\n",
      "[2022-12-10 23:25:41,067] {<ipython-input-12-cb52601f4b8e>:64} INFO - Clean up CUDA memory\n",
      "[2022-12-10 23:25:41,361] {<ipython-input-12-cb52601f4b8e>:36} INFO - Epoch [5]/[120]\n"
     ]
    },
    {
     "name": "stdout",
     "output_type": "stream",
     "text": [
      "\n"
     ]
    },
    {
     "name": "stderr",
     "output_type": "stream",
     "text": [
      "[2022-12-10 23:25:41,362] {<ipython-input-12-cb52601f4b8e>:39} INFO - LR:\t0.001\n",
      "[2022-12-10 23:25:41,363] {<ipython-input-12-cb52601f4b8e>:71} INFO - Train loop\n"
     ]
    },
    {
     "data": {
      "application/vnd.jupyter.widget-view+json": {
       "model_id": "42ee58a7f0d5448095a3b28a281e01ed",
       "version_major": 2,
       "version_minor": 0
      },
      "text/plain": [
       "HBox(children=(FloatProgress(value=0.0, max=2105.0), HTML(value='')))"
      ]
     },
     "metadata": {},
     "output_type": "display_data"
    },
    {
     "name": "stderr",
     "output_type": "stream",
     "text": [
      "[2022-12-10 23:25:41,928] {<ipython-input-12-cb52601f4b8e>:126} INFO - Iteration [0]/[2105] loss: 3.049371\n",
      "[2022-12-10 23:29:00,732] {<ipython-input-12-cb52601f4b8e>:126} INFO - Iteration [300]/[2105] loss: 1.798503\n",
      "[2022-12-10 23:32:27,210] {<ipython-input-12-cb52601f4b8e>:126} INFO - Iteration [600]/[2105] loss: 1.558736\n",
      "[2022-12-10 23:35:53,276] {<ipython-input-12-cb52601f4b8e>:126} INFO - Iteration [900]/[2105] loss: 1.853998\n",
      "[2022-12-10 23:39:21,368] {<ipython-input-12-cb52601f4b8e>:126} INFO - Iteration [1200]/[2105] loss: 2.052909\n",
      "[2022-12-10 23:42:47,054] {<ipython-input-12-cb52601f4b8e>:126} INFO - Iteration [1500]/[2105] loss: 1.807586\n",
      "[2022-12-10 23:46:13,546] {<ipython-input-12-cb52601f4b8e>:126} INFO - Iteration [1800]/[2105] loss: 1.938791\n",
      "[2022-12-10 23:49:42,706] {<ipython-input-12-cb52601f4b8e>:126} INFO - Iteration [2100]/[2105] loss: 1.657928\n",
      "[2022-12-10 23:49:44,843] {<ipython-input-12-cb52601f4b8e>:130} INFO - Eval loop\n"
     ]
    },
    {
     "name": "stdout",
     "output_type": "stream",
     "text": [
      "\n"
     ]
    },
    {
     "data": {
      "application/vnd.jupyter.widget-view+json": {
       "model_id": "9407baab2fcb4bc9b7d1568974f468a6",
       "version_major": 2,
       "version_minor": 0
      },
      "text/plain": [
       "HBox(children=(FloatProgress(value=0.0, max=527.0), HTML(value='')))"
      ]
     },
     "metadata": {},
     "output_type": "display_data"
    },
    {
     "name": "stderr",
     "output_type": "stream",
     "text": [
      "[2022-12-10 23:49:45,060] {<ipython-input-12-cb52601f4b8e>:163} INFO - Iteration [0]/[527] loss: 2.473392\n",
      "[2022-12-10 23:51:02,150] {<ipython-input-12-cb52601f4b8e>:163} INFO - Iteration [300]/[527] loss: 2.601178\n",
      "[2022-12-10 23:51:53,207] {<ipython-input-12-cb52601f4b8e>:57} INFO - Train loss avg:\t1.993636\n",
      "[2022-12-10 23:51:53,208] {<ipython-input-12-cb52601f4b8e>:58} INFO - Eval loss avg:\t2.734074\n",
      "[2022-12-10 23:51:53,208] {<ipython-input-12-cb52601f4b8e>:64} INFO - Clean up CUDA memory\n",
      "[2022-12-10 23:51:53,515] {<ipython-input-12-cb52601f4b8e>:36} INFO - Epoch [6]/[120]\n"
     ]
    },
    {
     "name": "stdout",
     "output_type": "stream",
     "text": [
      "\n"
     ]
    },
    {
     "name": "stderr",
     "output_type": "stream",
     "text": [
      "[2022-12-10 23:51:53,517] {<ipython-input-12-cb52601f4b8e>:39} INFO - LR:\t0.001\n",
      "[2022-12-10 23:51:53,518] {<ipython-input-12-cb52601f4b8e>:71} INFO - Train loop\n"
     ]
    },
    {
     "data": {
      "application/vnd.jupyter.widget-view+json": {
       "model_id": "8496817969d6406bbec1cf9604897812",
       "version_major": 2,
       "version_minor": 0
      },
      "text/plain": [
       "HBox(children=(FloatProgress(value=0.0, max=2105.0), HTML(value='')))"
      ]
     },
     "metadata": {},
     "output_type": "display_data"
    },
    {
     "name": "stderr",
     "output_type": "stream",
     "text": [
      "[2022-12-10 23:51:53,717] {<ipython-input-12-cb52601f4b8e>:126} INFO - Iteration [0]/[2105] loss: 2.096619\n",
      "[2022-12-10 23:55:13,267] {<ipython-input-12-cb52601f4b8e>:126} INFO - Iteration [300]/[2105] loss: 1.488062\n",
      "[2022-12-10 23:58:44,218] {<ipython-input-12-cb52601f4b8e>:126} INFO - Iteration [600]/[2105] loss: 1.641966\n",
      "[2022-12-11 00:02:11,855] {<ipython-input-12-cb52601f4b8e>:126} INFO - Iteration [900]/[2105] loss: 1.841634\n",
      "[2022-12-11 00:05:40,808] {<ipython-input-12-cb52601f4b8e>:126} INFO - Iteration [1200]/[2105] loss: 2.602458\n",
      "[2022-12-11 00:09:08,130] {<ipython-input-12-cb52601f4b8e>:126} INFO - Iteration [1500]/[2105] loss: 1.754443\n",
      "[2022-12-11 00:12:33,727] {<ipython-input-12-cb52601f4b8e>:126} INFO - Iteration [1800]/[2105] loss: 1.724612\n",
      "[2022-12-11 00:16:06,264] {<ipython-input-12-cb52601f4b8e>:126} INFO - Iteration [2100]/[2105] loss: 2.120424\n",
      "[2022-12-11 00:16:08,818] {<ipython-input-12-cb52601f4b8e>:130} INFO - Eval loop\n"
     ]
    },
    {
     "name": "stdout",
     "output_type": "stream",
     "text": [
      "\n"
     ]
    },
    {
     "data": {
      "application/vnd.jupyter.widget-view+json": {
       "model_id": "59319aa133514ad79df77f73d72ef4b9",
       "version_major": 2,
       "version_minor": 0
      },
      "text/plain": [
       "HBox(children=(FloatProgress(value=0.0, max=527.0), HTML(value='')))"
      ]
     },
     "metadata": {},
     "output_type": "display_data"
    },
    {
     "name": "stderr",
     "output_type": "stream",
     "text": [
      "[2022-12-11 00:16:09,038] {<ipython-input-12-cb52601f4b8e>:163} INFO - Iteration [0]/[527] loss: 2.626903\n",
      "[2022-12-11 00:17:20,354] {<ipython-input-12-cb52601f4b8e>:163} INFO - Iteration [300]/[527] loss: 2.213931\n",
      "[2022-12-11 00:18:12,706] {<ipython-input-12-cb52601f4b8e>:57} INFO - Train loss avg:\t1.874742\n",
      "[2022-12-11 00:18:12,707] {<ipython-input-12-cb52601f4b8e>:58} INFO - Eval loss avg:\t2.702652\n",
      "[2022-12-11 00:18:12,708] {<ipython-input-12-cb52601f4b8e>:64} INFO - Clean up CUDA memory\n",
      "[2022-12-11 00:18:13,047] {<ipython-input-12-cb52601f4b8e>:36} INFO - Epoch [7]/[120]\n"
     ]
    },
    {
     "name": "stdout",
     "output_type": "stream",
     "text": [
      "\n"
     ]
    },
    {
     "name": "stderr",
     "output_type": "stream",
     "text": [
      "[2022-12-11 00:18:13,050] {<ipython-input-12-cb52601f4b8e>:39} INFO - LR:\t0.001\n",
      "[2022-12-11 00:18:13,051] {<ipython-input-12-cb52601f4b8e>:71} INFO - Train loop\n"
     ]
    },
    {
     "data": {
      "application/vnd.jupyter.widget-view+json": {
       "model_id": "9732ed09789747f7a08041136a51694f",
       "version_major": 2,
       "version_minor": 0
      },
      "text/plain": [
       "HBox(children=(FloatProgress(value=0.0, max=2105.0), HTML(value='')))"
      ]
     },
     "metadata": {},
     "output_type": "display_data"
    },
    {
     "name": "stderr",
     "output_type": "stream",
     "text": [
      "[2022-12-11 00:18:13,246] {<ipython-input-12-cb52601f4b8e>:126} INFO - Iteration [0]/[2105] loss: 1.937594\n",
      "[2022-12-11 00:21:41,057] {<ipython-input-12-cb52601f4b8e>:126} INFO - Iteration [300]/[2105] loss: 1.779027\n",
      "[2022-12-11 00:25:07,891] {<ipython-input-12-cb52601f4b8e>:126} INFO - Iteration [600]/[2105] loss: 1.723048\n",
      "[2022-12-11 00:28:36,707] {<ipython-input-12-cb52601f4b8e>:126} INFO - Iteration [900]/[2105] loss: 1.282424\n",
      "[2022-12-11 00:31:58,472] {<ipython-input-12-cb52601f4b8e>:126} INFO - Iteration [1200]/[2105] loss: 1.635010\n",
      "[2022-12-11 00:35:30,127] {<ipython-input-12-cb52601f4b8e>:126} INFO - Iteration [1500]/[2105] loss: 1.685915\n",
      "[2022-12-11 00:39:00,742] {<ipython-input-12-cb52601f4b8e>:126} INFO - Iteration [1800]/[2105] loss: 1.751010\n",
      "[2022-12-11 00:42:26,364] {<ipython-input-12-cb52601f4b8e>:126} INFO - Iteration [2100]/[2105] loss: 1.711712\n",
      "[2022-12-11 00:42:28,558] {<ipython-input-12-cb52601f4b8e>:130} INFO - Eval loop\n"
     ]
    },
    {
     "name": "stdout",
     "output_type": "stream",
     "text": [
      "\n"
     ]
    },
    {
     "data": {
      "application/vnd.jupyter.widget-view+json": {
       "model_id": "acf633712c6c4684a820f63e7252eccd",
       "version_major": 2,
       "version_minor": 0
      },
      "text/plain": [
       "HBox(children=(FloatProgress(value=0.0, max=527.0), HTML(value='')))"
      ]
     },
     "metadata": {},
     "output_type": "display_data"
    },
    {
     "name": "stderr",
     "output_type": "stream",
     "text": [
      "[2022-12-11 00:42:28,771] {<ipython-input-12-cb52601f4b8e>:163} INFO - Iteration [0]/[527] loss: 2.372573\n",
      "[2022-12-11 00:43:40,949] {<ipython-input-12-cb52601f4b8e>:163} INFO - Iteration [300]/[527] loss: 2.639987\n",
      "[2022-12-11 00:44:34,652] {<ipython-input-12-cb52601f4b8e>:57} INFO - Train loss avg:\t1.785156\n",
      "[2022-12-11 00:44:34,655] {<ipython-input-12-cb52601f4b8e>:58} INFO - Eval loss avg:\t2.664162\n",
      "[2022-12-11 00:44:34,657] {<ipython-input-12-cb52601f4b8e>:64} INFO - Clean up CUDA memory\n"
     ]
    },
    {
     "name": "stdout",
     "output_type": "stream",
     "text": [
      "\n"
     ]
    },
    {
     "name": "stderr",
     "output_type": "stream",
     "text": [
      "[2022-12-11 00:44:35,114] {<ipython-input-12-cb52601f4b8e>:36} INFO - Epoch [8]/[120]\n",
      "[2022-12-11 00:44:35,116] {<ipython-input-12-cb52601f4b8e>:39} INFO - LR:\t0.001\n",
      "[2022-12-11 00:44:35,118] {<ipython-input-12-cb52601f4b8e>:71} INFO - Train loop\n"
     ]
    },
    {
     "data": {
      "application/vnd.jupyter.widget-view+json": {
       "model_id": "e2af0c4cc0ef484c934e4b7caf35885c",
       "version_major": 2,
       "version_minor": 0
      },
      "text/plain": [
       "HBox(children=(FloatProgress(value=0.0, max=2105.0), HTML(value='')))"
      ]
     },
     "metadata": {},
     "output_type": "display_data"
    },
    {
     "name": "stderr",
     "output_type": "stream",
     "text": [
      "[2022-12-11 00:44:35,571] {<ipython-input-12-cb52601f4b8e>:126} INFO - Iteration [0]/[2105] loss: 1.391991\n",
      "[2022-12-11 00:47:11,488] {<ipython-input-12-cb52601f4b8e>:126} INFO - Iteration [300]/[2105] loss: 1.561858\n",
      "[2022-12-11 00:47:57,009] {<ipython-input-12-cb52601f4b8e>:126} INFO - Iteration [600]/[2105] loss: 1.864769\n",
      "[2022-12-11 00:48:39,314] {<ipython-input-12-cb52601f4b8e>:126} INFO - Iteration [900]/[2105] loss: 1.734185\n",
      "[2022-12-11 00:49:18,705] {<ipython-input-12-cb52601f4b8e>:126} INFO - Iteration [1200]/[2105] loss: 1.508582\n",
      "[2022-12-11 00:49:59,488] {<ipython-input-12-cb52601f4b8e>:126} INFO - Iteration [1500]/[2105] loss: 1.769118\n",
      "[2022-12-11 00:50:40,495] {<ipython-input-12-cb52601f4b8e>:126} INFO - Iteration [1800]/[2105] loss: 1.777888\n",
      "[2022-12-11 00:51:22,868] {<ipython-input-12-cb52601f4b8e>:126} INFO - Iteration [2100]/[2105] loss: 1.799528\n",
      "[2022-12-11 00:51:23,596] {<ipython-input-12-cb52601f4b8e>:130} INFO - Eval loop\n"
     ]
    },
    {
     "name": "stdout",
     "output_type": "stream",
     "text": [
      "\n"
     ]
    },
    {
     "data": {
      "application/vnd.jupyter.widget-view+json": {
       "model_id": "8b3d53fb71de4e2dad985e3bc2c41686",
       "version_major": 2,
       "version_minor": 0
      },
      "text/plain": [
       "HBox(children=(FloatProgress(value=0.0, max=527.0), HTML(value='')))"
      ]
     },
     "metadata": {},
     "output_type": "display_data"
    },
    {
     "name": "stderr",
     "output_type": "stream",
     "text": [
      "[2022-12-11 00:51:23,693] {<ipython-input-12-cb52601f4b8e>:163} INFO - Iteration [0]/[527] loss: 2.431519\n",
      "[2022-12-11 00:51:40,821] {<ipython-input-12-cb52601f4b8e>:163} INFO - Iteration [300]/[527] loss: 2.533747\n",
      "[2022-12-11 00:51:53,010] {<ipython-input-12-cb52601f4b8e>:57} INFO - Train loss avg:\t1.708475\n",
      "[2022-12-11 00:51:53,011] {<ipython-input-12-cb52601f4b8e>:58} INFO - Eval loss avg:\t2.642277\n",
      "[2022-12-11 00:51:53,013] {<ipython-input-12-cb52601f4b8e>:64} INFO - Clean up CUDA memory\n"
     ]
    },
    {
     "name": "stdout",
     "output_type": "stream",
     "text": [
      "\n"
     ]
    },
    {
     "name": "stderr",
     "output_type": "stream",
     "text": [
      "[2022-12-11 00:51:53,330] {<ipython-input-12-cb52601f4b8e>:36} INFO - Epoch [9]/[120]\n",
      "[2022-12-11 00:51:53,331] {<ipython-input-12-cb52601f4b8e>:39} INFO - LR:\t0.001\n",
      "[2022-12-11 00:51:53,332] {<ipython-input-12-cb52601f4b8e>:71} INFO - Train loop\n"
     ]
    },
    {
     "data": {
      "application/vnd.jupyter.widget-view+json": {
       "model_id": "f7122cd473e1477e9d9d36a7e3237eab",
       "version_major": 2,
       "version_minor": 0
      },
      "text/plain": [
       "HBox(children=(FloatProgress(value=0.0, max=2105.0), HTML(value='')))"
      ]
     },
     "metadata": {},
     "output_type": "display_data"
    },
    {
     "name": "stderr",
     "output_type": "stream",
     "text": [
      "[2022-12-11 00:51:53,528] {<ipython-input-12-cb52601f4b8e>:126} INFO - Iteration [0]/[2105] loss: 1.801837\n",
      "[2022-12-11 00:52:33,969] {<ipython-input-12-cb52601f4b8e>:126} INFO - Iteration [300]/[2105] loss: 1.359244\n",
      "[2022-12-11 00:53:14,823] {<ipython-input-12-cb52601f4b8e>:126} INFO - Iteration [600]/[2105] loss: 1.520880\n",
      "[2022-12-11 00:53:56,047] {<ipython-input-12-cb52601f4b8e>:126} INFO - Iteration [900]/[2105] loss: 1.350624\n",
      "[2022-12-11 00:54:34,198] {<ipython-input-12-cb52601f4b8e>:126} INFO - Iteration [1200]/[2105] loss: 1.548536\n",
      "[2022-12-11 00:55:14,928] {<ipython-input-12-cb52601f4b8e>:126} INFO - Iteration [1500]/[2105] loss: 1.304277\n",
      "[2022-12-11 00:55:55,350] {<ipython-input-12-cb52601f4b8e>:126} INFO - Iteration [1800]/[2105] loss: 1.602396\n",
      "[2022-12-11 00:56:35,481] {<ipython-input-12-cb52601f4b8e>:126} INFO - Iteration [2100]/[2105] loss: 1.476448\n",
      "[2022-12-11 00:56:35,954] {<ipython-input-12-cb52601f4b8e>:130} INFO - Eval loop\n"
     ]
    },
    {
     "name": "stdout",
     "output_type": "stream",
     "text": [
      "\n"
     ]
    },
    {
     "data": {
      "application/vnd.jupyter.widget-view+json": {
       "model_id": "29c4111057314fd5bbb599514561acf6",
       "version_major": 2,
       "version_minor": 0
      },
      "text/plain": [
       "HBox(children=(FloatProgress(value=0.0, max=527.0), HTML(value='')))"
      ]
     },
     "metadata": {},
     "output_type": "display_data"
    },
    {
     "name": "stderr",
     "output_type": "stream",
     "text": [
      "[2022-12-11 00:56:36,009] {<ipython-input-12-cb52601f4b8e>:163} INFO - Iteration [0]/[527] loss: 2.315288\n",
      "[2022-12-11 00:56:49,842] {<ipython-input-12-cb52601f4b8e>:163} INFO - Iteration [300]/[527] loss: 2.384516\n",
      "[2022-12-11 00:57:00,265] {<ipython-input-12-cb52601f4b8e>:57} INFO - Train loss avg:\t1.657217\n",
      "[2022-12-11 00:57:00,266] {<ipython-input-12-cb52601f4b8e>:58} INFO - Eval loss avg:\t2.615952\n",
      "[2022-12-11 00:57:00,266] {<ipython-input-12-cb52601f4b8e>:64} INFO - Clean up CUDA memory\n",
      "[2022-12-11 00:57:00,507] {<ipython-input-12-cb52601f4b8e>:36} INFO - Epoch [10]/[120]\n"
     ]
    },
    {
     "name": "stdout",
     "output_type": "stream",
     "text": [
      "\n"
     ]
    },
    {
     "name": "stderr",
     "output_type": "stream",
     "text": [
      "[2022-12-11 00:57:00,508] {<ipython-input-12-cb52601f4b8e>:39} INFO - LR:\t0.001\n",
      "[2022-12-11 00:57:00,509] {<ipython-input-12-cb52601f4b8e>:71} INFO - Train loop\n"
     ]
    },
    {
     "data": {
      "application/vnd.jupyter.widget-view+json": {
       "model_id": "b9fff120cb424affbe55f245daac3caa",
       "version_major": 2,
       "version_minor": 0
      },
      "text/plain": [
       "HBox(children=(FloatProgress(value=0.0, max=2105.0), HTML(value='')))"
      ]
     },
     "metadata": {},
     "output_type": "display_data"
    },
    {
     "name": "stderr",
     "output_type": "stream",
     "text": [
      "[2022-12-11 00:57:00,713] {<ipython-input-12-cb52601f4b8e>:126} INFO - Iteration [0]/[2105] loss: 1.553112\n",
      "[2022-12-11 00:57:41,072] {<ipython-input-12-cb52601f4b8e>:126} INFO - Iteration [300]/[2105] loss: 1.639033\n",
      "[2022-12-11 00:58:21,887] {<ipython-input-12-cb52601f4b8e>:126} INFO - Iteration [600]/[2105] loss: 1.421736\n",
      "[2022-12-11 00:59:02,511] {<ipython-input-12-cb52601f4b8e>:126} INFO - Iteration [900]/[2105] loss: 1.278541\n",
      "[2022-12-11 00:59:41,947] {<ipython-input-12-cb52601f4b8e>:126} INFO - Iteration [1200]/[2105] loss: 1.262995\n",
      "[2022-12-11 01:00:21,826] {<ipython-input-12-cb52601f4b8e>:126} INFO - Iteration [1500]/[2105] loss: 1.351040\n",
      "[2022-12-11 01:01:02,056] {<ipython-input-12-cb52601f4b8e>:126} INFO - Iteration [1800]/[2105] loss: 2.366413\n",
      "[2022-12-11 01:01:41,484] {<ipython-input-12-cb52601f4b8e>:126} INFO - Iteration [2100]/[2105] loss: 1.597169\n",
      "[2022-12-11 01:01:41,913] {<ipython-input-12-cb52601f4b8e>:130} INFO - Eval loop\n"
     ]
    },
    {
     "name": "stdout",
     "output_type": "stream",
     "text": [
      "\n"
     ]
    },
    {
     "data": {
      "application/vnd.jupyter.widget-view+json": {
       "model_id": "014f983973144218ba84f0c82b014071",
       "version_major": 2,
       "version_minor": 0
      },
      "text/plain": [
       "HBox(children=(FloatProgress(value=0.0, max=527.0), HTML(value='')))"
      ]
     },
     "metadata": {},
     "output_type": "display_data"
    },
    {
     "name": "stderr",
     "output_type": "stream",
     "text": [
      "[2022-12-11 01:01:41,975] {<ipython-input-12-cb52601f4b8e>:163} INFO - Iteration [0]/[527] loss: 2.337054\n",
      "[2022-12-11 01:01:55,473] {<ipython-input-12-cb52601f4b8e>:163} INFO - Iteration [300]/[527] loss: 2.167356\n",
      "[2022-12-11 01:02:05,625] {<ipython-input-12-cb52601f4b8e>:57} INFO - Train loss avg:\t1.613485\n",
      "[2022-12-11 01:02:05,625] {<ipython-input-12-cb52601f4b8e>:58} INFO - Eval loss avg:\t2.651262\n",
      "[2022-12-11 01:02:05,626] {<ipython-input-12-cb52601f4b8e>:64} INFO - Clean up CUDA memory\n"
     ]
    },
    {
     "name": "stdout",
     "output_type": "stream",
     "text": [
      "\n"
     ]
    },
    {
     "name": "stderr",
     "output_type": "stream",
     "text": [
      "[2022-12-11 01:02:05,868] {<ipython-input-12-cb52601f4b8e>:36} INFO - Epoch [11]/[120]\n",
      "[2022-12-11 01:02:05,869] {<ipython-input-12-cb52601f4b8e>:39} INFO - LR:\t0.001\n",
      "[2022-12-11 01:02:05,869] {<ipython-input-12-cb52601f4b8e>:71} INFO - Train loop\n"
     ]
    },
    {
     "data": {
      "application/vnd.jupyter.widget-view+json": {
       "model_id": "b1469483a3bc423ea0012c2698002410",
       "version_major": 2,
       "version_minor": 0
      },
      "text/plain": [
       "HBox(children=(FloatProgress(value=0.0, max=2105.0), HTML(value='')))"
      ]
     },
     "metadata": {},
     "output_type": "display_data"
    },
    {
     "name": "stderr",
     "output_type": "stream",
     "text": [
      "[2022-12-11 01:02:06,038] {<ipython-input-12-cb52601f4b8e>:126} INFO - Iteration [0]/[2105] loss: 1.306818\n",
      "[2022-12-11 01:02:46,680] {<ipython-input-12-cb52601f4b8e>:126} INFO - Iteration [300]/[2105] loss: 1.227236\n",
      "[2022-12-11 01:03:26,831] {<ipython-input-12-cb52601f4b8e>:126} INFO - Iteration [600]/[2105] loss: 1.214525\n",
      "[2022-12-11 01:04:07,234] {<ipython-input-12-cb52601f4b8e>:126} INFO - Iteration [900]/[2105] loss: 2.109560\n",
      "[2022-12-11 01:04:47,201] {<ipython-input-12-cb52601f4b8e>:126} INFO - Iteration [1200]/[2105] loss: 1.596836\n",
      "[2022-12-11 01:05:27,435] {<ipython-input-12-cb52601f4b8e>:126} INFO - Iteration [1500]/[2105] loss: 1.477027\n",
      "[2022-12-11 01:06:07,082] {<ipython-input-12-cb52601f4b8e>:126} INFO - Iteration [1800]/[2105] loss: 2.190516\n",
      "[2022-12-11 01:06:45,225] {<ipython-input-12-cb52601f4b8e>:126} INFO - Iteration [2100]/[2105] loss: 1.342783\n",
      "[2022-12-11 01:06:45,727] {<ipython-input-12-cb52601f4b8e>:130} INFO - Eval loop\n"
     ]
    },
    {
     "name": "stdout",
     "output_type": "stream",
     "text": [
      "\n"
     ]
    },
    {
     "data": {
      "application/vnd.jupyter.widget-view+json": {
       "model_id": "db93ec1ddfa44612a983cb55cddf698a",
       "version_major": 2,
       "version_minor": 0
      },
      "text/plain": [
       "HBox(children=(FloatProgress(value=0.0, max=527.0), HTML(value='')))"
      ]
     },
     "metadata": {},
     "output_type": "display_data"
    },
    {
     "name": "stderr",
     "output_type": "stream",
     "text": [
      "[2022-12-11 01:06:45,787] {<ipython-input-12-cb52601f4b8e>:163} INFO - Iteration [0]/[527] loss: 2.414967\n",
      "[2022-12-11 01:07:00,245] {<ipython-input-12-cb52601f4b8e>:163} INFO - Iteration [300]/[527] loss: 2.192662\n",
      "[2022-12-11 01:07:09,908] {<ipython-input-12-cb52601f4b8e>:57} INFO - Train loss avg:\t1.590595\n",
      "[2022-12-11 01:07:09,909] {<ipython-input-12-cb52601f4b8e>:58} INFO - Eval loss avg:\t2.607297\n",
      "[2022-12-11 01:07:09,910] {<ipython-input-12-cb52601f4b8e>:64} INFO - Clean up CUDA memory\n"
     ]
    },
    {
     "name": "stdout",
     "output_type": "stream",
     "text": [
      "\n"
     ]
    },
    {
     "name": "stderr",
     "output_type": "stream",
     "text": [
      "[2022-12-11 01:07:10,153] {<ipython-input-12-cb52601f4b8e>:36} INFO - Epoch [12]/[120]\n",
      "[2022-12-11 01:07:10,154] {<ipython-input-12-cb52601f4b8e>:39} INFO - LR:\t0.001\n",
      "[2022-12-11 01:07:10,154] {<ipython-input-12-cb52601f4b8e>:71} INFO - Train loop\n"
     ]
    },
    {
     "data": {
      "application/vnd.jupyter.widget-view+json": {
       "model_id": "ad72f90cb7a24a41b0049dfcd692f91e",
       "version_major": 2,
       "version_minor": 0
      },
      "text/plain": [
       "HBox(children=(FloatProgress(value=0.0, max=2105.0), HTML(value='')))"
      ]
     },
     "metadata": {},
     "output_type": "display_data"
    },
    {
     "name": "stderr",
     "output_type": "stream",
     "text": [
      "[2022-12-11 01:07:10,328] {<ipython-input-12-cb52601f4b8e>:126} INFO - Iteration [0]/[2105] loss: 1.211694\n",
      "[2022-12-11 01:07:50,314] {<ipython-input-12-cb52601f4b8e>:126} INFO - Iteration [300]/[2105] loss: 1.812047\n",
      "[2022-12-11 01:08:30,486] {<ipython-input-12-cb52601f4b8e>:126} INFO - Iteration [600]/[2105] loss: 1.771626\n",
      "[2022-12-11 01:09:10,480] {<ipython-input-12-cb52601f4b8e>:126} INFO - Iteration [900]/[2105] loss: 1.040587\n",
      "[2022-12-11 01:09:50,450] {<ipython-input-12-cb52601f4b8e>:126} INFO - Iteration [1200]/[2105] loss: 1.899972\n",
      "[2022-12-11 01:10:28,847] {<ipython-input-12-cb52601f4b8e>:126} INFO - Iteration [1500]/[2105] loss: 1.614372\n",
      "[2022-12-11 01:11:08,530] {<ipython-input-12-cb52601f4b8e>:126} INFO - Iteration [1800]/[2105] loss: 2.317795\n",
      "[2022-12-11 01:11:47,499] {<ipython-input-12-cb52601f4b8e>:126} INFO - Iteration [2100]/[2105] loss: 1.377972\n",
      "[2022-12-11 01:11:47,892] {<ipython-input-12-cb52601f4b8e>:130} INFO - Eval loop\n"
     ]
    },
    {
     "name": "stdout",
     "output_type": "stream",
     "text": [
      "\n"
     ]
    },
    {
     "data": {
      "application/vnd.jupyter.widget-view+json": {
       "model_id": "a03e52cee8de492ab1279dfe94413b5c",
       "version_major": 2,
       "version_minor": 0
      },
      "text/plain": [
       "HBox(children=(FloatProgress(value=0.0, max=527.0), HTML(value='')))"
      ]
     },
     "metadata": {},
     "output_type": "display_data"
    },
    {
     "name": "stderr",
     "output_type": "stream",
     "text": [
      "[2022-12-11 01:11:47,959] {<ipython-input-12-cb52601f4b8e>:163} INFO - Iteration [0]/[527] loss: 2.364900\n",
      "[2022-12-11 01:12:01,284] {<ipython-input-12-cb52601f4b8e>:163} INFO - Iteration [300]/[527] loss: 2.478661\n",
      "[2022-12-11 01:12:11,265] {<ipython-input-12-cb52601f4b8e>:57} INFO - Train loss avg:\t1.551632\n",
      "[2022-12-11 01:12:11,266] {<ipython-input-12-cb52601f4b8e>:58} INFO - Eval loss avg:\t2.592271\n",
      "[2022-12-11 01:12:11,267] {<ipython-input-12-cb52601f4b8e>:64} INFO - Clean up CUDA memory\n",
      "[2022-12-11 01:12:11,506] {<ipython-input-12-cb52601f4b8e>:36} INFO - Epoch [13]/[120]\n"
     ]
    },
    {
     "name": "stdout",
     "output_type": "stream",
     "text": [
      "\n"
     ]
    },
    {
     "name": "stderr",
     "output_type": "stream",
     "text": [
      "[2022-12-11 01:12:11,508] {<ipython-input-12-cb52601f4b8e>:39} INFO - LR:\t0.001\n",
      "[2022-12-11 01:12:11,508] {<ipython-input-12-cb52601f4b8e>:71} INFO - Train loop\n"
     ]
    },
    {
     "data": {
      "application/vnd.jupyter.widget-view+json": {
       "model_id": "18dbff6898ff4ba7a64431256108a49c",
       "version_major": 2,
       "version_minor": 0
      },
      "text/plain": [
       "HBox(children=(FloatProgress(value=0.0, max=2105.0), HTML(value='')))"
      ]
     },
     "metadata": {},
     "output_type": "display_data"
    },
    {
     "name": "stderr",
     "output_type": "stream",
     "text": [
      "[2022-12-11 01:12:11,690] {<ipython-input-12-cb52601f4b8e>:126} INFO - Iteration [0]/[2105] loss: 1.315200\n",
      "[2022-12-11 01:12:50,314] {<ipython-input-12-cb52601f4b8e>:126} INFO - Iteration [300]/[2105] loss: 1.428755\n",
      "[2022-12-11 01:13:31,268] {<ipython-input-12-cb52601f4b8e>:126} INFO - Iteration [600]/[2105] loss: 1.774543\n",
      "[2022-12-11 01:14:09,959] {<ipython-input-12-cb52601f4b8e>:126} INFO - Iteration [900]/[2105] loss: 1.557385\n",
      "[2022-12-11 01:14:49,199] {<ipython-input-12-cb52601f4b8e>:126} INFO - Iteration [1200]/[2105] loss: 1.259615\n",
      "[2022-12-11 01:15:27,726] {<ipython-input-12-cb52601f4b8e>:126} INFO - Iteration [1500]/[2105] loss: 1.560637\n",
      "[2022-12-11 01:16:06,365] {<ipython-input-12-cb52601f4b8e>:126} INFO - Iteration [1800]/[2105] loss: 2.543410\n",
      "[2022-12-11 01:16:46,763] {<ipython-input-12-cb52601f4b8e>:126} INFO - Iteration [2100]/[2105] loss: 1.473948\n",
      "[2022-12-11 01:16:47,269] {<ipython-input-12-cb52601f4b8e>:130} INFO - Eval loop\n"
     ]
    },
    {
     "name": "stdout",
     "output_type": "stream",
     "text": [
      "\n"
     ]
    },
    {
     "data": {
      "application/vnd.jupyter.widget-view+json": {
       "model_id": "52884d75e8904d888968e1c5e2c2dce4",
       "version_major": 2,
       "version_minor": 0
      },
      "text/plain": [
       "HBox(children=(FloatProgress(value=0.0, max=527.0), HTML(value='')))"
      ]
     },
     "metadata": {},
     "output_type": "display_data"
    },
    {
     "name": "stderr",
     "output_type": "stream",
     "text": [
      "[2022-12-11 01:16:47,326] {<ipython-input-12-cb52601f4b8e>:163} INFO - Iteration [0]/[527] loss: 2.261201\n",
      "[2022-12-11 01:17:01,192] {<ipython-input-12-cb52601f4b8e>:163} INFO - Iteration [300]/[527] loss: 2.461459\n",
      "[2022-12-11 01:17:11,579] {<ipython-input-12-cb52601f4b8e>:57} INFO - Train loss avg:\t1.523542\n",
      "[2022-12-11 01:17:11,580] {<ipython-input-12-cb52601f4b8e>:58} INFO - Eval loss avg:\t2.632159\n",
      "[2022-12-11 01:17:11,581] {<ipython-input-12-cb52601f4b8e>:64} INFO - Clean up CUDA memory\n"
     ]
    },
    {
     "name": "stdout",
     "output_type": "stream",
     "text": [
      "\n"
     ]
    },
    {
     "name": "stderr",
     "output_type": "stream",
     "text": [
      "[2022-12-11 01:17:11,821] {<ipython-input-12-cb52601f4b8e>:36} INFO - Epoch [14]/[120]\n",
      "[2022-12-11 01:17:11,822] {<ipython-input-12-cb52601f4b8e>:39} INFO - LR:\t0.001\n",
      "[2022-12-11 01:17:11,823] {<ipython-input-12-cb52601f4b8e>:71} INFO - Train loop\n"
     ]
    },
    {
     "data": {
      "application/vnd.jupyter.widget-view+json": {
       "model_id": "4267dd01def74a0f8f7b0ba9a0926d23",
       "version_major": 2,
       "version_minor": 0
      },
      "text/plain": [
       "HBox(children=(FloatProgress(value=0.0, max=2105.0), HTML(value='')))"
      ]
     },
     "metadata": {},
     "output_type": "display_data"
    },
    {
     "name": "stderr",
     "output_type": "stream",
     "text": [
      "[2022-12-11 01:17:11,998] {<ipython-input-12-cb52601f4b8e>:126} INFO - Iteration [0]/[2105] loss: 1.594944\n",
      "[2022-12-11 01:17:51,210] {<ipython-input-12-cb52601f4b8e>:126} INFO - Iteration [300]/[2105] loss: 1.344748\n",
      "[2022-12-11 01:18:31,314] {<ipython-input-12-cb52601f4b8e>:126} INFO - Iteration [600]/[2105] loss: 1.853847\n",
      "[2022-12-11 01:19:09,989] {<ipython-input-12-cb52601f4b8e>:126} INFO - Iteration [900]/[2105] loss: 1.610380\n",
      "[2022-12-11 01:19:48,685] {<ipython-input-12-cb52601f4b8e>:126} INFO - Iteration [1200]/[2105] loss: 1.460226\n",
      "[2022-12-11 01:20:28,722] {<ipython-input-12-cb52601f4b8e>:126} INFO - Iteration [1500]/[2105] loss: 1.641469\n",
      "[2022-12-11 01:21:08,166] {<ipython-input-12-cb52601f4b8e>:126} INFO - Iteration [1800]/[2105] loss: 1.766043\n",
      "[2022-12-11 01:21:48,992] {<ipython-input-12-cb52601f4b8e>:126} INFO - Iteration [2100]/[2105] loss: 1.543581\n",
      "[2022-12-11 01:21:49,503] {<ipython-input-12-cb52601f4b8e>:130} INFO - Eval loop\n"
     ]
    },
    {
     "name": "stdout",
     "output_type": "stream",
     "text": [
      "\n"
     ]
    },
    {
     "data": {
      "application/vnd.jupyter.widget-view+json": {
       "model_id": "0f585ef65d7546a49812b5437c31dc0c",
       "version_major": 2,
       "version_minor": 0
      },
      "text/plain": [
       "HBox(children=(FloatProgress(value=0.0, max=527.0), HTML(value='')))"
      ]
     },
     "metadata": {},
     "output_type": "display_data"
    },
    {
     "name": "stderr",
     "output_type": "stream",
     "text": [
      "[2022-12-11 01:21:49,565] {<ipython-input-12-cb52601f4b8e>:163} INFO - Iteration [0]/[527] loss: 2.270889\n",
      "[2022-12-11 01:22:03,507] {<ipython-input-12-cb52601f4b8e>:163} INFO - Iteration [300]/[527] loss: 2.295966\n",
      "[2022-12-11 01:22:13,962] {<ipython-input-12-cb52601f4b8e>:57} INFO - Train loss avg:\t1.502937\n",
      "[2022-12-11 01:22:13,963] {<ipython-input-12-cb52601f4b8e>:58} INFO - Eval loss avg:\t2.586131\n",
      "[2022-12-11 01:22:13,964] {<ipython-input-12-cb52601f4b8e>:64} INFO - Clean up CUDA memory\n"
     ]
    },
    {
     "name": "stdout",
     "output_type": "stream",
     "text": [
      "\n"
     ]
    },
    {
     "name": "stderr",
     "output_type": "stream",
     "text": [
      "[2022-12-11 01:22:14,207] {<ipython-input-12-cb52601f4b8e>:36} INFO - Epoch [15]/[120]\n",
      "[2022-12-11 01:22:14,208] {<ipython-input-12-cb52601f4b8e>:39} INFO - LR:\t0.001\n",
      "[2022-12-11 01:22:14,208] {<ipython-input-12-cb52601f4b8e>:71} INFO - Train loop\n"
     ]
    },
    {
     "data": {
      "application/vnd.jupyter.widget-view+json": {
       "model_id": "0f91614e374d4c7b85de6c85869f83ae",
       "version_major": 2,
       "version_minor": 0
      },
      "text/plain": [
       "HBox(children=(FloatProgress(value=0.0, max=2105.0), HTML(value='')))"
      ]
     },
     "metadata": {},
     "output_type": "display_data"
    },
    {
     "name": "stderr",
     "output_type": "stream",
     "text": [
      "[2022-12-11 01:22:14,388] {<ipython-input-12-cb52601f4b8e>:126} INFO - Iteration [0]/[2105] loss: 1.605608\n",
      "[2022-12-11 01:22:54,210] {<ipython-input-12-cb52601f4b8e>:126} INFO - Iteration [300]/[2105] loss: 1.678601\n",
      "[2022-12-11 01:23:34,734] {<ipython-input-12-cb52601f4b8e>:126} INFO - Iteration [600]/[2105] loss: 1.429526\n",
      "[2022-12-11 01:24:13,694] {<ipython-input-12-cb52601f4b8e>:126} INFO - Iteration [900]/[2105] loss: 1.140280\n",
      "[2022-12-11 01:24:53,774] {<ipython-input-12-cb52601f4b8e>:126} INFO - Iteration [1200]/[2105] loss: 1.365701\n",
      "[2022-12-11 01:25:32,644] {<ipython-input-12-cb52601f4b8e>:126} INFO - Iteration [1500]/[2105] loss: 1.335904\n",
      "[2022-12-11 01:26:13,025] {<ipython-input-12-cb52601f4b8e>:126} INFO - Iteration [1800]/[2105] loss: 1.403955\n",
      "[2022-12-11 01:26:52,029] {<ipython-input-12-cb52601f4b8e>:126} INFO - Iteration [2100]/[2105] loss: 1.911378\n",
      "[2022-12-11 01:26:52,561] {<ipython-input-12-cb52601f4b8e>:130} INFO - Eval loop\n"
     ]
    },
    {
     "name": "stdout",
     "output_type": "stream",
     "text": [
      "\n"
     ]
    },
    {
     "data": {
      "application/vnd.jupyter.widget-view+json": {
       "model_id": "73dd639a96454f698e5d33aaf7b325cc",
       "version_major": 2,
       "version_minor": 0
      },
      "text/plain": [
       "HBox(children=(FloatProgress(value=0.0, max=527.0), HTML(value='')))"
      ]
     },
     "metadata": {},
     "output_type": "display_data"
    },
    {
     "name": "stderr",
     "output_type": "stream",
     "text": [
      "[2022-12-11 01:26:52,622] {<ipython-input-12-cb52601f4b8e>:163} INFO - Iteration [0]/[527] loss: 2.423006\n",
      "[2022-12-11 01:27:06,120] {<ipython-input-12-cb52601f4b8e>:163} INFO - Iteration [300]/[527] loss: 2.388034\n",
      "[2022-12-11 01:27:16,277] {<ipython-input-12-cb52601f4b8e>:57} INFO - Train loss avg:\t1.484352\n",
      "[2022-12-11 01:27:16,278] {<ipython-input-12-cb52601f4b8e>:58} INFO - Eval loss avg:\t2.582901\n",
      "[2022-12-11 01:27:16,279] {<ipython-input-12-cb52601f4b8e>:64} INFO - Clean up CUDA memory\n",
      "[2022-12-11 01:27:16,519] {<ipython-input-12-cb52601f4b8e>:36} INFO - Epoch [16]/[120]\n"
     ]
    },
    {
     "name": "stdout",
     "output_type": "stream",
     "text": [
      "\n"
     ]
    },
    {
     "name": "stderr",
     "output_type": "stream",
     "text": [
      "[2022-12-11 01:27:16,520] {<ipython-input-12-cb52601f4b8e>:39} INFO - LR:\t0.001\n",
      "[2022-12-11 01:27:16,521] {<ipython-input-12-cb52601f4b8e>:71} INFO - Train loop\n"
     ]
    },
    {
     "data": {
      "application/vnd.jupyter.widget-view+json": {
       "model_id": "78508339ff0d46319afe99af486cf62c",
       "version_major": 2,
       "version_minor": 0
      },
      "text/plain": [
       "HBox(children=(FloatProgress(value=0.0, max=2105.0), HTML(value='')))"
      ]
     },
     "metadata": {},
     "output_type": "display_data"
    },
    {
     "name": "stderr",
     "output_type": "stream",
     "text": [
      "[2022-12-11 01:27:16,687] {<ipython-input-12-cb52601f4b8e>:126} INFO - Iteration [0]/[2105] loss: 1.409103\n",
      "[2022-12-11 01:27:56,073] {<ipython-input-12-cb52601f4b8e>:126} INFO - Iteration [300]/[2105] loss: 1.638005\n",
      "[2022-12-11 01:28:34,552] {<ipython-input-12-cb52601f4b8e>:126} INFO - Iteration [600]/[2105] loss: 1.252678\n",
      "[2022-12-11 01:29:13,978] {<ipython-input-12-cb52601f4b8e>:126} INFO - Iteration [900]/[2105] loss: 1.408012\n",
      "[2022-12-11 01:29:53,356] {<ipython-input-12-cb52601f4b8e>:126} INFO - Iteration [1200]/[2105] loss: 1.404480\n",
      "[2022-12-11 01:30:32,727] {<ipython-input-12-cb52601f4b8e>:126} INFO - Iteration [1500]/[2105] loss: 1.562197\n",
      "[2022-12-11 01:31:12,025] {<ipython-input-12-cb52601f4b8e>:126} INFO - Iteration [1800]/[2105] loss: 1.001658\n",
      "[2022-12-11 01:31:50,882] {<ipython-input-12-cb52601f4b8e>:126} INFO - Iteration [2100]/[2105] loss: 1.294389\n",
      "[2022-12-11 01:31:51,337] {<ipython-input-12-cb52601f4b8e>:130} INFO - Eval loop\n"
     ]
    },
    {
     "name": "stdout",
     "output_type": "stream",
     "text": [
      "\n"
     ]
    },
    {
     "data": {
      "application/vnd.jupyter.widget-view+json": {
       "model_id": "64927d88fda4426d95c1e609adacbe02",
       "version_major": 2,
       "version_minor": 0
      },
      "text/plain": [
       "HBox(children=(FloatProgress(value=0.0, max=527.0), HTML(value='')))"
      ]
     },
     "metadata": {},
     "output_type": "display_data"
    },
    {
     "name": "stderr",
     "output_type": "stream",
     "text": [
      "[2022-12-11 01:31:51,395] {<ipython-input-12-cb52601f4b8e>:163} INFO - Iteration [0]/[527] loss: 2.319527\n",
      "[2022-12-11 01:32:07,045] {<ipython-input-12-cb52601f4b8e>:163} INFO - Iteration [300]/[527] loss: 2.436180\n",
      "[2022-12-11 01:32:17,463] {<ipython-input-12-cb52601f4b8e>:57} INFO - Train loss avg:\t1.471364\n",
      "[2022-12-11 01:32:17,464] {<ipython-input-12-cb52601f4b8e>:58} INFO - Eval loss avg:\t2.598970\n",
      "[2022-12-11 01:32:17,464] {<ipython-input-12-cb52601f4b8e>:64} INFO - Clean up CUDA memory\n",
      "[2022-12-11 01:32:17,705] {<ipython-input-12-cb52601f4b8e>:36} INFO - Epoch [17]/[120]\n"
     ]
    },
    {
     "name": "stdout",
     "output_type": "stream",
     "text": [
      "\n"
     ]
    },
    {
     "name": "stderr",
     "output_type": "stream",
     "text": [
      "[2022-12-11 01:32:17,706] {<ipython-input-12-cb52601f4b8e>:39} INFO - LR:\t0.001\n",
      "[2022-12-11 01:32:17,707] {<ipython-input-12-cb52601f4b8e>:71} INFO - Train loop\n"
     ]
    },
    {
     "data": {
      "application/vnd.jupyter.widget-view+json": {
       "model_id": "adc4025bae154510a5f746c8ba17e13b",
       "version_major": 2,
       "version_minor": 0
      },
      "text/plain": [
       "HBox(children=(FloatProgress(value=0.0, max=2105.0), HTML(value='')))"
      ]
     },
     "metadata": {},
     "output_type": "display_data"
    },
    {
     "name": "stderr",
     "output_type": "stream",
     "text": [
      "[2022-12-11 01:32:17,898] {<ipython-input-12-cb52601f4b8e>:126} INFO - Iteration [0]/[2105] loss: 1.596575\n",
      "[2022-12-11 01:32:57,248] {<ipython-input-12-cb52601f4b8e>:126} INFO - Iteration [300]/[2105] loss: 1.191672\n",
      "[2022-12-11 01:33:36,809] {<ipython-input-12-cb52601f4b8e>:126} INFO - Iteration [600]/[2105] loss: 1.416623\n",
      "[2022-12-11 01:34:15,978] {<ipython-input-12-cb52601f4b8e>:126} INFO - Iteration [900]/[2105] loss: 2.062774\n",
      "[2022-12-11 01:34:55,351] {<ipython-input-12-cb52601f4b8e>:126} INFO - Iteration [1200]/[2105] loss: 1.389346\n",
      "[2022-12-11 01:35:35,402] {<ipython-input-12-cb52601f4b8e>:126} INFO - Iteration [1500]/[2105] loss: 1.422067\n",
      "[2022-12-11 01:36:14,874] {<ipython-input-12-cb52601f4b8e>:126} INFO - Iteration [1800]/[2105] loss: 1.285107\n",
      "[2022-12-11 01:36:53,894] {<ipython-input-12-cb52601f4b8e>:126} INFO - Iteration [2100]/[2105] loss: 1.404183\n",
      "[2022-12-11 01:36:54,334] {<ipython-input-12-cb52601f4b8e>:130} INFO - Eval loop\n"
     ]
    },
    {
     "name": "stdout",
     "output_type": "stream",
     "text": [
      "\n"
     ]
    },
    {
     "data": {
      "application/vnd.jupyter.widget-view+json": {
       "model_id": "9daab21453de4e3483b51b649e3be22e",
       "version_major": 2,
       "version_minor": 0
      },
      "text/plain": [
       "HBox(children=(FloatProgress(value=0.0, max=527.0), HTML(value='')))"
      ]
     },
     "metadata": {},
     "output_type": "display_data"
    },
    {
     "name": "stderr",
     "output_type": "stream",
     "text": [
      "[2022-12-11 01:36:54,397] {<ipython-input-12-cb52601f4b8e>:163} INFO - Iteration [0]/[527] loss: 2.483084\n",
      "[2022-12-11 01:37:08,020] {<ipython-input-12-cb52601f4b8e>:163} INFO - Iteration [300]/[527] loss: 2.059667\n",
      "[2022-12-11 01:37:18,206] {<ipython-input-12-cb52601f4b8e>:57} INFO - Train loss avg:\t1.451268\n",
      "[2022-12-11 01:37:18,207] {<ipython-input-12-cb52601f4b8e>:58} INFO - Eval loss avg:\t2.575196\n",
      "[2022-12-11 01:37:18,207] {<ipython-input-12-cb52601f4b8e>:64} INFO - Clean up CUDA memory\n"
     ]
    },
    {
     "name": "stdout",
     "output_type": "stream",
     "text": [
      "\n"
     ]
    },
    {
     "name": "stderr",
     "output_type": "stream",
     "text": [
      "[2022-12-11 01:37:18,446] {<ipython-input-12-cb52601f4b8e>:36} INFO - Epoch [18]/[120]\n",
      "[2022-12-11 01:37:18,446] {<ipython-input-12-cb52601f4b8e>:39} INFO - LR:\t0.001\n",
      "[2022-12-11 01:37:18,447] {<ipython-input-12-cb52601f4b8e>:71} INFO - Train loop\n"
     ]
    },
    {
     "data": {
      "application/vnd.jupyter.widget-view+json": {
       "model_id": "995042f070ed45c088265168ee2ad9b8",
       "version_major": 2,
       "version_minor": 0
      },
      "text/plain": [
       "HBox(children=(FloatProgress(value=0.0, max=2105.0), HTML(value='')))"
      ]
     },
     "metadata": {},
     "output_type": "display_data"
    },
    {
     "name": "stderr",
     "output_type": "stream",
     "text": [
      "[2022-12-11 01:37:18,629] {<ipython-input-12-cb52601f4b8e>:126} INFO - Iteration [0]/[2105] loss: 1.604149\n",
      "[2022-12-11 01:37:57,711] {<ipython-input-12-cb52601f4b8e>:126} INFO - Iteration [300]/[2105] loss: 1.282533\n",
      "[2022-12-11 01:38:37,077] {<ipython-input-12-cb52601f4b8e>:126} INFO - Iteration [600]/[2105] loss: 1.699183\n",
      "[2022-12-11 01:39:16,859] {<ipython-input-12-cb52601f4b8e>:126} INFO - Iteration [900]/[2105] loss: 1.417472\n",
      "[2022-12-11 01:39:56,406] {<ipython-input-12-cb52601f4b8e>:126} INFO - Iteration [1200]/[2105] loss: 1.344495\n",
      "[2022-12-11 01:40:35,435] {<ipython-input-12-cb52601f4b8e>:126} INFO - Iteration [1500]/[2105] loss: 1.524457\n",
      "[2022-12-11 01:41:15,037] {<ipython-input-12-cb52601f4b8e>:126} INFO - Iteration [1800]/[2105] loss: 1.438177\n",
      "[2022-12-11 01:41:54,547] {<ipython-input-12-cb52601f4b8e>:126} INFO - Iteration [2100]/[2105] loss: 1.683431\n",
      "[2022-12-11 01:41:55,032] {<ipython-input-12-cb52601f4b8e>:130} INFO - Eval loop\n"
     ]
    },
    {
     "name": "stdout",
     "output_type": "stream",
     "text": [
      "\n"
     ]
    },
    {
     "data": {
      "application/vnd.jupyter.widget-view+json": {
       "model_id": "573bc9d219f0401fa7080bb1eb79f325",
       "version_major": 2,
       "version_minor": 0
      },
      "text/plain": [
       "HBox(children=(FloatProgress(value=0.0, max=527.0), HTML(value='')))"
      ]
     },
     "metadata": {},
     "output_type": "display_data"
    },
    {
     "name": "stderr",
     "output_type": "stream",
     "text": [
      "[2022-12-11 01:41:55,090] {<ipython-input-12-cb52601f4b8e>:163} INFO - Iteration [0]/[527] loss: 2.235815\n",
      "[2022-12-11 01:42:08,755] {<ipython-input-12-cb52601f4b8e>:163} INFO - Iteration [300]/[527] loss: 2.446272\n",
      "[2022-12-11 01:42:18,986] {<ipython-input-12-cb52601f4b8e>:57} INFO - Train loss avg:\t1.442631\n",
      "[2022-12-11 01:42:18,987] {<ipython-input-12-cb52601f4b8e>:58} INFO - Eval loss avg:\t2.584950\n",
      "[2022-12-11 01:42:18,988] {<ipython-input-12-cb52601f4b8e>:64} INFO - Clean up CUDA memory\n",
      "[2022-12-11 01:42:19,230] {<ipython-input-12-cb52601f4b8e>:36} INFO - Epoch [19]/[120]\n"
     ]
    },
    {
     "name": "stdout",
     "output_type": "stream",
     "text": [
      "\n"
     ]
    },
    {
     "name": "stderr",
     "output_type": "stream",
     "text": [
      "[2022-12-11 01:42:19,231] {<ipython-input-12-cb52601f4b8e>:39} INFO - LR:\t0.001\n",
      "[2022-12-11 01:42:19,232] {<ipython-input-12-cb52601f4b8e>:71} INFO - Train loop\n"
     ]
    },
    {
     "data": {
      "application/vnd.jupyter.widget-view+json": {
       "model_id": "9b6484855f8042ebbebfdf33f85fa636",
       "version_major": 2,
       "version_minor": 0
      },
      "text/plain": [
       "HBox(children=(FloatProgress(value=0.0, max=2105.0), HTML(value='')))"
      ]
     },
     "metadata": {},
     "output_type": "display_data"
    },
    {
     "name": "stderr",
     "output_type": "stream",
     "text": [
      "[2022-12-11 01:42:19,420] {<ipython-input-12-cb52601f4b8e>:126} INFO - Iteration [0]/[2105] loss: 1.570104\n",
      "[2022-12-11 01:42:59,927] {<ipython-input-12-cb52601f4b8e>:126} INFO - Iteration [300]/[2105] loss: 1.893714\n",
      "[2022-12-11 01:43:39,578] {<ipython-input-12-cb52601f4b8e>:126} INFO - Iteration [600]/[2105] loss: 1.509722\n",
      "[2022-12-11 01:44:18,663] {<ipython-input-12-cb52601f4b8e>:126} INFO - Iteration [900]/[2105] loss: 1.313069\n",
      "[2022-12-11 01:44:57,304] {<ipython-input-12-cb52601f4b8e>:126} INFO - Iteration [1200]/[2105] loss: 1.214359\n",
      "[2022-12-11 01:45:36,018] {<ipython-input-12-cb52601f4b8e>:126} INFO - Iteration [1500]/[2105] loss: 1.585852\n",
      "[2022-12-11 01:46:14,691] {<ipython-input-12-cb52601f4b8e>:126} INFO - Iteration [1800]/[2105] loss: 1.130800\n",
      "[2022-12-11 01:46:54,190] {<ipython-input-12-cb52601f4b8e>:126} INFO - Iteration [2100]/[2105] loss: 1.401345\n",
      "[2022-12-11 01:46:54,698] {<ipython-input-12-cb52601f4b8e>:130} INFO - Eval loop\n"
     ]
    },
    {
     "name": "stdout",
     "output_type": "stream",
     "text": [
      "\n"
     ]
    },
    {
     "data": {
      "application/vnd.jupyter.widget-view+json": {
       "model_id": "ff73bbdcaa0441d786f160a20cabfb94",
       "version_major": 2,
       "version_minor": 0
      },
      "text/plain": [
       "HBox(children=(FloatProgress(value=0.0, max=527.0), HTML(value='')))"
      ]
     },
     "metadata": {},
     "output_type": "display_data"
    },
    {
     "name": "stderr",
     "output_type": "stream",
     "text": [
      "[2022-12-11 01:46:54,760] {<ipython-input-12-cb52601f4b8e>:163} INFO - Iteration [0]/[527] loss: 2.177183\n",
      "[2022-12-11 01:47:08,234] {<ipython-input-12-cb52601f4b8e>:163} INFO - Iteration [300]/[527] loss: 2.477173\n",
      "[2022-12-11 01:47:18,355] {<ipython-input-12-cb52601f4b8e>:57} INFO - Train loss avg:\t1.408515\n",
      "[2022-12-11 01:47:18,356] {<ipython-input-12-cb52601f4b8e>:58} INFO - Eval loss avg:\t2.627100\n",
      "[2022-12-11 01:47:18,357] {<ipython-input-12-cb52601f4b8e>:64} INFO - Clean up CUDA memory\n",
      "[2022-12-11 01:47:18,599] {<ipython-input-12-cb52601f4b8e>:36} INFO - Epoch [20]/[120]\n"
     ]
    },
    {
     "name": "stdout",
     "output_type": "stream",
     "text": [
      "\n"
     ]
    },
    {
     "name": "stderr",
     "output_type": "stream",
     "text": [
      "[2022-12-11 01:47:18,600] {<ipython-input-12-cb52601f4b8e>:39} INFO - LR:\t0.001\n",
      "[2022-12-11 01:47:18,600] {<ipython-input-12-cb52601f4b8e>:71} INFO - Train loop\n"
     ]
    },
    {
     "data": {
      "application/vnd.jupyter.widget-view+json": {
       "model_id": "7666f615cea34d7792335f40b08b9968",
       "version_major": 2,
       "version_minor": 0
      },
      "text/plain": [
       "HBox(children=(FloatProgress(value=0.0, max=2105.0), HTML(value='')))"
      ]
     },
     "metadata": {},
     "output_type": "display_data"
    },
    {
     "name": "stderr",
     "output_type": "stream",
     "text": [
      "[2022-12-11 01:47:18,760] {<ipython-input-12-cb52601f4b8e>:126} INFO - Iteration [0]/[2105] loss: 1.498567\n",
      "[2022-12-11 01:47:57,671] {<ipython-input-12-cb52601f4b8e>:126} INFO - Iteration [300]/[2105] loss: 1.560640\n",
      "[2022-12-11 01:48:36,460] {<ipython-input-12-cb52601f4b8e>:126} INFO - Iteration [600]/[2105] loss: 1.404966\n",
      "[2022-12-11 01:49:17,480] {<ipython-input-12-cb52601f4b8e>:126} INFO - Iteration [900]/[2105] loss: 1.196653\n",
      "[2022-12-11 01:49:57,484] {<ipython-input-12-cb52601f4b8e>:126} INFO - Iteration [1200]/[2105] loss: 1.464974\n",
      "[2022-12-11 01:50:35,639] {<ipython-input-12-cb52601f4b8e>:126} INFO - Iteration [1500]/[2105] loss: 1.162130\n",
      "[2022-12-11 01:51:14,559] {<ipython-input-12-cb52601f4b8e>:126} INFO - Iteration [1800]/[2105] loss: 1.259505\n",
      "[2022-12-11 01:51:54,503] {<ipython-input-12-cb52601f4b8e>:126} INFO - Iteration [2100]/[2105] loss: 1.345005\n",
      "[2022-12-11 01:51:54,939] {<ipython-input-12-cb52601f4b8e>:130} INFO - Eval loop\n"
     ]
    },
    {
     "name": "stdout",
     "output_type": "stream",
     "text": [
      "\n"
     ]
    },
    {
     "data": {
      "application/vnd.jupyter.widget-view+json": {
       "model_id": "833a4af3fd764fe880f1a1a17f5aef1b",
       "version_major": 2,
       "version_minor": 0
      },
      "text/plain": [
       "HBox(children=(FloatProgress(value=0.0, max=527.0), HTML(value='')))"
      ]
     },
     "metadata": {},
     "output_type": "display_data"
    },
    {
     "name": "stderr",
     "output_type": "stream",
     "text": [
      "[2022-12-11 01:51:55,008] {<ipython-input-12-cb52601f4b8e>:163} INFO - Iteration [0]/[527] loss: 2.178750\n",
      "[2022-12-11 01:52:08,885] {<ipython-input-12-cb52601f4b8e>:163} INFO - Iteration [300]/[527] loss: 2.432219\n",
      "[2022-12-11 01:52:19,305] {<ipython-input-12-cb52601f4b8e>:57} INFO - Train loss avg:\t1.409073\n",
      "[2022-12-11 01:52:19,306] {<ipython-input-12-cb52601f4b8e>:58} INFO - Eval loss avg:\t2.582002\n",
      "[2022-12-11 01:52:19,306] {<ipython-input-12-cb52601f4b8e>:64} INFO - Clean up CUDA memory\n",
      "[2022-12-11 01:52:19,547] {<ipython-input-12-cb52601f4b8e>:36} INFO - Epoch [21]/[120]\n"
     ]
    },
    {
     "name": "stdout",
     "output_type": "stream",
     "text": [
      "\n"
     ]
    },
    {
     "name": "stderr",
     "output_type": "stream",
     "text": [
      "[2022-12-11 01:52:19,548] {<ipython-input-12-cb52601f4b8e>:39} INFO - LR:\t0.001\n",
      "[2022-12-11 01:52:19,549] {<ipython-input-12-cb52601f4b8e>:71} INFO - Train loop\n"
     ]
    },
    {
     "data": {
      "application/vnd.jupyter.widget-view+json": {
       "model_id": "93ee3e210d474c0c8161bb5b21653dcb",
       "version_major": 2,
       "version_minor": 0
      },
      "text/plain": [
       "HBox(children=(FloatProgress(value=0.0, max=2105.0), HTML(value='')))"
      ]
     },
     "metadata": {},
     "output_type": "display_data"
    },
    {
     "name": "stderr",
     "output_type": "stream",
     "text": [
      "[2022-12-11 01:52:19,714] {<ipython-input-12-cb52601f4b8e>:126} INFO - Iteration [0]/[2105] loss: 1.179723\n",
      "[2022-12-11 01:52:56,938] {<ipython-input-12-cb52601f4b8e>:126} INFO - Iteration [300]/[2105] loss: 1.083717\n",
      "[2022-12-11 01:53:37,742] {<ipython-input-12-cb52601f4b8e>:126} INFO - Iteration [600]/[2105] loss: 1.082178\n",
      "[2022-12-11 01:54:16,634] {<ipython-input-12-cb52601f4b8e>:126} INFO - Iteration [900]/[2105] loss: 1.438627\n",
      "[2022-12-11 01:54:56,338] {<ipython-input-12-cb52601f4b8e>:126} INFO - Iteration [1200]/[2105] loss: 2.588721\n",
      "[2022-12-11 01:55:35,618] {<ipython-input-12-cb52601f4b8e>:126} INFO - Iteration [1500]/[2105] loss: 1.154643\n",
      "[2022-12-11 01:56:14,707] {<ipython-input-12-cb52601f4b8e>:126} INFO - Iteration [1800]/[2105] loss: 1.400144\n",
      "[2022-12-11 01:56:54,248] {<ipython-input-12-cb52601f4b8e>:126} INFO - Iteration [2100]/[2105] loss: 1.706492\n",
      "[2022-12-11 01:56:54,725] {<ipython-input-12-cb52601f4b8e>:130} INFO - Eval loop\n"
     ]
    },
    {
     "name": "stdout",
     "output_type": "stream",
     "text": [
      "\n"
     ]
    },
    {
     "data": {
      "application/vnd.jupyter.widget-view+json": {
       "model_id": "3468915a8cb24aabbca94b4111379afb",
       "version_major": 2,
       "version_minor": 0
      },
      "text/plain": [
       "HBox(children=(FloatProgress(value=0.0, max=527.0), HTML(value='')))"
      ]
     },
     "metadata": {},
     "output_type": "display_data"
    },
    {
     "name": "stderr",
     "output_type": "stream",
     "text": [
      "[2022-12-11 01:56:54,782] {<ipython-input-12-cb52601f4b8e>:163} INFO - Iteration [0]/[527] loss: 2.167106\n",
      "[2022-12-11 01:57:08,343] {<ipython-input-12-cb52601f4b8e>:163} INFO - Iteration [300]/[527] loss: 2.350391\n",
      "[2022-12-11 01:57:18,547] {<ipython-input-12-cb52601f4b8e>:57} INFO - Train loss avg:\t1.412127\n",
      "[2022-12-11 01:57:18,548] {<ipython-input-12-cb52601f4b8e>:58} INFO - Eval loss avg:\t2.602190\n",
      "[2022-12-11 01:57:18,548] {<ipython-input-12-cb52601f4b8e>:64} INFO - Clean up CUDA memory\n",
      "[2022-12-11 01:57:18,800] {<ipython-input-12-cb52601f4b8e>:36} INFO - Epoch [22]/[120]\n"
     ]
    },
    {
     "name": "stdout",
     "output_type": "stream",
     "text": [
      "\n"
     ]
    },
    {
     "name": "stderr",
     "output_type": "stream",
     "text": [
      "[2022-12-11 01:57:18,802] {<ipython-input-12-cb52601f4b8e>:39} INFO - LR:\t0.001\n",
      "[2022-12-11 01:57:18,802] {<ipython-input-12-cb52601f4b8e>:71} INFO - Train loop\n"
     ]
    },
    {
     "data": {
      "application/vnd.jupyter.widget-view+json": {
       "model_id": "7ee998a2316c48fda178c23fd84d11e3",
       "version_major": 2,
       "version_minor": 0
      },
      "text/plain": [
       "HBox(children=(FloatProgress(value=0.0, max=2105.0), HTML(value='')))"
      ]
     },
     "metadata": {},
     "output_type": "display_data"
    },
    {
     "name": "stderr",
     "output_type": "stream",
     "text": [
      "[2022-12-11 01:57:18,977] {<ipython-input-12-cb52601f4b8e>:126} INFO - Iteration [0]/[2105] loss: 1.362162\n",
      "[2022-12-11 01:57:56,624] {<ipython-input-12-cb52601f4b8e>:126} INFO - Iteration [300]/[2105] loss: 1.342539\n",
      "[2022-12-11 01:58:36,487] {<ipython-input-12-cb52601f4b8e>:126} INFO - Iteration [600]/[2105] loss: 1.423180\n",
      "[2022-12-11 01:59:15,750] {<ipython-input-12-cb52601f4b8e>:126} INFO - Iteration [900]/[2105] loss: 1.588413\n",
      "[2022-12-11 01:59:55,502] {<ipython-input-12-cb52601f4b8e>:126} INFO - Iteration [1200]/[2105] loss: 1.783028\n",
      "[2022-12-11 02:00:35,516] {<ipython-input-12-cb52601f4b8e>:126} INFO - Iteration [1500]/[2105] loss: 1.904181\n",
      "[2022-12-11 02:01:15,270] {<ipython-input-12-cb52601f4b8e>:126} INFO - Iteration [1800]/[2105] loss: 1.398402\n",
      "[2022-12-11 02:01:54,185] {<ipython-input-12-cb52601f4b8e>:126} INFO - Iteration [2100]/[2105] loss: 1.323868\n",
      "[2022-12-11 02:01:54,602] {<ipython-input-12-cb52601f4b8e>:130} INFO - Eval loop\n"
     ]
    },
    {
     "name": "stdout",
     "output_type": "stream",
     "text": [
      "\n"
     ]
    },
    {
     "data": {
      "application/vnd.jupyter.widget-view+json": {
       "model_id": "9747173cca0046ca92d74c503367e741",
       "version_major": 2,
       "version_minor": 0
      },
      "text/plain": [
       "HBox(children=(FloatProgress(value=0.0, max=527.0), HTML(value='')))"
      ]
     },
     "metadata": {},
     "output_type": "display_data"
    },
    {
     "name": "stderr",
     "output_type": "stream",
     "text": [
      "[2022-12-11 02:01:54,658] {<ipython-input-12-cb52601f4b8e>:163} INFO - Iteration [0]/[527] loss: 2.304772\n",
      "[2022-12-11 02:02:07,533] {<ipython-input-12-cb52601f4b8e>:163} INFO - Iteration [300]/[527] loss: 2.294784\n",
      "[2022-12-11 02:02:17,569] {<ipython-input-12-cb52601f4b8e>:57} INFO - Train loss avg:\t1.395710\n",
      "[2022-12-11 02:02:17,570] {<ipython-input-12-cb52601f4b8e>:58} INFO - Eval loss avg:\t2.588275\n",
      "[2022-12-11 02:02:17,570] {<ipython-input-12-cb52601f4b8e>:64} INFO - Clean up CUDA memory\n"
     ]
    },
    {
     "name": "stdout",
     "output_type": "stream",
     "text": [
      "\n"
     ]
    },
    {
     "name": "stderr",
     "output_type": "stream",
     "text": [
      "[2022-12-11 02:02:17,811] {<ipython-input-12-cb52601f4b8e>:36} INFO - Epoch [23]/[120]\n",
      "[2022-12-11 02:02:17,812] {<ipython-input-12-cb52601f4b8e>:39} INFO - LR:\t0.001\n",
      "[2022-12-11 02:02:17,813] {<ipython-input-12-cb52601f4b8e>:71} INFO - Train loop\n"
     ]
    },
    {
     "data": {
      "application/vnd.jupyter.widget-view+json": {
       "model_id": "a833dde82dda4d1eb789d4f859b7f01b",
       "version_major": 2,
       "version_minor": 0
      },
      "text/plain": [
       "HBox(children=(FloatProgress(value=0.0, max=2105.0), HTML(value='')))"
      ]
     },
     "metadata": {},
     "output_type": "display_data"
    },
    {
     "name": "stderr",
     "output_type": "stream",
     "text": [
      "[2022-12-11 02:02:18,004] {<ipython-input-12-cb52601f4b8e>:126} INFO - Iteration [0]/[2105] loss: 1.038571\n",
      "[2022-12-11 02:02:55,313] {<ipython-input-12-cb52601f4b8e>:126} INFO - Iteration [300]/[2105] loss: 0.965903\n",
      "[2022-12-11 02:03:34,960] {<ipython-input-12-cb52601f4b8e>:126} INFO - Iteration [600]/[2105] loss: 1.423985\n",
      "[2022-12-11 02:04:14,782] {<ipython-input-12-cb52601f4b8e>:126} INFO - Iteration [900]/[2105] loss: 1.370682\n",
      "[2022-12-11 02:04:53,245] {<ipython-input-12-cb52601f4b8e>:126} INFO - Iteration [1200]/[2105] loss: 1.241837\n",
      "[2022-12-11 02:05:31,492] {<ipython-input-12-cb52601f4b8e>:126} INFO - Iteration [1500]/[2105] loss: 1.251048\n",
      "[2022-12-11 02:06:09,904] {<ipython-input-12-cb52601f4b8e>:126} INFO - Iteration [1800]/[2105] loss: 1.419608\n",
      "[2022-12-11 02:06:48,787] {<ipython-input-12-cb52601f4b8e>:126} INFO - Iteration [2100]/[2105] loss: 1.290821\n",
      "[2022-12-11 02:06:49,225] {<ipython-input-12-cb52601f4b8e>:130} INFO - Eval loop\n"
     ]
    },
    {
     "name": "stdout",
     "output_type": "stream",
     "text": [
      "\n"
     ]
    },
    {
     "data": {
      "application/vnd.jupyter.widget-view+json": {
       "model_id": "9713484252c04352928d34a96f7af222",
       "version_major": 2,
       "version_minor": 0
      },
      "text/plain": [
       "HBox(children=(FloatProgress(value=0.0, max=527.0), HTML(value='')))"
      ]
     },
     "metadata": {},
     "output_type": "display_data"
    },
    {
     "name": "stderr",
     "output_type": "stream",
     "text": [
      "[2022-12-11 02:06:49,283] {<ipython-input-12-cb52601f4b8e>:163} INFO - Iteration [0]/[527] loss: 2.327659\n",
      "[2022-12-11 02:07:02,578] {<ipython-input-12-cb52601f4b8e>:163} INFO - Iteration [300]/[527] loss: 2.290493\n",
      "[2022-12-11 02:07:12,567] {<ipython-input-12-cb52601f4b8e>:57} INFO - Train loss avg:\t1.381918\n",
      "[2022-12-11 02:07:12,568] {<ipython-input-12-cb52601f4b8e>:58} INFO - Eval loss avg:\t2.605789\n",
      "[2022-12-11 02:07:12,568] {<ipython-input-12-cb52601f4b8e>:64} INFO - Clean up CUDA memory\n",
      "[2022-12-11 02:07:12,812] {<ipython-input-12-cb52601f4b8e>:36} INFO - Epoch [24]/[120]\n"
     ]
    },
    {
     "name": "stdout",
     "output_type": "stream",
     "text": [
      "\n"
     ]
    },
    {
     "name": "stderr",
     "output_type": "stream",
     "text": [
      "[2022-12-11 02:07:12,813] {<ipython-input-12-cb52601f4b8e>:39} INFO - LR:\t0.0005\n",
      "[2022-12-11 02:07:12,814] {<ipython-input-12-cb52601f4b8e>:71} INFO - Train loop\n"
     ]
    },
    {
     "data": {
      "application/vnd.jupyter.widget-view+json": {
       "model_id": "92f052d17d0c4807b94ae874f459882b",
       "version_major": 2,
       "version_minor": 0
      },
      "text/plain": [
       "HBox(children=(FloatProgress(value=0.0, max=2105.0), HTML(value='')))"
      ]
     },
     "metadata": {},
     "output_type": "display_data"
    },
    {
     "name": "stderr",
     "output_type": "stream",
     "text": [
      "[2022-12-11 02:07:12,983] {<ipython-input-12-cb52601f4b8e>:126} INFO - Iteration [0]/[2105] loss: 1.303022\n",
      "[2022-12-11 02:07:52,030] {<ipython-input-12-cb52601f4b8e>:126} INFO - Iteration [300]/[2105] loss: 1.358483\n",
      "[2022-12-11 02:08:30,716] {<ipython-input-12-cb52601f4b8e>:126} INFO - Iteration [600]/[2105] loss: 1.033942\n",
      "[2022-12-11 02:09:09,419] {<ipython-input-12-cb52601f4b8e>:126} INFO - Iteration [900]/[2105] loss: 1.216294\n",
      "[2022-12-11 02:09:47,951] {<ipython-input-12-cb52601f4b8e>:126} INFO - Iteration [1200]/[2105] loss: 1.041135\n",
      "[2022-12-11 02:10:26,055] {<ipython-input-12-cb52601f4b8e>:126} INFO - Iteration [1500]/[2105] loss: 1.936371\n",
      "[2022-12-11 02:11:03,736] {<ipython-input-12-cb52601f4b8e>:126} INFO - Iteration [1800]/[2105] loss: 1.072970\n",
      "[2022-12-11 02:11:41,515] {<ipython-input-12-cb52601f4b8e>:126} INFO - Iteration [2100]/[2105] loss: 1.358508\n",
      "[2022-12-11 02:11:41,984] {<ipython-input-12-cb52601f4b8e>:130} INFO - Eval loop\n"
     ]
    },
    {
     "name": "stdout",
     "output_type": "stream",
     "text": [
      "\n"
     ]
    },
    {
     "data": {
      "application/vnd.jupyter.widget-view+json": {
       "model_id": "5131beb874504d7691a86f842130cfb6",
       "version_major": 2,
       "version_minor": 0
      },
      "text/plain": [
       "HBox(children=(FloatProgress(value=0.0, max=527.0), HTML(value='')))"
      ]
     },
     "metadata": {},
     "output_type": "display_data"
    },
    {
     "name": "stderr",
     "output_type": "stream",
     "text": [
      "[2022-12-11 02:11:42,042] {<ipython-input-12-cb52601f4b8e>:163} INFO - Iteration [0]/[527] loss: 2.155402\n",
      "[2022-12-11 02:11:55,392] {<ipython-input-12-cb52601f4b8e>:163} INFO - Iteration [300]/[527] loss: 2.183773\n",
      "[2022-12-11 02:12:05,349] {<ipython-input-12-cb52601f4b8e>:57} INFO - Train loss avg:\t1.296171\n",
      "[2022-12-11 02:12:05,350] {<ipython-input-12-cb52601f4b8e>:58} INFO - Eval loss avg:\t2.556870\n",
      "[2022-12-11 02:12:05,350] {<ipython-input-12-cb52601f4b8e>:64} INFO - Clean up CUDA memory\n"
     ]
    },
    {
     "name": "stdout",
     "output_type": "stream",
     "text": [
      "\n"
     ]
    },
    {
     "name": "stderr",
     "output_type": "stream",
     "text": [
      "[2022-12-11 02:12:05,592] {<ipython-input-12-cb52601f4b8e>:36} INFO - Epoch [25]/[120]\n",
      "[2022-12-11 02:12:05,593] {<ipython-input-12-cb52601f4b8e>:39} INFO - LR:\t0.0005\n",
      "[2022-12-11 02:12:05,594] {<ipython-input-12-cb52601f4b8e>:71} INFO - Train loop\n"
     ]
    },
    {
     "data": {
      "application/vnd.jupyter.widget-view+json": {
       "model_id": "f911e5a1d1fb4f4ea99bac754dcfc755",
       "version_major": 2,
       "version_minor": 0
      },
      "text/plain": [
       "HBox(children=(FloatProgress(value=0.0, max=2105.0), HTML(value='')))"
      ]
     },
     "metadata": {},
     "output_type": "display_data"
    },
    {
     "name": "stderr",
     "output_type": "stream",
     "text": [
      "[2022-12-11 02:12:05,767] {<ipython-input-12-cb52601f4b8e>:126} INFO - Iteration [0]/[2105] loss: 1.985668\n",
      "[2022-12-11 02:12:44,191] {<ipython-input-12-cb52601f4b8e>:126} INFO - Iteration [300]/[2105] loss: 1.477343\n",
      "[2022-12-11 02:13:22,689] {<ipython-input-12-cb52601f4b8e>:126} INFO - Iteration [600]/[2105] loss: 1.159065\n",
      "[2022-12-11 02:14:00,697] {<ipython-input-12-cb52601f4b8e>:126} INFO - Iteration [900]/[2105] loss: 1.149135\n",
      "[2022-12-11 02:14:39,380] {<ipython-input-12-cb52601f4b8e>:126} INFO - Iteration [1200]/[2105] loss: 1.062301\n",
      "[2022-12-11 02:15:17,632] {<ipython-input-12-cb52601f4b8e>:126} INFO - Iteration [1500]/[2105] loss: 1.607656\n",
      "[2022-12-11 02:15:55,952] {<ipython-input-12-cb52601f4b8e>:126} INFO - Iteration [1800]/[2105] loss: 1.302979\n",
      "[2022-12-11 02:16:36,839] {<ipython-input-12-cb52601f4b8e>:126} INFO - Iteration [2100]/[2105] loss: 1.421697\n",
      "[2022-12-11 02:16:37,305] {<ipython-input-12-cb52601f4b8e>:130} INFO - Eval loop\n"
     ]
    },
    {
     "name": "stdout",
     "output_type": "stream",
     "text": [
      "\n"
     ]
    },
    {
     "data": {
      "application/vnd.jupyter.widget-view+json": {
       "model_id": "63364a43b3fc4787a91cd8533bacd89e",
       "version_major": 2,
       "version_minor": 0
      },
      "text/plain": [
       "HBox(children=(FloatProgress(value=0.0, max=527.0), HTML(value='')))"
      ]
     },
     "metadata": {},
     "output_type": "display_data"
    },
    {
     "name": "stderr",
     "output_type": "stream",
     "text": [
      "[2022-12-11 02:16:37,371] {<ipython-input-12-cb52601f4b8e>:163} INFO - Iteration [0]/[527] loss: 2.322327\n",
      "[2022-12-11 02:16:50,714] {<ipython-input-12-cb52601f4b8e>:163} INFO - Iteration [300]/[527] loss: 2.252803\n",
      "[2022-12-11 02:17:00,756] {<ipython-input-12-cb52601f4b8e>:57} INFO - Train loss avg:\t1.240702\n",
      "[2022-12-11 02:17:00,757] {<ipython-input-12-cb52601f4b8e>:58} INFO - Eval loss avg:\t2.501691\n",
      "[2022-12-11 02:17:00,757] {<ipython-input-12-cb52601f4b8e>:64} INFO - Clean up CUDA memory\n"
     ]
    },
    {
     "name": "stdout",
     "output_type": "stream",
     "text": [
      "\n"
     ]
    },
    {
     "name": "stderr",
     "output_type": "stream",
     "text": [
      "[2022-12-11 02:17:01,001] {<ipython-input-12-cb52601f4b8e>:36} INFO - Epoch [26]/[120]\n",
      "[2022-12-11 02:17:01,002] {<ipython-input-12-cb52601f4b8e>:39} INFO - LR:\t0.0005\n",
      "[2022-12-11 02:17:01,003] {<ipython-input-12-cb52601f4b8e>:71} INFO - Train loop\n"
     ]
    },
    {
     "data": {
      "application/vnd.jupyter.widget-view+json": {
       "model_id": "e2fedbd4e4fb407385d79c4c0edb84eb",
       "version_major": 2,
       "version_minor": 0
      },
      "text/plain": [
       "HBox(children=(FloatProgress(value=0.0, max=2105.0), HTML(value='')))"
      ]
     },
     "metadata": {},
     "output_type": "display_data"
    },
    {
     "name": "stderr",
     "output_type": "stream",
     "text": [
      "[2022-12-11 02:17:01,186] {<ipython-input-12-cb52601f4b8e>:126} INFO - Iteration [0]/[2105] loss: 1.221127\n",
      "[2022-12-11 02:17:39,807] {<ipython-input-12-cb52601f4b8e>:126} INFO - Iteration [300]/[2105] loss: 1.134898\n",
      "[2022-12-11 02:18:18,664] {<ipython-input-12-cb52601f4b8e>:126} INFO - Iteration [600]/[2105] loss: 1.324447\n",
      "[2022-12-11 02:18:57,701] {<ipython-input-12-cb52601f4b8e>:126} INFO - Iteration [900]/[2105] loss: 1.124670\n",
      "[2022-12-11 02:19:35,963] {<ipython-input-12-cb52601f4b8e>:126} INFO - Iteration [1200]/[2105] loss: 1.018839\n",
      "[2022-12-11 02:20:14,353] {<ipython-input-12-cb52601f4b8e>:126} INFO - Iteration [1500]/[2105] loss: 1.179363\n",
      "[2022-12-11 02:20:53,174] {<ipython-input-12-cb52601f4b8e>:126} INFO - Iteration [1800]/[2105] loss: 1.553538\n",
      "[2022-12-11 02:21:31,417] {<ipython-input-12-cb52601f4b8e>:126} INFO - Iteration [2100]/[2105] loss: 0.904446\n",
      "[2022-12-11 02:21:31,872] {<ipython-input-12-cb52601f4b8e>:130} INFO - Eval loop\n"
     ]
    },
    {
     "name": "stdout",
     "output_type": "stream",
     "text": [
      "\n"
     ]
    },
    {
     "data": {
      "application/vnd.jupyter.widget-view+json": {
       "model_id": "5bcf980dea444a8c85f3e4ed72833862",
       "version_major": 2,
       "version_minor": 0
      },
      "text/plain": [
       "HBox(children=(FloatProgress(value=0.0, max=527.0), HTML(value='')))"
      ]
     },
     "metadata": {},
     "output_type": "display_data"
    },
    {
     "name": "stderr",
     "output_type": "stream",
     "text": [
      "[2022-12-11 02:21:31,933] {<ipython-input-12-cb52601f4b8e>:163} INFO - Iteration [0]/[527] loss: 2.198484\n",
      "[2022-12-11 02:21:45,304] {<ipython-input-12-cb52601f4b8e>:163} INFO - Iteration [300]/[527] loss: 2.244171\n",
      "[2022-12-11 02:21:55,366] {<ipython-input-12-cb52601f4b8e>:57} INFO - Train loss avg:\t1.214319\n",
      "[2022-12-11 02:21:55,366] {<ipython-input-12-cb52601f4b8e>:58} INFO - Eval loss avg:\t2.534755\n",
      "[2022-12-11 02:21:55,367] {<ipython-input-12-cb52601f4b8e>:64} INFO - Clean up CUDA memory\n"
     ]
    },
    {
     "name": "stdout",
     "output_type": "stream",
     "text": [
      "\n"
     ]
    },
    {
     "name": "stderr",
     "output_type": "stream",
     "text": [
      "[2022-12-11 02:21:55,614] {<ipython-input-12-cb52601f4b8e>:36} INFO - Epoch [27]/[120]\n",
      "[2022-12-11 02:21:55,615] {<ipython-input-12-cb52601f4b8e>:39} INFO - LR:\t0.0005\n",
      "[2022-12-11 02:21:55,616] {<ipython-input-12-cb52601f4b8e>:71} INFO - Train loop\n"
     ]
    },
    {
     "data": {
      "application/vnd.jupyter.widget-view+json": {
       "model_id": "2509b22b1c16401d94f932261f970435",
       "version_major": 2,
       "version_minor": 0
      },
      "text/plain": [
       "HBox(children=(FloatProgress(value=0.0, max=2105.0), HTML(value='')))"
      ]
     },
     "metadata": {},
     "output_type": "display_data"
    },
    {
     "name": "stderr",
     "output_type": "stream",
     "text": [
      "[2022-12-11 02:21:55,789] {<ipython-input-12-cb52601f4b8e>:126} INFO - Iteration [0]/[2105] loss: 1.214909\n",
      "[2022-12-11 02:22:34,743] {<ipython-input-12-cb52601f4b8e>:126} INFO - Iteration [300]/[2105] loss: 1.023589\n",
      "[2022-12-11 02:23:13,178] {<ipython-input-12-cb52601f4b8e>:126} INFO - Iteration [600]/[2105] loss: 1.771807\n",
      "[2022-12-11 02:23:52,411] {<ipython-input-12-cb52601f4b8e>:126} INFO - Iteration [900]/[2105] loss: 1.315991\n",
      "[2022-12-11 02:24:30,627] {<ipython-input-12-cb52601f4b8e>:126} INFO - Iteration [1200]/[2105] loss: 1.026558\n",
      "[2022-12-11 02:25:09,576] {<ipython-input-12-cb52601f4b8e>:126} INFO - Iteration [1500]/[2105] loss: 2.045184\n",
      "[2022-12-11 02:25:47,736] {<ipython-input-12-cb52601f4b8e>:126} INFO - Iteration [1800]/[2105] loss: 1.109131\n",
      "[2022-12-11 02:26:25,717] {<ipython-input-12-cb52601f4b8e>:126} INFO - Iteration [2100]/[2105] loss: 1.106838\n",
      "[2022-12-11 02:26:26,153] {<ipython-input-12-cb52601f4b8e>:130} INFO - Eval loop\n"
     ]
    },
    {
     "name": "stdout",
     "output_type": "stream",
     "text": [
      "\n"
     ]
    },
    {
     "data": {
      "application/vnd.jupyter.widget-view+json": {
       "model_id": "96f6e56ea9db4b83a37d7003b998c83b",
       "version_major": 2,
       "version_minor": 0
      },
      "text/plain": [
       "HBox(children=(FloatProgress(value=0.0, max=527.0), HTML(value='')))"
      ]
     },
     "metadata": {},
     "output_type": "display_data"
    },
    {
     "name": "stderr",
     "output_type": "stream",
     "text": [
      "[2022-12-11 02:26:26,221] {<ipython-input-12-cb52601f4b8e>:163} INFO - Iteration [0]/[527] loss: 2.384172\n",
      "[2022-12-11 02:26:39,550] {<ipython-input-12-cb52601f4b8e>:163} INFO - Iteration [300]/[527] loss: 1.920932\n",
      "[2022-12-11 02:26:49,590] {<ipython-input-12-cb52601f4b8e>:57} INFO - Train loss avg:\t1.209727\n",
      "[2022-12-11 02:26:49,591] {<ipython-input-12-cb52601f4b8e>:58} INFO - Eval loss avg:\t2.521017\n",
      "[2022-12-11 02:26:49,591] {<ipython-input-12-cb52601f4b8e>:64} INFO - Clean up CUDA memory\n",
      "[2022-12-11 02:26:49,832] {<ipython-input-12-cb52601f4b8e>:36} INFO - Epoch [28]/[120]\n"
     ]
    },
    {
     "name": "stdout",
     "output_type": "stream",
     "text": [
      "\n"
     ]
    },
    {
     "name": "stderr",
     "output_type": "stream",
     "text": [
      "[2022-12-11 02:26:49,833] {<ipython-input-12-cb52601f4b8e>:39} INFO - LR:\t0.0005\n",
      "[2022-12-11 02:26:49,834] {<ipython-input-12-cb52601f4b8e>:71} INFO - Train loop\n"
     ]
    },
    {
     "data": {
      "application/vnd.jupyter.widget-view+json": {
       "model_id": "eaa8a3d041004b42a0e21b03c688f171",
       "version_major": 2,
       "version_minor": 0
      },
      "text/plain": [
       "HBox(children=(FloatProgress(value=0.0, max=2105.0), HTML(value='')))"
      ]
     },
     "metadata": {},
     "output_type": "display_data"
    },
    {
     "name": "stderr",
     "output_type": "stream",
     "text": [
      "[2022-12-11 02:26:50,011] {<ipython-input-12-cb52601f4b8e>:126} INFO - Iteration [0]/[2105] loss: 0.961452\n",
      "[2022-12-11 02:27:28,550] {<ipython-input-12-cb52601f4b8e>:126} INFO - Iteration [300]/[2105] loss: 0.952461\n",
      "[2022-12-11 02:28:07,368] {<ipython-input-12-cb52601f4b8e>:126} INFO - Iteration [600]/[2105] loss: 1.251218\n",
      "[2022-12-11 02:28:46,150] {<ipython-input-12-cb52601f4b8e>:126} INFO - Iteration [900]/[2105] loss: 1.234565\n",
      "[2022-12-11 02:29:26,319] {<ipython-input-12-cb52601f4b8e>:126} INFO - Iteration [1200]/[2105] loss: 1.039017\n",
      "[2022-12-11 02:30:05,374] {<ipython-input-12-cb52601f4b8e>:126} INFO - Iteration [1500]/[2105] loss: 1.110227\n",
      "[2022-12-11 02:30:45,527] {<ipython-input-12-cb52601f4b8e>:126} INFO - Iteration [1800]/[2105] loss: 1.078489\n",
      "[2022-12-11 02:31:24,621] {<ipython-input-12-cb52601f4b8e>:126} INFO - Iteration [2100]/[2105] loss: 1.022344\n",
      "[2022-12-11 02:31:25,052] {<ipython-input-12-cb52601f4b8e>:130} INFO - Eval loop\n"
     ]
    },
    {
     "name": "stdout",
     "output_type": "stream",
     "text": [
      "\n"
     ]
    },
    {
     "data": {
      "application/vnd.jupyter.widget-view+json": {
       "model_id": "a58619f4204a405b84b4ff4acabb3d02",
       "version_major": 2,
       "version_minor": 0
      },
      "text/plain": [
       "HBox(children=(FloatProgress(value=0.0, max=527.0), HTML(value='')))"
      ]
     },
     "metadata": {},
     "output_type": "display_data"
    },
    {
     "name": "stderr",
     "output_type": "stream",
     "text": [
      "[2022-12-11 02:31:25,108] {<ipython-input-12-cb52601f4b8e>:163} INFO - Iteration [0]/[527] loss: 2.313233\n",
      "[2022-12-11 02:31:38,805] {<ipython-input-12-cb52601f4b8e>:163} INFO - Iteration [300]/[527] loss: 2.089813\n",
      "[2022-12-11 02:31:49,116] {<ipython-input-12-cb52601f4b8e>:57} INFO - Train loss avg:\t1.190095\n",
      "[2022-12-11 02:31:49,116] {<ipython-input-12-cb52601f4b8e>:58} INFO - Eval loss avg:\t2.510765\n",
      "[2022-12-11 02:31:49,117] {<ipython-input-12-cb52601f4b8e>:64} INFO - Clean up CUDA memory\n",
      "[2022-12-11 02:31:49,359] {<ipython-input-12-cb52601f4b8e>:36} INFO - Epoch [29]/[120]\n"
     ]
    },
    {
     "name": "stdout",
     "output_type": "stream",
     "text": [
      "\n"
     ]
    },
    {
     "name": "stderr",
     "output_type": "stream",
     "text": [
      "[2022-12-11 02:31:49,360] {<ipython-input-12-cb52601f4b8e>:39} INFO - LR:\t0.0005\n",
      "[2022-12-11 02:31:49,361] {<ipython-input-12-cb52601f4b8e>:71} INFO - Train loop\n"
     ]
    },
    {
     "data": {
      "application/vnd.jupyter.widget-view+json": {
       "model_id": "b1dcadccd3d24fc5ae0d41c71f07d277",
       "version_major": 2,
       "version_minor": 0
      },
      "text/plain": [
       "HBox(children=(FloatProgress(value=0.0, max=2105.0), HTML(value='')))"
      ]
     },
     "metadata": {},
     "output_type": "display_data"
    },
    {
     "name": "stderr",
     "output_type": "stream",
     "text": [
      "[2022-12-11 02:31:49,516] {<ipython-input-12-cb52601f4b8e>:126} INFO - Iteration [0]/[2105] loss: 1.194464\n",
      "[2022-12-11 02:32:28,952] {<ipython-input-12-cb52601f4b8e>:126} INFO - Iteration [300]/[2105] loss: 1.371180\n",
      "[2022-12-11 02:33:08,404] {<ipython-input-12-cb52601f4b8e>:126} INFO - Iteration [600]/[2105] loss: 0.901806\n",
      "[2022-12-11 02:33:47,990] {<ipython-input-12-cb52601f4b8e>:126} INFO - Iteration [900]/[2105] loss: 2.117800\n",
      "[2022-12-11 02:34:27,670] {<ipython-input-12-cb52601f4b8e>:126} INFO - Iteration [1200]/[2105] loss: 1.145003\n",
      "[2022-12-11 02:35:06,313] {<ipython-input-12-cb52601f4b8e>:126} INFO - Iteration [1500]/[2105] loss: 1.271375\n",
      "[2022-12-11 02:35:45,440] {<ipython-input-12-cb52601f4b8e>:126} INFO - Iteration [1800]/[2105] loss: 0.824311\n",
      "[2022-12-11 02:36:25,575] {<ipython-input-12-cb52601f4b8e>:126} INFO - Iteration [2100]/[2105] loss: 1.524685\n",
      "[2022-12-11 02:36:26,009] {<ipython-input-12-cb52601f4b8e>:130} INFO - Eval loop\n"
     ]
    },
    {
     "name": "stdout",
     "output_type": "stream",
     "text": [
      "\n"
     ]
    },
    {
     "data": {
      "application/vnd.jupyter.widget-view+json": {
       "model_id": "3c8493a4c9b1446683695608c680f5e0",
       "version_major": 2,
       "version_minor": 0
      },
      "text/plain": [
       "HBox(children=(FloatProgress(value=0.0, max=527.0), HTML(value='')))"
      ]
     },
     "metadata": {},
     "output_type": "display_data"
    },
    {
     "name": "stderr",
     "output_type": "stream",
     "text": [
      "[2022-12-11 02:36:26,067] {<ipython-input-12-cb52601f4b8e>:163} INFO - Iteration [0]/[527] loss: 2.231961\n",
      "[2022-12-11 02:36:39,789] {<ipython-input-12-cb52601f4b8e>:163} INFO - Iteration [300]/[527] loss: 2.160766\n",
      "[2022-12-11 02:36:50,119] {<ipython-input-12-cb52601f4b8e>:57} INFO - Train loss avg:\t1.179819\n",
      "[2022-12-11 02:36:50,120] {<ipython-input-12-cb52601f4b8e>:58} INFO - Eval loss avg:\t2.509428\n",
      "[2022-12-11 02:36:50,120] {<ipython-input-12-cb52601f4b8e>:64} INFO - Clean up CUDA memory\n"
     ]
    },
    {
     "name": "stdout",
     "output_type": "stream",
     "text": [
      "\n"
     ]
    },
    {
     "name": "stderr",
     "output_type": "stream",
     "text": [
      "[2022-12-11 02:36:50,361] {<ipython-input-12-cb52601f4b8e>:36} INFO - Epoch [30]/[120]\n",
      "[2022-12-11 02:36:50,362] {<ipython-input-12-cb52601f4b8e>:39} INFO - LR:\t0.0005\n",
      "[2022-12-11 02:36:50,363] {<ipython-input-12-cb52601f4b8e>:71} INFO - Train loop\n"
     ]
    },
    {
     "data": {
      "application/vnd.jupyter.widget-view+json": {
       "model_id": "b8a4f84c11774609894cbba8ad0b07cb",
       "version_major": 2,
       "version_minor": 0
      },
      "text/plain": [
       "HBox(children=(FloatProgress(value=0.0, max=2105.0), HTML(value='')))"
      ]
     },
     "metadata": {},
     "output_type": "display_data"
    },
    {
     "name": "stderr",
     "output_type": "stream",
     "text": [
      "[2022-12-11 02:36:50,523] {<ipython-input-12-cb52601f4b8e>:126} INFO - Iteration [0]/[2105] loss: 1.258651\n",
      "[2022-12-11 02:37:29,016] {<ipython-input-12-cb52601f4b8e>:126} INFO - Iteration [300]/[2105] loss: 0.975133\n",
      "[2022-12-11 02:38:07,881] {<ipython-input-12-cb52601f4b8e>:126} INFO - Iteration [600]/[2105] loss: 1.070796\n",
      "[2022-12-11 02:38:46,276] {<ipython-input-12-cb52601f4b8e>:126} INFO - Iteration [900]/[2105] loss: 1.329112\n",
      "[2022-12-11 02:39:26,619] {<ipython-input-12-cb52601f4b8e>:126} INFO - Iteration [1200]/[2105] loss: 0.838974\n",
      "[2022-12-11 02:40:06,451] {<ipython-input-12-cb52601f4b8e>:126} INFO - Iteration [1500]/[2105] loss: 1.109718\n",
      "[2022-12-11 02:40:45,269] {<ipython-input-12-cb52601f4b8e>:126} INFO - Iteration [1800]/[2105] loss: 1.344778\n",
      "[2022-12-11 02:41:24,682] {<ipython-input-12-cb52601f4b8e>:126} INFO - Iteration [2100]/[2105] loss: 1.005185\n",
      "[2022-12-11 02:41:25,126] {<ipython-input-12-cb52601f4b8e>:130} INFO - Eval loop\n"
     ]
    },
    {
     "name": "stdout",
     "output_type": "stream",
     "text": [
      "\n"
     ]
    },
    {
     "data": {
      "application/vnd.jupyter.widget-view+json": {
       "model_id": "c454466d28404419abe42dfe922ae594",
       "version_major": 2,
       "version_minor": 0
      },
      "text/plain": [
       "HBox(children=(FloatProgress(value=0.0, max=527.0), HTML(value='')))"
      ]
     },
     "metadata": {},
     "output_type": "display_data"
    },
    {
     "name": "stderr",
     "output_type": "stream",
     "text": [
      "[2022-12-11 02:41:25,188] {<ipython-input-12-cb52601f4b8e>:163} INFO - Iteration [0]/[527] loss: 2.439821\n",
      "[2022-12-11 02:41:38,744] {<ipython-input-12-cb52601f4b8e>:163} INFO - Iteration [300]/[527] loss: 2.196458\n",
      "[2022-12-11 02:41:48,948] {<ipython-input-12-cb52601f4b8e>:57} INFO - Train loss avg:\t1.178923\n",
      "[2022-12-11 02:41:48,949] {<ipython-input-12-cb52601f4b8e>:58} INFO - Eval loss avg:\t2.518382\n",
      "[2022-12-11 02:41:48,950] {<ipython-input-12-cb52601f4b8e>:64} INFO - Clean up CUDA memory\n"
     ]
    },
    {
     "name": "stdout",
     "output_type": "stream",
     "text": [
      "\n"
     ]
    },
    {
     "name": "stderr",
     "output_type": "stream",
     "text": [
      "[2022-12-11 02:41:49,192] {<ipython-input-12-cb52601f4b8e>:36} INFO - Epoch [31]/[120]\n",
      "[2022-12-11 02:41:49,192] {<ipython-input-12-cb52601f4b8e>:39} INFO - LR:\t0.0005\n",
      "[2022-12-11 02:41:49,193] {<ipython-input-12-cb52601f4b8e>:71} INFO - Train loop\n"
     ]
    },
    {
     "data": {
      "application/vnd.jupyter.widget-view+json": {
       "model_id": "a2fb3ae79189496ba78c7c6567b2e326",
       "version_major": 2,
       "version_minor": 0
      },
      "text/plain": [
       "HBox(children=(FloatProgress(value=0.0, max=2105.0), HTML(value='')))"
      ]
     },
     "metadata": {},
     "output_type": "display_data"
    },
    {
     "name": "stderr",
     "output_type": "stream",
     "text": [
      "[2022-12-11 02:41:49,363] {<ipython-input-12-cb52601f4b8e>:126} INFO - Iteration [0]/[2105] loss: 1.100664\n",
      "[2022-12-11 02:42:28,792] {<ipython-input-12-cb52601f4b8e>:126} INFO - Iteration [300]/[2105] loss: 1.316537\n",
      "[2022-12-11 02:43:08,599] {<ipython-input-12-cb52601f4b8e>:126} INFO - Iteration [600]/[2105] loss: 1.178751\n",
      "[2022-12-11 02:43:47,845] {<ipython-input-12-cb52601f4b8e>:126} INFO - Iteration [900]/[2105] loss: 0.943753\n",
      "[2022-12-11 02:44:26,752] {<ipython-input-12-cb52601f4b8e>:126} INFO - Iteration [1200]/[2105] loss: 1.119825\n",
      "[2022-12-11 02:45:05,044] {<ipython-input-12-cb52601f4b8e>:126} INFO - Iteration [1500]/[2105] loss: 1.207433\n",
      "[2022-12-11 02:45:43,884] {<ipython-input-12-cb52601f4b8e>:126} INFO - Iteration [1800]/[2105] loss: 1.077482\n",
      "[2022-12-11 02:46:22,902] {<ipython-input-12-cb52601f4b8e>:126} INFO - Iteration [2100]/[2105] loss: 1.125081\n",
      "[2022-12-11 02:46:23,362] {<ipython-input-12-cb52601f4b8e>:130} INFO - Eval loop\n"
     ]
    },
    {
     "name": "stdout",
     "output_type": "stream",
     "text": [
      "\n"
     ]
    },
    {
     "data": {
      "application/vnd.jupyter.widget-view+json": {
       "model_id": "ba18fadb700c47988e84e8c67cbf70dc",
       "version_major": 2,
       "version_minor": 0
      },
      "text/plain": [
       "HBox(children=(FloatProgress(value=0.0, max=527.0), HTML(value='')))"
      ]
     },
     "metadata": {},
     "output_type": "display_data"
    },
    {
     "name": "stderr",
     "output_type": "stream",
     "text": [
      "[2022-12-11 02:46:23,424] {<ipython-input-12-cb52601f4b8e>:163} INFO - Iteration [0]/[527] loss: 2.174633\n",
      "[2022-12-11 02:46:36,929] {<ipython-input-12-cb52601f4b8e>:163} INFO - Iteration [300]/[527] loss: 2.304495\n",
      "[2022-12-11 02:46:47,081] {<ipython-input-12-cb52601f4b8e>:57} INFO - Train loss avg:\t1.156124\n",
      "[2022-12-11 02:46:47,082] {<ipython-input-12-cb52601f4b8e>:58} INFO - Eval loss avg:\t2.525763\n",
      "[2022-12-11 02:46:47,083] {<ipython-input-12-cb52601f4b8e>:64} INFO - Clean up CUDA memory\n",
      "[2022-12-11 02:46:47,323] {<ipython-input-12-cb52601f4b8e>:36} INFO - Epoch [32]/[120]\n"
     ]
    },
    {
     "name": "stdout",
     "output_type": "stream",
     "text": [
      "\n"
     ]
    },
    {
     "name": "stderr",
     "output_type": "stream",
     "text": [
      "[2022-12-11 02:46:47,324] {<ipython-input-12-cb52601f4b8e>:39} INFO - LR:\t0.00025\n",
      "[2022-12-11 02:46:47,325] {<ipython-input-12-cb52601f4b8e>:71} INFO - Train loop\n"
     ]
    },
    {
     "data": {
      "application/vnd.jupyter.widget-view+json": {
       "model_id": "de9f8c76a41d42e59946f612929b5d55",
       "version_major": 2,
       "version_minor": 0
      },
      "text/plain": [
       "HBox(children=(FloatProgress(value=0.0, max=2105.0), HTML(value='')))"
      ]
     },
     "metadata": {},
     "output_type": "display_data"
    },
    {
     "name": "stderr",
     "output_type": "stream",
     "text": [
      "[2022-12-11 02:46:47,484] {<ipython-input-12-cb52601f4b8e>:126} INFO - Iteration [0]/[2105] loss: 1.369716\n",
      "[2022-12-11 02:47:26,497] {<ipython-input-12-cb52601f4b8e>:126} INFO - Iteration [300]/[2105] loss: 0.850731\n",
      "[2022-12-11 02:48:05,906] {<ipython-input-12-cb52601f4b8e>:126} INFO - Iteration [600]/[2105] loss: 0.881116\n",
      "[2022-12-11 02:48:44,696] {<ipython-input-12-cb52601f4b8e>:126} INFO - Iteration [900]/[2105] loss: 1.515387\n",
      "[2022-12-11 02:49:23,705] {<ipython-input-12-cb52601f4b8e>:126} INFO - Iteration [1200]/[2105] loss: 0.995029\n",
      "[2022-12-11 02:50:02,379] {<ipython-input-12-cb52601f4b8e>:126} INFO - Iteration [1500]/[2105] loss: 1.227572\n",
      "[2022-12-11 02:50:41,598] {<ipython-input-12-cb52601f4b8e>:126} INFO - Iteration [1800]/[2105] loss: 0.908654\n",
      "[2022-12-11 02:51:20,413] {<ipython-input-12-cb52601f4b8e>:126} INFO - Iteration [2100]/[2105] loss: 1.076188\n",
      "[2022-12-11 02:51:20,877] {<ipython-input-12-cb52601f4b8e>:130} INFO - Eval loop\n"
     ]
    },
    {
     "name": "stdout",
     "output_type": "stream",
     "text": [
      "\n"
     ]
    },
    {
     "data": {
      "application/vnd.jupyter.widget-view+json": {
       "model_id": "0b065b33f105453aad15ab6c036661df",
       "version_major": 2,
       "version_minor": 0
      },
      "text/plain": [
       "HBox(children=(FloatProgress(value=0.0, max=527.0), HTML(value='')))"
      ]
     },
     "metadata": {},
     "output_type": "display_data"
    },
    {
     "name": "stderr",
     "output_type": "stream",
     "text": [
      "[2022-12-11 02:51:20,940] {<ipython-input-12-cb52601f4b8e>:163} INFO - Iteration [0]/[527] loss: 2.310749\n",
      "[2022-12-11 02:51:34,520] {<ipython-input-12-cb52601f4b8e>:163} INFO - Iteration [300]/[527] loss: 2.399183\n",
      "[2022-12-11 02:51:44,612] {<ipython-input-12-cb52601f4b8e>:57} INFO - Train loss avg:\t1.115527\n",
      "[2022-12-11 02:51:44,613] {<ipython-input-12-cb52601f4b8e>:58} INFO - Eval loss avg:\t2.498418\n",
      "[2022-12-11 02:51:44,614] {<ipython-input-12-cb52601f4b8e>:64} INFO - Clean up CUDA memory\n",
      "[2022-12-11 02:51:44,857] {<ipython-input-12-cb52601f4b8e>:36} INFO - Epoch [33]/[120]\n"
     ]
    },
    {
     "name": "stdout",
     "output_type": "stream",
     "text": [
      "\n"
     ]
    },
    {
     "name": "stderr",
     "output_type": "stream",
     "text": [
      "[2022-12-11 02:51:44,858] {<ipython-input-12-cb52601f4b8e>:39} INFO - LR:\t0.00025\n",
      "[2022-12-11 02:51:44,858] {<ipython-input-12-cb52601f4b8e>:71} INFO - Train loop\n"
     ]
    },
    {
     "data": {
      "application/vnd.jupyter.widget-view+json": {
       "model_id": "d0288636ee1947ccb61426f38c17ab07",
       "version_major": 2,
       "version_minor": 0
      },
      "text/plain": [
       "HBox(children=(FloatProgress(value=0.0, max=2105.0), HTML(value='')))"
      ]
     },
     "metadata": {},
     "output_type": "display_data"
    },
    {
     "name": "stderr",
     "output_type": "stream",
     "text": [
      "[2022-12-11 02:51:45,046] {<ipython-input-12-cb52601f4b8e>:126} INFO - Iteration [0]/[2105] loss: 1.096483\n",
      "[2022-12-11 02:52:23,605] {<ipython-input-12-cb52601f4b8e>:126} INFO - Iteration [300]/[2105] loss: 1.062133\n",
      "[2022-12-11 02:53:02,282] {<ipython-input-12-cb52601f4b8e>:126} INFO - Iteration [600]/[2105] loss: 1.307291\n",
      "[2022-12-11 02:53:41,393] {<ipython-input-12-cb52601f4b8e>:126} INFO - Iteration [900]/[2105] loss: 0.795664\n",
      "[2022-12-11 02:54:20,266] {<ipython-input-12-cb52601f4b8e>:126} INFO - Iteration [1200]/[2105] loss: 0.918048\n",
      "[2022-12-11 02:54:59,345] {<ipython-input-12-cb52601f4b8e>:126} INFO - Iteration [1500]/[2105] loss: 1.017310\n",
      "[2022-12-11 02:55:38,237] {<ipython-input-12-cb52601f4b8e>:126} INFO - Iteration [1800]/[2105] loss: 0.972098\n",
      "[2022-12-11 02:56:16,477] {<ipython-input-12-cb52601f4b8e>:126} INFO - Iteration [2100]/[2105] loss: 1.058026\n",
      "[2022-12-11 02:56:17,049] {<ipython-input-12-cb52601f4b8e>:130} INFO - Eval loop\n"
     ]
    },
    {
     "name": "stdout",
     "output_type": "stream",
     "text": [
      "\n"
     ]
    },
    {
     "data": {
      "application/vnd.jupyter.widget-view+json": {
       "model_id": "a062c6b9c3c546d683d0fc73dacdc85a",
       "version_major": 2,
       "version_minor": 0
      },
      "text/plain": [
       "HBox(children=(FloatProgress(value=0.0, max=527.0), HTML(value='')))"
      ]
     },
     "metadata": {},
     "output_type": "display_data"
    },
    {
     "name": "stderr",
     "output_type": "stream",
     "text": [
      "[2022-12-11 02:56:17,107] {<ipython-input-12-cb52601f4b8e>:163} INFO - Iteration [0]/[527] loss: 2.417027\n",
      "[2022-12-11 02:56:30,641] {<ipython-input-12-cb52601f4b8e>:163} INFO - Iteration [300]/[527] loss: 2.237812\n",
      "[2022-12-11 02:56:40,773] {<ipython-input-12-cb52601f4b8e>:57} INFO - Train loss avg:\t1.085605\n",
      "[2022-12-11 02:56:40,774] {<ipython-input-12-cb52601f4b8e>:58} INFO - Eval loss avg:\t2.532780\n",
      "[2022-12-11 02:56:40,775] {<ipython-input-12-cb52601f4b8e>:64} INFO - Clean up CUDA memory\n",
      "[2022-12-11 02:56:41,018] {<ipython-input-12-cb52601f4b8e>:36} INFO - Epoch [34]/[120]\n"
     ]
    },
    {
     "name": "stdout",
     "output_type": "stream",
     "text": [
      "\n"
     ]
    },
    {
     "name": "stderr",
     "output_type": "stream",
     "text": [
      "[2022-12-11 02:56:41,019] {<ipython-input-12-cb52601f4b8e>:39} INFO - LR:\t0.00025\n",
      "[2022-12-11 02:56:41,020] {<ipython-input-12-cb52601f4b8e>:71} INFO - Train loop\n"
     ]
    },
    {
     "data": {
      "application/vnd.jupyter.widget-view+json": {
       "model_id": "1302d75e8fc542d880e00fa29185b80a",
       "version_major": 2,
       "version_minor": 0
      },
      "text/plain": [
       "HBox(children=(FloatProgress(value=0.0, max=2105.0), HTML(value='')))"
      ]
     },
     "metadata": {},
     "output_type": "display_data"
    },
    {
     "name": "stderr",
     "output_type": "stream",
     "text": [
      "[2022-12-11 02:56:41,192] {<ipython-input-12-cb52601f4b8e>:126} INFO - Iteration [0]/[2105] loss: 1.099561\n",
      "[2022-12-11 02:57:21,144] {<ipython-input-12-cb52601f4b8e>:126} INFO - Iteration [300]/[2105] loss: 1.341960\n",
      "[2022-12-11 02:58:01,023] {<ipython-input-12-cb52601f4b8e>:126} INFO - Iteration [600]/[2105] loss: 1.008870\n",
      "[2022-12-11 02:58:40,435] {<ipython-input-12-cb52601f4b8e>:126} INFO - Iteration [900]/[2105] loss: 0.842831\n",
      "[2022-12-11 02:59:19,008] {<ipython-input-12-cb52601f4b8e>:126} INFO - Iteration [1200]/[2105] loss: 0.718769\n",
      "[2022-12-11 02:59:57,644] {<ipython-input-12-cb52601f4b8e>:126} INFO - Iteration [1500]/[2105] loss: 1.198136\n",
      "[2022-12-11 03:00:35,993] {<ipython-input-12-cb52601f4b8e>:126} INFO - Iteration [1800]/[2105] loss: 1.076077\n",
      "[2022-12-11 03:01:17,876] {<ipython-input-12-cb52601f4b8e>:126} INFO - Iteration [2100]/[2105] loss: 0.897407\n",
      "[2022-12-11 03:01:18,366] {<ipython-input-12-cb52601f4b8e>:130} INFO - Eval loop\n"
     ]
    },
    {
     "name": "stdout",
     "output_type": "stream",
     "text": [
      "\n"
     ]
    },
    {
     "data": {
      "application/vnd.jupyter.widget-view+json": {
       "model_id": "7389e24ea35e4b0c951df3a628411246",
       "version_major": 2,
       "version_minor": 0
      },
      "text/plain": [
       "HBox(children=(FloatProgress(value=0.0, max=527.0), HTML(value='')))"
      ]
     },
     "metadata": {},
     "output_type": "display_data"
    },
    {
     "name": "stderr",
     "output_type": "stream",
     "text": [
      "[2022-12-11 03:01:18,428] {<ipython-input-12-cb52601f4b8e>:163} INFO - Iteration [0]/[527] loss: 2.384375\n",
      "[2022-12-11 03:01:32,174] {<ipython-input-12-cb52601f4b8e>:163} INFO - Iteration [300]/[527] loss: 2.272335\n",
      "[2022-12-11 03:01:42,533] {<ipython-input-12-cb52601f4b8e>:57} INFO - Train loss avg:\t1.075272\n",
      "[2022-12-11 03:01:42,534] {<ipython-input-12-cb52601f4b8e>:58} INFO - Eval loss avg:\t2.515766\n",
      "[2022-12-11 03:01:42,534] {<ipython-input-12-cb52601f4b8e>:64} INFO - Clean up CUDA memory\n"
     ]
    },
    {
     "name": "stdout",
     "output_type": "stream",
     "text": [
      "\n"
     ]
    },
    {
     "name": "stderr",
     "output_type": "stream",
     "text": [
      "[2022-12-11 03:01:42,777] {<ipython-input-12-cb52601f4b8e>:36} INFO - Epoch [35]/[120]\n",
      "[2022-12-11 03:01:42,778] {<ipython-input-12-cb52601f4b8e>:39} INFO - LR:\t0.00025\n",
      "[2022-12-11 03:01:42,779] {<ipython-input-12-cb52601f4b8e>:71} INFO - Train loop\n"
     ]
    },
    {
     "data": {
      "application/vnd.jupyter.widget-view+json": {
       "model_id": "53ff9a6d912a40a69ffd0967950e15c9",
       "version_major": 2,
       "version_minor": 0
      },
      "text/plain": [
       "HBox(children=(FloatProgress(value=0.0, max=2105.0), HTML(value='')))"
      ]
     },
     "metadata": {},
     "output_type": "display_data"
    },
    {
     "name": "stderr",
     "output_type": "stream",
     "text": [
      "[2022-12-11 03:01:42,950] {<ipython-input-12-cb52601f4b8e>:126} INFO - Iteration [0]/[2105] loss: 1.143128\n",
      "[2022-12-11 03:02:21,480] {<ipython-input-12-cb52601f4b8e>:126} INFO - Iteration [300]/[2105] loss: 1.704893\n",
      "[2022-12-11 03:02:59,931] {<ipython-input-12-cb52601f4b8e>:126} INFO - Iteration [600]/[2105] loss: 1.243430\n",
      "[2022-12-11 03:03:38,682] {<ipython-input-12-cb52601f4b8e>:126} INFO - Iteration [900]/[2105] loss: 0.950005\n",
      "[2022-12-11 03:04:17,082] {<ipython-input-12-cb52601f4b8e>:126} INFO - Iteration [1200]/[2105] loss: 0.914022\n",
      "[2022-12-11 03:04:55,743] {<ipython-input-12-cb52601f4b8e>:126} INFO - Iteration [1500]/[2105] loss: 0.958161\n",
      "[2022-12-11 03:05:34,908] {<ipython-input-12-cb52601f4b8e>:126} INFO - Iteration [1800]/[2105] loss: 1.035799\n",
      "[2022-12-11 03:06:13,984] {<ipython-input-12-cb52601f4b8e>:126} INFO - Iteration [2100]/[2105] loss: 0.788241\n",
      "[2022-12-11 03:06:14,437] {<ipython-input-12-cb52601f4b8e>:130} INFO - Eval loop\n"
     ]
    },
    {
     "name": "stdout",
     "output_type": "stream",
     "text": [
      "\n"
     ]
    },
    {
     "data": {
      "application/vnd.jupyter.widget-view+json": {
       "model_id": "53cdb9311e9c44d2809e81dd42c6d3a9",
       "version_major": 2,
       "version_minor": 0
      },
      "text/plain": [
       "HBox(children=(FloatProgress(value=0.0, max=527.0), HTML(value='')))"
      ]
     },
     "metadata": {},
     "output_type": "display_data"
    },
    {
     "name": "stderr",
     "output_type": "stream",
     "text": [
      "[2022-12-11 03:06:14,492] {<ipython-input-12-cb52601f4b8e>:163} INFO - Iteration [0]/[527] loss: 2.314013\n",
      "[2022-12-11 03:06:27,920] {<ipython-input-12-cb52601f4b8e>:163} INFO - Iteration [300]/[527] loss: 2.386725\n",
      "[2022-12-11 03:06:38,021] {<ipython-input-12-cb52601f4b8e>:57} INFO - Train loss avg:\t1.068823\n",
      "[2022-12-11 03:06:38,021] {<ipython-input-12-cb52601f4b8e>:58} INFO - Eval loss avg:\t2.500584\n",
      "[2022-12-11 03:06:38,022] {<ipython-input-12-cb52601f4b8e>:64} INFO - Clean up CUDA memory\n",
      "[2022-12-11 03:06:38,265] {<ipython-input-12-cb52601f4b8e>:36} INFO - Epoch [36]/[120]\n"
     ]
    },
    {
     "name": "stdout",
     "output_type": "stream",
     "text": [
      "\n"
     ]
    },
    {
     "name": "stderr",
     "output_type": "stream",
     "text": [
      "[2022-12-11 03:06:38,266] {<ipython-input-12-cb52601f4b8e>:39} INFO - LR:\t0.00025\n",
      "[2022-12-11 03:06:38,267] {<ipython-input-12-cb52601f4b8e>:71} INFO - Train loop\n"
     ]
    },
    {
     "data": {
      "application/vnd.jupyter.widget-view+json": {
       "model_id": "f8e05a419bb74b35969ed54e5394561f",
       "version_major": 2,
       "version_minor": 0
      },
      "text/plain": [
       "HBox(children=(FloatProgress(value=0.0, max=2105.0), HTML(value='')))"
      ]
     },
     "metadata": {},
     "output_type": "display_data"
    },
    {
     "name": "stderr",
     "output_type": "stream",
     "text": [
      "[2022-12-11 03:06:38,427] {<ipython-input-12-cb52601f4b8e>:126} INFO - Iteration [0]/[2105] loss: 1.180187\n",
      "[2022-12-11 03:07:17,169] {<ipython-input-12-cb52601f4b8e>:126} INFO - Iteration [300]/[2105] loss: 2.045402\n",
      "[2022-12-11 03:07:56,132] {<ipython-input-12-cb52601f4b8e>:126} INFO - Iteration [600]/[2105] loss: 0.859085\n",
      "[2022-12-11 03:08:34,872] {<ipython-input-12-cb52601f4b8e>:126} INFO - Iteration [900]/[2105] loss: 1.724094\n",
      "[2022-12-11 03:09:13,229] {<ipython-input-12-cb52601f4b8e>:126} INFO - Iteration [1200]/[2105] loss: 0.984858\n",
      "[2022-12-11 03:09:52,045] {<ipython-input-12-cb52601f4b8e>:126} INFO - Iteration [1500]/[2105] loss: 1.020006\n",
      "[2022-12-11 03:10:30,636] {<ipython-input-12-cb52601f4b8e>:126} INFO - Iteration [1800]/[2105] loss: 0.935948\n",
      "[2022-12-11 03:11:09,857] {<ipython-input-12-cb52601f4b8e>:126} INFO - Iteration [2100]/[2105] loss: 1.083635\n",
      "[2022-12-11 03:11:10,367] {<ipython-input-12-cb52601f4b8e>:130} INFO - Eval loop\n"
     ]
    },
    {
     "name": "stdout",
     "output_type": "stream",
     "text": [
      "\n"
     ]
    },
    {
     "data": {
      "application/vnd.jupyter.widget-view+json": {
       "model_id": "219fdd4d6d70468584a7ab583f0a6ea3",
       "version_major": 2,
       "version_minor": 0
      },
      "text/plain": [
       "HBox(children=(FloatProgress(value=0.0, max=527.0), HTML(value='')))"
      ]
     },
     "metadata": {},
     "output_type": "display_data"
    },
    {
     "name": "stderr",
     "output_type": "stream",
     "text": [
      "[2022-12-11 03:11:10,423] {<ipython-input-12-cb52601f4b8e>:163} INFO - Iteration [0]/[527] loss: 2.277663\n",
      "[2022-12-11 03:11:23,841] {<ipython-input-12-cb52601f4b8e>:163} INFO - Iteration [300]/[527] loss: 2.438953\n",
      "[2022-12-11 03:11:33,944] {<ipython-input-12-cb52601f4b8e>:57} INFO - Train loss avg:\t1.051339\n",
      "[2022-12-11 03:11:33,945] {<ipython-input-12-cb52601f4b8e>:58} INFO - Eval loss avg:\t2.536807\n",
      "[2022-12-11 03:11:33,946] {<ipython-input-12-cb52601f4b8e>:64} INFO - Clean up CUDA memory\n",
      "[2022-12-11 03:11:34,189] {<ipython-input-12-cb52601f4b8e>:36} INFO - Epoch [37]/[120]\n"
     ]
    },
    {
     "name": "stdout",
     "output_type": "stream",
     "text": [
      "\n"
     ]
    },
    {
     "name": "stderr",
     "output_type": "stream",
     "text": [
      "[2022-12-11 03:11:34,190] {<ipython-input-12-cb52601f4b8e>:39} INFO - LR:\t0.00025\n",
      "[2022-12-11 03:11:34,190] {<ipython-input-12-cb52601f4b8e>:71} INFO - Train loop\n"
     ]
    },
    {
     "data": {
      "application/vnd.jupyter.widget-view+json": {
       "model_id": "07a910be112b475197c5cba4b6287c92",
       "version_major": 2,
       "version_minor": 0
      },
      "text/plain": [
       "HBox(children=(FloatProgress(value=0.0, max=2105.0), HTML(value='')))"
      ]
     },
     "metadata": {},
     "output_type": "display_data"
    },
    {
     "name": "stderr",
     "output_type": "stream",
     "text": [
      "[2022-12-11 03:11:34,353] {<ipython-input-12-cb52601f4b8e>:126} INFO - Iteration [0]/[2105] loss: 0.982799\n",
      "[2022-12-11 03:12:13,045] {<ipython-input-12-cb52601f4b8e>:126} INFO - Iteration [300]/[2105] loss: 1.040510\n",
      "[2022-12-11 03:12:51,764] {<ipython-input-12-cb52601f4b8e>:126} INFO - Iteration [600]/[2105] loss: 0.903453\n",
      "[2022-12-11 03:13:30,638] {<ipython-input-12-cb52601f4b8e>:126} INFO - Iteration [900]/[2105] loss: 1.119650\n",
      "[2022-12-11 03:14:09,759] {<ipython-input-12-cb52601f4b8e>:126} INFO - Iteration [1200]/[2105] loss: 0.883465\n",
      "[2022-12-11 03:14:47,890] {<ipython-input-12-cb52601f4b8e>:126} INFO - Iteration [1500]/[2105] loss: 1.224280\n",
      "[2022-12-11 03:15:26,705] {<ipython-input-12-cb52601f4b8e>:126} INFO - Iteration [1800]/[2105] loss: 1.202092\n",
      "[2022-12-11 03:16:05,177] {<ipython-input-12-cb52601f4b8e>:126} INFO - Iteration [2100]/[2105] loss: 1.134017\n",
      "[2022-12-11 03:16:05,585] {<ipython-input-12-cb52601f4b8e>:130} INFO - Eval loop\n"
     ]
    },
    {
     "name": "stdout",
     "output_type": "stream",
     "text": [
      "\n"
     ]
    },
    {
     "data": {
      "application/vnd.jupyter.widget-view+json": {
       "model_id": "77581a25103d463f90896b7165e58f00",
       "version_major": 2,
       "version_minor": 0
      },
      "text/plain": [
       "HBox(children=(FloatProgress(value=0.0, max=527.0), HTML(value='')))"
      ]
     },
     "metadata": {},
     "output_type": "display_data"
    },
    {
     "name": "stderr",
     "output_type": "stream",
     "text": [
      "[2022-12-11 03:16:05,645] {<ipython-input-12-cb52601f4b8e>:163} INFO - Iteration [0]/[527] loss: 2.369335\n",
      "[2022-12-11 03:16:19,053] {<ipython-input-12-cb52601f4b8e>:163} INFO - Iteration [300]/[527] loss: 2.280252\n",
      "[2022-12-11 03:16:29,134] {<ipython-input-12-cb52601f4b8e>:57} INFO - Train loss avg:\t1.047311\n",
      "[2022-12-11 03:16:29,134] {<ipython-input-12-cb52601f4b8e>:58} INFO - Eval loss avg:\t2.517201\n",
      "[2022-12-11 03:16:29,135] {<ipython-input-12-cb52601f4b8e>:64} INFO - Clean up CUDA memory\n",
      "[2022-12-11 03:16:29,380] {<ipython-input-12-cb52601f4b8e>:36} INFO - Epoch [38]/[120]\n"
     ]
    },
    {
     "name": "stdout",
     "output_type": "stream",
     "text": [
      "\n"
     ]
    },
    {
     "name": "stderr",
     "output_type": "stream",
     "text": [
      "[2022-12-11 03:16:29,381] {<ipython-input-12-cb52601f4b8e>:39} INFO - LR:\t0.00025\n",
      "[2022-12-11 03:16:29,382] {<ipython-input-12-cb52601f4b8e>:71} INFO - Train loop\n"
     ]
    },
    {
     "data": {
      "application/vnd.jupyter.widget-view+json": {
       "model_id": "9b41b0b943f34f5baddcfbb9dbfadbcd",
       "version_major": 2,
       "version_minor": 0
      },
      "text/plain": [
       "HBox(children=(FloatProgress(value=0.0, max=2105.0), HTML(value='')))"
      ]
     },
     "metadata": {},
     "output_type": "display_data"
    },
    {
     "name": "stderr",
     "output_type": "stream",
     "text": [
      "[2022-12-11 03:16:29,531] {<ipython-input-12-cb52601f4b8e>:126} INFO - Iteration [0]/[2105] loss: 0.896794\n",
      "[2022-12-11 03:17:07,484] {<ipython-input-12-cb52601f4b8e>:126} INFO - Iteration [300]/[2105] loss: 0.996924\n",
      "[2022-12-11 03:17:46,363] {<ipython-input-12-cb52601f4b8e>:126} INFO - Iteration [600]/[2105] loss: 0.889168\n",
      "[2022-12-11 03:18:25,239] {<ipython-input-12-cb52601f4b8e>:126} INFO - Iteration [900]/[2105] loss: 0.885696\n",
      "[2022-12-11 03:19:04,545] {<ipython-input-12-cb52601f4b8e>:126} INFO - Iteration [1200]/[2105] loss: 1.363772\n",
      "[2022-12-11 03:19:42,609] {<ipython-input-12-cb52601f4b8e>:126} INFO - Iteration [1500]/[2105] loss: 0.877112\n",
      "[2022-12-11 03:20:20,975] {<ipython-input-12-cb52601f4b8e>:126} INFO - Iteration [1800]/[2105] loss: 1.033786\n",
      "[2022-12-11 03:20:59,994] {<ipython-input-12-cb52601f4b8e>:126} INFO - Iteration [2100]/[2105] loss: 0.999446\n",
      "[2022-12-11 03:21:00,455] {<ipython-input-12-cb52601f4b8e>:130} INFO - Eval loop\n"
     ]
    },
    {
     "name": "stdout",
     "output_type": "stream",
     "text": [
      "\n"
     ]
    },
    {
     "data": {
      "application/vnd.jupyter.widget-view+json": {
       "model_id": "24c3f864d25047c6996633cdf5dcfe08",
       "version_major": 2,
       "version_minor": 0
      },
      "text/plain": [
       "HBox(children=(FloatProgress(value=0.0, max=527.0), HTML(value='')))"
      ]
     },
     "metadata": {},
     "output_type": "display_data"
    },
    {
     "name": "stderr",
     "output_type": "stream",
     "text": [
      "[2022-12-11 03:21:00,516] {<ipython-input-12-cb52601f4b8e>:163} INFO - Iteration [0]/[527] loss: 2.120630\n",
      "[2022-12-11 03:21:13,916] {<ipython-input-12-cb52601f4b8e>:163} INFO - Iteration [300]/[527] loss: 2.323519\n",
      "[2022-12-11 03:21:23,972] {<ipython-input-12-cb52601f4b8e>:57} INFO - Train loss avg:\t1.049247\n",
      "[2022-12-11 03:21:23,973] {<ipython-input-12-cb52601f4b8e>:58} INFO - Eval loss avg:\t2.525811\n",
      "[2022-12-11 03:21:23,973] {<ipython-input-12-cb52601f4b8e>:64} INFO - Clean up CUDA memory\n",
      "[2022-12-11 03:21:24,205] {<ipython-input-12-cb52601f4b8e>:36} INFO - Epoch [39]/[120]\n"
     ]
    },
    {
     "name": "stdout",
     "output_type": "stream",
     "text": [
      "\n"
     ]
    },
    {
     "name": "stderr",
     "output_type": "stream",
     "text": [
      "[2022-12-11 03:21:24,206] {<ipython-input-12-cb52601f4b8e>:39} INFO - LR:\t0.000125\n",
      "[2022-12-11 03:21:24,207] {<ipython-input-12-cb52601f4b8e>:71} INFO - Train loop\n"
     ]
    },
    {
     "data": {
      "application/vnd.jupyter.widget-view+json": {
       "model_id": "c2895f562f734b63a7aea796279a2784",
       "version_major": 2,
       "version_minor": 0
      },
      "text/plain": [
       "HBox(children=(FloatProgress(value=0.0, max=2105.0), HTML(value='')))"
      ]
     },
     "metadata": {},
     "output_type": "display_data"
    },
    {
     "name": "stderr",
     "output_type": "stream",
     "text": [
      "[2022-12-11 03:21:24,412] {<ipython-input-12-cb52601f4b8e>:126} INFO - Iteration [0]/[2105] loss: 1.297374\n",
      "[2022-12-11 03:22:03,082] {<ipython-input-12-cb52601f4b8e>:126} INFO - Iteration [300]/[2105] loss: 0.740029\n",
      "[2022-12-11 03:22:41,672] {<ipython-input-12-cb52601f4b8e>:126} INFO - Iteration [600]/[2105] loss: 1.064831\n",
      "[2022-12-11 03:23:20,731] {<ipython-input-12-cb52601f4b8e>:126} INFO - Iteration [900]/[2105] loss: 0.687260\n",
      "[2022-12-11 03:23:59,382] {<ipython-input-12-cb52601f4b8e>:126} INFO - Iteration [1200]/[2105] loss: 1.076073\n",
      "[2022-12-11 03:24:37,501] {<ipython-input-12-cb52601f4b8e>:126} INFO - Iteration [1500]/[2105] loss: 1.099866\n",
      "[2022-12-11 03:25:15,978] {<ipython-input-12-cb52601f4b8e>:126} INFO - Iteration [1800]/[2105] loss: 1.016953\n",
      "[2022-12-11 03:25:54,478] {<ipython-input-12-cb52601f4b8e>:126} INFO - Iteration [2100]/[2105] loss: 0.946207\n",
      "[2022-12-11 03:25:54,941] {<ipython-input-12-cb52601f4b8e>:130} INFO - Eval loop\n"
     ]
    },
    {
     "name": "stdout",
     "output_type": "stream",
     "text": [
      "\n"
     ]
    },
    {
     "data": {
      "application/vnd.jupyter.widget-view+json": {
       "model_id": "fca4d8a8401343bd93aac20ee6d25d48",
       "version_major": 2,
       "version_minor": 0
      },
      "text/plain": [
       "HBox(children=(FloatProgress(value=0.0, max=527.0), HTML(value='')))"
      ]
     },
     "metadata": {},
     "output_type": "display_data"
    },
    {
     "name": "stderr",
     "output_type": "stream",
     "text": [
      "[2022-12-11 03:25:55,006] {<ipython-input-12-cb52601f4b8e>:163} INFO - Iteration [0]/[527] loss: 2.275653\n",
      "[2022-12-11 03:26:08,487] {<ipython-input-12-cb52601f4b8e>:163} INFO - Iteration [300]/[527] loss: 2.129648\n",
      "[2022-12-11 03:26:18,565] {<ipython-input-12-cb52601f4b8e>:57} INFO - Train loss avg:\t1.013811\n",
      "[2022-12-11 03:26:18,565] {<ipython-input-12-cb52601f4b8e>:58} INFO - Eval loss avg:\t2.535335\n",
      "[2022-12-11 03:26:18,566] {<ipython-input-12-cb52601f4b8e>:64} INFO - Clean up CUDA memory\n",
      "[2022-12-11 03:26:18,810] {<ipython-input-12-cb52601f4b8e>:36} INFO - Epoch [40]/[120]\n"
     ]
    },
    {
     "name": "stdout",
     "output_type": "stream",
     "text": [
      "\n"
     ]
    },
    {
     "name": "stderr",
     "output_type": "stream",
     "text": [
      "[2022-12-11 03:26:18,811] {<ipython-input-12-cb52601f4b8e>:39} INFO - LR:\t0.000125\n",
      "[2022-12-11 03:26:18,812] {<ipython-input-12-cb52601f4b8e>:71} INFO - Train loop\n"
     ]
    },
    {
     "data": {
      "application/vnd.jupyter.widget-view+json": {
       "model_id": "c9de31bc7759432ea724a48fa72a00d3",
       "version_major": 2,
       "version_minor": 0
      },
      "text/plain": [
       "HBox(children=(FloatProgress(value=0.0, max=2105.0), HTML(value='')))"
      ]
     },
     "metadata": {},
     "output_type": "display_data"
    },
    {
     "name": "stderr",
     "output_type": "stream",
     "text": [
      "[2022-12-11 03:26:18,973] {<ipython-input-12-cb52601f4b8e>:126} INFO - Iteration [0]/[2105] loss: 1.227686\n",
      "[2022-12-11 03:26:58,607] {<ipython-input-12-cb52601f4b8e>:126} INFO - Iteration [300]/[2105] loss: 1.047478\n",
      "[2022-12-11 03:27:37,004] {<ipython-input-12-cb52601f4b8e>:126} INFO - Iteration [600]/[2105] loss: 0.927875\n",
      "[2022-12-11 03:28:15,915] {<ipython-input-12-cb52601f4b8e>:126} INFO - Iteration [900]/[2105] loss: 1.164436\n",
      "[2022-12-11 03:28:55,338] {<ipython-input-12-cb52601f4b8e>:126} INFO - Iteration [1200]/[2105] loss: 0.742414\n",
      "[2022-12-11 03:29:33,855] {<ipython-input-12-cb52601f4b8e>:126} INFO - Iteration [1500]/[2105] loss: 0.845487\n",
      "[2022-12-11 03:30:12,432] {<ipython-input-12-cb52601f4b8e>:126} INFO - Iteration [1800]/[2105] loss: 0.864362\n",
      "[2022-12-11 03:30:51,531] {<ipython-input-12-cb52601f4b8e>:126} INFO - Iteration [2100]/[2105] loss: 0.964728\n",
      "[2022-12-11 03:30:52,066] {<ipython-input-12-cb52601f4b8e>:130} INFO - Eval loop\n"
     ]
    },
    {
     "name": "stdout",
     "output_type": "stream",
     "text": [
      "\n"
     ]
    },
    {
     "data": {
      "application/vnd.jupyter.widget-view+json": {
       "model_id": "e75f08670ec1445cba4539ffa1c76095",
       "version_major": 2,
       "version_minor": 0
      },
      "text/plain": [
       "HBox(children=(FloatProgress(value=0.0, max=527.0), HTML(value='')))"
      ]
     },
     "metadata": {},
     "output_type": "display_data"
    },
    {
     "name": "stderr",
     "output_type": "stream",
     "text": [
      "[2022-12-11 03:30:52,124] {<ipython-input-12-cb52601f4b8e>:163} INFO - Iteration [0]/[527] loss: 2.264250\n",
      "[2022-12-11 03:31:05,579] {<ipython-input-12-cb52601f4b8e>:163} INFO - Iteration [300]/[527] loss: 2.335360\n",
      "[2022-12-11 03:31:15,654] {<ipython-input-12-cb52601f4b8e>:57} INFO - Train loss avg:\t1.021843\n",
      "[2022-12-11 03:31:15,655] {<ipython-input-12-cb52601f4b8e>:58} INFO - Eval loss avg:\t2.500643\n",
      "[2022-12-11 03:31:15,656] {<ipython-input-12-cb52601f4b8e>:64} INFO - Clean up CUDA memory\n"
     ]
    },
    {
     "name": "stdout",
     "output_type": "stream",
     "text": [
      "\n"
     ]
    },
    {
     "name": "stderr",
     "output_type": "stream",
     "text": [
      "[2022-12-11 03:31:15,900] {<ipython-input-12-cb52601f4b8e>:36} INFO - Epoch [41]/[120]\n",
      "[2022-12-11 03:31:15,901] {<ipython-input-12-cb52601f4b8e>:39} INFO - LR:\t0.000125\n",
      "[2022-12-11 03:31:15,901] {<ipython-input-12-cb52601f4b8e>:71} INFO - Train loop\n"
     ]
    },
    {
     "data": {
      "application/vnd.jupyter.widget-view+json": {
       "model_id": "160e353e0e7f4a1ba671559971fbf852",
       "version_major": 2,
       "version_minor": 0
      },
      "text/plain": [
       "HBox(children=(FloatProgress(value=0.0, max=2105.0), HTML(value='')))"
      ]
     },
     "metadata": {},
     "output_type": "display_data"
    },
    {
     "name": "stderr",
     "output_type": "stream",
     "text": [
      "[2022-12-11 03:31:16,077] {<ipython-input-12-cb52601f4b8e>:126} INFO - Iteration [0]/[2105] loss: 0.858240\n",
      "[2022-12-11 03:31:54,907] {<ipython-input-12-cb52601f4b8e>:126} INFO - Iteration [300]/[2105] loss: 1.101874\n",
      "[2022-12-11 03:32:33,210] {<ipython-input-12-cb52601f4b8e>:126} INFO - Iteration [600]/[2105] loss: 1.004559\n",
      "[2022-12-11 03:33:12,474] {<ipython-input-12-cb52601f4b8e>:126} INFO - Iteration [900]/[2105] loss: 1.317442\n",
      "[2022-12-11 03:33:51,432] {<ipython-input-12-cb52601f4b8e>:126} INFO - Iteration [1200]/[2105] loss: 1.056277\n",
      "[2022-12-11 03:34:29,881] {<ipython-input-12-cb52601f4b8e>:126} INFO - Iteration [1500]/[2105] loss: 0.778717\n",
      "[2022-12-11 03:35:09,078] {<ipython-input-12-cb52601f4b8e>:126} INFO - Iteration [1800]/[2105] loss: 0.792720\n",
      "[2022-12-11 03:35:47,941] {<ipython-input-12-cb52601f4b8e>:126} INFO - Iteration [2100]/[2105] loss: 1.293350\n",
      "[2022-12-11 03:35:48,390] {<ipython-input-12-cb52601f4b8e>:130} INFO - Eval loop\n"
     ]
    },
    {
     "name": "stdout",
     "output_type": "stream",
     "text": [
      "\n"
     ]
    },
    {
     "data": {
      "application/vnd.jupyter.widget-view+json": {
       "model_id": "fbfda75b08a841e0981bbd157315ce3e",
       "version_major": 2,
       "version_minor": 0
      },
      "text/plain": [
       "HBox(children=(FloatProgress(value=0.0, max=527.0), HTML(value='')))"
      ]
     },
     "metadata": {},
     "output_type": "display_data"
    },
    {
     "name": "stderr",
     "output_type": "stream",
     "text": [
      "[2022-12-11 03:35:48,448] {<ipython-input-12-cb52601f4b8e>:163} INFO - Iteration [0]/[527] loss: 2.293927\n",
      "[2022-12-11 03:36:01,945] {<ipython-input-12-cb52601f4b8e>:163} INFO - Iteration [300]/[527] loss: 2.289925\n",
      "[2022-12-11 03:36:12,039] {<ipython-input-12-cb52601f4b8e>:57} INFO - Train loss avg:\t1.006575\n",
      "[2022-12-11 03:36:12,040] {<ipython-input-12-cb52601f4b8e>:58} INFO - Eval loss avg:\t2.528631\n",
      "[2022-12-11 03:36:12,041] {<ipython-input-12-cb52601f4b8e>:64} INFO - Clean up CUDA memory\n"
     ]
    },
    {
     "name": "stdout",
     "output_type": "stream",
     "text": [
      "\n"
     ]
    },
    {
     "name": "stderr",
     "output_type": "stream",
     "text": [
      "[2022-12-11 03:36:12,285] {<ipython-input-12-cb52601f4b8e>:36} INFO - Epoch [42]/[120]\n",
      "[2022-12-11 03:36:12,287] {<ipython-input-12-cb52601f4b8e>:39} INFO - LR:\t0.000125\n",
      "[2022-12-11 03:36:12,287] {<ipython-input-12-cb52601f4b8e>:71} INFO - Train loop\n"
     ]
    },
    {
     "data": {
      "application/vnd.jupyter.widget-view+json": {
       "model_id": "eedbc9a7d6244688957b92880af8bc38",
       "version_major": 2,
       "version_minor": 0
      },
      "text/plain": [
       "HBox(children=(FloatProgress(value=0.0, max=2105.0), HTML(value='')))"
      ]
     },
     "metadata": {},
     "output_type": "display_data"
    },
    {
     "name": "stderr",
     "output_type": "stream",
     "text": [
      "[2022-12-11 03:36:12,433] {<ipython-input-12-cb52601f4b8e>:126} INFO - Iteration [0]/[2105] loss: 0.975096\n",
      "[2022-12-11 03:36:51,267] {<ipython-input-12-cb52601f4b8e>:126} INFO - Iteration [300]/[2105] loss: 1.173214\n",
      "[2022-12-11 03:37:29,663] {<ipython-input-12-cb52601f4b8e>:126} INFO - Iteration [600]/[2105] loss: 0.948157\n",
      "[2022-12-11 03:38:09,200] {<ipython-input-12-cb52601f4b8e>:126} INFO - Iteration [900]/[2105] loss: 0.894767\n",
      "[2022-12-11 03:38:48,160] {<ipython-input-12-cb52601f4b8e>:126} INFO - Iteration [1200]/[2105] loss: 0.854773\n",
      "[2022-12-11 03:39:26,110] {<ipython-input-12-cb52601f4b8e>:126} INFO - Iteration [1500]/[2105] loss: 1.702102\n",
      "[2022-12-11 03:40:06,406] {<ipython-input-12-cb52601f4b8e>:126} INFO - Iteration [1800]/[2105] loss: 0.950340\n",
      "[2022-12-11 03:40:46,191] {<ipython-input-12-cb52601f4b8e>:126} INFO - Iteration [2100]/[2105] loss: 0.826528\n",
      "[2022-12-11 03:40:46,661] {<ipython-input-12-cb52601f4b8e>:130} INFO - Eval loop\n"
     ]
    },
    {
     "name": "stdout",
     "output_type": "stream",
     "text": [
      "\n"
     ]
    },
    {
     "data": {
      "application/vnd.jupyter.widget-view+json": {
       "model_id": "6483307201fd4af9a096bd5c29f7affa",
       "version_major": 2,
       "version_minor": 0
      },
      "text/plain": [
       "HBox(children=(FloatProgress(value=0.0, max=527.0), HTML(value='')))"
      ]
     },
     "metadata": {},
     "output_type": "display_data"
    },
    {
     "name": "stderr",
     "output_type": "stream",
     "text": [
      "[2022-12-11 03:40:46,723] {<ipython-input-12-cb52601f4b8e>:163} INFO - Iteration [0]/[527] loss: 2.291703\n",
      "[2022-12-11 03:41:00,593] {<ipython-input-12-cb52601f4b8e>:163} INFO - Iteration [300]/[527] loss: 2.309206\n",
      "[2022-12-11 03:41:10,907] {<ipython-input-12-cb52601f4b8e>:57} INFO - Train loss avg:\t0.995821\n",
      "[2022-12-11 03:41:10,908] {<ipython-input-12-cb52601f4b8e>:58} INFO - Eval loss avg:\t2.529376\n",
      "[2022-12-11 03:41:10,908] {<ipython-input-12-cb52601f4b8e>:64} INFO - Clean up CUDA memory\n"
     ]
    },
    {
     "name": "stdout",
     "output_type": "stream",
     "text": [
      "\n"
     ]
    },
    {
     "name": "stderr",
     "output_type": "stream",
     "text": [
      "[2022-12-11 03:41:11,148] {<ipython-input-12-cb52601f4b8e>:36} INFO - Epoch [43]/[120]\n",
      "[2022-12-11 03:41:11,148] {<ipython-input-12-cb52601f4b8e>:39} INFO - LR:\t0.000125\n",
      "[2022-12-11 03:41:11,149] {<ipython-input-12-cb52601f4b8e>:71} INFO - Train loop\n"
     ]
    },
    {
     "data": {
      "application/vnd.jupyter.widget-view+json": {
       "model_id": "873253dc5fe74950bc91d48e8fc33452",
       "version_major": 2,
       "version_minor": 0
      },
      "text/plain": [
       "HBox(children=(FloatProgress(value=0.0, max=2105.0), HTML(value='')))"
      ]
     },
     "metadata": {},
     "output_type": "display_data"
    },
    {
     "name": "stderr",
     "output_type": "stream",
     "text": [
      "[2022-12-11 03:41:11,324] {<ipython-input-12-cb52601f4b8e>:126} INFO - Iteration [0]/[2105] loss: 0.868079\n",
      "[2022-12-11 03:41:49,712] {<ipython-input-12-cb52601f4b8e>:126} INFO - Iteration [300]/[2105] loss: 0.799334\n",
      "[2022-12-11 03:42:28,738] {<ipython-input-12-cb52601f4b8e>:126} INFO - Iteration [600]/[2105] loss: 0.717347\n",
      "[2022-12-11 03:43:07,250] {<ipython-input-12-cb52601f4b8e>:126} INFO - Iteration [900]/[2105] loss: 1.162714\n",
      "[2022-12-11 03:43:45,982] {<ipython-input-12-cb52601f4b8e>:126} INFO - Iteration [1200]/[2105] loss: 0.913657\n",
      "[2022-12-11 03:44:24,431] {<ipython-input-12-cb52601f4b8e>:126} INFO - Iteration [1500]/[2105] loss: 0.936051\n",
      "[2022-12-11 03:45:02,685] {<ipython-input-12-cb52601f4b8e>:126} INFO - Iteration [1800]/[2105] loss: 1.564060\n",
      "[2022-12-11 03:45:41,188] {<ipython-input-12-cb52601f4b8e>:126} INFO - Iteration [2100]/[2105] loss: 0.838271\n",
      "[2022-12-11 03:45:41,684] {<ipython-input-12-cb52601f4b8e>:130} INFO - Eval loop\n"
     ]
    },
    {
     "name": "stdout",
     "output_type": "stream",
     "text": [
      "\n"
     ]
    },
    {
     "data": {
      "application/vnd.jupyter.widget-view+json": {
       "model_id": "62dfb9b13664475baaaf5e72170a671e",
       "version_major": 2,
       "version_minor": 0
      },
      "text/plain": [
       "HBox(children=(FloatProgress(value=0.0, max=527.0), HTML(value='')))"
      ]
     },
     "metadata": {},
     "output_type": "display_data"
    },
    {
     "name": "stderr",
     "output_type": "stream",
     "text": [
      "[2022-12-11 03:45:41,737] {<ipython-input-12-cb52601f4b8e>:163} INFO - Iteration [0]/[527] loss: 2.233160\n",
      "[2022-12-11 03:45:55,056] {<ipython-input-12-cb52601f4b8e>:163} INFO - Iteration [300]/[527] loss: 2.164391\n",
      "[2022-12-11 03:46:05,070] {<ipython-input-12-cb52601f4b8e>:57} INFO - Train loss avg:\t0.996757\n",
      "[2022-12-11 03:46:05,071] {<ipython-input-12-cb52601f4b8e>:58} INFO - Eval loss avg:\t2.529556\n",
      "[2022-12-11 03:46:05,072] {<ipython-input-12-cb52601f4b8e>:64} INFO - Clean up CUDA memory\n"
     ]
    },
    {
     "name": "stdout",
     "output_type": "stream",
     "text": [
      "\n"
     ]
    },
    {
     "name": "stderr",
     "output_type": "stream",
     "text": [
      "[2022-12-11 03:46:05,318] {<ipython-input-12-cb52601f4b8e>:36} INFO - Epoch [44]/[120]\n",
      "[2022-12-11 03:46:05,318] {<ipython-input-12-cb52601f4b8e>:39} INFO - LR:\t0.000125\n",
      "[2022-12-11 03:46:05,319] {<ipython-input-12-cb52601f4b8e>:71} INFO - Train loop\n"
     ]
    },
    {
     "data": {
      "application/vnd.jupyter.widget-view+json": {
       "model_id": "b725c1aab80541e99460a6d539c5cba9",
       "version_major": 2,
       "version_minor": 0
      },
      "text/plain": [
       "HBox(children=(FloatProgress(value=0.0, max=2105.0), HTML(value='')))"
      ]
     },
     "metadata": {},
     "output_type": "display_data"
    },
    {
     "name": "stderr",
     "output_type": "stream",
     "text": [
      "[2022-12-11 03:46:05,508] {<ipython-input-12-cb52601f4b8e>:126} INFO - Iteration [0]/[2105] loss: 1.136925\n",
      "[2022-12-11 03:46:43,677] {<ipython-input-12-cb52601f4b8e>:126} INFO - Iteration [300]/[2105] loss: 0.961035\n",
      "[2022-12-11 03:47:22,263] {<ipython-input-12-cb52601f4b8e>:126} INFO - Iteration [600]/[2105] loss: 0.709402\n",
      "[2022-12-11 03:48:00,787] {<ipython-input-12-cb52601f4b8e>:126} INFO - Iteration [900]/[2105] loss: 1.121606\n",
      "[2022-12-11 03:48:40,049] {<ipython-input-12-cb52601f4b8e>:126} INFO - Iteration [1200]/[2105] loss: 0.831821\n",
      "[2022-12-11 03:49:20,238] {<ipython-input-12-cb52601f4b8e>:126} INFO - Iteration [1500]/[2105] loss: 0.751270\n",
      "[2022-12-11 03:49:59,947] {<ipython-input-12-cb52601f4b8e>:126} INFO - Iteration [1800]/[2105] loss: 0.847542\n",
      "[2022-12-11 03:50:39,441] {<ipython-input-12-cb52601f4b8e>:126} INFO - Iteration [2100]/[2105] loss: 0.997400\n",
      "[2022-12-11 03:50:39,876] {<ipython-input-12-cb52601f4b8e>:130} INFO - Eval loop\n"
     ]
    },
    {
     "name": "stdout",
     "output_type": "stream",
     "text": [
      "\n"
     ]
    },
    {
     "data": {
      "application/vnd.jupyter.widget-view+json": {
       "model_id": "5b5e03f05dec4fe89c10628848ae2554",
       "version_major": 2,
       "version_minor": 0
      },
      "text/plain": [
       "HBox(children=(FloatProgress(value=0.0, max=527.0), HTML(value='')))"
      ]
     },
     "metadata": {},
     "output_type": "display_data"
    },
    {
     "name": "stderr",
     "output_type": "stream",
     "text": [
      "[2022-12-11 03:50:39,943] {<ipython-input-12-cb52601f4b8e>:163} INFO - Iteration [0]/[527] loss: 2.279690\n",
      "[2022-12-11 03:50:53,734] {<ipython-input-12-cb52601f4b8e>:163} INFO - Iteration [300]/[527] loss: 2.056236\n",
      "[2022-12-11 03:51:04,075] {<ipython-input-12-cb52601f4b8e>:57} INFO - Train loss avg:\t0.990092\n",
      "[2022-12-11 03:51:04,076] {<ipython-input-12-cb52601f4b8e>:58} INFO - Eval loss avg:\t2.537932\n",
      "[2022-12-11 03:51:04,077] {<ipython-input-12-cb52601f4b8e>:64} INFO - Clean up CUDA memory\n"
     ]
    },
    {
     "name": "stdout",
     "output_type": "stream",
     "text": [
      "\n"
     ]
    },
    {
     "name": "stderr",
     "output_type": "stream",
     "text": [
      "[2022-12-11 03:51:04,322] {<ipython-input-12-cb52601f4b8e>:36} INFO - Epoch [45]/[120]\n",
      "[2022-12-11 03:51:04,323] {<ipython-input-12-cb52601f4b8e>:39} INFO - LR:\t6.25e-05\n",
      "[2022-12-11 03:51:04,323] {<ipython-input-12-cb52601f4b8e>:71} INFO - Train loop\n"
     ]
    },
    {
     "data": {
      "application/vnd.jupyter.widget-view+json": {
       "model_id": "d3f4091c878d40989de23973f1047625",
       "version_major": 2,
       "version_minor": 0
      },
      "text/plain": [
       "HBox(children=(FloatProgress(value=0.0, max=2105.0), HTML(value='')))"
      ]
     },
     "metadata": {},
     "output_type": "display_data"
    },
    {
     "name": "stderr",
     "output_type": "stream",
     "text": [
      "[2022-12-11 03:51:04,479] {<ipython-input-12-cb52601f4b8e>:126} INFO - Iteration [0]/[2105] loss: 0.842197\n",
      "[2022-12-11 03:51:43,131] {<ipython-input-12-cb52601f4b8e>:126} INFO - Iteration [300]/[2105] loss: 0.949850\n",
      "[2022-12-11 03:52:23,297] {<ipython-input-12-cb52601f4b8e>:126} INFO - Iteration [600]/[2105] loss: 0.910969\n",
      "[2022-12-11 03:53:02,037] {<ipython-input-12-cb52601f4b8e>:126} INFO - Iteration [900]/[2105] loss: 1.111767\n",
      "[2022-12-11 03:53:40,204] {<ipython-input-12-cb52601f4b8e>:126} INFO - Iteration [1200]/[2105] loss: 0.903740\n",
      "[2022-12-11 03:54:19,264] {<ipython-input-12-cb52601f4b8e>:126} INFO - Iteration [1500]/[2105] loss: 0.883542\n",
      "[2022-12-11 03:54:57,630] {<ipython-input-12-cb52601f4b8e>:126} INFO - Iteration [1800]/[2105] loss: 0.675879\n",
      "[2022-12-11 03:55:37,318] {<ipython-input-12-cb52601f4b8e>:126} INFO - Iteration [2100]/[2105] loss: 1.042771\n",
      "[2022-12-11 03:55:37,843] {<ipython-input-12-cb52601f4b8e>:130} INFO - Eval loop\n"
     ]
    },
    {
     "name": "stdout",
     "output_type": "stream",
     "text": [
      "\n"
     ]
    },
    {
     "data": {
      "application/vnd.jupyter.widget-view+json": {
       "model_id": "ae6a6ce66b204902ad045d159331e08d",
       "version_major": 2,
       "version_minor": 0
      },
      "text/plain": [
       "HBox(children=(FloatProgress(value=0.0, max=527.0), HTML(value='')))"
      ]
     },
     "metadata": {},
     "output_type": "display_data"
    },
    {
     "name": "stderr",
     "output_type": "stream",
     "text": [
      "[2022-12-11 03:55:37,911] {<ipython-input-12-cb52601f4b8e>:163} INFO - Iteration [0]/[527] loss: 2.451647\n",
      "[2022-12-11 03:55:51,356] {<ipython-input-12-cb52601f4b8e>:163} INFO - Iteration [300]/[527] loss: 2.069598\n",
      "[2022-12-11 03:56:01,469] {<ipython-input-12-cb52601f4b8e>:57} INFO - Train loss avg:\t0.978676\n",
      "[2022-12-11 03:56:01,469] {<ipython-input-12-cb52601f4b8e>:58} INFO - Eval loss avg:\t2.521113\n",
      "[2022-12-11 03:56:01,470] {<ipython-input-12-cb52601f4b8e>:64} INFO - Clean up CUDA memory\n",
      "[2022-12-11 03:56:01,713] {<ipython-input-12-cb52601f4b8e>:36} INFO - Epoch [46]/[120]\n"
     ]
    },
    {
     "name": "stdout",
     "output_type": "stream",
     "text": [
      "\n"
     ]
    },
    {
     "name": "stderr",
     "output_type": "stream",
     "text": [
      "[2022-12-11 03:56:01,713] {<ipython-input-12-cb52601f4b8e>:39} INFO - LR:\t6.25e-05\n",
      "[2022-12-11 03:56:01,714] {<ipython-input-12-cb52601f4b8e>:71} INFO - Train loop\n"
     ]
    },
    {
     "data": {
      "application/vnd.jupyter.widget-view+json": {
       "model_id": "3aaf380d693a47d8b05bfc2d2a8c3194",
       "version_major": 2,
       "version_minor": 0
      },
      "text/plain": [
       "HBox(children=(FloatProgress(value=0.0, max=2105.0), HTML(value='')))"
      ]
     },
     "metadata": {},
     "output_type": "display_data"
    },
    {
     "name": "stderr",
     "output_type": "stream",
     "text": [
      "[2022-12-11 03:56:01,919] {<ipython-input-12-cb52601f4b8e>:126} INFO - Iteration [0]/[2105] loss: 0.678059\n",
      "[2022-12-11 03:56:40,638] {<ipython-input-12-cb52601f4b8e>:126} INFO - Iteration [300]/[2105] loss: 1.198862\n",
      "[2022-12-11 03:57:19,471] {<ipython-input-12-cb52601f4b8e>:126} INFO - Iteration [600]/[2105] loss: 1.273828\n",
      "[2022-12-11 03:57:58,020] {<ipython-input-12-cb52601f4b8e>:126} INFO - Iteration [900]/[2105] loss: 1.218890\n",
      "[2022-12-11 03:58:36,963] {<ipython-input-12-cb52601f4b8e>:126} INFO - Iteration [1200]/[2105] loss: 0.785925\n",
      "[2022-12-11 03:59:15,650] {<ipython-input-12-cb52601f4b8e>:126} INFO - Iteration [1500]/[2105] loss: 0.833355\n",
      "[2022-12-11 03:59:53,961] {<ipython-input-12-cb52601f4b8e>:126} INFO - Iteration [1800]/[2105] loss: 0.870201\n",
      "[2022-12-11 04:00:33,488] {<ipython-input-12-cb52601f4b8e>:126} INFO - Iteration [2100]/[2105] loss: 0.852031\n",
      "[2022-12-11 04:00:33,954] {<ipython-input-12-cb52601f4b8e>:130} INFO - Eval loop\n"
     ]
    },
    {
     "name": "stdout",
     "output_type": "stream",
     "text": [
      "\n"
     ]
    },
    {
     "data": {
      "application/vnd.jupyter.widget-view+json": {
       "model_id": "3c457e76985740d7b54c392f956b2554",
       "version_major": 2,
       "version_minor": 0
      },
      "text/plain": [
       "HBox(children=(FloatProgress(value=0.0, max=527.0), HTML(value='')))"
      ]
     },
     "metadata": {},
     "output_type": "display_data"
    },
    {
     "name": "stderr",
     "output_type": "stream",
     "text": [
      "[2022-12-11 04:00:34,019] {<ipython-input-12-cb52601f4b8e>:163} INFO - Iteration [0]/[527] loss: 2.474376\n",
      "[2022-12-11 04:00:47,457] {<ipython-input-12-cb52601f4b8e>:163} INFO - Iteration [300]/[527] loss: 2.236243\n",
      "[2022-12-11 04:00:57,553] {<ipython-input-12-cb52601f4b8e>:57} INFO - Train loss avg:\t0.978793\n",
      "[2022-12-11 04:00:57,554] {<ipython-input-12-cb52601f4b8e>:58} INFO - Eval loss avg:\t2.525990\n",
      "[2022-12-11 04:00:57,555] {<ipython-input-12-cb52601f4b8e>:64} INFO - Clean up CUDA memory\n",
      "[2022-12-11 04:00:57,800] {<ipython-input-12-cb52601f4b8e>:36} INFO - Epoch [47]/[120]\n"
     ]
    },
    {
     "name": "stdout",
     "output_type": "stream",
     "text": [
      "\n"
     ]
    },
    {
     "name": "stderr",
     "output_type": "stream",
     "text": [
      "[2022-12-11 04:00:57,801] {<ipython-input-12-cb52601f4b8e>:39} INFO - LR:\t6.25e-05\n",
      "[2022-12-11 04:00:57,802] {<ipython-input-12-cb52601f4b8e>:71} INFO - Train loop\n"
     ]
    },
    {
     "data": {
      "application/vnd.jupyter.widget-view+json": {
       "model_id": "f0e1c53b30134a8baab35624a44b0308",
       "version_major": 2,
       "version_minor": 0
      },
      "text/plain": [
       "HBox(children=(FloatProgress(value=0.0, max=2105.0), HTML(value='')))"
      ]
     },
     "metadata": {},
     "output_type": "display_data"
    },
    {
     "name": "stderr",
     "output_type": "stream",
     "text": [
      "[2022-12-11 04:00:58,012] {<ipython-input-12-cb52601f4b8e>:126} INFO - Iteration [0]/[2105] loss: 1.052101\n",
      "[2022-12-11 04:01:37,137] {<ipython-input-12-cb52601f4b8e>:126} INFO - Iteration [300]/[2105] loss: 1.493987\n",
      "[2022-12-11 04:02:16,292] {<ipython-input-12-cb52601f4b8e>:126} INFO - Iteration [600]/[2105] loss: 0.946001\n",
      "[2022-12-11 04:02:54,836] {<ipython-input-12-cb52601f4b8e>:126} INFO - Iteration [900]/[2105] loss: 0.821095\n",
      "[2022-12-11 04:03:33,326] {<ipython-input-12-cb52601f4b8e>:126} INFO - Iteration [1200]/[2105] loss: 1.098842\n",
      "[2022-12-11 04:04:12,495] {<ipython-input-12-cb52601f4b8e>:126} INFO - Iteration [1500]/[2105] loss: 1.082472\n",
      "[2022-12-11 04:04:50,950] {<ipython-input-12-cb52601f4b8e>:126} INFO - Iteration [1800]/[2105] loss: 0.778829\n",
      "[2022-12-11 04:05:29,647] {<ipython-input-12-cb52601f4b8e>:126} INFO - Iteration [2100]/[2105] loss: 1.216747\n",
      "[2022-12-11 04:05:30,124] {<ipython-input-12-cb52601f4b8e>:130} INFO - Eval loop\n"
     ]
    },
    {
     "name": "stdout",
     "output_type": "stream",
     "text": [
      "\n"
     ]
    },
    {
     "data": {
      "application/vnd.jupyter.widget-view+json": {
       "model_id": "9a9e746f6aed4a1f9294b1919f09597d",
       "version_major": 2,
       "version_minor": 0
      },
      "text/plain": [
       "HBox(children=(FloatProgress(value=0.0, max=527.0), HTML(value='')))"
      ]
     },
     "metadata": {},
     "output_type": "display_data"
    },
    {
     "name": "stderr",
     "output_type": "stream",
     "text": [
      "[2022-12-11 04:05:30,183] {<ipython-input-12-cb52601f4b8e>:163} INFO - Iteration [0]/[527] loss: 2.427610\n",
      "[2022-12-11 04:05:43,615] {<ipython-input-12-cb52601f4b8e>:163} INFO - Iteration [300]/[527] loss: 2.186683\n",
      "[2022-12-11 04:05:53,709] {<ipython-input-12-cb52601f4b8e>:57} INFO - Train loss avg:\t0.968712\n",
      "[2022-12-11 04:05:53,710] {<ipython-input-12-cb52601f4b8e>:58} INFO - Eval loss avg:\t2.522015\n",
      "[2022-12-11 04:05:53,710] {<ipython-input-12-cb52601f4b8e>:64} INFO - Clean up CUDA memory\n"
     ]
    },
    {
     "name": "stdout",
     "output_type": "stream",
     "text": [
      "\n"
     ]
    },
    {
     "name": "stderr",
     "output_type": "stream",
     "text": [
      "[2022-12-11 04:05:53,953] {<ipython-input-12-cb52601f4b8e>:36} INFO - Epoch [48]/[120]\n",
      "[2022-12-11 04:05:53,955] {<ipython-input-12-cb52601f4b8e>:39} INFO - LR:\t6.25e-05\n",
      "[2022-12-11 04:05:53,956] {<ipython-input-12-cb52601f4b8e>:71} INFO - Train loop\n"
     ]
    },
    {
     "data": {
      "application/vnd.jupyter.widget-view+json": {
       "model_id": "e422b399dc734fa9b3a4436efff4554f",
       "version_major": 2,
       "version_minor": 0
      },
      "text/plain": [
       "HBox(children=(FloatProgress(value=0.0, max=2105.0), HTML(value='')))"
      ]
     },
     "metadata": {},
     "output_type": "display_data"
    },
    {
     "name": "stderr",
     "output_type": "stream",
     "text": [
      "[2022-12-11 04:05:54,135] {<ipython-input-12-cb52601f4b8e>:126} INFO - Iteration [0]/[2105] loss: 1.181657\n",
      "[2022-12-11 04:06:32,462] {<ipython-input-12-cb52601f4b8e>:126} INFO - Iteration [300]/[2105] loss: 1.119275\n",
      "[2022-12-11 04:07:10,833] {<ipython-input-12-cb52601f4b8e>:126} INFO - Iteration [600]/[2105] loss: 0.874872\n",
      "[2022-12-11 04:07:50,329] {<ipython-input-12-cb52601f4b8e>:126} INFO - Iteration [900]/[2105] loss: 0.957705\n",
      "[2022-12-11 04:08:29,517] {<ipython-input-12-cb52601f4b8e>:126} INFO - Iteration [1200]/[2105] loss: 1.356999\n",
      "[2022-12-11 04:09:07,503] {<ipython-input-12-cb52601f4b8e>:126} INFO - Iteration [1500]/[2105] loss: 0.789361\n",
      "[2022-12-11 04:09:46,506] {<ipython-input-12-cb52601f4b8e>:126} INFO - Iteration [1800]/[2105] loss: 0.920344\n",
      "[2022-12-11 04:10:25,308] {<ipython-input-12-cb52601f4b8e>:126} INFO - Iteration [2100]/[2105] loss: 0.979276\n",
      "[2022-12-11 04:10:25,746] {<ipython-input-12-cb52601f4b8e>:130} INFO - Eval loop\n"
     ]
    },
    {
     "name": "stdout",
     "output_type": "stream",
     "text": [
      "\n"
     ]
    },
    {
     "data": {
      "application/vnd.jupyter.widget-view+json": {
       "model_id": "a3e88d970b0947d3928ee1c89a7e4bab",
       "version_major": 2,
       "version_minor": 0
      },
      "text/plain": [
       "HBox(children=(FloatProgress(value=0.0, max=527.0), HTML(value='')))"
      ]
     },
     "metadata": {},
     "output_type": "display_data"
    },
    {
     "name": "stderr",
     "output_type": "stream",
     "text": [
      "[2022-12-11 04:10:25,804] {<ipython-input-12-cb52601f4b8e>:163} INFO - Iteration [0]/[527] loss: 2.416029\n",
      "[2022-12-11 04:10:39,251] {<ipython-input-12-cb52601f4b8e>:163} INFO - Iteration [300]/[527] loss: 2.301586\n",
      "[2022-12-11 04:10:49,317] {<ipython-input-12-cb52601f4b8e>:57} INFO - Train loss avg:\t0.972988\n",
      "[2022-12-11 04:10:49,318] {<ipython-input-12-cb52601f4b8e>:58} INFO - Eval loss avg:\t2.535908\n",
      "[2022-12-11 04:10:49,318] {<ipython-input-12-cb52601f4b8e>:64} INFO - Clean up CUDA memory\n",
      "[2022-12-11 04:10:49,561] {<ipython-input-12-cb52601f4b8e>:36} INFO - Epoch [49]/[120]\n"
     ]
    },
    {
     "name": "stdout",
     "output_type": "stream",
     "text": [
      "\n"
     ]
    },
    {
     "name": "stderr",
     "output_type": "stream",
     "text": [
      "[2022-12-11 04:10:49,563] {<ipython-input-12-cb52601f4b8e>:39} INFO - LR:\t6.25e-05\n",
      "[2022-12-11 04:10:49,564] {<ipython-input-12-cb52601f4b8e>:71} INFO - Train loop\n"
     ]
    },
    {
     "data": {
      "application/vnd.jupyter.widget-view+json": {
       "model_id": "0525de875ff8409484ebf9e59a201702",
       "version_major": 2,
       "version_minor": 0
      },
      "text/plain": [
       "HBox(children=(FloatProgress(value=0.0, max=2105.0), HTML(value='')))"
      ]
     },
     "metadata": {},
     "output_type": "display_data"
    },
    {
     "name": "stderr",
     "output_type": "stream",
     "text": [
      "[2022-12-11 04:10:49,729] {<ipython-input-12-cb52601f4b8e>:126} INFO - Iteration [0]/[2105] loss: 1.042221\n",
      "[2022-12-11 04:11:28,293] {<ipython-input-12-cb52601f4b8e>:126} INFO - Iteration [300]/[2105] loss: 1.046308\n",
      "[2022-12-11 04:12:07,253] {<ipython-input-12-cb52601f4b8e>:126} INFO - Iteration [600]/[2105] loss: 1.044089\n",
      "[2022-12-11 04:12:46,016] {<ipython-input-12-cb52601f4b8e>:126} INFO - Iteration [900]/[2105] loss: 0.748993\n",
      "[2022-12-11 04:13:24,516] {<ipython-input-12-cb52601f4b8e>:126} INFO - Iteration [1200]/[2105] loss: 0.881089\n",
      "[2022-12-11 04:14:03,384] {<ipython-input-12-cb52601f4b8e>:126} INFO - Iteration [1500]/[2105] loss: 0.682114\n",
      "[2022-12-11 04:14:41,868] {<ipython-input-12-cb52601f4b8e>:126} INFO - Iteration [1800]/[2105] loss: 0.668941\n",
      "[2022-12-11 04:15:21,194] {<ipython-input-12-cb52601f4b8e>:126} INFO - Iteration [2100]/[2105] loss: 0.932944\n",
      "[2022-12-11 04:15:21,623] {<ipython-input-12-cb52601f4b8e>:130} INFO - Eval loop\n"
     ]
    },
    {
     "name": "stdout",
     "output_type": "stream",
     "text": [
      "\n"
     ]
    },
    {
     "data": {
      "application/vnd.jupyter.widget-view+json": {
       "model_id": "e833b7973dff417eb6737353aca702e4",
       "version_major": 2,
       "version_minor": 0
      },
      "text/plain": [
       "HBox(children=(FloatProgress(value=0.0, max=527.0), HTML(value='')))"
      ]
     },
     "metadata": {},
     "output_type": "display_data"
    },
    {
     "name": "stderr",
     "output_type": "stream",
     "text": [
      "[2022-12-11 04:15:21,682] {<ipython-input-12-cb52601f4b8e>:163} INFO - Iteration [0]/[527] loss: 2.458519\n",
      "[2022-12-11 04:15:35,092] {<ipython-input-12-cb52601f4b8e>:163} INFO - Iteration [300]/[527] loss: 2.244105\n",
      "[2022-12-11 04:15:45,168] {<ipython-input-12-cb52601f4b8e>:57} INFO - Train loss avg:\t0.969673\n",
      "[2022-12-11 04:15:45,169] {<ipython-input-12-cb52601f4b8e>:58} INFO - Eval loss avg:\t2.518487\n",
      "[2022-12-11 04:15:45,170] {<ipython-input-12-cb52601f4b8e>:64} INFO - Clean up CUDA memory\n"
     ]
    },
    {
     "name": "stdout",
     "output_type": "stream",
     "text": [
      "\n"
     ]
    },
    {
     "name": "stderr",
     "output_type": "stream",
     "text": [
      "[2022-12-11 04:15:45,412] {<ipython-input-12-cb52601f4b8e>:36} INFO - Epoch [50]/[120]\n",
      "[2022-12-11 04:15:45,413] {<ipython-input-12-cb52601f4b8e>:39} INFO - LR:\t6.25e-05\n",
      "[2022-12-11 04:15:45,414] {<ipython-input-12-cb52601f4b8e>:71} INFO - Train loop\n"
     ]
    },
    {
     "data": {
      "application/vnd.jupyter.widget-view+json": {
       "model_id": "c234f04fa6ec4947a0e0bd595d271f4c",
       "version_major": 2,
       "version_minor": 0
      },
      "text/plain": [
       "HBox(children=(FloatProgress(value=0.0, max=2105.0), HTML(value='')))"
      ]
     },
     "metadata": {},
     "output_type": "display_data"
    },
    {
     "name": "stderr",
     "output_type": "stream",
     "text": [
      "[2022-12-11 04:15:45,613] {<ipython-input-12-cb52601f4b8e>:126} INFO - Iteration [0]/[2105] loss: 0.872203\n",
      "[2022-12-11 04:16:24,234] {<ipython-input-12-cb52601f4b8e>:126} INFO - Iteration [300]/[2105] loss: 0.708712\n",
      "[2022-12-11 04:17:03,645] {<ipython-input-12-cb52601f4b8e>:126} INFO - Iteration [600]/[2105] loss: 0.923865\n",
      "[2022-12-11 04:17:42,674] {<ipython-input-12-cb52601f4b8e>:126} INFO - Iteration [900]/[2105] loss: 1.010152\n",
      "[2022-12-11 04:18:21,460] {<ipython-input-12-cb52601f4b8e>:126} INFO - Iteration [1200]/[2105] loss: 0.630133\n",
      "[2022-12-11 04:18:59,471] {<ipython-input-12-cb52601f4b8e>:126} INFO - Iteration [1500]/[2105] loss: 0.919735\n",
      "[2022-12-11 04:19:38,775] {<ipython-input-12-cb52601f4b8e>:126} INFO - Iteration [1800]/[2105] loss: 0.940207\n",
      "[2022-12-11 04:20:17,397] {<ipython-input-12-cb52601f4b8e>:126} INFO - Iteration [2100]/[2105] loss: 0.903554\n",
      "[2022-12-11 04:20:17,860] {<ipython-input-12-cb52601f4b8e>:130} INFO - Eval loop\n"
     ]
    },
    {
     "name": "stdout",
     "output_type": "stream",
     "text": [
      "\n"
     ]
    },
    {
     "data": {
      "application/vnd.jupyter.widget-view+json": {
       "model_id": "d5c00de4ea5f467a95d3175ca5ebc6f8",
       "version_major": 2,
       "version_minor": 0
      },
      "text/plain": [
       "HBox(children=(FloatProgress(value=0.0, max=527.0), HTML(value='')))"
      ]
     },
     "metadata": {},
     "output_type": "display_data"
    },
    {
     "name": "stderr",
     "output_type": "stream",
     "text": [
      "[2022-12-11 04:20:17,920] {<ipython-input-12-cb52601f4b8e>:163} INFO - Iteration [0]/[527] loss: 2.400249\n",
      "[2022-12-11 04:20:31,369] {<ipython-input-12-cb52601f4b8e>:163} INFO - Iteration [300]/[527] loss: 2.255212\n",
      "[2022-12-11 04:20:41,448] {<ipython-input-12-cb52601f4b8e>:57} INFO - Train loss avg:\t0.957386\n",
      "[2022-12-11 04:20:41,449] {<ipython-input-12-cb52601f4b8e>:58} INFO - Eval loss avg:\t2.526622\n",
      "[2022-12-11 04:20:41,449] {<ipython-input-12-cb52601f4b8e>:64} INFO - Clean up CUDA memory\n",
      "[2022-12-11 04:20:41,694] {<ipython-input-12-cb52601f4b8e>:36} INFO - Epoch [51]/[120]\n"
     ]
    },
    {
     "name": "stdout",
     "output_type": "stream",
     "text": [
      "\n"
     ]
    },
    {
     "name": "stderr",
     "output_type": "stream",
     "text": [
      "[2022-12-11 04:20:41,695] {<ipython-input-12-cb52601f4b8e>:39} INFO - LR:\t3.125e-05\n",
      "[2022-12-11 04:20:41,696] {<ipython-input-12-cb52601f4b8e>:71} INFO - Train loop\n"
     ]
    },
    {
     "data": {
      "application/vnd.jupyter.widget-view+json": {
       "model_id": "0c310eedf6794cd7a41a4b08448ff35e",
       "version_major": 2,
       "version_minor": 0
      },
      "text/plain": [
       "HBox(children=(FloatProgress(value=0.0, max=2105.0), HTML(value='')))"
      ]
     },
     "metadata": {},
     "output_type": "display_data"
    },
    {
     "name": "stderr",
     "output_type": "stream",
     "text": [
      "[2022-12-11 04:20:41,867] {<ipython-input-12-cb52601f4b8e>:126} INFO - Iteration [0]/[2105] loss: 1.230889\n",
      "[2022-12-11 04:21:22,065] {<ipython-input-12-cb52601f4b8e>:126} INFO - Iteration [300]/[2105] loss: 0.824500\n",
      "[2022-12-11 04:22:01,713] {<ipython-input-12-cb52601f4b8e>:126} INFO - Iteration [600]/[2105] loss: 0.886765\n",
      "[2022-12-11 04:22:40,223] {<ipython-input-12-cb52601f4b8e>:126} INFO - Iteration [900]/[2105] loss: 1.176016\n",
      "[2022-12-11 04:23:18,695] {<ipython-input-12-cb52601f4b8e>:126} INFO - Iteration [1200]/[2105] loss: 0.864343\n",
      "[2022-12-11 04:23:58,228] {<ipython-input-12-cb52601f4b8e>:126} INFO - Iteration [1500]/[2105] loss: 0.779591\n",
      "[2022-12-11 04:24:36,737] {<ipython-input-12-cb52601f4b8e>:126} INFO - Iteration [1800]/[2105] loss: 0.959279\n",
      "[2022-12-11 04:25:15,387] {<ipython-input-12-cb52601f4b8e>:126} INFO - Iteration [2100]/[2105] loss: 0.961278\n",
      "[2022-12-11 04:25:16,009] {<ipython-input-12-cb52601f4b8e>:130} INFO - Eval loop\n"
     ]
    },
    {
     "name": "stdout",
     "output_type": "stream",
     "text": [
      "\n"
     ]
    },
    {
     "data": {
      "application/vnd.jupyter.widget-view+json": {
       "model_id": "93e744a07e6d4a93bbb3f28145acd3d8",
       "version_major": 2,
       "version_minor": 0
      },
      "text/plain": [
       "HBox(children=(FloatProgress(value=0.0, max=527.0), HTML(value='')))"
      ]
     },
     "metadata": {},
     "output_type": "display_data"
    },
    {
     "name": "stderr",
     "output_type": "stream",
     "text": [
      "[2022-12-11 04:25:16,064] {<ipython-input-12-cb52601f4b8e>:163} INFO - Iteration [0]/[527] loss: 2.393767\n",
      "[2022-12-11 04:25:29,363] {<ipython-input-12-cb52601f4b8e>:163} INFO - Iteration [300]/[527] loss: 2.272383\n",
      "[2022-12-11 04:25:39,350] {<ipython-input-12-cb52601f4b8e>:57} INFO - Train loss avg:\t0.962566\n",
      "[2022-12-11 04:25:39,351] {<ipython-input-12-cb52601f4b8e>:58} INFO - Eval loss avg:\t2.516734\n",
      "[2022-12-11 04:25:39,351] {<ipython-input-12-cb52601f4b8e>:64} INFO - Clean up CUDA memory\n",
      "[2022-12-11 04:25:39,594] {<ipython-input-12-cb52601f4b8e>:36} INFO - Epoch [52]/[120]\n"
     ]
    },
    {
     "name": "stdout",
     "output_type": "stream",
     "text": [
      "\n"
     ]
    },
    {
     "name": "stderr",
     "output_type": "stream",
     "text": [
      "[2022-12-11 04:25:39,595] {<ipython-input-12-cb52601f4b8e>:39} INFO - LR:\t3.125e-05\n",
      "[2022-12-11 04:25:39,596] {<ipython-input-12-cb52601f4b8e>:71} INFO - Train loop\n"
     ]
    },
    {
     "data": {
      "application/vnd.jupyter.widget-view+json": {
       "model_id": "326fe5d2e69048c8aa024d687cc3ca06",
       "version_major": 2,
       "version_minor": 0
      },
      "text/plain": [
       "HBox(children=(FloatProgress(value=0.0, max=2105.0), HTML(value='')))"
      ]
     },
     "metadata": {},
     "output_type": "display_data"
    },
    {
     "name": "stderr",
     "output_type": "stream",
     "text": [
      "[2022-12-11 04:25:39,750] {<ipython-input-12-cb52601f4b8e>:126} INFO - Iteration [0]/[2105] loss: 0.795130\n",
      "[2022-12-11 04:26:17,543] {<ipython-input-12-cb52601f4b8e>:126} INFO - Iteration [300]/[2105] loss: 1.010757\n",
      "[2022-12-11 04:26:56,173] {<ipython-input-12-cb52601f4b8e>:126} INFO - Iteration [600]/[2105] loss: 0.830323\n",
      "[2022-12-11 04:27:35,321] {<ipython-input-12-cb52601f4b8e>:126} INFO - Iteration [900]/[2105] loss: 1.210968\n",
      "[2022-12-11 04:28:15,405] {<ipython-input-12-cb52601f4b8e>:126} INFO - Iteration [1200]/[2105] loss: 0.984460\n",
      "[2022-12-11 04:28:55,210] {<ipython-input-12-cb52601f4b8e>:126} INFO - Iteration [1500]/[2105] loss: 1.137770\n",
      "[2022-12-11 04:29:35,756] {<ipython-input-12-cb52601f4b8e>:126} INFO - Iteration [1800]/[2105] loss: 1.003444\n",
      "[2022-12-11 04:30:13,137] {<ipython-input-12-cb52601f4b8e>:126} INFO - Iteration [2100]/[2105] loss: 0.640999\n",
      "[2022-12-11 04:30:13,594] {<ipython-input-12-cb52601f4b8e>:130} INFO - Eval loop\n"
     ]
    },
    {
     "name": "stdout",
     "output_type": "stream",
     "text": [
      "\n"
     ]
    },
    {
     "data": {
      "application/vnd.jupyter.widget-view+json": {
       "model_id": "0326ec39351c4aa3a477cce520da13e0",
       "version_major": 2,
       "version_minor": 0
      },
      "text/plain": [
       "HBox(children=(FloatProgress(value=0.0, max=527.0), HTML(value='')))"
      ]
     },
     "metadata": {},
     "output_type": "display_data"
    },
    {
     "name": "stderr",
     "output_type": "stream",
     "text": [
      "[2022-12-11 04:30:13,658] {<ipython-input-12-cb52601f4b8e>:163} INFO - Iteration [0]/[527] loss: 2.471686\n",
      "[2022-12-11 04:30:28,068] {<ipython-input-12-cb52601f4b8e>:163} INFO - Iteration [300]/[527] loss: 2.276357\n",
      "[2022-12-11 04:30:37,808] {<ipython-input-12-cb52601f4b8e>:57} INFO - Train loss avg:\t0.948450\n",
      "[2022-12-11 04:30:37,809] {<ipython-input-12-cb52601f4b8e>:58} INFO - Eval loss avg:\t2.534886\n",
      "[2022-12-11 04:30:37,810] {<ipython-input-12-cb52601f4b8e>:64} INFO - Clean up CUDA memory\n"
     ]
    },
    {
     "name": "stdout",
     "output_type": "stream",
     "text": [
      "\n"
     ]
    },
    {
     "name": "stderr",
     "output_type": "stream",
     "text": [
      "[2022-12-11 04:30:38,058] {<ipython-input-12-cb52601f4b8e>:36} INFO - Epoch [53]/[120]\n",
      "[2022-12-11 04:30:38,059] {<ipython-input-12-cb52601f4b8e>:39} INFO - LR:\t3.125e-05\n",
      "[2022-12-11 04:30:38,060] {<ipython-input-12-cb52601f4b8e>:71} INFO - Train loop\n"
     ]
    },
    {
     "data": {
      "application/vnd.jupyter.widget-view+json": {
       "model_id": "266f83fec7d744299c05bcb4103a18d9",
       "version_major": 2,
       "version_minor": 0
      },
      "text/plain": [
       "HBox(children=(FloatProgress(value=0.0, max=2105.0), HTML(value='')))"
      ]
     },
     "metadata": {},
     "output_type": "display_data"
    },
    {
     "name": "stderr",
     "output_type": "stream",
     "text": [
      "[2022-12-11 04:30:38,211] {<ipython-input-12-cb52601f4b8e>:126} INFO - Iteration [0]/[2105] loss: 0.772332\n",
      "[2022-12-11 04:31:15,539] {<ipython-input-12-cb52601f4b8e>:126} INFO - Iteration [300]/[2105] loss: 0.852374\n",
      "[2022-12-11 04:31:56,331] {<ipython-input-12-cb52601f4b8e>:126} INFO - Iteration [600]/[2105] loss: 0.774159\n",
      "[2022-12-11 04:32:35,159] {<ipython-input-12-cb52601f4b8e>:126} INFO - Iteration [900]/[2105] loss: 0.880232\n",
      "[2022-12-11 04:33:14,173] {<ipython-input-12-cb52601f4b8e>:126} INFO - Iteration [1200]/[2105] loss: 0.895345\n",
      "[2022-12-11 04:33:53,377] {<ipython-input-12-cb52601f4b8e>:126} INFO - Iteration [1500]/[2105] loss: 1.030774\n",
      "[2022-12-11 04:34:31,694] {<ipython-input-12-cb52601f4b8e>:126} INFO - Iteration [1800]/[2105] loss: 1.330709\n",
      "[2022-12-11 04:35:10,381] {<ipython-input-12-cb52601f4b8e>:126} INFO - Iteration [2100]/[2105] loss: 1.234212\n",
      "[2022-12-11 04:35:10,783] {<ipython-input-12-cb52601f4b8e>:130} INFO - Eval loop\n"
     ]
    },
    {
     "name": "stdout",
     "output_type": "stream",
     "text": [
      "\n"
     ]
    },
    {
     "data": {
      "application/vnd.jupyter.widget-view+json": {
       "model_id": "40a7d887623d42cfbb42be347ed173ff",
       "version_major": 2,
       "version_minor": 0
      },
      "text/plain": [
       "HBox(children=(FloatProgress(value=0.0, max=527.0), HTML(value='')))"
      ]
     },
     "metadata": {},
     "output_type": "display_data"
    },
    {
     "name": "stderr",
     "output_type": "stream",
     "text": [
      "[2022-12-11 04:35:10,842] {<ipython-input-12-cb52601f4b8e>:163} INFO - Iteration [0]/[527] loss: 2.448192\n",
      "[2022-12-11 04:35:24,314] {<ipython-input-12-cb52601f4b8e>:163} INFO - Iteration [300]/[527] loss: 2.261755\n",
      "[2022-12-11 04:35:34,458] {<ipython-input-12-cb52601f4b8e>:57} INFO - Train loss avg:\t0.950321\n",
      "[2022-12-11 04:35:34,459] {<ipython-input-12-cb52601f4b8e>:58} INFO - Eval loss avg:\t2.524213\n",
      "[2022-12-11 04:35:34,460] {<ipython-input-12-cb52601f4b8e>:64} INFO - Clean up CUDA memory\n",
      "[2022-12-11 04:35:34,704] {<ipython-input-12-cb52601f4b8e>:36} INFO - Epoch [54]/[120]\n"
     ]
    },
    {
     "name": "stdout",
     "output_type": "stream",
     "text": [
      "\n"
     ]
    },
    {
     "name": "stderr",
     "output_type": "stream",
     "text": [
      "[2022-12-11 04:35:34,705] {<ipython-input-12-cb52601f4b8e>:39} INFO - LR:\t3.125e-05\n",
      "[2022-12-11 04:35:34,706] {<ipython-input-12-cb52601f4b8e>:71} INFO - Train loop\n"
     ]
    },
    {
     "data": {
      "application/vnd.jupyter.widget-view+json": {
       "model_id": "62a9e5ee72c74244a47cf00059fa2cfb",
       "version_major": 2,
       "version_minor": 0
      },
      "text/plain": [
       "HBox(children=(FloatProgress(value=0.0, max=2105.0), HTML(value='')))"
      ]
     },
     "metadata": {},
     "output_type": "display_data"
    },
    {
     "name": "stderr",
     "output_type": "stream",
     "text": [
      "[2022-12-11 04:35:34,866] {<ipython-input-12-cb52601f4b8e>:126} INFO - Iteration [0]/[2105] loss: 0.843007\n",
      "[2022-12-11 04:36:13,076] {<ipython-input-12-cb52601f4b8e>:126} INFO - Iteration [300]/[2105] loss: 0.724249\n",
      "[2022-12-11 04:36:51,700] {<ipython-input-12-cb52601f4b8e>:126} INFO - Iteration [600]/[2105] loss: 0.725743\n",
      "[2022-12-11 04:37:30,917] {<ipython-input-12-cb52601f4b8e>:126} INFO - Iteration [900]/[2105] loss: 0.797562\n",
      "[2022-12-11 04:38:09,848] {<ipython-input-12-cb52601f4b8e>:126} INFO - Iteration [1200]/[2105] loss: 1.004387\n",
      "[2022-12-11 04:38:48,494] {<ipython-input-12-cb52601f4b8e>:126} INFO - Iteration [1500]/[2105] loss: 0.942809\n",
      "[2022-12-11 04:39:27,508] {<ipython-input-12-cb52601f4b8e>:126} INFO - Iteration [1800]/[2105] loss: 0.734047\n",
      "[2022-12-11 04:40:07,226] {<ipython-input-12-cb52601f4b8e>:126} INFO - Iteration [2100]/[2105] loss: 1.173383\n",
      "[2022-12-11 04:40:07,669] {<ipython-input-12-cb52601f4b8e>:130} INFO - Eval loop\n"
     ]
    },
    {
     "name": "stdout",
     "output_type": "stream",
     "text": [
      "\n"
     ]
    },
    {
     "data": {
      "application/vnd.jupyter.widget-view+json": {
       "model_id": "0a6c15a9676f411186eaa8cdac9dbbe4",
       "version_major": 2,
       "version_minor": 0
      },
      "text/plain": [
       "HBox(children=(FloatProgress(value=0.0, max=527.0), HTML(value='')))"
      ]
     },
     "metadata": {},
     "output_type": "display_data"
    },
    {
     "name": "stderr",
     "output_type": "stream",
     "text": [
      "[2022-12-11 04:40:07,734] {<ipython-input-12-cb52601f4b8e>:163} INFO - Iteration [0]/[527] loss: 2.478180\n",
      "[2022-12-11 04:40:21,240] {<ipython-input-12-cb52601f4b8e>:163} INFO - Iteration [300]/[527] loss: 2.270009\n",
      "[2022-12-11 04:40:31,366] {<ipython-input-12-cb52601f4b8e>:57} INFO - Train loss avg:\t0.960321\n",
      "[2022-12-11 04:40:31,367] {<ipython-input-12-cb52601f4b8e>:58} INFO - Eval loss avg:\t2.531331\n",
      "[2022-12-11 04:40:31,368] {<ipython-input-12-cb52601f4b8e>:64} INFO - Clean up CUDA memory\n",
      "[2022-12-11 04:40:31,614] {<ipython-input-12-cb52601f4b8e>:36} INFO - Epoch [55]/[120]\n"
     ]
    },
    {
     "name": "stdout",
     "output_type": "stream",
     "text": [
      "\n"
     ]
    },
    {
     "name": "stderr",
     "output_type": "stream",
     "text": [
      "[2022-12-11 04:40:31,616] {<ipython-input-12-cb52601f4b8e>:39} INFO - LR:\t3.125e-05\n",
      "[2022-12-11 04:40:31,616] {<ipython-input-12-cb52601f4b8e>:71} INFO - Train loop\n"
     ]
    },
    {
     "data": {
      "application/vnd.jupyter.widget-view+json": {
       "model_id": "1215e7d60a614647a581cfdbdc9b1934",
       "version_major": 2,
       "version_minor": 0
      },
      "text/plain": [
       "HBox(children=(FloatProgress(value=0.0, max=2105.0), HTML(value='')))"
      ]
     },
     "metadata": {},
     "output_type": "display_data"
    },
    {
     "name": "stderr",
     "output_type": "stream",
     "text": [
      "[2022-12-11 04:40:31,832] {<ipython-input-12-cb52601f4b8e>:126} INFO - Iteration [0]/[2105] loss: 0.711246\n",
      "[2022-12-11 04:41:10,411] {<ipython-input-12-cb52601f4b8e>:126} INFO - Iteration [300]/[2105] loss: 0.863672\n",
      "[2022-12-11 04:41:49,334] {<ipython-input-12-cb52601f4b8e>:126} INFO - Iteration [600]/[2105] loss: 0.952319\n",
      "[2022-12-11 04:42:28,576] {<ipython-input-12-cb52601f4b8e>:126} INFO - Iteration [900]/[2105] loss: 0.918251\n",
      "[2022-12-11 04:43:07,393] {<ipython-input-12-cb52601f4b8e>:126} INFO - Iteration [1200]/[2105] loss: 1.046511\n",
      "[2022-12-11 04:43:47,225] {<ipython-input-12-cb52601f4b8e>:126} INFO - Iteration [1500]/[2105] loss: 0.817274\n",
      "[2022-12-11 04:44:25,743] {<ipython-input-12-cb52601f4b8e>:126} INFO - Iteration [1800]/[2105] loss: 0.725037\n",
      "[2022-12-11 04:45:04,205] {<ipython-input-12-cb52601f4b8e>:126} INFO - Iteration [2100]/[2105] loss: 0.860264\n",
      "[2022-12-11 04:45:04,680] {<ipython-input-12-cb52601f4b8e>:130} INFO - Eval loop\n"
     ]
    },
    {
     "name": "stdout",
     "output_type": "stream",
     "text": [
      "\n"
     ]
    },
    {
     "data": {
      "application/vnd.jupyter.widget-view+json": {
       "model_id": "75f350314bb94916a7390747c2ff6fc9",
       "version_major": 2,
       "version_minor": 0
      },
      "text/plain": [
       "HBox(children=(FloatProgress(value=0.0, max=527.0), HTML(value='')))"
      ]
     },
     "metadata": {},
     "output_type": "display_data"
    },
    {
     "name": "stderr",
     "output_type": "stream",
     "text": [
      "[2022-12-11 04:45:04,738] {<ipython-input-12-cb52601f4b8e>:163} INFO - Iteration [0]/[527] loss: 2.410870\n",
      "[2022-12-11 04:45:18,228] {<ipython-input-12-cb52601f4b8e>:163} INFO - Iteration [300]/[527] loss: 2.270209\n",
      "[2022-12-11 04:45:28,425] {<ipython-input-12-cb52601f4b8e>:57} INFO - Train loss avg:\t0.944530\n",
      "[2022-12-11 04:45:28,426] {<ipython-input-12-cb52601f4b8e>:58} INFO - Eval loss avg:\t2.543815\n",
      "[2022-12-11 04:45:28,426] {<ipython-input-12-cb52601f4b8e>:64} INFO - Clean up CUDA memory\n"
     ]
    },
    {
     "name": "stdout",
     "output_type": "stream",
     "text": [
      "\n"
     ]
    },
    {
     "name": "stderr",
     "output_type": "stream",
     "text": [
      "[2022-12-11 04:45:28,673] {<ipython-input-12-cb52601f4b8e>:36} INFO - Epoch [56]/[120]\n",
      "[2022-12-11 04:45:28,674] {<ipython-input-12-cb52601f4b8e>:39} INFO - LR:\t3.125e-05\n",
      "[2022-12-11 04:45:28,675] {<ipython-input-12-cb52601f4b8e>:71} INFO - Train loop\n"
     ]
    },
    {
     "data": {
      "application/vnd.jupyter.widget-view+json": {
       "model_id": "4d3be440e29f4ad3a8d32c932e81f0da",
       "version_major": 2,
       "version_minor": 0
      },
      "text/plain": [
       "HBox(children=(FloatProgress(value=0.0, max=2105.0), HTML(value='')))"
      ]
     },
     "metadata": {},
     "output_type": "display_data"
    },
    {
     "name": "stderr",
     "output_type": "stream",
     "text": [
      "[2022-12-11 04:45:28,853] {<ipython-input-12-cb52601f4b8e>:126} INFO - Iteration [0]/[2105] loss: 0.916363\n",
      "[2022-12-11 04:46:07,738] {<ipython-input-12-cb52601f4b8e>:126} INFO - Iteration [300]/[2105] loss: 1.434810\n",
      "[2022-12-11 04:46:47,221] {<ipython-input-12-cb52601f4b8e>:126} INFO - Iteration [600]/[2105] loss: 0.800302\n",
      "[2022-12-11 04:47:25,574] {<ipython-input-12-cb52601f4b8e>:126} INFO - Iteration [900]/[2105] loss: 0.943861\n",
      "[2022-12-11 04:48:04,631] {<ipython-input-12-cb52601f4b8e>:126} INFO - Iteration [1200]/[2105] loss: 0.680738\n",
      "[2022-12-11 04:48:43,289] {<ipython-input-12-cb52601f4b8e>:126} INFO - Iteration [1500]/[2105] loss: 0.732913\n",
      "[2022-12-11 04:49:22,301] {<ipython-input-12-cb52601f4b8e>:126} INFO - Iteration [1800]/[2105] loss: 0.858916\n",
      "[2022-12-11 04:50:01,249] {<ipython-input-12-cb52601f4b8e>:126} INFO - Iteration [2100]/[2105] loss: 0.800958\n",
      "[2022-12-11 04:50:01,765] {<ipython-input-12-cb52601f4b8e>:130} INFO - Eval loop\n"
     ]
    },
    {
     "name": "stdout",
     "output_type": "stream",
     "text": [
      "\n"
     ]
    },
    {
     "data": {
      "application/vnd.jupyter.widget-view+json": {
       "model_id": "6adaafd493a047fea8537cba3e01e3a5",
       "version_major": 2,
       "version_minor": 0
      },
      "text/plain": [
       "HBox(children=(FloatProgress(value=0.0, max=527.0), HTML(value='')))"
      ]
     },
     "metadata": {},
     "output_type": "display_data"
    },
    {
     "name": "stderr",
     "output_type": "stream",
     "text": [
      "[2022-12-11 04:50:01,826] {<ipython-input-12-cb52601f4b8e>:163} INFO - Iteration [0]/[527] loss: 2.392174\n",
      "[2022-12-11 04:50:15,303] {<ipython-input-12-cb52601f4b8e>:163} INFO - Iteration [300]/[527] loss: 2.256073\n",
      "[2022-12-11 04:50:25,430] {<ipython-input-12-cb52601f4b8e>:57} INFO - Train loss avg:\t0.949465\n",
      "[2022-12-11 04:50:25,431] {<ipython-input-12-cb52601f4b8e>:58} INFO - Eval loss avg:\t2.531625\n",
      "[2022-12-11 04:50:25,431] {<ipython-input-12-cb52601f4b8e>:64} INFO - Clean up CUDA memory\n",
      "[2022-12-11 04:50:25,677] {<ipython-input-12-cb52601f4b8e>:36} INFO - Epoch [57]/[120]\n"
     ]
    },
    {
     "name": "stdout",
     "output_type": "stream",
     "text": [
      "\n"
     ]
    },
    {
     "name": "stderr",
     "output_type": "stream",
     "text": [
      "[2022-12-11 04:50:25,678] {<ipython-input-12-cb52601f4b8e>:39} INFO - LR:\t1.5625e-05\n",
      "[2022-12-11 04:50:25,679] {<ipython-input-12-cb52601f4b8e>:71} INFO - Train loop\n"
     ]
    },
    {
     "data": {
      "application/vnd.jupyter.widget-view+json": {
       "model_id": "89892434c2c544b48b1056bb32941c49",
       "version_major": 2,
       "version_minor": 0
      },
      "text/plain": [
       "HBox(children=(FloatProgress(value=0.0, max=2105.0), HTML(value='')))"
      ]
     },
     "metadata": {},
     "output_type": "display_data"
    },
    {
     "name": "stderr",
     "output_type": "stream",
     "text": [
      "[2022-12-11 04:50:25,867] {<ipython-input-12-cb52601f4b8e>:126} INFO - Iteration [0]/[2105] loss: 1.006517\n",
      "[2022-12-11 04:51:04,780] {<ipython-input-12-cb52601f4b8e>:126} INFO - Iteration [300]/[2105] loss: 0.869910\n",
      "[2022-12-11 04:51:43,415] {<ipython-input-12-cb52601f4b8e>:126} INFO - Iteration [600]/[2105] loss: 0.966683\n",
      "[2022-12-11 04:52:23,219] {<ipython-input-12-cb52601f4b8e>:126} INFO - Iteration [900]/[2105] loss: 1.613128\n",
      "[2022-12-11 04:53:02,569] {<ipython-input-12-cb52601f4b8e>:126} INFO - Iteration [1200]/[2105] loss: 0.965787\n",
      "[2022-12-11 04:53:41,174] {<ipython-input-12-cb52601f4b8e>:126} INFO - Iteration [1500]/[2105] loss: 1.040303\n",
      "[2022-12-11 04:54:20,224] {<ipython-input-12-cb52601f4b8e>:126} INFO - Iteration [1800]/[2105] loss: 0.870873\n",
      "[2022-12-11 04:54:58,819] {<ipython-input-12-cb52601f4b8e>:126} INFO - Iteration [2100]/[2105] loss: 0.874755\n",
      "[2022-12-11 04:54:59,323] {<ipython-input-12-cb52601f4b8e>:130} INFO - Eval loop\n"
     ]
    },
    {
     "name": "stdout",
     "output_type": "stream",
     "text": [
      "\n"
     ]
    },
    {
     "data": {
      "application/vnd.jupyter.widget-view+json": {
       "model_id": "73ae1c9ac1504dd4a34ee086f1ee32cf",
       "version_major": 2,
       "version_minor": 0
      },
      "text/plain": [
       "HBox(children=(FloatProgress(value=0.0, max=527.0), HTML(value='')))"
      ]
     },
     "metadata": {},
     "output_type": "display_data"
    },
    {
     "name": "stderr",
     "output_type": "stream",
     "text": [
      "[2022-12-11 04:54:59,381] {<ipython-input-12-cb52601f4b8e>:163} INFO - Iteration [0]/[527] loss: 2.284539\n",
      "[2022-12-11 04:55:12,876] {<ipython-input-12-cb52601f4b8e>:163} INFO - Iteration [300]/[527] loss: 2.241751\n",
      "[2022-12-11 04:55:23,009] {<ipython-input-12-cb52601f4b8e>:57} INFO - Train loss avg:\t0.939040\n",
      "[2022-12-11 04:55:23,009] {<ipython-input-12-cb52601f4b8e>:58} INFO - Eval loss avg:\t2.537865\n",
      "[2022-12-11 04:55:23,010] {<ipython-input-12-cb52601f4b8e>:64} INFO - Clean up CUDA memory\n"
     ]
    },
    {
     "name": "stdout",
     "output_type": "stream",
     "text": [
      "\n"
     ]
    },
    {
     "name": "stderr",
     "output_type": "stream",
     "text": [
      "[2022-12-11 04:55:23,246] {<ipython-input-12-cb52601f4b8e>:36} INFO - Epoch [58]/[120]\n",
      "[2022-12-11 04:55:23,247] {<ipython-input-12-cb52601f4b8e>:39} INFO - LR:\t1.5625e-05\n",
      "[2022-12-11 04:55:23,247] {<ipython-input-12-cb52601f4b8e>:71} INFO - Train loop\n"
     ]
    },
    {
     "data": {
      "application/vnd.jupyter.widget-view+json": {
       "model_id": "ee4546db6a544a559d69535291f74c7b",
       "version_major": 2,
       "version_minor": 0
      },
      "text/plain": [
       "HBox(children=(FloatProgress(value=0.0, max=2105.0), HTML(value='')))"
      ]
     },
     "metadata": {},
     "output_type": "display_data"
    },
    {
     "name": "stderr",
     "output_type": "stream",
     "text": [
      "[2022-12-11 04:55:23,400] {<ipython-input-12-cb52601f4b8e>:126} INFO - Iteration [0]/[2105] loss: 0.733722\n",
      "[2022-12-11 04:56:01,992] {<ipython-input-12-cb52601f4b8e>:126} INFO - Iteration [300]/[2105] loss: 1.270147\n",
      "[2022-12-11 04:56:40,833] {<ipython-input-12-cb52601f4b8e>:126} INFO - Iteration [600]/[2105] loss: 0.992769\n",
      "[2022-12-11 04:57:19,468] {<ipython-input-12-cb52601f4b8e>:126} INFO - Iteration [900]/[2105] loss: 1.217449\n",
      "[2022-12-11 04:57:58,579] {<ipython-input-12-cb52601f4b8e>:126} INFO - Iteration [1200]/[2105] loss: 1.076075\n",
      "[2022-12-11 04:58:38,160] {<ipython-input-12-cb52601f4b8e>:126} INFO - Iteration [1500]/[2105] loss: 0.578058\n",
      "[2022-12-11 04:59:17,050] {<ipython-input-12-cb52601f4b8e>:126} INFO - Iteration [1800]/[2105] loss: 1.122044\n",
      "[2022-12-11 04:59:55,578] {<ipython-input-12-cb52601f4b8e>:126} INFO - Iteration [2100]/[2105] loss: 0.879639\n",
      "[2022-12-11 04:59:56,065] {<ipython-input-12-cb52601f4b8e>:130} INFO - Eval loop\n"
     ]
    },
    {
     "name": "stdout",
     "output_type": "stream",
     "text": [
      "\n"
     ]
    },
    {
     "data": {
      "application/vnd.jupyter.widget-view+json": {
       "model_id": "4668c40bde314d5fa7b872345ac49555",
       "version_major": 2,
       "version_minor": 0
      },
      "text/plain": [
       "HBox(children=(FloatProgress(value=0.0, max=527.0), HTML(value='')))"
      ]
     },
     "metadata": {},
     "output_type": "display_data"
    },
    {
     "name": "stderr",
     "output_type": "stream",
     "text": [
      "[2022-12-11 04:59:56,123] {<ipython-input-12-cb52601f4b8e>:163} INFO - Iteration [0]/[527] loss: 2.388469\n",
      "[2022-12-11 05:00:09,585] {<ipython-input-12-cb52601f4b8e>:163} INFO - Iteration [300]/[527] loss: 2.257523\n",
      "[2022-12-11 05:00:19,714] {<ipython-input-12-cb52601f4b8e>:57} INFO - Train loss avg:\t0.946725\n",
      "[2022-12-11 05:00:19,714] {<ipython-input-12-cb52601f4b8e>:58} INFO - Eval loss avg:\t2.534323\n",
      "[2022-12-11 05:00:19,715] {<ipython-input-12-cb52601f4b8e>:64} INFO - Clean up CUDA memory\n",
      "[2022-12-11 05:00:19,960] {<ipython-input-12-cb52601f4b8e>:36} INFO - Epoch [59]/[120]\n"
     ]
    },
    {
     "name": "stdout",
     "output_type": "stream",
     "text": [
      "\n"
     ]
    },
    {
     "name": "stderr",
     "output_type": "stream",
     "text": [
      "[2022-12-11 05:00:19,961] {<ipython-input-12-cb52601f4b8e>:39} INFO - LR:\t1.5625e-05\n",
      "[2022-12-11 05:00:19,962] {<ipython-input-12-cb52601f4b8e>:71} INFO - Train loop\n"
     ]
    },
    {
     "data": {
      "application/vnd.jupyter.widget-view+json": {
       "model_id": "42136732f2d246ac855a3e4291c16b30",
       "version_major": 2,
       "version_minor": 0
      },
      "text/plain": [
       "HBox(children=(FloatProgress(value=0.0, max=2105.0), HTML(value='')))"
      ]
     },
     "metadata": {},
     "output_type": "display_data"
    },
    {
     "name": "stderr",
     "output_type": "stream",
     "text": [
      "[2022-12-11 05:00:20,144] {<ipython-input-12-cb52601f4b8e>:126} INFO - Iteration [0]/[2105] loss: 0.851265\n",
      "[2022-12-11 05:00:59,108] {<ipython-input-12-cb52601f4b8e>:126} INFO - Iteration [300]/[2105] loss: 1.191198\n",
      "[2022-12-11 05:01:38,649] {<ipython-input-12-cb52601f4b8e>:126} INFO - Iteration [600]/[2105] loss: 1.081640\n",
      "[2022-12-11 05:02:17,271] {<ipython-input-12-cb52601f4b8e>:126} INFO - Iteration [900]/[2105] loss: 1.111059\n",
      "[2022-12-11 05:02:55,742] {<ipython-input-12-cb52601f4b8e>:126} INFO - Iteration [1200]/[2105] loss: 1.009973\n",
      "[2022-12-11 05:03:34,275] {<ipython-input-12-cb52601f4b8e>:126} INFO - Iteration [1500]/[2105] loss: 0.902653\n",
      "[2022-12-11 05:04:14,114] {<ipython-input-12-cb52601f4b8e>:126} INFO - Iteration [1800]/[2105] loss: 0.823061\n",
      "[2022-12-11 05:04:54,173] {<ipython-input-12-cb52601f4b8e>:126} INFO - Iteration [2100]/[2105] loss: 0.971840\n",
      "[2022-12-11 05:04:54,622] {<ipython-input-12-cb52601f4b8e>:130} INFO - Eval loop\n"
     ]
    },
    {
     "name": "stdout",
     "output_type": "stream",
     "text": [
      "\n"
     ]
    },
    {
     "data": {
      "application/vnd.jupyter.widget-view+json": {
       "model_id": "3cce65a3999044b3bbe6f521d37cc524",
       "version_major": 2,
       "version_minor": 0
      },
      "text/plain": [
       "HBox(children=(FloatProgress(value=0.0, max=527.0), HTML(value='')))"
      ]
     },
     "metadata": {},
     "output_type": "display_data"
    },
    {
     "name": "stderr",
     "output_type": "stream",
     "text": [
      "[2022-12-11 05:04:54,691] {<ipython-input-12-cb52601f4b8e>:163} INFO - Iteration [0]/[527] loss: 2.436837\n",
      "[2022-12-11 05:05:08,571] {<ipython-input-12-cb52601f4b8e>:163} INFO - Iteration [300]/[527] loss: 2.242118\n",
      "[2022-12-11 05:05:19,025] {<ipython-input-12-cb52601f4b8e>:57} INFO - Train loss avg:\t0.952184\n",
      "[2022-12-11 05:05:19,026] {<ipython-input-12-cb52601f4b8e>:58} INFO - Eval loss avg:\t2.526497\n",
      "[2022-12-11 05:05:19,027] {<ipython-input-12-cb52601f4b8e>:64} INFO - Clean up CUDA memory\n"
     ]
    },
    {
     "name": "stdout",
     "output_type": "stream",
     "text": [
      "\n"
     ]
    },
    {
     "name": "stderr",
     "output_type": "stream",
     "text": [
      "[2022-12-11 05:05:19,270] {<ipython-input-12-cb52601f4b8e>:36} INFO - Epoch [60]/[120]\n",
      "[2022-12-11 05:05:19,271] {<ipython-input-12-cb52601f4b8e>:39} INFO - LR:\t1.5625e-05\n",
      "[2022-12-11 05:05:19,272] {<ipython-input-12-cb52601f4b8e>:71} INFO - Train loop\n"
     ]
    },
    {
     "data": {
      "application/vnd.jupyter.widget-view+json": {
       "model_id": "db34644fe7ca441187832a72aedb91f5",
       "version_major": 2,
       "version_minor": 0
      },
      "text/plain": [
       "HBox(children=(FloatProgress(value=0.0, max=2105.0), HTML(value='')))"
      ]
     },
     "metadata": {},
     "output_type": "display_data"
    },
    {
     "name": "stderr",
     "output_type": "stream",
     "text": [
      "[2022-12-11 05:05:19,442] {<ipython-input-12-cb52601f4b8e>:126} INFO - Iteration [0]/[2105] loss: 1.049834\n",
      "[2022-12-11 05:05:59,487] {<ipython-input-12-cb52601f4b8e>:126} INFO - Iteration [300]/[2105] loss: 1.158403\n",
      "[2022-12-11 05:06:39,383] {<ipython-input-12-cb52601f4b8e>:126} INFO - Iteration [600]/[2105] loss: 0.938966\n",
      "[2022-12-11 05:07:19,752] {<ipython-input-12-cb52601f4b8e>:126} INFO - Iteration [900]/[2105] loss: 0.750617\n",
      "[2022-12-11 05:07:58,821] {<ipython-input-12-cb52601f4b8e>:126} INFO - Iteration [1200]/[2105] loss: 1.433658\n",
      "[2022-12-11 05:08:38,976] {<ipython-input-12-cb52601f4b8e>:126} INFO - Iteration [1500]/[2105] loss: 1.187424\n",
      "[2022-12-11 05:09:18,949] {<ipython-input-12-cb52601f4b8e>:126} INFO - Iteration [1800]/[2105] loss: 0.914187\n",
      "[2022-12-11 05:09:58,632] {<ipython-input-12-cb52601f4b8e>:126} INFO - Iteration [2100]/[2105] loss: 0.795092\n",
      "[2022-12-11 05:09:59,082] {<ipython-input-12-cb52601f4b8e>:130} INFO - Eval loop\n"
     ]
    },
    {
     "name": "stdout",
     "output_type": "stream",
     "text": [
      "\n"
     ]
    },
    {
     "data": {
      "application/vnd.jupyter.widget-view+json": {
       "model_id": "42de8bdeee3343c4bfb17b46f48d773d",
       "version_major": 2,
       "version_minor": 0
      },
      "text/plain": [
       "HBox(children=(FloatProgress(value=0.0, max=527.0), HTML(value='')))"
      ]
     },
     "metadata": {},
     "output_type": "display_data"
    },
    {
     "name": "stderr",
     "output_type": "stream",
     "text": [
      "[2022-12-11 05:09:59,138] {<ipython-input-12-cb52601f4b8e>:163} INFO - Iteration [0]/[527] loss: 2.440709\n",
      "[2022-12-11 05:10:13,013] {<ipython-input-12-cb52601f4b8e>:163} INFO - Iteration [300]/[527] loss: 2.192499\n",
      "[2022-12-11 05:10:23,453] {<ipython-input-12-cb52601f4b8e>:57} INFO - Train loss avg:\t0.950909\n",
      "[2022-12-11 05:10:23,453] {<ipython-input-12-cb52601f4b8e>:58} INFO - Eval loss avg:\t2.517260\n",
      "[2022-12-11 05:10:23,454] {<ipython-input-12-cb52601f4b8e>:64} INFO - Clean up CUDA memory\n",
      "[2022-12-11 05:10:23,698] {<ipython-input-12-cb52601f4b8e>:36} INFO - Epoch [61]/[120]\n"
     ]
    },
    {
     "name": "stdout",
     "output_type": "stream",
     "text": [
      "\n"
     ]
    },
    {
     "name": "stderr",
     "output_type": "stream",
     "text": [
      "[2022-12-11 05:10:23,699] {<ipython-input-12-cb52601f4b8e>:39} INFO - LR:\t1.5625e-05\n",
      "[2022-12-11 05:10:23,700] {<ipython-input-12-cb52601f4b8e>:71} INFO - Train loop\n"
     ]
    },
    {
     "data": {
      "application/vnd.jupyter.widget-view+json": {
       "model_id": "afaed59c6e3d435bad6e6bda3ce13452",
       "version_major": 2,
       "version_minor": 0
      },
      "text/plain": [
       "HBox(children=(FloatProgress(value=0.0, max=2105.0), HTML(value='')))"
      ]
     },
     "metadata": {},
     "output_type": "display_data"
    },
    {
     "name": "stderr",
     "output_type": "stream",
     "text": [
      "[2022-12-11 05:10:23,861] {<ipython-input-12-cb52601f4b8e>:126} INFO - Iteration [0]/[2105] loss: 1.081206\n",
      "[2022-12-11 05:11:01,166] {<ipython-input-12-cb52601f4b8e>:126} INFO - Iteration [300]/[2105] loss: 0.949330\n",
      "[2022-12-11 05:11:41,595] {<ipython-input-12-cb52601f4b8e>:126} INFO - Iteration [600]/[2105] loss: 1.142269\n",
      "[2022-12-11 05:12:20,880] {<ipython-input-12-cb52601f4b8e>:126} INFO - Iteration [900]/[2105] loss: 0.837527\n",
      "[2022-12-11 05:12:59,391] {<ipython-input-12-cb52601f4b8e>:126} INFO - Iteration [1200]/[2105] loss: 0.733128\n",
      "[2022-12-11 05:13:40,416] {<ipython-input-12-cb52601f4b8e>:126} INFO - Iteration [1500]/[2105] loss: 1.349612\n",
      "[2022-12-11 05:14:20,300] {<ipython-input-12-cb52601f4b8e>:126} INFO - Iteration [1800]/[2105] loss: 0.668429\n",
      "[2022-12-11 05:15:00,261] {<ipython-input-12-cb52601f4b8e>:126} INFO - Iteration [2100]/[2105] loss: 0.744097\n",
      "[2022-12-11 05:15:00,717] {<ipython-input-12-cb52601f4b8e>:130} INFO - Eval loop\n"
     ]
    },
    {
     "name": "stdout",
     "output_type": "stream",
     "text": [
      "\n"
     ]
    },
    {
     "data": {
      "application/vnd.jupyter.widget-view+json": {
       "model_id": "e9783ff9ab2a4274873cf842495328a9",
       "version_major": 2,
       "version_minor": 0
      },
      "text/plain": [
       "HBox(children=(FloatProgress(value=0.0, max=527.0), HTML(value='')))"
      ]
     },
     "metadata": {},
     "output_type": "display_data"
    },
    {
     "name": "stderr",
     "output_type": "stream",
     "text": [
      "[2022-12-11 05:15:00,788] {<ipython-input-12-cb52601f4b8e>:163} INFO - Iteration [0]/[527] loss: 2.402333\n",
      "[2022-12-11 05:15:14,728] {<ipython-input-12-cb52601f4b8e>:163} INFO - Iteration [300]/[527] loss: 2.216602\n",
      "[2022-12-11 05:15:25,126] {<ipython-input-12-cb52601f4b8e>:57} INFO - Train loss avg:\t0.946816\n",
      "[2022-12-11 05:15:25,127] {<ipython-input-12-cb52601f4b8e>:58} INFO - Eval loss avg:\t2.508704\n",
      "[2022-12-11 05:15:25,128] {<ipython-input-12-cb52601f4b8e>:64} INFO - Clean up CUDA memory\n"
     ]
    },
    {
     "name": "stdout",
     "output_type": "stream",
     "text": [
      "\n"
     ]
    },
    {
     "name": "stderr",
     "output_type": "stream",
     "text": [
      "[2022-12-11 05:15:25,362] {<ipython-input-12-cb52601f4b8e>:36} INFO - Epoch [62]/[120]\n",
      "[2022-12-11 05:15:25,363] {<ipython-input-12-cb52601f4b8e>:39} INFO - LR:\t1.5625e-05\n",
      "[2022-12-11 05:15:25,364] {<ipython-input-12-cb52601f4b8e>:71} INFO - Train loop\n"
     ]
    },
    {
     "data": {
      "application/vnd.jupyter.widget-view+json": {
       "model_id": "effce262254043c180573bc680585fbe",
       "version_major": 2,
       "version_minor": 0
      },
      "text/plain": [
       "HBox(children=(FloatProgress(value=0.0, max=2105.0), HTML(value='')))"
      ]
     },
     "metadata": {},
     "output_type": "display_data"
    },
    {
     "name": "stderr",
     "output_type": "stream",
     "text": [
      "[2022-12-11 05:15:25,542] {<ipython-input-12-cb52601f4b8e>:126} INFO - Iteration [0]/[2105] loss: 0.847806\n",
      "[2022-12-11 05:16:04,323] {<ipython-input-12-cb52601f4b8e>:126} INFO - Iteration [300]/[2105] loss: 0.911029\n",
      "[2022-12-11 05:16:43,781] {<ipython-input-12-cb52601f4b8e>:126} INFO - Iteration [600]/[2105] loss: 1.369450\n",
      "[2022-12-11 05:17:23,244] {<ipython-input-12-cb52601f4b8e>:126} INFO - Iteration [900]/[2105] loss: 0.853309\n",
      "[2022-12-11 05:18:02,402] {<ipython-input-12-cb52601f4b8e>:126} INFO - Iteration [1200]/[2105] loss: 0.979447\n",
      "[2022-12-11 05:18:41,623] {<ipython-input-12-cb52601f4b8e>:126} INFO - Iteration [1500]/[2105] loss: 0.947875\n",
      "[2022-12-11 05:19:21,242] {<ipython-input-12-cb52601f4b8e>:126} INFO - Iteration [1800]/[2105] loss: 1.232107\n",
      "[2022-12-11 05:19:59,810] {<ipython-input-12-cb52601f4b8e>:126} INFO - Iteration [2100]/[2105] loss: 0.791378\n",
      "[2022-12-11 05:20:00,285] {<ipython-input-12-cb52601f4b8e>:130} INFO - Eval loop\n"
     ]
    },
    {
     "name": "stdout",
     "output_type": "stream",
     "text": [
      "\n"
     ]
    },
    {
     "data": {
      "application/vnd.jupyter.widget-view+json": {
       "model_id": "3226dddab4cc4a37821b0fb04366ed3f",
       "version_major": 2,
       "version_minor": 0
      },
      "text/plain": [
       "HBox(children=(FloatProgress(value=0.0, max=527.0), HTML(value='')))"
      ]
     },
     "metadata": {},
     "output_type": "display_data"
    },
    {
     "name": "stderr",
     "output_type": "stream",
     "text": [
      "[2022-12-11 05:20:00,344] {<ipython-input-12-cb52601f4b8e>:163} INFO - Iteration [0]/[527] loss: 2.448218\n",
      "[2022-12-11 05:20:13,991] {<ipython-input-12-cb52601f4b8e>:163} INFO - Iteration [300]/[527] loss: 2.223653\n",
      "[2022-12-11 05:20:24,199] {<ipython-input-12-cb52601f4b8e>:57} INFO - Train loss avg:\t0.939438\n",
      "[2022-12-11 05:20:24,199] {<ipython-input-12-cb52601f4b8e>:58} INFO - Eval loss avg:\t2.538081\n",
      "[2022-12-11 05:20:24,200] {<ipython-input-12-cb52601f4b8e>:64} INFO - Clean up CUDA memory\n",
      "[2022-12-11 05:20:24,439] {<ipython-input-12-cb52601f4b8e>:36} INFO - Epoch [63]/[120]\n"
     ]
    },
    {
     "name": "stdout",
     "output_type": "stream",
     "text": [
      "\n"
     ]
    },
    {
     "name": "stderr",
     "output_type": "stream",
     "text": [
      "[2022-12-11 05:20:24,440] {<ipython-input-12-cb52601f4b8e>:39} INFO - LR:\t7.8125e-06\n",
      "[2022-12-11 05:20:24,441] {<ipython-input-12-cb52601f4b8e>:71} INFO - Train loop\n"
     ]
    },
    {
     "data": {
      "application/vnd.jupyter.widget-view+json": {
       "model_id": "5ca6da659b074b48a5b94b82579c3819",
       "version_major": 2,
       "version_minor": 0
      },
      "text/plain": [
       "HBox(children=(FloatProgress(value=0.0, max=2105.0), HTML(value='')))"
      ]
     },
     "metadata": {},
     "output_type": "display_data"
    },
    {
     "name": "stderr",
     "output_type": "stream",
     "text": [
      "[2022-12-11 05:20:24,595] {<ipython-input-12-cb52601f4b8e>:126} INFO - Iteration [0]/[2105] loss: 0.891736\n",
      "[2022-12-11 05:21:03,293] {<ipython-input-12-cb52601f4b8e>:126} INFO - Iteration [300]/[2105] loss: 0.946476\n",
      "[2022-12-11 05:21:42,129] {<ipython-input-12-cb52601f4b8e>:126} INFO - Iteration [600]/[2105] loss: 0.885469\n",
      "[2022-12-11 05:22:20,975] {<ipython-input-12-cb52601f4b8e>:126} INFO - Iteration [900]/[2105] loss: 0.950577\n",
      "[2022-12-11 05:23:00,338] {<ipython-input-12-cb52601f4b8e>:126} INFO - Iteration [1200]/[2105] loss: 0.999482\n",
      "[2022-12-11 05:23:38,977] {<ipython-input-12-cb52601f4b8e>:126} INFO - Iteration [1500]/[2105] loss: 0.925841\n",
      "[2022-12-11 05:24:19,035] {<ipython-input-12-cb52601f4b8e>:126} INFO - Iteration [1800]/[2105] loss: 1.362081\n",
      "[2022-12-11 05:24:57,652] {<ipython-input-12-cb52601f4b8e>:126} INFO - Iteration [2100]/[2105] loss: 1.080705\n",
      "[2022-12-11 05:24:58,108] {<ipython-input-12-cb52601f4b8e>:130} INFO - Eval loop\n"
     ]
    },
    {
     "name": "stdout",
     "output_type": "stream",
     "text": [
      "\n"
     ]
    },
    {
     "data": {
      "application/vnd.jupyter.widget-view+json": {
       "model_id": "304dd35c8fa6466b80aaf7bf3fcd4037",
       "version_major": 2,
       "version_minor": 0
      },
      "text/plain": [
       "HBox(children=(FloatProgress(value=0.0, max=527.0), HTML(value='')))"
      ]
     },
     "metadata": {},
     "output_type": "display_data"
    },
    {
     "name": "stderr",
     "output_type": "stream",
     "text": [
      "[2022-12-11 05:24:58,165] {<ipython-input-12-cb52601f4b8e>:163} INFO - Iteration [0]/[527] loss: 2.445864\n",
      "[2022-12-11 05:25:11,746] {<ipython-input-12-cb52601f4b8e>:163} INFO - Iteration [300]/[527] loss: 2.216090\n",
      "[2022-12-11 05:25:21,923] {<ipython-input-12-cb52601f4b8e>:57} INFO - Train loss avg:\t0.939556\n",
      "[2022-12-11 05:25:21,923] {<ipython-input-12-cb52601f4b8e>:58} INFO - Eval loss avg:\t2.527776\n",
      "[2022-12-11 05:25:21,924] {<ipython-input-12-cb52601f4b8e>:64} INFO - Clean up CUDA memory\n",
      "[2022-12-11 05:25:22,161] {<ipython-input-12-cb52601f4b8e>:36} INFO - Epoch [64]/[120]\n"
     ]
    },
    {
     "name": "stdout",
     "output_type": "stream",
     "text": [
      "\n"
     ]
    },
    {
     "name": "stderr",
     "output_type": "stream",
     "text": [
      "[2022-12-11 05:25:22,162] {<ipython-input-12-cb52601f4b8e>:39} INFO - LR:\t7.8125e-06\n",
      "[2022-12-11 05:25:22,162] {<ipython-input-12-cb52601f4b8e>:71} INFO - Train loop\n"
     ]
    },
    {
     "data": {
      "application/vnd.jupyter.widget-view+json": {
       "model_id": "dad16303cd0c433180f0a42da6529602",
       "version_major": 2,
       "version_minor": 0
      },
      "text/plain": [
       "HBox(children=(FloatProgress(value=0.0, max=2105.0), HTML(value='')))"
      ]
     },
     "metadata": {},
     "output_type": "display_data"
    },
    {
     "name": "stderr",
     "output_type": "stream",
     "text": [
      "[2022-12-11 05:25:22,325] {<ipython-input-12-cb52601f4b8e>:126} INFO - Iteration [0]/[2105] loss: 0.747675\n",
      "[2022-12-11 05:26:01,242] {<ipython-input-12-cb52601f4b8e>:126} INFO - Iteration [300]/[2105] loss: 0.863923\n",
      "[2022-12-11 05:26:40,546] {<ipython-input-12-cb52601f4b8e>:126} INFO - Iteration [600]/[2105] loss: 0.771811\n",
      "[2022-12-11 05:27:19,556] {<ipython-input-12-cb52601f4b8e>:126} INFO - Iteration [900]/[2105] loss: 0.978644\n",
      "[2022-12-11 05:27:58,652] {<ipython-input-12-cb52601f4b8e>:126} INFO - Iteration [1200]/[2105] loss: 0.909316\n",
      "[2022-12-11 05:28:37,934] {<ipython-input-12-cb52601f4b8e>:126} INFO - Iteration [1500]/[2105] loss: 0.804234\n",
      "[2022-12-11 05:29:17,377] {<ipython-input-12-cb52601f4b8e>:126} INFO - Iteration [1800]/[2105] loss: 0.872031\n",
      "[2022-12-11 05:29:56,663] {<ipython-input-12-cb52601f4b8e>:126} INFO - Iteration [2100]/[2105] loss: 0.669904\n",
      "[2022-12-11 05:29:57,083] {<ipython-input-12-cb52601f4b8e>:130} INFO - Eval loop\n"
     ]
    },
    {
     "name": "stdout",
     "output_type": "stream",
     "text": [
      "\n"
     ]
    },
    {
     "data": {
      "application/vnd.jupyter.widget-view+json": {
       "model_id": "d21b69eae6fa46bdaf42e6ab5260349e",
       "version_major": 2,
       "version_minor": 0
      },
      "text/plain": [
       "HBox(children=(FloatProgress(value=0.0, max=527.0), HTML(value='')))"
      ]
     },
     "metadata": {},
     "output_type": "display_data"
    },
    {
     "name": "stderr",
     "output_type": "stream",
     "text": [
      "[2022-12-11 05:29:57,141] {<ipython-input-12-cb52601f4b8e>:163} INFO - Iteration [0]/[527] loss: 2.457565\n",
      "[2022-12-11 05:30:10,712] {<ipython-input-12-cb52601f4b8e>:163} INFO - Iteration [300]/[527] loss: 2.242034\n",
      "[2022-12-11 05:30:20,917] {<ipython-input-12-cb52601f4b8e>:57} INFO - Train loss avg:\t0.935372\n",
      "[2022-12-11 05:30:20,918] {<ipython-input-12-cb52601f4b8e>:58} INFO - Eval loss avg:\t2.537099\n",
      "[2022-12-11 05:30:20,919] {<ipython-input-12-cb52601f4b8e>:64} INFO - Clean up CUDA memory\n",
      "[2022-12-11 05:30:21,171] {<ipython-input-12-cb52601f4b8e>:36} INFO - Epoch [65]/[120]\n"
     ]
    },
    {
     "name": "stdout",
     "output_type": "stream",
     "text": [
      "\n"
     ]
    },
    {
     "name": "stderr",
     "output_type": "stream",
     "text": [
      "[2022-12-11 05:30:21,172] {<ipython-input-12-cb52601f4b8e>:39} INFO - LR:\t7.8125e-06\n",
      "[2022-12-11 05:30:21,173] {<ipython-input-12-cb52601f4b8e>:71} INFO - Train loop\n"
     ]
    },
    {
     "data": {
      "application/vnd.jupyter.widget-view+json": {
       "model_id": "6c09f3eea46c48008bbe226015f09634",
       "version_major": 2,
       "version_minor": 0
      },
      "text/plain": [
       "HBox(children=(FloatProgress(value=0.0, max=2105.0), HTML(value='')))"
      ]
     },
     "metadata": {},
     "output_type": "display_data"
    },
    {
     "name": "stderr",
     "output_type": "stream",
     "text": [
      "[2022-12-11 05:30:21,378] {<ipython-input-12-cb52601f4b8e>:126} INFO - Iteration [0]/[2105] loss: 1.062375\n",
      "[2022-12-11 05:30:59,560] {<ipython-input-12-cb52601f4b8e>:126} INFO - Iteration [300]/[2105] loss: 1.256999\n",
      "[2022-12-11 05:31:38,629] {<ipython-input-12-cb52601f4b8e>:126} INFO - Iteration [600]/[2105] loss: 0.893972\n",
      "[2022-12-11 05:32:17,470] {<ipython-input-12-cb52601f4b8e>:126} INFO - Iteration [900]/[2105] loss: 0.813055\n",
      "[2022-12-11 05:32:57,009] {<ipython-input-12-cb52601f4b8e>:126} INFO - Iteration [1200]/[2105] loss: 0.899312\n",
      "[2022-12-11 05:33:35,651] {<ipython-input-12-cb52601f4b8e>:126} INFO - Iteration [1500]/[2105] loss: 0.804741\n",
      "[2022-12-11 05:34:15,428] {<ipython-input-12-cb52601f4b8e>:126} INFO - Iteration [1800]/[2105] loss: 1.082785\n",
      "[2022-12-11 05:34:54,058] {<ipython-input-12-cb52601f4b8e>:126} INFO - Iteration [2100]/[2105] loss: 0.752613\n",
      "[2022-12-11 05:34:54,502] {<ipython-input-12-cb52601f4b8e>:130} INFO - Eval loop\n"
     ]
    },
    {
     "name": "stdout",
     "output_type": "stream",
     "text": [
      "\n"
     ]
    },
    {
     "data": {
      "application/vnd.jupyter.widget-view+json": {
       "model_id": "08173dbd365f48df86a86ba47cf8df07",
       "version_major": 2,
       "version_minor": 0
      },
      "text/plain": [
       "HBox(children=(FloatProgress(value=0.0, max=527.0), HTML(value='')))"
      ]
     },
     "metadata": {},
     "output_type": "display_data"
    },
    {
     "name": "stderr",
     "output_type": "stream",
     "text": [
      "[2022-12-11 05:34:54,569] {<ipython-input-12-cb52601f4b8e>:163} INFO - Iteration [0]/[527] loss: 2.453111\n",
      "[2022-12-11 05:35:08,178] {<ipython-input-12-cb52601f4b8e>:163} INFO - Iteration [300]/[527] loss: 2.252476\n",
      "[2022-12-11 05:35:18,393] {<ipython-input-12-cb52601f4b8e>:57} INFO - Train loss avg:\t0.937969\n",
      "[2022-12-11 05:35:18,393] {<ipython-input-12-cb52601f4b8e>:58} INFO - Eval loss avg:\t2.531473\n",
      "[2022-12-11 05:35:18,394] {<ipython-input-12-cb52601f4b8e>:64} INFO - Clean up CUDA memory\n",
      "[2022-12-11 05:35:18,640] {<ipython-input-12-cb52601f4b8e>:36} INFO - Epoch [66]/[120]\n"
     ]
    },
    {
     "name": "stdout",
     "output_type": "stream",
     "text": [
      "\n"
     ]
    },
    {
     "name": "stderr",
     "output_type": "stream",
     "text": [
      "[2022-12-11 05:35:18,641] {<ipython-input-12-cb52601f4b8e>:39} INFO - LR:\t7.8125e-06\n",
      "[2022-12-11 05:35:18,642] {<ipython-input-12-cb52601f4b8e>:71} INFO - Train loop\n"
     ]
    },
    {
     "data": {
      "application/vnd.jupyter.widget-view+json": {
       "model_id": "9d1bc8b6a97b4b3e84d6943fe4d26cbc",
       "version_major": 2,
       "version_minor": 0
      },
      "text/plain": [
       "HBox(children=(FloatProgress(value=0.0, max=2105.0), HTML(value='')))"
      ]
     },
     "metadata": {},
     "output_type": "display_data"
    },
    {
     "name": "stderr",
     "output_type": "stream",
     "text": [
      "[2022-12-11 05:35:18,858] {<ipython-input-12-cb52601f4b8e>:126} INFO - Iteration [0]/[2105] loss: 0.922512\n",
      "[2022-12-11 05:35:57,649] {<ipython-input-12-cb52601f4b8e>:126} INFO - Iteration [300]/[2105] loss: 0.838025\n",
      "[2022-12-11 05:36:36,620] {<ipython-input-12-cb52601f4b8e>:126} INFO - Iteration [600]/[2105] loss: 0.815069\n",
      "[2022-12-11 05:37:16,402] {<ipython-input-12-cb52601f4b8e>:126} INFO - Iteration [900]/[2105] loss: 0.976057\n",
      "[2022-12-11 05:37:55,258] {<ipython-input-12-cb52601f4b8e>:126} INFO - Iteration [1200]/[2105] loss: 0.892845\n",
      "[2022-12-11 05:38:34,567] {<ipython-input-12-cb52601f4b8e>:126} INFO - Iteration [1500]/[2105] loss: 0.803597\n",
      "[2022-12-11 05:39:13,644] {<ipython-input-12-cb52601f4b8e>:126} INFO - Iteration [1800]/[2105] loss: 1.001104\n",
      "[2022-12-11 05:39:52,527] {<ipython-input-12-cb52601f4b8e>:126} INFO - Iteration [2100]/[2105] loss: 0.784218\n",
      "[2022-12-11 05:39:52,963] {<ipython-input-12-cb52601f4b8e>:130} INFO - Eval loop\n"
     ]
    },
    {
     "name": "stdout",
     "output_type": "stream",
     "text": [
      "\n"
     ]
    },
    {
     "data": {
      "application/vnd.jupyter.widget-view+json": {
       "model_id": "ea16fcc943c641719060adccb3d12272",
       "version_major": 2,
       "version_minor": 0
      },
      "text/plain": [
       "HBox(children=(FloatProgress(value=0.0, max=527.0), HTML(value='')))"
      ]
     },
     "metadata": {},
     "output_type": "display_data"
    },
    {
     "name": "stderr",
     "output_type": "stream",
     "text": [
      "[2022-12-11 05:39:53,025] {<ipython-input-12-cb52601f4b8e>:163} INFO - Iteration [0]/[527] loss: 2.443395\n",
      "[2022-12-11 05:40:06,622] {<ipython-input-12-cb52601f4b8e>:163} INFO - Iteration [300]/[527] loss: 2.268095\n",
      "[2022-12-11 05:40:16,816] {<ipython-input-12-cb52601f4b8e>:57} INFO - Train loss avg:\t0.936234\n",
      "[2022-12-11 05:40:16,817] {<ipython-input-12-cb52601f4b8e>:58} INFO - Eval loss avg:\t2.524840\n",
      "[2022-12-11 05:40:16,817] {<ipython-input-12-cb52601f4b8e>:64} INFO - Clean up CUDA memory\n"
     ]
    },
    {
     "name": "stdout",
     "output_type": "stream",
     "text": [
      "\n"
     ]
    },
    {
     "name": "stderr",
     "output_type": "stream",
     "text": [
      "[2022-12-11 05:40:17,066] {<ipython-input-12-cb52601f4b8e>:36} INFO - Epoch [67]/[120]\n",
      "[2022-12-11 05:40:17,067] {<ipython-input-12-cb52601f4b8e>:39} INFO - LR:\t7.8125e-06\n",
      "[2022-12-11 05:40:17,068] {<ipython-input-12-cb52601f4b8e>:71} INFO - Train loop\n"
     ]
    },
    {
     "data": {
      "application/vnd.jupyter.widget-view+json": {
       "model_id": "6bdd294695ba4e9d882a3001e37c221c",
       "version_major": 2,
       "version_minor": 0
      },
      "text/plain": [
       "HBox(children=(FloatProgress(value=0.0, max=2105.0), HTML(value='')))"
      ]
     },
     "metadata": {},
     "output_type": "display_data"
    },
    {
     "name": "stderr",
     "output_type": "stream",
     "text": [
      "[2022-12-11 05:40:17,251] {<ipython-input-12-cb52601f4b8e>:126} INFO - Iteration [0]/[2105] loss: 0.736404\n",
      "[2022-12-11 05:40:55,911] {<ipython-input-12-cb52601f4b8e>:126} INFO - Iteration [300]/[2105] loss: 0.824191\n",
      "[2022-12-11 05:41:34,586] {<ipython-input-12-cb52601f4b8e>:126} INFO - Iteration [600]/[2105] loss: 1.061827\n",
      "[2022-12-11 05:42:12,401] {<ipython-input-12-cb52601f4b8e>:126} INFO - Iteration [900]/[2105] loss: 1.007848\n",
      "[2022-12-11 05:42:50,202] {<ipython-input-12-cb52601f4b8e>:126} INFO - Iteration [1200]/[2105] loss: 0.732209\n",
      "[2022-12-11 05:43:30,531] {<ipython-input-12-cb52601f4b8e>:126} INFO - Iteration [1500]/[2105] loss: 0.777177\n",
      "[2022-12-11 05:44:09,022] {<ipython-input-12-cb52601f4b8e>:126} INFO - Iteration [1800]/[2105] loss: 0.733173\n",
      "[2022-12-11 05:44:47,642] {<ipython-input-12-cb52601f4b8e>:126} INFO - Iteration [2100]/[2105] loss: 0.844654\n",
      "[2022-12-11 05:44:48,094] {<ipython-input-12-cb52601f4b8e>:130} INFO - Eval loop\n"
     ]
    },
    {
     "name": "stdout",
     "output_type": "stream",
     "text": [
      "\n"
     ]
    },
    {
     "data": {
      "application/vnd.jupyter.widget-view+json": {
       "model_id": "59f89fbdbc9944a0823f17db2ccd342f",
       "version_major": 2,
       "version_minor": 0
      },
      "text/plain": [
       "HBox(children=(FloatProgress(value=0.0, max=527.0), HTML(value='')))"
      ]
     },
     "metadata": {},
     "output_type": "display_data"
    },
    {
     "name": "stderr",
     "output_type": "stream",
     "text": [
      "[2022-12-11 05:44:48,152] {<ipython-input-12-cb52601f4b8e>:163} INFO - Iteration [0]/[527] loss: 2.314513\n",
      "[2022-12-11 05:45:01,619] {<ipython-input-12-cb52601f4b8e>:163} INFO - Iteration [300]/[527] loss: 2.239775\n",
      "[2022-12-11 05:45:11,684] {<ipython-input-12-cb52601f4b8e>:57} INFO - Train loss avg:\t0.941008\n",
      "[2022-12-11 05:45:11,684] {<ipython-input-12-cb52601f4b8e>:58} INFO - Eval loss avg:\t2.520401\n",
      "[2022-12-11 05:45:11,685] {<ipython-input-12-cb52601f4b8e>:64} INFO - Clean up CUDA memory\n"
     ]
    },
    {
     "name": "stdout",
     "output_type": "stream",
     "text": [
      "\n"
     ]
    },
    {
     "name": "stderr",
     "output_type": "stream",
     "text": [
      "[2022-12-11 05:45:11,931] {<ipython-input-12-cb52601f4b8e>:36} INFO - Epoch [68]/[120]\n",
      "[2022-12-11 05:45:11,932] {<ipython-input-12-cb52601f4b8e>:39} INFO - LR:\t7.8125e-06\n",
      "[2022-12-11 05:45:11,932] {<ipython-input-12-cb52601f4b8e>:71} INFO - Train loop\n"
     ]
    },
    {
     "data": {
      "application/vnd.jupyter.widget-view+json": {
       "model_id": "4554b47864774bd991db26cb6a62cac7",
       "version_major": 2,
       "version_minor": 0
      },
      "text/plain": [
       "HBox(children=(FloatProgress(value=0.0, max=2105.0), HTML(value='')))"
      ]
     },
     "metadata": {},
     "output_type": "display_data"
    },
    {
     "name": "stderr",
     "output_type": "stream",
     "text": [
      "[2022-12-11 05:45:12,127] {<ipython-input-12-cb52601f4b8e>:126} INFO - Iteration [0]/[2105] loss: 0.951922\n",
      "[2022-12-11 05:45:50,344] {<ipython-input-12-cb52601f4b8e>:126} INFO - Iteration [300]/[2105] loss: 0.793704\n",
      "[2022-12-11 05:46:28,855] {<ipython-input-12-cb52601f4b8e>:126} INFO - Iteration [600]/[2105] loss: 1.187945\n",
      "[2022-12-11 05:47:07,481] {<ipython-input-12-cb52601f4b8e>:126} INFO - Iteration [900]/[2105] loss: 1.075541\n",
      "[2022-12-11 05:47:46,104] {<ipython-input-12-cb52601f4b8e>:126} INFO - Iteration [1200]/[2105] loss: 0.940386\n",
      "[2022-12-11 05:48:24,426] {<ipython-input-12-cb52601f4b8e>:126} INFO - Iteration [1500]/[2105] loss: 1.027079\n",
      "[2022-12-11 05:49:03,127] {<ipython-input-12-cb52601f4b8e>:126} INFO - Iteration [1800]/[2105] loss: 1.967812\n",
      "[2022-12-11 05:49:41,884] {<ipython-input-12-cb52601f4b8e>:126} INFO - Iteration [2100]/[2105] loss: 1.058498\n",
      "[2022-12-11 05:49:42,361] {<ipython-input-12-cb52601f4b8e>:130} INFO - Eval loop\n"
     ]
    },
    {
     "name": "stdout",
     "output_type": "stream",
     "text": [
      "\n"
     ]
    },
    {
     "data": {
      "application/vnd.jupyter.widget-view+json": {
       "model_id": "31ac6754ef614b9e9c15c365ca056e1a",
       "version_major": 2,
       "version_minor": 0
      },
      "text/plain": [
       "HBox(children=(FloatProgress(value=0.0, max=527.0), HTML(value='')))"
      ]
     },
     "metadata": {},
     "output_type": "display_data"
    },
    {
     "name": "stderr",
     "output_type": "stream",
     "text": [
      "[2022-12-11 05:49:42,422] {<ipython-input-12-cb52601f4b8e>:163} INFO - Iteration [0]/[527] loss: 2.428123\n",
      "[2022-12-11 05:49:55,889] {<ipython-input-12-cb52601f4b8e>:163} INFO - Iteration [300]/[527] loss: 2.255129\n",
      "[2022-12-11 05:50:06,042] {<ipython-input-12-cb52601f4b8e>:57} INFO - Train loss avg:\t0.940567\n",
      "[2022-12-11 05:50:06,043] {<ipython-input-12-cb52601f4b8e>:58} INFO - Eval loss avg:\t2.530081\n",
      "[2022-12-11 05:50:06,043] {<ipython-input-12-cb52601f4b8e>:64} INFO - Clean up CUDA memory\n",
      "[2022-12-11 05:50:06,290] {<ipython-input-12-cb52601f4b8e>:36} INFO - Epoch [69]/[120]\n"
     ]
    },
    {
     "name": "stdout",
     "output_type": "stream",
     "text": [
      "\n"
     ]
    },
    {
     "name": "stderr",
     "output_type": "stream",
     "text": [
      "[2022-12-11 05:50:06,291] {<ipython-input-12-cb52601f4b8e>:39} INFO - LR:\t3.90625e-06\n",
      "[2022-12-11 05:50:06,292] {<ipython-input-12-cb52601f4b8e>:71} INFO - Train loop\n"
     ]
    },
    {
     "data": {
      "application/vnd.jupyter.widget-view+json": {
       "model_id": "19794a24790d4d2cb2c698cfa89832bc",
       "version_major": 2,
       "version_minor": 0
      },
      "text/plain": [
       "HBox(children=(FloatProgress(value=0.0, max=2105.0), HTML(value='')))"
      ]
     },
     "metadata": {},
     "output_type": "display_data"
    },
    {
     "name": "stderr",
     "output_type": "stream",
     "text": [
      "[2022-12-11 05:50:06,485] {<ipython-input-12-cb52601f4b8e>:126} INFO - Iteration [0]/[2105] loss: 0.763652\n",
      "[2022-12-11 05:50:45,397] {<ipython-input-12-cb52601f4b8e>:126} INFO - Iteration [300]/[2105] loss: 0.711106\n",
      "[2022-12-11 05:51:24,322] {<ipython-input-12-cb52601f4b8e>:126} INFO - Iteration [600]/[2105] loss: 1.077199\n",
      "[2022-12-11 05:52:03,056] {<ipython-input-12-cb52601f4b8e>:126} INFO - Iteration [900]/[2105] loss: 1.006833\n",
      "[2022-12-11 05:52:43,670] {<ipython-input-12-cb52601f4b8e>:126} INFO - Iteration [1200]/[2105] loss: 0.734232\n",
      "[2022-12-11 05:53:23,604] {<ipython-input-12-cb52601f4b8e>:126} INFO - Iteration [1500]/[2105] loss: 0.788540\n",
      "[2022-12-11 05:54:04,797] {<ipython-input-12-cb52601f4b8e>:126} INFO - Iteration [1800]/[2105] loss: 1.243889\n",
      "[2022-12-11 05:54:43,418] {<ipython-input-12-cb52601f4b8e>:126} INFO - Iteration [2100]/[2105] loss: 0.737739\n",
      "[2022-12-11 05:54:43,818] {<ipython-input-12-cb52601f4b8e>:130} INFO - Eval loop\n"
     ]
    },
    {
     "name": "stdout",
     "output_type": "stream",
     "text": [
      "\n"
     ]
    },
    {
     "data": {
      "application/vnd.jupyter.widget-view+json": {
       "model_id": "752803c234164f97bf23b5d9eef1d061",
       "version_major": 2,
       "version_minor": 0
      },
      "text/plain": [
       "HBox(children=(FloatProgress(value=0.0, max=527.0), HTML(value='')))"
      ]
     },
     "metadata": {},
     "output_type": "display_data"
    },
    {
     "name": "stderr",
     "output_type": "stream",
     "text": [
      "[2022-12-11 05:54:43,875] {<ipython-input-12-cb52601f4b8e>:163} INFO - Iteration [0]/[527] loss: 2.441804\n",
      "[2022-12-11 05:54:56,747] {<ipython-input-12-cb52601f4b8e>:163} INFO - Iteration [300]/[527] loss: 2.262597\n",
      "[2022-12-11 05:55:07,333] {<ipython-input-12-cb52601f4b8e>:57} INFO - Train loss avg:\t0.935850\n",
      "[2022-12-11 05:55:07,334] {<ipython-input-12-cb52601f4b8e>:58} INFO - Eval loss avg:\t2.524785\n",
      "[2022-12-11 05:55:07,334] {<ipython-input-12-cb52601f4b8e>:64} INFO - Clean up CUDA memory\n",
      "[2022-12-11 05:55:07,581] {<ipython-input-12-cb52601f4b8e>:36} INFO - Epoch [70]/[120]\n"
     ]
    },
    {
     "name": "stdout",
     "output_type": "stream",
     "text": [
      "\n"
     ]
    },
    {
     "name": "stderr",
     "output_type": "stream",
     "text": [
      "[2022-12-11 05:55:07,582] {<ipython-input-12-cb52601f4b8e>:39} INFO - LR:\t3.90625e-06\n",
      "[2022-12-11 05:55:07,582] {<ipython-input-12-cb52601f4b8e>:71} INFO - Train loop\n"
     ]
    },
    {
     "data": {
      "application/vnd.jupyter.widget-view+json": {
       "model_id": "8f64eb86d9e44b378e4add073d1379a1",
       "version_major": 2,
       "version_minor": 0
      },
      "text/plain": [
       "HBox(children=(FloatProgress(value=0.0, max=2105.0), HTML(value='')))"
      ]
     },
     "metadata": {},
     "output_type": "display_data"
    },
    {
     "name": "stderr",
     "output_type": "stream",
     "text": [
      "[2022-12-11 05:55:07,741] {<ipython-input-12-cb52601f4b8e>:126} INFO - Iteration [0]/[2105] loss: 0.966651\n",
      "[2022-12-11 05:55:45,897] {<ipython-input-12-cb52601f4b8e>:126} INFO - Iteration [300]/[2105] loss: 1.132295\n",
      "[2022-12-11 05:56:24,808] {<ipython-input-12-cb52601f4b8e>:126} INFO - Iteration [600]/[2105] loss: 0.745857\n",
      "[2022-12-11 05:57:05,807] {<ipython-input-12-cb52601f4b8e>:126} INFO - Iteration [900]/[2105] loss: 0.721382\n",
      "[2022-12-11 05:57:44,143] {<ipython-input-12-cb52601f4b8e>:126} INFO - Iteration [1200]/[2105] loss: 1.275782\n",
      "[2022-12-11 05:58:22,733] {<ipython-input-12-cb52601f4b8e>:126} INFO - Iteration [1500]/[2105] loss: 0.849229\n",
      "[2022-12-11 05:59:00,760] {<ipython-input-12-cb52601f4b8e>:126} INFO - Iteration [1800]/[2105] loss: 0.980880\n",
      "[2022-12-11 05:59:39,027] {<ipython-input-12-cb52601f4b8e>:126} INFO - Iteration [2100]/[2105] loss: 0.835951\n",
      "[2022-12-11 05:59:39,498] {<ipython-input-12-cb52601f4b8e>:130} INFO - Eval loop\n"
     ]
    },
    {
     "name": "stdout",
     "output_type": "stream",
     "text": [
      "\n"
     ]
    },
    {
     "data": {
      "application/vnd.jupyter.widget-view+json": {
       "model_id": "f321f777bf4f4e019fba360ba1192aa0",
       "version_major": 2,
       "version_minor": 0
      },
      "text/plain": [
       "HBox(children=(FloatProgress(value=0.0, max=527.0), HTML(value='')))"
      ]
     },
     "metadata": {},
     "output_type": "display_data"
    },
    {
     "name": "stderr",
     "output_type": "stream",
     "text": [
      "[2022-12-11 05:59:39,570] {<ipython-input-12-cb52601f4b8e>:163} INFO - Iteration [0]/[527] loss: 2.416660\n",
      "[2022-12-11 05:59:53,114] {<ipython-input-12-cb52601f4b8e>:163} INFO - Iteration [300]/[527] loss: 2.247947\n",
      "[2022-12-11 06:00:04,555] {<ipython-input-12-cb52601f4b8e>:57} INFO - Train loss avg:\t0.940942\n",
      "[2022-12-11 06:00:04,555] {<ipython-input-12-cb52601f4b8e>:58} INFO - Eval loss avg:\t2.531654\n",
      "[2022-12-11 06:00:04,556] {<ipython-input-12-cb52601f4b8e>:64} INFO - Clean up CUDA memory\n",
      "[2022-12-11 06:00:04,802] {<ipython-input-12-cb52601f4b8e>:36} INFO - Epoch [71]/[120]\n"
     ]
    },
    {
     "name": "stdout",
     "output_type": "stream",
     "text": [
      "\n"
     ]
    },
    {
     "name": "stderr",
     "output_type": "stream",
     "text": [
      "[2022-12-11 06:00:04,803] {<ipython-input-12-cb52601f4b8e>:39} INFO - LR:\t3.90625e-06\n",
      "[2022-12-11 06:00:04,803] {<ipython-input-12-cb52601f4b8e>:71} INFO - Train loop\n"
     ]
    },
    {
     "data": {
      "application/vnd.jupyter.widget-view+json": {
       "model_id": "d81fe9eaf3a84420812b9c8020947eff",
       "version_major": 2,
       "version_minor": 0
      },
      "text/plain": [
       "HBox(children=(FloatProgress(value=0.0, max=2105.0), HTML(value='')))"
      ]
     },
     "metadata": {},
     "output_type": "display_data"
    },
    {
     "name": "stderr",
     "output_type": "stream",
     "text": [
      "[2022-12-11 06:00:04,976] {<ipython-input-12-cb52601f4b8e>:126} INFO - Iteration [0]/[2105] loss: 0.994173\n",
      "[2022-12-11 06:00:44,969] {<ipython-input-12-cb52601f4b8e>:126} INFO - Iteration [300]/[2105] loss: 0.639739\n",
      "[2022-12-11 06:01:24,270] {<ipython-input-12-cb52601f4b8e>:126} INFO - Iteration [600]/[2105] loss: 0.888320\n",
      "[2022-12-11 06:02:03,874] {<ipython-input-12-cb52601f4b8e>:126} INFO - Iteration [900]/[2105] loss: 0.960914\n",
      "[2022-12-11 06:02:44,474] {<ipython-input-12-cb52601f4b8e>:126} INFO - Iteration [1200]/[2105] loss: 0.808627\n",
      "[2022-12-11 06:03:24,902] {<ipython-input-12-cb52601f4b8e>:126} INFO - Iteration [1500]/[2105] loss: 1.014937\n",
      "[2022-12-11 06:04:05,126] {<ipython-input-12-cb52601f4b8e>:126} INFO - Iteration [1800]/[2105] loss: 0.838578\n",
      "[2022-12-11 06:04:45,208] {<ipython-input-12-cb52601f4b8e>:126} INFO - Iteration [2100]/[2105] loss: 1.863066\n",
      "[2022-12-11 06:04:45,708] {<ipython-input-12-cb52601f4b8e>:130} INFO - Eval loop\n"
     ]
    },
    {
     "name": "stdout",
     "output_type": "stream",
     "text": [
      "\n"
     ]
    },
    {
     "data": {
      "application/vnd.jupyter.widget-view+json": {
       "model_id": "54c5883cb8a846e6b276546b8a586053",
       "version_major": 2,
       "version_minor": 0
      },
      "text/plain": [
       "HBox(children=(FloatProgress(value=0.0, max=527.0), HTML(value='')))"
      ]
     },
     "metadata": {},
     "output_type": "display_data"
    },
    {
     "name": "stderr",
     "output_type": "stream",
     "text": [
      "[2022-12-11 06:04:45,766] {<ipython-input-12-cb52601f4b8e>:163} INFO - Iteration [0]/[527] loss: 2.457966\n",
      "[2022-12-11 06:04:59,698] {<ipython-input-12-cb52601f4b8e>:163} INFO - Iteration [300]/[527] loss: 2.241672\n",
      "[2022-12-11 06:05:10,178] {<ipython-input-12-cb52601f4b8e>:57} INFO - Train loss avg:\t0.938788\n",
      "[2022-12-11 06:05:10,179] {<ipython-input-12-cb52601f4b8e>:58} INFO - Eval loss avg:\t2.526964\n",
      "[2022-12-11 06:05:10,179] {<ipython-input-12-cb52601f4b8e>:64} INFO - Clean up CUDA memory\n",
      "[2022-12-11 06:05:10,424] {<ipython-input-12-cb52601f4b8e>:36} INFO - Epoch [72]/[120]\n"
     ]
    },
    {
     "name": "stdout",
     "output_type": "stream",
     "text": [
      "\n"
     ]
    },
    {
     "name": "stderr",
     "output_type": "stream",
     "text": [
      "[2022-12-11 06:05:10,425] {<ipython-input-12-cb52601f4b8e>:39} INFO - LR:\t3.90625e-06\n",
      "[2022-12-11 06:05:10,426] {<ipython-input-12-cb52601f4b8e>:71} INFO - Train loop\n"
     ]
    },
    {
     "data": {
      "application/vnd.jupyter.widget-view+json": {
       "model_id": "ab449d8a52ed4ecea53a10e02d46b405",
       "version_major": 2,
       "version_minor": 0
      },
      "text/plain": [
       "HBox(children=(FloatProgress(value=0.0, max=2105.0), HTML(value='')))"
      ]
     },
     "metadata": {},
     "output_type": "display_data"
    },
    {
     "name": "stderr",
     "output_type": "stream",
     "text": [
      "[2022-12-11 06:05:10,609] {<ipython-input-12-cb52601f4b8e>:126} INFO - Iteration [0]/[2105] loss: 1.071020\n",
      "[2022-12-11 06:05:51,372] {<ipython-input-12-cb52601f4b8e>:126} INFO - Iteration [300]/[2105] loss: 0.842682\n",
      "[2022-12-11 06:06:30,629] {<ipython-input-12-cb52601f4b8e>:126} INFO - Iteration [600]/[2105] loss: 0.920068\n",
      "[2022-12-11 06:07:10,147] {<ipython-input-12-cb52601f4b8e>:126} INFO - Iteration [900]/[2105] loss: 0.969459\n",
      "[2022-12-11 06:07:49,359] {<ipython-input-12-cb52601f4b8e>:126} INFO - Iteration [1200]/[2105] loss: 0.850423\n",
      "[2022-12-11 06:08:28,599] {<ipython-input-12-cb52601f4b8e>:126} INFO - Iteration [1500]/[2105] loss: 0.843222\n",
      "[2022-12-11 06:09:07,863] {<ipython-input-12-cb52601f4b8e>:126} INFO - Iteration [1800]/[2105] loss: 0.940441\n",
      "[2022-12-11 06:09:47,438] {<ipython-input-12-cb52601f4b8e>:126} INFO - Iteration [2100]/[2105] loss: 0.825488\n",
      "[2022-12-11 06:09:48,004] {<ipython-input-12-cb52601f4b8e>:130} INFO - Eval loop\n"
     ]
    },
    {
     "name": "stdout",
     "output_type": "stream",
     "text": [
      "\n"
     ]
    },
    {
     "data": {
      "application/vnd.jupyter.widget-view+json": {
       "model_id": "a90b235bc2794ee2b58dbd141e2c3f0d",
       "version_major": 2,
       "version_minor": 0
      },
      "text/plain": [
       "HBox(children=(FloatProgress(value=0.0, max=527.0), HTML(value='')))"
      ]
     },
     "metadata": {},
     "output_type": "display_data"
    },
    {
     "name": "stderr",
     "output_type": "stream",
     "text": [
      "[2022-12-11 06:09:48,069] {<ipython-input-12-cb52601f4b8e>:163} INFO - Iteration [0]/[527] loss: 2.437619\n",
      "[2022-12-11 06:10:01,723] {<ipython-input-12-cb52601f4b8e>:163} INFO - Iteration [300]/[527] loss: 2.241201\n",
      "[2022-12-11 06:10:11,983] {<ipython-input-12-cb52601f4b8e>:57} INFO - Train loss avg:\t0.938442\n",
      "[2022-12-11 06:10:11,984] {<ipython-input-12-cb52601f4b8e>:58} INFO - Eval loss avg:\t2.531277\n",
      "[2022-12-11 06:10:11,985] {<ipython-input-12-cb52601f4b8e>:64} INFO - Clean up CUDA memory\n",
      "[2022-12-11 06:10:12,241] {<ipython-input-12-cb52601f4b8e>:36} INFO - Epoch [73]/[120]\n"
     ]
    },
    {
     "name": "stdout",
     "output_type": "stream",
     "text": [
      "\n"
     ]
    },
    {
     "name": "stderr",
     "output_type": "stream",
     "text": [
      "[2022-12-11 06:10:12,242] {<ipython-input-12-cb52601f4b8e>:39} INFO - LR:\t3.90625e-06\n",
      "[2022-12-11 06:10:12,243] {<ipython-input-12-cb52601f4b8e>:71} INFO - Train loop\n"
     ]
    },
    {
     "data": {
      "application/vnd.jupyter.widget-view+json": {
       "model_id": "3ca643c7b0144c0ebc7f68cff376b04c",
       "version_major": 2,
       "version_minor": 0
      },
      "text/plain": [
       "HBox(children=(FloatProgress(value=0.0, max=2105.0), HTML(value='')))"
      ]
     },
     "metadata": {},
     "output_type": "display_data"
    },
    {
     "name": "stderr",
     "output_type": "stream",
     "text": [
      "[2022-12-11 06:10:12,458] {<ipython-input-12-cb52601f4b8e>:126} INFO - Iteration [0]/[2105] loss: 1.101899\n",
      "[2022-12-11 06:10:51,739] {<ipython-input-12-cb52601f4b8e>:126} INFO - Iteration [300]/[2105] loss: 1.309275\n",
      "[2022-12-11 06:11:31,153] {<ipython-input-12-cb52601f4b8e>:126} INFO - Iteration [600]/[2105] loss: 1.104005\n",
      "[2022-12-11 06:12:09,337] {<ipython-input-12-cb52601f4b8e>:126} INFO - Iteration [900]/[2105] loss: 1.031189\n",
      "[2022-12-11 06:12:50,051] {<ipython-input-12-cb52601f4b8e>:126} INFO - Iteration [1200]/[2105] loss: 0.799180\n",
      "[2022-12-11 06:13:29,094] {<ipython-input-12-cb52601f4b8e>:126} INFO - Iteration [1500]/[2105] loss: 1.263837\n",
      "[2022-12-11 06:14:07,863] {<ipython-input-12-cb52601f4b8e>:126} INFO - Iteration [1800]/[2105] loss: 1.087473\n",
      "[2022-12-11 06:14:46,781] {<ipython-input-12-cb52601f4b8e>:126} INFO - Iteration [2100]/[2105] loss: 0.823345\n",
      "[2022-12-11 06:14:47,280] {<ipython-input-12-cb52601f4b8e>:130} INFO - Eval loop\n"
     ]
    },
    {
     "name": "stdout",
     "output_type": "stream",
     "text": [
      "\n"
     ]
    },
    {
     "data": {
      "application/vnd.jupyter.widget-view+json": {
       "model_id": "83b248e5db13493a96a106515755df87",
       "version_major": 2,
       "version_minor": 0
      },
      "text/plain": [
       "HBox(children=(FloatProgress(value=0.0, max=527.0), HTML(value='')))"
      ]
     },
     "metadata": {},
     "output_type": "display_data"
    },
    {
     "name": "stderr",
     "output_type": "stream",
     "text": [
      "[2022-12-11 06:14:47,338] {<ipython-input-12-cb52601f4b8e>:163} INFO - Iteration [0]/[527] loss: 2.448367\n",
      "[2022-12-11 06:15:00,856] {<ipython-input-12-cb52601f4b8e>:163} INFO - Iteration [300]/[527] loss: 2.223216\n",
      "[2022-12-11 06:15:11,040] {<ipython-input-12-cb52601f4b8e>:57} INFO - Train loss avg:\t0.939656\n",
      "[2022-12-11 06:15:11,041] {<ipython-input-12-cb52601f4b8e>:58} INFO - Eval loss avg:\t2.525623\n",
      "[2022-12-11 06:15:11,041] {<ipython-input-12-cb52601f4b8e>:64} INFO - Clean up CUDA memory\n"
     ]
    },
    {
     "name": "stdout",
     "output_type": "stream",
     "text": [
      "\n"
     ]
    },
    {
     "name": "stderr",
     "output_type": "stream",
     "text": [
      "[2022-12-11 06:15:11,286] {<ipython-input-12-cb52601f4b8e>:36} INFO - Epoch [74]/[120]\n",
      "[2022-12-11 06:15:11,287] {<ipython-input-12-cb52601f4b8e>:39} INFO - LR:\t3.90625e-06\n",
      "[2022-12-11 06:15:11,288] {<ipython-input-12-cb52601f4b8e>:71} INFO - Train loop\n"
     ]
    },
    {
     "data": {
      "application/vnd.jupyter.widget-view+json": {
       "model_id": "9280a5b9d1ad48d0bf55f68dd5a6c044",
       "version_major": 2,
       "version_minor": 0
      },
      "text/plain": [
       "HBox(children=(FloatProgress(value=0.0, max=2105.0), HTML(value='')))"
      ]
     },
     "metadata": {},
     "output_type": "display_data"
    },
    {
     "name": "stderr",
     "output_type": "stream",
     "text": [
      "[2022-12-11 06:15:11,493] {<ipython-input-12-cb52601f4b8e>:126} INFO - Iteration [0]/[2105] loss: 1.129614\n",
      "[2022-12-11 06:15:49,997] {<ipython-input-12-cb52601f4b8e>:126} INFO - Iteration [300]/[2105] loss: 1.434236\n",
      "[2022-12-11 06:16:29,328] {<ipython-input-12-cb52601f4b8e>:126} INFO - Iteration [600]/[2105] loss: 0.767934\n",
      "[2022-12-11 06:17:07,362] {<ipython-input-12-cb52601f4b8e>:126} INFO - Iteration [900]/[2105] loss: 1.373199\n",
      "[2022-12-11 06:17:47,632] {<ipython-input-12-cb52601f4b8e>:126} INFO - Iteration [1200]/[2105] loss: 1.019960\n",
      "[2022-12-11 06:18:25,559] {<ipython-input-12-cb52601f4b8e>:126} INFO - Iteration [1500]/[2105] loss: 0.990610\n",
      "[2022-12-11 06:19:04,208] {<ipython-input-12-cb52601f4b8e>:126} INFO - Iteration [1800]/[2105] loss: 0.792625\n",
      "[2022-12-11 06:19:43,413] {<ipython-input-12-cb52601f4b8e>:126} INFO - Iteration [2100]/[2105] loss: 0.752712\n",
      "[2022-12-11 06:19:43,905] {<ipython-input-12-cb52601f4b8e>:130} INFO - Eval loop\n"
     ]
    },
    {
     "name": "stdout",
     "output_type": "stream",
     "text": [
      "\n"
     ]
    },
    {
     "data": {
      "application/vnd.jupyter.widget-view+json": {
       "model_id": "bc36d2ecb5b641658695d2bfe30e0896",
       "version_major": 2,
       "version_minor": 0
      },
      "text/plain": [
       "HBox(children=(FloatProgress(value=0.0, max=527.0), HTML(value='')))"
      ]
     },
     "metadata": {},
     "output_type": "display_data"
    },
    {
     "name": "stderr",
     "output_type": "stream",
     "text": [
      "[2022-12-11 06:19:43,968] {<ipython-input-12-cb52601f4b8e>:163} INFO - Iteration [0]/[527] loss: 2.444364\n",
      "[2022-12-11 06:19:57,333] {<ipython-input-12-cb52601f4b8e>:163} INFO - Iteration [300]/[527] loss: 2.225556\n",
      "[2022-12-11 06:20:07,407] {<ipython-input-12-cb52601f4b8e>:57} INFO - Train loss avg:\t0.940717\n",
      "[2022-12-11 06:20:07,408] {<ipython-input-12-cb52601f4b8e>:58} INFO - Eval loss avg:\t2.529118\n",
      "[2022-12-11 06:20:07,409] {<ipython-input-12-cb52601f4b8e>:64} INFO - Clean up CUDA memory\n",
      "[2022-12-11 06:20:07,675] {<ipython-input-12-cb52601f4b8e>:36} INFO - Epoch [75]/[120]\n"
     ]
    },
    {
     "name": "stdout",
     "output_type": "stream",
     "text": [
      "\n"
     ]
    },
    {
     "name": "stderr",
     "output_type": "stream",
     "text": [
      "[2022-12-11 06:20:07,676] {<ipython-input-12-cb52601f4b8e>:39} INFO - LR:\t1.953125e-06\n",
      "[2022-12-11 06:20:07,677] {<ipython-input-12-cb52601f4b8e>:71} INFO - Train loop\n"
     ]
    },
    {
     "data": {
      "application/vnd.jupyter.widget-view+json": {
       "model_id": "42972972b2454bf6ac7772743495ba92",
       "version_major": 2,
       "version_minor": 0
      },
      "text/plain": [
       "HBox(children=(FloatProgress(value=0.0, max=2105.0), HTML(value='')))"
      ]
     },
     "metadata": {},
     "output_type": "display_data"
    },
    {
     "name": "stderr",
     "output_type": "stream",
     "text": [
      "[2022-12-11 06:20:07,874] {<ipython-input-12-cb52601f4b8e>:126} INFO - Iteration [0]/[2105] loss: 1.116277\n",
      "[2022-12-11 06:20:46,390] {<ipython-input-12-cb52601f4b8e>:126} INFO - Iteration [300]/[2105] loss: 0.925593\n",
      "[2022-12-11 06:21:24,774] {<ipython-input-12-cb52601f4b8e>:126} INFO - Iteration [600]/[2105] loss: 1.032328\n",
      "[2022-12-11 06:22:02,919] {<ipython-input-12-cb52601f4b8e>:126} INFO - Iteration [900]/[2105] loss: 0.778432\n",
      "[2022-12-11 06:22:41,543] {<ipython-input-12-cb52601f4b8e>:126} INFO - Iteration [1200]/[2105] loss: 1.176478\n",
      "[2022-12-11 06:23:19,756] {<ipython-input-12-cb52601f4b8e>:126} INFO - Iteration [1500]/[2105] loss: 0.969244\n",
      "[2022-12-11 06:23:58,704] {<ipython-input-12-cb52601f4b8e>:126} INFO - Iteration [1800]/[2105] loss: 0.786601\n",
      "[2022-12-11 06:24:37,626] {<ipython-input-12-cb52601f4b8e>:126} INFO - Iteration [2100]/[2105] loss: 0.666978\n",
      "[2022-12-11 06:24:38,082] {<ipython-input-12-cb52601f4b8e>:130} INFO - Eval loop\n"
     ]
    },
    {
     "name": "stdout",
     "output_type": "stream",
     "text": [
      "\n"
     ]
    },
    {
     "data": {
      "application/vnd.jupyter.widget-view+json": {
       "model_id": "b347689faf6f4ce09327d2ef00837d4f",
       "version_major": 2,
       "version_minor": 0
      },
      "text/plain": [
       "HBox(children=(FloatProgress(value=0.0, max=527.0), HTML(value='')))"
      ]
     },
     "metadata": {},
     "output_type": "display_data"
    },
    {
     "name": "stderr",
     "output_type": "stream",
     "text": [
      "[2022-12-11 06:24:38,137] {<ipython-input-12-cb52601f4b8e>:163} INFO - Iteration [0]/[527] loss: 2.443890\n",
      "[2022-12-11 06:24:51,478] {<ipython-input-12-cb52601f4b8e>:163} INFO - Iteration [300]/[527] loss: 2.238770\n",
      "[2022-12-11 06:25:01,521] {<ipython-input-12-cb52601f4b8e>:57} INFO - Train loss avg:\t0.941044\n",
      "[2022-12-11 06:25:01,521] {<ipython-input-12-cb52601f4b8e>:58} INFO - Eval loss avg:\t2.527542\n",
      "[2022-12-11 06:25:01,522] {<ipython-input-12-cb52601f4b8e>:64} INFO - Clean up CUDA memory\n",
      "[2022-12-11 06:25:01,771] {<ipython-input-12-cb52601f4b8e>:36} INFO - Epoch [76]/[120]\n"
     ]
    },
    {
     "name": "stdout",
     "output_type": "stream",
     "text": [
      "\n"
     ]
    },
    {
     "name": "stderr",
     "output_type": "stream",
     "text": [
      "[2022-12-11 06:25:01,772] {<ipython-input-12-cb52601f4b8e>:39} INFO - LR:\t1.953125e-06\n",
      "[2022-12-11 06:25:01,773] {<ipython-input-12-cb52601f4b8e>:71} INFO - Train loop\n"
     ]
    },
    {
     "data": {
      "application/vnd.jupyter.widget-view+json": {
       "model_id": "dd9d20a10f274d588b5413422c0090c7",
       "version_major": 2,
       "version_minor": 0
      },
      "text/plain": [
       "HBox(children=(FloatProgress(value=0.0, max=2105.0), HTML(value='')))"
      ]
     },
     "metadata": {},
     "output_type": "display_data"
    },
    {
     "name": "stderr",
     "output_type": "stream",
     "text": [
      "[2022-12-11 06:25:01,941] {<ipython-input-12-cb52601f4b8e>:126} INFO - Iteration [0]/[2105] loss: 1.018842\n",
      "[2022-12-11 06:25:40,701] {<ipython-input-12-cb52601f4b8e>:126} INFO - Iteration [300]/[2105] loss: 0.609746\n",
      "[2022-12-11 06:26:19,133] {<ipython-input-12-cb52601f4b8e>:126} INFO - Iteration [600]/[2105] loss: 0.888712\n",
      "[2022-12-11 06:26:57,287] {<ipython-input-12-cb52601f4b8e>:126} INFO - Iteration [900]/[2105] loss: 1.070208\n",
      "[2022-12-11 06:27:35,343] {<ipython-input-12-cb52601f4b8e>:126} INFO - Iteration [1200]/[2105] loss: 0.979083\n",
      "[2022-12-11 06:28:14,026] {<ipython-input-12-cb52601f4b8e>:126} INFO - Iteration [1500]/[2105] loss: 0.885212\n",
      "[2022-12-11 06:28:52,838] {<ipython-input-12-cb52601f4b8e>:126} INFO - Iteration [1800]/[2105] loss: 0.746820\n",
      "[2022-12-11 06:29:31,126] {<ipython-input-12-cb52601f4b8e>:126} INFO - Iteration [2100]/[2105] loss: 1.095458\n",
      "[2022-12-11 06:29:31,599] {<ipython-input-12-cb52601f4b8e>:130} INFO - Eval loop\n"
     ]
    },
    {
     "name": "stdout",
     "output_type": "stream",
     "text": [
      "\n"
     ]
    },
    {
     "data": {
      "application/vnd.jupyter.widget-view+json": {
       "model_id": "1b6ce4827cd84591b96325baa75489e8",
       "version_major": 2,
       "version_minor": 0
      },
      "text/plain": [
       "HBox(children=(FloatProgress(value=0.0, max=527.0), HTML(value='')))"
      ]
     },
     "metadata": {},
     "output_type": "display_data"
    },
    {
     "name": "stderr",
     "output_type": "stream",
     "text": [
      "[2022-12-11 06:29:31,659] {<ipython-input-12-cb52601f4b8e>:163} INFO - Iteration [0]/[527] loss: 2.440262\n",
      "[2022-12-11 06:29:45,000] {<ipython-input-12-cb52601f4b8e>:163} INFO - Iteration [300]/[527] loss: 2.234480\n",
      "[2022-12-11 06:29:55,022] {<ipython-input-12-cb52601f4b8e>:57} INFO - Train loss avg:\t0.931497\n",
      "[2022-12-11 06:29:55,023] {<ipython-input-12-cb52601f4b8e>:58} INFO - Eval loss avg:\t2.528955\n",
      "[2022-12-11 06:29:55,024] {<ipython-input-12-cb52601f4b8e>:64} INFO - Clean up CUDA memory\n"
     ]
    },
    {
     "name": "stdout",
     "output_type": "stream",
     "text": [
      "\n"
     ]
    },
    {
     "name": "stderr",
     "output_type": "stream",
     "text": [
      "[2022-12-11 06:29:55,262] {<ipython-input-12-cb52601f4b8e>:36} INFO - Epoch [77]/[120]\n",
      "[2022-12-11 06:29:55,263] {<ipython-input-12-cb52601f4b8e>:39} INFO - LR:\t1.953125e-06\n",
      "[2022-12-11 06:29:55,264] {<ipython-input-12-cb52601f4b8e>:71} INFO - Train loop\n"
     ]
    },
    {
     "data": {
      "application/vnd.jupyter.widget-view+json": {
       "model_id": "5c0adff398b5498f8bd21083329a4723",
       "version_major": 2,
       "version_minor": 0
      },
      "text/plain": [
       "HBox(children=(FloatProgress(value=0.0, max=2105.0), HTML(value='')))"
      ]
     },
     "metadata": {},
     "output_type": "display_data"
    },
    {
     "name": "stderr",
     "output_type": "stream",
     "text": [
      "[2022-12-11 06:29:55,516] {<ipython-input-12-cb52601f4b8e>:126} INFO - Iteration [0]/[2105] loss: 1.308497\n",
      "[2022-12-11 06:30:33,671] {<ipython-input-12-cb52601f4b8e>:126} INFO - Iteration [300]/[2105] loss: 0.858528\n",
      "[2022-12-11 06:31:12,474] {<ipython-input-12-cb52601f4b8e>:126} INFO - Iteration [600]/[2105] loss: 0.962105\n",
      "[2022-12-11 06:31:51,131] {<ipython-input-12-cb52601f4b8e>:126} INFO - Iteration [900]/[2105] loss: 0.958314\n",
      "[2022-12-11 06:32:30,450] {<ipython-input-12-cb52601f4b8e>:126} INFO - Iteration [1200]/[2105] loss: 0.887307\n",
      "[2022-12-11 06:33:09,127] {<ipython-input-12-cb52601f4b8e>:126} INFO - Iteration [1500]/[2105] loss: 0.748267\n",
      "[2022-12-11 06:33:47,400] {<ipython-input-12-cb52601f4b8e>:126} INFO - Iteration [1800]/[2105] loss: 0.781252\n",
      "[2022-12-11 06:34:25,244] {<ipython-input-12-cb52601f4b8e>:126} INFO - Iteration [2100]/[2105] loss: 0.969735\n",
      "[2022-12-11 06:34:25,693] {<ipython-input-12-cb52601f4b8e>:130} INFO - Eval loop\n"
     ]
    },
    {
     "name": "stdout",
     "output_type": "stream",
     "text": [
      "\n"
     ]
    },
    {
     "data": {
      "application/vnd.jupyter.widget-view+json": {
       "model_id": "9db53cf9bdb3461bb2f63ac3a708fbb6",
       "version_major": 2,
       "version_minor": 0
      },
      "text/plain": [
       "HBox(children=(FloatProgress(value=0.0, max=527.0), HTML(value='')))"
      ]
     },
     "metadata": {},
     "output_type": "display_data"
    },
    {
     "name": "stderr",
     "output_type": "stream",
     "text": [
      "[2022-12-11 06:34:25,755] {<ipython-input-12-cb52601f4b8e>:163} INFO - Iteration [0]/[527] loss: 2.440074\n",
      "[2022-12-11 06:34:39,129] {<ipython-input-12-cb52601f4b8e>:163} INFO - Iteration [300]/[527] loss: 2.241660\n",
      "[2022-12-11 06:34:49,177] {<ipython-input-12-cb52601f4b8e>:57} INFO - Train loss avg:\t0.946605\n",
      "[2022-12-11 06:34:49,178] {<ipython-input-12-cb52601f4b8e>:58} INFO - Eval loss avg:\t2.523544\n",
      "[2022-12-11 06:34:49,179] {<ipython-input-12-cb52601f4b8e>:64} INFO - Clean up CUDA memory\n"
     ]
    },
    {
     "name": "stdout",
     "output_type": "stream",
     "text": [
      "\n"
     ]
    },
    {
     "name": "stderr",
     "output_type": "stream",
     "text": [
      "[2022-12-11 06:34:49,426] {<ipython-input-12-cb52601f4b8e>:36} INFO - Epoch [78]/[120]\n",
      "[2022-12-11 06:34:49,426] {<ipython-input-12-cb52601f4b8e>:39} INFO - LR:\t1.953125e-06\n",
      "[2022-12-11 06:34:49,427] {<ipython-input-12-cb52601f4b8e>:71} INFO - Train loop\n"
     ]
    },
    {
     "data": {
      "application/vnd.jupyter.widget-view+json": {
       "model_id": "29b53bef59864fd8ba9e247ac41820b1",
       "version_major": 2,
       "version_minor": 0
      },
      "text/plain": [
       "HBox(children=(FloatProgress(value=0.0, max=2105.0), HTML(value='')))"
      ]
     },
     "metadata": {},
     "output_type": "display_data"
    },
    {
     "name": "stderr",
     "output_type": "stream",
     "text": [
      "[2022-12-11 06:34:49,583] {<ipython-input-12-cb52601f4b8e>:126} INFO - Iteration [0]/[2105] loss: 0.911625\n",
      "[2022-12-11 06:35:27,990] {<ipython-input-12-cb52601f4b8e>:126} INFO - Iteration [300]/[2105] loss: 1.123406\n",
      "[2022-12-11 06:36:06,443] {<ipython-input-12-cb52601f4b8e>:126} INFO - Iteration [600]/[2105] loss: 1.132333\n",
      "[2022-12-11 06:36:45,419] {<ipython-input-12-cb52601f4b8e>:126} INFO - Iteration [900]/[2105] loss: 0.814968\n",
      "[2022-12-11 06:37:24,014] {<ipython-input-12-cb52601f4b8e>:126} INFO - Iteration [1200]/[2105] loss: 0.843903\n",
      "[2022-12-11 06:38:02,522] {<ipython-input-12-cb52601f4b8e>:126} INFO - Iteration [1500]/[2105] loss: 0.824033\n",
      "[2022-12-11 06:38:41,541] {<ipython-input-12-cb52601f4b8e>:126} INFO - Iteration [1800]/[2105] loss: 1.442702\n",
      "[2022-12-11 06:39:19,796] {<ipython-input-12-cb52601f4b8e>:126} INFO - Iteration [2100]/[2105] loss: 0.970949\n",
      "[2022-12-11 06:39:20,220] {<ipython-input-12-cb52601f4b8e>:130} INFO - Eval loop\n"
     ]
    },
    {
     "name": "stdout",
     "output_type": "stream",
     "text": [
      "\n"
     ]
    },
    {
     "data": {
      "application/vnd.jupyter.widget-view+json": {
       "model_id": "671a8d5e2d574395af1f7704cff0f9ce",
       "version_major": 2,
       "version_minor": 0
      },
      "text/plain": [
       "HBox(children=(FloatProgress(value=0.0, max=527.0), HTML(value='')))"
      ]
     },
     "metadata": {},
     "output_type": "display_data"
    },
    {
     "name": "stderr",
     "output_type": "stream",
     "text": [
      "[2022-12-11 06:39:20,279] {<ipython-input-12-cb52601f4b8e>:163} INFO - Iteration [0]/[527] loss: 2.444881\n",
      "[2022-12-11 06:39:33,684] {<ipython-input-12-cb52601f4b8e>:163} INFO - Iteration [300]/[527] loss: 2.235138\n",
      "[2022-12-11 06:39:43,748] {<ipython-input-12-cb52601f4b8e>:57} INFO - Train loss avg:\t0.940701\n",
      "[2022-12-11 06:39:43,749] {<ipython-input-12-cb52601f4b8e>:58} INFO - Eval loss avg:\t2.524686\n",
      "[2022-12-11 06:39:43,750] {<ipython-input-12-cb52601f4b8e>:64} INFO - Clean up CUDA memory\n",
      "[2022-12-11 06:39:43,996] {<ipython-input-12-cb52601f4b8e>:36} INFO - Epoch [79]/[120]\n"
     ]
    },
    {
     "name": "stdout",
     "output_type": "stream",
     "text": [
      "\n"
     ]
    },
    {
     "name": "stderr",
     "output_type": "stream",
     "text": [
      "[2022-12-11 06:39:43,997] {<ipython-input-12-cb52601f4b8e>:39} INFO - LR:\t1.953125e-06\n",
      "[2022-12-11 06:39:43,998] {<ipython-input-12-cb52601f4b8e>:71} INFO - Train loop\n"
     ]
    },
    {
     "data": {
      "application/vnd.jupyter.widget-view+json": {
       "model_id": "8b00dee11a5648b690baa8f7cdc94637",
       "version_major": 2,
       "version_minor": 0
      },
      "text/plain": [
       "HBox(children=(FloatProgress(value=0.0, max=2105.0), HTML(value='')))"
      ]
     },
     "metadata": {},
     "output_type": "display_data"
    },
    {
     "name": "stderr",
     "output_type": "stream",
     "text": [
      "[2022-12-11 06:39:44,170] {<ipython-input-12-cb52601f4b8e>:126} INFO - Iteration [0]/[2105] loss: 0.823393\n",
      "[2022-12-11 06:40:22,421] {<ipython-input-12-cb52601f4b8e>:126} INFO - Iteration [300]/[2105] loss: 0.825816\n",
      "[2022-12-11 06:41:01,633] {<ipython-input-12-cb52601f4b8e>:126} INFO - Iteration [600]/[2105] loss: 0.842419\n",
      "[2022-12-11 06:41:40,260] {<ipython-input-12-cb52601f4b8e>:126} INFO - Iteration [900]/[2105] loss: 1.128782\n",
      "[2022-12-11 06:42:18,859] {<ipython-input-12-cb52601f4b8e>:126} INFO - Iteration [1200]/[2105] loss: 0.923142\n",
      "[2022-12-11 06:42:56,870] {<ipython-input-12-cb52601f4b8e>:126} INFO - Iteration [1500]/[2105] loss: 0.917974\n",
      "[2022-12-11 06:43:36,040] {<ipython-input-12-cb52601f4b8e>:126} INFO - Iteration [1800]/[2105] loss: 0.954153\n",
      "[2022-12-11 06:44:14,674] {<ipython-input-12-cb52601f4b8e>:126} INFO - Iteration [2100]/[2105] loss: 1.191963\n",
      "[2022-12-11 06:44:15,109] {<ipython-input-12-cb52601f4b8e>:130} INFO - Eval loop\n"
     ]
    },
    {
     "name": "stdout",
     "output_type": "stream",
     "text": [
      "\n"
     ]
    },
    {
     "data": {
      "application/vnd.jupyter.widget-view+json": {
       "model_id": "9b24ea98c7e24fb0aa32c481130a3666",
       "version_major": 2,
       "version_minor": 0
      },
      "text/plain": [
       "HBox(children=(FloatProgress(value=0.0, max=527.0), HTML(value='')))"
      ]
     },
     "metadata": {},
     "output_type": "display_data"
    },
    {
     "name": "stderr",
     "output_type": "stream",
     "text": [
      "[2022-12-11 06:44:15,171] {<ipython-input-12-cb52601f4b8e>:163} INFO - Iteration [0]/[527] loss: 2.442649\n",
      "[2022-12-11 06:44:28,568] {<ipython-input-12-cb52601f4b8e>:163} INFO - Iteration [300]/[527] loss: 2.233402\n",
      "[2022-12-11 06:44:38,645] {<ipython-input-12-cb52601f4b8e>:57} INFO - Train loss avg:\t0.938181\n",
      "[2022-12-11 06:44:38,646] {<ipython-input-12-cb52601f4b8e>:58} INFO - Eval loss avg:\t2.524549\n",
      "[2022-12-11 06:44:38,647] {<ipython-input-12-cb52601f4b8e>:64} INFO - Clean up CUDA memory\n",
      "[2022-12-11 06:44:38,903] {<ipython-input-12-cb52601f4b8e>:36} INFO - Epoch [80]/[120]\n"
     ]
    },
    {
     "name": "stdout",
     "output_type": "stream",
     "text": [
      "\n"
     ]
    },
    {
     "name": "stderr",
     "output_type": "stream",
     "text": [
      "[2022-12-11 06:44:38,904] {<ipython-input-12-cb52601f4b8e>:39} INFO - LR:\t1.953125e-06\n",
      "[2022-12-11 06:44:38,904] {<ipython-input-12-cb52601f4b8e>:71} INFO - Train loop\n"
     ]
    },
    {
     "data": {
      "application/vnd.jupyter.widget-view+json": {
       "model_id": "493ce7e9caa1423484cbacbe3a861c6e",
       "version_major": 2,
       "version_minor": 0
      },
      "text/plain": [
       "HBox(children=(FloatProgress(value=0.0, max=2105.0), HTML(value='')))"
      ]
     },
     "metadata": {},
     "output_type": "display_data"
    },
    {
     "name": "stderr",
     "output_type": "stream",
     "text": [
      "[2022-12-11 06:44:39,147] {<ipython-input-12-cb52601f4b8e>:126} INFO - Iteration [0]/[2105] loss: 1.363047\n",
      "[2022-12-11 06:45:18,082] {<ipython-input-12-cb52601f4b8e>:126} INFO - Iteration [300]/[2105] loss: 1.203738\n",
      "[2022-12-11 06:45:56,833] {<ipython-input-12-cb52601f4b8e>:126} INFO - Iteration [600]/[2105] loss: 0.968582\n",
      "[2022-12-11 06:46:35,683] {<ipython-input-12-cb52601f4b8e>:126} INFO - Iteration [900]/[2105] loss: 1.080473\n",
      "[2022-12-11 06:47:14,367] {<ipython-input-12-cb52601f4b8e>:126} INFO - Iteration [1200]/[2105] loss: 1.410611\n",
      "[2022-12-11 06:47:52,542] {<ipython-input-12-cb52601f4b8e>:126} INFO - Iteration [1500]/[2105] loss: 1.214400\n",
      "[2022-12-11 06:48:31,045] {<ipython-input-12-cb52601f4b8e>:126} INFO - Iteration [1800]/[2105] loss: 0.962632\n",
      "[2022-12-11 06:49:09,236] {<ipython-input-12-cb52601f4b8e>:126} INFO - Iteration [2100]/[2105] loss: 0.850611\n",
      "[2022-12-11 06:49:09,689] {<ipython-input-12-cb52601f4b8e>:130} INFO - Eval loop\n"
     ]
    },
    {
     "name": "stdout",
     "output_type": "stream",
     "text": [
      "\n"
     ]
    },
    {
     "data": {
      "application/vnd.jupyter.widget-view+json": {
       "model_id": "1f382c85208b419c8fc315c24e4e2847",
       "version_major": 2,
       "version_minor": 0
      },
      "text/plain": [
       "HBox(children=(FloatProgress(value=0.0, max=527.0), HTML(value='')))"
      ]
     },
     "metadata": {},
     "output_type": "display_data"
    },
    {
     "name": "stderr",
     "output_type": "stream",
     "text": [
      "[2022-12-11 06:49:09,747] {<ipython-input-12-cb52601f4b8e>:163} INFO - Iteration [0]/[527] loss: 2.455076\n",
      "[2022-12-11 06:49:23,157] {<ipython-input-12-cb52601f4b8e>:163} INFO - Iteration [300]/[527] loss: 2.228918\n",
      "[2022-12-11 06:49:33,174] {<ipython-input-12-cb52601f4b8e>:57} INFO - Train loss avg:\t0.938586\n",
      "[2022-12-11 06:49:33,174] {<ipython-input-12-cb52601f4b8e>:58} INFO - Eval loss avg:\t2.528178\n",
      "[2022-12-11 06:49:33,175] {<ipython-input-12-cb52601f4b8e>:64} INFO - Clean up CUDA memory\n",
      "[2022-12-11 06:49:33,413] {<ipython-input-12-cb52601f4b8e>:36} INFO - Epoch [81]/[120]\n"
     ]
    },
    {
     "name": "stdout",
     "output_type": "stream",
     "text": [
      "\n"
     ]
    },
    {
     "name": "stderr",
     "output_type": "stream",
     "text": [
      "[2022-12-11 06:49:33,415] {<ipython-input-12-cb52601f4b8e>:39} INFO - LR:\t9.765625e-07\n",
      "[2022-12-11 06:49:33,415] {<ipython-input-12-cb52601f4b8e>:71} INFO - Train loop\n"
     ]
    },
    {
     "data": {
      "application/vnd.jupyter.widget-view+json": {
       "model_id": "2b2fac7d47eb43b49bbcab4614459074",
       "version_major": 2,
       "version_minor": 0
      },
      "text/plain": [
       "HBox(children=(FloatProgress(value=0.0, max=2105.0), HTML(value='')))"
      ]
     },
     "metadata": {},
     "output_type": "display_data"
    },
    {
     "name": "stderr",
     "output_type": "stream",
     "text": [
      "[2022-12-11 06:49:33,626] {<ipython-input-12-cb52601f4b8e>:126} INFO - Iteration [0]/[2105] loss: 0.738566\n",
      "[2022-12-11 06:50:12,072] {<ipython-input-12-cb52601f4b8e>:126} INFO - Iteration [300]/[2105] loss: 1.275102\n",
      "[2022-12-11 06:50:50,552] {<ipython-input-12-cb52601f4b8e>:126} INFO - Iteration [600]/[2105] loss: 0.902250\n",
      "[2022-12-11 06:51:28,808] {<ipython-input-12-cb52601f4b8e>:126} INFO - Iteration [900]/[2105] loss: 0.716484\n",
      "[2022-12-11 06:52:07,611] {<ipython-input-12-cb52601f4b8e>:126} INFO - Iteration [1200]/[2105] loss: 0.758864\n",
      "[2022-12-11 06:52:45,563] {<ipython-input-12-cb52601f4b8e>:126} INFO - Iteration [1500]/[2105] loss: 0.829438\n",
      "[2022-12-11 06:53:24,598] {<ipython-input-12-cb52601f4b8e>:126} INFO - Iteration [1800]/[2105] loss: 0.892343\n",
      "[2022-12-11 06:54:02,768] {<ipython-input-12-cb52601f4b8e>:126} INFO - Iteration [2100]/[2105] loss: 0.761023\n",
      "[2022-12-11 06:54:03,246] {<ipython-input-12-cb52601f4b8e>:130} INFO - Eval loop\n"
     ]
    },
    {
     "name": "stdout",
     "output_type": "stream",
     "text": [
      "\n"
     ]
    },
    {
     "data": {
      "application/vnd.jupyter.widget-view+json": {
       "model_id": "a7ce782b52ec4945874a9b10b2625f9f",
       "version_major": 2,
       "version_minor": 0
      },
      "text/plain": [
       "HBox(children=(FloatProgress(value=0.0, max=527.0), HTML(value='')))"
      ]
     },
     "metadata": {},
     "output_type": "display_data"
    },
    {
     "name": "stderr",
     "output_type": "stream",
     "text": [
      "[2022-12-11 06:54:03,307] {<ipython-input-12-cb52601f4b8e>:163} INFO - Iteration [0]/[527] loss: 2.451886\n",
      "[2022-12-11 06:54:16,686] {<ipython-input-12-cb52601f4b8e>:163} INFO - Iteration [300]/[527] loss: 2.234144\n",
      "[2022-12-11 06:54:26,720] {<ipython-input-12-cb52601f4b8e>:57} INFO - Train loss avg:\t0.939685\n",
      "[2022-12-11 06:54:26,721] {<ipython-input-12-cb52601f4b8e>:58} INFO - Eval loss avg:\t2.525022\n",
      "[2022-12-11 06:54:26,721] {<ipython-input-12-cb52601f4b8e>:64} INFO - Clean up CUDA memory\n",
      "[2022-12-11 06:54:26,968] {<ipython-input-12-cb52601f4b8e>:36} INFO - Epoch [82]/[120]\n"
     ]
    },
    {
     "name": "stdout",
     "output_type": "stream",
     "text": [
      "\n"
     ]
    },
    {
     "name": "stderr",
     "output_type": "stream",
     "text": [
      "[2022-12-11 06:54:26,969] {<ipython-input-12-cb52601f4b8e>:39} INFO - LR:\t9.765625e-07\n",
      "[2022-12-11 06:54:26,969] {<ipython-input-12-cb52601f4b8e>:71} INFO - Train loop\n"
     ]
    },
    {
     "data": {
      "application/vnd.jupyter.widget-view+json": {
       "model_id": "1ce02b8e8b5c43a0ae733f7f0468ba8f",
       "version_major": 2,
       "version_minor": 0
      },
      "text/plain": [
       "HBox(children=(FloatProgress(value=0.0, max=2105.0), HTML(value='')))"
      ]
     },
     "metadata": {},
     "output_type": "display_data"
    },
    {
     "name": "stderr",
     "output_type": "stream",
     "text": [
      "[2022-12-11 06:54:27,144] {<ipython-input-12-cb52601f4b8e>:126} INFO - Iteration [0]/[2105] loss: 0.965740\n",
      "[2022-12-11 06:55:05,402] {<ipython-input-12-cb52601f4b8e>:126} INFO - Iteration [300]/[2105] loss: 1.024403\n",
      "[2022-12-11 06:55:43,388] {<ipython-input-12-cb52601f4b8e>:126} INFO - Iteration [600]/[2105] loss: 0.847717\n",
      "[2022-12-11 06:56:21,240] {<ipython-input-12-cb52601f4b8e>:126} INFO - Iteration [900]/[2105] loss: 1.133247\n",
      "[2022-12-11 06:57:00,244] {<ipython-input-12-cb52601f4b8e>:126} INFO - Iteration [1200]/[2105] loss: 0.725587\n",
      "[2022-12-11 06:57:39,075] {<ipython-input-12-cb52601f4b8e>:126} INFO - Iteration [1500]/[2105] loss: 0.866627\n",
      "[2022-12-11 06:58:16,678] {<ipython-input-12-cb52601f4b8e>:126} INFO - Iteration [1800]/[2105] loss: 0.791268\n",
      "[2022-12-11 06:58:55,596] {<ipython-input-12-cb52601f4b8e>:126} INFO - Iteration [2100]/[2105] loss: 0.937382\n",
      "[2022-12-11 06:58:56,112] {<ipython-input-12-cb52601f4b8e>:130} INFO - Eval loop\n"
     ]
    },
    {
     "name": "stdout",
     "output_type": "stream",
     "text": [
      "\n"
     ]
    },
    {
     "data": {
      "application/vnd.jupyter.widget-view+json": {
       "model_id": "dfaaa5a63e564faeaef2bea06501c181",
       "version_major": 2,
       "version_minor": 0
      },
      "text/plain": [
       "HBox(children=(FloatProgress(value=0.0, max=527.0), HTML(value='')))"
      ]
     },
     "metadata": {},
     "output_type": "display_data"
    },
    {
     "name": "stderr",
     "output_type": "stream",
     "text": [
      "[2022-12-11 06:58:56,174] {<ipython-input-12-cb52601f4b8e>:163} INFO - Iteration [0]/[527] loss: 2.419292\n",
      "[2022-12-11 06:59:09,550] {<ipython-input-12-cb52601f4b8e>:163} INFO - Iteration [300]/[527] loss: 2.237127\n",
      "[2022-12-11 06:59:19,634] {<ipython-input-12-cb52601f4b8e>:57} INFO - Train loss avg:\t0.940267\n",
      "[2022-12-11 06:59:19,634] {<ipython-input-12-cb52601f4b8e>:58} INFO - Eval loss avg:\t2.525953\n",
      "[2022-12-11 06:59:19,635] {<ipython-input-12-cb52601f4b8e>:64} INFO - Clean up CUDA memory\n",
      "[2022-12-11 06:59:19,880] {<ipython-input-12-cb52601f4b8e>:36} INFO - Epoch [83]/[120]\n"
     ]
    },
    {
     "name": "stdout",
     "output_type": "stream",
     "text": [
      "\n"
     ]
    },
    {
     "name": "stderr",
     "output_type": "stream",
     "text": [
      "[2022-12-11 06:59:19,881] {<ipython-input-12-cb52601f4b8e>:39} INFO - LR:\t9.765625e-07\n",
      "[2022-12-11 06:59:19,882] {<ipython-input-12-cb52601f4b8e>:71} INFO - Train loop\n"
     ]
    },
    {
     "data": {
      "application/vnd.jupyter.widget-view+json": {
       "model_id": "0905f0d719a44dfd95b92c2a6eccf542",
       "version_major": 2,
       "version_minor": 0
      },
      "text/plain": [
       "HBox(children=(FloatProgress(value=0.0, max=2105.0), HTML(value='')))"
      ]
     },
     "metadata": {},
     "output_type": "display_data"
    },
    {
     "name": "stderr",
     "output_type": "stream",
     "text": [
      "[2022-12-11 06:59:20,080] {<ipython-input-12-cb52601f4b8e>:126} INFO - Iteration [0]/[2105] loss: 0.775219\n",
      "[2022-12-11 06:59:58,882] {<ipython-input-12-cb52601f4b8e>:126} INFO - Iteration [300]/[2105] loss: 0.813654\n",
      "[2022-12-11 07:00:37,022] {<ipython-input-12-cb52601f4b8e>:126} INFO - Iteration [600]/[2105] loss: 0.951582\n",
      "[2022-12-11 07:01:15,492] {<ipython-input-12-cb52601f4b8e>:126} INFO - Iteration [900]/[2105] loss: 0.717111\n",
      "[2022-12-11 07:01:54,240] {<ipython-input-12-cb52601f4b8e>:126} INFO - Iteration [1200]/[2105] loss: 1.391526\n",
      "[2022-12-11 07:02:34,677] {<ipython-input-12-cb52601f4b8e>:126} INFO - Iteration [1500]/[2105] loss: 0.762821\n",
      "[2022-12-11 07:03:15,163] {<ipython-input-12-cb52601f4b8e>:126} INFO - Iteration [1800]/[2105] loss: 1.220358\n",
      "[2022-12-11 07:03:54,302] {<ipython-input-12-cb52601f4b8e>:126} INFO - Iteration [2100]/[2105] loss: 0.929461\n",
      "[2022-12-11 07:03:54,823] {<ipython-input-12-cb52601f4b8e>:130} INFO - Eval loop\n"
     ]
    },
    {
     "name": "stdout",
     "output_type": "stream",
     "text": [
      "\n"
     ]
    },
    {
     "data": {
      "application/vnd.jupyter.widget-view+json": {
       "model_id": "9a278a81f7f44e4394ed2241af1a892b",
       "version_major": 2,
       "version_minor": 0
      },
      "text/plain": [
       "HBox(children=(FloatProgress(value=0.0, max=527.0), HTML(value='')))"
      ]
     },
     "metadata": {},
     "output_type": "display_data"
    },
    {
     "name": "stderr",
     "output_type": "stream",
     "text": [
      "[2022-12-11 07:03:54,880] {<ipython-input-12-cb52601f4b8e>:163} INFO - Iteration [0]/[527] loss: 2.438176\n",
      "[2022-12-11 07:04:08,508] {<ipython-input-12-cb52601f4b8e>:163} INFO - Iteration [300]/[527] loss: 2.235576\n",
      "[2022-12-11 07:04:18,734] {<ipython-input-12-cb52601f4b8e>:57} INFO - Train loss avg:\t0.930677\n",
      "[2022-12-11 07:04:18,734] {<ipython-input-12-cb52601f4b8e>:58} INFO - Eval loss avg:\t2.526813\n",
      "[2022-12-11 07:04:18,735] {<ipython-input-12-cb52601f4b8e>:64} INFO - Clean up CUDA memory\n",
      "[2022-12-11 07:04:18,982] {<ipython-input-12-cb52601f4b8e>:36} INFO - Epoch [84]/[120]\n"
     ]
    },
    {
     "name": "stdout",
     "output_type": "stream",
     "text": [
      "\n"
     ]
    },
    {
     "name": "stderr",
     "output_type": "stream",
     "text": [
      "[2022-12-11 07:04:18,983] {<ipython-input-12-cb52601f4b8e>:39} INFO - LR:\t9.765625e-07\n",
      "[2022-12-11 07:04:18,984] {<ipython-input-12-cb52601f4b8e>:71} INFO - Train loop\n"
     ]
    },
    {
     "data": {
      "application/vnd.jupyter.widget-view+json": {
       "model_id": "c9d5712334d649299f1a2b5d8f171f90",
       "version_major": 2,
       "version_minor": 0
      },
      "text/plain": [
       "HBox(children=(FloatProgress(value=0.0, max=2105.0), HTML(value='')))"
      ]
     },
     "metadata": {},
     "output_type": "display_data"
    },
    {
     "name": "stderr",
     "output_type": "stream",
     "text": [
      "[2022-12-11 07:04:19,171] {<ipython-input-12-cb52601f4b8e>:126} INFO - Iteration [0]/[2105] loss: 0.730476\n",
      "[2022-12-11 07:04:58,265] {<ipython-input-12-cb52601f4b8e>:126} INFO - Iteration [300]/[2105] loss: 0.829839\n",
      "[2022-12-11 07:05:37,472] {<ipython-input-12-cb52601f4b8e>:126} INFO - Iteration [600]/[2105] loss: 0.847671\n",
      "[2022-12-11 07:06:16,741] {<ipython-input-12-cb52601f4b8e>:126} INFO - Iteration [900]/[2105] loss: 0.863831\n",
      "[2022-12-11 07:06:55,990] {<ipython-input-12-cb52601f4b8e>:126} INFO - Iteration [1200]/[2105] loss: 1.293155\n",
      "[2022-12-11 07:07:35,515] {<ipython-input-12-cb52601f4b8e>:126} INFO - Iteration [1500]/[2105] loss: 1.156944\n",
      "[2022-12-11 07:08:14,845] {<ipython-input-12-cb52601f4b8e>:126} INFO - Iteration [1800]/[2105] loss: 0.890796\n",
      "[2022-12-11 07:08:54,416] {<ipython-input-12-cb52601f4b8e>:126} INFO - Iteration [2100]/[2105] loss: 0.915127\n",
      "[2022-12-11 07:08:54,858] {<ipython-input-12-cb52601f4b8e>:130} INFO - Eval loop\n"
     ]
    },
    {
     "name": "stdout",
     "output_type": "stream",
     "text": [
      "\n"
     ]
    },
    {
     "data": {
      "application/vnd.jupyter.widget-view+json": {
       "model_id": "d4b6b2108fc749948da386504ecf55ce",
       "version_major": 2,
       "version_minor": 0
      },
      "text/plain": [
       "HBox(children=(FloatProgress(value=0.0, max=527.0), HTML(value='')))"
      ]
     },
     "metadata": {},
     "output_type": "display_data"
    },
    {
     "name": "stderr",
     "output_type": "stream",
     "text": [
      "[2022-12-11 07:08:54,913] {<ipython-input-12-cb52601f4b8e>:163} INFO - Iteration [0]/[527] loss: 2.428208\n",
      "[2022-12-11 07:09:08,581] {<ipython-input-12-cb52601f4b8e>:163} INFO - Iteration [300]/[527] loss: 2.243169\n",
      "[2022-12-11 07:09:18,803] {<ipython-input-12-cb52601f4b8e>:57} INFO - Train loss avg:\t0.934612\n",
      "[2022-12-11 07:09:18,803] {<ipython-input-12-cb52601f4b8e>:58} INFO - Eval loss avg:\t2.524172\n",
      "[2022-12-11 07:09:18,804] {<ipython-input-12-cb52601f4b8e>:64} INFO - Clean up CUDA memory\n",
      "[2022-12-11 07:09:19,050] {<ipython-input-12-cb52601f4b8e>:36} INFO - Epoch [85]/[120]\n"
     ]
    },
    {
     "name": "stdout",
     "output_type": "stream",
     "text": [
      "\n"
     ]
    },
    {
     "name": "stderr",
     "output_type": "stream",
     "text": [
      "[2022-12-11 07:09:19,052] {<ipython-input-12-cb52601f4b8e>:39} INFO - LR:\t9.765625e-07\n",
      "[2022-12-11 07:09:19,053] {<ipython-input-12-cb52601f4b8e>:71} INFO - Train loop\n"
     ]
    },
    {
     "data": {
      "application/vnd.jupyter.widget-view+json": {
       "model_id": "71746dee30874f249611ee4edfa2e993",
       "version_major": 2,
       "version_minor": 0
      },
      "text/plain": [
       "HBox(children=(FloatProgress(value=0.0, max=2105.0), HTML(value='')))"
      ]
     },
     "metadata": {},
     "output_type": "display_data"
    },
    {
     "name": "stderr",
     "output_type": "stream",
     "text": [
      "[2022-12-11 07:09:19,238] {<ipython-input-12-cb52601f4b8e>:126} INFO - Iteration [0]/[2105] loss: 0.750527\n",
      "[2022-12-11 07:09:56,692] {<ipython-input-12-cb52601f4b8e>:126} INFO - Iteration [300]/[2105] loss: 0.905246\n",
      "[2022-12-11 07:10:36,835] {<ipython-input-12-cb52601f4b8e>:126} INFO - Iteration [600]/[2105] loss: 0.753271\n",
      "[2022-12-11 07:11:15,918] {<ipython-input-12-cb52601f4b8e>:126} INFO - Iteration [900]/[2105] loss: 0.748369\n",
      "[2022-12-11 07:11:55,637] {<ipython-input-12-cb52601f4b8e>:126} INFO - Iteration [1200]/[2105] loss: 0.909185\n",
      "[2022-12-11 07:12:35,981] {<ipython-input-12-cb52601f4b8e>:126} INFO - Iteration [1500]/[2105] loss: 0.771094\n",
      "[2022-12-11 07:13:13,772] {<ipython-input-12-cb52601f4b8e>:126} INFO - Iteration [1800]/[2105] loss: 1.160440\n",
      "[2022-12-11 07:13:53,172] {<ipython-input-12-cb52601f4b8e>:126} INFO - Iteration [2100]/[2105] loss: 0.682869\n",
      "[2022-12-11 07:13:53,642] {<ipython-input-12-cb52601f4b8e>:130} INFO - Eval loop\n"
     ]
    },
    {
     "name": "stdout",
     "output_type": "stream",
     "text": [
      "\n"
     ]
    },
    {
     "data": {
      "application/vnd.jupyter.widget-view+json": {
       "model_id": "456642f5120f40458d0678ef09a37d81",
       "version_major": 2,
       "version_minor": 0
      },
      "text/plain": [
       "HBox(children=(FloatProgress(value=0.0, max=527.0), HTML(value='')))"
      ]
     },
     "metadata": {},
     "output_type": "display_data"
    },
    {
     "name": "stderr",
     "output_type": "stream",
     "text": [
      "[2022-12-11 07:13:53,706] {<ipython-input-12-cb52601f4b8e>:163} INFO - Iteration [0]/[527] loss: 2.445947\n",
      "[2022-12-11 07:14:06,891] {<ipython-input-12-cb52601f4b8e>:163} INFO - Iteration [300]/[527] loss: 2.236813\n",
      "[2022-12-11 07:14:16,744] {<ipython-input-12-cb52601f4b8e>:57} INFO - Train loss avg:\t0.935239\n",
      "[2022-12-11 07:14:16,745] {<ipython-input-12-cb52601f4b8e>:58} INFO - Eval loss avg:\t2.524389\n",
      "[2022-12-11 07:14:16,745] {<ipython-input-12-cb52601f4b8e>:64} INFO - Clean up CUDA memory\n",
      "[2022-12-11 07:14:16,990] {<ipython-input-12-cb52601f4b8e>:36} INFO - Epoch [86]/[120]\n"
     ]
    },
    {
     "name": "stdout",
     "output_type": "stream",
     "text": [
      "\n"
     ]
    },
    {
     "name": "stderr",
     "output_type": "stream",
     "text": [
      "[2022-12-11 07:14:16,991] {<ipython-input-12-cb52601f4b8e>:39} INFO - LR:\t9.765625e-07\n",
      "[2022-12-11 07:14:16,992] {<ipython-input-12-cb52601f4b8e>:71} INFO - Train loop\n"
     ]
    },
    {
     "data": {
      "application/vnd.jupyter.widget-view+json": {
       "model_id": "582e1f32147943a99bc8654c46f89086",
       "version_major": 2,
       "version_minor": 0
      },
      "text/plain": [
       "HBox(children=(FloatProgress(value=0.0, max=2105.0), HTML(value='')))"
      ]
     },
     "metadata": {},
     "output_type": "display_data"
    },
    {
     "name": "stderr",
     "output_type": "stream",
     "text": [
      "[2022-12-11 07:14:17,135] {<ipython-input-12-cb52601f4b8e>:126} INFO - Iteration [0]/[2105] loss: 0.705227\n",
      "[2022-12-11 07:14:54,970] {<ipython-input-12-cb52601f4b8e>:126} INFO - Iteration [300]/[2105] loss: 0.761535\n",
      "[2022-12-11 07:15:35,717] {<ipython-input-12-cb52601f4b8e>:126} INFO - Iteration [600]/[2105] loss: 0.804513\n",
      "[2022-12-11 07:16:15,165] {<ipython-input-12-cb52601f4b8e>:126} INFO - Iteration [900]/[2105] loss: 1.208351\n",
      "[2022-12-11 07:16:54,756] {<ipython-input-12-cb52601f4b8e>:126} INFO - Iteration [1200]/[2105] loss: 0.568632\n",
      "[2022-12-11 07:17:33,766] {<ipython-input-12-cb52601f4b8e>:126} INFO - Iteration [1500]/[2105] loss: 0.786696\n",
      "[2022-12-11 07:18:12,732] {<ipython-input-12-cb52601f4b8e>:126} INFO - Iteration [1800]/[2105] loss: 0.632773\n",
      "[2022-12-11 07:18:51,825] {<ipython-input-12-cb52601f4b8e>:126} INFO - Iteration [2100]/[2105] loss: 0.734890\n",
      "[2022-12-11 07:18:52,274] {<ipython-input-12-cb52601f4b8e>:130} INFO - Eval loop\n"
     ]
    },
    {
     "name": "stdout",
     "output_type": "stream",
     "text": [
      "\n"
     ]
    },
    {
     "data": {
      "application/vnd.jupyter.widget-view+json": {
       "model_id": "0b048d2efffe47358d2428caa92e707f",
       "version_major": 2,
       "version_minor": 0
      },
      "text/plain": [
       "HBox(children=(FloatProgress(value=0.0, max=527.0), HTML(value='')))"
      ]
     },
     "metadata": {},
     "output_type": "display_data"
    },
    {
     "name": "stderr",
     "output_type": "stream",
     "text": [
      "[2022-12-11 07:18:52,337] {<ipython-input-12-cb52601f4b8e>:163} INFO - Iteration [0]/[527] loss: 2.444649\n",
      "[2022-12-11 07:19:05,470] {<ipython-input-12-cb52601f4b8e>:163} INFO - Iteration [300]/[527] loss: 2.240889\n",
      "[2022-12-11 07:19:15,610] {<ipython-input-12-cb52601f4b8e>:57} INFO - Train loss avg:\t0.930828\n",
      "[2022-12-11 07:19:15,611] {<ipython-input-12-cb52601f4b8e>:58} INFO - Eval loss avg:\t2.524542\n",
      "[2022-12-11 07:19:15,611] {<ipython-input-12-cb52601f4b8e>:64} INFO - Clean up CUDA memory\n",
      "[2022-12-11 07:19:15,863] {<ipython-input-12-cb52601f4b8e>:36} INFO - Epoch [87]/[120]\n"
     ]
    },
    {
     "name": "stdout",
     "output_type": "stream",
     "text": [
      "\n"
     ]
    },
    {
     "name": "stderr",
     "output_type": "stream",
     "text": [
      "[2022-12-11 07:19:15,864] {<ipython-input-12-cb52601f4b8e>:39} INFO - LR:\t4.8828125e-07\n",
      "[2022-12-11 07:19:15,865] {<ipython-input-12-cb52601f4b8e>:71} INFO - Train loop\n"
     ]
    },
    {
     "data": {
      "application/vnd.jupyter.widget-view+json": {
       "model_id": "581080d12b424b0498de5e14e446dac5",
       "version_major": 2,
       "version_minor": 0
      },
      "text/plain": [
       "HBox(children=(FloatProgress(value=0.0, max=2105.0), HTML(value='')))"
      ]
     },
     "metadata": {},
     "output_type": "display_data"
    },
    {
     "name": "stderr",
     "output_type": "stream",
     "text": [
      "[2022-12-11 07:19:16,036] {<ipython-input-12-cb52601f4b8e>:126} INFO - Iteration [0]/[2105] loss: 0.806421\n",
      "[2022-12-11 07:19:54,047] {<ipython-input-12-cb52601f4b8e>:126} INFO - Iteration [300]/[2105] loss: 1.099859\n",
      "[2022-12-11 07:20:34,528] {<ipython-input-12-cb52601f4b8e>:126} INFO - Iteration [600]/[2105] loss: 1.035693\n",
      "[2022-12-11 07:21:13,792] {<ipython-input-12-cb52601f4b8e>:126} INFO - Iteration [900]/[2105] loss: 0.843210\n",
      "[2022-12-11 07:21:53,196] {<ipython-input-12-cb52601f4b8e>:126} INFO - Iteration [1200]/[2105] loss: 0.909094\n",
      "[2022-12-11 07:22:32,684] {<ipython-input-12-cb52601f4b8e>:126} INFO - Iteration [1500]/[2105] loss: 0.975961\n",
      "[2022-12-11 07:23:11,688] {<ipython-input-12-cb52601f4b8e>:126} INFO - Iteration [1800]/[2105] loss: 0.965095\n",
      "[2022-12-11 07:23:50,818] {<ipython-input-12-cb52601f4b8e>:126} INFO - Iteration [2100]/[2105] loss: 0.991363\n",
      "[2022-12-11 07:23:51,262] {<ipython-input-12-cb52601f4b8e>:130} INFO - Eval loop\n"
     ]
    },
    {
     "name": "stdout",
     "output_type": "stream",
     "text": [
      "\n"
     ]
    },
    {
     "data": {
      "application/vnd.jupyter.widget-view+json": {
       "model_id": "b64f7fa060e54c0484d436dfee196674",
       "version_major": 2,
       "version_minor": 0
      },
      "text/plain": [
       "HBox(children=(FloatProgress(value=0.0, max=527.0), HTML(value='')))"
      ]
     },
     "metadata": {},
     "output_type": "display_data"
    },
    {
     "name": "stderr",
     "output_type": "stream",
     "text": [
      "[2022-12-11 07:23:51,327] {<ipython-input-12-cb52601f4b8e>:163} INFO - Iteration [0]/[527] loss: 2.444505\n",
      "[2022-12-11 07:24:04,921] {<ipython-input-12-cb52601f4b8e>:163} INFO - Iteration [300]/[527] loss: 2.237648\n",
      "[2022-12-11 07:24:15,127] {<ipython-input-12-cb52601f4b8e>:57} INFO - Train loss avg:\t0.934472\n",
      "[2022-12-11 07:24:15,127] {<ipython-input-12-cb52601f4b8e>:58} INFO - Eval loss avg:\t2.525032\n",
      "[2022-12-11 07:24:15,129] {<ipython-input-12-cb52601f4b8e>:64} INFO - Clean up CUDA memory\n"
     ]
    },
    {
     "name": "stdout",
     "output_type": "stream",
     "text": [
      "\n"
     ]
    },
    {
     "name": "stderr",
     "output_type": "stream",
     "text": [
      "[2022-12-11 07:24:15,373] {<ipython-input-12-cb52601f4b8e>:36} INFO - Epoch [88]/[120]\n",
      "[2022-12-11 07:24:15,374] {<ipython-input-12-cb52601f4b8e>:39} INFO - LR:\t4.8828125e-07\n",
      "[2022-12-11 07:24:15,375] {<ipython-input-12-cb52601f4b8e>:71} INFO - Train loop\n"
     ]
    },
    {
     "data": {
      "application/vnd.jupyter.widget-view+json": {
       "model_id": "4baa3d5f99b3492ca150703be4548889",
       "version_major": 2,
       "version_minor": 0
      },
      "text/plain": [
       "HBox(children=(FloatProgress(value=0.0, max=2105.0), HTML(value='')))"
      ]
     },
     "metadata": {},
     "output_type": "display_data"
    },
    {
     "name": "stderr",
     "output_type": "stream",
     "text": [
      "[2022-12-11 07:24:15,550] {<ipython-input-12-cb52601f4b8e>:126} INFO - Iteration [0]/[2105] loss: 0.868516\n",
      "[2022-12-11 07:24:53,253] {<ipython-input-12-cb52601f4b8e>:126} INFO - Iteration [300]/[2105] loss: 0.812067\n",
      "[2022-12-11 07:25:32,751] {<ipython-input-12-cb52601f4b8e>:126} INFO - Iteration [600]/[2105] loss: 0.803636\n",
      "[2022-12-11 07:26:11,519] {<ipython-input-12-cb52601f4b8e>:126} INFO - Iteration [900]/[2105] loss: 0.963488\n",
      "[2022-12-11 07:26:50,697] {<ipython-input-12-cb52601f4b8e>:126} INFO - Iteration [1200]/[2105] loss: 0.783938\n",
      "[2022-12-11 07:27:29,466] {<ipython-input-12-cb52601f4b8e>:126} INFO - Iteration [1500]/[2105] loss: 0.756275\n",
      "[2022-12-11 07:28:08,636] {<ipython-input-12-cb52601f4b8e>:126} INFO - Iteration [1800]/[2105] loss: 0.903717\n",
      "[2022-12-11 07:28:47,249] {<ipython-input-12-cb52601f4b8e>:126} INFO - Iteration [2100]/[2105] loss: 0.842847\n",
      "[2022-12-11 07:28:47,694] {<ipython-input-12-cb52601f4b8e>:130} INFO - Eval loop\n"
     ]
    },
    {
     "name": "stdout",
     "output_type": "stream",
     "text": [
      "\n"
     ]
    },
    {
     "data": {
      "application/vnd.jupyter.widget-view+json": {
       "model_id": "4cfa7cc83f25454d8bb68eb8c45ed5bc",
       "version_major": 2,
       "version_minor": 0
      },
      "text/plain": [
       "HBox(children=(FloatProgress(value=0.0, max=527.0), HTML(value='')))"
      ]
     },
     "metadata": {},
     "output_type": "display_data"
    },
    {
     "name": "stderr",
     "output_type": "stream",
     "text": [
      "[2022-12-11 07:28:47,756] {<ipython-input-12-cb52601f4b8e>:163} INFO - Iteration [0]/[527] loss: 2.444648\n",
      "[2022-12-11 07:29:01,166] {<ipython-input-12-cb52601f4b8e>:163} INFO - Iteration [300]/[527] loss: 2.235666\n",
      "[2022-12-11 07:29:11,255] {<ipython-input-12-cb52601f4b8e>:57} INFO - Train loss avg:\t0.933944\n",
      "[2022-12-11 07:29:11,256] {<ipython-input-12-cb52601f4b8e>:58} INFO - Eval loss avg:\t2.524784\n",
      "[2022-12-11 07:29:11,256] {<ipython-input-12-cb52601f4b8e>:64} INFO - Clean up CUDA memory\n",
      "[2022-12-11 07:29:11,504] {<ipython-input-12-cb52601f4b8e>:36} INFO - Epoch [89]/[120]\n"
     ]
    },
    {
     "name": "stdout",
     "output_type": "stream",
     "text": [
      "\n"
     ]
    },
    {
     "name": "stderr",
     "output_type": "stream",
     "text": [
      "[2022-12-11 07:29:11,505] {<ipython-input-12-cb52601f4b8e>:39} INFO - LR:\t4.8828125e-07\n",
      "[2022-12-11 07:29:11,506] {<ipython-input-12-cb52601f4b8e>:71} INFO - Train loop\n"
     ]
    },
    {
     "data": {
      "application/vnd.jupyter.widget-view+json": {
       "model_id": "f3c53f98efd04f84b5dcd042c8f978a5",
       "version_major": 2,
       "version_minor": 0
      },
      "text/plain": [
       "HBox(children=(FloatProgress(value=0.0, max=2105.0), HTML(value='')))"
      ]
     },
     "metadata": {},
     "output_type": "display_data"
    },
    {
     "name": "stderr",
     "output_type": "stream",
     "text": [
      "[2022-12-11 07:29:11,674] {<ipython-input-12-cb52601f4b8e>:126} INFO - Iteration [0]/[2105] loss: 0.916233\n",
      "[2022-12-11 07:29:50,589] {<ipython-input-12-cb52601f4b8e>:126} INFO - Iteration [300]/[2105] loss: 1.031551\n",
      "[2022-12-11 07:30:30,047] {<ipython-input-12-cb52601f4b8e>:126} INFO - Iteration [600]/[2105] loss: 0.840287\n",
      "[2022-12-11 07:31:09,293] {<ipython-input-12-cb52601f4b8e>:126} INFO - Iteration [900]/[2105] loss: 0.898792\n",
      "[2022-12-11 07:31:48,921] {<ipython-input-12-cb52601f4b8e>:126} INFO - Iteration [1200]/[2105] loss: 1.046113\n",
      "[2022-12-11 07:32:27,756] {<ipython-input-12-cb52601f4b8e>:126} INFO - Iteration [1500]/[2105] loss: 0.907538\n",
      "[2022-12-11 07:33:06,678] {<ipython-input-12-cb52601f4b8e>:126} INFO - Iteration [1800]/[2105] loss: 1.580100\n",
      "[2022-12-11 07:33:46,987] {<ipython-input-12-cb52601f4b8e>:126} INFO - Iteration [2100]/[2105] loss: 0.713147\n",
      "[2022-12-11 07:33:47,427] {<ipython-input-12-cb52601f4b8e>:130} INFO - Eval loop\n"
     ]
    },
    {
     "name": "stdout",
     "output_type": "stream",
     "text": [
      "\n"
     ]
    },
    {
     "data": {
      "application/vnd.jupyter.widget-view+json": {
       "model_id": "50af1983fbba45ca9d0176606c1962cc",
       "version_major": 2,
       "version_minor": 0
      },
      "text/plain": [
       "HBox(children=(FloatProgress(value=0.0, max=527.0), HTML(value='')))"
      ]
     },
     "metadata": {},
     "output_type": "display_data"
    },
    {
     "name": "stderr",
     "output_type": "stream",
     "text": [
      "[2022-12-11 07:33:47,482] {<ipython-input-12-cb52601f4b8e>:163} INFO - Iteration [0]/[527] loss: 2.445133\n",
      "[2022-12-11 07:34:01,226] {<ipython-input-12-cb52601f4b8e>:163} INFO - Iteration [300]/[527] loss: 2.235321\n",
      "[2022-12-11 07:34:11,064] {<ipython-input-12-cb52601f4b8e>:57} INFO - Train loss avg:\t0.934375\n",
      "[2022-12-11 07:34:11,064] {<ipython-input-12-cb52601f4b8e>:58} INFO - Eval loss avg:\t2.525246\n",
      "[2022-12-11 07:34:11,065] {<ipython-input-12-cb52601f4b8e>:64} INFO - Clean up CUDA memory\n"
     ]
    },
    {
     "name": "stdout",
     "output_type": "stream",
     "text": [
      "\n"
     ]
    },
    {
     "name": "stderr",
     "output_type": "stream",
     "text": [
      "[2022-12-11 07:34:11,316] {<ipython-input-12-cb52601f4b8e>:36} INFO - Epoch [90]/[120]\n",
      "[2022-12-11 07:34:11,317] {<ipython-input-12-cb52601f4b8e>:39} INFO - LR:\t4.8828125e-07\n",
      "[2022-12-11 07:34:11,318] {<ipython-input-12-cb52601f4b8e>:71} INFO - Train loop\n"
     ]
    },
    {
     "data": {
      "application/vnd.jupyter.widget-view+json": {
       "model_id": "98a39e7c629f44098e2c8e7dce0dc08c",
       "version_major": 2,
       "version_minor": 0
      },
      "text/plain": [
       "HBox(children=(FloatProgress(value=0.0, max=2105.0), HTML(value='')))"
      ]
     },
     "metadata": {},
     "output_type": "display_data"
    },
    {
     "name": "stderr",
     "output_type": "stream",
     "text": [
      "[2022-12-11 07:34:11,477] {<ipython-input-12-cb52601f4b8e>:126} INFO - Iteration [0]/[2105] loss: 1.046545\n",
      "[2022-12-11 07:34:51,439] {<ipython-input-12-cb52601f4b8e>:126} INFO - Iteration [300]/[2105] loss: 0.881568\n",
      "[2022-12-11 07:35:29,309] {<ipython-input-12-cb52601f4b8e>:126} INFO - Iteration [600]/[2105] loss: 1.154557\n",
      "[2022-12-11 07:36:08,361] {<ipython-input-12-cb52601f4b8e>:126} INFO - Iteration [900]/[2105] loss: 0.799118\n",
      "[2022-12-11 07:36:47,206] {<ipython-input-12-cb52601f4b8e>:126} INFO - Iteration [1200]/[2105] loss: 0.969828\n",
      "[2022-12-11 07:37:25,773] {<ipython-input-12-cb52601f4b8e>:126} INFO - Iteration [1500]/[2105] loss: 1.268217\n",
      "[2022-12-11 07:38:05,299] {<ipython-input-12-cb52601f4b8e>:126} INFO - Iteration [1800]/[2105] loss: 0.840205\n",
      "[2022-12-11 07:38:44,868] {<ipython-input-12-cb52601f4b8e>:126} INFO - Iteration [2100]/[2105] loss: 1.208524\n",
      "[2022-12-11 07:38:45,347] {<ipython-input-12-cb52601f4b8e>:130} INFO - Eval loop\n"
     ]
    },
    {
     "name": "stdout",
     "output_type": "stream",
     "text": [
      "\n"
     ]
    },
    {
     "data": {
      "application/vnd.jupyter.widget-view+json": {
       "model_id": "d45dceca48af48188f9a03ec08d05054",
       "version_major": 2,
       "version_minor": 0
      },
      "text/plain": [
       "HBox(children=(FloatProgress(value=0.0, max=527.0), HTML(value='')))"
      ]
     },
     "metadata": {},
     "output_type": "display_data"
    },
    {
     "name": "stderr",
     "output_type": "stream",
     "text": [
      "[2022-12-11 07:38:45,413] {<ipython-input-12-cb52601f4b8e>:163} INFO - Iteration [0]/[527] loss: 2.445344\n",
      "[2022-12-11 07:38:59,128] {<ipython-input-12-cb52601f4b8e>:163} INFO - Iteration [300]/[527] loss: 2.235026\n",
      "[2022-12-11 07:39:09,448] {<ipython-input-12-cb52601f4b8e>:57} INFO - Train loss avg:\t0.936455\n",
      "[2022-12-11 07:39:09,449] {<ipython-input-12-cb52601f4b8e>:58} INFO - Eval loss avg:\t2.526077\n",
      "[2022-12-11 07:39:09,449] {<ipython-input-12-cb52601f4b8e>:64} INFO - Clean up CUDA memory\n"
     ]
    },
    {
     "name": "stdout",
     "output_type": "stream",
     "text": [
      "\n"
     ]
    },
    {
     "name": "stderr",
     "output_type": "stream",
     "text": [
      "[2022-12-11 07:39:09,697] {<ipython-input-12-cb52601f4b8e>:36} INFO - Epoch [91]/[120]\n",
      "[2022-12-11 07:39:09,698] {<ipython-input-12-cb52601f4b8e>:39} INFO - LR:\t4.8828125e-07\n",
      "[2022-12-11 07:39:09,699] {<ipython-input-12-cb52601f4b8e>:71} INFO - Train loop\n"
     ]
    },
    {
     "data": {
      "application/vnd.jupyter.widget-view+json": {
       "model_id": "f45a38a9620448a78e42c7e05b2daa2b",
       "version_major": 2,
       "version_minor": 0
      },
      "text/plain": [
       "HBox(children=(FloatProgress(value=0.0, max=2105.0), HTML(value='')))"
      ]
     },
     "metadata": {},
     "output_type": "display_data"
    },
    {
     "name": "stderr",
     "output_type": "stream",
     "text": [
      "[2022-12-11 07:39:09,882] {<ipython-input-12-cb52601f4b8e>:126} INFO - Iteration [0]/[2105] loss: 0.960458\n",
      "[2022-12-11 07:39:47,410] {<ipython-input-12-cb52601f4b8e>:126} INFO - Iteration [300]/[2105] loss: 0.642601\n",
      "[2022-12-11 07:40:27,886] {<ipython-input-12-cb52601f4b8e>:126} INFO - Iteration [600]/[2105] loss: 0.854892\n",
      "[2022-12-11 07:41:06,225] {<ipython-input-12-cb52601f4b8e>:126} INFO - Iteration [900]/[2105] loss: 0.777600\n",
      "[2022-12-11 07:41:46,037] {<ipython-input-12-cb52601f4b8e>:126} INFO - Iteration [1200]/[2105] loss: 1.086214\n",
      "[2022-12-11 07:42:25,512] {<ipython-input-12-cb52601f4b8e>:126} INFO - Iteration [1500]/[2105] loss: 0.828295\n",
      "[2022-12-11 07:43:04,767] {<ipython-input-12-cb52601f4b8e>:126} INFO - Iteration [1800]/[2105] loss: 0.803514\n",
      "[2022-12-11 07:43:44,148] {<ipython-input-12-cb52601f4b8e>:126} INFO - Iteration [2100]/[2105] loss: 0.756582\n",
      "[2022-12-11 07:43:44,588] {<ipython-input-12-cb52601f4b8e>:130} INFO - Eval loop\n"
     ]
    },
    {
     "name": "stdout",
     "output_type": "stream",
     "text": [
      "\n"
     ]
    },
    {
     "data": {
      "application/vnd.jupyter.widget-view+json": {
       "model_id": "b0b6b1823eea4a2eb135d677b953d627",
       "version_major": 2,
       "version_minor": 0
      },
      "text/plain": [
       "HBox(children=(FloatProgress(value=0.0, max=527.0), HTML(value='')))"
      ]
     },
     "metadata": {},
     "output_type": "display_data"
    },
    {
     "name": "stderr",
     "output_type": "stream",
     "text": [
      "[2022-12-11 07:43:44,652] {<ipython-input-12-cb52601f4b8e>:163} INFO - Iteration [0]/[527] loss: 2.445419\n",
      "[2022-12-11 07:43:58,393] {<ipython-input-12-cb52601f4b8e>:163} INFO - Iteration [300]/[527] loss: 2.239009\n",
      "[2022-12-11 07:44:08,723] {<ipython-input-12-cb52601f4b8e>:57} INFO - Train loss avg:\t0.938124\n",
      "[2022-12-11 07:44:08,724] {<ipython-input-12-cb52601f4b8e>:58} INFO - Eval loss avg:\t2.527091\n",
      "[2022-12-11 07:44:08,725] {<ipython-input-12-cb52601f4b8e>:64} INFO - Clean up CUDA memory\n",
      "[2022-12-11 07:44:08,970] {<ipython-input-12-cb52601f4b8e>:36} INFO - Epoch [92]/[120]\n"
     ]
    },
    {
     "name": "stdout",
     "output_type": "stream",
     "text": [
      "\n"
     ]
    },
    {
     "name": "stderr",
     "output_type": "stream",
     "text": [
      "[2022-12-11 07:44:08,970] {<ipython-input-12-cb52601f4b8e>:39} INFO - LR:\t4.8828125e-07\n",
      "[2022-12-11 07:44:08,971] {<ipython-input-12-cb52601f4b8e>:71} INFO - Train loop\n"
     ]
    },
    {
     "data": {
      "application/vnd.jupyter.widget-view+json": {
       "model_id": "ca815d07227f45bfa5b746f08bd54bc9",
       "version_major": 2,
       "version_minor": 0
      },
      "text/plain": [
       "HBox(children=(FloatProgress(value=0.0, max=2105.0), HTML(value='')))"
      ]
     },
     "metadata": {},
     "output_type": "display_data"
    },
    {
     "name": "stderr",
     "output_type": "stream",
     "text": [
      "[2022-12-11 07:44:09,143] {<ipython-input-12-cb52601f4b8e>:126} INFO - Iteration [0]/[2105] loss: 0.852783\n",
      "[2022-12-11 07:44:47,449] {<ipython-input-12-cb52601f4b8e>:126} INFO - Iteration [300]/[2105] loss: 0.972097\n",
      "[2022-12-11 07:45:25,610] {<ipython-input-12-cb52601f4b8e>:126} INFO - Iteration [600]/[2105] loss: 0.780938\n",
      "[2022-12-11 07:46:04,620] {<ipython-input-12-cb52601f4b8e>:126} INFO - Iteration [900]/[2105] loss: 1.038692\n",
      "[2022-12-11 07:46:42,802] {<ipython-input-12-cb52601f4b8e>:126} INFO - Iteration [1200]/[2105] loss: 1.097918\n",
      "[2022-12-11 07:47:23,259] {<ipython-input-12-cb52601f4b8e>:126} INFO - Iteration [1500]/[2105] loss: 0.979565\n",
      "[2022-12-11 07:48:01,875] {<ipython-input-12-cb52601f4b8e>:126} INFO - Iteration [1800]/[2105] loss: 1.202375\n",
      "[2022-12-11 07:48:40,818] {<ipython-input-12-cb52601f4b8e>:126} INFO - Iteration [2100]/[2105] loss: 0.867786\n",
      "[2022-12-11 07:48:41,286] {<ipython-input-12-cb52601f4b8e>:130} INFO - Eval loop\n"
     ]
    },
    {
     "name": "stdout",
     "output_type": "stream",
     "text": [
      "\n"
     ]
    },
    {
     "data": {
      "application/vnd.jupyter.widget-view+json": {
       "model_id": "584ed2e6ae5446ca914b3ba406442530",
       "version_major": 2,
       "version_minor": 0
      },
      "text/plain": [
       "HBox(children=(FloatProgress(value=0.0, max=527.0), HTML(value='')))"
      ]
     },
     "metadata": {},
     "output_type": "display_data"
    },
    {
     "name": "stderr",
     "output_type": "stream",
     "text": [
      "[2022-12-11 07:48:41,345] {<ipython-input-12-cb52601f4b8e>:163} INFO - Iteration [0]/[527] loss: 2.445367\n",
      "[2022-12-11 07:48:54,809] {<ipython-input-12-cb52601f4b8e>:163} INFO - Iteration [300]/[527] loss: 2.236577\n",
      "[2022-12-11 07:49:04,915] {<ipython-input-12-cb52601f4b8e>:57} INFO - Train loss avg:\t0.939288\n",
      "[2022-12-11 07:49:04,916] {<ipython-input-12-cb52601f4b8e>:58} INFO - Eval loss avg:\t2.525768\n",
      "[2022-12-11 07:49:04,916] {<ipython-input-12-cb52601f4b8e>:64} INFO - Clean up CUDA memory\n"
     ]
    },
    {
     "name": "stdout",
     "output_type": "stream",
     "text": [
      "\n"
     ]
    },
    {
     "name": "stderr",
     "output_type": "stream",
     "text": [
      "[2022-12-11 07:49:05,165] {<ipython-input-12-cb52601f4b8e>:36} INFO - Epoch [93]/[120]\n",
      "[2022-12-11 07:49:05,166] {<ipython-input-12-cb52601f4b8e>:39} INFO - LR:\t2.44140625e-07\n",
      "[2022-12-11 07:49:05,167] {<ipython-input-12-cb52601f4b8e>:71} INFO - Train loop\n"
     ]
    },
    {
     "data": {
      "application/vnd.jupyter.widget-view+json": {
       "model_id": "12ee2851560848f8bbcb5d723063da9b",
       "version_major": 2,
       "version_minor": 0
      },
      "text/plain": [
       "HBox(children=(FloatProgress(value=0.0, max=2105.0), HTML(value='')))"
      ]
     },
     "metadata": {},
     "output_type": "display_data"
    },
    {
     "name": "stderr",
     "output_type": "stream",
     "text": [
      "[2022-12-11 07:49:05,346] {<ipython-input-12-cb52601f4b8e>:126} INFO - Iteration [0]/[2105] loss: 1.028005\n",
      "[2022-12-11 07:49:44,568] {<ipython-input-12-cb52601f4b8e>:126} INFO - Iteration [300]/[2105] loss: 0.916301\n",
      "[2022-12-11 07:50:22,885] {<ipython-input-12-cb52601f4b8e>:126} INFO - Iteration [600]/[2105] loss: 0.830676\n",
      "[2022-12-11 07:51:01,687] {<ipython-input-12-cb52601f4b8e>:126} INFO - Iteration [900]/[2105] loss: 0.755328\n",
      "[2022-12-11 07:51:41,281] {<ipython-input-12-cb52601f4b8e>:126} INFO - Iteration [1200]/[2105] loss: 1.171035\n",
      "[2022-12-11 07:52:20,193] {<ipython-input-12-cb52601f4b8e>:126} INFO - Iteration [1500]/[2105] loss: 0.939705\n",
      "[2022-12-11 07:52:59,076] {<ipython-input-12-cb52601f4b8e>:126} INFO - Iteration [1800]/[2105] loss: 0.878434\n",
      "[2022-12-11 07:53:37,660] {<ipython-input-12-cb52601f4b8e>:126} INFO - Iteration [2100]/[2105] loss: 1.249324\n",
      "[2022-12-11 07:53:38,097] {<ipython-input-12-cb52601f4b8e>:130} INFO - Eval loop\n"
     ]
    },
    {
     "name": "stdout",
     "output_type": "stream",
     "text": [
      "\n"
     ]
    },
    {
     "data": {
      "application/vnd.jupyter.widget-view+json": {
       "model_id": "899e6d8c378a4c14bf5332fdc4d6d7c5",
       "version_major": 2,
       "version_minor": 0
      },
      "text/plain": [
       "HBox(children=(FloatProgress(value=0.0, max=527.0), HTML(value='')))"
      ]
     },
     "metadata": {},
     "output_type": "display_data"
    },
    {
     "name": "stderr",
     "output_type": "stream",
     "text": [
      "[2022-12-11 07:53:38,159] {<ipython-input-12-cb52601f4b8e>:163} INFO - Iteration [0]/[527] loss: 2.445333\n",
      "[2022-12-11 07:53:51,621] {<ipython-input-12-cb52601f4b8e>:163} INFO - Iteration [300]/[527] loss: 2.237284\n",
      "[2022-12-11 07:54:01,716] {<ipython-input-12-cb52601f4b8e>:57} INFO - Train loss avg:\t0.935057\n",
      "[2022-12-11 07:54:01,717] {<ipython-input-12-cb52601f4b8e>:58} INFO - Eval loss avg:\t2.525619\n",
      "[2022-12-11 07:54:01,717] {<ipython-input-12-cb52601f4b8e>:64} INFO - Clean up CUDA memory\n"
     ]
    },
    {
     "name": "stdout",
     "output_type": "stream",
     "text": [
      "\n"
     ]
    },
    {
     "name": "stderr",
     "output_type": "stream",
     "text": [
      "[2022-12-11 07:54:01,964] {<ipython-input-12-cb52601f4b8e>:36} INFO - Epoch [94]/[120]\n",
      "[2022-12-11 07:54:01,965] {<ipython-input-12-cb52601f4b8e>:39} INFO - LR:\t2.44140625e-07\n",
      "[2022-12-11 07:54:01,966] {<ipython-input-12-cb52601f4b8e>:71} INFO - Train loop\n"
     ]
    },
    {
     "data": {
      "application/vnd.jupyter.widget-view+json": {
       "model_id": "195dd3f61af34b64b422ce0fd06a6867",
       "version_major": 2,
       "version_minor": 0
      },
      "text/plain": [
       "HBox(children=(FloatProgress(value=0.0, max=2105.0), HTML(value='')))"
      ]
     },
     "metadata": {},
     "output_type": "display_data"
    },
    {
     "name": "stderr",
     "output_type": "stream",
     "text": [
      "[2022-12-11 07:54:02,145] {<ipython-input-12-cb52601f4b8e>:126} INFO - Iteration [0]/[2105] loss: 0.773405\n",
      "[2022-12-11 07:54:41,548] {<ipython-input-12-cb52601f4b8e>:126} INFO - Iteration [300]/[2105] loss: 0.613973\n",
      "[2022-12-11 07:55:19,765] {<ipython-input-12-cb52601f4b8e>:126} INFO - Iteration [600]/[2105] loss: 0.773920\n",
      "[2022-12-11 07:55:59,007] {<ipython-input-12-cb52601f4b8e>:126} INFO - Iteration [900]/[2105] loss: 0.767674\n",
      "[2022-12-11 07:56:38,092] {<ipython-input-12-cb52601f4b8e>:126} INFO - Iteration [1200]/[2105] loss: 0.843309\n",
      "[2022-12-11 07:57:16,907] {<ipython-input-12-cb52601f4b8e>:126} INFO - Iteration [1500]/[2105] loss: 0.940689\n",
      "[2022-12-11 07:57:55,941] {<ipython-input-12-cb52601f4b8e>:126} INFO - Iteration [1800]/[2105] loss: 0.796067\n",
      "[2022-12-11 07:58:34,846] {<ipython-input-12-cb52601f4b8e>:126} INFO - Iteration [2100]/[2105] loss: 0.958716\n",
      "[2022-12-11 07:58:35,311] {<ipython-input-12-cb52601f4b8e>:130} INFO - Eval loop\n"
     ]
    },
    {
     "name": "stdout",
     "output_type": "stream",
     "text": [
      "\n"
     ]
    },
    {
     "data": {
      "application/vnd.jupyter.widget-view+json": {
       "model_id": "05dc15028cbc4db9bc3f27da7e80579a",
       "version_major": 2,
       "version_minor": 0
      },
      "text/plain": [
       "HBox(children=(FloatProgress(value=0.0, max=527.0), HTML(value='')))"
      ]
     },
     "metadata": {},
     "output_type": "display_data"
    },
    {
     "name": "stderr",
     "output_type": "stream",
     "text": [
      "[2022-12-11 07:58:35,366] {<ipython-input-12-cb52601f4b8e>:163} INFO - Iteration [0]/[527] loss: 2.445167\n",
      "[2022-12-11 07:58:48,867] {<ipython-input-12-cb52601f4b8e>:163} INFO - Iteration [300]/[527] loss: 2.237650\n",
      "[2022-12-11 07:58:58,952] {<ipython-input-12-cb52601f4b8e>:57} INFO - Train loss avg:\t0.932900\n",
      "[2022-12-11 07:58:58,953] {<ipython-input-12-cb52601f4b8e>:58} INFO - Eval loss avg:\t2.525092\n",
      "[2022-12-11 07:58:58,953] {<ipython-input-12-cb52601f4b8e>:64} INFO - Clean up CUDA memory\n",
      "[2022-12-11 07:58:59,201] {<ipython-input-12-cb52601f4b8e>:36} INFO - Epoch [95]/[120]\n"
     ]
    },
    {
     "name": "stdout",
     "output_type": "stream",
     "text": [
      "\n"
     ]
    },
    {
     "name": "stderr",
     "output_type": "stream",
     "text": [
      "[2022-12-11 07:58:59,203] {<ipython-input-12-cb52601f4b8e>:39} INFO - LR:\t2.44140625e-07\n",
      "[2022-12-11 07:58:59,204] {<ipython-input-12-cb52601f4b8e>:71} INFO - Train loop\n"
     ]
    },
    {
     "data": {
      "application/vnd.jupyter.widget-view+json": {
       "model_id": "e8004203b2ea4430b25a83a6e21977ee",
       "version_major": 2,
       "version_minor": 0
      },
      "text/plain": [
       "HBox(children=(FloatProgress(value=0.0, max=2105.0), HTML(value='')))"
      ]
     },
     "metadata": {},
     "output_type": "display_data"
    },
    {
     "name": "stderr",
     "output_type": "stream",
     "text": [
      "[2022-12-11 07:58:59,378] {<ipython-input-12-cb52601f4b8e>:126} INFO - Iteration [0]/[2105] loss: 0.875237\n",
      "[2022-12-11 07:59:38,005] {<ipython-input-12-cb52601f4b8e>:126} INFO - Iteration [300]/[2105] loss: 0.860433\n",
      "[2022-12-11 08:00:16,951] {<ipython-input-12-cb52601f4b8e>:126} INFO - Iteration [600]/[2105] loss: 1.224658\n",
      "[2022-12-11 08:00:56,527] {<ipython-input-12-cb52601f4b8e>:126} INFO - Iteration [900]/[2105] loss: 1.051791\n",
      "[2022-12-11 08:01:35,373] {<ipython-input-12-cb52601f4b8e>:126} INFO - Iteration [1200]/[2105] loss: 0.984210\n",
      "[2022-12-11 08:02:14,468] {<ipython-input-12-cb52601f4b8e>:126} INFO - Iteration [1500]/[2105] loss: 0.776239\n",
      "[2022-12-11 08:02:52,505] {<ipython-input-12-cb52601f4b8e>:126} INFO - Iteration [1800]/[2105] loss: 0.718473\n",
      "[2022-12-11 08:03:31,874] {<ipython-input-12-cb52601f4b8e>:126} INFO - Iteration [2100]/[2105] loss: 1.112936\n",
      "[2022-12-11 08:03:32,286] {<ipython-input-12-cb52601f4b8e>:130} INFO - Eval loop\n"
     ]
    },
    {
     "name": "stdout",
     "output_type": "stream",
     "text": [
      "\n"
     ]
    },
    {
     "data": {
      "application/vnd.jupyter.widget-view+json": {
       "model_id": "3e1d1e63c400409c94fb5fb6e1733244",
       "version_major": 2,
       "version_minor": 0
      },
      "text/plain": [
       "HBox(children=(FloatProgress(value=0.0, max=527.0), HTML(value='')))"
      ]
     },
     "metadata": {},
     "output_type": "display_data"
    },
    {
     "name": "stderr",
     "output_type": "stream",
     "text": [
      "[2022-12-11 08:03:32,346] {<ipython-input-12-cb52601f4b8e>:163} INFO - Iteration [0]/[527] loss: 2.439801\n",
      "[2022-12-11 08:03:45,733] {<ipython-input-12-cb52601f4b8e>:163} INFO - Iteration [300]/[527] loss: 2.237510\n",
      "[2022-12-11 08:03:55,766] {<ipython-input-12-cb52601f4b8e>:57} INFO - Train loss avg:\t0.943155\n",
      "[2022-12-11 08:03:55,767] {<ipython-input-12-cb52601f4b8e>:58} INFO - Eval loss avg:\t2.525698\n",
      "[2022-12-11 08:03:55,767] {<ipython-input-12-cb52601f4b8e>:64} INFO - Clean up CUDA memory\n",
      "[2022-12-11 08:03:56,018] {<ipython-input-12-cb52601f4b8e>:36} INFO - Epoch [96]/[120]\n"
     ]
    },
    {
     "name": "stdout",
     "output_type": "stream",
     "text": [
      "\n"
     ]
    },
    {
     "name": "stderr",
     "output_type": "stream",
     "text": [
      "[2022-12-11 08:03:56,019] {<ipython-input-12-cb52601f4b8e>:39} INFO - LR:\t2.44140625e-07\n",
      "[2022-12-11 08:03:56,019] {<ipython-input-12-cb52601f4b8e>:71} INFO - Train loop\n"
     ]
    },
    {
     "data": {
      "application/vnd.jupyter.widget-view+json": {
       "model_id": "b2766e926c0745a2a32d0371df976f73",
       "version_major": 2,
       "version_minor": 0
      },
      "text/plain": [
       "HBox(children=(FloatProgress(value=0.0, max=2105.0), HTML(value='')))"
      ]
     },
     "metadata": {},
     "output_type": "display_data"
    },
    {
     "name": "stderr",
     "output_type": "stream",
     "text": [
      "[2022-12-11 08:03:56,185] {<ipython-input-12-cb52601f4b8e>:126} INFO - Iteration [0]/[2105] loss: 0.755522\n",
      "[2022-12-11 08:04:34,342] {<ipython-input-12-cb52601f4b8e>:126} INFO - Iteration [300]/[2105] loss: 1.177533\n",
      "[2022-12-11 08:05:13,049] {<ipython-input-12-cb52601f4b8e>:126} INFO - Iteration [600]/[2105] loss: 0.782444\n",
      "[2022-12-11 08:05:51,510] {<ipython-input-12-cb52601f4b8e>:126} INFO - Iteration [900]/[2105] loss: 0.907793\n",
      "[2022-12-11 08:06:30,166] {<ipython-input-12-cb52601f4b8e>:126} INFO - Iteration [1200]/[2105] loss: 1.238642\n",
      "[2022-12-11 08:07:08,631] {<ipython-input-12-cb52601f4b8e>:126} INFO - Iteration [1500]/[2105] loss: 0.900636\n",
      "[2022-12-11 08:07:46,875] {<ipython-input-12-cb52601f4b8e>:126} INFO - Iteration [1800]/[2105] loss: 0.911579\n",
      "[2022-12-11 08:08:26,776] {<ipython-input-12-cb52601f4b8e>:126} INFO - Iteration [2100]/[2105] loss: 0.754273\n",
      "[2022-12-11 08:08:27,184] {<ipython-input-12-cb52601f4b8e>:130} INFO - Eval loop\n"
     ]
    },
    {
     "name": "stdout",
     "output_type": "stream",
     "text": [
      "\n"
     ]
    },
    {
     "data": {
      "application/vnd.jupyter.widget-view+json": {
       "model_id": "f8fa57d1a1314145b300cbf4174d7187",
       "version_major": 2,
       "version_minor": 0
      },
      "text/plain": [
       "HBox(children=(FloatProgress(value=0.0, max=527.0), HTML(value='')))"
      ]
     },
     "metadata": {},
     "output_type": "display_data"
    },
    {
     "name": "stderr",
     "output_type": "stream",
     "text": [
      "[2022-12-11 08:08:27,244] {<ipython-input-12-cb52601f4b8e>:163} INFO - Iteration [0]/[527] loss: 2.445173\n",
      "[2022-12-11 08:08:40,711] {<ipython-input-12-cb52601f4b8e>:163} INFO - Iteration [300]/[527] loss: 2.237364\n",
      "[2022-12-11 08:08:50,809] {<ipython-input-12-cb52601f4b8e>:57} INFO - Train loss avg:\t0.930588\n",
      "[2022-12-11 08:08:50,810] {<ipython-input-12-cb52601f4b8e>:58} INFO - Eval loss avg:\t2.525600\n",
      "[2022-12-11 08:08:50,810] {<ipython-input-12-cb52601f4b8e>:64} INFO - Clean up CUDA memory\n",
      "[2022-12-11 08:08:51,058] {<ipython-input-12-cb52601f4b8e>:36} INFO - Epoch [97]/[120]\n"
     ]
    },
    {
     "name": "stdout",
     "output_type": "stream",
     "text": [
      "\n"
     ]
    },
    {
     "name": "stderr",
     "output_type": "stream",
     "text": [
      "[2022-12-11 08:08:51,060] {<ipython-input-12-cb52601f4b8e>:39} INFO - LR:\t2.44140625e-07\n",
      "[2022-12-11 08:08:51,061] {<ipython-input-12-cb52601f4b8e>:71} INFO - Train loop\n"
     ]
    },
    {
     "data": {
      "application/vnd.jupyter.widget-view+json": {
       "model_id": "2b5a7b2800c04745b67f55b315a85ff8",
       "version_major": 2,
       "version_minor": 0
      },
      "text/plain": [
       "HBox(children=(FloatProgress(value=0.0, max=2105.0), HTML(value='')))"
      ]
     },
     "metadata": {},
     "output_type": "display_data"
    },
    {
     "name": "stderr",
     "output_type": "stream",
     "text": [
      "[2022-12-11 08:08:51,226] {<ipython-input-12-cb52601f4b8e>:126} INFO - Iteration [0]/[2105] loss: 0.742247\n",
      "[2022-12-11 08:09:29,770] {<ipython-input-12-cb52601f4b8e>:126} INFO - Iteration [300]/[2105] loss: 0.834356\n",
      "[2022-12-11 08:10:09,510] {<ipython-input-12-cb52601f4b8e>:126} INFO - Iteration [600]/[2105] loss: 1.191690\n",
      "[2022-12-11 08:10:47,226] {<ipython-input-12-cb52601f4b8e>:126} INFO - Iteration [900]/[2105] loss: 1.128576\n",
      "[2022-12-11 08:11:25,326] {<ipython-input-12-cb52601f4b8e>:126} INFO - Iteration [1200]/[2105] loss: 0.856698\n",
      "[2022-12-11 08:12:05,564] {<ipython-input-12-cb52601f4b8e>:126} INFO - Iteration [1500]/[2105] loss: 0.843880\n",
      "[2022-12-11 08:12:45,669] {<ipython-input-12-cb52601f4b8e>:126} INFO - Iteration [1800]/[2105] loss: 1.015350\n",
      "[2022-12-11 08:13:24,736] {<ipython-input-12-cb52601f4b8e>:126} INFO - Iteration [2100]/[2105] loss: 0.781082\n",
      "[2022-12-11 08:13:25,136] {<ipython-input-12-cb52601f4b8e>:130} INFO - Eval loop\n"
     ]
    },
    {
     "name": "stdout",
     "output_type": "stream",
     "text": [
      "\n"
     ]
    },
    {
     "data": {
      "application/vnd.jupyter.widget-view+json": {
       "model_id": "9593f7051f9347f690d954a6b2748282",
       "version_major": 2,
       "version_minor": 0
      },
      "text/plain": [
       "HBox(children=(FloatProgress(value=0.0, max=527.0), HTML(value='')))"
      ]
     },
     "metadata": {},
     "output_type": "display_data"
    },
    {
     "name": "stderr",
     "output_type": "stream",
     "text": [
      "[2022-12-11 08:13:25,196] {<ipython-input-12-cb52601f4b8e>:163} INFO - Iteration [0]/[527] loss: 2.439957\n",
      "[2022-12-11 08:13:38,982] {<ipython-input-12-cb52601f4b8e>:163} INFO - Iteration [300]/[527] loss: 2.236510\n",
      "[2022-12-11 08:13:48,643] {<ipython-input-12-cb52601f4b8e>:57} INFO - Train loss avg:\t0.938263\n",
      "[2022-12-11 08:13:48,644] {<ipython-input-12-cb52601f4b8e>:58} INFO - Eval loss avg:\t2.523997\n",
      "[2022-12-11 08:13:48,645] {<ipython-input-12-cb52601f4b8e>:64} INFO - Clean up CUDA memory\n",
      "[2022-12-11 08:13:48,891] {<ipython-input-12-cb52601f4b8e>:36} INFO - Epoch [98]/[120]\n"
     ]
    },
    {
     "name": "stdout",
     "output_type": "stream",
     "text": [
      "\n"
     ]
    },
    {
     "name": "stderr",
     "output_type": "stream",
     "text": [
      "[2022-12-11 08:13:48,892] {<ipython-input-12-cb52601f4b8e>:39} INFO - LR:\t2.44140625e-07\n",
      "[2022-12-11 08:13:48,893] {<ipython-input-12-cb52601f4b8e>:71} INFO - Train loop\n"
     ]
    },
    {
     "data": {
      "application/vnd.jupyter.widget-view+json": {
       "model_id": "1aae846d83ed48f6bfaf49895f108be7",
       "version_major": 2,
       "version_minor": 0
      },
      "text/plain": [
       "HBox(children=(FloatProgress(value=0.0, max=2105.0), HTML(value='')))"
      ]
     },
     "metadata": {},
     "output_type": "display_data"
    },
    {
     "name": "stderr",
     "output_type": "stream",
     "text": [
      "[2022-12-11 08:13:49,209] {<ipython-input-12-cb52601f4b8e>:126} INFO - Iteration [0]/[2105] loss: 1.304642\n",
      "[2022-12-11 08:14:27,129] {<ipython-input-12-cb52601f4b8e>:126} INFO - Iteration [300]/[2105] loss: 0.985299\n",
      "[2022-12-11 08:15:05,232] {<ipython-input-12-cb52601f4b8e>:126} INFO - Iteration [600]/[2105] loss: 1.072953\n",
      "[2022-12-11 08:15:43,063] {<ipython-input-12-cb52601f4b8e>:126} INFO - Iteration [900]/[2105] loss: 0.719185\n",
      "[2022-12-11 08:16:24,137] {<ipython-input-12-cb52601f4b8e>:126} INFO - Iteration [1200]/[2105] loss: 0.853741\n",
      "[2022-12-11 08:17:03,619] {<ipython-input-12-cb52601f4b8e>:126} INFO - Iteration [1500]/[2105] loss: 0.873849\n",
      "[2022-12-11 08:17:42,750] {<ipython-input-12-cb52601f4b8e>:126} INFO - Iteration [1800]/[2105] loss: 1.107945\n",
      "[2022-12-11 08:18:22,017] {<ipython-input-12-cb52601f4b8e>:126} INFO - Iteration [2100]/[2105] loss: 0.993139\n",
      "[2022-12-11 08:18:22,477] {<ipython-input-12-cb52601f4b8e>:130} INFO - Eval loop\n"
     ]
    },
    {
     "name": "stdout",
     "output_type": "stream",
     "text": [
      "\n"
     ]
    },
    {
     "data": {
      "application/vnd.jupyter.widget-view+json": {
       "model_id": "8e04610c4d2e4d0baf93b0e3e4fc0a70",
       "version_major": 2,
       "version_minor": 0
      },
      "text/plain": [
       "HBox(children=(FloatProgress(value=0.0, max=527.0), HTML(value='')))"
      ]
     },
     "metadata": {},
     "output_type": "display_data"
    },
    {
     "name": "stderr",
     "output_type": "stream",
     "text": [
      "[2022-12-11 08:18:22,536] {<ipython-input-12-cb52601f4b8e>:163} INFO - Iteration [0]/[527] loss: 2.439976\n",
      "[2022-12-11 08:18:35,634] {<ipython-input-12-cb52601f4b8e>:163} INFO - Iteration [300]/[527] loss: 2.235003\n",
      "[2022-12-11 08:18:45,485] {<ipython-input-12-cb52601f4b8e>:57} INFO - Train loss avg:\t0.937498\n",
      "[2022-12-11 08:18:45,486] {<ipython-input-12-cb52601f4b8e>:58} INFO - Eval loss avg:\t2.523131\n",
      "[2022-12-11 08:18:45,486] {<ipython-input-12-cb52601f4b8e>:64} INFO - Clean up CUDA memory\n",
      "[2022-12-11 08:18:45,734] {<ipython-input-12-cb52601f4b8e>:36} INFO - Epoch [99]/[120]\n"
     ]
    },
    {
     "name": "stdout",
     "output_type": "stream",
     "text": [
      "\n"
     ]
    },
    {
     "name": "stderr",
     "output_type": "stream",
     "text": [
      "[2022-12-11 08:18:45,735] {<ipython-input-12-cb52601f4b8e>:39} INFO - LR:\t1.220703125e-07\n",
      "[2022-12-11 08:18:45,736] {<ipython-input-12-cb52601f4b8e>:71} INFO - Train loop\n"
     ]
    },
    {
     "data": {
      "application/vnd.jupyter.widget-view+json": {
       "model_id": "5bc54364228c4ddd843f9c4f19daa9cd",
       "version_major": 2,
       "version_minor": 0
      },
      "text/plain": [
       "HBox(children=(FloatProgress(value=0.0, max=2105.0), HTML(value='')))"
      ]
     },
     "metadata": {},
     "output_type": "display_data"
    },
    {
     "name": "stderr",
     "output_type": "stream",
     "text": [
      "[2022-12-11 08:18:45,887] {<ipython-input-12-cb52601f4b8e>:126} INFO - Iteration [0]/[2105] loss: 0.917205\n",
      "[2022-12-11 08:19:23,653] {<ipython-input-12-cb52601f4b8e>:126} INFO - Iteration [300]/[2105] loss: 0.794045\n",
      "[2022-12-11 08:20:01,180] {<ipython-input-12-cb52601f4b8e>:126} INFO - Iteration [600]/[2105] loss: 0.735653\n",
      "[2022-12-11 08:20:39,487] {<ipython-input-12-cb52601f4b8e>:126} INFO - Iteration [900]/[2105] loss: 1.176221\n",
      "[2022-12-11 08:21:19,600] {<ipython-input-12-cb52601f4b8e>:126} INFO - Iteration [1200]/[2105] loss: 0.927649\n",
      "[2022-12-11 08:21:59,810] {<ipython-input-12-cb52601f4b8e>:126} INFO - Iteration [1500]/[2105] loss: 1.145738\n",
      "[2022-12-11 08:22:39,393] {<ipython-input-12-cb52601f4b8e>:126} INFO - Iteration [1800]/[2105] loss: 0.755054\n",
      "[2022-12-11 08:23:18,403] {<ipython-input-12-cb52601f4b8e>:126} INFO - Iteration [2100]/[2105] loss: 0.751323\n",
      "[2022-12-11 08:23:18,975] {<ipython-input-12-cb52601f4b8e>:130} INFO - Eval loop\n"
     ]
    },
    {
     "name": "stdout",
     "output_type": "stream",
     "text": [
      "\n"
     ]
    },
    {
     "data": {
      "application/vnd.jupyter.widget-view+json": {
       "model_id": "cd87420b9f53447f88dab26f2370f32c",
       "version_major": 2,
       "version_minor": 0
      },
      "text/plain": [
       "HBox(children=(FloatProgress(value=0.0, max=527.0), HTML(value='')))"
      ]
     },
     "metadata": {},
     "output_type": "display_data"
    },
    {
     "name": "stderr",
     "output_type": "stream",
     "text": [
      "[2022-12-11 08:23:19,035] {<ipython-input-12-cb52601f4b8e>:163} INFO - Iteration [0]/[527] loss: 2.440011\n",
      "[2022-12-11 08:23:32,210] {<ipython-input-12-cb52601f4b8e>:163} INFO - Iteration [300]/[527] loss: 2.234177\n",
      "[2022-12-11 08:23:42,610] {<ipython-input-12-cb52601f4b8e>:57} INFO - Train loss avg:\t0.946831\n",
      "[2022-12-11 08:23:42,611] {<ipython-input-12-cb52601f4b8e>:58} INFO - Eval loss avg:\t2.523594\n",
      "[2022-12-11 08:23:42,612] {<ipython-input-12-cb52601f4b8e>:64} INFO - Clean up CUDA memory\n"
     ]
    },
    {
     "name": "stdout",
     "output_type": "stream",
     "text": [
      "\n"
     ]
    },
    {
     "name": "stderr",
     "output_type": "stream",
     "text": [
      "[2022-12-11 08:23:42,860] {<ipython-input-12-cb52601f4b8e>:36} INFO - Epoch [100]/[120]\n",
      "[2022-12-11 08:23:42,861] {<ipython-input-12-cb52601f4b8e>:39} INFO - LR:\t1.220703125e-07\n",
      "[2022-12-11 08:23:42,862] {<ipython-input-12-cb52601f4b8e>:71} INFO - Train loop\n"
     ]
    },
    {
     "data": {
      "application/vnd.jupyter.widget-view+json": {
       "model_id": "df46c3d4982140faa97cbcdfc3c0b231",
       "version_major": 2,
       "version_minor": 0
      },
      "text/plain": [
       "HBox(children=(FloatProgress(value=0.0, max=2105.0), HTML(value='')))"
      ]
     },
     "metadata": {},
     "output_type": "display_data"
    },
    {
     "name": "stderr",
     "output_type": "stream",
     "text": [
      "[2022-12-11 08:23:43,025] {<ipython-input-12-cb52601f4b8e>:126} INFO - Iteration [0]/[2105] loss: 0.763207\n",
      "[2022-12-11 08:24:21,221] {<ipython-input-12-cb52601f4b8e>:126} INFO - Iteration [300]/[2105] loss: 1.014331\n",
      "[2022-12-11 08:24:59,158] {<ipython-input-12-cb52601f4b8e>:126} INFO - Iteration [600]/[2105] loss: 0.891152\n",
      "[2022-12-11 08:25:36,915] {<ipython-input-12-cb52601f4b8e>:126} INFO - Iteration [900]/[2105] loss: 1.095493\n",
      "[2022-12-11 08:26:17,088] {<ipython-input-12-cb52601f4b8e>:126} INFO - Iteration [1200]/[2105] loss: 1.131514\n",
      "[2022-12-11 08:26:56,953] {<ipython-input-12-cb52601f4b8e>:126} INFO - Iteration [1500]/[2105] loss: 1.007191\n",
      "[2022-12-11 08:27:36,046] {<ipython-input-12-cb52601f4b8e>:126} INFO - Iteration [1800]/[2105] loss: 1.166681\n",
      "[2022-12-11 08:28:14,718] {<ipython-input-12-cb52601f4b8e>:126} INFO - Iteration [2100]/[2105] loss: 0.951619\n",
      "[2022-12-11 08:28:15,176] {<ipython-input-12-cb52601f4b8e>:130} INFO - Eval loop\n"
     ]
    },
    {
     "name": "stdout",
     "output_type": "stream",
     "text": [
      "\n"
     ]
    },
    {
     "data": {
      "application/vnd.jupyter.widget-view+json": {
       "model_id": "60db6ff4546a456098dea2fdf056755e",
       "version_major": 2,
       "version_minor": 0
      },
      "text/plain": [
       "HBox(children=(FloatProgress(value=0.0, max=527.0), HTML(value='')))"
      ]
     },
     "metadata": {},
     "output_type": "display_data"
    },
    {
     "name": "stderr",
     "output_type": "stream",
     "text": [
      "[2022-12-11 08:28:15,238] {<ipython-input-12-cb52601f4b8e>:163} INFO - Iteration [0]/[527] loss: 2.440017\n",
      "[2022-12-11 08:28:28,280] {<ipython-input-12-cb52601f4b8e>:163} INFO - Iteration [300]/[527] loss: 2.234426\n",
      "[2022-12-11 08:28:38,096] {<ipython-input-12-cb52601f4b8e>:57} INFO - Train loss avg:\t0.937548\n",
      "[2022-12-11 08:28:38,097] {<ipython-input-12-cb52601f4b8e>:58} INFO - Eval loss avg:\t2.523504\n",
      "[2022-12-11 08:28:38,098] {<ipython-input-12-cb52601f4b8e>:64} INFO - Clean up CUDA memory\n"
     ]
    },
    {
     "name": "stdout",
     "output_type": "stream",
     "text": [
      "\n"
     ]
    },
    {
     "name": "stderr",
     "output_type": "stream",
     "text": [
      "[2022-12-11 08:28:38,348] {<ipython-input-12-cb52601f4b8e>:36} INFO - Epoch [101]/[120]\n",
      "[2022-12-11 08:28:38,349] {<ipython-input-12-cb52601f4b8e>:39} INFO - LR:\t1.220703125e-07\n",
      "[2022-12-11 08:28:38,350] {<ipython-input-12-cb52601f4b8e>:71} INFO - Train loop\n"
     ]
    },
    {
     "data": {
      "application/vnd.jupyter.widget-view+json": {
       "model_id": "ace4031311a546029c756bfee1f298ad",
       "version_major": 2,
       "version_minor": 0
      },
      "text/plain": [
       "HBox(children=(FloatProgress(value=0.0, max=2105.0), HTML(value='')))"
      ]
     },
     "metadata": {},
     "output_type": "display_data"
    },
    {
     "name": "stderr",
     "output_type": "stream",
     "text": [
      "[2022-12-11 08:28:38,499] {<ipython-input-12-cb52601f4b8e>:126} INFO - Iteration [0]/[2105] loss: 1.155215\n",
      "[2022-12-11 08:29:16,481] {<ipython-input-12-cb52601f4b8e>:126} INFO - Iteration [300]/[2105] loss: 0.816831\n",
      "[2022-12-11 08:29:57,079] {<ipython-input-12-cb52601f4b8e>:126} INFO - Iteration [600]/[2105] loss: 1.140667\n",
      "[2022-12-11 08:30:36,043] {<ipython-input-12-cb52601f4b8e>:126} INFO - Iteration [900]/[2105] loss: 2.196721\n",
      "[2022-12-11 08:31:15,082] {<ipython-input-12-cb52601f4b8e>:126} INFO - Iteration [1200]/[2105] loss: 0.722321\n",
      "[2022-12-11 08:31:54,533] {<ipython-input-12-cb52601f4b8e>:126} INFO - Iteration [1500]/[2105] loss: 0.722517\n",
      "[2022-12-11 08:32:33,275] {<ipython-input-12-cb52601f4b8e>:126} INFO - Iteration [1800]/[2105] loss: 0.811808\n",
      "[2022-12-11 08:33:12,197] {<ipython-input-12-cb52601f4b8e>:126} INFO - Iteration [2100]/[2105] loss: 0.808504\n",
      "[2022-12-11 08:33:12,646] {<ipython-input-12-cb52601f4b8e>:130} INFO - Eval loop\n"
     ]
    },
    {
     "name": "stdout",
     "output_type": "stream",
     "text": [
      "\n"
     ]
    },
    {
     "data": {
      "application/vnd.jupyter.widget-view+json": {
       "model_id": "4924d9047b1843449aebbbf554a863c1",
       "version_major": 2,
       "version_minor": 0
      },
      "text/plain": [
       "HBox(children=(FloatProgress(value=0.0, max=527.0), HTML(value='')))"
      ]
     },
     "metadata": {},
     "output_type": "display_data"
    },
    {
     "name": "stderr",
     "output_type": "stream",
     "text": [
      "[2022-12-11 08:33:12,708] {<ipython-input-12-cb52601f4b8e>:163} INFO - Iteration [0]/[527] loss: 2.440145\n",
      "[2022-12-11 08:33:26,254] {<ipython-input-12-cb52601f4b8e>:163} INFO - Iteration [300]/[527] loss: 2.234766\n",
      "[2022-12-11 08:33:36,445] {<ipython-input-12-cb52601f4b8e>:57} INFO - Train loss avg:\t0.931647\n",
      "[2022-12-11 08:33:36,446] {<ipython-input-12-cb52601f4b8e>:58} INFO - Eval loss avg:\t2.523441\n",
      "[2022-12-11 08:33:36,446] {<ipython-input-12-cb52601f4b8e>:64} INFO - Clean up CUDA memory\n",
      "[2022-12-11 08:33:36,697] {<ipython-input-12-cb52601f4b8e>:36} INFO - Epoch [102]/[120]\n"
     ]
    },
    {
     "name": "stdout",
     "output_type": "stream",
     "text": [
      "\n"
     ]
    },
    {
     "name": "stderr",
     "output_type": "stream",
     "text": [
      "[2022-12-11 08:33:36,698] {<ipython-input-12-cb52601f4b8e>:39} INFO - LR:\t1.220703125e-07\n",
      "[2022-12-11 08:33:36,699] {<ipython-input-12-cb52601f4b8e>:71} INFO - Train loop\n"
     ]
    },
    {
     "data": {
      "application/vnd.jupyter.widget-view+json": {
       "model_id": "db804ade314b4138ac4cd23e3a6a2303",
       "version_major": 2,
       "version_minor": 0
      },
      "text/plain": [
       "HBox(children=(FloatProgress(value=0.0, max=2105.0), HTML(value='')))"
      ]
     },
     "metadata": {},
     "output_type": "display_data"
    },
    {
     "name": "stderr",
     "output_type": "stream",
     "text": [
      "[2022-12-11 08:33:36,863] {<ipython-input-12-cb52601f4b8e>:126} INFO - Iteration [0]/[2105] loss: 1.282967\n",
      "[2022-12-11 08:34:16,947] {<ipython-input-12-cb52601f4b8e>:126} INFO - Iteration [300]/[2105] loss: 1.526085\n",
      "[2022-12-11 08:34:56,552] {<ipython-input-12-cb52601f4b8e>:126} INFO - Iteration [600]/[2105] loss: 0.819166\n",
      "[2022-12-11 08:35:35,325] {<ipython-input-12-cb52601f4b8e>:126} INFO - Iteration [900]/[2105] loss: 0.803305\n",
      "[2022-12-11 08:36:13,288] {<ipython-input-12-cb52601f4b8e>:126} INFO - Iteration [1200]/[2105] loss: 0.891970\n",
      "[2022-12-11 08:36:51,968] {<ipython-input-12-cb52601f4b8e>:126} INFO - Iteration [1500]/[2105] loss: 1.087214\n",
      "[2022-12-11 08:37:29,043] {<ipython-input-12-cb52601f4b8e>:126} INFO - Iteration [1800]/[2105] loss: 0.868837\n",
      "[2022-12-11 08:38:08,773] {<ipython-input-12-cb52601f4b8e>:126} INFO - Iteration [2100]/[2105] loss: 0.958781\n",
      "[2022-12-11 08:38:09,225] {<ipython-input-12-cb52601f4b8e>:130} INFO - Eval loop\n"
     ]
    },
    {
     "name": "stdout",
     "output_type": "stream",
     "text": [
      "\n"
     ]
    },
    {
     "data": {
      "application/vnd.jupyter.widget-view+json": {
       "model_id": "623b3b60574a4667bacce833bcb68894",
       "version_major": 2,
       "version_minor": 0
      },
      "text/plain": [
       "HBox(children=(FloatProgress(value=0.0, max=527.0), HTML(value='')))"
      ]
     },
     "metadata": {},
     "output_type": "display_data"
    },
    {
     "name": "stderr",
     "output_type": "stream",
     "text": [
      "[2022-12-11 08:38:09,281] {<ipython-input-12-cb52601f4b8e>:163} INFO - Iteration [0]/[527] loss: 2.440106\n",
      "[2022-12-11 08:38:22,687] {<ipython-input-12-cb52601f4b8e>:163} INFO - Iteration [300]/[527] loss: 2.234910\n",
      "[2022-12-11 08:38:32,715] {<ipython-input-12-cb52601f4b8e>:57} INFO - Train loss avg:\t0.934465\n",
      "[2022-12-11 08:38:32,716] {<ipython-input-12-cb52601f4b8e>:58} INFO - Eval loss avg:\t2.522915\n",
      "[2022-12-11 08:38:32,716] {<ipython-input-12-cb52601f4b8e>:64} INFO - Clean up CUDA memory\n"
     ]
    },
    {
     "name": "stdout",
     "output_type": "stream",
     "text": [
      "\n"
     ]
    },
    {
     "name": "stderr",
     "output_type": "stream",
     "text": [
      "[2022-12-11 08:38:32,967] {<ipython-input-12-cb52601f4b8e>:36} INFO - Epoch [103]/[120]\n",
      "[2022-12-11 08:38:32,967] {<ipython-input-12-cb52601f4b8e>:39} INFO - LR:\t1.220703125e-07\n",
      "[2022-12-11 08:38:32,968] {<ipython-input-12-cb52601f4b8e>:71} INFO - Train loop\n"
     ]
    },
    {
     "data": {
      "application/vnd.jupyter.widget-view+json": {
       "model_id": "e42b2c37e03f41b4a95cc0e905b26036",
       "version_major": 2,
       "version_minor": 0
      },
      "text/plain": [
       "HBox(children=(FloatProgress(value=0.0, max=2105.0), HTML(value='')))"
      ]
     },
     "metadata": {},
     "output_type": "display_data"
    },
    {
     "name": "stderr",
     "output_type": "stream",
     "text": [
      "[2022-12-11 08:38:33,146] {<ipython-input-12-cb52601f4b8e>:126} INFO - Iteration [0]/[2105] loss: 0.758073\n",
      "[2022-12-11 08:39:12,015] {<ipython-input-12-cb52601f4b8e>:126} INFO - Iteration [300]/[2105] loss: 0.589180\n",
      "[2022-12-11 08:39:50,738] {<ipython-input-12-cb52601f4b8e>:126} INFO - Iteration [600]/[2105] loss: 1.004385\n",
      "[2022-12-11 08:40:28,717] {<ipython-input-12-cb52601f4b8e>:126} INFO - Iteration [900]/[2105] loss: 0.800555\n",
      "[2022-12-11 08:41:07,029] {<ipython-input-12-cb52601f4b8e>:126} INFO - Iteration [1200]/[2105] loss: 0.643972\n",
      "[2022-12-11 08:41:45,373] {<ipython-input-12-cb52601f4b8e>:126} INFO - Iteration [1500]/[2105] loss: 1.200593\n",
      "[2022-12-11 08:42:24,153] {<ipython-input-12-cb52601f4b8e>:126} INFO - Iteration [1800]/[2105] loss: 0.813254\n",
      "[2022-12-11 08:43:03,387] {<ipython-input-12-cb52601f4b8e>:126} INFO - Iteration [2100]/[2105] loss: 0.825821\n",
      "[2022-12-11 08:43:03,866] {<ipython-input-12-cb52601f4b8e>:130} INFO - Eval loop\n"
     ]
    },
    {
     "name": "stdout",
     "output_type": "stream",
     "text": [
      "\n"
     ]
    },
    {
     "data": {
      "application/vnd.jupyter.widget-view+json": {
       "model_id": "1e0d77045e214fe3a1bb1f782dc68ab1",
       "version_major": 2,
       "version_minor": 0
      },
      "text/plain": [
       "HBox(children=(FloatProgress(value=0.0, max=527.0), HTML(value='')))"
      ]
     },
     "metadata": {},
     "output_type": "display_data"
    },
    {
     "name": "stderr",
     "output_type": "stream",
     "text": [
      "[2022-12-11 08:43:03,924] {<ipython-input-12-cb52601f4b8e>:163} INFO - Iteration [0]/[527] loss: 2.440006\n",
      "[2022-12-11 08:43:17,344] {<ipython-input-12-cb52601f4b8e>:163} INFO - Iteration [300]/[527] loss: 2.235758\n",
      "[2022-12-11 08:43:27,426] {<ipython-input-12-cb52601f4b8e>:57} INFO - Train loss avg:\t0.929965\n",
      "[2022-12-11 08:43:27,427] {<ipython-input-12-cb52601f4b8e>:58} INFO - Eval loss avg:\t2.523300\n",
      "[2022-12-11 08:43:27,428] {<ipython-input-12-cb52601f4b8e>:64} INFO - Clean up CUDA memory\n",
      "[2022-12-11 08:43:27,667] {<ipython-input-12-cb52601f4b8e>:36} INFO - Epoch [104]/[120]\n"
     ]
    },
    {
     "name": "stdout",
     "output_type": "stream",
     "text": [
      "\n"
     ]
    },
    {
     "name": "stderr",
     "output_type": "stream",
     "text": [
      "[2022-12-11 08:43:27,668] {<ipython-input-12-cb52601f4b8e>:39} INFO - LR:\t1.220703125e-07\n",
      "[2022-12-11 08:43:27,669] {<ipython-input-12-cb52601f4b8e>:71} INFO - Train loop\n"
     ]
    },
    {
     "data": {
      "application/vnd.jupyter.widget-view+json": {
       "model_id": "ebdf0182db054aa1a330317fd9c024db",
       "version_major": 2,
       "version_minor": 0
      },
      "text/plain": [
       "HBox(children=(FloatProgress(value=0.0, max=2105.0), HTML(value='')))"
      ]
     },
     "metadata": {},
     "output_type": "display_data"
    },
    {
     "name": "stderr",
     "output_type": "stream",
     "text": [
      "[2022-12-11 08:43:27,832] {<ipython-input-12-cb52601f4b8e>:126} INFO - Iteration [0]/[2105] loss: 1.109694\n",
      "[2022-12-11 08:44:06,164] {<ipython-input-12-cb52601f4b8e>:126} INFO - Iteration [300]/[2105] loss: 0.824323\n",
      "[2022-12-11 08:44:45,024] {<ipython-input-12-cb52601f4b8e>:126} INFO - Iteration [600]/[2105] loss: 0.997644\n",
      "[2022-12-11 08:45:23,908] {<ipython-input-12-cb52601f4b8e>:126} INFO - Iteration [900]/[2105] loss: 0.824945\n",
      "[2022-12-11 08:46:02,527] {<ipython-input-12-cb52601f4b8e>:126} INFO - Iteration [1200]/[2105] loss: 1.007755\n",
      "[2022-12-11 08:46:40,601] {<ipython-input-12-cb52601f4b8e>:126} INFO - Iteration [1500]/[2105] loss: 0.820155\n",
      "[2022-12-11 08:47:19,927] {<ipython-input-12-cb52601f4b8e>:126} INFO - Iteration [1800]/[2105] loss: 0.951263\n",
      "[2022-12-11 08:47:58,264] {<ipython-input-12-cb52601f4b8e>:126} INFO - Iteration [2100]/[2105] loss: 0.757142\n",
      "[2022-12-11 08:47:58,711] {<ipython-input-12-cb52601f4b8e>:130} INFO - Eval loop\n"
     ]
    },
    {
     "name": "stdout",
     "output_type": "stream",
     "text": [
      "\n"
     ]
    },
    {
     "data": {
      "application/vnd.jupyter.widget-view+json": {
       "model_id": "32a6d27b0ac8441ea4d96d2716d4bf80",
       "version_major": 2,
       "version_minor": 0
      },
      "text/plain": [
       "HBox(children=(FloatProgress(value=0.0, max=527.0), HTML(value='')))"
      ]
     },
     "metadata": {},
     "output_type": "display_data"
    },
    {
     "name": "stderr",
     "output_type": "stream",
     "text": [
      "[2022-12-11 08:47:58,767] {<ipython-input-12-cb52601f4b8e>:163} INFO - Iteration [0]/[527] loss: 2.439932\n",
      "[2022-12-11 08:48:12,173] {<ipython-input-12-cb52601f4b8e>:163} INFO - Iteration [300]/[527] loss: 2.235878\n",
      "[2022-12-11 08:48:22,222] {<ipython-input-12-cb52601f4b8e>:57} INFO - Train loss avg:\t0.932551\n",
      "[2022-12-11 08:48:22,223] {<ipython-input-12-cb52601f4b8e>:58} INFO - Eval loss avg:\t2.523621\n",
      "[2022-12-11 08:48:22,223] {<ipython-input-12-cb52601f4b8e>:64} INFO - Clean up CUDA memory\n"
     ]
    },
    {
     "name": "stdout",
     "output_type": "stream",
     "text": [
      "\n"
     ]
    },
    {
     "name": "stderr",
     "output_type": "stream",
     "text": [
      "[2022-12-11 08:48:22,478] {<ipython-input-12-cb52601f4b8e>:36} INFO - Epoch [105]/[120]\n",
      "[2022-12-11 08:48:22,479] {<ipython-input-12-cb52601f4b8e>:39} INFO - LR:\t6.103515625e-08\n",
      "[2022-12-11 08:48:22,479] {<ipython-input-12-cb52601f4b8e>:71} INFO - Train loop\n"
     ]
    },
    {
     "data": {
      "application/vnd.jupyter.widget-view+json": {
       "model_id": "3726e4e9178e48049d8de9a1b93a071a",
       "version_major": 2,
       "version_minor": 0
      },
      "text/plain": [
       "HBox(children=(FloatProgress(value=0.0, max=2105.0), HTML(value='')))"
      ]
     },
     "metadata": {},
     "output_type": "display_data"
    },
    {
     "name": "stderr",
     "output_type": "stream",
     "text": [
      "[2022-12-11 08:48:22,652] {<ipython-input-12-cb52601f4b8e>:126} INFO - Iteration [0]/[2105] loss: 0.843713\n",
      "[2022-12-11 08:49:01,426] {<ipython-input-12-cb52601f4b8e>:126} INFO - Iteration [300]/[2105] loss: 0.969826\n",
      "[2022-12-11 08:49:39,964] {<ipython-input-12-cb52601f4b8e>:126} INFO - Iteration [600]/[2105] loss: 0.828111\n",
      "[2022-12-11 08:50:17,808] {<ipython-input-12-cb52601f4b8e>:126} INFO - Iteration [900]/[2105] loss: 1.081331\n",
      "[2022-12-11 08:50:58,117] {<ipython-input-12-cb52601f4b8e>:126} INFO - Iteration [1200]/[2105] loss: 1.169765\n",
      "[2022-12-11 08:51:37,871] {<ipython-input-12-cb52601f4b8e>:126} INFO - Iteration [1500]/[2105] loss: 0.591759\n",
      "[2022-12-11 08:52:16,098] {<ipython-input-12-cb52601f4b8e>:126} INFO - Iteration [1800]/[2105] loss: 1.017707\n",
      "[2022-12-11 08:52:54,770] {<ipython-input-12-cb52601f4b8e>:126} INFO - Iteration [2100]/[2105] loss: 0.642490\n",
      "[2022-12-11 08:52:55,219] {<ipython-input-12-cb52601f4b8e>:130} INFO - Eval loop\n"
     ]
    },
    {
     "name": "stdout",
     "output_type": "stream",
     "text": [
      "\n"
     ]
    },
    {
     "data": {
      "application/vnd.jupyter.widget-view+json": {
       "model_id": "3ddbf450949d40ceace265e6da62b607",
       "version_major": 2,
       "version_minor": 0
      },
      "text/plain": [
       "HBox(children=(FloatProgress(value=0.0, max=527.0), HTML(value='')))"
      ]
     },
     "metadata": {},
     "output_type": "display_data"
    },
    {
     "name": "stderr",
     "output_type": "stream",
     "text": [
      "[2022-12-11 08:52:55,275] {<ipython-input-12-cb52601f4b8e>:163} INFO - Iteration [0]/[527] loss: 2.439951\n",
      "[2022-12-11 08:53:08,527] {<ipython-input-12-cb52601f4b8e>:163} INFO - Iteration [300]/[527] loss: 2.235927\n",
      "[2022-12-11 08:53:18,481] {<ipython-input-12-cb52601f4b8e>:57} INFO - Train loss avg:\t0.929418\n",
      "[2022-12-11 08:53:18,482] {<ipython-input-12-cb52601f4b8e>:58} INFO - Eval loss avg:\t2.523404\n",
      "[2022-12-11 08:53:18,482] {<ipython-input-12-cb52601f4b8e>:64} INFO - Clean up CUDA memory\n"
     ]
    },
    {
     "name": "stdout",
     "output_type": "stream",
     "text": [
      "\n"
     ]
    },
    {
     "name": "stderr",
     "output_type": "stream",
     "text": [
      "[2022-12-11 08:53:18,736] {<ipython-input-12-cb52601f4b8e>:36} INFO - Epoch [106]/[120]\n",
      "[2022-12-11 08:53:18,737] {<ipython-input-12-cb52601f4b8e>:39} INFO - LR:\t6.103515625e-08\n",
      "[2022-12-11 08:53:18,738] {<ipython-input-12-cb52601f4b8e>:71} INFO - Train loop\n"
     ]
    },
    {
     "data": {
      "application/vnd.jupyter.widget-view+json": {
       "model_id": "37ae85c736c14abea4dcfa14ebe02fe8",
       "version_major": 2,
       "version_minor": 0
      },
      "text/plain": [
       "HBox(children=(FloatProgress(value=0.0, max=2105.0), HTML(value='')))"
      ]
     },
     "metadata": {},
     "output_type": "display_data"
    },
    {
     "name": "stderr",
     "output_type": "stream",
     "text": [
      "[2022-12-11 08:53:18,913] {<ipython-input-12-cb52601f4b8e>:126} INFO - Iteration [0]/[2105] loss: 0.993222\n",
      "[2022-12-11 08:53:57,103] {<ipython-input-12-cb52601f4b8e>:126} INFO - Iteration [300]/[2105] loss: 0.763375\n",
      "[2022-12-11 08:54:35,450] {<ipython-input-12-cb52601f4b8e>:126} INFO - Iteration [600]/[2105] loss: 0.901575\n",
      "[2022-12-11 08:55:14,255] {<ipython-input-12-cb52601f4b8e>:126} INFO - Iteration [900]/[2105] loss: 0.905314\n",
      "[2022-12-11 08:55:52,458] {<ipython-input-12-cb52601f4b8e>:126} INFO - Iteration [1200]/[2105] loss: 0.850694\n",
      "[2022-12-11 08:56:30,619] {<ipython-input-12-cb52601f4b8e>:126} INFO - Iteration [1500]/[2105] loss: 0.793867\n",
      "[2022-12-11 08:57:08,734] {<ipython-input-12-cb52601f4b8e>:126} INFO - Iteration [1800]/[2105] loss: 0.787886\n",
      "[2022-12-11 08:57:47,170] {<ipython-input-12-cb52601f4b8e>:126} INFO - Iteration [2100]/[2105] loss: 1.199156\n",
      "[2022-12-11 08:57:47,671] {<ipython-input-12-cb52601f4b8e>:130} INFO - Eval loop\n"
     ]
    },
    {
     "name": "stdout",
     "output_type": "stream",
     "text": [
      "\n"
     ]
    },
    {
     "data": {
      "application/vnd.jupyter.widget-view+json": {
       "model_id": "ffd82f6fe6a449f0be9f97d43dc6870b",
       "version_major": 2,
       "version_minor": 0
      },
      "text/plain": [
       "HBox(children=(FloatProgress(value=0.0, max=527.0), HTML(value='')))"
      ]
     },
     "metadata": {},
     "output_type": "display_data"
    },
    {
     "name": "stderr",
     "output_type": "stream",
     "text": [
      "[2022-12-11 08:57:47,732] {<ipython-input-12-cb52601f4b8e>:163} INFO - Iteration [0]/[527] loss: 2.439927\n",
      "[2022-12-11 08:58:00,974] {<ipython-input-12-cb52601f4b8e>:163} INFO - Iteration [300]/[527] loss: 2.235794\n",
      "[2022-12-11 08:58:10,934] {<ipython-input-12-cb52601f4b8e>:57} INFO - Train loss avg:\t0.939050\n",
      "[2022-12-11 08:58:10,935] {<ipython-input-12-cb52601f4b8e>:58} INFO - Eval loss avg:\t2.523539\n",
      "[2022-12-11 08:58:10,936] {<ipython-input-12-cb52601f4b8e>:64} INFO - Clean up CUDA memory\n"
     ]
    },
    {
     "name": "stdout",
     "output_type": "stream",
     "text": [
      "\n"
     ]
    },
    {
     "name": "stderr",
     "output_type": "stream",
     "text": [
      "[2022-12-11 08:58:11,186] {<ipython-input-12-cb52601f4b8e>:36} INFO - Epoch [107]/[120]\n",
      "[2022-12-11 08:58:11,187] {<ipython-input-12-cb52601f4b8e>:39} INFO - LR:\t6.103515625e-08\n",
      "[2022-12-11 08:58:11,188] {<ipython-input-12-cb52601f4b8e>:71} INFO - Train loop\n"
     ]
    },
    {
     "data": {
      "application/vnd.jupyter.widget-view+json": {
       "model_id": "571eabca646a41c8a79528c245dbc63f",
       "version_major": 2,
       "version_minor": 0
      },
      "text/plain": [
       "HBox(children=(FloatProgress(value=0.0, max=2105.0), HTML(value='')))"
      ]
     },
     "metadata": {},
     "output_type": "display_data"
    },
    {
     "name": "stderr",
     "output_type": "stream",
     "text": [
      "[2022-12-11 08:58:11,354] {<ipython-input-12-cb52601f4b8e>:126} INFO - Iteration [0]/[2105] loss: 0.735913\n",
      "[2022-12-11 08:58:50,151] {<ipython-input-12-cb52601f4b8e>:126} INFO - Iteration [300]/[2105] loss: 0.952627\n",
      "[2022-12-11 08:59:27,743] {<ipython-input-12-cb52601f4b8e>:126} INFO - Iteration [600]/[2105] loss: 0.680437\n",
      "[2022-12-11 09:00:06,001] {<ipython-input-12-cb52601f4b8e>:126} INFO - Iteration [900]/[2105] loss: 0.939370\n",
      "[2022-12-11 09:00:43,971] {<ipython-input-12-cb52601f4b8e>:126} INFO - Iteration [1200]/[2105] loss: 1.068913\n",
      "[2022-12-11 09:01:22,843] {<ipython-input-12-cb52601f4b8e>:126} INFO - Iteration [1500]/[2105] loss: 0.873671\n",
      "[2022-12-11 09:02:01,324] {<ipython-input-12-cb52601f4b8e>:126} INFO - Iteration [1800]/[2105] loss: 1.088736\n",
      "[2022-12-11 09:02:40,032] {<ipython-input-12-cb52601f4b8e>:126} INFO - Iteration [2100]/[2105] loss: 0.866672\n",
      "[2022-12-11 09:02:40,461] {<ipython-input-12-cb52601f4b8e>:130} INFO - Eval loop\n"
     ]
    },
    {
     "name": "stdout",
     "output_type": "stream",
     "text": [
      "\n"
     ]
    },
    {
     "data": {
      "application/vnd.jupyter.widget-view+json": {
       "model_id": "af69abe1554c41ada5a8965b05fefd7c",
       "version_major": 2,
       "version_minor": 0
      },
      "text/plain": [
       "HBox(children=(FloatProgress(value=0.0, max=527.0), HTML(value='')))"
      ]
     },
     "metadata": {},
     "output_type": "display_data"
    },
    {
     "name": "stderr",
     "output_type": "stream",
     "text": [
      "[2022-12-11 09:02:40,525] {<ipython-input-12-cb52601f4b8e>:163} INFO - Iteration [0]/[527] loss: 2.439909\n",
      "[2022-12-11 09:02:53,784] {<ipython-input-12-cb52601f4b8e>:163} INFO - Iteration [300]/[527] loss: 2.235851\n",
      "[2022-12-11 09:03:03,731] {<ipython-input-12-cb52601f4b8e>:57} INFO - Train loss avg:\t0.932277\n",
      "[2022-12-11 09:03:03,732] {<ipython-input-12-cb52601f4b8e>:58} INFO - Eval loss avg:\t2.523428\n",
      "[2022-12-11 09:03:03,733] {<ipython-input-12-cb52601f4b8e>:64} INFO - Clean up CUDA memory\n"
     ]
    },
    {
     "name": "stdout",
     "output_type": "stream",
     "text": [
      "\n"
     ]
    },
    {
     "name": "stderr",
     "output_type": "stream",
     "text": [
      "[2022-12-11 09:03:03,982] {<ipython-input-12-cb52601f4b8e>:36} INFO - Epoch [108]/[120]\n",
      "[2022-12-11 09:03:03,983] {<ipython-input-12-cb52601f4b8e>:39} INFO - LR:\t6.103515625e-08\n",
      "[2022-12-11 09:03:03,984] {<ipython-input-12-cb52601f4b8e>:71} INFO - Train loop\n"
     ]
    },
    {
     "data": {
      "application/vnd.jupyter.widget-view+json": {
       "model_id": "e294f681d13f40be986b4b6a86e993d9",
       "version_major": 2,
       "version_minor": 0
      },
      "text/plain": [
       "HBox(children=(FloatProgress(value=0.0, max=2105.0), HTML(value='')))"
      ]
     },
     "metadata": {},
     "output_type": "display_data"
    },
    {
     "name": "stderr",
     "output_type": "stream",
     "text": [
      "[2022-12-11 09:03:04,146] {<ipython-input-12-cb52601f4b8e>:126} INFO - Iteration [0]/[2105] loss: 0.890099\n",
      "[2022-12-11 09:03:42,783] {<ipython-input-12-cb52601f4b8e>:126} INFO - Iteration [300]/[2105] loss: 0.679985\n",
      "[2022-12-11 09:04:20,596] {<ipython-input-12-cb52601f4b8e>:126} INFO - Iteration [600]/[2105] loss: 0.952204\n",
      "[2022-12-11 09:04:59,252] {<ipython-input-12-cb52601f4b8e>:126} INFO - Iteration [900]/[2105] loss: 0.804102\n",
      "[2022-12-11 09:05:37,673] {<ipython-input-12-cb52601f4b8e>:126} INFO - Iteration [1200]/[2105] loss: 0.653419\n",
      "[2022-12-11 09:06:16,567] {<ipython-input-12-cb52601f4b8e>:126} INFO - Iteration [1500]/[2105] loss: 1.170761\n",
      "[2022-12-11 09:06:54,938] {<ipython-input-12-cb52601f4b8e>:126} INFO - Iteration [1800]/[2105] loss: 1.357107\n",
      "[2022-12-11 09:07:32,690] {<ipython-input-12-cb52601f4b8e>:126} INFO - Iteration [2100]/[2105] loss: 1.000166\n",
      "[2022-12-11 09:07:33,143] {<ipython-input-12-cb52601f4b8e>:130} INFO - Eval loop\n"
     ]
    },
    {
     "name": "stdout",
     "output_type": "stream",
     "text": [
      "\n"
     ]
    },
    {
     "data": {
      "application/vnd.jupyter.widget-view+json": {
       "model_id": "6b5fd6bc165c4695ba5947a715601828",
       "version_major": 2,
       "version_minor": 0
      },
      "text/plain": [
       "HBox(children=(FloatProgress(value=0.0, max=527.0), HTML(value='')))"
      ]
     },
     "metadata": {},
     "output_type": "display_data"
    },
    {
     "name": "stderr",
     "output_type": "stream",
     "text": [
      "[2022-12-11 09:07:33,198] {<ipython-input-12-cb52601f4b8e>:163} INFO - Iteration [0]/[527] loss: 2.439893\n",
      "[2022-12-11 09:07:46,529] {<ipython-input-12-cb52601f4b8e>:163} INFO - Iteration [300]/[527] loss: 2.235396\n",
      "[2022-12-11 09:07:56,451] {<ipython-input-12-cb52601f4b8e>:57} INFO - Train loss avg:\t0.934185\n",
      "[2022-12-11 09:07:56,452] {<ipython-input-12-cb52601f4b8e>:58} INFO - Eval loss avg:\t2.523480\n",
      "[2022-12-11 09:07:56,453] {<ipython-input-12-cb52601f4b8e>:64} INFO - Clean up CUDA memory\n",
      "[2022-12-11 09:07:56,701] {<ipython-input-12-cb52601f4b8e>:36} INFO - Epoch [109]/[120]\n"
     ]
    },
    {
     "name": "stdout",
     "output_type": "stream",
     "text": [
      "\n"
     ]
    },
    {
     "name": "stderr",
     "output_type": "stream",
     "text": [
      "[2022-12-11 09:07:56,702] {<ipython-input-12-cb52601f4b8e>:39} INFO - LR:\t6.103515625e-08\n",
      "[2022-12-11 09:07:56,703] {<ipython-input-12-cb52601f4b8e>:71} INFO - Train loop\n"
     ]
    },
    {
     "data": {
      "application/vnd.jupyter.widget-view+json": {
       "model_id": "d11ce16c9a144ffe89190e9971ea4399",
       "version_major": 2,
       "version_minor": 0
      },
      "text/plain": [
       "HBox(children=(FloatProgress(value=0.0, max=2105.0), HTML(value='')))"
      ]
     },
     "metadata": {},
     "output_type": "display_data"
    },
    {
     "name": "stderr",
     "output_type": "stream",
     "text": [
      "[2022-12-11 09:07:56,869] {<ipython-input-12-cb52601f4b8e>:126} INFO - Iteration [0]/[2105] loss: 0.759687\n",
      "[2022-12-11 09:08:35,227] {<ipython-input-12-cb52601f4b8e>:126} INFO - Iteration [300]/[2105] loss: 0.665969\n",
      "[2022-12-11 09:09:13,966] {<ipython-input-12-cb52601f4b8e>:126} INFO - Iteration [600]/[2105] loss: 1.106216\n",
      "[2022-12-11 09:09:52,390] {<ipython-input-12-cb52601f4b8e>:126} INFO - Iteration [900]/[2105] loss: 0.951830\n",
      "[2022-12-11 09:10:30,413] {<ipython-input-12-cb52601f4b8e>:126} INFO - Iteration [1200]/[2105] loss: 0.860138\n",
      "[2022-12-11 09:11:09,045] {<ipython-input-12-cb52601f4b8e>:126} INFO - Iteration [1500]/[2105] loss: 0.763567\n",
      "[2022-12-11 09:11:46,722] {<ipython-input-12-cb52601f4b8e>:126} INFO - Iteration [1800]/[2105] loss: 1.090062\n",
      "[2022-12-11 09:12:24,986] {<ipython-input-12-cb52601f4b8e>:126} INFO - Iteration [2100]/[2105] loss: 1.475419\n",
      "[2022-12-11 09:12:25,440] {<ipython-input-12-cb52601f4b8e>:130} INFO - Eval loop\n"
     ]
    },
    {
     "name": "stdout",
     "output_type": "stream",
     "text": [
      "\n"
     ]
    },
    {
     "data": {
      "application/vnd.jupyter.widget-view+json": {
       "model_id": "8351a3e74e3c469fb6d6e4038a1fee44",
       "version_major": 2,
       "version_minor": 0
      },
      "text/plain": [
       "HBox(children=(FloatProgress(value=0.0, max=527.0), HTML(value='')))"
      ]
     },
     "metadata": {},
     "output_type": "display_data"
    },
    {
     "name": "stderr",
     "output_type": "stream",
     "text": [
      "[2022-12-11 09:12:25,501] {<ipython-input-12-cb52601f4b8e>:163} INFO - Iteration [0]/[527] loss: 2.439787\n",
      "[2022-12-11 09:12:38,765] {<ipython-input-12-cb52601f4b8e>:163} INFO - Iteration [300]/[527] loss: 2.236095\n",
      "[2022-12-11 09:12:50,253] {<ipython-input-12-cb52601f4b8e>:57} INFO - Train loss avg:\t0.937864\n",
      "[2022-12-11 09:12:50,254] {<ipython-input-12-cb52601f4b8e>:58} INFO - Eval loss avg:\t2.522888\n",
      "[2022-12-11 09:12:50,255] {<ipython-input-12-cb52601f4b8e>:64} INFO - Clean up CUDA memory\n",
      "[2022-12-11 09:12:50,505] {<ipython-input-12-cb52601f4b8e>:36} INFO - Epoch [110]/[120]\n"
     ]
    },
    {
     "name": "stdout",
     "output_type": "stream",
     "text": [
      "\n"
     ]
    },
    {
     "name": "stderr",
     "output_type": "stream",
     "text": [
      "[2022-12-11 09:12:50,506] {<ipython-input-12-cb52601f4b8e>:39} INFO - LR:\t6.103515625e-08\n",
      "[2022-12-11 09:12:50,507] {<ipython-input-12-cb52601f4b8e>:71} INFO - Train loop\n"
     ]
    },
    {
     "data": {
      "application/vnd.jupyter.widget-view+json": {
       "model_id": "90a89636751840f586c249cbce8cd784",
       "version_major": 2,
       "version_minor": 0
      },
      "text/plain": [
       "HBox(children=(FloatProgress(value=0.0, max=2105.0), HTML(value='')))"
      ]
     },
     "metadata": {},
     "output_type": "display_data"
    },
    {
     "name": "stderr",
     "output_type": "stream",
     "text": [
      "[2022-12-11 09:12:50,672] {<ipython-input-12-cb52601f4b8e>:126} INFO - Iteration [0]/[2105] loss: 0.817988\n",
      "[2022-12-11 09:13:29,207] {<ipython-input-12-cb52601f4b8e>:126} INFO - Iteration [300]/[2105] loss: 0.818506\n",
      "[2022-12-11 09:14:09,549] {<ipython-input-12-cb52601f4b8e>:126} INFO - Iteration [600]/[2105] loss: 0.835950\n",
      "[2022-12-11 09:14:48,178] {<ipython-input-12-cb52601f4b8e>:126} INFO - Iteration [900]/[2105] loss: 1.013121\n",
      "[2022-12-11 09:15:27,238] {<ipython-input-12-cb52601f4b8e>:126} INFO - Iteration [1200]/[2105] loss: 1.097785\n",
      "[2022-12-11 09:16:06,005] {<ipython-input-12-cb52601f4b8e>:126} INFO - Iteration [1500]/[2105] loss: 0.926000\n",
      "[2022-12-11 09:16:45,351] {<ipython-input-12-cb52601f4b8e>:126} INFO - Iteration [1800]/[2105] loss: 0.959948\n",
      "[2022-12-11 09:17:23,947] {<ipython-input-12-cb52601f4b8e>:126} INFO - Iteration [2100]/[2105] loss: 1.407837\n",
      "[2022-12-11 09:17:24,423] {<ipython-input-12-cb52601f4b8e>:130} INFO - Eval loop\n"
     ]
    },
    {
     "name": "stdout",
     "output_type": "stream",
     "text": [
      "\n"
     ]
    },
    {
     "data": {
      "application/vnd.jupyter.widget-view+json": {
       "model_id": "2e04f6244fc644b999c6ceb29ac732be",
       "version_major": 2,
       "version_minor": 0
      },
      "text/plain": [
       "HBox(children=(FloatProgress(value=0.0, max=527.0), HTML(value='')))"
      ]
     },
     "metadata": {},
     "output_type": "display_data"
    },
    {
     "name": "stderr",
     "output_type": "stream",
     "text": [
      "[2022-12-11 09:17:24,483] {<ipython-input-12-cb52601f4b8e>:163} INFO - Iteration [0]/[527] loss: 2.439745\n",
      "[2022-12-11 09:17:37,970] {<ipython-input-12-cb52601f4b8e>:163} INFO - Iteration [300]/[527] loss: 2.235418\n",
      "[2022-12-11 09:17:48,119] {<ipython-input-12-cb52601f4b8e>:57} INFO - Train loss avg:\t0.943746\n",
      "[2022-12-11 09:17:48,120] {<ipython-input-12-cb52601f4b8e>:58} INFO - Eval loss avg:\t2.522976\n",
      "[2022-12-11 09:17:48,121] {<ipython-input-12-cb52601f4b8e>:64} INFO - Clean up CUDA memory\n",
      "[2022-12-11 09:17:48,371] {<ipython-input-12-cb52601f4b8e>:36} INFO - Epoch [111]/[120]\n"
     ]
    },
    {
     "name": "stdout",
     "output_type": "stream",
     "text": [
      "\n"
     ]
    },
    {
     "name": "stderr",
     "output_type": "stream",
     "text": [
      "[2022-12-11 09:17:48,372] {<ipython-input-12-cb52601f4b8e>:39} INFO - LR:\t3.0517578125e-08\n",
      "[2022-12-11 09:17:48,373] {<ipython-input-12-cb52601f4b8e>:71} INFO - Train loop\n"
     ]
    },
    {
     "data": {
      "application/vnd.jupyter.widget-view+json": {
       "model_id": "c67a2cfa4c864886bf18608842e6ec8f",
       "version_major": 2,
       "version_minor": 0
      },
      "text/plain": [
       "HBox(children=(FloatProgress(value=0.0, max=2105.0), HTML(value='')))"
      ]
     },
     "metadata": {},
     "output_type": "display_data"
    },
    {
     "name": "stderr",
     "output_type": "stream",
     "text": [
      "[2022-12-11 09:17:48,505] {<ipython-input-12-cb52601f4b8e>:126} INFO - Iteration [0]/[2105] loss: 1.030118\n",
      "[2022-12-11 09:18:27,340] {<ipython-input-12-cb52601f4b8e>:126} INFO - Iteration [300]/[2105] loss: 0.894384\n",
      "[2022-12-11 09:19:07,186] {<ipython-input-12-cb52601f4b8e>:126} INFO - Iteration [600]/[2105] loss: 1.336227\n",
      "[2022-12-11 09:19:46,245] {<ipython-input-12-cb52601f4b8e>:126} INFO - Iteration [900]/[2105] loss: 1.217448\n",
      "[2022-12-11 09:20:25,586] {<ipython-input-12-cb52601f4b8e>:126} INFO - Iteration [1200]/[2105] loss: 1.075004\n",
      "[2022-12-11 09:21:05,359] {<ipython-input-12-cb52601f4b8e>:126} INFO - Iteration [1500]/[2105] loss: 0.922525\n",
      "[2022-12-11 09:21:43,979] {<ipython-input-12-cb52601f4b8e>:126} INFO - Iteration [1800]/[2105] loss: 0.637185\n",
      "[2022-12-11 09:22:22,089] {<ipython-input-12-cb52601f4b8e>:126} INFO - Iteration [2100]/[2105] loss: 1.136929\n",
      "[2022-12-11 09:22:22,554] {<ipython-input-12-cb52601f4b8e>:130} INFO - Eval loop\n"
     ]
    },
    {
     "name": "stdout",
     "output_type": "stream",
     "text": [
      "\n"
     ]
    },
    {
     "data": {
      "application/vnd.jupyter.widget-view+json": {
       "model_id": "b47f523e22204f0cb0766d03cd4eea25",
       "version_major": 2,
       "version_minor": 0
      },
      "text/plain": [
       "HBox(children=(FloatProgress(value=0.0, max=527.0), HTML(value='')))"
      ]
     },
     "metadata": {},
     "output_type": "display_data"
    },
    {
     "name": "stderr",
     "output_type": "stream",
     "text": [
      "[2022-12-11 09:22:22,612] {<ipython-input-12-cb52601f4b8e>:163} INFO - Iteration [0]/[527] loss: 2.439717\n",
      "[2022-12-11 09:22:35,974] {<ipython-input-12-cb52601f4b8e>:163} INFO - Iteration [300]/[527] loss: 2.235425\n",
      "[2022-12-11 09:22:46,020] {<ipython-input-12-cb52601f4b8e>:57} INFO - Train loss avg:\t0.936157\n",
      "[2022-12-11 09:22:46,021] {<ipython-input-12-cb52601f4b8e>:58} INFO - Eval loss avg:\t2.522947\n",
      "[2022-12-11 09:22:46,021] {<ipython-input-12-cb52601f4b8e>:64} INFO - Clean up CUDA memory\n",
      "[2022-12-11 09:22:46,271] {<ipython-input-12-cb52601f4b8e>:36} INFO - Epoch [112]/[120]\n"
     ]
    },
    {
     "name": "stdout",
     "output_type": "stream",
     "text": [
      "\n"
     ]
    },
    {
     "name": "stderr",
     "output_type": "stream",
     "text": [
      "[2022-12-11 09:22:46,271] {<ipython-input-12-cb52601f4b8e>:39} INFO - LR:\t3.0517578125e-08\n",
      "[2022-12-11 09:22:46,272] {<ipython-input-12-cb52601f4b8e>:71} INFO - Train loop\n"
     ]
    },
    {
     "data": {
      "application/vnd.jupyter.widget-view+json": {
       "model_id": "6b9c4357eaa248aa9d7e4d93b92c6634",
       "version_major": 2,
       "version_minor": 0
      },
      "text/plain": [
       "HBox(children=(FloatProgress(value=0.0, max=2105.0), HTML(value='')))"
      ]
     },
     "metadata": {},
     "output_type": "display_data"
    },
    {
     "name": "stderr",
     "output_type": "stream",
     "text": [
      "[2022-12-11 09:22:46,435] {<ipython-input-12-cb52601f4b8e>:126} INFO - Iteration [0]/[2105] loss: 1.039786\n",
      "[2022-12-11 09:23:25,180] {<ipython-input-12-cb52601f4b8e>:126} INFO - Iteration [300]/[2105] loss: 1.010469\n",
      "[2022-12-11 09:24:03,499] {<ipython-input-12-cb52601f4b8e>:126} INFO - Iteration [600]/[2105] loss: 1.169198\n",
      "[2022-12-11 09:24:41,610] {<ipython-input-12-cb52601f4b8e>:126} INFO - Iteration [900]/[2105] loss: 0.888646\n",
      "[2022-12-11 09:25:19,843] {<ipython-input-12-cb52601f4b8e>:126} INFO - Iteration [1200]/[2105] loss: 0.603059\n",
      "[2022-12-11 09:25:58,857] {<ipython-input-12-cb52601f4b8e>:126} INFO - Iteration [1500]/[2105] loss: 1.377334\n",
      "[2022-12-11 09:26:37,124] {<ipython-input-12-cb52601f4b8e>:126} INFO - Iteration [1800]/[2105] loss: 0.833034\n",
      "[2022-12-11 09:27:16,089] {<ipython-input-12-cb52601f4b8e>:126} INFO - Iteration [2100]/[2105] loss: 0.853693\n",
      "[2022-12-11 09:27:16,529] {<ipython-input-12-cb52601f4b8e>:130} INFO - Eval loop\n"
     ]
    },
    {
     "name": "stdout",
     "output_type": "stream",
     "text": [
      "\n"
     ]
    },
    {
     "data": {
      "application/vnd.jupyter.widget-view+json": {
       "model_id": "e423f999e2ac46e89c13c21114eac595",
       "version_major": 2,
       "version_minor": 0
      },
      "text/plain": [
       "HBox(children=(FloatProgress(value=0.0, max=527.0), HTML(value='')))"
      ]
     },
     "metadata": {},
     "output_type": "display_data"
    },
    {
     "name": "stderr",
     "output_type": "stream",
     "text": [
      "[2022-12-11 09:27:16,585] {<ipython-input-12-cb52601f4b8e>:163} INFO - Iteration [0]/[527] loss: 2.439733\n",
      "[2022-12-11 09:27:29,960] {<ipython-input-12-cb52601f4b8e>:163} INFO - Iteration [300]/[527] loss: 2.234921\n",
      "[2022-12-11 09:27:40,017] {<ipython-input-12-cb52601f4b8e>:57} INFO - Train loss avg:\t0.946158\n",
      "[2022-12-11 09:27:40,017] {<ipython-input-12-cb52601f4b8e>:58} INFO - Eval loss avg:\t2.523029\n",
      "[2022-12-11 09:27:40,018] {<ipython-input-12-cb52601f4b8e>:64} INFO - Clean up CUDA memory\n"
     ]
    },
    {
     "name": "stdout",
     "output_type": "stream",
     "text": [
      "\n"
     ]
    },
    {
     "name": "stderr",
     "output_type": "stream",
     "text": [
      "[2022-12-11 09:27:40,270] {<ipython-input-12-cb52601f4b8e>:36} INFO - Epoch [113]/[120]\n",
      "[2022-12-11 09:27:40,271] {<ipython-input-12-cb52601f4b8e>:39} INFO - LR:\t3.0517578125e-08\n",
      "[2022-12-11 09:27:40,272] {<ipython-input-12-cb52601f4b8e>:71} INFO - Train loop\n"
     ]
    },
    {
     "data": {
      "application/vnd.jupyter.widget-view+json": {
       "model_id": "ccb46e708adf43cf982fa052d2062e3b",
       "version_major": 2,
       "version_minor": 0
      },
      "text/plain": [
       "HBox(children=(FloatProgress(value=0.0, max=2105.0), HTML(value='')))"
      ]
     },
     "metadata": {},
     "output_type": "display_data"
    },
    {
     "name": "stderr",
     "output_type": "stream",
     "text": [
      "[2022-12-11 09:27:40,485] {<ipython-input-12-cb52601f4b8e>:126} INFO - Iteration [0]/[2105] loss: 0.886707\n",
      "[2022-12-11 09:28:20,023] {<ipython-input-12-cb52601f4b8e>:126} INFO - Iteration [300]/[2105] loss: 0.789881\n",
      "[2022-12-11 09:28:58,083] {<ipython-input-12-cb52601f4b8e>:126} INFO - Iteration [600]/[2105] loss: 1.227282\n",
      "[2022-12-11 09:29:36,728] {<ipython-input-12-cb52601f4b8e>:126} INFO - Iteration [900]/[2105] loss: 0.837777\n",
      "[2022-12-11 09:30:14,986] {<ipython-input-12-cb52601f4b8e>:126} INFO - Iteration [1200]/[2105] loss: 0.758116\n",
      "[2022-12-11 09:30:53,922] {<ipython-input-12-cb52601f4b8e>:126} INFO - Iteration [1500]/[2105] loss: 0.613611\n",
      "[2022-12-11 09:31:32,090] {<ipython-input-12-cb52601f4b8e>:126} INFO - Iteration [1800]/[2105] loss: 0.983959\n",
      "[2022-12-11 09:32:10,460] {<ipython-input-12-cb52601f4b8e>:126} INFO - Iteration [2100]/[2105] loss: 0.788229\n",
      "[2022-12-11 09:32:10,939] {<ipython-input-12-cb52601f4b8e>:130} INFO - Eval loop\n"
     ]
    },
    {
     "name": "stdout",
     "output_type": "stream",
     "text": [
      "\n"
     ]
    },
    {
     "data": {
      "application/vnd.jupyter.widget-view+json": {
       "model_id": "fbe5c17b9f754d8c8e7f5030705d69dd",
       "version_major": 2,
       "version_minor": 0
      },
      "text/plain": [
       "HBox(children=(FloatProgress(value=0.0, max=527.0), HTML(value='')))"
      ]
     },
     "metadata": {},
     "output_type": "display_data"
    },
    {
     "name": "stderr",
     "output_type": "stream",
     "text": [
      "[2022-12-11 09:32:10,996] {<ipython-input-12-cb52601f4b8e>:163} INFO - Iteration [0]/[527] loss: 2.439708\n",
      "[2022-12-11 09:32:24,365] {<ipython-input-12-cb52601f4b8e>:163} INFO - Iteration [300]/[527] loss: 2.235011\n",
      "[2022-12-11 09:32:34,384] {<ipython-input-12-cb52601f4b8e>:57} INFO - Train loss avg:\t0.937266\n",
      "[2022-12-11 09:32:34,386] {<ipython-input-12-cb52601f4b8e>:58} INFO - Eval loss avg:\t2.522867\n",
      "[2022-12-11 09:32:34,386] {<ipython-input-12-cb52601f4b8e>:64} INFO - Clean up CUDA memory\n",
      "[2022-12-11 09:32:34,636] {<ipython-input-12-cb52601f4b8e>:36} INFO - Epoch [114]/[120]\n"
     ]
    },
    {
     "name": "stdout",
     "output_type": "stream",
     "text": [
      "\n"
     ]
    },
    {
     "name": "stderr",
     "output_type": "stream",
     "text": [
      "[2022-12-11 09:32:34,638] {<ipython-input-12-cb52601f4b8e>:39} INFO - LR:\t3.0517578125e-08\n",
      "[2022-12-11 09:32:34,638] {<ipython-input-12-cb52601f4b8e>:71} INFO - Train loop\n"
     ]
    },
    {
     "data": {
      "application/vnd.jupyter.widget-view+json": {
       "model_id": "ede6cfdbe77d44f793b2d413f6e5c4ac",
       "version_major": 2,
       "version_minor": 0
      },
      "text/plain": [
       "HBox(children=(FloatProgress(value=0.0, max=2105.0), HTML(value='')))"
      ]
     },
     "metadata": {},
     "output_type": "display_data"
    },
    {
     "name": "stderr",
     "output_type": "stream",
     "text": [
      "[2022-12-11 09:32:34,797] {<ipython-input-12-cb52601f4b8e>:126} INFO - Iteration [0]/[2105] loss: 0.994358\n",
      "[2022-12-11 09:33:13,799] {<ipython-input-12-cb52601f4b8e>:126} INFO - Iteration [300]/[2105] loss: 1.184855\n",
      "[2022-12-11 09:33:52,254] {<ipython-input-12-cb52601f4b8e>:126} INFO - Iteration [600]/[2105] loss: 1.218149\n",
      "[2022-12-11 09:34:30,187] {<ipython-input-12-cb52601f4b8e>:126} INFO - Iteration [900]/[2105] loss: 0.858857\n",
      "[2022-12-11 09:35:08,838] {<ipython-input-12-cb52601f4b8e>:126} INFO - Iteration [1200]/[2105] loss: 1.005558\n",
      "[2022-12-11 09:35:47,178] {<ipython-input-12-cb52601f4b8e>:126} INFO - Iteration [1500]/[2105] loss: 0.874749\n",
      "[2022-12-11 09:36:25,822] {<ipython-input-12-cb52601f4b8e>:126} INFO - Iteration [1800]/[2105] loss: 1.885656\n",
      "[2022-12-11 09:37:04,398] {<ipython-input-12-cb52601f4b8e>:126} INFO - Iteration [2100]/[2105] loss: 0.895819\n",
      "[2022-12-11 09:37:04,839] {<ipython-input-12-cb52601f4b8e>:130} INFO - Eval loop\n"
     ]
    },
    {
     "name": "stdout",
     "output_type": "stream",
     "text": [
      "\n"
     ]
    },
    {
     "data": {
      "application/vnd.jupyter.widget-view+json": {
       "model_id": "a8ff9e74695545a4b7856d7d4602d75a",
       "version_major": 2,
       "version_minor": 0
      },
      "text/plain": [
       "HBox(children=(FloatProgress(value=0.0, max=527.0), HTML(value='')))"
      ]
     },
     "metadata": {},
     "output_type": "display_data"
    },
    {
     "name": "stderr",
     "output_type": "stream",
     "text": [
      "[2022-12-11 09:37:04,895] {<ipython-input-12-cb52601f4b8e>:163} INFO - Iteration [0]/[527] loss: 2.439677\n",
      "[2022-12-11 09:37:18,279] {<ipython-input-12-cb52601f4b8e>:163} INFO - Iteration [300]/[527] loss: 2.235000\n",
      "[2022-12-11 09:37:28,340] {<ipython-input-12-cb52601f4b8e>:57} INFO - Train loss avg:\t0.940938\n",
      "[2022-12-11 09:37:28,341] {<ipython-input-12-cb52601f4b8e>:58} INFO - Eval loss avg:\t2.522891\n",
      "[2022-12-11 09:37:28,341] {<ipython-input-12-cb52601f4b8e>:64} INFO - Clean up CUDA memory\n"
     ]
    },
    {
     "name": "stdout",
     "output_type": "stream",
     "text": [
      "\n"
     ]
    },
    {
     "name": "stderr",
     "output_type": "stream",
     "text": [
      "[2022-12-11 09:37:28,578] {<ipython-input-12-cb52601f4b8e>:36} INFO - Epoch [115]/[120]\n",
      "[2022-12-11 09:37:28,579] {<ipython-input-12-cb52601f4b8e>:39} INFO - LR:\t3.0517578125e-08\n",
      "[2022-12-11 09:37:28,580] {<ipython-input-12-cb52601f4b8e>:71} INFO - Train loop\n"
     ]
    },
    {
     "data": {
      "application/vnd.jupyter.widget-view+json": {
       "model_id": "ace41dfea7924f38a5a11dc0afbd2ea9",
       "version_major": 2,
       "version_minor": 0
      },
      "text/plain": [
       "HBox(children=(FloatProgress(value=0.0, max=2105.0), HTML(value='')))"
      ]
     },
     "metadata": {},
     "output_type": "display_data"
    },
    {
     "name": "stderr",
     "output_type": "stream",
     "text": [
      "[2022-12-11 09:37:28,821] {<ipython-input-12-cb52601f4b8e>:126} INFO - Iteration [0]/[2105] loss: 0.564596\n",
      "[2022-12-11 09:38:07,628] {<ipython-input-12-cb52601f4b8e>:126} INFO - Iteration [300]/[2105] loss: 0.804373\n",
      "[2022-12-11 09:38:46,314] {<ipython-input-12-cb52601f4b8e>:126} INFO - Iteration [600]/[2105] loss: 0.745998\n",
      "[2022-12-11 09:39:24,622] {<ipython-input-12-cb52601f4b8e>:126} INFO - Iteration [900]/[2105] loss: 0.740682\n",
      "[2022-12-11 09:40:02,955] {<ipython-input-12-cb52601f4b8e>:126} INFO - Iteration [1200]/[2105] loss: 0.915682\n",
      "[2022-12-11 09:40:41,569] {<ipython-input-12-cb52601f4b8e>:126} INFO - Iteration [1500]/[2105] loss: 1.026609\n",
      "[2022-12-11 09:41:20,307] {<ipython-input-12-cb52601f4b8e>:126} INFO - Iteration [1800]/[2105] loss: 0.704995\n",
      "[2022-12-11 09:41:58,105] {<ipython-input-12-cb52601f4b8e>:126} INFO - Iteration [2100]/[2105] loss: 0.823047\n",
      "[2022-12-11 09:41:58,545] {<ipython-input-12-cb52601f4b8e>:130} INFO - Eval loop\n"
     ]
    },
    {
     "name": "stdout",
     "output_type": "stream",
     "text": [
      "\n"
     ]
    },
    {
     "data": {
      "application/vnd.jupyter.widget-view+json": {
       "model_id": "bb6df14a1e6d47ebacfe211aa844819c",
       "version_major": 2,
       "version_minor": 0
      },
      "text/plain": [
       "HBox(children=(FloatProgress(value=0.0, max=527.0), HTML(value='')))"
      ]
     },
     "metadata": {},
     "output_type": "display_data"
    },
    {
     "name": "stderr",
     "output_type": "stream",
     "text": [
      "[2022-12-11 09:41:58,607] {<ipython-input-12-cb52601f4b8e>:163} INFO - Iteration [0]/[527] loss: 2.439669\n",
      "[2022-12-11 09:42:11,990] {<ipython-input-12-cb52601f4b8e>:163} INFO - Iteration [300]/[527] loss: 2.235160\n",
      "[2022-12-11 09:42:22,012] {<ipython-input-12-cb52601f4b8e>:57} INFO - Train loss avg:\t0.926044\n",
      "[2022-12-11 09:42:22,013] {<ipython-input-12-cb52601f4b8e>:58} INFO - Eval loss avg:\t2.522746\n",
      "[2022-12-11 09:42:22,014] {<ipython-input-12-cb52601f4b8e>:64} INFO - Clean up CUDA memory\n"
     ]
    },
    {
     "name": "stdout",
     "output_type": "stream",
     "text": [
      "\n"
     ]
    },
    {
     "name": "stderr",
     "output_type": "stream",
     "text": [
      "[2022-12-11 09:42:22,265] {<ipython-input-12-cb52601f4b8e>:36} INFO - Epoch [116]/[120]\n",
      "[2022-12-11 09:42:22,266] {<ipython-input-12-cb52601f4b8e>:39} INFO - LR:\t3.0517578125e-08\n",
      "[2022-12-11 09:42:22,266] {<ipython-input-12-cb52601f4b8e>:71} INFO - Train loop\n"
     ]
    },
    {
     "data": {
      "application/vnd.jupyter.widget-view+json": {
       "model_id": "fc88dc50ee0342d68f9c46e71e9cc53c",
       "version_major": 2,
       "version_minor": 0
      },
      "text/plain": [
       "HBox(children=(FloatProgress(value=0.0, max=2105.0), HTML(value='')))"
      ]
     },
     "metadata": {},
     "output_type": "display_data"
    },
    {
     "name": "stderr",
     "output_type": "stream",
     "text": [
      "[2022-12-11 09:42:22,449] {<ipython-input-12-cb52601f4b8e>:126} INFO - Iteration [0]/[2105] loss: 1.125047\n",
      "[2022-12-11 09:43:01,530] {<ipython-input-12-cb52601f4b8e>:126} INFO - Iteration [300]/[2105] loss: 0.888969\n",
      "[2022-12-11 09:43:40,106] {<ipython-input-12-cb52601f4b8e>:126} INFO - Iteration [600]/[2105] loss: 0.819391\n",
      "[2022-12-11 09:44:18,558] {<ipython-input-12-cb52601f4b8e>:126} INFO - Iteration [900]/[2105] loss: 0.726840\n",
      "[2022-12-11 09:44:56,951] {<ipython-input-12-cb52601f4b8e>:126} INFO - Iteration [1200]/[2105] loss: 1.048349\n",
      "[2022-12-11 09:45:35,582] {<ipython-input-12-cb52601f4b8e>:126} INFO - Iteration [1500]/[2105] loss: 1.259939\n",
      "[2022-12-11 09:46:14,733] {<ipython-input-12-cb52601f4b8e>:126} INFO - Iteration [1800]/[2105] loss: 0.795965\n",
      "[2022-12-11 09:46:53,811] {<ipython-input-12-cb52601f4b8e>:126} INFO - Iteration [2100]/[2105] loss: 0.979557\n",
      "[2022-12-11 09:46:54,269] {<ipython-input-12-cb52601f4b8e>:130} INFO - Eval loop\n"
     ]
    },
    {
     "name": "stdout",
     "output_type": "stream",
     "text": [
      "\n"
     ]
    },
    {
     "data": {
      "application/vnd.jupyter.widget-view+json": {
       "model_id": "a02be81f1539453cb3f942a11f833e1c",
       "version_major": 2,
       "version_minor": 0
      },
      "text/plain": [
       "HBox(children=(FloatProgress(value=0.0, max=527.0), HTML(value='')))"
      ]
     },
     "metadata": {},
     "output_type": "display_data"
    },
    {
     "name": "stderr",
     "output_type": "stream",
     "text": [
      "[2022-12-11 09:46:54,326] {<ipython-input-12-cb52601f4b8e>:163} INFO - Iteration [0]/[527] loss: 2.439652\n",
      "[2022-12-11 09:47:07,711] {<ipython-input-12-cb52601f4b8e>:163} INFO - Iteration [300]/[527] loss: 2.235147\n",
      "[2022-12-11 09:47:17,737] {<ipython-input-12-cb52601f4b8e>:57} INFO - Train loss avg:\t0.940599\n",
      "[2022-12-11 09:47:17,738] {<ipython-input-12-cb52601f4b8e>:58} INFO - Eval loss avg:\t2.522903\n",
      "[2022-12-11 09:47:17,738] {<ipython-input-12-cb52601f4b8e>:64} INFO - Clean up CUDA memory\n"
     ]
    },
    {
     "name": "stdout",
     "output_type": "stream",
     "text": [
      "\n"
     ]
    },
    {
     "name": "stderr",
     "output_type": "stream",
     "text": [
      "[2022-12-11 09:47:17,989] {<ipython-input-12-cb52601f4b8e>:36} INFO - Epoch [117]/[120]\n",
      "[2022-12-11 09:47:17,990] {<ipython-input-12-cb52601f4b8e>:39} INFO - LR:\t1.52587890625e-08\n",
      "[2022-12-11 09:47:17,991] {<ipython-input-12-cb52601f4b8e>:71} INFO - Train loop\n"
     ]
    },
    {
     "data": {
      "application/vnd.jupyter.widget-view+json": {
       "model_id": "7a97f1a8f4f64c56a1defb956407ca6e",
       "version_major": 2,
       "version_minor": 0
      },
      "text/plain": [
       "HBox(children=(FloatProgress(value=0.0, max=2105.0), HTML(value='')))"
      ]
     },
     "metadata": {},
     "output_type": "display_data"
    },
    {
     "name": "stderr",
     "output_type": "stream",
     "text": [
      "[2022-12-11 09:47:18,209] {<ipython-input-12-cb52601f4b8e>:126} INFO - Iteration [0]/[2105] loss: 0.670224\n",
      "[2022-12-11 09:47:57,259] {<ipython-input-12-cb52601f4b8e>:126} INFO - Iteration [300]/[2105] loss: 0.888557\n",
      "[2022-12-11 09:48:35,648] {<ipython-input-12-cb52601f4b8e>:126} INFO - Iteration [600]/[2105] loss: 0.826319\n",
      "[2022-12-11 09:49:14,934] {<ipython-input-12-cb52601f4b8e>:126} INFO - Iteration [900]/[2105] loss: 0.849429\n",
      "[2022-12-11 09:49:54,451] {<ipython-input-12-cb52601f4b8e>:126} INFO - Iteration [1200]/[2105] loss: 2.311510\n",
      "[2022-12-11 09:50:33,400] {<ipython-input-12-cb52601f4b8e>:126} INFO - Iteration [1500]/[2105] loss: 0.714950\n",
      "[2022-12-11 09:51:12,344] {<ipython-input-12-cb52601f4b8e>:126} INFO - Iteration [1800]/[2105] loss: 0.857178\n",
      "[2022-12-11 09:51:51,104] {<ipython-input-12-cb52601f4b8e>:126} INFO - Iteration [2100]/[2105] loss: 0.963221\n",
      "[2022-12-11 09:51:51,662] {<ipython-input-12-cb52601f4b8e>:130} INFO - Eval loop\n"
     ]
    },
    {
     "name": "stdout",
     "output_type": "stream",
     "text": [
      "\n"
     ]
    },
    {
     "data": {
      "application/vnd.jupyter.widget-view+json": {
       "model_id": "0deb611a0f60400398765dc9441cf191",
       "version_major": 2,
       "version_minor": 0
      },
      "text/plain": [
       "HBox(children=(FloatProgress(value=0.0, max=527.0), HTML(value='')))"
      ]
     },
     "metadata": {},
     "output_type": "display_data"
    },
    {
     "name": "stderr",
     "output_type": "stream",
     "text": [
      "[2022-12-11 09:51:51,717] {<ipython-input-12-cb52601f4b8e>:163} INFO - Iteration [0]/[527] loss: 2.439659\n",
      "[2022-12-11 09:52:05,293] {<ipython-input-12-cb52601f4b8e>:163} INFO - Iteration [300]/[527] loss: 2.235087\n",
      "[2022-12-11 09:52:15,459] {<ipython-input-12-cb52601f4b8e>:57} INFO - Train loss avg:\t0.932669\n",
      "[2022-12-11 09:52:15,460] {<ipython-input-12-cb52601f4b8e>:58} INFO - Eval loss avg:\t2.522973\n",
      "[2022-12-11 09:52:15,461] {<ipython-input-12-cb52601f4b8e>:64} INFO - Clean up CUDA memory\n",
      "[2022-12-11 09:52:15,711] {<ipython-input-12-cb52601f4b8e>:36} INFO - Epoch [118]/[120]\n"
     ]
    },
    {
     "name": "stdout",
     "output_type": "stream",
     "text": [
      "\n"
     ]
    },
    {
     "name": "stderr",
     "output_type": "stream",
     "text": [
      "[2022-12-11 09:52:15,712] {<ipython-input-12-cb52601f4b8e>:39} INFO - LR:\t1.52587890625e-08\n",
      "[2022-12-11 09:52:15,712] {<ipython-input-12-cb52601f4b8e>:71} INFO - Train loop\n"
     ]
    },
    {
     "data": {
      "application/vnd.jupyter.widget-view+json": {
       "model_id": "e9ead5d33dbc42589cf85905429138b1",
       "version_major": 2,
       "version_minor": 0
      },
      "text/plain": [
       "HBox(children=(FloatProgress(value=0.0, max=2105.0), HTML(value='')))"
      ]
     },
     "metadata": {},
     "output_type": "display_data"
    },
    {
     "name": "stderr",
     "output_type": "stream",
     "text": [
      "[2022-12-11 09:52:15,901] {<ipython-input-12-cb52601f4b8e>:126} INFO - Iteration [0]/[2105] loss: 0.737584\n",
      "[2022-12-11 09:52:53,878] {<ipython-input-12-cb52601f4b8e>:126} INFO - Iteration [300]/[2105] loss: 0.685893\n",
      "[2022-12-11 09:53:32,771] {<ipython-input-12-cb52601f4b8e>:126} INFO - Iteration [600]/[2105] loss: 0.777075\n",
      "[2022-12-11 09:54:12,236] {<ipython-input-12-cb52601f4b8e>:126} INFO - Iteration [900]/[2105] loss: 0.813399\n",
      "[2022-12-11 09:54:51,013] {<ipython-input-12-cb52601f4b8e>:126} INFO - Iteration [1200]/[2105] loss: 0.712354\n",
      "[2022-12-11 09:55:29,792] {<ipython-input-12-cb52601f4b8e>:126} INFO - Iteration [1500]/[2105] loss: 0.859052\n",
      "[2022-12-11 09:56:08,619] {<ipython-input-12-cb52601f4b8e>:126} INFO - Iteration [1800]/[2105] loss: 0.887819\n",
      "[2022-12-11 09:56:48,052] {<ipython-input-12-cb52601f4b8e>:126} INFO - Iteration [2100]/[2105] loss: 0.868598\n",
      "[2022-12-11 09:56:48,461] {<ipython-input-12-cb52601f4b8e>:130} INFO - Eval loop\n"
     ]
    },
    {
     "name": "stdout",
     "output_type": "stream",
     "text": [
      "\n"
     ]
    },
    {
     "data": {
      "application/vnd.jupyter.widget-view+json": {
       "model_id": "05b73cb1fbe941a9920d9ae9aa4b5dd5",
       "version_major": 2,
       "version_minor": 0
      },
      "text/plain": [
       "HBox(children=(FloatProgress(value=0.0, max=527.0), HTML(value='')))"
      ]
     },
     "metadata": {},
     "output_type": "display_data"
    },
    {
     "name": "stderr",
     "output_type": "stream",
     "text": [
      "[2022-12-11 09:56:48,521] {<ipython-input-12-cb52601f4b8e>:163} INFO - Iteration [0]/[527] loss: 2.439659\n",
      "[2022-12-11 09:57:02,115] {<ipython-input-12-cb52601f4b8e>:163} INFO - Iteration [300]/[527] loss: 2.235102\n",
      "[2022-12-11 09:57:12,293] {<ipython-input-12-cb52601f4b8e>:57} INFO - Train loss avg:\t0.934327\n",
      "[2022-12-11 09:57:12,294] {<ipython-input-12-cb52601f4b8e>:58} INFO - Eval loss avg:\t2.522986\n",
      "[2022-12-11 09:57:12,294] {<ipython-input-12-cb52601f4b8e>:64} INFO - Clean up CUDA memory\n",
      "[2022-12-11 09:57:12,546] {<ipython-input-12-cb52601f4b8e>:36} INFO - Epoch [119]/[120]\n"
     ]
    },
    {
     "name": "stdout",
     "output_type": "stream",
     "text": [
      "\n"
     ]
    },
    {
     "name": "stderr",
     "output_type": "stream",
     "text": [
      "[2022-12-11 09:57:12,547] {<ipython-input-12-cb52601f4b8e>:39} INFO - LR:\t1.52587890625e-08\n",
      "[2022-12-11 09:57:12,548] {<ipython-input-12-cb52601f4b8e>:71} INFO - Train loop\n"
     ]
    },
    {
     "data": {
      "application/vnd.jupyter.widget-view+json": {
       "model_id": "3acf3457870f48f48b0e81b2e27a2e18",
       "version_major": 2,
       "version_minor": 0
      },
      "text/plain": [
       "HBox(children=(FloatProgress(value=0.0, max=2105.0), HTML(value='')))"
      ]
     },
     "metadata": {},
     "output_type": "display_data"
    },
    {
     "name": "stderr",
     "output_type": "stream",
     "text": [
      "[2022-12-11 09:57:12,762] {<ipython-input-12-cb52601f4b8e>:126} INFO - Iteration [0]/[2105] loss: 0.758204\n",
      "[2022-12-11 09:57:52,005] {<ipython-input-12-cb52601f4b8e>:126} INFO - Iteration [300]/[2105] loss: 1.364741\n",
      "[2022-12-11 09:58:29,730] {<ipython-input-12-cb52601f4b8e>:126} INFO - Iteration [600]/[2105] loss: 0.665444\n",
      "[2022-12-11 09:59:07,517] {<ipython-input-12-cb52601f4b8e>:126} INFO - Iteration [900]/[2105] loss: 0.827240\n",
      "[2022-12-11 09:59:47,960] {<ipython-input-12-cb52601f4b8e>:126} INFO - Iteration [1200]/[2105] loss: 1.081047\n",
      "[2022-12-11 10:00:26,734] {<ipython-input-12-cb52601f4b8e>:126} INFO - Iteration [1500]/[2105] loss: 0.703269\n",
      "[2022-12-11 10:01:05,156] {<ipython-input-12-cb52601f4b8e>:126} INFO - Iteration [1800]/[2105] loss: 0.951981\n",
      "[2022-12-11 10:01:44,090] {<ipython-input-12-cb52601f4b8e>:126} INFO - Iteration [2100]/[2105] loss: 0.933009\n",
      "[2022-12-11 10:01:44,540] {<ipython-input-12-cb52601f4b8e>:130} INFO - Eval loop\n"
     ]
    },
    {
     "name": "stdout",
     "output_type": "stream",
     "text": [
      "\n"
     ]
    },
    {
     "data": {
      "application/vnd.jupyter.widget-view+json": {
       "model_id": "cbcdb87b40674f67b52bb83f1a3b5a98",
       "version_major": 2,
       "version_minor": 0
      },
      "text/plain": [
       "HBox(children=(FloatProgress(value=0.0, max=527.0), HTML(value='')))"
      ]
     },
     "metadata": {},
     "output_type": "display_data"
    },
    {
     "name": "stderr",
     "output_type": "stream",
     "text": [
      "[2022-12-11 10:01:44,594] {<ipython-input-12-cb52601f4b8e>:163} INFO - Iteration [0]/[527] loss: 2.439657\n",
      "[2022-12-11 10:01:57,972] {<ipython-input-12-cb52601f4b8e>:163} INFO - Iteration [300]/[527] loss: 2.235111\n",
      "[2022-12-11 10:02:08,058] {<ipython-input-12-cb52601f4b8e>:57} INFO - Train loss avg:\t0.925966\n",
      "[2022-12-11 10:02:08,059] {<ipython-input-12-cb52601f4b8e>:58} INFO - Eval loss avg:\t2.523054\n",
      "[2022-12-11 10:02:08,059] {<ipython-input-12-cb52601f4b8e>:64} INFO - Clean up CUDA memory\n"
     ]
    },
    {
     "name": "stdout",
     "output_type": "stream",
     "text": [
      "\n"
     ]
    },
    {
     "name": "stderr",
     "output_type": "stream",
     "text": [
      "[2022-12-11 10:02:08,339] {<ipython-input-12-cb52601f4b8e>:36} INFO - Epoch [120]/[120]\n",
      "[2022-12-11 10:02:08,340] {<ipython-input-12-cb52601f4b8e>:39} INFO - LR:\t1.52587890625e-08\n",
      "[2022-12-11 10:02:08,340] {<ipython-input-12-cb52601f4b8e>:71} INFO - Train loop\n"
     ]
    },
    {
     "data": {
      "application/vnd.jupyter.widget-view+json": {
       "model_id": "ef4f4108a6df4bea814876b7feae57ee",
       "version_major": 2,
       "version_minor": 0
      },
      "text/plain": [
       "HBox(children=(FloatProgress(value=0.0, max=2105.0), HTML(value='')))"
      ]
     },
     "metadata": {},
     "output_type": "display_data"
    },
    {
     "name": "stderr",
     "output_type": "stream",
     "text": [
      "[2022-12-11 10:02:08,522] {<ipython-input-12-cb52601f4b8e>:126} INFO - Iteration [0]/[2105] loss: 0.985007\n",
      "[2022-12-11 10:02:48,224] {<ipython-input-12-cb52601f4b8e>:126} INFO - Iteration [300]/[2105] loss: 0.677141\n",
      "[2022-12-11 10:03:27,897] {<ipython-input-12-cb52601f4b8e>:126} INFO - Iteration [600]/[2105] loss: 0.751553\n",
      "[2022-12-11 10:04:06,710] {<ipython-input-12-cb52601f4b8e>:126} INFO - Iteration [900]/[2105] loss: 0.952548\n",
      "[2022-12-11 10:04:44,776] {<ipython-input-12-cb52601f4b8e>:126} INFO - Iteration [1200]/[2105] loss: 1.109790\n",
      "[2022-12-11 10:05:23,141] {<ipython-input-12-cb52601f4b8e>:126} INFO - Iteration [1500]/[2105] loss: 0.794390\n",
      "[2022-12-11 10:06:02,369] {<ipython-input-12-cb52601f4b8e>:126} INFO - Iteration [1800]/[2105] loss: 0.870354\n",
      "[2022-12-11 10:06:41,767] {<ipython-input-12-cb52601f4b8e>:126} INFO - Iteration [2100]/[2105] loss: 1.082895\n",
      "[2022-12-11 10:06:42,195] {<ipython-input-12-cb52601f4b8e>:130} INFO - Eval loop\n"
     ]
    },
    {
     "name": "stdout",
     "output_type": "stream",
     "text": [
      "\n"
     ]
    },
    {
     "data": {
      "application/vnd.jupyter.widget-view+json": {
       "model_id": "e6805867bc664de4ae9ae4c4f706deff",
       "version_major": 2,
       "version_minor": 0
      },
      "text/plain": [
       "HBox(children=(FloatProgress(value=0.0, max=527.0), HTML(value='')))"
      ]
     },
     "metadata": {},
     "output_type": "display_data"
    },
    {
     "name": "stderr",
     "output_type": "stream",
     "text": [
      "[2022-12-11 10:06:42,259] {<ipython-input-12-cb52601f4b8e>:163} INFO - Iteration [0]/[527] loss: 2.439669\n",
      "[2022-12-11 10:06:55,746] {<ipython-input-12-cb52601f4b8e>:163} INFO - Iteration [300]/[527] loss: 2.235041\n",
      "[2022-12-11 10:07:05,874] {<ipython-input-12-cb52601f4b8e>:57} INFO - Train loss avg:\t0.935838\n",
      "[2022-12-11 10:07:05,875] {<ipython-input-12-cb52601f4b8e>:58} INFO - Eval loss avg:\t2.522917\n",
      "[2022-12-11 10:07:05,876] {<ipython-input-12-cb52601f4b8e>:64} INFO - Clean up CUDA memory\n"
     ]
    },
    {
     "name": "stdout",
     "output_type": "stream",
     "text": [
      "\n"
     ]
    }
   ],
   "source": [
    "LR = 1e-3\n",
    "BATCH_SIZE = 128\n",
    "HIDEN_SIZE = 256\n",
    "N_EPOCHS = 120\n",
    "PATIENCE = 5\n",
    "FACTOR = 0.5\n",
    "WRITER_PATH = \"./runs/\"\n",
    "MAX_NORM = 4.0\n",
    "DEVICE = \"cuda\" if torch.cuda.is_available() else \"cpu\"\n",
    "\n",
    "# initialize DataLoaders\n",
    "trainloader = DataLoader(trainset, batch_size=BATCH_SIZE, shuffle=True, collate_fn=EngRusCollate())\n",
    "evalloader = DataLoader(evalset, batch_size=BATCH_SIZE, shuffle=False, collate_fn=EngRusCollate())\n",
    "\n",
    "en2ru_train = Eng2RusTrainModel(encoder_vocab_size=len(eng2idx), decoder_vocab_size=len(rus2idx), \n",
    "                                hiden_size=HIDEN_SIZE, device=DEVICE, initial_lr=LR, patience=PATIENCE,\n",
    "                                factor=FACTOR, writer_path=WRITER_PATH, max_gradient_norm=MAX_NORM)\n",
    "en2ru_train.fit(trainloader=trainloader, evalloader=evalloader, n_epochs=N_EPOCHS, teacher_forcing_ratio=0.5, \n",
    "                verbose_step=300, pad_token=0)"
   ]
  },
  {
   "cell_type": "code",
   "execution_count": 14,
   "metadata": {
    "ExecuteTime": {
     "end_time": "2022-12-11T07:07:15.538512Z",
     "start_time": "2022-12-11T07:07:15.522509Z"
    }
   },
   "outputs": [],
   "source": [
    "# kill tensorboard\n",
    "# taskkill /IM \"tensorboard.exe\" /F"
   ]
  },
  {
   "cell_type": "markdown",
   "metadata": {
    "id": "R8G9EoojGDdJ"
   },
   "source": [
    "**(2 points)** Write a translation function with sampling from a distribution with temperature."
   ]
  },
  {
   "cell_type": "code",
   "execution_count": 15,
   "metadata": {
    "ExecuteTime": {
     "end_time": "2022-12-11T07:07:19.622539Z",
     "start_time": "2022-12-11T07:07:18.968763Z"
    }
   },
   "outputs": [],
   "source": [
    "encoder, decoder = en2ru_train.encoder, en2ru_train.decoder\n",
    "encoder.eval()\n",
    "decoder.eval()\n",
    "encoder = encoder.to(\"cpu\")\n",
    "decoder = decoder.to(\"cpu\")"
   ]
  },
  {
   "cell_type": "code",
   "execution_count": 26,
   "metadata": {
    "ExecuteTime": {
     "end_time": "2022-12-11T07:14:49.590862Z",
     "start_time": "2022-12-11T07:14:49.514353Z"
    },
    "id": "64h3_w528S4d"
   },
   "outputs": [
    {
     "name": "stdout",
     "output_type": "stream",
     "text": [
      "[1, 23, 14, 63, 46, 9, 2]\n",
      "что что что что что что что что что что\n",
      "происходит происходит происходит происходит происходит происходит происходит происходит происходит происходит\n",
      "? ? ? ? ? ? ? ? ? ?\n",
      "EOS EOS EOS EOS EOS EOS EOS EOS EOS EOS\n",
      "EOS EOS EOS EOS EOS EOS EOS EOS EOS EOS\n",
      "EOS EOS EOS EOS EOS EOS EOS EOS EOS EOS\n",
      "EOS EOS EOS EOS EOS EOS EOS EOS EOS EOS\n",
      "EOS EOS EOS EOS EOS EOS EOS EOS EOS EOS\n",
      "EOS EOS EOS EOS EOS EOS EOS EOS EOS EOS\n",
      "EOS EOS EOS EOS EOS EOS EOS EOS EOS EOS\n",
      "EOS EOS EOS EOS EOS EOS EOS EOS EOS EOS\n",
      "EOS EOS EOS EOS EOS EOS EOS EOS EOS EOS\n",
      "EOS EOS EOS EOS EOS EOS EOS EOS EOS EOS\n",
      "EOS EOS EOS EOS EOS EOS EOS EOS EOS EOS\n",
      "EOS EOS EOS EOS EOS EOS EOS EOS EOS EOS\n",
      "EOS EOS EOS EOS EOS EOS EOS EOS EOS EOS\n",
      "EOS EOS EOS EOS EOS EOS EOS EOS EOS EOS\n",
      "EOS EOS EOS EOS EOS EOS EOS EOS EOS EOS\n",
      "EOS EOS EOS EOS EOS EOS EOS EOS EOS EOS\n",
      "EOS EOS EOS EOS EOS EOS EOS EOS EOS EOS\n"
     ]
    }
   ],
   "source": [
    "def evaluate(model: Tuple[nn.Module], sentence: str, eng2idx: Dict[str, int], idx2rus: Dict[str, int], \n",
    "             temp: Union[int, float] = 1.0, max_seq_length: int = 20, batch_size: int = 10, \n",
    "             sos_token: int = 1) -> None:\n",
    "    encoder, decoder = model\n",
    "    \n",
    "    # encode sentence to token sequence\n",
    "    encoded = sentence2idx(seq=sentence, tok2idx=eng2idx)\n",
    "    print(encoded)\n",
    "    \n",
    "    output = []\n",
    "    with torch.no_grad():\n",
    "        # repeat encoded sentence to batch_size times\n",
    "        z = torch.LongTensor(encoded).view(1, -1).repeat(batch_size, 1)\n",
    "        \n",
    "        # feed forward throught encoder\n",
    "        encoder_outputs, hidden = encoder(z, encoder.init_hidden(batch_size=batch_size))\n",
    "        \n",
    "        # iterate over decoder till you will achive max sequence length\n",
    "        decoder_input = torch.full(size=(batch_size, 1), fill_value=sos_token)\n",
    "        for i in range(max_seq_length):\n",
    "            decoder_outputs, hidden = decoder(decoder_input, hidden)\n",
    "            decoder_input = F.softmax(decoder_outputs / temp, dim=2)\n",
    "            decoder_input = decoder_input.argmax(dim=2)\n",
    "            output.append(decoder_input.numpy())\n",
    "    \n",
    "    output = np.concatenate(output, axis=1).T\n",
    "    for s in output:\n",
    "        out = idx2sentence(s, idx2rus)\n",
    "        print(out.replace(\"PAD\", \"\"))\n",
    "\n",
    "    \n",
    "evaluate(model=(encoder, decoder), sentence=\"What is going on?\", eng2idx=eng2idx, idx2rus=idx2rus)"
   ]
  },
  {
   "cell_type": "code",
   "execution_count": null,
   "metadata": {},
   "outputs": [],
   "source": []
  }
 ],
 "metadata": {
  "accelerator": "GPU",
  "colab": {
   "provenance": []
  },
  "hide_input": false,
  "kernelspec": {
   "display_name": "Python 3",
   "language": "python",
   "name": "python3"
  },
  "language_info": {
   "codemirror_mode": {
    "name": "ipython",
    "version": 3
   },
   "file_extension": ".py",
   "mimetype": "text/x-python",
   "name": "python",
   "nbconvert_exporter": "python",
   "pygments_lexer": "ipython3",
   "version": "3.8.3"
  },
  "toc": {
   "base_numbering": 1,
   "nav_menu": {},
   "number_sections": true,
   "sideBar": true,
   "skip_h1_title": false,
   "title_cell": "Table of Contents",
   "title_sidebar": "Contents",
   "toc_cell": false,
   "toc_position": {},
   "toc_section_display": true,
   "toc_window_display": false
  },
  "varInspector": {
   "cols": {
    "lenName": 16,
    "lenType": 16,
    "lenVar": 40
   },
   "kernels_config": {
    "python": {
     "delete_cmd_postfix": "",
     "delete_cmd_prefix": "del ",
     "library": "var_list.py",
     "varRefreshCmd": "print(var_dic_list())"
    },
    "r": {
     "delete_cmd_postfix": ") ",
     "delete_cmd_prefix": "rm(",
     "library": "var_list.r",
     "varRefreshCmd": "cat(var_dic_list()) "
    }
   },
   "types_to_exclude": [
    "module",
    "function",
    "builtin_function_or_method",
    "instance",
    "_Feature"
   ],
   "window_display": false
  }
 },
 "nbformat": 4,
 "nbformat_minor": 1
}
