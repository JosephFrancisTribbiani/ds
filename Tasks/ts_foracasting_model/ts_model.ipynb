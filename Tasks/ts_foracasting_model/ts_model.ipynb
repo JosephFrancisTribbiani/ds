{
 "cells": [
  {
   "attachments": {},
   "cell_type": "markdown",
   "metadata": {},
   "source": [
    "# Imports & Configuration"
   ]
  },
  {
   "cell_type": "code",
   "execution_count": 265,
   "metadata": {},
   "outputs": [],
   "source": [
    "import re\n",
    "import numpy as np\n",
    "import pandas as pd\n",
    "import seaborn as sns\n",
    "import matplotlib.pyplot as plt\n",
    "from typing import Literal, List, Union\n",
    "from sklearn.linear_model import LinearRegression\n",
    "from sklearn.preprocessing import PolynomialFeatures"
   ]
  },
  {
   "attachments": {},
   "cell_type": "markdown",
   "metadata": {},
   "source": [
    "# Read data"
   ]
  },
  {
   "cell_type": "code",
   "execution_count": 6,
   "metadata": {},
   "outputs": [
    {
     "name": "stdout",
     "output_type": "stream",
     "text": [
      "(1725120, 2)\n"
     ]
    },
    {
     "data": {
      "text/html": [
       "<div>\n",
       "<style scoped>\n",
       "    .dataframe tbody tr th:only-of-type {\n",
       "        vertical-align: middle;\n",
       "    }\n",
       "\n",
       "    .dataframe tbody tr th {\n",
       "        vertical-align: top;\n",
       "    }\n",
       "\n",
       "    .dataframe thead th {\n",
       "        text-align: right;\n",
       "    }\n",
       "</style>\n",
       "<table border=\"1\" class=\"dataframe\">\n",
       "  <thead>\n",
       "    <tr style=\"text-align: right;\">\n",
       "      <th></th>\n",
       "      <th>datetime</th>\n",
       "      <th>317694</th>\n",
       "    </tr>\n",
       "  </thead>\n",
       "  <tbody>\n",
       "    <tr>\n",
       "      <th>0</th>\n",
       "      <td>2020-01-01 00:00:00</td>\n",
       "      <td>0.0</td>\n",
       "    </tr>\n",
       "    <tr>\n",
       "      <th>1</th>\n",
       "      <td>2020-01-01 00:01:00</td>\n",
       "      <td>0.0</td>\n",
       "    </tr>\n",
       "    <tr>\n",
       "      <th>2</th>\n",
       "      <td>2020-01-01 00:02:00</td>\n",
       "      <td>0.0</td>\n",
       "    </tr>\n",
       "    <tr>\n",
       "      <th>3</th>\n",
       "      <td>2020-01-01 00:03:00</td>\n",
       "      <td>0.0</td>\n",
       "    </tr>\n",
       "    <tr>\n",
       "      <th>4</th>\n",
       "      <td>2020-01-01 00:04:00</td>\n",
       "      <td>0.0</td>\n",
       "    </tr>\n",
       "  </tbody>\n",
       "</table>\n",
       "</div>"
      ],
      "text/plain": [
       "             datetime  317694\n",
       "0 2020-01-01 00:00:00     0.0\n",
       "1 2020-01-01 00:01:00     0.0\n",
       "2 2020-01-01 00:02:00     0.0\n",
       "3 2020-01-01 00:03:00     0.0\n",
       "4 2020-01-01 00:04:00     0.0"
      ]
     },
     "metadata": {},
     "output_type": "display_data"
    }
   ],
   "source": [
    "data = pd.read_csv(\"../../.data/метрики_торгового_эквайринга.csv\", usecols=[\"datetime\", \"317694\"], parse_dates=[\"datetime\"])\n",
    "\n",
    "print(data.shape)\n",
    "display(data.head())"
   ]
  },
  {
   "cell_type": "code",
   "execution_count": 7,
   "metadata": {},
   "outputs": [
    {
     "data": {
      "text/plain": [
       "datetime    datetime64[ns]\n",
       "317694             float64\n",
       "dtype: object"
      ]
     },
     "execution_count": 7,
     "metadata": {},
     "output_type": "execute_result"
    }
   ],
   "source": [
    "data.dtypes"
   ]
  },
  {
   "attachments": {},
   "cell_type": "markdown",
   "metadata": {},
   "source": [
    "# Build the model"
   ]
  },
  {
   "cell_type": "code",
   "execution_count": 307,
   "metadata": {},
   "outputs": [],
   "source": [
    "class Preprocessing:\n",
    "    \n",
    "    def __init__(self, roles: dict = {}, stages: List[Literal[\"extend_time\", \"interpolate\"]] = [\"extend_time\", \"interpolate\"]) -> None:\n",
    "        self.roles = {\"datetime\": \"datetime\", \"value\": \"value\", **roles}\n",
    "        self.stages = stages\n",
    "\n",
    "    def __call__(self, data: pd.DataFrame) -> pd.DataFrame:\n",
    "        for stage in self.stages:\n",
    "            method = getattr(self, stage)\n",
    "            data = method(data)\n",
    "        return data\n",
    "\n",
    "    def extend_time(self, data: pd.DataFrame) -> pd.DataFrame:\n",
    "        min_date, max_date = data[self.roles.get(\"datetime\")].agg([\"min\", \"max\"])\n",
    "        freq = int(data[self.roles.get(\"datetime\")].diff().dropna().min().total_seconds() // 60)\n",
    "        timeline = pd.date_range(start=min_date, end=max_date, freq=\"%sT\" % freq)\n",
    "        data = pd.DataFrame(data={self.roles.get(\"datetime\"): timeline}) \\\n",
    "                 .merge(data.rename(columns=self.roles), on=self.roles.get(\"datetime\"), how=\"left\")\n",
    "        return data\n",
    "\n",
    "    def interpolate(self, data: pd.DataFrame) -> pd.DataFrame:\n",
    "        data.loc[:, self.roles.get(\"value\")] = data.loc[:, self.roles.get(\"value\")] \\\n",
    "                                                   .interpolate(method=\"linear\", limit_area=\"inside\")\n",
    "        return data\n",
    "\n",
    "\n",
    "class TSForecast:\n",
    "\n",
    "    def __init__(self, h_size: int = 28, trend: Literal[\"linear\", \"polynomial\"] = \"linear\", p_degree: int = 2,\n",
    "                 roles: dict = {}, seasonal_type: Union[int, Literal[\"weekly\", \"daily\"]] = \"weekly\", \n",
    "                 agg_f: Literal[\"mean\", \"median\"] = \"median\", model_type: Literal[\"additive\", \"multiplicative\"] = \"additive\") -> None:\n",
    "        \"\"\"\n",
    "        :param h_size: размер обучающей выборки количестве значений (в днях)\n",
    "        :param trend: тип детектируемого тренда (\"linear\" или \"polynomial\")\n",
    "        :param p_degree: степень полинома в случае с полиномиальным трендом\n",
    "        :param roles: названия колонок \"datetime\" и \"value\" в данных\n",
    "        :param seasonal_type: тип максимальной сезонности (т.е. если присутствует и недельная, и дневная, то указывается недельная)\n",
    "        :param agg_f: аггрегирующая функция при расчете сезонной компоненты\n",
    "        :param model_type: тип модели (аддитивная или мультипликативная)\n",
    "        \"\"\"\n",
    "        self.h_size = h_size\n",
    "        self.trend = trend\n",
    "        self.p_degree = p_degree\n",
    "        self.roles = {\"datetime\": \"datetime\", \"value\": \"value\", **roles}\n",
    "        self.seasonal_type = seasonal_type\n",
    "        self.agg_f = agg_f\n",
    "        self.model_type = model_type\n",
    "\n",
    "    def fit_predict(self, data: pd.DataFrame, horizon: int = 1) -> pd.DataFrame:\n",
    "        \"\"\"\n",
    "        :param data: исторические данные для настройки модели\n",
    "        :param horizon: горизонт прогнозирования (в днях)\n",
    "        \"\"\"\n",
    "        # настройка модели\n",
    "        self.fit(data=data)\n",
    "\n",
    "        # предсказание модели\n",
    "        forecast = self.predict(horizon=horizon)\n",
    "        return forecast\n",
    "\n",
    "    def fit(self, data: pd.DataFrame) -> None:\n",
    "        # определяем дискретность наших данных (в минутах)\n",
    "        # и количество данных для обучения\n",
    "        ts_1 = data[self.roles.get(\"datetime\")].iloc[-1]\n",
    "        ts_2 = data[self.roles.get(\"datetime\")].iloc[-2]\n",
    "        self.freq = int((ts_1 - ts_2).total_seconds() // 60)\n",
    "        self.h_size_items = int(self.h_size * (24 * 60) // self.freq)\n",
    "\n",
    "        # если размер истории меньше, чем выставленный параметр размера истории\n",
    "        # то корректируем\n",
    "        self.h_size_items = min(len(data), self.h_size_items)\n",
    "\n",
    "        # настраиваем тренд\n",
    "        fit_data = data.iloc[-self.h_size_items:, :]\n",
    "        y = fit_data[self.roles.get(\"value\")].values\n",
    "        detrended = self.fit_trend_(y=y)\n",
    "\n",
    "        # настроим сезонность\n",
    "        self.fit_seasonal_(y=detrended)\n",
    "        return\n",
    "    \n",
    "    def fit_trend_(self, y: list) -> None:\n",
    "        # инициализируем модель линейной регрессии\n",
    "        self.lr = LinearRegression()\n",
    "        x = self.trend_features_generation_(forecast=False)\n",
    "        self.lr.fit(x, y)\n",
    "        trend = self.lr.predict(x)\n",
    "\n",
    "        if self.model_type == \"additive\":\n",
    "            detrended = y - trend\n",
    "        elif self.model_type == \"multiplicative\":\n",
    "            detrended = y / trend\n",
    "        else:\n",
    "            raise ValueError(\"Wrong model type.\")\n",
    "        \n",
    "        return detrended\n",
    "    \n",
    "    def trend_features_generation_(self, forecast: bool = False) -> np.ndarray:\n",
    "        \"\"\"\n",
    "        :param forecast: если True, то генерируем фичи для прогнозирования тренда. \n",
    "                         если False, то на этапе обучения\n",
    "        \"\"\"\n",
    "        x = np.reshape(range(self.h_size_items), newshape=(-1, 1))\n",
    "\n",
    "        if forecast:\n",
    "            x += self.h_size_items\n",
    "\n",
    "        if self.trend == \"polynomial\":\n",
    "            pf = PolynomialFeatures(degree=self.p_degree, include_bias=False)\n",
    "            xp = pf.fit_transform(x)\n",
    "            return xp\n",
    "        \n",
    "        return x\n",
    "    \n",
    "    def fit_seasonal_(self, y: np.ndarray) -> None:\n",
    "        \n",
    "        if isinstance(self.seasonal_type, int):\n",
    "            sl = self.seasonal_type\n",
    "        elif isinstance(self.seasonal_type, str) and self.seasonal_type == \"weekly\":\n",
    "            sl = 7 * 1440 // self.freq\n",
    "        elif isinstance(self.seasonal_type, str) and self.seasonal_type == \"daily\":\n",
    "            sl = 1440 // self.freq\n",
    "        else:\n",
    "            raise ValueError(\"Wrong seasonal component.\")\n",
    "        \n",
    "        if self.h_size_items % sl:\n",
    "            self.seasonal = np.insert(arr=y.astype(\"float\"), obj=[0]*(sl - self.h_size_items % sl), values=np.nan)\n",
    "            self.seasonal = np.reshape(self.seasonal, newshape=(sl, -1), order=\"F\")\n",
    "            agg_f = getattr(np, \"nan\" + self.agg_f)\n",
    "        else:\n",
    "            self.seasonal = np.reshape(y, newshape=(sl, -1), order=\"F\")\n",
    "            agg_f = getattr(np, self.agg_f)\n",
    "            \n",
    "        self.seasonal = agg_f(self.seasonal, axis=1)\n",
    "        return\n",
    "    \n",
    "    def predict(self, horizon: int = 1) -> pd.DataFrame:\n",
    "        \"\"\"\n",
    "        :param horizon: горизонт прогнозирования (в днях)\n",
    "        \"\"\"\n",
    "        return\n"
   ]
  },
  {
   "cell_type": "code",
   "execution_count": 312,
   "metadata": {},
   "outputs": [],
   "source": [
    "train_data = data[(data[\"datetime\"] < \"2023-04-12\") & (data[\"datetime\"] >= \"2023-03-15\")]\n",
    "roles = {\"value\": \"317694\"}\n",
    "\n",
    "# выполняем предобработку данных\n",
    "pr = Preprocessing(roles=roles)\n",
    "train_data = pr(train_data)\n",
    "\n",
    "# построение прогноза\n",
    "model = TSForecast(roles=roles, seasonal_type=\"weekly\", agg_f=\"median\", model_type=\"multiplicative\")\n",
    "model.fit_predict(data=train_data)"
   ]
  },
  {
   "cell_type": "code",
   "execution_count": 313,
   "metadata": {},
   "outputs": [
    {
     "data": {
      "image/png": "[encoded data removed]",
      "text/plain": [
       "<Figure size 1400x200 with 1 Axes>"
      ]
     },
     "metadata": {},
     "output_type": "display_data"
    }
   ],
   "source": [
    "fig, ax = plt.subplots(figsize=(14, 2))\n",
    "ax.plot(model.seasonal);"
   ]
  },
  {
   "cell_type": "code",
   "execution_count": 299,
   "metadata": {},
   "outputs": [
    {
     "data": {
      "text/plain": [
       "(40320, 2)"
      ]
     },
     "execution_count": 299,
     "metadata": {},
     "output_type": "execute_result"
    }
   ],
   "source": [
    "train_data.shape"
   ]
  },
  {
   "cell_type": "code",
   "execution_count": null,
   "metadata": {},
   "outputs": [],
   "source": []
  }
 ],
 "metadata": {
  "kernelspec": {
   "display_name": ".venv",
   "language": "python",
   "name": "python3"
  },
  "language_info": {
   "codemirror_mode": {
    "name": "ipython",
    "version": 3
   },
   "file_extension": ".py",
   "mimetype": "text/x-python",
   "name": "python",
   "nbconvert_exporter": "python",
   "pygments_lexer": "ipython3",
   "version": "3.9.6"
  },
  "orig_nbformat": 4
 },
 "nbformat": 4,
 "nbformat_minor": 2
}
