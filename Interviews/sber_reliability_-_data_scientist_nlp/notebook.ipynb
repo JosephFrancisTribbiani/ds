{
 "cells": [
  {
   "cell_type": "markdown",
   "metadata": {},
   "source": [
    "# Imports"
   ]
  },
  {
   "cell_type": "code",
   "execution_count": 76,
   "metadata": {
    "ExecuteTime": {
     "end_time": "2022-11-19T13:06:34.061676Z",
     "start_time": "2022-11-19T13:06:34.033439Z"
    }
   },
   "outputs": [],
   "source": [
    "import re\n",
    "import json\n",
    "import spacy\n",
    "import numpy as np\n",
    "import pandas as pd\n",
    "import seaborn as sns\n",
    "import matplotlib.pyplot as plt\n",
    "from tqdm.auto import tqdm\n",
    "from functools import partial\n",
    "from scipy.sparse import hstack\n",
    "from multiprocessing import Pool as mp\n",
    "from catboost import CatBoostClassifier, Pool\n",
    "from preprocessing import parse_text, data_preprocessing\n",
    "\n",
    "from sklearn.preprocessing import LabelEncoder\n",
    "from sklearn.metrics import classification_report, roc_auc_score\n",
    "from sklearn.model_selection import train_test_split\n",
    "from sklearn.feature_extraction.text import TfidfVectorizer\n",
    "\n",
    "import warnings\n",
    "warnings.filterwarnings(\"ignore\")"
   ]
  },
  {
   "cell_type": "markdown",
   "metadata": {},
   "source": [
    "# Input data"
   ]
  },
  {
   "cell_type": "markdown",
   "metadata": {},
   "source": [
    "Загрузим исходные данные для обучения"
   ]
  },
  {
   "cell_type": "code",
   "execution_count": 2,
   "metadata": {
    "ExecuteTime": {
     "end_time": "2022-11-19T07:55:36.417899Z",
     "start_time": "2022-11-19T07:55:12.073654Z"
    }
   },
   "outputs": [
    {
     "name": "stdout",
     "output_type": "stream",
     "text": [
      "(432158, 3)\n"
     ]
    },
    {
     "data": {
      "text/html": [
       "<div>\n",
       "<style scoped>\n",
       "    .dataframe tbody tr th:only-of-type {\n",
       "        vertical-align: middle;\n",
       "    }\n",
       "\n",
       "    .dataframe tbody tr th {\n",
       "        vertical-align: top;\n",
       "    }\n",
       "\n",
       "    .dataframe thead th {\n",
       "        text-align: right;\n",
       "    }\n",
       "</style>\n",
       "<table border=\"1\" class=\"dataframe\">\n",
       "  <thead>\n",
       "    <tr style=\"text-align: right;\">\n",
       "      <th></th>\n",
       "      <th>title</th>\n",
       "      <th>text</th>\n",
       "      <th>topic</th>\n",
       "    </tr>\n",
       "  </thead>\n",
       "  <tbody>\n",
       "    <tr>\n",
       "      <th>0</th>\n",
       "      <td>Британцы отмечают двухлетие смерти Дианы</td>\n",
       "      <td>&lt;?xml version=\"1.0\" encoding=\"utf-8\"?&gt;\\n&lt;conve...</td>\n",
       "      <td>Мир</td>\n",
       "    </tr>\n",
       "    <tr>\n",
       "      <th>1</th>\n",
       "      <td>Еще одно землетрясение в Турции: один человек ...</td>\n",
       "      <td>&lt;?xml version=\"1.0\" encoding=\"utf-8\"?&gt;\\n&lt;conve...</td>\n",
       "      <td>Мир</td>\n",
       "    </tr>\n",
       "    <tr>\n",
       "      <th>2</th>\n",
       "      <td>Российские национал-большевики убирают террито...</td>\n",
       "      <td>&lt;?xml version=\"1.0\" encoding=\"utf-8\"?&gt;\\n&lt;conve...</td>\n",
       "      <td>Мир</td>\n",
       "    </tr>\n",
       "    <tr>\n",
       "      <th>3</th>\n",
       "      <td>Киргизия ведет бои на границах с Таджикистаном...</td>\n",
       "      <td>&lt;?xml version=\"1.0\" encoding=\"utf-8\"?&gt;\\n&lt;conve...</td>\n",
       "      <td>Мир</td>\n",
       "    </tr>\n",
       "    <tr>\n",
       "      <th>4</th>\n",
       "      <td>Литва засудила участников переворота 91 года</td>\n",
       "      <td>&lt;?xml version=\"1.0\" encoding=\"utf-8\"?&gt;\\n&lt;conve...</td>\n",
       "      <td>Мир</td>\n",
       "    </tr>\n",
       "  </tbody>\n",
       "</table>\n",
       "</div>"
      ],
      "text/plain": [
       "                                               title  \\\n",
       "0           Британцы отмечают двухлетие смерти Дианы   \n",
       "1  Еще одно землетрясение в Турции: один человек ...   \n",
       "2  Российские национал-большевики убирают террито...   \n",
       "3  Киргизия ведет бои на границах с Таджикистаном...   \n",
       "4       Литва засудила участников переворота 91 года   \n",
       "\n",
       "                                                text topic  \n",
       "0  <?xml version=\"1.0\" encoding=\"utf-8\"?>\\n<conve...   Мир  \n",
       "1  <?xml version=\"1.0\" encoding=\"utf-8\"?>\\n<conve...   Мир  \n",
       "2  <?xml version=\"1.0\" encoding=\"utf-8\"?>\\n<conve...   Мир  \n",
       "3  <?xml version=\"1.0\" encoding=\"utf-8\"?>\\n<conve...   Мир  \n",
       "4  <?xml version=\"1.0\" encoding=\"utf-8\"?>\\n<conve...   Мир  "
      ]
     },
     "metadata": {},
     "output_type": "display_data"
    }
   ],
   "source": [
    "input_data = pd.read_csv(\"./test.csv\")\n",
    "\n",
    "print(input_data.shape)\n",
    "display(input_data.head())"
   ]
  },
  {
   "cell_type": "markdown",
   "metadata": {},
   "source": [
    "Посмотрим на распределение целевой переменной `target`"
   ]
  },
  {
   "cell_type": "code",
   "execution_count": 3,
   "metadata": {
    "ExecuteTime": {
     "end_time": "2022-11-19T07:55:36.893925Z",
     "start_time": "2022-11-19T07:55:36.454893Z"
    }
   },
   "outputs": [
    {
     "data": {
      "image/png": "[encoded data removed]",
      "text/plain": [
       "<Figure size 432x288 with 1 Axes>"
      ]
     },
     "metadata": {
      "needs_background": "light"
     },
     "output_type": "display_data"
    }
   ],
   "source": [
    "ax = sns.countplot(data=input_data, x=\"topic\")\n",
    "ax.set_title(label=\"topic values distribution\")\n",
    "ax.tick_params(axis='x', labelrotation=45);"
   ]
  },
  {
   "cell_type": "markdown",
   "metadata": {},
   "source": [
    "В данных присутствует некоторый дисбаланс классов. Количество новостей по теме `Мир` приблизительно в два раза больше количества каждой из остальных тем. С моей точки зрения, дисбаланс классов не столь критичен и решается регуляризацией и использованием весовых коэффициентов в расчете функции потерь в соответствии с размером класса."
   ]
  },
  {
   "cell_type": "markdown",
   "metadata": {},
   "source": [
    "Проверим, что в колонке `text` во всех элементах присутствует тэг `<person></person>`, который сожержит в себе какую-либо информацию."
   ]
  },
  {
   "cell_type": "code",
   "execution_count": 4,
   "metadata": {
    "ExecuteTime": {
     "end_time": "2022-11-19T07:55:45.328992Z",
     "start_time": "2022-11-19T07:55:36.912898Z"
    }
   },
   "outputs": [],
   "source": [
    "pattern = re.compile(r\"(?<=<person>)([\\s\\S]*)(?=</person>)\")\n",
    "assert (~input_data[\"text\"].str.contains(pat=pattern)).sum() == 0, \"Some elements do not have tag <person></person>\""
   ]
  },
  {
   "cell_type": "markdown",
   "metadata": {},
   "source": [
    "Отлично. Извлечем необходимую информацию из колонки `text` с помощью `BeautifulSoup`"
   ]
  },
  {
   "cell_type": "code",
   "execution_count": 5,
   "metadata": {
    "ExecuteTime": {
     "end_time": "2022-11-19T07:55:45.360640Z",
     "start_time": "2022-11-19T07:55:45.348009Z"
    }
   },
   "outputs": [],
   "source": [
    "# with mp(processes=4) as pool:\n",
    "#     input_data = input_data.assign(text_parsed=pool.map(partial(parse_text, tag=\"person\"), input_data[\"text\"].values))"
   ]
  },
  {
   "cell_type": "markdown",
   "metadata": {},
   "source": [
    "Или с помощью регулярных выражений (работает быстрее)"
   ]
  },
  {
   "cell_type": "code",
   "execution_count": 6,
   "metadata": {
    "ExecuteTime": {
     "end_time": "2022-11-19T07:55:55.671511Z",
     "start_time": "2022-11-19T07:55:45.378583Z"
    }
   },
   "outputs": [],
   "source": [
    "input_data[\"text_parsed\"] = input_data[\"text\"].str.extract(pat=pattern).loc[:, 0]"
   ]
  },
  {
   "cell_type": "markdown",
   "metadata": {},
   "source": [
    "Посмотрим, как распределено количество символов в колонках `text` и `title`"
   ]
  },
  {
   "cell_type": "code",
   "execution_count": 7,
   "metadata": {
    "ExecuteTime": {
     "end_time": "2022-11-19T07:56:00.637546Z",
     "start_time": "2022-11-19T07:55:58.620003Z"
    }
   },
   "outputs": [
    {
     "data": {
      "image/png": "[encoded data removed]",
      "text/plain": [
       "<Figure size 1152x288 with 2 Axes>"
      ]
     },
     "metadata": {
      "needs_background": "light"
     },
     "output_type": "display_data"
    }
   ],
   "source": [
    "fig, ax = plt.subplots(nrows=1, ncols=2, figsize=(16, 4))\n",
    "sns.histplot(input_data[\"title\"].str.len(), ax=ax[0], bins=120)\n",
    "ax[0].set_title(label=\"Распределение количества символов\\nв колонке title\")\n",
    "sns.histplot(input_data[\"text_parsed\"].str.len(), ax=ax[1], bins=120)\n",
    "ax[1].set_title(label=\"Распределение количества символов\\nв колонке text_parsed\")\n",
    "fig.show();"
   ]
  },
  {
   "cell_type": "markdown",
   "metadata": {},
   "source": [
    "Как мы видим, есть последовательности в колонке `text_parsed`, длина которых равна 0. Выведем эти объекты."
   ]
  },
  {
   "cell_type": "code",
   "execution_count": 9,
   "metadata": {
    "ExecuteTime": {
     "end_time": "2022-11-18T17:00:15.018446Z",
     "start_time": "2022-11-18T17:00:14.592226Z"
    }
   },
   "outputs": [
    {
     "name": "stdout",
     "output_type": "stream",
     "text": [
      "Row index: [91190]\n",
      "\tЗаголовок:\n",
      "\tВ Стамбуле горит багажное отделение аэропорта \"Ататюрк\"\n",
      "\tТекст:\n",
      "\t<?xml version=\"1.0\" encoding=\"utf-8\"?>\n",
      "<conversion><person></person></conversion>\n",
      "Row index: [353942]\n",
      "\tЗаголовок:\n",
      "\tГребенщиков заработал 10 тысяч рублей в омском подземном переходе\n",
      "\tТекст:\n",
      "\t<?xml version=\"1.0\" encoding=\"utf-8\"?>\n",
      "<conversion><person></person></conversion>\n"
     ]
    }
   ],
   "source": [
    "for i, row in input_data[input_data[\"text_parsed\"].str.len() == 0].iterrows():\n",
    "    print(f\"Row index: [{i}]\")\n",
    "    print(\"\\tЗаголовок:\")\n",
    "    print(\"\\t\" + row[\"title\"])\n",
    "    print(\"\\tТекст:\")\n",
    "    print(\"\\t\" + row[\"text\"])"
   ]
  },
  {
   "cell_type": "markdown",
   "metadata": {},
   "source": [
    "Как мы видим, в некоторых текстах присутствует только символ новой строки. Такой текст не несет абсолютно никакой информации, но может быть достаточно заголовка для определения тематики текста, поэтому удалять такие объекты не будем. Также есть объекты нашей выборки, длина текста в колонке `text_parsed` которых не равна 0, но очень мала. Выведем некоторые из них:"
   ]
  },
  {
   "cell_type": "code",
   "execution_count": 10,
   "metadata": {
    "ExecuteTime": {
     "end_time": "2022-11-18T17:00:17.488086Z",
     "start_time": "2022-11-18T17:00:17.034827Z"
    }
   },
   "outputs": [
    {
     "name": "stdout",
     "output_type": "stream",
     "text": [
      "Row index: [26133]\n",
      "\tЗаголовок:\n",
      "\tАмериканские конгрессмены пытаются ускорить принятие закона о запрете копирования\n",
      "\tТекст:\n",
      "\t<?xml version=\"1.0\" encoding=\"utf-8\"?>\n",
      "<conversion><person>Wired</person></conversion>\n",
      "Row index: [47930]\n",
      "\tЗаголовок:\n",
      "\tНовый франко-японский \"Конкорд\" будет летать в два раза быстрее\n",
      "\tТекст:\n",
      "\t<?xml version=\"1.0\" encoding=\"utf-8\"?>\n",
      "<conversion><person>EADS</person></conversion>\n",
      "Row index: [54004]\n",
      "\tЗаголовок:\n",
      "\tНа украинских артиллерийских складах огонь подобрался к ракетам\n",
      "\tТекст:\n",
      "\t<?xml version=\"1.0\" encoding=\"utf-8\"?>\n",
      "<conversion><person>ИТАР-ТАСС</person></conversion>\n",
      "Row index: [54082]\n",
      "\tЗаголовок:\n",
      "\tДжордж Буш отправился в Пентагон спасать Рамсфелда от отставки\n",
      "\tТекст:\n",
      "\t<?xml version=\"1.0\" encoding=\"utf-8\"?>\n",
      "<conversion><person>Пентагон</person></conversion>\n",
      "Row index: [54096]\n",
      "\tЗаголовок:\n",
      "\tПрототип европейского челнока уронили с высоты 2,4 километра\n",
      "\tТекст:\n",
      "\t<?xml version=\"1.0\" encoding=\"utf-8\"?>\n",
      "<conversion><person>MSNBC</person></conversion>\n"
     ]
    }
   ],
   "source": [
    "for i, row in input_data[input_data[\"text_parsed\"].str.len() < 10].iloc[:5].iterrows():\n",
    "    print(f\"Row index: [{i}]\")\n",
    "    print(\"\\tЗаголовок:\")\n",
    "    print(\"\\t\" + row[\"title\"])\n",
    "    print(\"\\tТекст:\")\n",
    "    print(\"\\t\" + row[\"text\"])"
   ]
  },
  {
   "cell_type": "markdown",
   "metadata": {},
   "source": [
    "В некоторых случаях это названия компаний, источника новостей."
   ]
  },
  {
   "cell_type": "markdown",
   "metadata": {},
   "source": [
    "Взглянем, есть ли в наших данных пропущенные значения."
   ]
  },
  {
   "cell_type": "code",
   "execution_count": 11,
   "metadata": {
    "ExecuteTime": {
     "end_time": "2022-11-18T17:00:18.681840Z",
     "start_time": "2022-11-18T17:00:18.440463Z"
    }
   },
   "outputs": [
    {
     "data": {
      "text/plain": [
       "title          0\n",
       "text           0\n",
       "topic          0\n",
       "text_parsed    0\n",
       "dtype: int64"
      ]
     },
     "execution_count": 11,
     "metadata": {},
     "output_type": "execute_result"
    }
   ],
   "source": [
    "input_data.isna().sum(axis=0)"
   ]
  },
  {
   "cell_type": "markdown",
   "metadata": {},
   "source": [
    "# TF-IDF"
   ]
  },
  {
   "cell_type": "markdown",
   "metadata": {},
   "source": [
    "Напомним, что такое TF-IDF. Рассчитывается для каждого слова $t$ в документе $d$.\n",
    "\n",
    "$$\n",
    "\\text{TF-IDF} \\left( t, d, D \\right) = \\text{TF} \\left( t, d \\right) \\cdot \\text{IDF} \\left( t, D \\right)\n",
    "$$\n",
    "\n",
    "где,\n",
    "\n",
    "$\\text{TF} \\left( t, d \\right)$ - _term frequency_. Показывает то, как часто встречается слово $t$ в документе $d$:\n",
    "\n",
    "$$\n",
    "\\text{TF} \\left( t, d \\right) = \\frac{\\text{количество повторений слова $t$ в документе $d$}}{\\text{количество слов в документе $d$}}\n",
    "$$\n",
    "\n",
    "$\\text{IDF} \\left( t, D \\right)$ - _inverted document frequency_. Отражает то, в каком количестве документов из корпуса всех документов $D$ встречается слово $t$:\n",
    "\n",
    "$$\n",
    "\\text{IDF} \\left( t, D \\right) = \\log \\frac{\\text{общее количество документов}}{\\text{количество документов, в которых встречается слово $t$}}\n",
    "$$\n",
    "\n",
    "При этом, если слово встречается в каждом документе корпуса текстов, то $\\text{IDF} = 0 => \\text{TF-IDF} = 0$. И это верно, т.к. данное слово не характеризует конкретный документ."
   ]
  },
  {
   "cell_type": "markdown",
   "metadata": {},
   "source": [
    "## Input data preprocessing"
   ]
  },
  {
   "cell_type": "markdown",
   "metadata": {},
   "source": [
    "В данном разделе предобработаем наши данные для дальнейшего обучения моделей. Для предподготовки данных используем библиотеку `spacy`."
   ]
  },
  {
   "cell_type": "code",
   "execution_count": 8,
   "metadata": {
    "ExecuteTime": {
     "end_time": "2022-11-19T07:56:07.713652Z",
     "start_time": "2022-11-19T07:56:03.959007Z"
    }
   },
   "outputs": [],
   "source": [
    "ru_nlp = spacy.load(\"ru_core_news_lg\")"
   ]
  },
  {
   "cell_type": "markdown",
   "metadata": {},
   "source": [
    "Для классификации текста по темам с помощью простых моделей `BoW`, `TF-IDF` и т.д. с классификатором на деревьях нет необходимости во всех частях речи. Поэтому во время предобработки данных оставим только ключевые.\n",
    "\n",
    "Таблица с частями речи `spacy` (POS - part of speech)"
   ]
  },
  {
   "cell_type": "markdown",
   "metadata": {},
   "source": [
    "| POS | DESCRIPTION | описание | EXAMPLES |\n",
    "| --- | --- | --- | --- |\n",
    "| ADJ | adjective | прилагательное | *big, old, green, incomprehensible, first* |\n",
    "| ADP | adposition | предлог | *in, to, during* |\n",
    "| ADV | adverb | наречие | *very, tomorrow, down, where, there* |\n",
    "| AUX | auxiliary |  | *is, has (done), will (do), should (do)* |\n",
    "| CONJ | conjunction |  | *and, or, but* |\n",
    "| CCONJ | coordinating conjunction |  | *and, or, but* |\n",
    "| DET | determiner |  | *a, an, the* |\n",
    "| INTJ | interjection |  | *psst, ouch, bravo, hello* |\n",
    "| NOUN | noun |  | *girl, cat, tree, air, beauty* |\n",
    "| NUM | numeral |  | *1, 2017, one, seventy-seven, IV, MMXIV* |\n",
    "| PART | particle |  | *’s, not,* |\n",
    "| PRON | pronoun |  | *I, you, he, she, myself, themselves, somebody* |\n",
    "| PROPN | proper noun |  | *Mary, John, London, NATO, HBO* |\n",
    "| PUNCT | punctuation |  | *., (, ), ?* |\n",
    "| SCONJ | subordinating conjunction |  | *if, while, that* |\n",
    "| SYM | symbol |  | *\\$, %, §, ©, +, −, ×, ÷, =, :), 😝* |\n",
    "| VERB | verb |  | *run, runs, running, eat, ate, eating* |\n",
    "| X | other |  | *sfpksdpsxmsa* |\n",
    "| SPACE | space |  |  |"
   ]
  },
  {
   "cell_type": "markdown",
   "metadata": {
    "ExecuteTime": {
     "end_time": "2022-11-13T09:54:16.729206Z",
     "start_time": "2022-11-13T09:54:16.705985Z"
    }
   },
   "source": [
    "В первом приближении для нас актуальны следующие части речи (некоторые из POS в корпусе русских текстов не присутствуют впринципе):\n",
    "- ADJ\n",
    "- NOUN\n",
    "- PROPN\n",
    "- VERB"
   ]
  },
  {
   "cell_type": "markdown",
   "metadata": {},
   "source": [
    "### Target encoding"
   ]
  },
  {
   "cell_type": "markdown",
   "metadata": {},
   "source": [
    "Во первых, необходимо закодировать целевую переменную. Сделаем это с помощью `LabelEncoder` из `sklearn`."
   ]
  },
  {
   "cell_type": "code",
   "execution_count": 9,
   "metadata": {
    "ExecuteTime": {
     "end_time": "2022-11-19T07:56:11.883149Z",
     "start_time": "2022-11-19T07:56:11.751396Z"
    }
   },
   "outputs": [],
   "source": [
    "le = LabelEncoder()\n",
    "input_data[\"topic_encoded\"] = le.fit_transform(input_data[\"topic\"])"
   ]
  },
  {
   "cell_type": "markdown",
   "metadata": {},
   "source": [
    "Выведем закодированные классы"
   ]
  },
  {
   "cell_type": "code",
   "execution_count": 52,
   "metadata": {
    "ExecuteTime": {
     "end_time": "2022-11-19T12:36:43.716953Z",
     "start_time": "2022-11-19T12:36:43.704944Z"
    }
   },
   "outputs": [
    {
     "data": {
      "text/plain": [
       "{0: 'Интернет и СМИ',\n",
       " 1: 'Культура',\n",
       " 2: 'Мир',\n",
       " 3: 'Наука и техника',\n",
       " 4: 'Спорт',\n",
       " 5: 'Экономика'}"
      ]
     },
     "execution_count": 52,
     "metadata": {},
     "output_type": "execute_result"
    }
   ],
   "source": [
    "dict(zip(range(len(le.classes_)), le.classes_))"
   ]
  },
  {
   "cell_type": "markdown",
   "metadata": {},
   "source": [
    "### Title and text preprocessing"
   ]
  },
  {
   "cell_type": "markdown",
   "metadata": {},
   "source": [
    "Для токенизации и лемматизации слов используем стандартные инструменты `spacy`."
   ]
  },
  {
   "cell_type": "code",
   "execution_count": 10,
   "metadata": {
    "ExecuteTime": {
     "end_time": "2022-11-18T23:51:35.173743Z",
     "start_time": "2022-11-18T21:36:59.127710Z"
    }
   },
   "outputs": [],
   "source": [
    "data_preprocessing(\n",
    "    input_data[\"title\"].to_list(), input_data[\"text_parsed\"].to_list(), nlp=ru_nlp, \n",
    "    pos=[\"ADJ\", \"NOUN\", \"PROPN\", \"VERB\"], n_process=4, filename=\"./tf_idf_preprocessed_data.txt\")"
   ]
  },
  {
   "cell_type": "markdown",
   "metadata": {},
   "source": [
    "## Read preprocessed data from file"
   ]
  },
  {
   "cell_type": "code",
   "execution_count": 10,
   "metadata": {
    "ExecuteTime": {
     "end_time": "2022-11-19T07:56:41.438410Z",
     "start_time": "2022-11-19T07:56:16.798864Z"
    }
   },
   "outputs": [
    {
     "name": "stdout",
     "output_type": "stream",
     "text": [
      "Size of titles:\t\t432158\n",
      "Size of texts:\t\t432158\n",
      "Size of input data:\t432158\n"
     ]
    }
   ],
   "source": [
    "with open(\"./tf_idf_preprocessed_data.txt\", \"r\", encoding=\"utf-8\") as f:\n",
    "    titles = json.loads(f.readline())\n",
    "    texts  = json.loads(f.readline())\n",
    "    \n",
    "print(f\"Size of titles:\\t\\t{len(titles)}\")\n",
    "print(f\"Size of texts:\\t\\t{len(texts)}\")\n",
    "print(f\"Size of input data:\\t{input_data.shape[0]}\")"
   ]
  },
  {
   "cell_type": "markdown",
   "metadata": {},
   "source": [
    "## Train / Val / Test split"
   ]
  },
  {
   "cell_type": "markdown",
   "metadata": {},
   "source": [
    "При использовании бустинга, мы разбиваем нашу выборку на три подвыборки: тренировочная, валидационная и тестовая. Валидационная выборка необходима для контроля обучения и в случае, если значение функции потерь на валидационной выборке начинает расти, то мы останавливаем процесс обучения. Таким образом, мы препятствуем переобучению модели.\n",
    "\n",
    "На тестовой выборке производится оценка качества нашей модели.\n",
    "\n",
    "Заголовки и тексты векторизуем по отдельности, а затем объединим их матрицы признаков. Итоговую матрицу будем использовать для обучения моделей."
   ]
  },
  {
   "cell_type": "code",
   "execution_count": 11,
   "metadata": {
    "ExecuteTime": {
     "end_time": "2022-11-19T07:57:33.130980Z",
     "start_time": "2022-11-19T07:57:32.219755Z"
    }
   },
   "outputs": [
    {
     "name": "stdout",
     "output_type": "stream",
     "text": [
      "Train:\n",
      "\tx_train_title:\t345726\n",
      "\tx_train_text:\t345726\n",
      "\ty_train:\t345726\n",
      "Eval:\n",
      "\tx_eval_title:\t43216\n",
      "\tx_eval_text:\t43216\n",
      "\ty_eval:\t\t43216\n",
      "Test:\n",
      "\tx_test_title:\t43216\n",
      "\tx_test_text:\t43216\n",
      "\ty_test:\t\t43216\n"
     ]
    }
   ],
   "source": [
    "x_train_title, x_rest_title, x_train_text, x_rest_text, y_train, y_rest = \\\n",
    "    train_test_split(titles, texts, input_data[\"topic_encoded\"].values, train_size=0.8, shuffle=True, \n",
    "                     stratify=input_data[\"topic_encoded\"].values, random_state=42)\n",
    "x_eval_title, x_test_title, x_eval_text, x_test_text, y_eval, y_test = \\\n",
    "    train_test_split(x_rest_title, x_rest_text, y_rest, train_size=0.5, shuffle=False)\n",
    "\n",
    "print(f\"Train:\\n\" \\\n",
    "      f\"\\tx_train_title:\\t{len(x_train_title)}\\n\\tx_train_text:\\t{len(x_train_text)}\\n\\ty_train:\\t{y_train.shape[0]}\\n\" \\\n",
    "      f\"Eval:\\n\" \\\n",
    "      f\"\\tx_eval_title:\\t{len(x_eval_title)}\\n\\tx_eval_text:\\t{len(x_eval_text)}\\n\\ty_eval:\\t\\t{y_eval.shape[0]}\\n\" \\\n",
    "      f\"Test:\\n\" \\\n",
    "      f\"\\tx_test_title:\\t{len(x_test_title)}\\n\\tx_test_text:\\t{len(x_test_text)}\\n\\ty_test:\\t\\t{y_test.shape[0]}\")"
   ]
  },
  {
   "cell_type": "markdown",
   "metadata": {},
   "source": [
    "## TF-IDF + CatBoost Classifier"
   ]
  },
  {
   "cell_type": "markdown",
   "metadata": {},
   "source": [
    "### TF-IDF vectorization"
   ]
  },
  {
   "cell_type": "markdown",
   "metadata": {},
   "source": [
    "Векторизуем тексты. Т.к. тексты у нас довольно-таки большие, то ограничим количество слов в итоговом `vocabulary`. Сделаем это следующим образом:\n",
    "- с помощью параметра `max_df` выбросим все слова, для которых $\\text{DF} > 0.9$ (т.е. _document frequency_ - относительное количество документов в которых встречается слово $t$ от общего числа документов в корпусе).\n",
    "- с помощью параметра `min_df` выбросим все слова, для которых абсолютное количество документов, в которых встречается слово $t$, меньше 5\n",
    "- также были выброшены токены, которые сожержали еще символы кроме русских букв и были короче 4-х символов (см. `pattern`).\n",
    "\n",
    "Отдельно векторизуем заголовки, и отдельно тексты. Затем полученные матрицы объединим в одну."
   ]
  },
  {
   "cell_type": "code",
   "execution_count": 26,
   "metadata": {
    "ExecuteTime": {
     "end_time": "2022-11-19T08:41:27.089759Z",
     "start_time": "2022-11-19T08:40:35.634704Z"
    }
   },
   "outputs": [
    {
     "name": "stdout",
     "output_type": "stream",
     "text": [
      "Title vocabulary size:\t13354\n",
      "Text vocabulary size:\t57530\n"
     ]
    }
   ],
   "source": [
    "def dummy_fun(doc):\n",
    "    return doc\n",
    "\n",
    "\n",
    "def tokenizer(sequence: list, pattern: re.Pattern = None) -> list:\n",
    "    if not pattern:\n",
    "        return sequence\n",
    "    return list(filter(pattern.fullmatch, sequence))\n",
    "\n",
    "\n",
    "def build_tokenzier(tokenizer, pattern: re.Pattern = None):\n",
    "    return partial(tokenizer, pattern=pattern)\n",
    "\n",
    "\n",
    "# fit tfidf on titles and texts\n",
    "pattern = re.compile(r\"[а-яё]{4,}\", flags=re.IGNORECASE)\n",
    "tfidf_title = TfidfVectorizer(\n",
    "    analyzer='word', tokenizer=build_tokenzier(tokenizer, pattern), preprocessor=dummy_fun, max_df=0.9, min_df=10)\n",
    "tfidf_text = TfidfVectorizer(\n",
    "    analyzer='word', tokenizer=build_tokenzier(tokenizer, pattern), preprocessor=dummy_fun, max_df=0.9, min_df=10)\n",
    "\n",
    "x_train_features_title, x_train_features_text = \\\n",
    "    tfidf_title.fit_transform(x_train_title), tfidf_text.fit_transform(x_train_text)\n",
    "x_eval_features_title, x_eval_features_text = \\\n",
    "    tfidf_title.transform(x_eval_title), tfidf_text.transform(x_eval_text)\n",
    "x_test_features_title, x_test_features_text = \\\n",
    "    tfidf_title.transform(x_test_title), tfidf_text.transform(x_test_text)\n",
    "\n",
    "# print out the vocabulary sizes\n",
    "print(f\"Title vocabulary size:\\t{len(tfidf_title.get_feature_names())}\")\n",
    "print(f\"Text vocabulary size:\\t{len(tfidf_text.get_feature_names())}\")"
   ]
  },
  {
   "cell_type": "markdown",
   "metadata": {},
   "source": [
    "Объединим вектора заголовков и текстов"
   ]
  },
  {
   "cell_type": "code",
   "execution_count": 27,
   "metadata": {
    "ExecuteTime": {
     "end_time": "2022-11-19T08:41:54.726480Z",
     "start_time": "2022-11-19T08:41:54.048926Z"
    }
   },
   "outputs": [],
   "source": [
    "x_train_features = hstack((x_train_features_title, x_train_features_text))\n",
    "x_eval_features = hstack((x_eval_features_title, x_eval_features_text))\n",
    "x_test_features = hstack((x_test_features_title, x_test_features_text))"
   ]
  },
  {
   "cell_type": "markdown",
   "metadata": {},
   "source": [
    "### Train the model"
   ]
  },
  {
   "cell_type": "code",
   "execution_count": 28,
   "metadata": {
    "ExecuteTime": {
     "end_time": "2022-11-19T08:42:25.509011Z",
     "start_time": "2022-11-19T08:42:22.580182Z"
    }
   },
   "outputs": [],
   "source": [
    "train_pool, eval_pool = Pool(data=x_train_features, label=y_train), Pool(data=x_eval_features, label=y_eval)"
   ]
  },
  {
   "cell_type": "code",
   "execution_count": 29,
   "metadata": {
    "ExecuteTime": {
     "end_time": "2022-11-19T11:41:39.682905Z",
     "start_time": "2022-11-19T08:42:51.290941Z"
    }
   },
   "outputs": [
    {
     "data": {
      "application/vnd.jupyter.widget-view+json": {
       "model_id": "2b197d29c1594766ac0659f46f48b86b",
       "version_major": 2,
       "version_minor": 0
      },
      "text/plain": [
       "MetricVisualizer(layout=Layout(align_self='stretch', height='500px'))"
      ]
     },
     "metadata": {},
     "output_type": "display_data"
    },
    {
     "name": "stdout",
     "output_type": "stream",
     "text": [
      "0:\tlearn: 1.5729650\ttest: 1.5714904\tbest: 1.5714904 (0)\ttotal: 7.75s\tremaining: 6h 27m 33s\n",
      "100:\tlearn: 0.5133892\ttest: 0.5195796\tbest: 0.5195796 (100)\ttotal: 6m 25s\tremaining: 3h 4m 14s\n",
      "200:\tlearn: 0.4023350\ttest: 0.4112372\tbest: 0.4112372 (200)\ttotal: 12m 48s\tremaining: 2h 58m 24s\n",
      "300:\tlearn: 0.3529547\ttest: 0.3629055\tbest: 0.3629055 (300)\ttotal: 18m 58s\tremaining: 2h 50m 13s\n",
      "400:\tlearn: 0.3253888\ttest: 0.3363863\tbest: 0.3363863 (400)\ttotal: 25m 8s\tremaining: 2h 42m 57s\n",
      "500:\tlearn: 0.3100867\ttest: 0.3219137\tbest: 0.3219137 (500)\ttotal: 31m 7s\tremaining: 2h 35m 16s\n",
      "600:\tlearn: 0.2998001\ttest: 0.3126066\tbest: 0.3126037 (598)\ttotal: 37m 9s\tremaining: 2h 28m 19s\n",
      "700:\tlearn: 0.2938525\ttest: 0.3072340\tbest: 0.3072340 (700)\ttotal: 43m\tremaining: 2h 21m 3s\n",
      "800:\tlearn: 0.2893298\ttest: 0.3033638\tbest: 0.3033637 (799)\ttotal: 48m 53s\tremaining: 2h 14m 12s\n",
      "900:\tlearn: 0.2847782\ttest: 0.2996170\tbest: 0.2996170 (900)\ttotal: 54m 56s\tremaining: 2h 8m\n",
      "1000:\tlearn: 0.2817939\ttest: 0.2972628\tbest: 0.2972628 (1000)\ttotal: 1h 49s\tremaining: 2h 1m 28s\n",
      "1100:\tlearn: 0.2793774\ttest: 0.2955390\tbest: 0.2955390 (1100)\ttotal: 1h 6m 34s\tremaining: 1h 54m 49s\n",
      "1200:\tlearn: 0.2769934\ttest: 0.2935212\tbest: 0.2935212 (1200)\ttotal: 1h 12m 23s\tremaining: 1h 48m 26s\n",
      "1300:\tlearn: 0.2755589\ttest: 0.2925457\tbest: 0.2925456 (1299)\ttotal: 1h 18m 16s\tremaining: 1h 42m 13s\n",
      "1400:\tlearn: 0.2737660\ttest: 0.2912282\tbest: 0.2912282 (1400)\ttotal: 1h 24m 20s\tremaining: 1h 36m 15s\n",
      "1500:\tlearn: 0.2719066\ttest: 0.2896083\tbest: 0.2896026 (1499)\ttotal: 1h 30m 26s\tremaining: 1h 30m 18s\n",
      "1600:\tlearn: 0.2704410\ttest: 0.2885342\tbest: 0.2885342 (1600)\ttotal: 1h 36m 16s\tremaining: 1h 24m 7s\n",
      "1700:\tlearn: 0.2691604\ttest: 0.2875610\tbest: 0.2875610 (1700)\ttotal: 1h 42m 3s\tremaining: 1h 17m 55s\n",
      "1800:\tlearn: 0.2682325\ttest: 0.2870261\tbest: 0.2870261 (1800)\ttotal: 1h 47m 50s\tremaining: 1h 11m 47s\n",
      "1900:\tlearn: 0.2672368\ttest: 0.2862771\tbest: 0.2862748 (1899)\ttotal: 1h 53m 36s\tremaining: 1h 5m 40s\n",
      "2000:\tlearn: 0.2666314\ttest: 0.2859856\tbest: 0.2859846 (1997)\ttotal: 1h 59m 28s\tremaining: 59m 38s\n",
      "2100:\tlearn: 0.2655688\ttest: 0.2853548\tbest: 0.2853526 (2096)\ttotal: 2h 5m 30s\tremaining: 53m 42s\n",
      "2200:\tlearn: 0.2644802\ttest: 0.2846820\tbest: 0.2846820 (2200)\ttotal: 2h 11m 28s\tremaining: 47m 43s\n",
      "2300:\tlearn: 0.2637148\ttest: 0.2842191\tbest: 0.2842191 (2300)\ttotal: 2h 17m 20s\tremaining: 41m 43s\n",
      "2400:\tlearn: 0.2628733\ttest: 0.2837583\tbest: 0.2837583 (2400)\ttotal: 2h 23m 13s\tremaining: 35m 43s\n",
      "2500:\tlearn: 0.2621582\ttest: 0.2833210\tbest: 0.2833210 (2500)\ttotal: 2h 29m 15s\tremaining: 29m 46s\n",
      "2600:\tlearn: 0.2614047\ttest: 0.2827981\tbest: 0.2827981 (2599)\ttotal: 2h 35m 5s\tremaining: 23m 47s\n",
      "2700:\tlearn: 0.2606872\ttest: 0.2823122\tbest: 0.2823122 (2700)\ttotal: 2h 40m 58s\tremaining: 17m 49s\n",
      "2800:\tlearn: 0.2600628\ttest: 0.2819042\tbest: 0.2818994 (2795)\ttotal: 2h 46m 55s\tremaining: 11m 51s\n",
      "2900:\tlearn: 0.2596587\ttest: 0.2817288\tbest: 0.2817288 (2900)\ttotal: 2h 52m 46s\tremaining: 5m 53s\n",
      "2999:\tlearn: 0.2591728\ttest: 0.2813973\tbest: 0.2813973 (2999)\ttotal: 2h 58m 34s\tremaining: 0us\n",
      "\n",
      "bestTest = 0.2813973402\n",
      "bestIteration = 2999\n",
      "\n"
     ]
    },
    {
     "data": {
      "text/plain": [
       "<catboost.core.CatBoostClassifier at 0x22666b6d760>"
      ]
     },
     "execution_count": 29,
     "metadata": {},
     "output_type": "execute_result"
    }
   ],
   "source": [
    "catboost_cls = CatBoostClassifier(iterations=3000, learning_rate=0.3, max_depth=2, eval_metric='MultiClass',\n",
    "                                  l2_leaf_reg=None, custom_loss=[\"Accuracy\", \"Precision\", \"Recall\"], random_state=42)\n",
    "catboost_cls.fit(train_pool, eval_set=eval_pool, plot=True, verbose=100, early_stopping_rounds=50)"
   ]
  },
  {
   "cell_type": "markdown",
   "metadata": {},
   "source": [
    "### Evaluation"
   ]
  },
  {
   "cell_type": "markdown",
   "metadata": {},
   "source": [
    "Рассчитаем метрики качества классификации"
   ]
  },
  {
   "cell_type": "code",
   "execution_count": 88,
   "metadata": {
    "ExecuteTime": {
     "end_time": "2022-11-19T13:24:59.486903Z",
     "start_time": "2022-11-19T13:24:43.081880Z"
    }
   },
   "outputs": [
    {
     "name": "stdout",
     "output_type": "stream",
     "text": [
      "Classification report on train set:\n",
      "\n",
      "ROC-AUC score\n",
      "\tOVO: 0.99\n",
      "\tOVR: 0.99\n",
      "\n",
      "              precision    recall  f1-score   support\n",
      "\n",
      "           0       0.86      0.80      0.83     35730\n",
      "           1       0.93      0.92      0.93     43038\n",
      "           2       0.91      0.94      0.92    109297\n",
      "           3       0.90      0.87      0.88     42509\n",
      "           4       0.98      0.97      0.98     51530\n",
      "           5       0.92      0.93      0.93     63622\n",
      "\n",
      "    accuracy                           0.92    345726\n",
      "   macro avg       0.92      0.91      0.91    345726\n",
      "weighted avg       0.92      0.92      0.92    345726\n",
      "\n",
      "Classification report on eval set:\n",
      "\n",
      "ROC-AUC score\n",
      "\tOVO: 0.99\n",
      "\tOVR: 0.99\n",
      "\n",
      "              precision    recall  f1-score   support\n",
      "\n",
      "           0       0.84      0.78      0.81      4448\n",
      "           1       0.92      0.92      0.92      5354\n",
      "           2       0.90      0.93      0.92     13610\n",
      "           3       0.90      0.86      0.88      5408\n",
      "           4       0.98      0.97      0.97      6416\n",
      "           5       0.92      0.93      0.92      7980\n",
      "\n",
      "    accuracy                           0.91     43216\n",
      "   macro avg       0.91      0.90      0.90     43216\n",
      "weighted avg       0.91      0.91      0.91     43216\n",
      "\n",
      "Classification report on test set:\n",
      "\n",
      "ROC-AUC score\n",
      "\tOVO: 0.99\n",
      "\tOVR: 0.99\n",
      "\n",
      "              precision    recall  f1-score   support\n",
      "\n",
      "           0       0.85      0.80      0.83      4485\n",
      "           1       0.93      0.91      0.92      5405\n",
      "           2       0.91      0.94      0.92     13714\n",
      "           3       0.89      0.86      0.87      5219\n",
      "           4       0.98      0.97      0.97      6467\n",
      "           5       0.92      0.92      0.92      7926\n",
      "\n",
      "    accuracy                           0.91     43216\n",
      "   macro avg       0.91      0.90      0.91     43216\n",
      "weighted avg       0.91      0.91      0.91     43216\n",
      "\n"
     ]
    }
   ],
   "source": [
    "def evaluate(classificator, x: np.array, y_true: np.array, label: str = \"train\") -> None:\n",
    "    y_hat_proba = classificator.predict_proba(x)\n",
    "    \n",
    "    # ROC-AUC\n",
    "    # OVO - one vs one\n",
    "    # OVR - one vs rest\n",
    "    \n",
    "    print(f\"Classification report on {label} set:\\n\")\n",
    "    print(f\"ROC-AUC score\")\n",
    "    print(\"\\tOVO: {:.2f}\".format(roc_auc_score(y_true=y_true, y_score=y_hat_proba, multi_class=\"ovo\")))\n",
    "    print(\"\\tOVR: {:.2f}\".format(roc_auc_score(y_true=y_true, y_score=y_hat_proba, multi_class=\"ovr\")))\n",
    "    print()\n",
    "    print(classification_report(y_true=y_true, y_pred=y_hat_proba.argmax(axis=1)))\n",
    "    return\n",
    "\n",
    "evaluate(classificator=catboost_cls, x=x_train_features, y_true=y_train)\n",
    "evaluate(classificator=catboost_cls, x=x_eval_features, y_true=y_eval, label=\"eval\")\n",
    "evaluate(classificator=catboost_cls, x=x_test_features, y_true=y_test, label=\"test\")"
   ]
  },
  {
   "cell_type": "code",
   "execution_count": null,
   "metadata": {},
   "outputs": [],
   "source": []
  }
 ],
 "metadata": {
  "hide_input": false,
  "kernelspec": {
   "display_name": "Python 3",
   "language": "python",
   "name": "python3"
  },
  "language_info": {
   "codemirror_mode": {
    "name": "ipython",
    "version": 3
   },
   "file_extension": ".py",
   "mimetype": "text/x-python",
   "name": "python",
   "nbconvert_exporter": "python",
   "pygments_lexer": "ipython3",
   "version": "3.8.3"
  },
  "toc": {
   "base_numbering": 1,
   "nav_menu": {},
   "number_sections": true,
   "sideBar": true,
   "skip_h1_title": false,
   "title_cell": "Table of Contents",
   "title_sidebar": "Contents",
   "toc_cell": false,
   "toc_position": {
    "height": "calc(100% - 180px)",
    "left": "10px",
    "top": "150px",
    "width": "303.837px"
   },
   "toc_section_display": true,
   "toc_window_display": true
  },
  "varInspector": {
   "cols": {
    "lenName": 16,
    "lenType": 16,
    "lenVar": 40
   },
   "kernels_config": {
    "python": {
     "delete_cmd_postfix": "",
     "delete_cmd_prefix": "del ",
     "library": "var_list.py",
     "varRefreshCmd": "print(var_dic_list())"
    },
    "r": {
     "delete_cmd_postfix": ") ",
     "delete_cmd_prefix": "rm(",
     "library": "var_list.r",
     "varRefreshCmd": "cat(var_dic_list()) "
    }
   },
   "types_to_exclude": [
    "module",
    "function",
    "builtin_function_or_method",
    "instance",
    "_Feature"
   ],
   "window_display": false
  }
 },
 "nbformat": 4,
 "nbformat_minor": 4
}
