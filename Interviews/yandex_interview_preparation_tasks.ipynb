{
 "cells": [
  {
   "attachments": {},
   "cell_type": "markdown",
   "metadata": {},
   "source": [
    "# A. Камни и украшения [тестовая задача]"
   ]
  },
  {
   "attachments": {},
   "cell_type": "markdown",
   "metadata": {},
   "source": [
    "https://contest.yandex.ru/contest/8458/problems/A/"
   ]
  },
  {
   "attachments": {},
   "cell_type": "markdown",
   "metadata": {},
   "source": [
    "Даны две строки строчных латинских символов: строка J и строка S. Символы, входящие в строку J, — «драгоценности», входящие в строку S — «камни». Нужно определить, какое количество символов из S одновременно являются «драгоценностями». Проще говоря, нужно проверить, какое количество символов из S входит в J.\n",
    "Это разминочная задача, к которой мы размещаем готовые решения. Она очень простая и нужна для того, чтобы вы могли познакомиться с нашей автоматической системой проверки решений. Ввод и вывод осуществляется через файлы, либо через стандартные потоки ввода-вывода, как вам удобнее."
   ]
  },
  {
   "cell_type": "code",
   "execution_count": 2,
   "metadata": {},
   "outputs": [
    {
     "name": "stdout",
     "output_type": "stream",
     "text": [
      "4\n"
     ]
    }
   ],
   "source": [
    "j = input()\n",
    "s = input()\n",
    "\n",
    "ans = 0\n",
    "for s_1 in s:\n",
    "    if s_1 in j: ans += 1\n",
    "print(ans)\n"
   ]
  },
  {
   "attachments": {},
   "cell_type": "markdown",
   "metadata": {},
   "source": [
    "# B. Последовательно идущие единицы"
   ]
  },
  {
   "attachments": {},
   "cell_type": "markdown",
   "metadata": {},
   "source": [
    "https://contest.yandex.ru/contest/8458/problems/B/"
   ]
  },
  {
   "attachments": {},
   "cell_type": "markdown",
   "metadata": {},
   "source": [
    "Требуется найти в бинарном векторе самую длинную последовательность единиц и вывести её длину.\n",
    "\n",
    "Желательно получить решение, работающее за линейное время и при этом проходящее по входному массиву только один раз.\n",
    "\n",
    "**Формат ввода**  \n",
    "Первая строка входного файла содержит одно число n, n ≤ 10000. Каждая из следующих n строк содержит ровно одно число — очередной элемент массива.\n",
    "\n",
    "**Формат вывода**  \n",
    "Выходной файл должен содержать единственное число — длину самой длинной последовательности единиц во входном массиве."
   ]
  },
  {
   "cell_type": "code",
   "execution_count": 8,
   "metadata": {},
   "outputs": [
    {
     "name": "stdout",
     "output_type": "stream",
     "text": [
      "2\n"
     ]
    }
   ],
   "source": [
    "n = int(input())\n",
    "\n",
    "ans = 0\n",
    "ones = 0\n",
    "for _ in range(n):\n",
    "    num = int(input())\n",
    "\n",
    "    if num == 1:\n",
    "        ones += 1\n",
    "\n",
    "    else:\n",
    "        ans = max(ans, ones)\n",
    "        ones = 0\n",
    "\n",
    "print(max(ans, ones))"
   ]
  },
  {
   "attachments": {},
   "cell_type": "markdown",
   "metadata": {},
   "source": [
    "# C. Удаление дубликатов\n",
    "\n",
    "https://contest.yandex.ru/contest/8458/problems/C/\n",
    "\n",
    "**Legend**  \n",
    "Дан упорядоченный по неубыванию массив целых 32-разрядных чисел. Требуется удалить из него все повторения.\n",
    "\n",
    "Желательно получить решение, которое не считывает входной файл целиком в память, т.е., использует лишь константный объем памяти в процессе работы.\n",
    "\n",
    "**Input format**  \n",
    "Первая строка входного файла содержит единственное число n, n ≤ 1000000.\n",
    "\n",
    "На следующих n строк расположены числа — элементы массива, по одному на строку. Числа отсортированы по неубыванию.\n",
    "\n",
    "**Output format**  \n",
    "Выходной файл должен содержать следующие в порядке возрастания уникальные элементы входного массива."
   ]
  },
  {
   "cell_type": "code",
   "execution_count": 15,
   "metadata": {},
   "outputs": [],
   "source": [
    "# сначала подготовим файлик\n",
    "import random\n",
    "\n",
    "\n",
    "random.seed(42)\n",
    "n = random.randint(1, 1000000)\n",
    "nums = [random.randint(0, 1000000) for _ in range(n)]\n",
    "nums.sort()\n",
    "nums = str(n) + \"\\n\" + \"\\n\".join(map(str, nums))\n",
    "\n",
    "with open(\"./inputs.txt\", \"w\") as f:\n",
    "    f.write(nums)"
   ]
  },
  {
   "cell_type": "code",
   "execution_count": 1,
   "metadata": {},
   "outputs": [
    {
     "name": "stdout",
     "output_type": "stream",
     "text": [
      "1\n",
      "2\n",
      "3\n"
     ]
    }
   ],
   "source": [
    "n = input()\n",
    "max_val = -1\n",
    "ans = []\n",
    "for _ in range(int(n)):\n",
    "\tnum = input()\n",
    "\tif num != max_val:\n",
    "\t\tans.append(num)\n",
    "\tmax_val = num\n",
    "\t\n",
    "for num in ans:\n",
    "\tprint(num)"
   ]
  },
  {
   "attachments": {},
   "cell_type": "markdown",
   "metadata": {},
   "source": [
    "# D. Генерация скобочных последовательностей"
   ]
  },
  {
   "attachments": {},
   "cell_type": "markdown",
   "metadata": {},
   "source": [
    "https://contest.yandex.ru/contest/8458/problems/D/"
   ]
  },
  {
   "attachments": {},
   "cell_type": "markdown",
   "metadata": {},
   "source": [
    "Дано целое число n. Требуется вывести все правильные скобочные последовательности длины 2 ⋅ n, упорядоченные лексикографически (см. https://ru.wikipedia.org/wiki/Лексикографический_порядок).\n",
    "\n",
    "В задаче используются только круглые скобки.\n",
    "\n",
    "Желательно получить решение, которое работает за время, пропорциональное общему количеству правильных скобочных последовательностей в ответе, и при этом использует объём памяти, пропорциональный n.\n",
    "\n",
    "**Формат ввода**  \n",
    "Единственная строка входного файла содержит целое число n, 0 ≤ n ≤ 11\n",
    "\n",
    "**Формат вывода**  \n",
    "Выходной файл содержит сгенерированные правильные скобочные последовательности, упорядоченные лексикографически."
   ]
  },
  {
   "cell_type": "code",
   "execution_count": 30,
   "metadata": {},
   "outputs": [
    {
     "name": "stdout",
     "output_type": "stream",
     "text": [
      "((()))\n",
      "(()())\n",
      "(())()\n",
      "()(())\n",
      "()()()\n"
     ]
    }
   ],
   "source": [
    "def generate(n: int) -> None:\n",
    "    if n == 0:\n",
    "        return []\n",
    "\n",
    "    q = list()\n",
    "    q.append(\"(\")\n",
    "    q.append(\")\")\n",
    "\n",
    "    while q:\n",
    "        seq = q.pop()\n",
    "        if len(seq) == n*2:\n",
    "            if valid(seq): print(seq)\n",
    "        else:\n",
    "            q.append(seq + \")\")\n",
    "            q.append(seq + \"(\")\n",
    "    return\n",
    "\n",
    "\n",
    "def valid(seq: str) -> bool:\n",
    "    cnt = 0\n",
    "    for par in seq:\n",
    "        if par == \"(\":\n",
    "            cnt += 1\n",
    "        else:\n",
    "            cnt -= 1\n",
    "            if cnt < 0:\n",
    "                return False\n",
    "    return cnt == 0\n",
    "\n",
    "\n",
    "n = int(input())\n",
    "generate(n)"
   ]
  },
  {
   "cell_type": "code",
   "execution_count": 23,
   "metadata": {},
   "outputs": [
    {
     "data": {
      "text/plain": [
       "[]"
      ]
     },
     "execution_count": 23,
     "metadata": {},
     "output_type": "execute_result"
    }
   ],
   "source": [
    "assert valid(\"(())\") == True\n",
    "assert valid(\"(()))\") == False\n",
    "assert valid(\"()(())\") == True\n",
    "assert valid(\")()(())\") == False\n",
    "assert valid(\"()(())(\") == False\n",
    "assert valid(\"()(())(\") == False\n",
    "assert valid(\")()(\") == False"
   ]
  },
  {
   "cell_type": "code",
   "execution_count": 31,
   "metadata": {},
   "outputs": [
    {
     "name": "stdout",
     "output_type": "stream",
     "text": [
      "((()))\n",
      "(()())\n",
      "(())()\n",
      "()(())\n",
      "()()()\n"
     ]
    }
   ],
   "source": [
    "n = int(input().strip())\n",
    "\n",
    "\n",
    "def foo(s: str, l: int, r: int, pairs: int):\n",
    "    if l == pairs and r == pairs:\n",
    "        print(s)\n",
    "    else:\n",
    "        if l < pairs:\n",
    "            foo(s=s + '(', l=l + 1, r=r, pairs=pairs)\n",
    "        if r < l:\n",
    "            foo(s=s + ')', l=l, r=r + 1, pairs=pairs)\n",
    "\n",
    "\n",
    "foo('', 0, 0, n)"
   ]
  },
  {
   "attachments": {},
   "cell_type": "markdown",
   "metadata": {},
   "source": [
    "# E. Анаграммы"
   ]
  },
  {
   "attachments": {},
   "cell_type": "markdown",
   "metadata": {},
   "source": [
    "https://contest.yandex.ru/contest/8458/problems/E/"
   ]
  },
  {
   "attachments": {},
   "cell_type": "markdown",
   "metadata": {},
   "source": [
    "Даны две строки, состоящие из строчных латинских букв. Требуется определить, являются ли эти строки анаграммами, т. е. отличаются ли они только порядком следования символов.\n",
    "\n",
    "**Формат ввода**  \n",
    "Входной файл содержит две строки строчных латинских символов, каждая не длиннее 100 000 символов. Строки разделяются символом перевода строки.\n",
    "\n",
    "**Формат вывода**  \n",
    "Выходной файл должен содержать единицу, если строки являются анаграммами, и ноль в противном случае."
   ]
  },
  {
   "cell_type": "code",
   "execution_count": 34,
   "metadata": {},
   "outputs": [
    {
     "name": "stdout",
     "output_type": "stream",
     "text": [
      "0\n"
     ]
    }
   ],
   "source": [
    "from collections import Counter\n",
    "\n",
    "\n",
    "s1 = input()\n",
    "s2 = input()\n",
    "\n",
    "c1 = Counter()\n",
    "c2 = Counter()\n",
    "\n",
    "for ch in s1:\n",
    "    c1[ch] += 1\n",
    "\n",
    "for ch in s2:\n",
    "    c2[ch] += 1\n",
    "\n",
    "print(1 if c1 == c2 else 0)"
   ]
  },
  {
   "attachments": {},
   "cell_type": "markdown",
   "metadata": {},
   "source": [
    "# G. Интересное путешествие"
   ]
  },
  {
   "attachments": {},
   "cell_type": "markdown",
   "metadata": {},
   "source": [
    "https://contest.yandex.ru/contest/8458/problems/G/"
   ]
  },
  {
   "attachments": {},
   "cell_type": "markdown",
   "metadata": {},
   "source": [
    "Не секрет, что некоторые программисты очень любят путешествовать. Хорошо всем известный программист Петя тоже очень любит путешествовать, посещать музеи и осматривать достопримечательности других городов.\n",
    "Для перемещений между из города в город он предпочитает использовать машину. При этом он заправляется только на станциях в городах, но не на станциях по пути. Поэтому он очень аккуратно выбирает маршруты, чтобы машина не заглохла в дороге. А ещё Петя очень важный член команды, поэтому он не может себе позволить путешествовать слишком долго. Он решил написать программу, которая поможет ему с выбором очередного путешествия. Но так как сейчас у него слишком много других задач, он попросил вас помочь ему.\n",
    "Расстояние между двумя городами считается как сумма модулей разности по каждой из координат. Дороги есть между всеми парами городов."
   ]
  },
  {
   "attachments": {},
   "cell_type": "markdown",
   "metadata": {},
   "source": [
    "**Формат ввода**\n",
    "\n",
    "В первой строке входных данных записано количество городов \n",
    "n (2 ≤ n ≤ 1000). В следующих n строках даны два целых числа: координаты каждого города, не превосходящие по модулю миллиарда. Все города пронумерованы числами от 1 до n в порядке записи во входных данных.\n",
    "В следующей строке записано целое положительное число k, не превосходящее двух миллиардов, — максимальное расстояние между городами, которое Петя может преодолеть без дозаправки машины.\n",
    "В последней строке записаны два различных числа — номер города, откуда едет Петя, и номер города, куда он едет."
   ]
  },
  {
   "attachments": {},
   "cell_type": "markdown",
   "metadata": {},
   "source": [
    "**Формат вывода**\n",
    "\n",
    "Если существуют пути, удовлетворяющие описанным выше условиям, то выведите минимальное количество дорог, которое нужно проехать, чтобы попасть из начальной точки маршрута в конечную. Если пути не существует, выведите -1."
   ]
  },
  {
   "attachments": {},
   "cell_type": "markdown",
   "metadata": {},
   "source": [
    "Пример 1:\n",
    "\n",
    "```\n",
    "7\n",
    "0 0\n",
    "0 2\n",
    "2 2\n",
    "0 -2\n",
    "2 -2\n",
    "2 -1\n",
    "2 1\n",
    "2\n",
    "1 3\n",
    "```\n",
    "Ответ: 2\n",
    "\n",
    "\n",
    "Пример 2:\n",
    "```\n",
    "4\n",
    "0 0\n",
    "1 0\n",
    "0 1\n",
    "1 1\n",
    "2\n",
    "1 4\n",
    "```\n",
    "Ответ: 1\n",
    "\n",
    "Пример 3:\n",
    "```\n",
    "4\n",
    "0 0\n",
    "2 0\n",
    "0 2\n",
    "2 2\n",
    "1\n",
    "1 4\n",
    "```\n",
    "Ответ: -1"
   ]
  },
  {
   "cell_type": "code",
   "execution_count": 49,
   "metadata": {},
   "outputs": [
    {
     "name": "stdout",
     "output_type": "stream",
     "text": [
      "-1\n"
     ]
    }
   ],
   "source": [
    "from collections import deque\n",
    "from collections import defaultdict\n",
    "\n",
    "\n",
    "f = open(\"./inputs.txt\", \"r\")\n",
    "\n",
    "# количество городов\n",
    "# n = int(input().strip())\n",
    "n = int(f.readline().strip())\n",
    "\n",
    "# представим граф в виде списка смежности\n",
    "graph = defaultdict(list)\n",
    "coord = []\n",
    "\n",
    "# считываем координаты городов\n",
    "for i in range(n):\n",
    "    # x, y = map(int, input().split())\n",
    "    x, y = map(int, f.readline().strip().split())\n",
    "    coord.append((x, y))\n",
    "\n",
    "# определяем максимальное расстояние между городами, которое Петя может преодолеть\n",
    "# max_dist = int(input().strip())\n",
    "max_dist = int(f.readline().strip())\n",
    "\n",
    "# маршршут из города в город\n",
    "# start, end = map(int, input().split())\n",
    "start, end = map(lambda val: int(val) - 1, f.readline().strip().split())\n",
    "\n",
    "# определяем растояния между городами и если расстояние меньше,\n",
    "# то 0, если больше, то 1 (т.е. есть ребро)\n",
    "for i in range(n):\n",
    "    for j in range(i + 1, n):\n",
    "        x_from, y_from = coord[i]\n",
    "        x_to, y_to = coord[j]\n",
    "        # расстояние определяется как сумма модулей разности по каждой из координат\n",
    "        # (Манхэттонское расстояние)\n",
    "        distance = abs(x_from - x_to) + abs(y_from - y_to)\n",
    "\n",
    "        if distance <= max_dist:\n",
    "            graph[i].append(j)\n",
    "            graph[j].append(i)\n",
    "\n",
    "# делаем обход графа в ширину\n",
    "\n",
    "q = deque()\n",
    "visited = [False for _ in range(n)]\n",
    "visited[start] = True\n",
    "q.append((start, 0))\n",
    "ans = -1\n",
    "\n",
    "while q:\n",
    "    city_from, dist = q.popleft()\n",
    "\n",
    "    if city_from == end:\n",
    "        ans = dist\n",
    "        break\n",
    "\n",
    "    for city_to in graph[city_from]:\n",
    "        if not visited[city_to]:\n",
    "            visited[city_to] = True\n",
    "            q.append((city_to, dist + 1))\n",
    "\n",
    "print(ans)"
   ]
  },
  {
   "cell_type": "code",
   "execution_count": null,
   "metadata": {},
   "outputs": [],
   "source": []
  }
 ],
 "metadata": {
  "kernelspec": {
   "display_name": "Python 3",
   "language": "python",
   "name": "python3"
  },
  "language_info": {
   "codemirror_mode": {
    "name": "ipython",
    "version": 3
   },
   "file_extension": ".py",
   "mimetype": "text/x-python",
   "name": "python",
   "nbconvert_exporter": "python",
   "pygments_lexer": "ipython3",
   "version": "3.10.10"
  },
  "orig_nbformat": 4,
  "vscode": {
   "interpreter": {
    "hash": "26c23319f45c7b27111e27392f01aec29c7d5fc88fdfbacdbc12b53235219672"
   }
  }
 },
 "nbformat": 4,
 "nbformat_minor": 2
}
