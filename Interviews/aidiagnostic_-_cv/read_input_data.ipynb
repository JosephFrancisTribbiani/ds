{
 "cells": [
  {
   "cell_type": "markdown",
   "metadata": {},
   "source": [
    "# Imports"
   ]
  },
  {
   "cell_type": "code",
   "execution_count": 2,
   "metadata": {
    "ExecuteTime": {
     "end_time": "2022-11-22T16:24:33.866879Z",
     "start_time": "2022-11-22T16:24:15.112187Z"
    }
   },
   "outputs": [
    {
     "name": "stdout",
     "output_type": "stream",
     "text": [
      "Collecting SimpleITK\n",
      "  Downloading SimpleITK-2.2.0-cp38-cp38-win_amd64.whl (27.1 MB)\n",
      "     ---------------------------------------- 27.1/27.1 MB 6.2 MB/s eta 0:00:00\n",
      "Installing collected packages: SimpleITK\n",
      "Successfully installed SimpleITK-2.2.0\n",
      "Collecting nibabel\n",
      "  Using cached nibabel-4.0.2-py3-none-any.whl (3.3 MB)\n",
      "Requirement already satisfied: setuptools in c:\\users\\alpex\\anaconda3\\lib\\site-packages (from nibabel) (58.2.0)\n",
      "Requirement already satisfied: numpy>=1.17 in c:\\users\\alpex\\anaconda3\\lib\\site-packages (from nibabel) (1.22.3)\n",
      "Requirement already satisfied: packaging>=17.0 in c:\\users\\alpex\\anaconda3\\lib\\site-packages (from nibabel) (21.3)\n",
      "Requirement already satisfied: pyparsing!=3.0.5,>=2.0.2 in c:\\users\\alpex\\anaconda3\\lib\\site-packages (from packaging>=17.0->nibabel) (2.4.7)\n",
      "Installing collected packages: nibabel\n",
      "Successfully installed nibabel-4.0.2\n"
     ]
    }
   ],
   "source": [
    "!pip install SimpleITK --only-binary :all: \n",
    "!pip install nibabel --only-binary :all:"
   ]
  },
  {
   "cell_type": "code",
   "execution_count": 276,
   "metadata": {
    "ExecuteTime": {
     "end_time": "2022-11-22T19:30:06.425692Z",
     "start_time": "2022-11-22T19:30:06.419693Z"
    }
   },
   "outputs": [],
   "source": [
    "import os\n",
    "import re\n",
    "import json\n",
    "import numpy as np\n",
    "import nibabel as nib\n",
    "import SimpleITK as sitk\n",
    "from pathlib import Path\n",
    "from collections import deque, defaultdict"
   ]
  },
  {
   "cell_type": "code",
   "execution_count": 277,
   "metadata": {
    "ExecuteTime": {
     "end_time": "2022-11-22T19:30:06.865033Z",
     "start_time": "2022-11-22T19:30:06.847613Z"
    }
   },
   "outputs": [],
   "source": [
    "def load_dicom(directory: str) -> np.array:\n",
    "    reader = sitk.ImageSeriesReader()\n",
    "    dicom_names = reader.GetGDCMSeriesFileNames(directory)\n",
    "    reader.SetFileNames(dicom_names)\n",
    "    image_itk = reader.Execute()\n",
    "\n",
    "    image_zyx = sitk.GetArrayFromImage(image_itk).astype(np.int16)\n",
    "    return image_zyx"
   ]
  },
  {
   "cell_type": "markdown",
   "metadata": {},
   "source": [
    "# Read input data"
   ]
  },
  {
   "cell_type": "code",
   "execution_count": 278,
   "metadata": {
    "ExecuteTime": {
     "end_time": "2022-11-22T19:30:11.099114Z",
     "start_time": "2022-11-22T19:30:10.983513Z"
    }
   },
   "outputs": [],
   "source": [
    "# get all files in data\n",
    "list_files = []\n",
    "for (dirpath, _, filenames) in os.walk(Path(\"./data/subset/\")):\n",
    "    list_files.extend([Path(dirpath) / filename for filename in filenames])"
   ]
  },
  {
   "cell_type": "code",
   "execution_count": 291,
   "metadata": {
    "ExecuteTime": {
     "end_time": "2022-11-22T19:32:32.126062Z",
     "start_time": "2022-11-22T19:32:32.110129Z"
    }
   },
   "outputs": [],
   "source": [
    "# getting metadata\n",
    "lungs_data = defaultdict(dict)\n",
    "for file in list_files:\n",
    "    file = str(file)\n",
    "    \n",
    "    if \".ipynb_checkpoints\" in file:\n",
    "        continue\n",
    "    \n",
    "    if os.path.splitext(file)[-1] == \".json\":\n",
    "        lung_num = int(re.compile(r\"((?<=LUNG1-)\\d+)\", flags=re.IGNORECASE).search(file).group(0))\n",
    "        lungs_data[lung_num][\"img_metadata\"], lungs_data[lung_num][\"img\"] = file, file[:-5]\n",
    "    elif os.path.splitext(file)[-1] == \".gz\":\n",
    "        lung_num = int(re.compile(r\"((?<=LUNG1-)\\d+)\", flags=re.IGNORECASE).search(file).group(0))\n",
    "        lungs_data[lung_num][\"mask\"] = file"
   ]
  },
  {
   "cell_type": "markdown",
   "metadata": {},
   "source": [
    "Save metadata to json file"
   ]
  },
  {
   "cell_type": "code",
   "execution_count": 292,
   "metadata": {
    "ExecuteTime": {
     "end_time": "2022-11-22T19:32:32.849875Z",
     "start_time": "2022-11-22T19:32:32.836910Z"
    }
   },
   "outputs": [],
   "source": [
    "with open(\"./data/metadata.json\", \"w\") as json_file:\n",
    "    json_data = json.dumps(lungs_data)\n",
    "    json_file.write(json_data)"
   ]
  },
  {
   "cell_type": "markdown",
   "metadata": {},
   "source": [
    "Read metadata"
   ]
  },
  {
   "cell_type": "code",
   "execution_count": 293,
   "metadata": {
    "ExecuteTime": {
     "end_time": "2022-11-22T19:32:33.859714Z",
     "start_time": "2022-11-22T19:32:33.842751Z"
    }
   },
   "outputs": [
    {
     "name": "stdout",
     "output_type": "stream",
     "text": [
      "Lungs nums:\n",
      "1 2 5 8 13 16 18 24 26 28\n"
     ]
    }
   ],
   "source": [
    "with open(\"./data/metadata.json\", \"r\") as json_file:\n",
    "    metadata = json.load(json_file)\n",
    "    metadata = {int(k): v for k, v in metadata.items()}\n",
    "    \n",
    "print(f\"Lungs nums:\")\n",
    "print(*metadata.keys())"
   ]
  },
  {
   "cell_type": "markdown",
   "metadata": {
    "ExecuteTime": {
     "end_time": "2022-11-22T19:26:28.465520Z",
     "start_time": "2022-11-22T19:26:28.449953Z"
    }
   },
   "source": [
    "Read input data"
   ]
  },
  {
   "cell_type": "code",
   "execution_count": 298,
   "metadata": {
    "ExecuteTime": {
     "end_time": "2022-11-22T19:33:58.156589Z",
     "start_time": "2022-11-22T19:33:57.207001Z"
    }
   },
   "outputs": [
    {
     "name": "stdout",
     "output_type": "stream",
     "text": [
      "<class 'numpy.ndarray'> (134, 512, 512)\n",
      "<class 'numpy.ndarray'> (134, 512, 512)\n"
     ]
    }
   ],
   "source": [
    "# read image\n",
    "img = load_dicom(directory=metadata[1][\"img\"])\n",
    "print(type(img), img.shape)\n",
    "\n",
    "# read mask\n",
    "mask = nib.load(metadata[1][\"mask\"])\n",
    "mask = mask.get_fdata().transpose(2, 0, 1)\n",
    "print(type(mask), mask.shape)"
   ]
  },
  {
   "cell_type": "code",
   "execution_count": null,
   "metadata": {},
   "outputs": [],
   "source": []
  }
 ],
 "metadata": {
  "hide_input": false,
  "kernelspec": {
   "display_name": "Python 3",
   "language": "python",
   "name": "python3"
  },
  "language_info": {
   "codemirror_mode": {
    "name": "ipython",
    "version": 3
   },
   "file_extension": ".py",
   "mimetype": "text/x-python",
   "name": "python",
   "nbconvert_exporter": "python",
   "pygments_lexer": "ipython3",
   "version": "3.8.3"
  },
  "toc": {
   "base_numbering": 1,
   "nav_menu": {},
   "number_sections": true,
   "sideBar": true,
   "skip_h1_title": false,
   "title_cell": "Table of Contents",
   "title_sidebar": "Contents",
   "toc_cell": false,
   "toc_position": {},
   "toc_section_display": true,
   "toc_window_display": false
  },
  "varInspector": {
   "cols": {
    "lenName": 16,
    "lenType": 16,
    "lenVar": 40
   },
   "kernels_config": {
    "python": {
     "delete_cmd_postfix": "",
     "delete_cmd_prefix": "del ",
     "library": "var_list.py",
     "varRefreshCmd": "print(var_dic_list())"
    },
    "r": {
     "delete_cmd_postfix": ") ",
     "delete_cmd_prefix": "rm(",
     "library": "var_list.r",
     "varRefreshCmd": "cat(var_dic_list()) "
    }
   },
   "types_to_exclude": [
    "module",
    "function",
    "builtin_function_or_method",
    "instance",
    "_Feature"
   ],
   "window_display": false
  }
 },
 "nbformat": 4,
 "nbformat_minor": 4
}
