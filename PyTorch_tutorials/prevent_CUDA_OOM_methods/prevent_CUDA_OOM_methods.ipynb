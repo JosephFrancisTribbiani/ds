{
 "cells": [
  {
   "cell_type": "markdown",
   "metadata": {},
   "source": [
    "# Speed up CUDA and how to avoid OOM (out of memory) methods"
   ]
  },
  {
   "cell_type": "markdown",
   "metadata": {},
   "source": [
    "В данном ноутбуке рассмотрим примеры использования следующих методов:\n",
    "- `torch.cuda.amp.autocast()` (`torch.cpu.amp.autocast()` для `cpu`) для  автоматического усечения градиентов (на базе [статьи](https://wandb.ai/wandb_fc/tips/reports/How-to-use-Autocast-in-PyTorch--VmlldzoyMTk4NTky))\n",
    "- `torch.cuda.amp.GradScaler` в Pytorch для автоматического масштабирования градиентов (на базе [статьи](https://wandb.ai/wandb_fc/tips/reports/How-to-Use-GradScaler-in-PyTorch--VmlldzoyMTY5MDA5))"
   ]
  },
  {
   "cell_type": "markdown",
   "metadata": {},
   "source": [
    "## How to use Autocast in PyTorch"
   ]
  },
  {
   "cell_type": "markdown",
   "metadata": {},
   "source": [
    "В данном разделе мы рассмотрим то, как использовать `torch.cuda.amp.autocast()` (`torch.cpu.amp.autocast()` для `cpu`) - средство для автоматического усечения градиентов во время обучения.\n",
    "\n",
    "При этом важно отметить, что в более поздних версиях PyTorch можно использовать другую запись:\n",
    "\n",
    "`torch.autocast(device_type=\"cuda\")` $\\equiv$ `torch.cuda.amp.autocast()`\n",
    "\n",
    "`torch.autocast(device_type=\"cpu\")` $\\equiv$ `torch.cpu.amp.autocast()`\n"
   ]
  },
  {
   "cell_type": "markdown",
   "metadata": {},
   "source": [
    "Классический `training loop` представлен ниже:"
   ]
  },
  {
   "cell_type": "markdown",
   "metadata": {},
   "source": [
    "```python\n",
    "optimizer = ...\n",
    "\n",
    "\n",
    "for epoch in range(...):\n",
    "    for i, sample in enumerate(dataloader):\n",
    "        inputs, labels = sample\n",
    "        optimizer.zero_grad()\n",
    "\n",
    "\n",
    "        # Forward Pass\n",
    "        outputs = model(inputs)\n",
    "        \n",
    "        # Compute Loss and Perform Back-propagation\n",
    "        loss = loss_fn(outputs, labels)\n",
    "        loss.backward()\n",
    "        \n",
    "        # Update Optimizer\n",
    "        optimizer.step()\n",
    "```"
   ]
  },
  {
   "cell_type": "markdown",
   "metadata": {},
   "source": [
    "И если вы тренировали большие модели, особенно большие языковые модели, вы вероятно сталкивались со следующей ошибкой:\n",
    "\n",
    "```text\n",
    "RuntimeError: CUDA out of memory. Tried to allocate .. MiB (.. GiB total capacity; ... GiB already allocated; \n",
    "... MiB free; ... GiB reserved in total by PyTorch)\n",
    "```"
   ]
  },
  {
   "cell_type": "markdown",
   "metadata": {},
   "source": [
    "OOM - out of memory"
   ]
  },
  {
   "cell_type": "markdown",
   "metadata": {},
   "source": [
    "Причина ООМ - переполнение памяти. По умолчанию PyTorch использует `float32` для весов модели. Это 32 бита или 4 байта. В больших языковых моделях (например BERT large) количество параметров достигает 32 млн. Т.е. **32 млн. $\\times$ 4 байта = 128 Гб**, что по сути является достаточно большой цифрой.\n",
    "\n",
    "Одно из решений - **автоматически усекать градиенты, чтобы они занимали меньше памяти, например усечь до float16**. Сделать в PyTorch это можно немного изменив код."
   ]
  },
  {
   "cell_type": "markdown",
   "metadata": {},
   "source": [
    "```python\n",
    "optimizer = ...\n",
    "\n",
    "\n",
    "for epoch in range(...):\n",
    "    for i, sample in enumerate(dataloader):\n",
    "        inputs, labels = sample\n",
    "        optimizer.zero_grad()\n",
    "\n",
    "\n",
    "        # ⭐️ ⭐️ Autocasting\n",
    "        with torch.cuda.amp.autocast():\n",
    "            # Forward Pass\n",
    "            outputs = model(inputs)\n",
    "            \n",
    "            # Compute Loss\n",
    "            loss = loss_fn(outputs, labels)\n",
    "        \n",
    "        # Perform Back-propagation\n",
    "        loss.backward()\n",
    "        \n",
    "        # Update Optimizer\n",
    "        optimizer.step()\n",
    "```"
   ]
  },
  {
   "cell_type": "markdown",
   "metadata": {},
   "source": [
    "## How to use GradScaler in PyTorch"
   ]
  },
  {
   "cell_type": "markdown",
   "metadata": {},
   "source": [
    "В данном разделе мы рассмотрим то, как использовать инструмент `torch.cuda.amp.GradScaler` для автоматического масштабирования градиентов. Данный метод позволяет повысить эффективность `training loop`, особенно в случае использования `torch.autocast`. Последний усекает градиенты до `float16`, к примеру, и по этой причине градиенты, которые близки к 0, преврящаются в 0 (недостаточно знаков после запятой). Градиенты могут \"затухнуть\", особенно в глубоких сетях, и обучение сети не будет столь эффективным, как хотелось бы.\n",
    "\n",
    "**`torch.cuda.amp.GradScaler` позволяет автоматически масштабировать градиенты, \"умножая\" их на некоторый коэффициент, таким образом препятствую затуханию градиентов при использовании `torch.autocast`, к примеру.**"
   ]
  },
  {
   "cell_type": "markdown",
   "metadata": {},
   "source": [
    "Классический `training loop` представлен ниже:"
   ]
  },
  {
   "cell_type": "markdown",
   "metadata": {},
   "source": [
    "```python\n",
    "optimizer = ...\n",
    "\n",
    "\n",
    "for epoch in range(...):\n",
    "    for i, sample in enumerate(dataloader):\n",
    "        inputs, labels = sample\n",
    "        optimizer.zero_grad()\n",
    "\n",
    "\n",
    "        # Forward Pass\n",
    "        outputs = model(inputs)\n",
    "        \n",
    "        # Compute Loss and Perform Back-propagation\n",
    "        loss = loss_fn(outputs, labels)\n",
    "        loss.backward()\n",
    "        \n",
    "        # Update Optimizer\n",
    "        optimizer.step()\n",
    "```"
   ]
  },
  {
   "cell_type": "markdown",
   "metadata": {},
   "source": [
    "`training loop` с использованием `GradScaler`"
   ]
  },
  {
   "cell_type": "markdown",
   "metadata": {},
   "source": [
    "```python\n",
    "scaler = torch.cuda.amp.GradScaler()\n",
    "optimizer = .﻿.﻿.\n",
    "﻿\n",
    "for epoch in range﻿(﻿.﻿.﻿.﻿)﻿:\n",
    "    for i, sample in enumerate﻿(dataloader)﻿:\n",
    "        inputs, labels = sample\n",
    "        optimizer.zero_grad(﻿)\n",
    "﻿\n",
    "        # Forward Pass\n",
    "        outputs = model(inputs)\n",
    "        \n",
    "        # Compute Loss and Perform Back-propagation\n",
    "        loss = loss_fn(outputs, labels)\n",
    "\t\n",
    "        # ⭐️ ⭐️ Scale Gradients\n",
    "        scaler.scale(loss).backward()\n",
    "        \n",
    "        # ⭐️ ⭐️ Update Optimizer\n",
    "        scaler.step(optimizer)\n",
    "        scaler.update()\n",
    "```"
   ]
  },
  {
   "cell_type": "markdown",
   "metadata": {},
   "source": [
    "По сути, `GradScaler` умножает `loss` на коэффициент и выполняет backward pass, при котором градиенты также масштабированы (чтобы градиенты не обнулились). При шаге в сторону антиградиента (обновлении весов модели, которое традиционно выполняется с помощью `optimizer.step()`), градиенты масштабируются обратно, чтобы `GradScaler` не влиял на скорость обучения.\n",
    "\n",
    "Т.е. по сути `GradScaler` только позволяет не потерять очень маленькие градиенты в случае использования `float16` по определенным причинам. К примеру, при использовании `torch.autocast`.\n",
    "\n",
    "В конце обновляем `scale_factor` с помощью `scaler.update()`"
   ]
  },
  {
   "cell_type": "markdown",
   "metadata": {},
   "source": [
    "## Other methods"
   ]
  },
  {
   "cell_type": "markdown",
   "metadata": {},
   "source": [
    "### Control your allocated memory"
   ]
  },
  {
   "cell_type": "markdown",
   "metadata": {},
   "source": [
    "Во первых, необюходимо контролировать используемую память. Для этого существуют следующие функции:\n",
    "- `memory_allocated()` и `max_memory_allocated()` для контроля памяти, занятой тензорами (в байтах)\n",
    "-  `memory_reserved()` и `max_memory_reserved()` для контроля выделенной памяти (в байтах)"
   ]
  },
  {
   "cell_type": "markdown",
   "metadata": {},
   "source": [
    "Функции с `max_` возвращают значение максимального пика с начала выпонения программы. `reset_peak_memory_stats()` позволяет сбросить это значение. К примеру, если вас больше интересует масксимальное значение использованной памяти на каждой итерации по батчам, то вы можете сбросить это значение в начале цикла с помощью  `reset_peak_memory_stats()`, а затем вывести неоходимое значение в конце цикла с помощью `max_memory_allocated()`."
   ]
  },
  {
   "cell_type": "markdown",
   "metadata": {},
   "source": [
    "Можно указать определнный `device` (**но важно отметить, что для \"cpu\" ни одна из этих функций не работает**), который необходимо контролировать (опционально)."
   ]
  },
  {
   "cell_type": "code",
   "execution_count": 108,
   "metadata": {
    "ExecuteTime": {
     "end_time": "2022-11-04T09:03:13.211407Z",
     "start_time": "2022-11-04T09:03:13.191404Z"
    }
   },
   "outputs": [
    {
     "name": "stdout",
     "output_type": "stream",
     "text": [
      "Memory allocated:\t59904\n",
      "Max memory allocated:\t86016\n",
      "Memory reserved:\t2097152\n",
      "Max memory reserved:\t2097152\n"
     ]
    }
   ],
   "source": [
    "print(\"Memory allocated:\\t{}\".format(torch.cuda.memory_allocated(device=None)))\n",
    "print(\"Max memory allocated:\\t{}\".format(torch.cuda.max_memory_allocated(device=None)))\n",
    "print(\"Memory reserved:\\t{}\".format(torch.cuda.memory_reserved(device=None)))\n",
    "print(\"Max memory reserved:\\t{}\".format(torch.cuda.max_memory_reserved(device=None)))"
   ]
  },
  {
   "cell_type": "markdown",
   "metadata": {},
   "source": [
    "Также можно использовать `tensorboard` для этих целей."
   ]
  },
  {
   "cell_type": "markdown",
   "metadata": {},
   "source": [
    "### Clean Up your cache"
   ]
  },
  {
   "cell_type": "markdown",
   "metadata": {},
   "source": [
    "После каждой итерации обучения рекомендуется чистить cache. Выполнить это возможно с помощью `torch.cuda.empty_cache()` и модуля `gc`"
   ]
  },
  {
   "cell_type": "markdown",
   "metadata": {},
   "source": [
    "```python\n",
    "import gc\n",
    "import torch\n",
    "\n",
    "\n",
    "def train_one_fold():\n",
    "\t. . . \n",
    "\ttorch.cuda.empty_cache()\n",
    "    gc.collect()\n",
    "```"
   ]
  },
  {
   "cell_type": "markdown",
   "metadata": {},
   "source": [
    "`empty_cache` чистит неиспользуемую память, что позволяет выделить дополнительный объем для обучения. Но стоит заметить, что память, выделенная под тензора, не чистится."
   ]
  },
  {
   "cell_type": "markdown",
   "metadata": {},
   "source": [
    "Данный метод может существенно повлиять на время обучения. Стоит аккуратно им пользоваться. Может быть использовать не на каждой итерации по батчам, а после каждой выполненной эпохи."
   ]
  },
  {
   "cell_type": "markdown",
   "metadata": {},
   "source": [
    "### Tune parameters"
   ]
  },
  {
   "cell_type": "markdown",
   "metadata": {},
   "source": [
    "К еще одному методу можно отнести настройку параметров обучения:\n",
    "- `batch_size` - используйте меньшие по размеру батчи (настраивается в `DataLoader`)\n",
    "- `num_workers` - PyTorch позволяет с помощью этого параметра выполнять параллельные вычисления. Уменьшите этот параметр, или полностью исколючите возможность параллельных вычислений (настраивается в `DataLoader`)\n",
    "- используйте меньшие по размеру модели (используйте `distilled` или `base` вместо `large` моделей)"
   ]
  },
  {
   "cell_type": "markdown",
   "metadata": {},
   "source": [
    "## Example"
   ]
  },
  {
   "cell_type": "markdown",
   "metadata": {},
   "source": [
    "### Imports and Configuration"
   ]
  },
  {
   "cell_type": "code",
   "execution_count": 111,
   "metadata": {
    "ExecuteTime": {
     "end_time": "2022-11-04T09:21:25.870810Z",
     "start_time": "2022-11-04T09:21:25.852806Z"
    }
   },
   "outputs": [],
   "source": [
    "import gc\n",
    "import logging\n",
    "import matplotlib.pyplot as plt\n",
    "import seaborn as sns\n",
    "from tqdm.auto import tqdm\n",
    "from typing import Union, Tuple, List\n",
    "\n",
    "import torch\n",
    "import torch.nn as nn\n",
    "import torch.optim as optim\n",
    "from torch.utils.data import DataLoader, TensorDataset\n",
    "from torchmetrics.classification.accuracy import Accuracy\n",
    "\n",
    "from sklearn.preprocessing import StandardScaler\n",
    "from sklearn.model_selection import train_test_split\n",
    "from sklearn.datasets import make_classification\n",
    "from sklearn.decomposition import PCA"
   ]
  },
  {
   "cell_type": "code",
   "execution_count": 2,
   "metadata": {
    "ExecuteTime": {
     "end_time": "2022-11-03T18:17:43.025582Z",
     "start_time": "2022-11-03T18:17:43.017569Z"
    }
   },
   "outputs": [],
   "source": [
    "INPUT_SIZE = 32\n",
    "HIDDEN_SIZE = 16\n",
    "OUTPUT_SIZE = 1"
   ]
  },
  {
   "cell_type": "markdown",
   "metadata": {},
   "source": [
    "### Generate dataset"
   ]
  },
  {
   "cell_type": "markdown",
   "metadata": {},
   "source": [
    "Сгенерируем датасет с помощью библиотеки sklearn."
   ]
  },
  {
   "cell_type": "code",
   "execution_count": 3,
   "metadata": {
    "ExecuteTime": {
     "end_time": "2022-11-03T18:17:46.158003Z",
     "start_time": "2022-11-03T18:17:45.851963Z"
    }
   },
   "outputs": [
    {
     "data": {
      "image/png": "[encoded data removed]",
      "text/plain": [
       "<Figure size 432x288 with 1 Axes>"
      ]
     },
     "metadata": {
      "needs_background": "light"
     },
     "output_type": "display_data"
    }
   ],
   "source": [
    "# генерируем выборку\n",
    "features, targets = make_classification(\n",
    "    n_samples=1000, n_features=INPUT_SIZE, n_classes=2, random_state=42, n_clusters_per_class=1, class_sep=2)\n",
    "\n",
    "# понизим размерность для визуализации\n",
    "# с помощью метода PCA\n",
    "pca = PCA(n_components=2)\n",
    "features_r = pca.fit(features).transform(features)\n",
    "\n",
    "# визуализируем\n",
    "ax = sns.scatterplot(x=features_r[:, 0], y=features_r[:, 1], hue=targets);"
   ]
  },
  {
   "cell_type": "markdown",
   "metadata": {},
   "source": [
    "Выглядит неплохо. Разобьем выборки на тренировочную и тестовую, инициализируем Dataloaders."
   ]
  },
  {
   "cell_type": "code",
   "execution_count": 4,
   "metadata": {
    "ExecuteTime": {
     "end_time": "2022-11-03T18:17:46.358338Z",
     "start_time": "2022-11-03T18:17:46.334305Z"
    }
   },
   "outputs": [
    {
     "data": {
      "text/plain": [
       "((900, 32), (100, 32), (900,), (100,))"
      ]
     },
     "execution_count": 4,
     "metadata": {},
     "output_type": "execute_result"
    }
   ],
   "source": [
    "# разобьем на тренировочную и тестовую выборки\n",
    "train_x, test_x, train_y, test_y = train_test_split(\n",
    "    features, targets, train_size=0.9, random_state=42, shuffle=True, stratify=targets)\n",
    "\n",
    "# отмасштабируем данные\n",
    "scaler = StandardScaler()\n",
    "train_x = scaler.fit_transform(train_x)\n",
    "test_x = scaler.transform(test_x)\n",
    "\n",
    "train_x.shape, test_x.shape, train_y.shape, test_y.shape"
   ]
  },
  {
   "cell_type": "code",
   "execution_count": 5,
   "metadata": {
    "ExecuteTime": {
     "end_time": "2022-11-03T18:17:46.646521Z",
     "start_time": "2022-11-03T18:17:46.630519Z"
    }
   },
   "outputs": [],
   "source": [
    "# инициализируем датасеты и даталоадеры\n",
    "# тренировочная выборка\n",
    "train_set = TensorDataset(\n",
    "    torch.tensor(train_x, dtype=torch.float32), torch.tensor(train_y, dtype=torch.float32))\n",
    "train_loader = DataLoader(train_set, batch_size=32, shuffle=True)\n",
    "\n",
    "# тестовая выборка\n",
    "test_set = TensorDataset(\n",
    "    torch.tensor(test_x, dtype=torch.float32), torch.tensor(test_y, dtype=torch.float32))\n",
    "test_loader = DataLoader(test_set, batch_size=32, shuffle=False)"
   ]
  },
  {
   "cell_type": "markdown",
   "metadata": {},
   "source": [
    "Посмотрим, что получается"
   ]
  },
  {
   "cell_type": "code",
   "execution_count": 6,
   "metadata": {
    "ExecuteTime": {
     "end_time": "2022-11-03T18:17:46.910624Z",
     "start_time": "2022-11-03T18:17:46.886586Z"
    }
   },
   "outputs": [
    {
     "data": {
      "text/plain": [
       "(torch.Size([32, 32]), torch.Size([32]))"
      ]
     },
     "execution_count": 6,
     "metadata": {},
     "output_type": "execute_result"
    }
   ],
   "source": [
    "features, labels = next(iter(train_loader))\n",
    "features.shape, labels.shape"
   ]
  },
  {
   "cell_type": "markdown",
   "metadata": {},
   "source": [
    "### Build the model"
   ]
  },
  {
   "cell_type": "markdown",
   "metadata": {},
   "source": [
    "Соберем простую модель, состоящую из нескольких FC слоев."
   ]
  },
  {
   "cell_type": "code",
   "execution_count": 114,
   "metadata": {
    "ExecuteTime": {
     "end_time": "2022-11-04T09:23:10.990258Z",
     "start_time": "2022-11-04T09:23:10.977255Z"
    }
   },
   "outputs": [],
   "source": [
    "class SimpleModel(nn.Module):\n",
    "    def __init__(self, input_size: int = 32, hidden_size: int = 16, output_size: int = 1):\n",
    "        super().__init__()       \n",
    "        \n",
    "        def _kaiming_normal(m: nn.Module):\n",
    "            if isinstance(m, nn.Linear):\n",
    "                nn.init.kaiming_normal_(m.weight, nonlinearity=\"relu\")\n",
    "                m.bias.data.fill_(0.)\n",
    "                \n",
    "        self.classifier = nn.Sequential(\n",
    "            # первый слой\n",
    "            nn.Linear(in_features=input_size, out_features=hidden_size),\n",
    "            nn.ReLU(),\n",
    "            \n",
    "            # второй слой\n",
    "            nn.Linear(in_features=hidden_size, out_features=hidden_size),\n",
    "            nn.ReLU(),\n",
    "            \n",
    "            # третий слой\n",
    "            nn.Linear(in_features=hidden_size, out_features=output_size),\n",
    "        )\n",
    "        self.apply(_kaiming_normal)\n",
    "\n",
    "        \n",
    "    def forward(self, features):\n",
    "        outputs = self.classifier(features)\n",
    "        return outputs"
   ]
  },
  {
   "cell_type": "code",
   "execution_count": 132,
   "metadata": {
    "ExecuteTime": {
     "end_time": "2022-11-04T09:38:30.802850Z",
     "start_time": "2022-11-04T09:38:30.788897Z"
    }
   },
   "outputs": [],
   "source": [
    "model = SimpleModel(input_size=INPUT_SIZE, hidden_size=HIDDEN_SIZE, output_size=OUTPUT_SIZE)"
   ]
  },
  {
   "cell_type": "markdown",
   "metadata": {},
   "source": [
    "### Trainig loop"
   ]
  },
  {
   "cell_type": "code",
   "execution_count": 133,
   "metadata": {
    "ExecuteTime": {
     "end_time": "2022-11-04T09:38:31.305523Z",
     "start_time": "2022-11-04T09:38:31.269916Z"
    }
   },
   "outputs": [],
   "source": [
    "logging.basicConfig(level=logging.DEBUG, format=\"%(asctime)s %(levelname)s:%(message)s\")\n",
    "logger = logging.getLogger(__name__)\n",
    "\n",
    "\n",
    "class TrainModel:\n",
    "    def __init__(self, model: nn.Module, ini_lr: Union[int, float] = 1e-3, logging_level: str = \"INFO\",\n",
    "                 device: str = \"cuda\") -> None:\n",
    "        # set logger level\n",
    "        logger.setLevel(logging_level)\n",
    "        \n",
    "        self.device = device if torch.cuda.is_available() else \"cpu\"\n",
    "        logger.info(f\"Device: {self.device}\")\n",
    "        \n",
    "        self.model = model\n",
    "        model.to(self.device)\n",
    "        \n",
    "        logger.info(\"Optimizer initialization\")\n",
    "        self._optimizer = optim.Adam(params=self.model.parameters(), lr=ini_lr)\n",
    "        \n",
    "        # nn.BCEWithLogitsLoss = nn.Sigmoid + nn.BCELoss, but more stable (in accordance with the documentation)\n",
    "        self._loss = nn.BCEWithLogitsLoss()\n",
    "        self._criterion = Accuracy()\n",
    "        self._scaler = torch.cuda.amp.GradScaler(enabled=(device == \"cuda\"))\n",
    "    \n",
    "    def training_loop(self, train_loader: DataLoader, test_loader: DataLoader, epochs: int = 20):\n",
    "        for epoch in range(epochs):\n",
    "            # reset info about max memory allocated (for CUDA only)\n",
    "            if self.device == \"cuda\":\n",
    "                torch.cuda.reset_peak_memory_stats(device=self.device)\n",
    "            \n",
    "            logger.info(f\"Epoch [{epoch + 1}/{epochs}]\")\n",
    "            running_loss_train, running_acc_train = self.train_nn(train_loader=train_loader)\n",
    "            \n",
    "            with torch.no_grad():\n",
    "                running_loss_test, running_acc_test = self.eval_nn(test_loader=test_loader)\n",
    "                \n",
    "            curr_loss_train = np.mean(running_loss_train)\n",
    "            curr_loss_test = np.mean(running_loss_test)\n",
    "            curr_acc_train = np.mean(running_acc_train)\n",
    "            curr_acc_test = np.mean(running_acc_test)\n",
    "            \n",
    "            logger.info(\"\\tTrain:\")\n",
    "            logger.info(\"\\t\\tLoss: {:.4f}, Accuracy: {:.4f}\".format(curr_loss_train, curr_acc_train))\n",
    "            logger.info(\"\\tTest:\")\n",
    "            logger.info(\"\\t\\tLoss: {:.4f}, Accuracy: {:.4f}\".format(curr_loss_test, curr_acc_test))\n",
    "            \n",
    "            if self.device == \"cuda\":\n",
    "                logger.info(\"\\tCUDA max memory allocated: [{}/{}]\".format(\n",
    "                    torch.cuda.max_memory_allocated(device=self.device), torch.cuda.max_memory_reserved(device=self.device)))\n",
    "            \n",
    "            # clean up cache\n",
    "            if self.device == \"cuda\":\n",
    "                torch.cuda.empty_cache()\n",
    "                gc.collect()\n",
    "        return\n",
    "    \n",
    "    def train_nn(self, train_loader: DataLoader) -> Tuple[List, List]:\n",
    "        running_loss = list()\n",
    "        running_acc = list()\n",
    "        \n",
    "        self.model.train()\n",
    "        for i, (inputs, labels) in enumerate(train_loader):\n",
    "            logger.debug(f\"\\t\\tTrain step [{i + 1}]\")\n",
    "            inputs, labels = inputs.to(self.device), labels.reshape(-1, 1).to(self.device)\n",
    "            \n",
    "            # set gradients to zero\n",
    "            self._optimizer.zero_grad()\n",
    "            \n",
    "            # forward pass and loss calculation with autocast\n",
    "            # torch.autocast(device_type=\"cuda\") is equivalent to torch.cuda.amp.autocast()\n",
    "            # torch.autocast(device_type=\"cpu\") is equivalent to torch.cpu.amp.autocast()     \n",
    "            with torch.autocast(device_type=self.device):\n",
    "                outputs = self.model(inputs)            \n",
    "                loss = self._loss(outputs, labels)\n",
    "            acc = self._criterion(outputs.cpu(), labels.cpu().to(torch.uint8))\n",
    "\n",
    "            # backward pass\n",
    "            self._scaler.scale(loss).backward()\n",
    "            \n",
    "            # update weights\n",
    "            self._scaler.step(self._optimizer)\n",
    "            self._scaler.update()\n",
    "            \n",
    "            # write results\n",
    "            logger.debug(\"\\t\\tLoss: {:.4f}, Accuracy: {:.4f}\".format(loss, acc))\n",
    "            running_loss.append(loss.item())\n",
    "            running_acc.append(acc.item())\n",
    "        return running_loss, running_acc\n",
    "    \n",
    "    def eval_nn(self, test_loader: DataLoader) -> Tuple[List, List]:\n",
    "        running_loss = list()\n",
    "        running_acc = list()\n",
    "        \n",
    "        self.model.eval()\n",
    "        for i, (inputs, labels) in enumerate(test_loader):\n",
    "            logger.debug(f\"\\t\\tEval step [{i + 1}]:\")\n",
    "            inputs, labels = inputs.to(self.device), labels.reshape(-1, 1).to(self.device)\n",
    "            \n",
    "            # forward pass and loss calculation\n",
    "            outputs = self.model(inputs)\n",
    "            loss = self._loss(outputs, labels)\n",
    "            acc = self._criterion(outputs.cpu(), labels.cpu().to(torch.uint8))\n",
    "            \n",
    "            # write results\n",
    "            logger.debug(\"\\t\\tLoss: {:.4f}, Accuracy: {:.4f}\".format(loss, acc))\n",
    "            running_loss.append(loss.item())\n",
    "            running_acc.append(acc.item())\n",
    "        return running_loss, running_acc"
   ]
  },
  {
   "cell_type": "code",
   "execution_count": 134,
   "metadata": {
    "ExecuteTime": {
     "end_time": "2022-11-04T09:38:41.298846Z",
     "start_time": "2022-11-04T09:38:31.685912Z"
    },
    "scrolled": false
   },
   "outputs": [
    {
     "name": "stderr",
     "output_type": "stream",
     "text": [
      "2022-11-04 12:38:31,687 INFO:Device: cuda\n",
      "2022-11-04 12:38:32,067 INFO:Optimizer initialization\n",
      "2022-11-04 12:38:32,069 INFO:Epoch [1/20]\n",
      "2022-11-04 12:38:32,253 INFO:\tTrain:\n",
      "2022-11-04 12:38:32,254 INFO:\t\tLoss: 1.2668, Accuracy: 0.5119\n",
      "2022-11-04 12:38:32,254 INFO:\tTest:\n",
      "2022-11-04 12:38:32,255 INFO:\t\tLoss: 0.9170, Accuracy: 0.4531\n",
      "2022-11-04 12:38:32,256 INFO:\tCUDA max memory allocated: [37888/2097152]\n",
      "2022-11-04 12:38:32,514 INFO:Epoch [2/20]\n",
      "2022-11-04 12:38:32,723 INFO:\tTrain:\n",
      "2022-11-04 12:38:32,723 INFO:\t\tLoss: 0.8821, Accuracy: 0.5560\n",
      "2022-11-04 12:38:32,724 INFO:\tTest:\n",
      "2022-11-04 12:38:32,725 INFO:\t\tLoss: 0.7856, Accuracy: 0.5469\n",
      "2022-11-04 12:38:32,725 INFO:\tCUDA max memory allocated: [37888/2097152]\n",
      "2022-11-04 12:38:32,980 INFO:Epoch [3/20]\n",
      "2022-11-04 12:38:33,184 INFO:\tTrain:\n",
      "2022-11-04 12:38:33,185 INFO:\t\tLoss: 0.7105, Accuracy: 0.6390\n",
      "2022-11-04 12:38:33,187 INFO:\tTest:\n",
      "2022-11-04 12:38:33,187 INFO:\t\tLoss: 0.6713, Accuracy: 0.6016\n",
      "2022-11-04 12:38:33,188 INFO:\tCUDA max memory allocated: [37888/2097152]\n",
      "2022-11-04 12:38:33,445 INFO:Epoch [4/20]\n",
      "2022-11-04 12:38:33,651 INFO:\tTrain:\n",
      "2022-11-04 12:38:33,651 INFO:\t\tLoss: 0.5952, Accuracy: 0.7155\n",
      "2022-11-04 12:38:33,652 INFO:\tTest:\n",
      "2022-11-04 12:38:33,653 INFO:\t\tLoss: 0.5807, Accuracy: 0.6406\n",
      "2022-11-04 12:38:33,654 INFO:\tCUDA max memory allocated: [37888/2097152]\n",
      "2022-11-04 12:38:33,914 INFO:Epoch [5/20]\n",
      "2022-11-04 12:38:34,111 INFO:\tTrain:\n",
      "2022-11-04 12:38:34,112 INFO:\t\tLoss: 0.5083, Accuracy: 0.7780\n",
      "2022-11-04 12:38:34,112 INFO:\tTest:\n",
      "2022-11-04 12:38:34,113 INFO:\t\tLoss: 0.5086, Accuracy: 0.6875\n",
      "2022-11-04 12:38:34,114 INFO:\tCUDA max memory allocated: [37888/2097152]\n",
      "2022-11-04 12:38:34,371 INFO:Epoch [6/20]\n",
      "2022-11-04 12:38:34,575 INFO:\tTrain:\n",
      "2022-11-04 12:38:34,576 INFO:\t\tLoss: 0.4280, Accuracy: 0.8265\n",
      "2022-11-04 12:38:34,577 INFO:\tTest:\n",
      "2022-11-04 12:38:34,577 INFO:\t\tLoss: 0.4350, Accuracy: 0.8594\n",
      "2022-11-04 12:38:34,578 INFO:\tCUDA max memory allocated: [37888/2097152]\n",
      "2022-11-04 12:38:34,832 INFO:Epoch [7/20]\n",
      "2022-11-04 12:38:35,016 INFO:\tTrain:\n",
      "2022-11-04 12:38:35,017 INFO:\t\tLoss: 0.3620, Accuracy: 0.8599\n",
      "2022-11-04 12:38:35,018 INFO:\tTest:\n",
      "2022-11-04 12:38:35,018 INFO:\t\tLoss: 0.3712, Accuracy: 0.8750\n",
      "2022-11-04 12:38:35,019 INFO:\tCUDA max memory allocated: [37888/2097152]\n",
      "2022-11-04 12:38:35,281 INFO:Epoch [8/20]\n",
      "2022-11-04 12:38:35,467 INFO:\tTrain:\n",
      "2022-11-04 12:38:35,468 INFO:\t\tLoss: 0.3042, Accuracy: 0.9030\n",
      "2022-11-04 12:38:35,469 INFO:\tTest:\n",
      "2022-11-04 12:38:35,470 INFO:\t\tLoss: 0.3146, Accuracy: 0.8906\n",
      "2022-11-04 12:38:35,471 INFO:\tCUDA max memory allocated: [37888/2097152]\n",
      "2022-11-04 12:38:35,728 INFO:Epoch [9/20]\n",
      "2022-11-04 12:38:35,938 INFO:\tTrain:\n",
      "2022-11-04 12:38:35,940 INFO:\t\tLoss: 0.2540, Accuracy: 0.9235\n",
      "2022-11-04 12:38:35,941 INFO:\tTest:\n",
      "2022-11-04 12:38:35,941 INFO:\t\tLoss: 0.2666, Accuracy: 0.9062\n",
      "2022-11-04 12:38:35,942 INFO:\tCUDA max memory allocated: [37888/2097152]\n",
      "2022-11-04 12:38:36,206 INFO:Epoch [10/20]\n",
      "2022-11-04 12:38:36,398 INFO:\tTrain:\n",
      "2022-11-04 12:38:36,399 INFO:\t\tLoss: 0.2139, Accuracy: 0.9364\n",
      "2022-11-04 12:38:36,399 INFO:\tTest:\n",
      "2022-11-04 12:38:36,401 INFO:\t\tLoss: 0.2270, Accuracy: 0.9297\n",
      "2022-11-04 12:38:36,401 INFO:\tCUDA max memory allocated: [37888/2097152]\n",
      "2022-11-04 12:38:36,671 INFO:Epoch [11/20]\n",
      "2022-11-04 12:38:36,854 INFO:\tTrain:\n",
      "2022-11-04 12:38:36,855 INFO:\t\tLoss: 0.1778, Accuracy: 0.9440\n",
      "2022-11-04 12:38:36,856 INFO:\tTest:\n",
      "2022-11-04 12:38:36,856 INFO:\t\tLoss: 0.1959, Accuracy: 0.9375\n",
      "2022-11-04 12:38:36,858 INFO:\tCUDA max memory allocated: [37888/2097152]\n",
      "2022-11-04 12:38:37,132 INFO:Epoch [12/20]\n",
      "2022-11-04 12:38:37,343 INFO:\tTrain:\n",
      "2022-11-04 12:38:37,344 INFO:\t\tLoss: 0.1514, Accuracy: 0.9569\n",
      "2022-11-04 12:38:37,345 INFO:\tTest:\n",
      "2022-11-04 12:38:37,345 INFO:\t\tLoss: 0.1665, Accuracy: 0.9453\n",
      "2022-11-04 12:38:37,346 INFO:\tCUDA max memory allocated: [37888/2097152]\n",
      "2022-11-04 12:38:37,623 INFO:Epoch [13/20]\n",
      "2022-11-04 12:38:37,803 INFO:\tTrain:\n",
      "2022-11-04 12:38:37,804 INFO:\t\tLoss: 0.1301, Accuracy: 0.9655\n",
      "2022-11-04 12:38:37,805 INFO:\tTest:\n",
      "2022-11-04 12:38:37,805 INFO:\t\tLoss: 0.1458, Accuracy: 0.9453\n",
      "2022-11-04 12:38:37,807 INFO:\tCUDA max memory allocated: [37888/2097152]\n",
      "2022-11-04 12:38:38,068 INFO:Epoch [14/20]\n",
      "2022-11-04 12:38:38,253 INFO:\tTrain:\n",
      "2022-11-04 12:38:38,254 INFO:\t\tLoss: 0.1111, Accuracy: 0.9731\n",
      "2022-11-04 12:38:38,255 INFO:\tTest:\n",
      "2022-11-04 12:38:38,256 INFO:\t\tLoss: 0.1271, Accuracy: 0.9609\n",
      "2022-11-04 12:38:38,256 INFO:\tCUDA max memory allocated: [37888/2097152]\n",
      "2022-11-04 12:38:38,539 INFO:Epoch [15/20]\n",
      "2022-11-04 12:38:38,726 INFO:\tTrain:\n",
      "2022-11-04 12:38:38,727 INFO:\t\tLoss: 0.0949, Accuracy: 0.9795\n",
      "2022-11-04 12:38:38,728 INFO:\tTest:\n",
      "2022-11-04 12:38:38,729 INFO:\t\tLoss: 0.1135, Accuracy: 0.9688\n",
      "2022-11-04 12:38:38,730 INFO:\tCUDA max memory allocated: [37888/2097152]\n",
      "2022-11-04 12:38:39,003 INFO:Epoch [16/20]\n",
      "2022-11-04 12:38:39,184 INFO:\tTrain:\n",
      "2022-11-04 12:38:39,185 INFO:\t\tLoss: 0.0871, Accuracy: 0.9817\n",
      "2022-11-04 12:38:39,185 INFO:\tTest:\n",
      "2022-11-04 12:38:39,185 INFO:\t\tLoss: 0.1027, Accuracy: 0.9609\n",
      "2022-11-04 12:38:39,186 INFO:\tCUDA max memory allocated: [37888/2097152]\n",
      "2022-11-04 12:38:39,441 INFO:Epoch [17/20]\n",
      "2022-11-04 12:38:39,630 INFO:\tTrain:\n",
      "2022-11-04 12:38:39,631 INFO:\t\tLoss: 0.0738, Accuracy: 0.9860\n",
      "2022-11-04 12:38:39,632 INFO:\tTest:\n",
      "2022-11-04 12:38:39,632 INFO:\t\tLoss: 0.0930, Accuracy: 0.9609\n",
      "2022-11-04 12:38:39,633 INFO:\tCUDA max memory allocated: [37888/2097152]\n",
      "2022-11-04 12:38:39,900 INFO:Epoch [18/20]\n",
      "2022-11-04 12:38:40,112 INFO:\tTrain:\n",
      "2022-11-04 12:38:40,113 INFO:\t\tLoss: 0.0695, Accuracy: 0.9871\n",
      "2022-11-04 12:38:40,114 INFO:\tTest:\n",
      "2022-11-04 12:38:40,114 INFO:\t\tLoss: 0.0864, Accuracy: 0.9688\n",
      "2022-11-04 12:38:40,115 INFO:\tCUDA max memory allocated: [37888/2097152]\n",
      "2022-11-04 12:38:40,376 INFO:Epoch [19/20]\n",
      "2022-11-04 12:38:40,581 INFO:\tTrain:\n",
      "2022-11-04 12:38:40,582 INFO:\t\tLoss: 0.0688, Accuracy: 0.9774\n",
      "2022-11-04 12:38:40,583 INFO:\tTest:\n",
      "2022-11-04 12:38:40,583 INFO:\t\tLoss: 0.0808, Accuracy: 0.9688\n",
      "2022-11-04 12:38:40,583 INFO:\tCUDA max memory allocated: [37888/2097152]\n",
      "2022-11-04 12:38:40,833 INFO:Epoch [20/20]\n",
      "2022-11-04 12:38:41,015 INFO:\tTrain:\n",
      "2022-11-04 12:38:41,017 INFO:\t\tLoss: 0.0598, Accuracy: 0.9806\n",
      "2022-11-04 12:38:41,017 INFO:\tTest:\n",
      "2022-11-04 12:38:41,018 INFO:\t\tLoss: 0.0773, Accuracy: 0.9688\n",
      "2022-11-04 12:38:41,019 INFO:\tCUDA max memory allocated: [37888/2097152]\n"
     ]
    }
   ],
   "source": [
    "tm = TrainModel(model=model, device=\"cuda\", logging_level=\"INFO\")\n",
    "tm.training_loop(train_loader=train_loader, test_loader=test_loader, epochs=20)"
   ]
  },
  {
   "cell_type": "markdown",
   "metadata": {},
   "source": [
    "Обратите внимание, что с `autocast` используется `BCEWithLogitsLoss`. Это требование PyTorch, в противном случае он выкидывает ошибку:\n",
    "\n",
    "```text\n",
    "torch.nn.functional.binary_cross_entropy and torch.nn.BCELoss are unsafe to autocast. Many models use a sigmoid layer right before the binary cross entropy layer. In this case, combine the two layers using torch.nn.functional.binary_cross_entropy_with_logits or torch.nn.BCEWithLogitsLoss. binary_cross_entropy_with_logits and BCEWithLogits are safe to autocast.\n",
    "```"
   ]
  },
  {
   "cell_type": "markdown",
   "metadata": {},
   "source": [
    "По сути своей `BCEWithLogitsLoss` $\\equiv$ `Sigmoid` + `BCELoss`. Поэтому используя `BCEWithLogitsLoss` на последнем слое сети не нужно добавлять активацию `Sigmoid`, чтобы привести выход из сети к интервалу $\\left[ 0, 1 \\right]$.\n",
    "\n",
    "Доказательство эквивалентности `BCEWithLogitsLoss` $\\equiv$ `Sigmoid` + `BCELoss` приведено ниже"
   ]
  },
  {
   "cell_type": "code",
   "execution_count": 79,
   "metadata": {
    "ExecuteTime": {
     "end_time": "2022-11-03T18:54:06.364398Z",
     "start_time": "2022-11-03T18:54:06.340344Z"
    }
   },
   "outputs": [
    {
     "name": "stdout",
     "output_type": "stream",
     "text": [
      "Sigmoid + BCELoss:\t0.8747\n",
      "BCEWithLogitsLoss:\t0.8747\n"
     ]
    }
   ],
   "source": [
    "import scipy.stats as stats\n",
    "\n",
    "\n",
    "# генерируем outputs (из стандартного нормального распределения) и labels (распределение Бернули)\n",
    "outputs = torch.randn((100, ))\n",
    "targets = torch.from_numpy(stats.bernoulli.rvs(0.3, size=100)).to(torch.float32)\n",
    "\n",
    "loss = nn.BCELoss()(nn.Sigmoid()(outputs), targets).item()\n",
    "loss_logits = nn.BCEWithLogitsLoss()(outputs, targets).item()\n",
    "\n",
    "print(\"Sigmoid + BCELoss:\\t{:.4f}\".format(loss))\n",
    "print(\"BCEWithLogitsLoss:\\t{:.4f}\".format(loss_logits))"
   ]
  },
  {
   "cell_type": "markdown",
   "metadata": {},
   "source": [
    "Как видно, мы получили идентичные результаты."
   ]
  },
  {
   "cell_type": "code",
   "execution_count": null,
   "metadata": {},
   "outputs": [],
   "source": []
  }
 ],
 "metadata": {
  "hide_input": false,
  "kernelspec": {
   "display_name": "Python 3",
   "language": "python",
   "name": "python3"
  },
  "language_info": {
   "codemirror_mode": {
    "name": "ipython",
    "version": 3
   },
   "file_extension": ".py",
   "mimetype": "text/x-python",
   "name": "python",
   "nbconvert_exporter": "python",
   "pygments_lexer": "ipython3",
   "version": "3.8.3"
  },
  "toc": {
   "base_numbering": 1,
   "nav_menu": {},
   "number_sections": true,
   "sideBar": true,
   "skip_h1_title": false,
   "title_cell": "Table of Contents",
   "title_sidebar": "Contents",
   "toc_cell": false,
   "toc_position": {
    "height": "calc(100% - 180px)",
    "left": "10px",
    "top": "150px",
    "width": "303.837px"
   },
   "toc_section_display": true,
   "toc_window_display": true
  },
  "varInspector": {
   "cols": {
    "lenName": 16,
    "lenType": 16,
    "lenVar": 40
   },
   "kernels_config": {
    "python": {
     "delete_cmd_postfix": "",
     "delete_cmd_prefix": "del ",
     "library": "var_list.py",
     "varRefreshCmd": "print(var_dic_list())"
    },
    "r": {
     "delete_cmd_postfix": ") ",
     "delete_cmd_prefix": "rm(",
     "library": "var_list.r",
     "varRefreshCmd": "cat(var_dic_list()) "
    }
   },
   "types_to_exclude": [
    "module",
    "function",
    "builtin_function_or_method",
    "instance",
    "_Feature"
   ],
   "window_display": false
  }
 },
 "nbformat": 4,
 "nbformat_minor": 4
}
